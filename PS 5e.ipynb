{
 "metadata": {
  "name": ""
 },
 "nbformat": 3,
 "nbformat_minor": 0,
 "worksheets": [
  {
   "cells": [
    {
     "cell_type": "heading",
     "level": 2,
     "metadata": {},
     "source": [
      "Problem Set 5e\n",
      "Due on WebAssign Sunday, March 2nd, by 11pm"
     ]
    },
    {
     "cell_type": "code",
     "collapsed": false,
     "input": [
      "#import pylab\n",
      "%pylab inline"
     ],
     "language": "python",
     "metadata": {},
     "outputs": [
      {
       "output_type": "stream",
       "stream": "stdout",
       "text": [
        "Populating the interactive namespace from numpy and matplotlib\n"
       ]
      }
     ],
     "prompt_number": 2
    },
    {
     "cell_type": "heading",
     "level": 4,
     "metadata": {},
     "source": [
      "#1  \n",
      "\n",
      "Tarzan plans to cross a gorge by swinging in an arc from a hanging vine (Fig. 5-41). If his arms are capable of exerting a force of 1900 N on the rope, what is the maximum speed he can tolerate at the lowest point of his swing? His mass is 86 kg and the vine is 4.8 m long."
     ]
    },
    {
     "cell_type": "code",
     "collapsed": false,
     "input": [
      "Tmax = 1900.0 # N -- Tension in rope/max force Tarzan can exert\n",
      "m = 86.0 # kg\n",
      "r = 4.8 # m -- length of rope\n",
      "g = 9.81 # m/s^2"
     ],
     "language": "python",
     "metadata": {},
     "outputs": [],
     "prompt_number": 50
    },
    {
     "cell_type": "markdown",
     "metadata": {},
     "source": [
      "By Newton's 2nd Law,  \n",
      "\n",
      "$$\\Sigma F = T - mg = \\frac{mv^2}{r}$$\n",
      "\n",
      "Solving for v,  \n",
      "\n",
      "$$v = \\sqrt{r\\left(\\frac{T}{m}-g\\right)}$$"
     ]
    },
    {
     "cell_type": "code",
     "collapsed": false,
     "input": [
      "v = np.sqrt(r * (Tmax / m - g))\n",
      "print \"Maximum velocity = %0.4f m/s\" % v"
     ],
     "language": "python",
     "metadata": {},
     "outputs": [
      {
       "output_type": "stream",
       "stream": "stdout",
       "text": [
        "Maximum velocity = 7.6784 m/s\n"
       ]
      }
     ],
     "prompt_number": 51
    },
    {
     "cell_type": "heading",
     "level": 4,
     "metadata": {},
     "source": [
      "#2\n",
      "\n",
      "A jet pilot takes his aircraft in a vertical loop.\n",
      "\n",
      "(a) If the jet is moving at a speed of 1400 km/h at the lowest point of the loop, determine the minimum radius of the circle so that the centripetal acceleration at the lowest point does not exceed 6.0 g's."
     ]
    },
    {
     "cell_type": "markdown",
     "metadata": {},
     "source": [
      "At it's highest, the centripetal acceleration is 6.0g.  Therefore,  \n",
      "\n",
      "$$\\frac{v^2}{r_{\\text{min}}} = 6g$$\n",
      "\n",
      "Solving for $r_{\\text{min}}$,  \n",
      "\n",
      "$$r_{\\text{min}} = \\frac{v^2}{6g}$$"
     ]
    },
    {
     "cell_type": "code",
     "collapsed": false,
     "input": [
      "v = 1400.0 * 1000.0 / 3600.0 # m/s (from km/h)\n",
      "g = 9.81 # m/s^2\n",
      "\n",
      "rmin = v**2 / (6.0 * g)\n",
      "print \"Smallest radius = %0.3f m\" % rmin"
     ],
     "language": "python",
     "metadata": {},
     "outputs": [
      {
       "output_type": "stream",
       "stream": "stdout",
       "text": [
        "Smallest radius = 2569.395 m\n"
       ]
      }
     ],
     "prompt_number": 20
    },
    {
     "cell_type": "markdown",
     "metadata": {},
     "source": [
      "At the bottom of the path, 2nd Law gives us:  \n",
      "\n",
      "$$\\Sigma F = N - mg = 6mg$$\n",
      "\n",
      "Where $N$ is the normal force of the pilot's seat upwards.\n",
      "\n",
      "Solving for $N$,  \n",
      "\n",
      "$$N = 7mg$$\n",
      "\n",
      "At the top of the loop,  \n",
      "\n",
      "$$\\Sigma F = N + mg = 6mg$$\n",
      "\n",
      "Solving for $N$,  \n",
      "\n",
      "$$N = 5mg$$"
     ]
    },
    {
     "cell_type": "code",
     "collapsed": false,
     "input": [
      "m = 72 # kg (mass of pilot)\n",
      "wbottom = 7.0 * m * g\n",
      "wtop = 5.0 * m * g\n",
      "\n",
      "print \"Effective weight of the pilot at the bottom = %0.3f N\" % wbottom\n",
      "print \"Effective weight of the pilot at the top = %0.3f N\" % wtop"
     ],
     "language": "python",
     "metadata": {},
     "outputs": [
      {
       "output_type": "stream",
       "stream": "stdout",
       "text": [
        "Effective weight of the pilot at the bottom = 4944.240 N\n",
        "Effective weight of the pilot at the top = 3531.600 N\n"
       ]
      }
     ],
     "prompt_number": 21
    },
    {
     "cell_type": "heading",
     "level": 4,
     "metadata": {},
     "source": [
      "#3\n",
      "\n",
      "A curve of radius 30 m is banked for a design speed of 70 km/h. If the coefficient of static friction is 0.30 (wet pavement), at what range of speeds can a car safely make the curve?"
     ]
    },
    {
     "cell_type": "code",
     "collapsed": false,
     "input": [
      "r = 30 # m\n",
      "v = 70.0 * 1000.0 / 3600.0 # m/s (from km/h)\n",
      "mu = 0.3"
     ],
     "language": "python",
     "metadata": {},
     "outputs": [],
     "prompt_number": 22
    },
    {
     "cell_type": "heading",
     "level": 4,
     "metadata": {},
     "source": [
      "#4  \n",
      "\n",
      "Two equal-mass stars maintain a constant distance apart of 7.5 \u2715 1010 m and rotate about a point midway between them at a rate of one revolution every 12.2 yr.\n"
     ]
    },
    {
     "cell_type": "code",
     "collapsed": false,
     "input": [
      "G = 6.67e-11 # Univ Grav Const\n",
      "T = 12.2 * 365.0 * 24.0 * 3600.0 # Number of seconds in 12.2 years\n",
      "d = 7.5e10 # Separation distance of stars"
     ],
     "language": "python",
     "metadata": {},
     "outputs": [],
     "prompt_number": 33
    },
    {
     "cell_type": "markdown",
     "metadata": {},
     "source": [
      "Using Newton's version of Kepler's 3rd Law:\n",
      "$$T^2 = \\frac{4\\pi^2}{G\\left(M+M\\right)}r^3$$\n",
      "\n",
      "Solving for $M$,  \n",
      "\n",
      "$$M = \\frac{2\\pi^2}{GT^2}d^3$$\n",
      "\n",
      "OR, starting from ULG:\n",
      "\n",
      "$$\\frac{GMM}{r^2} = \\frac{Mv^2}{r}$$\n",
      "\n",
      "Solving for $M$:\n",
      "\n",
      "$$M = \\frac{rv^2}{G}$$\n",
      "\n",
      "Since $v = 2\\pi r / T = \\pi / T$,\n",
      "$$M = \\frac{2\\pi^2d^3}{GT^2}$$\n"
     ]
    },
    {
     "cell_type": "code",
     "collapsed": false,
     "input": [
      "M = 2.0 * np.pi**2 * d**3 / (G*T**2)\n",
      "print \"M = %s kg\" % M"
     ],
     "language": "python",
     "metadata": {},
     "outputs": [
      {
       "output_type": "stream",
       "stream": "stdout",
       "text": [
        "M = 8.43441220763e+26 kg\n"
       ]
      }
     ],
     "prompt_number": 39
    },
    {
     "cell_type": "heading",
     "level": 4,
     "metadata": {},
     "source": [
      "#5 A train traveling at a constant speed rounds a curve of radius 325 m. A chandelier suspended from the ceiling swings out to an angle of 17.0\u00b0 throughout the turn. What is the speed of the train?"
     ]
    },
    {
     "cell_type": "markdown",
     "metadata": {},
     "source": [
      "From Newton's 2nd Law:\n",
      "\n",
      "$$\\Sigma F_{y} = T\\cos\\theta - mg = 0$$\n",
      "$$\\Sigma F_{x} = T\\sin\\theta = \\frac{mv^2}{r}$$\n",
      "\n",
      "Combining equations and eliminating $T$,  \n",
      "\n",
      "$$mg \\tan\\theta = \\frac{mv^2}{r}$$\n",
      "\n",
      "Dividing both sides by $m$ and solving for $v$:\n",
      "\n",
      "$$v = \\sqrt{rg\\tan\\theta}$$"
     ]
    },
    {
     "cell_type": "code",
     "collapsed": false,
     "input": [
      "theta = 16.5 * np.pi / 180.0\n",
      "r = 225.0 # m\n",
      "g = 9.81 # m/s^2\n",
      "\n",
      "v = np.sqrt(r * g * np.tan(theta))\n",
      "print \"v = %0.3f m/s\" % v"
     ],
     "language": "python",
     "metadata": {},
     "outputs": [
      {
       "output_type": "stream",
       "stream": "stdout",
       "text": [
        "v = 25.570 m/s\n"
       ]
      }
     ],
     "prompt_number": 3
    },
    {
     "cell_type": "code",
     "collapsed": false,
     "input": [
      "a = 0.72\n",
      "\n",
      "T = a ** (3./2.)"
     ],
     "language": "python",
     "metadata": {},
     "outputs": [],
     "prompt_number": 13
    },
    {
     "cell_type": "code",
     "collapsed": false,
     "input": [
      "T"
     ],
     "language": "python",
     "metadata": {},
     "outputs": [
      {
       "metadata": {},
       "output_type": "pyout",
       "prompt_number": 14,
       "text": [
        "0.610940258945177"
       ]
      }
     ],
     "prompt_number": 14
    },
    {
     "cell_type": "code",
     "collapsed": false,
     "input": [],
     "language": "python",
     "metadata": {},
     "outputs": []
    }
   ],
   "metadata": {}
  }
 ]
}