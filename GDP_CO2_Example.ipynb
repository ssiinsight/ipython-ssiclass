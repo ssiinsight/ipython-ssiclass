{
 "metadata": {
  "name": "GDP_CO2_Example"
 },
 "nbformat": 3,
 "nbformat_minor": 0,
 "worksheets": [
  {
   "cells": [
    {
     "cell_type": "markdown",
     "metadata": {},
     "source": [
      "## IPython + d3.js\n",
      "\n",
      "- What is IPython?\n",
      "\n",
      "- IPython has mutiple frontend including a web-based frontend\n",
      "\n",
      "- The web-based frontend is cool, but it is indeed nothing more than a html document\n",
      "\n",
      "- Poeple do all sort of tricks with web/html... Great visulization tool avaiable too, e.g. protovis, d3.js, etc.\n",
      "\n",
      "- What if we can combine both, IPython Notebook + d3.js?\n",
      "\n",
      "- Yes, one can display some new html element + javascript on the ipython notebook frontend\n",
      "\n",
      "- Yes, we can acutally call IPython kernel through Javascript...\n",
      "\n",
      "- Yes, it is possible to build some cool \"interactive\" Ipython Notebook\n",
      "\n",
      "- More work to be done, the fun is just starting."
     ]
    },
    {
     "cell_type": "markdown",
     "metadata": {},
     "source": [
      "**This note book currently works with the ipython fork on github \n",
      "https://github.com/cschin/ipython\n",
      "commit: 3a34d3b0c4d42bb1ef7b42660b12d429936cb287**"
     ]
    },
    {
     "cell_type": "markdown",
     "metadata": {},
     "source": [
      "## What is IPython?\n",
      "\n",
      "IPython has mutiple frontend including a web-based frontend (with cool latex support too, e.g. $S = k \\log \\Omega$.)"
     ]
    },
    {
     "cell_type": "code",
     "collapsed": false,
     "input": [
      "print \"Hello World\"\n",
      "print 1+1"
     ],
     "language": "python",
     "metadata": {},
     "outputs": [
      {
       "output_type": "stream",
       "stream": "stdout",
       "text": [
        "Hello World\n",
        "2\n"
       ]
      }
     ],
     "prompt_number": 1
    },
    {
     "cell_type": "markdown",
     "metadata": {},
     "source": [
      "One can display simple static plot throught `matplotlib/pylab`. (There is a html5 canvans frontend for `matplotlib` (http://code.google.com/p/mplh5canvas/) but I am not aware of any integration work with ipython notebook at this moment."
     ]
    },
    {
     "cell_type": "code",
     "collapsed": false,
     "input": [
      "#import numpy as np\n",
      "#x = np.array(range(100))*0.1\n",
      "#plot(x, sin(x))"
     ],
     "language": "python",
     "metadata": {},
     "outputs": [],
     "prompt_number": 2
    },
    {
     "cell_type": "markdown",
     "metadata": {},
     "source": [
      "## Poeple do all sort of tricks with web/html... Great visulization tool avaiable too, e.g. protovis, d3.js, etc.\n",
      "\n",
      "http://mbostock.github.com/d3/ #d3.js\n",
      "\n",
      "https://github.com/mrdoob/three.js/ #webGL\n",
      "\n",
      "http://www.meetup.com/VisualizeMyData/events/47408532/ #a number cool poeple show their visulization work in this meet-up."
     ]
    },
    {
     "cell_type": "markdown",
     "metadata": {},
     "source": [
      "## What if we can combine both, IPython Notebook + d3.js?\n",
      "\n",
      "http://mail.scipy.org/pipermail/ipython-dev/2012-January/008683.html"
     ]
    },
    {
     "cell_type": "markdown",
     "metadata": {},
     "source": [
      "Get some data first. (The original data is download from http://www.gapminder.org/)"
     ]
    },
    {
     "cell_type": "code",
     "collapsed": false,
     "input": [
      "import time\n",
      "\n",
      "kdata = {}\n",
      "\n",
      "def get_data(kd, fn, n):\n",
      "    with open(fn) as f:\n",
      "        head = f.readline()\n",
      "        years = head.strip().split(\",\")[1:]\n",
      "        for l in f:\n",
      "            l = l.strip().split(\",\")\n",
      "            country_name, rdata = l[0],l[1:]\n",
      "            for i in range(len(rdata)):\n",
      "                try:\n",
      "                    year = years[i]\n",
      "                    d = float(rdata[i])\n",
      "                    key = country_name, year\n",
      "                    kd.setdefault(key,[None]*3)\n",
      "                    kd[key][n] = d\n",
      "                except:\n",
      "                    pass\n",
      "                \n",
      "get_data(kdata, \"gm_data/GDPpercapitaconstant2000US.csv\", 0)\n",
      "get_data(kdata, \"gm_data/indicatorCDIACcarbon_dioxide_emissions_per_capita.csv\", 1)\n",
      "get_data(kdata, \"gm_data/indicatorgapminderpopulation.csv\", 2)"
     ],
     "language": "python",
     "metadata": {},
     "outputs": [],
     "prompt_number": 3
    },
    {
     "cell_type": "markdown",
     "metadata": {},
     "source": [
      "The data directionary is a simple map from (country, year) to three numbers, GDP per capita, CO2 emissions per capita and population."
     ]
    },
    {
     "cell_type": "code",
     "collapsed": false,
     "input": [
      "kdata.items()[200:210]"
     ],
     "language": "python",
     "metadata": {},
     "outputs": [
      {
       "output_type": "pyout",
       "prompt_number": 4,
       "text": [
        "[(('Colombia', '1975'), [1657.692124, 1.49, 23960605.0]),\n",
        " (('Gambia', '1980'), [346.4438104, 0.24, 629786.0]),\n",
        " (('Eritrea and Ethiopia', '1977'), [None, None, 37130441.0]),\n",
        " (('Trinidad and Tobago', '1989'), [4855.846644, None, 1207942.0]),\n",
        " (('Uruguay', '1892'), [None, None, 727000.0]),\n",
        " (('Poland', '1999'), [4249.803247, 8.14, 38336047.0]),\n",
        " (('Burundi', '1977'), [144.0828768, 0.03, 3819115.0]),\n",
        " (('Zambia', '1968'), [589.0049757, 1.14, 3880914.0]),\n",
        " (('Martinique', '1959'), [None, 0.6, 274714.0]),\n",
        " (('Vanuatu', '1967'), [None, 1.08, 78520.0])]"
       ]
      }
     ],
     "prompt_number": 4
    },
    {
     "cell_type": "markdown",
     "metadata": {},
     "source": [
      "## Yes, one can display some new html element + javascript on the ipython notebook frontend"
     ]
    },
    {
     "cell_type": "code",
     "collapsed": true,
     "input": [
      "from IPython.core.display import display_javascript, display_html"
     ],
     "language": "python",
     "metadata": {},
     "outputs": [],
     "prompt_number": 5
    },
    {
     "cell_type": "markdown",
     "metadata": {},
     "source": [
      "Load d3.js (You need to have a d3.js in your ipython installation.) Wait two second to make sure the brower loads it."
     ]
    },
    {
     "cell_type": "code",
     "collapsed": false,
     "input": [
      "%install_ext https://raw.github.com/cschin/ipython_d3_mashup/master/extension/visutils.py\n",
      "%reload_ext visutils\n",
      "vis.run_js(\"$.getScript('http://d3js.org/d3.v2.js')\")\n",
      "vis.run_js(\"$.getScript('https://raw.github.com/cschin/ipython_d3_mashup/master/extension/vis_extension.js')\")\n",
      "time.sleep(2)\n",
      "vis.run_js(\"IPython.vis_init();\")"
     ],
     "language": "python",
     "metadata": {},
     "outputs": [
      {
       "output_type": "stream",
       "stream": "stdout",
       "text": [
        "Installed visutils.py. To use it, type:\n",
        "  %load_ext visutils\n"
       ]
      },
      {
       "javascript": [
        "$.getScript('http://d3js.org/d3.v2.js')"
       ],
       "output_type": "display_data"
      },
      {
       "javascript": [
        "$.getScript('https://raw.github.com/cschin/ipython_d3_mashup/master/extension/vis_extension.js')"
       ],
       "output_type": "display_data"
      },
      {
       "javascript": [
        "IPython.vis_init();"
       ],
       "output_type": "display_data"
      }
     ],
     "prompt_number": 6
    },
    {
     "cell_type": "markdown",
     "metadata": {},
     "source": [
      "Get some place in the ipython notebook to display the plot. Some better design for get some space for a plotting widget should be considered."
     ]
    },
    {
     "cell_type": "code",
     "collapsed": false,
     "input": [
      "js = \"\"\"\n",
      "IPython.vis_init();\n",
      "IPython.vis_utils.insert_vis_cell(\"vis\");\n",
      "var vc = IPython.vis_utils.name_to_viscell[\"vis\"];\n",
      "\"\"\"\n",
      "display_javascript(js, raw=True)"
     ],
     "language": "python",
     "metadata": {},
     "outputs": [
      {
       "javascript": [
        "\n",
        "IPython.vis_init();\n",
        "IPython.vis_utils.insert_vis_cell(\"vis\");\n",
        "var vc = IPython.vis_utils.name_to_viscell[\"vis\"];\n"
       ],
       "output_type": "display_data"
      }
     ],
     "prompt_number": 7
    },
    {
     "cell_type": "code",
     "collapsed": false,
     "input": [
      "display_javascript(\"\"\"$(\"#notebook\").width(750);\"\"\", raw=True)\n",
      "#display_html(\"\"\"<div id=\"chart\" style=\"position:absolute;top:0px;width:500px;left:750px;height:450px;border:2px solid;\"></div>\"\"\", raw=True)\n",
      "\n",
      "js=\"\"\"\n",
      "var svg = d3.select(\"#vis\")\n",
      "    .append(\"svg\")\n",
      "    .attr(\"width\", 500)\n",
      "    .attr(\"height\", 450);\n",
      "\"\"\"\n",
      "display_javascript(js, raw=True)"
     ],
     "language": "python",
     "metadata": {},
     "outputs": [
      {
       "javascript": [
        "$(\"#notebook\").width(750);"
       ],
       "output_type": "display_data"
      },
      {
       "javascript": [
        "\n",
        "var svg = d3.select(\"#vis\")\n",
        "    .append(\"svg\")\n",
        "    .attr(\"width\", 500)\n",
        "    .attr(\"height\", 450);\n"
       ],
       "output_type": "display_data"
      }
     ],
     "prompt_number": 8
    },
    {
     "cell_type": "markdown",
     "metadata": {},
     "source": [
      "set up the scales for d3.js ( example from http://www.12devsofxmas.co.uk/2012/01/data-visualisation/ )"
     ]
    },
    {
     "cell_type": "code",
     "collapsed": false,
     "input": [
      "maxx = max( d[0] for d in kdata.values() )\n",
      "maxy = max( d[1] for d in kdata.values() )\n",
      "\n",
      "js = \"\"\"\n",
      "var vc = IPython.vis_utils.name_to_viscell[\"vis\"];\n",
      "vc.data.maxx = %f;\n",
      "vc.data.maxy = %f; \"\"\" % (maxx, maxy)\n",
      "\n",
      "js+=\"\"\"\n",
      "var vis = d3.select(\"#vis svg\");\n",
      "var maxx = vc.data.maxx;\n",
      "var maxy = vc.data.maxy;\n",
      "var WIDTH = 500;\n",
      "var HEIGHT = 400;\n",
      "var MARGINS = {top: 20, right: 20, bottom: 20, left: 100};\n",
      "\n",
      "vc.data.xRange = d3.scale\n",
      "           .log()\n",
      "           .range ([MARGINS.left, WIDTH - MARGINS.right])\n",
      "           .domain([10, maxx]);\n",
      "\n",
      "vc.data.yRange = d3.scale\n",
      "           .log()\n",
      "           .range ([HEIGHT - MARGINS.top, MARGINS.bottom])\n",
      "           .domain([0.001, maxy*5]);\n",
      "\n",
      "var xAxis = d3.svg.axis() // generate an axis\n",
      ".scale(vc.data.xRange) // set the range of the axis\n",
      ".tickSize(5) // height of the ticks\n",
      ".tickSubdivide(false); // display ticks between text labels\n",
      "\n",
      "var yAxis = d3.svg.axis() // generate an axis\n",
      ".scale(vc.data.yRange) // set the range of the axis\n",
      ".tickSize(5) // width of the ticks\n",
      ".orient(\"left\") // have the text labels on the left hand side\n",
      ".tickSubdivide(false); // display ticks between text labels\n",
      "\n",
      "vis.append(\"svg:g\") // add a container for the axis\n",
      ".attr(\"class\", \"x axis\") // add some classes so we can style it\n",
      ".attr(\"transform\", \"translate(0,\" + (HEIGHT - MARGINS.bottom) + \")\") // move it into position\n",
      ".call(xAxis); // finally, add the axis to the visualisation\n",
      "\n",
      "vis.append(\"svg:g\")\n",
      ".attr(\"class\", \"y axis\")\n",
      ".attr(\"transform\", \"translate(\" + (MARGINS.left) + \",0)\")\n",
      ".call(yAxis);\n",
      "\n",
      "var vis = d3.select(\"#vis svg\");\n",
      "vis.append(\"g\").attr(\"id\", \"datapoints\");\n",
      "\n",
      "vis.append(\"text\")\n",
      "   .attr(\"id\",\"countryname\")\n",
      "   .attr(\"x\", \"200\")\n",
      "   .attr(\"y\", \"50\")\n",
      "   .text(function(d){return \"country\"});\n",
      "vis.append(\"text\")\n",
      "   .attr(\"id\",\"year\")\n",
      "   .attr(\"x\", \"200\")\n",
      "   .attr(\"y\", \"70\")\n",
      "   .text(function(d){return \"year\"});\n",
      "\"\"\"\n",
      "\n",
      "display_javascript(js, raw=True)"
     ],
     "language": "python",
     "metadata": {},
     "outputs": [
      {
       "javascript": [
        "\n",
        "var vc = IPython.vis_utils.name_to_viscell[\"vis\"];\n",
        "vc.data.maxx = 77880.324180;\n",
        "vc.data.maxy = 136.540000; \n",
        "var vis = d3.select(\"#vis svg\");\n",
        "var maxx = vc.data.maxx;\n",
        "var maxy = vc.data.maxy;\n",
        "var WIDTH = 500;\n",
        "var HEIGHT = 400;\n",
        "var MARGINS = {top: 20, right: 20, bottom: 20, left: 100};\n",
        "\n",
        "vc.data.xRange = d3.scale\n",
        "           .log()\n",
        "           .range ([MARGINS.left, WIDTH - MARGINS.right])\n",
        "           .domain([10, maxx]);\n",
        "\n",
        "vc.data.yRange = d3.scale\n",
        "           .log()\n",
        "           .range ([HEIGHT - MARGINS.top, MARGINS.bottom])\n",
        "           .domain([0.001, maxy*5]);\n",
        "\n",
        "var xAxis = d3.svg.axis() // generate an axis\n",
        ".scale(vc.data.xRange) // set the range of the axis\n",
        ".tickSize(5) // height of the ticks\n",
        ".tickSubdivide(false); // display ticks between text labels\n",
        "\n",
        "var yAxis = d3.svg.axis() // generate an axis\n",
        ".scale(vc.data.yRange) // set the range of the axis\n",
        ".tickSize(5) // width of the ticks\n",
        ".orient(\"left\") // have the text labels on the left hand side\n",
        ".tickSubdivide(false); // display ticks between text labels\n",
        "\n",
        "vis.append(\"svg:g\") // add a container for the axis\n",
        ".attr(\"class\", \"x axis\") // add some classes so we can style it\n",
        ".attr(\"transform\", \"translate(0,\" + (HEIGHT - MARGINS.bottom) + \")\") // move it into position\n",
        ".call(xAxis); // finally, add the axis to the visualisation\n",
        "\n",
        "vis.append(\"svg:g\")\n",
        ".attr(\"class\", \"y axis\")\n",
        ".attr(\"transform\", \"translate(\" + (MARGINS.left) + \",0)\")\n",
        ".call(yAxis);\n",
        "\n",
        "var vis = d3.select(\"#vis svg\");\n",
        "vis.append(\"g\").attr(\"id\", \"datapoints\");\n",
        "\n",
        "vis.append(\"text\")\n",
        "   .attr(\"id\",\"countryname\")\n",
        "   .attr(\"x\", \"200\")\n",
        "   .attr(\"y\", \"50\")\n",
        "   .text(function(d){return \"country\"});\n",
        "vis.append(\"text\")\n",
        "   .attr(\"id\",\"year\")\n",
        "   .attr(\"x\", \"200\")\n",
        "   .attr(\"y\", \"70\")\n",
        "   .text(function(d){return \"year\"});\n"
       ],
       "output_type": "display_data"
      }
     ],
     "prompt_number": 9
    },
    {
     "cell_type": "markdown",
     "metadata": {},
     "source": [
      "Set up two text elements to show country name and the year."
     ]
    },
    {
     "cell_type": "code",
     "collapsed": false,
     "input": [
      "js = \"\"\"\n",
      "var vc = IPython.vis_utils.name_to_viscell[\"vis\"];\n",
      "vc.data.update_countryname = function(name) {\n",
      "    var vis = d3.select(\"#vis svg\");\n",
      "    vis.selectAll(\"#countryname\")\n",
      "       .data([name])\n",
      "       .transition()\n",
      "       .text(function(d){return d});\n",
      "}\n",
      "\"\"\"\n",
      "display_javascript(js, raw=True)  "
     ],
     "language": "python",
     "metadata": {},
     "outputs": [
      {
       "javascript": [
        "\n",
        "var vc = IPython.vis_utils.name_to_viscell[\"vis\"];\n",
        "vc.data.update_countryname = function(name) {\n",
        "    var vis = d3.select(\"#vis svg\");\n",
        "    vis.selectAll(\"#countryname\")\n",
        "       .data([name])\n",
        "       .transition()\n",
        "       .text(function(d){return d});\n",
        "}\n"
       ],
       "output_type": "display_data"
      }
     ],
     "prompt_number": 10
    },
    {
     "cell_type": "markdown",
     "metadata": {},
     "source": [
      "The `show_data_for_year()` is a python function that runs on the ipython kernel but ouputs to the ipython notebook fronend. "
     ]
    },
    {
     "cell_type": "code",
     "collapsed": true,
     "input": [
      "import json\n",
      "\n",
      "def show_data_for_year(y):\n",
      "    data_to_show = []\n",
      "    for k in kdata:\n",
      "        if k[1] != y:\n",
      "            continue\n",
      "        d = kdata[k]\n",
      "        if d[0] == None: continue\n",
      "        if d[1] == None: continue\n",
      "        data_to_show.append([k[0], d[0], d[1]])\n",
      "\n",
      "    js=\"\"\"\n",
      "    var vc = IPython.vis_utils.name_to_viscell[\"vis\"];\n",
      "    var vis = d3.select(\"#vis svg\");\n",
      "    var circles = vis.selectAll(\"g#datapoints\")\n",
      "                 .selectAll(\"circle\")\n",
      "                 .data(%s, function(d) {return d[0];});\n",
      "    \n",
      "    circles.enter()\n",
      "           .insert(\"circle\")\n",
      "           .attr(\"cx\", function(d){return vc.data.xRange(d[1]);})\n",
      "           .attr(\"cy\", function(d){return vc.data.yRange(d[2]);})\n",
      "           .attr(\"r\", function(d){return 6;})\n",
      "           .attr(\"fill-opacity\", function(d){return 0.5;})\n",
      "           .style(\"fill\", \"red\")\n",
      "           .on(\"mouseover\", function(d) { return vc.data.update_countryname(d[0]) ;})\n",
      "           .on(\"mouseout\", function(d) { return vc.data.update_countryname(\"\") ;}) ;\n",
      "\n",
      "    circles.transition()\n",
      "           .duration(1000)\n",
      "           .attr(\"cx\", function (d) { return vc.data.xRange(d[1]); })\n",
      "           .attr(\"cy\", function (d) { return vc.data.yRange(d[2]); })\n",
      "           .attr(\"r\", function (d) { return 6; })\n",
      "           .style(\"fill\", \"blue\");\n",
      "    \n",
      "    circles.exit ()\n",
      "           .transition().duration(1000)\n",
      "           .attr(\"r\", 0)\n",
      "           .remove();\n",
      "\n",
      "    vis.selectAll(\"#year\")\n",
      "       .data([%s])\n",
      "       .transition()\n",
      "       .text(function(d){return d});\n",
      "\n",
      "    \"\"\" % (json.dumps(data_to_show), y)\n",
      "    display_javascript(js, raw=True)"
     ],
     "language": "python",
     "metadata": {},
     "outputs": [],
     "prompt_number": 11
    },
    {
     "cell_type": "markdown",
     "metadata": {},
     "source": [
      "Loop through the years and call the python function `show_data_for_year()` to generate an animation.  This demostrates how to control the frontend html presentation from the python code."
     ]
    },
    {
     "cell_type": "code",
     "collapsed": false,
     "input": [
      "years = set()\n",
      "for k in kdata:\n",
      "    if k[1] not in years:\n",
      "        years.add(k[1])\n",
      "years = list(years)\n",
      "years.sort()\n",
      "\n",
      "for y in years[-50:-5:2]:\n",
      "    show_data_for_year(y)\n",
      "    time.sleep(1)"
     ],
     "language": "python",
     "metadata": {},
     "outputs": [
      {
       "javascript": [
        "\n",
        "    var vc = IPython.vis_utils.name_to_viscell[\"vis\"];\n",
        "    var vis = d3.select(\"#vis svg\");\n",
        "    var circles = vis.selectAll(\"g#datapoints\")\n",
        "                 .selectAll(\"circle\")\n",
        "                 .data([[\"\\\"Hong Kong\", 4071.588216, 1.24], [\"Seychelles\", 2576.508025, 0.16], [\"United States\", 15740.58811, 17.21], [\"Liberia\", 671.4223062, 0.41], [\"Austria\", 8746.555254, 5.39], [\"Brazil\", 1556.558633, 0.7], [\"Fiji\", 1160.38592, 0.94], [\"Nigeria\", 309.432946, 0.17], [\"Tunisia\", 726.2868831, 0.62], [\"Finland\", 8568.930146, 5.02], [\"Malta\", 1132.949721, 1.54], [\"Iceland\", 12256.07411, 6.93], [\"El Salvador\", 1688.405635, 0.42], [\"Spain\", 5063.019079, 2.03], [\"Chad\", 237.5067568, 0.03], [\"Nepal\", 147.3367754, 0.01], [\"Ecuador\", 866.8706249, 0.43], [\"Honduras\", 773.8572018, 0.32], [\"Ghana\", 285.1786561, 0.21], [\"Turkey\", 1753.398951, 0.84], [\"Oman\", 1096.041629, 0.02], [\"Barbados\", 3895.338449, 0.77], [\"Kenya\", 264.9272411, 0.31], [\"United Kingdom\", 11537.11203, 11.27], [\"Japan\", 10120.43227, 3.67], [\"Saint Vincent and the Grenadines\", 1117.50359, 0.22], [\"Israel\", 7280.286668, 3.66], [\"Guatemala\", 1070.63841, 0.4], [\"Portugal\", 2909.107165, 1.21], [\"Argentina\", 5362.290424, 2.54], [\"New Zealand\", 8848.131664, 5.06], [\"Nicaragua\", 1186.560279, 0.56], [\"Belgium\", 8983.835904, 11.07], [\"Ireland\", 5884.559017, 4.97], [\"Panama\", 2074.558126, 0.97], [\"Denmark\", 13661.15623, 9.08], [\"Canada\", 10774.65252, 12.06], [\"Sierra Leone\", 234.5352375, 0.12], [\"Bermuda\", 23367.22716, 4.19], [\"Kuwait\", 52684.29619, 58.47], [\"France\", 8928.416751, 7.14], [\"China\", 88.13005164, 0.63], [\"Indonesia\", 198.4808807, 0.22], [\"Zambia\", 553.5658406, 0.91], [\"Costa Rica\", 1829.1308, 0.47], [\"Cameroon\", 521.9728456, 0.06], [\"Gabon\", 2436.782941, 0.41], [\"Netherlands\", 9751.746802, 7.99], [\"Paraguay\", 697.4581949, 0.2], [\"Sweden\", 13722.65434, 7.89], [\"Switzerland\", 21974.11948, 4.78], [\"Burundi\", 95.56318055, 0.02], [\"Zimbabwe\", 463.0607947, 0.99], [\"Benin\", 284.565664, 0.06], [\"Rwanda\", 168.1278271, 0.01], [\"Italy\", 7052.866374, 3.41], [\"Sudan\", 264.7000407, 0.16], [\"Chile\", 1987.485611, 2.1], [\"India\", 202.0632824, 0.32], [\"Singapore\", 2506.638315, 2.01], [\"Hungary\", 1762.665817, 6.16], [\"Colombia\", 1221.755428, 1.2], [\"Syria\", 580.5300676, 0.85], [\"Uruguay\", 4279.240171, 1.71], [\"Sri Lanka\", 291.6894134, 0.21], [\"Papua New Guinea\", 476.2791998, 0.14], [\"Mexico\", 3000.405039, 1.7], [\"Algeria\", 1170.323996, 0.49], [\"Bolivia\", 984.6297665, 0.39], [\"Togo\", 240.6418664, 0.08], [\"Philippines\", 662.5981289, 0.4], [\"Malawi\", 98.32351562, 0.09], [\"Luxembourg\", 15317.79413, 37.54], [\"Bahamas\", 11544.26016, 8.12], [\"Norway\", 12348.00296, 4.38], [\"Central African Rep.\", 339.0776091, 0.05], [\"Guyana\", 633.0553575, 1.04], [\"Venezuela\", 6053.674865, 6.47], [\"Egypt\", 513.0474134, 0.86], [\"\\\"Korea\", 1204.107944, 0.78], [\"Madagascar\", 399.2409333, 0.08], [\"Peru\", 1887.371105, 1.1], [\"Belize\", 1003.241675, 0.81], [\"South Africa\", 2530.648158, 6.18], [\"Thailand\", 366.8451679, 0.24], [\"Greece\", 4501.097288, 1.55], [\"Burkina Faso\", 132.2475981, 0.02], [\"\\\"Congo\", 626.5444568, 0.22], [\"Senegal\", 592.3728923, 0.25], [\"Niger\", 352.8274614, 0.02], [\"Cote d'Ivoire\", 741.067127, 0.18], [\"Morocco\", 675.3605812, 0.32], [\"Dominican Rep.\", 1026.147553, 0.47]], function(d) {return d[0];});\n",
        "    \n",
        "    circles.enter()\n",
        "           .insert(\"circle\")\n",
        "           .attr(\"cx\", function(d){return vc.data.xRange(d[1]);})\n",
        "           .attr(\"cy\", function(d){return vc.data.yRange(d[2]);})\n",
        "           .attr(\"r\", function(d){return 6;})\n",
        "           .attr(\"fill-opacity\", function(d){return 0.5;})\n",
        "           .style(\"fill\", \"red\")\n",
        "           .on(\"mouseover\", function(d) { return vc.data.update_countryname(d[0]) ;})\n",
        "           .on(\"mouseout\", function(d) { return vc.data.update_countryname(\"\") ;}) ;\n",
        "\n",
        "    circles.transition()\n",
        "           .duration(1000)\n",
        "           .attr(\"cx\", function (d) { return vc.data.xRange(d[1]); })\n",
        "           .attr(\"cy\", function (d) { return vc.data.yRange(d[2]); })\n",
        "           .attr(\"r\", function (d) { return 6; })\n",
        "           .style(\"fill\", \"blue\");\n",
        "    \n",
        "    circles.exit ()\n",
        "           .transition().duration(1000)\n",
        "           .attr(\"r\", 0)\n",
        "           .remove();\n",
        "\n",
        "    vis.selectAll(\"#year\")\n",
        "       .data([1964])\n",
        "       .transition()\n",
        "       .text(function(d){return d});\n",
        "\n",
        "    "
       ],
       "output_type": "display_data"
      },
      {
       "javascript": [
        "\n",
        "    var vc = IPython.vis_utils.name_to_viscell[\"vis\"];\n",
        "    var vis = d3.select(\"#vis svg\");\n",
        "    var circles = vis.selectAll(\"g#datapoints\")\n",
        "                 .selectAll(\"circle\")\n",
        "                 .data([[\"Nigeria\", 297.2238627, 0.28], [\"Malta\", 1331.059718, 1.31], [\"Iceland\", 13800.72219, 7.65], [\"Dominican Rep.\", 956.0544471, 0.43], [\"Spain\", 5649.920284, 2.4], [\"Chad\", 224.8216231, 0.02], [\"Sri Lanka\", 299.2760605, 0.23], [\"Seychelles\", 2475.7341, 0.15], [\"United States\", 17193.52297, 18.43], [\"Ecuador\", 841.7957678, 0.46], [\"Brazil\", 1580.112778, 0.75], [\"Fiji\", 1068.114031, 0.68], [\"Oman\", 1097.402321, 0.04], [\"Barbados\", 4484.590982, 1.13], [\"Kenya\", 290.4221899, 0.27], [\"United Kingdom\", 11957.50573, 11.32], [\"Japan\", 11615.54048, 4.21], [\"Syria\", 514.115739, 0.89], [\"El Salvador\", 1793.470666, 0.42], [\"Algeria\", 1127.61438, 0.68], [\"Israel\", 7476.718594, 5.15], [\"Guatemala\", 1117.18293, 0.38], [\"Portugal\", 3258.773202, 1.3], [\"Nepal\", 149.5601899, 0.02], [\"Honduras\", 838.711889, 0.33], [\"New Zealand\", 9636.33899, 5.21], [\"Gabon\", 2717.496093, 0.79], [\"Ghana\", 263.7663411, 0.17], [\"Belize\", 1042.637474, 0.73], [\"Ireland\", 6009.936244, 5.24], [\"Turkey\", 1909.11694, 0.97], [\"Denmark\", 14436.38529, 10.45], [\"Sierra Leone\", 247.1921396, 0.11], [\"Luxembourg\", 15152.96726, 34.8], [\"Belgium\", 9455.011164, 11.07], [\"Saint Vincent and the Grenadines\", 1104.223911, 0.21], [\"Iran\", 1053.498772, 2.49], [\"Zambia\", 573.5389548, 0.92], [\"Costa Rica\", 2034.734986, 0.65], [\"Nicaragua\", 1258.452822, 0.53], [\"Madagascar\", 385.9739432, 0.09], [\"Canada\", 11804.66791, 12.68], [\"Sweden\", 14271.1061, 9.3], [\"Zimbabwe\", 462.035553, 1.25], [\"Chile\", 2098.013764, 2.16], [\"Papua New Guinea\", 533.2082269, 0.17], [\"France\", 9665.982055, 7.06], [\"China\", 107.8055687, 0.71], [\"Panama\", 2295.436954, 1.21], [\"Indonesia\", 196.8198125, 0.22], [\"\\\"Congo\", 638.6330114, 0.22], [\"Cameroon\", 531.5464794, 0.06], [\"Hungary\", 1900.582563, 6.06], [\"Netherlands\", 10597.50293, 8.32], [\"Colombia\", 1250.332684, 1.22], [\"Switzerland\", 22487.73489, 5.26], [\"New Caledonia\", 7083.416554, 16.16], [\"Benin\", 298.4003832, 0.05], [\"Rwanda\", 182.4591167, 0.01], [\"Italy\", 7595.198629, 4.09], [\"Sudan\", 259.3510061, 0.21], [\"Bermuda\", 26843.38196, 4.05], [\"Togo\", 283.8568656, 0.11], [\"Gambia\", 292.1230678, 0.08], [\"Argentina\", 5721.282136, 2.79], [\"India\", 188.1063365, 0.35], [\"Malawi\", 120.5096045, 0.11], [\"French Polynesia\", 9178.656851, 1.23], [\"Singapore\", 2953.681877, 0.35], [\"Australia\", 10455.12396, 10.32], [\"Uruguay\", 4362.465305, 1.99], [\"\\\"Korea\", 1351.030389, 0.87], [\"Mexico\", 3184.691175, 1.74], [\"Peru\", 2027.892739, 1.12], [\"Finland\", 9172.909293, 6.44], [\"Bolivia\", 1058.246903, 0.43], [\"Thailand\", 415.3214122, 0.29], [\"Philippines\", 685.6054915, 0.47], [\"Bahamas\", 13469.98166, 7.53], [\"Burkina Faso\", 133.2948102, 0.02], [\"Central African Rep.\", 330.9331446, 0.05], [\"Guyana\", 703.5471537, 1.8], [\"Venezuela\", 5978.547548, 6.07], [\"Senegal\", 581.0097079, 0.45], [\"Norway\", 13280.82216, 5.21], [\"Egypt\", 538.8527628, 0.86], [\"South Africa\", 2748.873115, 6.28], [\"Niger\", 353.6193467, 0.03], [\"Burundi\", 100.0982942, 0.01], [\"Cote d'Ivoire\", 736.9156542, 0.29], [\"Morocco\", 640.8288192, 0.38], [\"Paraguay\", 704.6678112, 0.23], [\"\\\"Hong Kong\", 4855.403133, 1.34], [\"Tunisia\", 738.2560672, 0.62], [\"Liberia\", 712.9918478, 0.49], [\"Greece\", 5161.09647, 2.17], [\"Austria\", 9440.003223, 5.36], [\"Jamaica\", 2761.258532, 1.93], [\"Mauritania\", 443.6502075, 0.15]], function(d) {return d[0];});\n",
        "    \n",
        "    circles.enter()\n",
        "           .insert(\"circle\")\n",
        "           .attr(\"cx\", function(d){return vc.data.xRange(d[1]);})\n",
        "           .attr(\"cy\", function(d){return vc.data.yRange(d[2]);})\n",
        "           .attr(\"r\", function(d){return 6;})\n",
        "           .attr(\"fill-opacity\", function(d){return 0.5;})\n",
        "           .style(\"fill\", \"red\")\n",
        "           .on(\"mouseover\", function(d) { return vc.data.update_countryname(d[0]) ;})\n",
        "           .on(\"mouseout\", function(d) { return vc.data.update_countryname(\"\") ;}) ;\n",
        "\n",
        "    circles.transition()\n",
        "           .duration(1000)\n",
        "           .attr(\"cx\", function (d) { return vc.data.xRange(d[1]); })\n",
        "           .attr(\"cy\", function (d) { return vc.data.yRange(d[2]); })\n",
        "           .attr(\"r\", function (d) { return 6; })\n",
        "           .style(\"fill\", \"blue\");\n",
        "    \n",
        "    circles.exit ()\n",
        "           .transition().duration(1000)\n",
        "           .attr(\"r\", 0)\n",
        "           .remove();\n",
        "\n",
        "    vis.selectAll(\"#year\")\n",
        "       .data([1966])\n",
        "       .transition()\n",
        "       .text(function(d){return d});\n",
        "\n",
        "    "
       ],
       "output_type": "display_data"
      },
      {
       "javascript": [
        "\n",
        "    var vc = IPython.vis_utils.name_to_viscell[\"vis\"];\n",
        "    var vis = d3.select(\"#vis svg\");\n",
        "    var circles = vis.selectAll(\"g#datapoints\")\n",
        "                 .selectAll(\"circle\")\n",
        "                 .data([[\"Spain\", 6153.919356, 2.92], [\"Zambia\", 589.0049757, 1.14], [\"Ecuador\", 868.2204315, 0.56], [\"Greece\", 5722.424554, 2.55], [\"Gabon\", 2848.647226, 3.95], [\"Belgium\", 10145.1445, 12.36], [\"Burkina Faso\", 144.1236674, 0.02], [\"Oman\", 3130.83396, 0.22], [\"Barbados\", 5278.561032, 1.83], [\"Kenya\", 303.1774079, 0.27], [\"Colombia\", 1309.6201, 1.31], [\"Benin\", 300.3120362, 0.06], [\"Italy\", 8556.369499, 4.71], [\"Zimbabwe\", 478.5408456, 1.23], [\"Panama\", 2512.896477, 1.4], [\"Japan\", 14381.81136, 5.52], [\"Bolivia\", 948.7162035, 0.53], [\"Togo\", 285.9426791, 0.11], [\"Cote d'Ivoire\", 797.3787925, 0.35], [\"Dominican Rep.\", 931.3700672, 0.56], [\"Austria\", 10084.3342, 5.71], [\"Bahamas\", 14771.68487, 10.36], [\"Fiji\", 1247.797254, 0.8], [\"Seychelles\", 2548.722167, 0.14], [\"Denmark\", 15303.73323, 10.98], [\"Bermuda\", 29875.41011, 4.36], [\"\\\"Korea\", 1541.546175, 1.17], [\"Peru\", 1996.850654, 1.16], [\"\\\"Hong Kong\", 5112.174328, 1.63], [\"Netherlands\", 11617.35256, 8.92], [\"Switzerland\", 23413.03031, 5.87], [\"Rwanda\", 195.1381206, 0.02], [\"Sudan\", 254.9894242, 0.24], [\"Morocco\", 731.6631032, 0.37], [\"Israel\", 8395.714526, 5.03], [\"Guatemala\", 1199.014191, 0.45], [\"Paraguay\", 747.6744779, 0.25], [\"United States\", 18021.99576, 19.49], [\"Liberia\", 750.5447396, 0.67], [\"Nicaragua\", 1284.393647, 0.64], [\"Brazil\", 1753.207579, 0.85], [\"Hungary\", 2126.743348, 5.96], [\"Jamaica\", 2906.531183, 2.05], [\"Sierra Leone\", 243.735501, 0.14], [\"Mauritania\", 477.7708796, 0.19], [\"Chad\", 216.2728198, 0.03], [\"Niger\", 334.4166377, 0.03], [\"Gambia\", 301.5797571, 0.08], [\"Venezuela\", 6182.695208, 6.54], [\"Saudi Arabia\", 6976.376519, 5.04], [\"Costa Rica\", 2199.737095, 0.63], [\"Cameroon\", 479.6119792, 0.08], [\"Nepal\", 141.9955825, 0.02], [\"French Polynesia\", 9348.446559, 1.44], [\"Ghana\", 262.1516008, 0.2], [\"Norway\", 14181.19823, 5.54], [\"Central African Rep.\", 336.8088698, 0.1], [\"Tunisia\", 783.0395597, 0.73], [\"Sweden\", 15083.32488, 9.82], [\"Philippines\", 714.3307369, 0.61], [\"Nigeria\", 236.3946404, 0.14], [\"Egypt\", 530.5942091, 0.71], [\"\\\"Congo\", 624.8518012, 0.27], [\"Finland\", 9492.39723, 7.2], [\"Argentina\", 6017.805982, 2.97], [\"Burundi\", 109.2196766, 0.02], [\"Thailand\", 460.0763864, 0.49], [\"Algeria\", 1291.864182, 0.69], [\"Madagascar\", 413.6783163, 0.14], [\"India\", 200.0987544, 0.36], [\"Portugal\", 3813.04747, 1.43], [\"United Kingdom\", 12589.7678, 10.99], [\"Honduras\", 898.6111089, 0.47], [\"Australia\", 11335.40293, 11.12], [\"Singapore\", 3618.074589, 2.69], [\"Ireland\", 6813.262918, 6.12], [\"Turkey\", 2038.054107, 1.06], [\"Canada\", 12362.93168, 14.36], [\"Uruguay\", 4202.332657, 1.76], [\"Mali\", 167.597605, 0.04], [\"Syria\", 540.3080131, 1.02], [\"New Caledonia\", 8032.850275, 18.5], [\"Sri Lanka\", 321.1907013, 0.27], [\"Mexico\", 3461.409175, 1.9], [\"Saint Vincent and the Grenadines\", 1042.985232, 0.25], [\"Indonesia\", 212.7575718, 0.25], [\"Iran\", 1239.507863, 3.02], [\"Malawi\", 120.6470909, 0.09], [\"Luxembourg\", 15741.23383, 36.53], [\"New Zealand\", 8948.820215, 4.89], [\"Belize\", 1122.27672, 0.88], [\"Papua New Guinea\", 554.5173083, 0.23], [\"Guyana\", 711.0977132, 1.94], [\"Malta\", 1554.826108, 2.0], [\"Iceland\", 12623.51411, 7.93], [\"Chile\", 2164.956205, 2.35], [\"South Africa\", 2940.665036, 6.4], [\"France\", 10384.68766, 7.7], [\"China\", 92.56953683, 0.61], [\"El Salvador\", 1842.823729, 0.38]], function(d) {return d[0];});\n",
        "    \n",
        "    circles.enter()\n",
        "           .insert(\"circle\")\n",
        "           .attr(\"cx\", function(d){return vc.data.xRange(d[1]);})\n",
        "           .attr(\"cy\", function(d){return vc.data.yRange(d[2]);})\n",
        "           .attr(\"r\", function(d){return 6;})\n",
        "           .attr(\"fill-opacity\", function(d){return 0.5;})\n",
        "           .style(\"fill\", \"red\")\n",
        "           .on(\"mouseover\", function(d) { return vc.data.update_countryname(d[0]) ;})\n",
        "           .on(\"mouseout\", function(d) { return vc.data.update_countryname(\"\") ;}) ;\n",
        "\n",
        "    circles.transition()\n",
        "           .duration(1000)\n",
        "           .attr(\"cx\", function (d) { return vc.data.xRange(d[1]); })\n",
        "           .attr(\"cy\", function (d) { return vc.data.yRange(d[2]); })\n",
        "           .attr(\"r\", function (d) { return 6; })\n",
        "           .style(\"fill\", \"blue\");\n",
        "    \n",
        "    circles.exit ()\n",
        "           .transition().duration(1000)\n",
        "           .attr(\"r\", 0)\n",
        "           .remove();\n",
        "\n",
        "    vis.selectAll(\"#year\")\n",
        "       .data([1968])\n",
        "       .transition()\n",
        "       .text(function(d){return d});\n",
        "\n",
        "    "
       ],
       "output_type": "display_data"
      },
      {
       "javascript": [
        "\n",
        "    var vc = IPython.vis_utils.name_to_viscell[\"vis\"];\n",
        "    var vis = d3.select(\"#vis svg\");\n",
        "    var circles = vis.selectAll(\"g#datapoints\")\n",
        "                 .selectAll(\"circle\")\n",
        "                 .data([[\"Turkey\", 2082.407608, 1.19], [\"Paraguay\", 775.5332289, 0.3], [\"United States\", 18150.03024, 21.52], [\"China\", 122.2907043, 0.94], [\"Brazil\", 1990.722966, 0.98], [\"Malawi\", 121.6038865, 0.1], [\"Venezuela\", 6278.958125, 6.93], [\"Italy\", 9456.147572, 5.53], [\"Nigeria\", 350.5219468, 0.42], [\"Togo\", 298.0535912, 0.14], [\"Ireland\", 7282.919989, 6.58], [\"Thailand\", 516.4458931, 0.41], [\"Austria\", 11349.52265, 6.79], [\"Luxembourg\", 17435.92764, 40.53], [\"Portugal\", 4282.104641, 1.69], [\"Benin\", 301.746968, 0.11], [\"Singapore\", 4530.665909, 8.78], [\"Fiji\", 1383.092087, 1.0], [\"Colombia\", 1414.850394, 1.33], [\"Chile\", 2202.095503, 2.63], [\"Senegal\", 543.5540824, 0.3], [\"Norway\", 14890.06519, 7.22], [\"Papua New Guinea\", 636.2086131, 0.3], [\"Madagascar\", 428.8190903, 0.14], [\"Netherlands\", 12758.70762, 10.89], [\"El Salvador\", 1858.801127, 0.4], [\"Guyana\", 769.126084, 2.21], [\"New Caledonia\", 11295.56148, 21.38], [\"Syria\", 577.4059035, 1.06], [\"Indonesia\", 235.9014409, 0.31], [\"Canada\", 12986.31308, 15.7], [\"Burundi\", 126.6064936, 0.02], [\"Mali\", 172.0713371, 0.04], [\"Morocco\", 786.2578885, 0.46], [\"Greenland\", 9243.239951, 8.21], [\"Switzerland\", 25473.70536, 6.43], [\"Guinea-Bissau\", 172.3779461, 0.11], [\"Belgium\", 11447.65555, 13.03], [\"Jamaica\", 3355.427587, 2.57], [\"Cote d'Ivoire\", 882.8904776, 0.44], [\"Gabon\", 3254.11662, 4.05], [\"Hungary\", 2363.532601, 6.77], [\"Burkina Faso\", 141.7971181, 0.03], [\"\\\"Hong Kong\", 5693.657326, 2.01], [\"Saint Vincent and the Grenadines\", 1163.939987, 0.34], [\"Greece\", 6749.080582, 2.75], [\"Bolivia\", 928.1076451, 0.57], [\"Ecuador\", 928.4323139, 0.72], [\"Seychelles\", 2647.173963, 0.54], [\"Bahamas\", 14234.87257, 15.11], [\"Israel\", 9643.093536, 5.71], [\"\\\"Korea\", 1879.799718, 1.35], [\"Iceland\", 13682.89671, 6.81], [\"Egypt\", 571.5177876, 0.65], [\"Nepal\", 145.552992, 0.02], [\"French Polynesia\", 8621.101667, 1.7], [\"Kiribati\", 1162.74459, 0.45], [\"Sudan\", 259.4602096, 0.35], [\"Dominican Rep.\", 1151.498522, 0.7], [\"Nicaragua\", 1301.288344, 0.68], [\"Sierra Leone\", 277.3277001, 0.31], [\"Algeria\", 1436.129879, 1.08], [\"Gambia\", 307.3681226, 0.1], [\"Tunisia\", 826.0545568, 0.73], [\"Ghana\", 291.7449259, 0.3], [\"Iran\", 1450.095113, 3.18], [\"Finland\", 11231.15466, 8.77], [\"Australia\", 12483.29292, 11.66], [\"Saudi Arabia\", 7672.082458, 7.41], [\"Costa Rica\", 2369.30158, 0.72], [\"Sri Lanka\", 343.1509125, 0.29], [\"Guatemala\", 1257.485926, 0.46], [\"Mauritania\", 511.4078942, 0.33], [\"Peru\", 2074.403, 1.35], [\"Central African Rep.\", 354.2852831, 0.11], [\"Malaysia\", 1145.255642, 1.34], [\"France\", 11544.60964, 8.64], [\"\\\"Congo\", 682.6503205, 0.4], [\"Oman\", 4196.41488, 0.3], [\"Uruguay\", 4495.937739, 2.03], [\"India\", 214.0216687, 0.36], [\"Liberia\", 811.0786157, 1.04], [\"Spain\", 6841.767689, 3.45], [\"Cameroon\", 493.0919588, 0.09], [\"Japan\", 17345.00752, 7.37], [\"Rwanda\", 214.5067292, 0.02], [\"Honduras\", 888.9479783, 0.5], [\"Zimbabwe\", 617.3458869, 1.48], [\"Philippines\", 732.190856, 0.64], [\"South Africa\", 3104.019126, 6.59], [\"Bermuda\", 31658.04218, 4.32], [\"Argentina\", 6605.904497, 3.45], [\"Chad\", 225.2329279, 0.03], [\"Zambia\", 576.2780561, 0.89], [\"Belize\", 1193.172351, 0.99], [\"Panama\", 2739.796531, 1.44], [\"Denmark\", 16392.16301, 12.61], [\"Malta\", 1853.353816, 2.04], [\"Swaziland\", 576.8918534, 0.81], [\"Niger\", 306.6106672, 0.04], [\"Sweden\", 16607.92304, 11.48], [\"New Zealand\", 9473.222147, 5.02], [\"Barbados\", 6171.650029, 1.8], [\"Kenya\", 291.2707878, 0.27], [\"United Kingdom\", 13055.44198, 11.74], [\"Mexico\", 3576.445554, 2.16]], function(d) {return d[0];});\n",
        "    \n",
        "    circles.enter()\n",
        "           .insert(\"circle\")\n",
        "           .attr(\"cx\", function(d){return vc.data.xRange(d[1]);})\n",
        "           .attr(\"cy\", function(d){return vc.data.yRange(d[2]);})\n",
        "           .attr(\"r\", function(d){return 6;})\n",
        "           .attr(\"fill-opacity\", function(d){return 0.5;})\n",
        "           .style(\"fill\", \"red\")\n",
        "           .on(\"mouseover\", function(d) { return vc.data.update_countryname(d[0]) ;})\n",
        "           .on(\"mouseout\", function(d) { return vc.data.update_countryname(\"\") ;}) ;\n",
        "\n",
        "    circles.transition()\n",
        "           .duration(1000)\n",
        "           .attr(\"cx\", function (d) { return vc.data.xRange(d[1]); })\n",
        "           .attr(\"cy\", function (d) { return vc.data.yRange(d[2]); })\n",
        "           .attr(\"r\", function (d) { return 6; })\n",
        "           .style(\"fill\", \"blue\");\n",
        "    \n",
        "    circles.exit ()\n",
        "           .transition().duration(1000)\n",
        "           .attr(\"r\", 0)\n",
        "           .remove();\n",
        "\n",
        "    vis.selectAll(\"#year\")\n",
        "       .data([1970])\n",
        "       .transition()\n",
        "       .text(function(d){return d});\n",
        "\n",
        "    "
       ],
       "output_type": "display_data"
      },
      {
       "javascript": [
        "\n",
        "    var vc = IPython.vis_utils.name_to_viscell[\"vis\"];\n",
        "    var vis = d3.select(\"#vis svg\");\n",
        "    var circles = vis.selectAll(\"g#datapoints\")\n",
        "                 .selectAll(\"circle\")\n",
        "                 .data([[\"Panama\", 2972.874079, 1.73], [\"\\\"Congo\", 737.3999381, 0.53], [\"Denmark\", 17367.1746, 11.96], [\"Malta\", 2032.71144, 2.63], [\"Swaziland\", 652.9479483, 0.79], [\"Niger\", 289.4672355, 0.05], [\"Sweden\", 16981.71611, 10.44], [\"New Zealand\", 10043.08759, 5.53], [\"Kenya\", 388.0070974, 0.32], [\"Argentina\", 6873.949714, 3.64], [\"Venezuela\", 6029.901363, 5.43], [\"Benin\", 301.9956202, 0.14], [\"Singapore\", 5550.048443, 10.33], [\"Malawi\", 141.4585213, 0.12], [\"Fiji\", 1524.075481, 1.06], [\"Norway\", 16318.46136, 7.48], [\"Burundi\", 119.5760596, 0.02], [\"Nigeria\", 395.0057173, 0.77], [\"Netherlands\", 13348.03629, 11.84], [\"El Salvador\", 1944.029195, 0.44], [\"\\\"Korea\", 2113.436226, 1.78], [\"Guyana\", 754.5622614, 2.1], [\"Togo\", 301.0882657, 0.19], [\"Indonesia\", 259.8086644, 0.36], [\"Canada\", 13823.29177, 17.1], [\"Austria\", 12528.70382, 7.45], [\"Luxembourg\", 18621.6576, 38.94], [\"Mali\", 180.2161013, 0.04], [\"Portugal\", 5168.205412, 2.05], [\"Greenland\", 10659.09059, 11.47], [\"Switzerland\", 26854.74564, 6.71], [\"Belgium\", 12410.0926, 13.48], [\"Colombia\", 1538.1298, 1.4], [\"Chile\", 2297.122236, 2.92], [\"Senegal\", 540.9780705, 0.32], [\"Papua New Guinea\", 681.9884389, 0.52], [\"New Caledonia\", 11328.63432, 13.59], [\"Syria\", 742.1865935, 1.16], [\"Saint Vincent and the Grenadines\", 1475.48197, 0.41], [\"Greece\", 7931.181955, 3.55], [\"Bolivia\", 1002.755132, 0.78], [\"Morocco\", 809.159326, 0.48], [\"Seychelles\", 3116.777669, 0.77], [\"Bahamas\", 13305.69991, 36.39], [\"Guinea-Bissau\", 168.8998396, 0.11], [\"Barbados\", 6422.964204, 2.07], [\"Jamaica\", 3938.668958, 3.15], [\"Egypt\", 577.6082132, 0.73], [\"Nepal\", 141.6795521, 0.02], [\"Thailand\", 535.7374957, 0.56], [\"Madagascar\", 417.0590492, 0.18], [\"Sudan\", 237.5460391, 0.37], [\"Cote d'Ivoire\", 918.7267599, 0.5], [\"Dominican Rep.\", 1332.575712, 1.0], [\"Hungary\", 2648.581257, 6.68], [\"Burkina Faso\", 141.6907984, 0.03], [\"Nicaragua\", 1292.417978, 0.74], [\"\\\"Hong Kong\", 6396.666801, 2.26], [\"Ecuador\", 974.8544698, 0.73], [\"Tunisia\", 1041.344248, 0.89], [\"Israel\", 11516.83369, 5.47], [\"Ghana\", 283.3297895, 0.26], [\"Iran\", 1789.354834, 3.48], [\"Finland\", 12294.37106, 9.52], [\"Australia\", 12811.07227, 11.95], [\"Iceland\", 16032.6763, 7.1], [\"Sri Lanka\", 331.7143322, 0.26], [\"French Polynesia\", 8624.380308, 1.74], [\"Kiribati\", 1231.466116, 0.51], [\"Central African Rep.\", 344.6833909, 0.09], [\"Sierra Leone\", 279.1838064, 0.24], [\"Bangladesh\", 210.3333605, 0.05], [\"Algeria\", 1527.647412, 1.92], [\"Botswana\", 642.759403, 0.04], [\"Gambia\", 286.5056519, 0.13], [\"France\", 12483.79247, 9.29], [\"Saudi Arabia\", 10424.97627, 10.87], [\"Costa Rica\", 2609.226677, 0.96], [\"Gabon\", 3833.092162, 4.78], [\"Uruguay\", 4407.314517, 2.15], [\"Guatemala\", 1348.796163, 0.53], [\"India\", 206.6709884, 0.38], [\"Mauritania\", 488.3814674, 0.34], [\"Peru\", 2102.214311, 1.3], [\"Malaysia\", 1260.325937, 1.57], [\"Cameroon\", 497.2491591, 0.12], [\"Rwanda\", 204.4446271, 0.02], [\"Honduras\", 924.8846208, 0.52], [\"Zimbabwe\", 680.4259492, 1.4], [\"Bermuda\", 33831.9752, 4.75], [\"Belize\", 1331.190207, 1.24], [\"Oman\", 4316.445779, 2.52], [\"South Africa\", 3142.535594, 7.17], [\"Liberia\", 840.4678234, 1.02], [\"Spain\", 7593.005325, 4.21], [\"Zambia\", 588.0124734, 0.9], [\"United Kingdom\", 13694.97633, 11.56], [\"Mexico\", 3768.579937, 2.3], [\"Paraguay\", 828.9889789, 0.27], [\"Turkey\", 2241.092013, 1.44], [\"Japan\", 19165.75904, 7.96], [\"United States\", 19370.54541, 22.15], [\"China\", 128.9355595, 1.08], [\"Brazil\", 2365.696996, 1.13], [\"Philippines\", 769.2352567, 0.65], [\"Italy\", 9880.771578, 6.05], [\"Pakistan\", 271.2369571, 0.27], [\"Chad\", 212.107602, 0.03], [\"Ireland\", 7828.289476, 7.29]], function(d) {return d[0];});\n",
        "    \n",
        "    circles.enter()\n",
        "           .insert(\"circle\")\n",
        "           .attr(\"cx\", function(d){return vc.data.xRange(d[1]);})\n",
        "           .attr(\"cy\", function(d){return vc.data.yRange(d[2]);})\n",
        "           .attr(\"r\", function(d){return 6;})\n",
        "           .attr(\"fill-opacity\", function(d){return 0.5;})\n",
        "           .style(\"fill\", \"red\")\n",
        "           .on(\"mouseover\", function(d) { return vc.data.update_countryname(d[0]) ;})\n",
        "           .on(\"mouseout\", function(d) { return vc.data.update_countryname(\"\") ;}) ;\n",
        "\n",
        "    circles.transition()\n",
        "           .duration(1000)\n",
        "           .attr(\"cx\", function (d) { return vc.data.xRange(d[1]); })\n",
        "           .attr(\"cy\", function (d) { return vc.data.yRange(d[2]); })\n",
        "           .attr(\"r\", function (d) { return 6; })\n",
        "           .style(\"fill\", \"blue\");\n",
        "    \n",
        "    circles.exit ()\n",
        "           .transition().duration(1000)\n",
        "           .attr(\"r\", 0)\n",
        "           .remove();\n",
        "\n",
        "    vis.selectAll(\"#year\")\n",
        "       .data([1972])\n",
        "       .transition()\n",
        "       .text(function(d){return d});\n",
        "\n",
        "    "
       ],
       "output_type": "display_data"
      },
      {
       "javascript": [
        "\n",
        "    var vc = IPython.vis_utils.name_to_viscell[\"vis\"];\n",
        "    var vis = d3.select(\"#vis svg\");\n",
        "    var circles = vis.selectAll(\"g#datapoints\")\n",
        "                 .selectAll(\"circle\")\n",
        "                 .data([[\"Cameroon\", 549.4281691, 0.13], [\"Honduras\", 929.7960863, 0.56], [\"Philippines\", 820.8440789, 0.71], [\"Colombia\", 1658.655726, 1.55], [\"Chile\", 2164.880603, 2.7], [\"Zambia\", 578.999857, 0.88], [\"Papua New Guinea\", 711.6422839, 0.63], [\"Panama\", 3043.447709, 1.77], [\"Netherlands\", 14486.30955, 11.85], [\"El Salvador\", 2045.029552, 0.5], [\"Norway\", 17469.25667, 6.95], [\"Syria\", 787.712913, 1.35], [\"Indonesia\", 294.762195, 0.4], [\"Canada\", 14806.31262, 17.05], [\"Niger\", 246.0686354, 0.05], [\"Sweden\", 18133.12536, 9.79], [\"New Zealand\", 11012.39993, 6.13], [\"Burundi\", 124.8879636, 0.03], [\"Paraguay\", 916.7674307, 0.34], [\"Morocco\", 843.5914271, 0.64], [\"Greenland\", 11740.9537, 11.26], [\"Mexico\", 4041.185398, 2.61], [\"South Africa\", 3333.722248, 7.02], [\"Switzerland\", 27823.67558, 6.42], [\"China\", 136.263895, 1.1], [\"Guinea-Bissau\", 167.6539667, 0.16], [\"United Arab Emirates\", 47533.42493, 69.11], [\"Bermuda\", 35153.98712, 8.27], [\"Belgium\", 13640.08174, 13.84], [\"Malawi\", 145.5886164, 0.11], [\"Italy\", 11019.12529, 6.51], [\"Jamaica\", 3456.217813, 3.67], [\"Nigeria\", 440.1740727, 1.1], [\"Hungary\", 2976.333, 7.08], [\"Austria\", 13561.74988, 7.56], [\"Bolivia\", 1039.162867, 0.73], [\"Benin\", 308.2850258, 0.14], [\"Ecuador\", 1157.663646, 0.91], [\"Singapore\", 6313.772828, 9.85], [\"Bahamas\", 11459.85058, 39.83], [\"Seychelles\", 3302.000923, 0.93], [\"Fiji\", 1676.034031, 1.19], [\"Senegal\", 499.4649084, 0.38], [\"Iceland\", 17595.85598, 8.09], [\"Venezuela\", 6151.307561, 6.12], [\"Egypt\", 571.4445082, 0.72], [\"Nepal\", 143.0933193, 0.03], [\"French Polynesia\", 10311.86671, 1.66], [\"Kiribati\", 2095.120699, 0.63], [\"Sudan\", 250.5217165, 0.36], [\"Guyana\", 814.484527, 2.03], [\"New Caledonia\", 10471.35312, 21.24], [\"Malaysia\", 1452.909341, 1.59], [\"Algeria\", 1603.350963, 2.04], [\"Mali\", 168.743619, 0.05], [\"Gambia\", 307.5339055, 0.11], [\"Tunisia\", 1077.482369, 0.97], [\"Ghana\", 294.4840546, 0.3], [\"Finland\", 13431.0525, 9.95], [\"Australia\", 13138.91218, 12.67], [\"Sri Lanka\", 354.2610146, 0.21], [\"Mauritania\", 493.8892228, 0.35], [\"Madagascar\", 392.2556876, 0.16], [\"Barbados\", 6131.001968, 2.0], [\"Peru\", 2289.209031, 1.45], [\"Cote d'Ivoire\", 923.4409008, 0.54], [\"Central African Rep.\", 359.2399496, 0.06], [\"Burkina Faso\", 148.3041307, 0.04], [\"\\\"Hong Kong\", 7950.063037, 2.21], [\"Saint Vincent and the Grenadines\", 1169.534209, 0.36], [\"Greece\", 7955.718856, 4.04], [\"Gabon\", 5603.790787, 9.46], [\"Israel\", 11853.61541, 5.92], [\"Oman\", 3792.601894, 2.64], [\"Liberia\", 816.4144068, 1.09], [\"Spain\", 8472.331656, 4.93], [\"Dominican Rep.\", 1511.937121, 1.3], [\"Nicaragua\", 1476.857009, 0.84], [\"Ireland\", 8273.559645, 7.46], [\"Sierra Leone\", 284.4673319, 0.18], [\"Bangladesh\", 225.7471871, 0.06], [\"Thailand\", 586.737697, 0.59], [\"\\\"Congo\", 816.165512, 0.89], [\"Botswana\", 793.6963732, 0.13], [\"Japan\", 19899.45542, 8.78], [\"Rwanda\", 201.742677, 0.02], [\"Brunei\", 22976.70347, 54.2], [\"Zimbabwe\", 695.1903583, 1.47], [\"Iran\", 1943.280142, 4.45], [\"Pakistan\", 282.0840137, 0.29], [\"Saudi Arabia\", 15176.6624, 14.38], [\"Argentina\", 7218.522596, 3.73], [\"Chad\", 194.187553, 0.04], [\"Belize\", 1552.210615, 1.16], [\"Costa Rica\", 2831.184712, 0.98], [\"Denmark\", 17685.24889, 10.93], [\"Guatemala\", 1451.195469, 0.57], [\"Malta\", 2437.854316, 2.3], [\"Swaziland\", 708.7832143, 0.61], [\"Luxembourg\", 20478.3457, 40.59], [\"Kenya\", 397.5149624, 0.38], [\"United Kingdom\", 14418.70878, 10.98], [\"Turkey\", 2319.502212, 1.55], [\"United States\", 20034.22896, 21.86], [\"Brazil\", 2804.572961, 1.35], [\"France\", 13697.17704, 9.5], [\"\\\"Korea\", 2375.961155, 2.14], [\"Uruguay\", 4543.330251, 2.0], [\"Togo\", 311.6379001, 0.18], [\"India\", 206.5066733, 0.39], [\"Portugal\", 5731.081938, 2.28]], function(d) {return d[0];});\n",
        "    \n",
        "    circles.enter()\n",
        "           .insert(\"circle\")\n",
        "           .attr(\"cx\", function(d){return vc.data.xRange(d[1]);})\n",
        "           .attr(\"cy\", function(d){return vc.data.yRange(d[2]);})\n",
        "           .attr(\"r\", function(d){return 6;})\n",
        "           .attr(\"fill-opacity\", function(d){return 0.5;})\n",
        "           .style(\"fill\", \"red\")\n",
        "           .on(\"mouseover\", function(d) { return vc.data.update_countryname(d[0]) ;})\n",
        "           .on(\"mouseout\", function(d) { return vc.data.update_countryname(\"\") ;}) ;\n",
        "\n",
        "    circles.transition()\n",
        "           .duration(1000)\n",
        "           .attr(\"cx\", function (d) { return vc.data.xRange(d[1]); })\n",
        "           .attr(\"cy\", function (d) { return vc.data.yRange(d[2]); })\n",
        "           .attr(\"r\", function (d) { return 6; })\n",
        "           .style(\"fill\", \"blue\");\n",
        "    \n",
        "    circles.exit ()\n",
        "           .transition().duration(1000)\n",
        "           .attr(\"r\", 0)\n",
        "           .remove();\n",
        "\n",
        "    vis.selectAll(\"#year\")\n",
        "       .data([1974])\n",
        "       .transition()\n",
        "       .text(function(d){return d});\n",
        "\n",
        "    "
       ],
       "output_type": "display_data"
      },
      {
       "javascript": [
        "\n",
        "    var vc = IPython.vis_utils.name_to_viscell[\"vis\"];\n",
        "    var vis = d3.select(\"#vis svg\");\n",
        "    var circles = vis.selectAll(\"g#datapoints\")\n",
        "                 .selectAll(\"circle\")\n",
        "                 .data([[\"Netherlands\", 14945.85433, 12.32], [\"El Salvador\", 2115.388548, 0.53], [\"Togo\", 298.0473855, 0.14], [\"Indonesia\", 317.0107131, 0.46], [\"Canada\", 15358.40533, 16.98], [\"\\\"Korea\", 2595.124828, 2.31], [\"Luxembourg\", 19427.09918, 32.82], [\"Bermuda\", 39888.68571, 8.69], [\"Portugal\", 5483.696587, 2.33], [\"Greenland\", 12471.19067, 4.43], [\"Mexico\", 4208.99768, 2.87], [\"Switzerland\", 25823.90381, 6.39], [\"China\", 140.9983713, 1.29], [\"Belgium\", 14157.5632, 13.25], [\"Philippines\", 892.7430102, 0.77], [\"Italy\", 11431.64187, 6.58], [\"Ireland\", 8577.916786, 6.91], [\"Colombia\", 1697.966929, 1.55], [\"Chile\", 1925.539374, 2.4], [\"Zambia\", 562.1061146, 0.79], [\"Papua New Guinea\", 651.9477545, 0.59], [\"\\\"Congo\", 891.973857, 0.76], [\"Panama\", 2984.294384, 2.02], [\"Gabon\", 8598.870676, 9.35], [\"Syria\", 976.1637772, 1.79], [\"Niger\", 226.6483758, 0.06], [\"Sweden\", 18653.37844, 10.74], [\"New Zealand\", 10616.767, 6.1], [\"Argentina\", 6844.41264, 3.76], [\"Bolivia\", 1111.204684, 0.92], [\"Morocco\", 957.5948158, 0.64], [\"Benin\", 281.0084968, 0.08], [\"Singapore\", 6779.986274, 13.1], [\"Seychelles\", 3815.440632, 1.3], [\"Bahamas\", 9864.331087, 33.45], [\"Guinea-Bissau\", 176.1022796, 0.13], [\"United Arab Emirates\", 42157.96774, 66.3], [\"Malawi\", 151.8812861, 0.11], [\"Fiji\", 1666.490393, 0.83], [\"Jamaica\", 3134.723764, 3.41], [\"Jordan\", 1341.560226, 1.58], [\"Burundi\", 131.8686742, 0.02], [\"Nigeria\", 429.5775563, 0.92], [\"Egypt\", 683.2215982, 0.91], [\"Nepal\", 144.5319137, 0.02], [\"Sudan\", 317.6674256, 0.23], [\"Guyana\", 880.6947773, 2.29], [\"Swaziland\", 743.3006571, 0.62], [\"Hungary\", 3238.165214, 7.56], [\"Austria\", 14153.5486, 7.72], [\"Mali\", 206.7433208, 0.05], [\"Mauritius\", 1627.270186, 0.69], [\"Ecuador\", 1274.156209, 1.15], [\"Tunisia\", 1191.607476, 1.0], [\"Ghana\", 238.1365754, 0.24], [\"Finland\", 13608.46744, 10.85], [\"Australia\", 13354.26055, 12.52], [\"Senegal\", 551.0532249, 0.35], [\"Iceland\", 18338.45412, 7.75], [\"Sri Lanka\", 373.8588149, 0.2], [\"French Polynesia\", 9976.362205, 1.94], [\"Kiribati\", 1567.053439, 0.61], [\"New Caledonia\", 10804.55132, 17.77], [\"Central African Rep.\", 364.6720585, 0.06], [\"Saint Vincent and the Grenadines\", 1167.338212, 0.35], [\"Algeria\", 1714.071608, 2.35], [\"Greece\", 8839.861474, 4.68], [\"Gambia\", 345.2109971, 0.17], [\"Madagascar\", 364.2360884, 0.13], [\"Barbados\", 6317.167642, 2.14], [\"Thailand\", 642.1350317, 0.67], [\"Mauritania\", 480.5632448, 0.36], [\"Peru\", 2284.297915, 1.44], [\"Cote d'Ivoire\", 1024.576037, 0.55], [\"Dominican Rep.\", 1614.049098, 1.22], [\"Burkina Faso\", 159.2499368, 0.04], [\"Nicaragua\", 1458.930658, 0.9], [\"\\\"Hong Kong\", 7762.950902, 2.51], [\"Malaysia\", 1559.616628, 1.9], [\"Rwanda\", 221.4162403, 0.06], [\"Norway\", 19212.24746, 7.26], [\"Zimbabwe\", 641.3499781, 1.67], [\"Israel\", 11860.22966, 5.73], [\"Iran\", 2270.595519, 4.56], [\"Belize\", 1546.377991, 1.27], [\"Paraguay\", 992.6343275, 0.36], [\"Oman\", 5169.555347, 8.71], [\"Liberia\", 783.5486487, 0.89], [\"Spain\", 8606.251079, 5.5], [\"Sierra Leone\", 276.4797137, 0.15], [\"Bangladesh\", 216.7912736, 0.07], [\"United Kingdom\", 14742.2092, 10.66], [\"Botswana\", 885.955658, 0.8], [\"Turkey\", 2615.084396, 1.78], [\"Japan\", 20836.63638, 8.45], [\"Brunei\", 25571.10783, 37.27], [\"United States\", 20670.99319, 21.49], [\"Brazil\", 3090.278936, 1.39], [\"France\", 14042.43265, 9.55], [\"Pakistan\", 290.178914, 0.3], [\"Saudi Arabia\", 16216.40466, 13.32], [\"Chad\", 208.5724812, 0.04], [\"Uruguay\", 4979.644835, 2.06], [\"Costa Rica\", 2900.810833, 1.02], [\"Denmark\", 18431.42452, 11.83], [\"Guatemala\", 1509.253291, 0.59], [\"India\", 218.9095303, 0.43], [\"Malta\", 3311.036128, 2.32], [\"Cyprus\", 4653.043682, 4.12], [\"Kenya\", 380.4301376, 0.33], [\"Venezuela\", 6356.686174, 4.38], [\"Cameroon\", 545.4111104, 0.14], [\"Suriname\", 2416.710889, 5.66], [\"Honduras\", 987.3953688, 0.6], [\"South Africa\", 3318.59344, 7.3]], function(d) {return d[0];});\n",
        "    \n",
        "    circles.enter()\n",
        "           .insert(\"circle\")\n",
        "           .attr(\"cx\", function(d){return vc.data.xRange(d[1]);})\n",
        "           .attr(\"cy\", function(d){return vc.data.yRange(d[2]);})\n",
        "           .attr(\"r\", function(d){return 6;})\n",
        "           .attr(\"fill-opacity\", function(d){return 0.5;})\n",
        "           .style(\"fill\", \"red\")\n",
        "           .on(\"mouseover\", function(d) { return vc.data.update_countryname(d[0]) ;})\n",
        "           .on(\"mouseout\", function(d) { return vc.data.update_countryname(\"\") ;}) ;\n",
        "\n",
        "    circles.transition()\n",
        "           .duration(1000)\n",
        "           .attr(\"cx\", function (d) { return vc.data.xRange(d[1]); })\n",
        "           .attr(\"cy\", function (d) { return vc.data.yRange(d[2]); })\n",
        "           .attr(\"r\", function (d) { return 6; })\n",
        "           .style(\"fill\", \"blue\");\n",
        "    \n",
        "    circles.exit ()\n",
        "           .transition().duration(1000)\n",
        "           .attr(\"r\", 0)\n",
        "           .remove();\n",
        "\n",
        "    vis.selectAll(\"#year\")\n",
        "       .data([1976])\n",
        "       .transition()\n",
        "       .text(function(d){return d});\n",
        "\n",
        "    "
       ],
       "output_type": "display_data"
      },
      {
       "javascript": [
        "\n",
        "    var vc = IPython.vis_utils.name_to_viscell[\"vis\"];\n",
        "    var vis = d3.select(\"#vis svg\");\n",
        "    var circles = vis.selectAll(\"g#datapoints\")\n",
        "                 .selectAll(\"circle\")\n",
        "                 .data([[\"Switzerland\", 26598.29741, 6.66], [\"Belgium\", 14622.75301, 13.71], [\"Thailand\", 743.8359266, 0.78], [\"Uruguay\", 5260.008829, 1.99], [\"India\", 237.1304381, 0.49], [\"Liberia\", 785.311153, 0.86], [\"Cyprus\", 5771.161, 4.67], [\"Hungary\", 3608.944572, 8.08], [\"\\\"Hong Kong\", 9824.685937, 3.1], [\"Saint Vincent and the Grenadines\", 1316.374032, 0.38], [\"United Arab Emirates\", 36517.39556, 57.54], [\"Cameroon\", 712.9039963, 0.24], [\"Ecuador\", 1315.133095, 1.39], [\"Brunei\", 28090.46921, 55.15], [\"Seychelles\", 4197.804155, 1.19], [\"Argentina\", 6768.354607, 3.74], [\"South Africa\", 3274.524348, 7.27], [\"Nigeria\", 403.0879039, 0.75], [\"Pakistan\", 306.3642998, 0.33], [\"Chad\", 203.8428254, 0.04], [\"Belize\", 1688.301801, 1.51], [\"Iceland\", 20779.23523, 8.61], [\"Egypt\", 779.4452067, 0.98], [\"Kiribati\", 1457.890129, 0.39], [\"Venezuela\", 6447.418313, 4.93], [\"Sudan\", 298.0421401, 0.19], [\"Sweden\", 18555.27374, 9.6], [\"Bangladesh\", 225.8776765, 0.07], [\"Ireland\", 9691.200672, 7.21], [\"United Kingdom\", 15588.59986, 10.97], [\"Mexico\", 4489.272141, 3.63], [\"Gambia\", 354.0006682, 0.22], [\"Suriname\", 2859.606303, 6.54], [\"Turkey\", 2622.786737, 1.82], [\"French Polynesia\", 10528.51836, 2.19], [\"United States\", 22382.01137, 21.92], [\"Tunisia\", 1245.012363, 1.22], [\"Brazil\", 3183.654552, 1.51], [\"Malawi\", 163.4183638, 0.12], [\"Iran\", 1944.67326, 4.44], [\"Dominica\", 2006.26239, 0.34], [\"Australia\", 13624.83477, 14.18], [\"Sri Lanka\", 400.2396422, 0.23], [\"\\\"Korea\", 3058.248755, 2.9], [\"Barbados\", 6964.165164, 2.52], [\"Togo\", 337.4700601, 0.15], [\"Central African Rep.\", 366.165786, 0.07], [\"Austria\", 14838.75472, 7.54], [\"Portugal\", 5827.542362, 2.55], [\"Singapore\", 7724.616245, 14.09], [\"Grenada\", 1770.703144, 0.55], [\"France\", 14984.62492, 9.6], [\"Colombia\", 1831.277568, 1.63], [\"Chile\", 2187.842334, 2.27], [\"Swaziland\", 714.7689067, 0.77], [\"Norway\", 20609.7035, 8.02], [\"Gabon\", 5412.346443, 10.65], [\"Oman\", 4535.884033, 7.36], [\"Guyana\", 820.2068773, 2.72], [\"New Caledonia\", 11760.26147, 11.23], [\"Spain\", 8774.68357, 5.55], [\"Indonesia\", 359.8385012, 0.67], [\"Canada\", 16161.76895, 16.88], [\"Mali\", 209.4654311, 0.06], [\"Fiji\", 1734.403341, 1.16], [\"Japan\", 22474.26573, 8.67], [\"Morocco\", 987.755077, 0.7], [\"Rwanda\", 230.7854176, 0.06], [\"Honduras\", 1125.783319, 0.65], [\"Zimbabwe\", 545.1023701, 1.37], [\"Philippines\", 939.5258884, 0.78], [\"Guinea-Bissau\", 170.7424969, 0.14], [\"Bermuda\", 42534.95403, 7.82], [\"Zambia\", 505.0840263, 0.65], [\"Jamaica\", 2989.179984, 4.18], [\"Panama\", 3151.180329, 1.52], [\"Madagascar\", 343.2082572, 0.12], [\"Malta\", 3908.305856, 2.75], [\"Cote d'Ivoire\", 1106.682402, 0.62], [\"Niger\", 260.6782936, 0.07], [\"New Zealand\", 10102.47932, 5.43], [\"Burkina Faso\", 160.3068526, 0.06], [\"Kenya\", 413.1281635, 0.35], [\"Greece\", 9487.107489, 5.17], [\"Paraguay\", 1164.53651, 0.49], [\"Bolivia\", 1134.74127, 0.97], [\"China\", 164.9488956, 1.56], [\"Bahamas\", 11780.41794, 32.79], [\"Israel\", 11902.17132, 5.93], [\"Italy\", 12010.03855, 6.6], [\"Nepal\", 148.1619567, 0.02], [\"Dominican Rep.\", 1649.877702, 1.0], [\"Luxembourg\", 20456.95099, 31.44], [\"Nicaragua\", 1371.281688, 1.01], [\"Sierra Leone\", 271.3891507, 0.22], [\"Algeria\", 1848.450199, 3.54], [\"\\\"Congo\", 769.7746239, 0.31], [\"Botswana\", 1051.455193, 1.01], [\"Benin\", 283.1039225, 0.11], [\"Mauritius\", 1742.702162, 0.68], [\"Denmark\", 19106.92455, 12.27], [\"Ghana\", 255.3743554, 0.28], [\"Finland\", 13929.11544, 10.93], [\"Saudi Arabia\", 15379.61607, 13.22], [\"Jordan\", 1605.119331, 1.81], [\"Papua New Guinea\", 683.7520642, 0.59], [\"Costa Rica\", 3181.05541, 1.33], [\"Netherlands\", 15400.21406, 12.26], [\"El Salvador\", 2286.365667, 0.54], [\"Senegal\", 486.7207704, 0.48], [\"Guatemala\", 1627.132316, 0.71], [\"Mauritania\", 443.3746203, 0.39], [\"Syria\", 978.4386109, 1.86], [\"Peru\", 2178.994722, 1.37], [\"Burundi\", 139.4297378, 0.03], [\"Malaysia\", 1712.465529, 1.77], [\"Greenland\", 14532.51977, 7.97]], function(d) {return d[0];});\n",
        "    \n",
        "    circles.enter()\n",
        "           .insert(\"circle\")\n",
        "           .attr(\"cx\", function(d){return vc.data.xRange(d[1]);})\n",
        "           .attr(\"cy\", function(d){return vc.data.yRange(d[2]);})\n",
        "           .attr(\"r\", function(d){return 6;})\n",
        "           .attr(\"fill-opacity\", function(d){return 0.5;})\n",
        "           .style(\"fill\", \"red\")\n",
        "           .on(\"mouseover\", function(d) { return vc.data.update_countryname(d[0]) ;})\n",
        "           .on(\"mouseout\", function(d) { return vc.data.update_countryname(\"\") ;}) ;\n",
        "\n",
        "    circles.transition()\n",
        "           .duration(1000)\n",
        "           .attr(\"cx\", function (d) { return vc.data.xRange(d[1]); })\n",
        "           .attr(\"cy\", function (d) { return vc.data.yRange(d[2]); })\n",
        "           .attr(\"r\", function (d) { return 6; })\n",
        "           .style(\"fill\", \"blue\");\n",
        "    \n",
        "    circles.exit ()\n",
        "           .transition().duration(1000)\n",
        "           .attr(\"r\", 0)\n",
        "           .remove();\n",
        "\n",
        "    vis.selectAll(\"#year\")\n",
        "       .data([1978])\n",
        "       .transition()\n",
        "       .text(function(d){return d});\n",
        "\n",
        "    "
       ],
       "output_type": "display_data"
      },
      {
       "javascript": [
        "\n",
        "    var vc = IPython.vis_utils.name_to_viscell[\"vis\"];\n",
        "    var vis = d3.select(\"#vis svg\");\n",
        "    var circles = vis.selectAll(\"g#datapoints\")\n",
        "                 .selectAll(\"circle\")\n",
        "                 .data([[\"Mali\", 213.8281631, 0.06], [\"Gambia\", 346.4438104, 0.24], [\"Nicaragua\", 994.7644815, 0.72], [\"Gabon\", 5273.504229, 9.01], [\"Netherlands\", 15820.90854, 12.66], [\"Brunei\", 29915.32171, 37.16], [\"Nigeria\", 422.0424528, 0.99], [\"Spain\", 8826.306205, 5.74], [\"Hungary\", 3701.841479, 7.93], [\"Jordan\", 1931.681341, 2.19], [\"Oman\", 4512.31277, 5.15], [\"Tunisia\", 1350.541676, 1.47], [\"Bermuda\", 46552.70874, 7.97], [\"New Caledonia\", 9908.47642, 14.36], [\"\\\"Congo\", 844.1348835, 0.21], [\"Guinea-Bissau\", 137.0068003, 0.19], [\"Bahrain\", 11479.34672, 22.69], [\"Israel\", 12864.02796, 5.66], [\"India\", 229.2585361, 0.51], [\"Ireland\", 10033.19729, 7.76], [\"Malta\", 4481.483253, 2.81], [\"Kiribati\", 687.784131, 0.51], [\"El Salvador\", 1866.76999, 0.47], [\"Sudan\", 269.3951207, 0.2], [\"Peru\", 2255.961387, 1.39], [\"Papua New Guinea\", 650.0764739, 0.61], [\"United Arab Emirates\", 46605.65802, 36.89], [\"Fiji\", 1838.284967, 1.25], [\"Dominica\", 1838.974906, 0.49], [\"Greenland\", 16232.46669, 11.25], [\"Belgium\", 15608.44248, 13.59], [\"Barbados\", 7811.855716, 2.68], [\"Cote d'Ivoire\", 917.8104348, 0.74], [\"Mauritania\", 454.0649628, 0.41], [\"Sweden\", 19515.1738, 8.63], [\"United Kingdom\", 15626.01882, 10.44], [\"Australia\", 14308.20769, 15.1], [\"New Zealand\", 10212.37144, 5.36], [\"Guyana\", 803.7212874, 2.36], [\"Venezuela\", 5820.011817, 6.15], [\"Jamaica\", 2719.611392, 3.79], [\"Italy\", 13097.15815, 6.85], [\"South Africa\", 3463.247505, 7.81], [\"Egypt\", 866.6151814, 1.06], [\"Japan\", 23981.49533, 8.58], [\"Colombia\", 1919.226308, 1.67], [\"Saint Vincent and the Grenadines\", 1362.388666, 0.37], [\"Romania\", 1844.29635, 8.88], [\"Albania\", 1060.684602, 1.94], [\"United States\", 22567.93927, 20.73], [\"Dominican Rep.\", 1777.342585, 1.13], [\"Bahamas\", 15152.48173, 38.06], [\"Suriname\", 2536.233698, 6.69], [\"Benin\", 304.571997, 0.15], [\"Portugal\", 6301.546854, 2.91], [\"Austria\", 15927.4924, 6.92], [\"Guatemala\", 1683.995582, 0.74], [\"Uruguay\", 5832.289142, 2.0], [\"Denmark\", 19715.75694, 12.34], [\"Bulgaria\", 1332.118975, 8.76], [\"Chad\", 144.2841443, 0.05], [\"Nepal\", 141.2053947, 0.04], [\"Vanuatu\", 1016.602945, 0.53], [\"Sri Lanka\", 436.0512393, 0.22], [\"Rwanda\", 263.3100456, 0.1], [\"Saudi Arabia\", 16005.58252, 16.94], [\"Turkey\", 2433.048617, 1.72], [\"Togo\", 346.2463183, 0.29], [\"Saint Lucia\", 2120.724768, 0.93], [\"Seychelles\", 4531.964848, 1.43], [\"Senegal\", 475.9853385, 0.58], [\"Thailand\", 788.65804, 0.85], [\"Singapore\", 9042.504222, 13.02], [\"Central African Rep.\", 324.0879645, 0.05], [\"Honduras\", 1113.641953, 0.6], [\"Botswana\", 1226.950774, 1.1], [\"Cameroon\", 698.1256673, 0.45], [\"Finland\", 15533.2897, 12.18], [\"Sierra Leone\", 284.8137463, 0.18], [\"Grenada\", 1870.407718, 0.53], [\"\\\"Korea\", 3462.548665, 3.53], [\"Malawi\", 160.8706157, 0.12], [\"Panama\", 3174.292163, 1.77], [\"Ecuador\", 1366.39709, 1.7], [\"Bolivia\", 1070.327451, 0.86], [\"Costa Rica\", 3181.858276, 1.07], [\"Malaysia\", 1919.211661, 2.03], [\"France\", 15625.9618, 9.5], [\"Niger\", 257.2440099, 0.09], [\"Brazil\", 3538.764231, 1.52], [\"Syria\", 1056.86441, 2.37], [\"\\\"Hong Kong\", 11061.73247, 3.22], [\"Swaziland\", 779.4888525, 0.76], [\"Chile\", 2499.699086, 2.49], [\"Cyprus\", 6603.039349, 5.25], [\"Indonesia\", 401.2860604, 0.64], [\"Burundi\", 135.4430182, 0.03], [\"Guinea\", 332.4343754, 0.21], [\"China\", 186.4404988, 1.52], [\"Norway\", 22300.76781, 8.55], [\"Liberia\", 728.2602574, 1.1], [\"Mozambique\", 202.8447776, 0.27], [\"Switzerland\", 28596.76917, 6.35], [\"Iceland\", 22637.41121, 8.18], [\"Ghana\", 239.4183697, 0.23], [\"Pakistan\", 330.2451842, 0.38], [\"Morocco\", 1018.71717, 0.82], [\"Greece\", 9646.938547, 5.36], [\"Canada\", 16751.33814, 17.42], [\"Iran\", 1464.234386, 3.06], [\"Paraguay\", 1409.691271, 0.48], [\"Zimbabwe\", 600.9661608, 1.34], [\"Algeria\", 1876.075339, 3.54], [\"Mauritius\", 1572.824506, 0.61], [\"Argentina\", 7534.588178, 3.83], [\"Philippines\", 988.8514719, 0.73], [\"French Polynesia\", 10354.14543, 1.94], [\"Bangladesh\", 226.2112317, 0.09], [\"Zambia\", 472.7544003, 0.62], [\"Mexico\", 5114.152446, 4.35], [\"Burkina Faso\", 160.3876497, 0.07], [\"Comoros\", 404.6298461, 0.14], [\"Kenya\", 435.2358378, 0.38], [\"Madagascar\", 360.1319157, 0.19], [\"Luxembourg\", 20962.35023, 29.02], [\"Belize\", 1980.805368, 1.32]], function(d) {return d[0];});\n",
        "    \n",
        "    circles.enter()\n",
        "           .insert(\"circle\")\n",
        "           .attr(\"cx\", function(d){return vc.data.xRange(d[1]);})\n",
        "           .attr(\"cy\", function(d){return vc.data.yRange(d[2]);})\n",
        "           .attr(\"r\", function(d){return 6;})\n",
        "           .attr(\"fill-opacity\", function(d){return 0.5;})\n",
        "           .style(\"fill\", \"red\")\n",
        "           .on(\"mouseover\", function(d) { return vc.data.update_countryname(d[0]) ;})\n",
        "           .on(\"mouseout\", function(d) { return vc.data.update_countryname(\"\") ;}) ;\n",
        "\n",
        "    circles.transition()\n",
        "           .duration(1000)\n",
        "           .attr(\"cx\", function (d) { return vc.data.xRange(d[1]); })\n",
        "           .attr(\"cy\", function (d) { return vc.data.yRange(d[2]); })\n",
        "           .attr(\"r\", function (d) { return 6; })\n",
        "           .style(\"fill\", \"blue\");\n",
        "    \n",
        "    circles.exit ()\n",
        "           .transition().duration(1000)\n",
        "           .attr(\"r\", 0)\n",
        "           .remove();\n",
        "\n",
        "    vis.selectAll(\"#year\")\n",
        "       .data([1980])\n",
        "       .transition()\n",
        "       .text(function(d){return d});\n",
        "\n",
        "    "
       ],
       "output_type": "display_data"
      },
      {
       "javascript": [
        "\n",
        "    var vc = IPython.vis_utils.name_to_viscell[\"vis\"];\n",
        "    var vis = d3.select(\"#vis svg\");\n",
        "    var circles = vis.selectAll(\"g#datapoints\")\n",
        "                 .selectAll(\"circle\")\n",
        "                 .data([[\"Cape Verde\", 645.8067442, 0.12], [\"Tunisia\", 1345.239567, 1.41], [\"Cote d'Ivoire\", 868.8561556, 0.68], [\"Saint Kitts and Nevis\", 2874.696957, 1.5], [\"Burundi\", 140.925133, 0.03], [\"Ethiopia\", 139.262892, 0.04], [\"Bahrain\", 9325.053145, 26.03], [\"Gambia\", 331.6298452, 0.23], [\"United Kingdom\", 15742.08563, 9.87], [\"Bhutan\", 279.9351504, 0.02], [\"Portugal\", 6444.243644, 2.99], [\"Nigeria\", 346.244456, 0.9], [\"Spain\", 8793.474949, 5.61], [\"Hungary\", 3925.084873, 7.95], [\"El Salvador\", 1519.944409, 0.39], [\"Oman\", 5298.423484, 4.41], [\"Sudan\", 286.8525022, 0.19], [\"Togo\", 300.735546, 0.28], [\"\\\"Congo\", 1097.042425, 0.27], [\"Greenland\", 15224.12215, 10.01], [\"Belgium\", 15643.16278, 11.81], [\"Guinea-Bissau\", 161.4042515, 0.17], [\"Israel\", 13248.23085, 6.24], [\"Ireland\", 10362.83038, 7.37], [\"Malta\", 4766.507866, 3.64], [\"Malaysia\", 2068.698757, 2.12], [\"Guyana\", 705.1399034, 1.84], [\"Venezuela\", 5340.346924, 5.98], [\"Kiribati\", 678.575256, 0.43], [\"Peru\", 2287.94142, 1.31], [\"Italy\", 13236.55329, 6.5], [\"Papua New Guinea\", 618.8434072, 0.62], [\"South Africa\", 3459.790512, 9.02], [\"Egypt\", 939.176138, 1.24], [\"India\", 240.5521736, 0.56], [\"Australia\", 14772.76816, 15.42], [\"Dominica\", 2117.325306, 0.54], [\"Saint Vincent and the Grenadines\", 1490.282262, 0.4], [\"Albania\", 1110.53745, 2.63], [\"United States\", 22246.01146, 18.52], [\"Dominican Rep.\", 1800.218637, 1.06], [\"Tonga\", 1106.510652, 0.48], [\"Bahamas\", 14049.11562, 10.3], [\"Mauritania\", 433.9003855, 0.54], [\"Sweden\", 19672.56379, 7.4], [\"Benin\", 323.0776388, 0.14], [\"Uruguay\", 5276.252746, 1.65], [\"New Zealand\", 10765.53291, 5.35], [\"Bulgaria\", 1424.872953, 10.14], [\"Nepal\", 151.3548834, 0.03], [\"Gabon\", 5064.65636, 8.97], [\"Jamaica\", 2762.259266, 2.71], [\"Uganda\", 183.4786682, 0.04], [\"Vanuatu\", 1115.793505, 0.41], [\"Rwanda\", 265.9699273, 0.11], [\"Japan\", 25010.34866, 7.98], [\"Mongolia\", 438.0289217, 3.85], [\"Colombia\", 1894.922573, 1.65], [\"Seychelles\", 4026.872305, 1.23], [\"Romania\", 1908.947671, 8.76], [\"Singapore\", 9693.997246, 11.22], [\"Central African Rep.\", 324.200732, 0.06], [\"Honduras\", 1058.326464, 0.48], [\"Suriname\", 2477.736672, 5.21], [\"Cameroon\", 829.1459245, 0.69], [\"Finland\", 16048.36348, 8.92], [\"Austria\", 16169.23938, 7.12], [\"Guatemala\", 1555.750429, 0.57], [\"Denmark\", 20286.46562, 11.0], [\"Chad\", 146.6731904, 0.04], [\"Brunei\", 23475.25557, 10.5], [\"Bolivia\", 987.0264263, 0.77], [\"New Caledonia\", 9338.088083, 8.72], [\"Saudi Arabia\", 13215.92711, 14.05], [\"Bermuda\", 44483.01314, 7.18], [\"Saint Lucia\", 1893.67224, 0.9], [\"France\", 15969.23444, 8.16], [\"Senegal\", 509.2654969, 0.5], [\"Thailand\", 841.5908397, 0.78], [\"Brazil\", 3248.027512, 1.33], [\"Botswana\", 1402.369988, 1.13], [\"Sierra Leone\", 294.7403461, 0.16], [\"Grenada\", 1892.477352, 0.68], [\"Cyprus\", 7022.919313, 4.97], [\"Indonesia\", 420.6639695, 0.69], [\"\\\"Korea\", 3510.04716, 3.53], [\"Malawi\", 148.2266975, 0.09], [\"Barbados\", 7127.581767, 2.55], [\"China\", 208.1717993, 1.58], [\"Norway\", 22541.96486, 7.98], [\"Panama\", 3490.346918, 1.46], [\"Mozambique\", 189.1909457, 0.2], [\"Switzerland\", 28392.70547, 5.67], [\"Niger\", 248.3315336, 0.12], [\"Ghana\", 201.9659027, 0.27], [\"Ecuador\", 1329.627218, 2.31], [\"Costa Rica\", 2726.719604, 0.86], [\"Greece\", 9248.493281, 5.34], [\"Canada\", 16435.46486, 15.88], [\"Samoa\", 1062.690167, 0.72], [\"Iran\", 1459.786664, 3.21], [\"Turkey\", 2529.343571, 1.89], [\"Paraguay\", 1390.053359, 0.42], [\"Zimbabwe\", 642.5648601, 1.15], [\"Syria\", 1095.958252, 2.6], [\"\\\"Hong Kong\", 12685.69008, 3.61], [\"Mauritius\", 1712.993608, 0.51], [\"Fiji\", 1748.238399, 1.27], [\"Swaziland\", 853.1419675, 0.67], [\"Chile\", 2276.77832, 1.86], [\"Mexico\", 5276.768875, 4.95], [\"United Arab Emirates\", 37819.82038, 30.63], [\"Guinea\", 323.2597515, 0.21], [\"Liberia\", 647.8882253, 0.31], [\"Iceland\", 23493.1951, 6.83], [\"Belize\", 1898.626018, 1.12], [\"Pakistan\", 359.2673384, 0.41], [\"Morocco\", 1029.180975, 0.84], [\"Luxembourg\", 21048.17656, 23.22], [\"Sri Lanka\", 466.2254034, 0.29], [\"Algeria\", 1924.553463, 1.96], [\"Argentina\", 6561.368886, 3.52], [\"Mali\", 188.204049, 0.05], [\"Nicaragua\", 983.1387022, 0.71], [\"Philippines\", 1003.819999, 0.66], [\"Netherlands\", 15384.03091, 9.35], [\"French Polynesia\", 11649.43293, 2.1], [\"Bangladesh\", 227.9087213, 0.09], [\"Zambia\", 457.0460068, 0.58], [\"Burkina Faso\", 175.2437523, 0.09], [\"Comoros\", 424.3207115, 0.14], [\"Kenya\", 424.7592898, 0.27], [\"Jordan\", 2007.454797, 2.68], [\"Madagascar\", 303.4431724, 0.11]], function(d) {return d[0];});\n",
        "    \n",
        "    circles.enter()\n",
        "           .insert(\"circle\")\n",
        "           .attr(\"cx\", function(d){return vc.data.xRange(d[1]);})\n",
        "           .attr(\"cy\", function(d){return vc.data.yRange(d[2]);})\n",
        "           .attr(\"r\", function(d){return 6;})\n",
        "           .attr(\"fill-opacity\", function(d){return 0.5;})\n",
        "           .style(\"fill\", \"red\")\n",
        "           .on(\"mouseover\", function(d) { return vc.data.update_countryname(d[0]) ;})\n",
        "           .on(\"mouseout\", function(d) { return vc.data.update_countryname(\"\") ;}) ;\n",
        "\n",
        "    circles.transition()\n",
        "           .duration(1000)\n",
        "           .attr(\"cx\", function (d) { return vc.data.xRange(d[1]); })\n",
        "           .attr(\"cy\", function (d) { return vc.data.yRange(d[2]); })\n",
        "           .attr(\"r\", function (d) { return 6; })\n",
        "           .style(\"fill\", \"blue\");\n",
        "    \n",
        "    circles.exit ()\n",
        "           .transition().duration(1000)\n",
        "           .attr(\"r\", 0)\n",
        "           .remove();\n",
        "\n",
        "    vis.selectAll(\"#year\")\n",
        "       .data([1982])\n",
        "       .transition()\n",
        "       .text(function(d){return d});\n",
        "\n",
        "    "
       ],
       "output_type": "display_data"
      },
      {
       "javascript": [
        "\n",
        "    var vc = IPython.vis_utils.name_to_viscell[\"vis\"];\n",
        "    var vis = d3.select(\"#vis svg\");\n",
        "    var circles = vis.selectAll(\"g#datapoints\")\n",
        "                 .selectAll(\"circle\")\n",
        "                 .data([[\"Philippines\", 898.1285206, 0.57], [\"Malta\", 4931.412824, 3.88], [\"Bangladesh\", 236.7015041, 0.09], [\"Mexico\", 5016.375282, 4.28], [\"Burkina Faso\", 164.8580715, 0.07], [\"Kiribati\", 697.6339661, 0.36], [\"Comoros\", 439.4695983, 0.13], [\"Ireland\", 10637.88349, 7.24], [\"El Salvador\", 1522.595823, 0.35], [\"Madagascar\", 296.0310795, 0.1], [\"Sudan\", 260.8803269, 0.16], [\"Peru\", 2025.240322, 1.09], [\"Cape Verde\", 757.8519219, 0.27], [\"Togo\", 278.2629161, 0.21], [\"Papua New Guinea\", 604.0882836, 0.62], [\"United Arab Emirates\", 33191.91345, 32.26], [\"Dominica\", 2308.76069, 0.59], [\"Greenland\", 14594.41633, 10.8], [\"Saint Kitts and Nevis\", 3244.392685, 1.18], [\"Belgium\", 16083.87165, 10.6], [\"Mauritania\", 412.4479184, 0.51], [\"Mali\", 198.5456936, 0.06], [\"Nicaragua\", 960.9305911, 0.59], [\"Nigeria\", 296.2736028, 0.92], [\"Fiji\", 1737.466556, 0.85], [\"Jordan\", 2057.323839, 3.3], [\"Laos\", 206.8395049, 0.05], [\"Jamaica\", 2674.566619, 2.22], [\"Uganda\", 181.6218836, 0.04], [\"Egypt\", 1014.832573, 1.31], [\"Zambia\", 418.6956049, 0.43], [\"Japan\", 25863.5003, 8.39], [\"Mongolia\", 464.9642398, 3.48], [\"Colombia\", 1904.910205, 1.69], [\"Malaysia\", 2246.951684, 2.29], [\"Brunei\", 22440.28618, 9.0], [\"Albania\", 1065.267404, 2.7], [\"United States\", 24484.25739, 18.89], [\"Bahamas\", 15925.02615, 8.07], [\"United Kingdom\", 16716.14667, 9.34], [\"Suriname\", 2284.046318, 4.19], [\"Israel\", 13411.42253, 5.93], [\"Portugal\", 6263.172888, 2.96], [\"Denmark\", 21717.33954, 10.42], [\"Chad\", 164.5237431, 0.04], [\"Nepal\", 153.5804041, 0.04], [\"Rwanda\", 253.3199924, 0.11], [\"Turkey\", 2716.904136, 2.03], [\"Seychelles\", 4067.235286, 1.42], [\"Barbados\", 7312.753606, 2.92], [\"Thailand\", 900.7789247, 0.91], [\"Cote d'Ivoire\", 745.149183, 0.56], [\"Vietnam\", 198.5291059, 0.3], [\"Central African Rep.\", 307.4391549, 0.06], [\"Tonga\", 1176.083274, 0.51], [\"Finland\", 16832.47773, 8.62], [\"Sweden\", 20854.00993, 6.8], [\"Australia\", 14741.70938, 15.17], [\"Grenada\", 1930.209006, 0.68], [\"Sri Lanka\", 500.0215296, 0.24], [\"New Zealand\", 11349.03122, 5.55], [\"Guyana\", 628.0318248, 1.85], [\"\\\"Korea\", 4048.952559, 3.73], [\"Venezuela\", 4923.357323, 5.63], [\"Italy\", 13815.23684, 6.45], [\"Ecuador\", 1276.131527, 2.41], [\"Bolivia\", 905.8115686, 0.69], [\"South Africa\", 3389.64262, 9.52], [\"Saint Vincent and the Grenadines\", 1623.167404, 0.64], [\"Bermuda\", 44939.04576, 7.94], [\"Romania\", 2130.955753, 8.43], [\"Brazil\", 3157.307619, 1.25], [\"Syria\", 988.9441653, 3.27], [\"Dominican Rep.\", 1823.077629, 1.19], [\"Benin\", 314.3790316, 0.13], [\"Niger\", 185.9454682, 0.15], [\"Swaziland\", 861.2658887, 0.48], [\"Austria\", 16705.30547, 7.12], [\"Guatemala\", 1449.621533, 0.51], [\"Chile\", 2289.534181, 1.94], [\"Uruguay\", 4620.718479, 1.15], [\"Indonesia\", 469.4922561, 0.7], [\"Bulgaria\", 1518.512791, 9.78], [\"Liberia\", 586.3164648, 0.34], [\"Switzerland\", 29203.31932, 6.01], [\"Iceland\", 23436.24197, 7.58], [\"Ghana\", 195.2790247, 0.2], [\"Gabon\", 5412.593991, 8.39], [\"Pakistan\", 381.8766663, 0.44], [\"French Polynesia\", 12236.91478, 2.69], [\"New Caledonia\", 8937.757051, 8.06], [\"Morocco\", 1012.914757, 0.84], [\"Vanuatu\", 1328.713365, 0.42], [\"Saudi Arabia\", 10458.75894, 12.35], [\"Luxembourg\", 22974.36297, 23.32], [\"Saint Lucia\", 2368.706899, 0.88], [\"Canada\", 17516.24039, 15.83], [\"Senegal\", 471.9578965, 0.51], [\"Paraguay\", 1309.515182, 0.43], [\"Zimbabwe\", 591.6229427, 1.2], [\"Algeria\", 2008.439753, 3.33], [\"Singapore\", 11041.60936, 12.18], [\"Mauritius\", 1767.393852, 0.62], [\"Honduras\", 1029.428917, 0.51], [\"Botswana\", 1615.036476, 1.0], [\"Cameroon\", 898.5101955, 0.62], [\"Sierra Leone\", 287.8690716, 0.17], [\"India\", 256.8078517, 0.61], [\"Kenya\", 405.9509946, 0.23], [\"Malawi\", 152.4237008, 0.08], [\"Guinea\", 315.6681071, 0.19], [\"Panama\", 3278.681817, 1.33], [\"Belize\", 1799.872373, 1.07], [\"Costa Rica\", 2817.523778, 0.78], [\"France\", 16249.61201, 7.48], [\"Ethiopia\", 137.4324001, 0.04], [\"\\\"Hong Kong\", 13416.5384, 3.93], [\"Gambia\", 354.767887, 0.23], [\"Netherlands\", 16110.05796, 10.01], [\"\\\"Congo\", 1349.249022, 0.63], [\"Bhutan\", 307.8267917, 0.04], [\"Cyprus\", 7895.146221, 4.97], [\"Spain\", 9030.303956, 5.2], [\"Hungary\", 4082.903719, 8.32], [\"Burundi\", 136.6261713, 0.05], [\"Oman\", 6527.073323, 5.66], [\"China\", 258.7213938, 1.75], [\"Norway\", 24643.94086, 7.99], [\"Mozambique\", 143.8486104, 0.12], [\"Tunisia\", 1422.915197, 1.61], [\"\\\"Macao\", 9759.360318, 2.39], [\"Greece\", 9232.716399, 5.8], [\"Samoa\", 1076.659788, 0.7], [\"Guinea-Bissau\", 164.6064757, 0.19], [\"Iran\", 1501.555596, 3.23], [\"Bahrain\", 9744.594115, 22.55], [\"Argentina\", 6774.158033, 3.52]], function(d) {return d[0];});\n",
        "    \n",
        "    circles.enter()\n",
        "           .insert(\"circle\")\n",
        "           .attr(\"cx\", function(d){return vc.data.xRange(d[1]);})\n",
        "           .attr(\"cy\", function(d){return vc.data.yRange(d[2]);})\n",
        "           .attr(\"r\", function(d){return 6;})\n",
        "           .attr(\"fill-opacity\", function(d){return 0.5;})\n",
        "           .style(\"fill\", \"red\")\n",
        "           .on(\"mouseover\", function(d) { return vc.data.update_countryname(d[0]) ;})\n",
        "           .on(\"mouseout\", function(d) { return vc.data.update_countryname(\"\") ;}) ;\n",
        "\n",
        "    circles.transition()\n",
        "           .duration(1000)\n",
        "           .attr(\"cx\", function (d) { return vc.data.xRange(d[1]); })\n",
        "           .attr(\"cy\", function (d) { return vc.data.yRange(d[2]); })\n",
        "           .attr(\"r\", function (d) { return 6; })\n",
        "           .style(\"fill\", \"blue\");\n",
        "    \n",
        "    circles.exit ()\n",
        "           .transition().duration(1000)\n",
        "           .attr(\"r\", 0)\n",
        "           .remove();\n",
        "\n",
        "    vis.selectAll(\"#year\")\n",
        "       .data([1984])\n",
        "       .transition()\n",
        "       .text(function(d){return d});\n",
        "\n",
        "    "
       ],
       "output_type": "display_data"
      },
      {
       "javascript": [
        "\n",
        "    var vc = IPython.vis_utils.name_to_viscell[\"vis\"];\n",
        "    var vis = d3.select(\"#vis svg\");\n",
        "    var circles = vis.selectAll(\"g#datapoints\")\n",
        "                 .selectAll(\"circle\")\n",
        "                 .data([[\"Sudan\", 244.0634479, 0.18], [\"Australia\", 15736.67985, 14.99], [\"\\\"Macao\", 9933.251488, 2.4], [\"Sri Lanka\", 533.3249785, 0.22], [\"Greenland\", 15958.78356, 6.08], [\"Belgium\", 16632.36429, 10.35], [\"\\\"Congo\", 1342.145096, 0.66], [\"Guinea-Bissau\", 164.0280012, 0.2], [\"Argentina\", 6562.688709, 3.35], [\"Mali\", 183.8339297, 0.05], [\"Nicaragua\", 870.5349249, 0.64], [\"Philippines\", 816.9261052, 0.52], [\"Malta\", 5303.617197, 4.28], [\"Bangladesh\", 242.4098133, 0.11], [\"Zambia\", 402.2406014, 0.41], [\"Burkina Faso\", 183.6351267, 0.07], [\"Kiribati\", 646.4507003, 0.29], [\"Comoros\", 434.558448, 0.13], [\"Jordan\", 2117.769951, 3.41], [\"Madagascar\", 289.4126971, 0.11], [\"Laos\", 215.5657114, 0.06], [\"Peru\", 2187.748748, 1.1], [\"Cape Verde\", 803.7531514, 0.18], [\"Papua New Guinea\", 624.6996799, 0.6], [\"Equatorial Guinea\", 574.5267642, 0.24], [\"Egypt\", 1051.588487, 1.45], [\"United Arab Emirates\", 22435.66328, 27.56], [\"Niger\", 201.2877527, 0.13], [\"Dominica\", 2521.961433, 0.64], [\"Saint Kitts and Nevis\", 3951.946631, 1.37], [\"Albania\", 1091.482476, 2.67], [\"United States\", 25890.65226, 18.66], [\"Bahamas\", 16349.08128, 5.89], [\"Mauritania\", 426.0835796, 0.21], [\"India\", 271.4697849, 0.68], [\"Nigeria\", 315.9550111, 0.93], [\"Nepal\", 162.5788375, 0.04], [\"Togo\", 277.697655, 0.23], [\"Jamaica\", 2581.413357, 1.96], [\"Uganda\", 164.587089, 0.05], [\"Rwanda\", 256.7299891, 0.1], [\"Japan\", 27642.61315, 8.12], [\"Mongolia\", 504.5502927, 4.93], [\"Colombia\", 1992.41502, 1.62], [\"Turkey\", 2915.910855, 2.52], [\"Seychelles\", 4446.920001, 2.32], [\"Vietnam\", 202.841641, 0.38], [\"Central African Rep.\", 314.6846582, 0.06], [\"Suriname\", 2122.654365, 4.64], [\"Israel\", 14065.1204, 6.44], [\"Finland\", 17710.57504, 10.87], [\"Portugal\", 6691.108434, 3.05], [\"Denmark\", 23667.76658, 12.11], [\"Guyana\", 644.3008018, 1.38], [\"Venezuela\", 4981.422963, 6.28], [\"Chad\", 181.4453763, 0.04], [\"Italy\", 14603.06276, 6.43], [\"Bolivia\", 830.8097156, 0.63], [\"South Africa\", 3180.687999, 9.43], [\"Gabon\", 4929.886851, 6.86], [\"Saint Vincent and the Grenadines\", 1811.833065, 0.63], [\"Thailand\", 959.2163975, 0.95], [\"Brazil\", 3530.122817, 1.42], [\"Dominican Rep.\", 1768.136893, 1.26], [\"Tonga\", 1290.947977, 0.51], [\"Sweden\", 21833.93005, 7.34], [\"Benin\", 325.7458618, 0.17], [\"Grenada\", 2219.972539, 0.79], [\"Uruguay\", 5037.451264, 1.05], [\"Indonesia\", 495.4682959, 0.73], [\"New Zealand\", 11589.86155, 6.62], [\"\\\"Korea\", 4572.112231, 4.37], [\"Bulgaria\", 1619.063641, 10.22], [\"Switzerland\", 30452.49128, 6.41], [\"Ghana\", 202.7990967, 0.22], [\"Ecuador\", 1298.481852, 1.64], [\"Vanuatu\", 1278.630697, 0.42], [\"Canada\", 18437.71213, 14.78], [\"Romania\", 2161.037458, 8.94], [\"Paraguay\", 1285.159497, 0.46], [\"Zimbabwe\", 599.2258276, 1.48], [\"Singapore\", 11109.09501, 12.74], [\"Syria\", 929.3556097, 2.89], [\"Mauritius\", 2043.189756, 0.77], [\"Honduras\", 1017.209106, 0.44], [\"Cameroon\", 976.1494081, 0.19], [\"Swaziland\", 928.7177958, 0.61], [\"Fiji\", 1742.083326, 0.85], [\"Austria\", 17482.0495, 7.06], [\"Guatemala\", 1375.608664, 0.52], [\"Chile\", 2505.132056, 1.78], [\"Malaysia\", 2124.590494, 2.51], [\"Guinea\", 323.697267, 0.18], [\"Liberia\", 555.8175472, 0.33], [\"Iceland\", 25302.45469, 7.41], [\"Belize\", 1808.312421, 1.2], [\"Spain\", 9479.610265, 4.73], [\"Pakistan\", 410.9011709, 0.48], [\"New Caledonia\", 9043.372052, 9.03], [\"Morocco\", 1111.123323, 0.84], [\"Saudi Arabia\", 9419.446551, 14.63], [\"Luxembourg\", 25741.58726, 23.28], [\"Saint Lucia\", 2486.198635, 0.99], [\"France\", 16783.86707, 7.03], [\"Senegal\", 474.0217325, 0.38], [\"Algeria\", 1970.04379, 3.37], [\"Brunei\", 20328.0197, 10.1], [\"Botswana\", 1757.191851, 1.19], [\"Bermuda\", 45901.37589, 7.53], [\"Netherlands\", 16849.29426, 9.93], [\"Sierra Leone\", 262.1017742, 0.18], [\"French Polynesia\", 13281.02826, 3.35], [\"Cyprus\", 8386.840031, 5.45], [\"Kenya\", 421.6180679, 0.2], [\"Barbados\", 7965.48613, 3.55], [\"Malawi\", 144.3307952, 0.07], [\"China\", 310.5157429, 1.94], [\"Norway\", 26823.77802, 8.07], [\"Panama\", 3416.79581, 1.25], [\"Mozambique\", 139.9765842, 0.07], [\"United Kingdom\", 17930.26205, 9.98], [\"Ireland\", 10882.13165, 8.18], [\"Costa Rica\", 2851.768147, 0.96], [\"Tunisia\", 1392.541244, 1.6], [\"Angola\", 773.1610642, 0.6], [\"Greece\", 9448.479239, 5.95], [\"Cote d'Ivoire\", 742.2423419, 0.57], [\"Samoa\", 1172.378143, 0.69], [\"Burundi\", 147.3249906, 0.05], [\"Ethiopia\", 125.5578686, 0.05], [\"Iran\", 1291.135541, 2.95], [\"Bahrain\", 8763.998975, 25.05], [\"\\\"Hong Kong\", 14544.50599, 4.22], [\"Gambia\", 339.6249866, 0.2], [\"Bhutan\", 326.3309504, 0.04], [\"Mexico\", 4753.520686, 3.96], [\"Hungary\", 4168.47922, 7.59], [\"El Salvador\", 1496.320283, 0.42], [\"Oman\", 6957.877774, 6.18]], function(d) {return d[0];});\n",
        "    \n",
        "    circles.enter()\n",
        "           .insert(\"circle\")\n",
        "           .attr(\"cx\", function(d){return vc.data.xRange(d[1]);})\n",
        "           .attr(\"cy\", function(d){return vc.data.yRange(d[2]);})\n",
        "           .attr(\"r\", function(d){return 6;})\n",
        "           .attr(\"fill-opacity\", function(d){return 0.5;})\n",
        "           .style(\"fill\", \"red\")\n",
        "           .on(\"mouseover\", function(d) { return vc.data.update_countryname(d[0]) ;})\n",
        "           .on(\"mouseout\", function(d) { return vc.data.update_countryname(\"\") ;}) ;\n",
        "\n",
        "    circles.transition()\n",
        "           .duration(1000)\n",
        "           .attr(\"cx\", function (d) { return vc.data.xRange(d[1]); })\n",
        "           .attr(\"cy\", function (d) { return vc.data.yRange(d[2]); })\n",
        "           .attr(\"r\", function (d) { return 6; })\n",
        "           .style(\"fill\", \"blue\");\n",
        "    \n",
        "    circles.exit ()\n",
        "           .transition().duration(1000)\n",
        "           .attr(\"r\", 0)\n",
        "           .remove();\n",
        "\n",
        "    vis.selectAll(\"#year\")\n",
        "       .data([1986])\n",
        "       .transition()\n",
        "       .text(function(d){return d});\n",
        "\n",
        "    "
       ],
       "output_type": "display_data"
      },
      {
       "javascript": [
        "\n",
        "    var vc = IPython.vis_utils.name_to_viscell[\"vis\"];\n",
        "    var vis = d3.select(\"#vis svg\");\n",
        "    var circles = vis.selectAll(\"g#datapoints\")\n",
        "                 .selectAll(\"circle\")\n",
        "                 .data([[\"Sweden\", 23009.63431, 6.8], [\"Guyana\", 634.8459515, 1.86], [\"French Polynesia\", 13897.37947, 2.99], [\"Guinea\", 335.4270882, 0.18], [\"China\", 373.4961798, 2.14], [\"Mozambique\", 174.3104995, 0.08], [\"Switzerland\", 31530.53015, 6.07], [\"Jamaica\", 2869.404564, 1.94], [\"Iceland\", 26682.49553, 7.62], [\"Uganda\", 172.1488317, 0.05], [\"South Africa\", 3222.656138, 9.33], [\"Fiji\", 1634.290305, 0.76], [\"Vietnam\", 210.3754204, 0.36], [\"Brunei\", 19805.36416, 23.52], [\"Colombia\", 2096.968474, 1.66], [\"Angola\", 837.6094269, 0.64], [\"Luxembourg\", 28727.73871, 23.04], [\"Samoa\", 1148.93743, 0.68], [\"United States\", 27362.0751, 19.94], [\"Dominican Rep.\", 1906.428165, 1.45], [\"Iran\", 1122.060305, 3.31], [\"Paraguay\", 1348.840155, 0.56], [\"Lebanon\", 4275.93489, 2.47], [\"Zimbabwe\", 608.1063841, 1.68], [\"Bahamas\", 16629.41161, 6.21], [\"Suriname\", 1928.64917, 4.86], [\"Argentina\", 6391.585739, 3.78], [\"Portugal\", 7683.949242, 3.4], [\"Philippines\", 864.4819529, 0.65], [\"Austria\", 18153.73914, 6.98], [\"Guatemala\", 1413.08311, 0.55], [\"Uruguay\", 5452.288594, 1.57], [\"Bangladesh\", 245.1221749, 0.13], [\"Zambia\", 412.5251158, 0.42], [\"Kenya\", 441.8458977, 0.22], [\"Chad\", 192.0324129, 0.01], [\"Nepal\", 169.8441281, 0.05], [\"New Caledonia\", 12406.17051, 9.56], [\"Vanuatu\", 1163.300637, 0.45], [\"Cyprus\", 9548.513755, 6.22], [\"Saudi Arabia\", 8849.304763, 13.3], [\"Senegal\", 471.3813875, 0.37], [\"Venezuela\", 5194.644417, 6.32], [\"Singapore\", 13060.84504, 12.58], [\"Botswana\", 2208.462982, 1.36], [\"Cameroon\", 828.0169544, 0.2], [\"Finland\", 19147.84791, 10.55], [\"Gambia\", 335.7708016, 0.21], [\"Sierra Leone\", 246.8382629, 0.12], [\"Netherlands\", 17559.4975, 10.11], [\"Spain\", 10468.42212, 5.04], [\"Hungary\", 4372.609149, 7.3], [\"\\\"Korea\", 5515.284803, 4.61], [\"Malawi\", 134.1904394, 0.06], [\"Jordan\", 1990.73395, 3.19], [\"Aruba\", 15071.75786, 9.29], [\"Oman\", 6604.8789, 6.17], [\"Bolivia\", 837.9933249, 0.69], [\"Costa Rica\", 3000.444244, 1.02], [\"Tunisia\", 1417.864745, 1.58], [\"Malaysia\", 2321.657254, 2.55], [\"\\\"Congo\", 1180.45022, 0.64], [\"Brazil\", 3515.960846, 1.44], [\"United Kingdom\", 19606.27383, 10.02], [\"Swaziland\", 1039.459699, 0.53], [\"Chile\", 2770.496883, 2.15], [\"Indonesia\", 535.2930388, 0.77], [\"Malta\", 5876.309333, 5.72], [\"Turkey\", 3152.090502, 2.29], [\"Kiribati\", 709.7161285, 0.33], [\"Norway\", 26995.03716, 7.95], [\"Liberia\", 539.0874883, 0.35], [\"El Salvador\", 1524.580161, 0.5], [\"Burundi\", 153.1310959, 0.05], [\"Ghana\", 212.3820044, 0.24], [\"Sudan\", 265.2471103, 0.19], [\"Pakistan\", 446.60108, 0.54], [\"Papua New Guinea\", 627.9893598, 0.6], [\"Morocco\", 1144.269751, 0.9], [\"Dominica\", 2965.104131, 0.75], [\"Greece\", 9560.994323, 6.81], [\"Greenland\", 17361.16383, 9.95], [\"Canada\", 19659.66977, 16.15], [\"Belgium\", 17747.72539, 10.07], [\"Algeria\", 1833.908256, 3.51], [\"Mauritius\", 2339.057639, 0.81], [\"Mexico\", 4712.403086, 3.96], [\"Burkina Faso\", 183.6682199, 0.07], [\"New Zealand\", 11363.46983, 7.28], [\"Comoros\", 430.4419324, 0.15], [\"Madagascar\", 286.1647971, 0.12], [\"Belize\", 2082.053733, 1.37], [\"Cape Verde\", 838.6013343, 0.22], [\"Italy\", 15692.09583, 6.87], [\"Egypt\", 1074.960327, 1.38], [\"Togo\", 278.4038689, 0.24], [\"Barbados\", 8469.458465, 3.63], [\"Japan\", 30352.51022, 8.78], [\"Australia\", 16421.64669, 15.8], [\"Mongolia\", 512.684028, 5.6], [\"Sri Lanka\", 541.0994907, 0.2], [\"Saint Vincent and the Grenadines\", 2143.467355, 0.63], [\"Saint Kitts and Nevis\", 4717.689925, 1.57], [\"Ethiopia\", 134.7233113, 0.06], [\"Romania\", 2145.75153, 9.35], [\"Albania\", 1013.391112, 2.34], [\"Mali\", 178.5664858, 0.05], [\"Nicaragua\", 725.2914721, 0.67], [\"Benin\", 312.9524045, 0.13], [\"Bhutan\", 422.2081696, 0.07], [\"Niger\", 203.2518756, 0.13], [\"Denmark\", 23660.94706, 10.72], [\"Bulgaria\", 1899.929489, 9.72], [\"Laos\", 196.7389826, 0.05], [\"Gabon\", 4330.754413, 7.68], [\"Equatorial Guinea\", 572.5427745, 0.3], [\"\\\"Macao\", 11119.97948, 3.01], [\"Rwanda\", 244.5246847, 0.11], [\"Saint Lucia\", 2762.017223, 1.21], [\"Seychelles\", 4824.361303, 2.74], [\"Guinea-Bissau\", 169.428952, 0.23], [\"Thailand\", 1154.196355, 1.25], [\"Bahrain\", 9643.587772, 25.91], [\"Central African Rep.\", 291.5098053, 0.08], [\"Israel\", 14886.07467, 7.03], [\"India\", 296.6272873, 0.75], [\"Honduras\", 1063.73537, 0.55], [\"Ireland\", 12018.79814, 8.53], [\"Grenada\", 2606.590655, 1.11], [\"Panama\", 2789.201117, 1.21], [\"Peru\", 2063.780808, 1.22], [\"Nigeria\", 326.6839302, 0.84], [\"United Arab Emirates\", 20766.2484, 26.29], [\"Ecuador\", 1310.860748, 1.76], [\"Bermuda\", 48034.80641, 11.35], [\"France\", 17821.72063, 6.63], [\"Cote d'Ivoire\", 694.5309729, 0.82], [\"Tonga\", 1293.507027, 0.75], [\"Syria\", 1004.324558, 3.18], [\"\\\"Hong Kong\", 17885.43946, 5.06], [\"Mauritania\", 419.7026533, 1.71]], function(d) {return d[0];});\n",
        "    \n",
        "    circles.enter()\n",
        "           .insert(\"circle\")\n",
        "           .attr(\"cx\", function(d){return vc.data.xRange(d[1]);})\n",
        "           .attr(\"cy\", function(d){return vc.data.yRange(d[2]);})\n",
        "           .attr(\"r\", function(d){return 6;})\n",
        "           .attr(\"fill-opacity\", function(d){return 0.5;})\n",
        "           .style(\"fill\", \"red\")\n",
        "           .on(\"mouseover\", function(d) { return vc.data.update_countryname(d[0]) ;})\n",
        "           .on(\"mouseout\", function(d) { return vc.data.update_countryname(\"\") ;}) ;\n",
        "\n",
        "    circles.transition()\n",
        "           .duration(1000)\n",
        "           .attr(\"cx\", function (d) { return vc.data.xRange(d[1]); })\n",
        "           .attr(\"cy\", function (d) { return vc.data.yRange(d[2]); })\n",
        "           .attr(\"r\", function (d) { return 6; })\n",
        "           .style(\"fill\", \"blue\");\n",
        "    \n",
        "    circles.exit ()\n",
        "           .transition().duration(1000)\n",
        "           .attr(\"r\", 0)\n",
        "           .remove();\n",
        "\n",
        "    vis.selectAll(\"#year\")\n",
        "       .data([1988])\n",
        "       .transition()\n",
        "       .text(function(d){return d});\n",
        "\n",
        "    "
       ],
       "output_type": "display_data"
      },
      {
       "javascript": [
        "\n",
        "    var vc = IPython.vis_utils.name_to_viscell[\"vis\"];\n",
        "    var vis = d3.select(\"#vis svg\");\n",
        "    var circles = vis.selectAll(\"g#datapoints\")\n",
        "                 .selectAll(\"circle\")\n",
        "                 .data([[\"\\\"Korea\", 6390.011522, 5.48], [\"Ireland\", 13892.26979, 8.81], [\"Indonesia\", 615.3311188, 0.84], [\"New Caledonia\", 13562.65295, 9.65], [\"\\\"Hong Kong\", 19493.10409, 5.36], [\"Tonga\", 1254.494981, 0.84], [\"Saint Kitts and Nevis\", 5227.858721, 1.59], [\"France\", 18759.6333, 7.02], [\"Rwanda\", 234.0107874, 0.1], [\"Marshall Islands\", 2639.188661, 1.04], [\"Norway\", 27576.90404, 7.39], [\"Gabon\", 4639.962355, 6.49], [\"Austria\", 19323.63941, 7.86], [\"Vanuatu\", 1251.90586, 0.45], [\"Samoa\", 1123.841473, 0.73], [\"Egypt\", 1134.885845, 1.34], [\"Philippines\", 900.7229318, 0.69], [\"Albania\", 977.7655298, 2.3], [\"Mongolia\", 496.1087918, 4.53], [\"Fiji\", 1845.42147, 1.11], [\"Oman\", 6865.240853, 5.84], [\"Papua New Guinea\", 570.5182132, 0.56], [\"Ghana\", 218.2652329, 0.26], [\"Mali\", 188.354078, 0.05], [\"Mauritius\", 2579.067203, 1.36], [\"Madagascar\", 289.6825911, 0.09], [\"Honduras\", 1049.233926, 0.54], [\"Peru\", 1657.329808, 0.98], [\"Burkina Faso\", 176.4957746, 0.07], [\"Netherlands\", 18857.34615, 11.2], [\"Finland\", 20059.66808, 10.23], [\"Paraguay\", 1394.812291, 0.53], [\"Japan\", 33369.2837, 9.49], [\"Bolivia\", 869.6465076, 0.84], [\"Morocco\", 1171.148668, 0.95], [\"Niger\", 190.6643578, 0.13], [\"Benin\", 294.4292456, 0.15], [\"El Salvador\", 1570.97123, 0.51], [\"Malawi\", 131.5157875, 0.07], [\"Burundi\", 152.2796164, 0.06], [\"Israel\", 15291.37732, 7.43], [\"Greece\", 9803.196725, 7.18], [\"Jamaica\", 3159.362567, 3.39], [\"Greenland\", 16112.32709, 10.01], [\"Comoros\", 415.6582566, 0.18], [\"Uganda\", 181.3361831, 0.05], [\"Switzerland\", 33488.27923, 6.28], [\"China\", 391.6547135, 2.13], [\"Nepal\", 176.7079784, 0.03], [\"Denmark\", 24102.31233, 9.81], [\"Guyana\", 590.1667831, 1.52], [\"Cape Verde\", 854.1219686, 0.25], [\"Belgium\", 18815.29031, 10.79], [\"Sierra Leone\", 248.4334058, 0.09], [\"Mauritania\", 410.4179972, 1.34], [\"Syria\", 925.3493638, 3.01], [\"Brunei\", 18713.33125, 24.87], [\"Namibia\", 1828.38774, 0.0], [\"Nicaragua\", 681.6468847, 0.72], [\"Angola\", 793.8746568, 0.53], [\"Brazil\", 3354.752532, 1.38], [\"New Zealand\", 11105.03718, 6.77], [\"Guinea\", 339.7181154, 0.17], [\"Seychelles\", 5645.415813, 1.55], [\"United Arab Emirates\", 24850.21043, 28.1], [\"Argentina\", 5606.857227, 3.41], [\"Jordan\", 1617.880332, 3.19], [\"Luxembourg\", 32476.71748, 25.88], [\"Algeria\", 1833.951569, 3.14], [\"United Kingdom\", 20097.14326, 9.98], [\"Cameroon\", 718.767405, 0.15], [\"Suriname\", 2050.384335, 4.59], [\"Italy\", 16530.53885, 7.49], [\"Sudan\", 260.6748093, 0.21], [\"Liberia\", 199.8314662, 0.23], [\"Zambia\", 382.7321653, 0.31], [\"Hungary\", 4278.878809, 5.97], [\"Laos\", 226.5709573, 0.06], [\"Panama\", 2939.580457, 1.31], [\"Botswana\", 2511.652326, 1.72], [\"Cote d'Ivoire\", 658.0006019, 0.48], [\"Thailand\", 1400.312056, 1.74], [\"Dominican Rep.\", 1805.768078, 1.35], [\"United States\", 28262.62003, 19.45], [\"Chad\", 181.1079936, 0.02], [\"French Polynesia\", 14003.05037, 3.12], [\"Kiribati\", 640.0334186, 0.31], [\"Uruguay\", 5457.765575, 1.29], [\"Malaysia\", 2607.585422, 3.23], [\"Solomon Islands\", 1086.844609, 0.48], [\"Saudi Arabia\", 8864.56789, 13.39], [\"Guatemala\", 1446.418127, 0.64], [\"India\", 318.4107343, 0.82], [\"Cyprus\", 10683.77871, 6.83], [\"Portugal\", 8563.810264, 4.47], [\"Central African Rep.\", 278.1649933, 0.06], [\"Iceland\", 26543.80856, 8.06], [\"Sri Lanka\", 573.9157433, 0.22], [\"Costa Rica\", 3111.475461, 0.98], [\"Zimbabwe\", 643.6862085, 1.64], [\"Saint Vincent and the Grenadines\", 2286.633618, 0.76], [\"Iran\", 1292.164719, 3.98], [\"Grenada\", 2962.264253, 1.31], [\"Tanzania\", 275.0309438, 0.09], [\"Belize\", 2477.777778, 1.63], [\"Equatorial Guinea\", 547.1261754, 0.33], [\"\\\"Macao\", 11771.96585, 3.02], [\"Nigeria\", 359.3423949, 0.51], [\"Dominica\", 3135.388542, 0.81], [\"Gambia\", 340.0497173, 0.2], [\"Aruba\", 18150.78178, 27.62], [\"Poland\", 3096.653088, 9.13], [\"Djibouti\", 1178.039733, 1.09], [\"Bhutan\", 473.4455754, 0.08], [\"Bangladesh\", 254.8806176, 0.14], [\"Turkey\", 3335.761014, 2.61], [\"Ecuador\", 1296.948752, 1.63], [\"Tunisia\", 1500.63824, 1.62], [\"Canada\", 19561.87971, 16.19], [\"Ethiopia\", 129.0819719, 0.06], [\"Bahrain\", 9426.689436, 23.74], [\"Australia\", 17146.57458, 17.22], [\"Bahamas\", 16849.1878, 7.58], [\"Guinea-Bissau\", 182.0582119, 0.25], [\"Barbados\", 8418.07773, 4.09], [\"Lebanon\", 3039.97207, 2.89], [\"Togo\", 272.7134161, 0.22], [\"Pakistan\", 465.3757301, 0.6], [\"Mexico\", 4966.300675, 4.53], [\"Malta\", 6642.538667, 6.29], [\"Swaziland\", 1195.480102, 0.48], [\"Chile\", 3067.02405, 2.7], [\"Bermuda\", 46821.5241, 10.34], [\"Vietnam\", 226.8579788, 0.32], [\"Kenya\", 449.9382023, 0.25], [\"\\\"Congo\", 1163.714094, 0.69], [\"Colombia\", 2210.282969, 1.74], [\"Spain\", 11346.1747, 5.82], [\"Sweden\", 23544.73594, 5.95], [\"South Africa\", 3151.837477, 8.69], [\"Mozambique\", 184.5222102, 0.08], [\"Bulgaria\", 1720.275802, 8.62], [\"Saint Lucia\", 3618.931287, 1.18], [\"Venezuela\", 4823.487126, 6.32], [\"Singapore\", 14657.84463, 15.4], [\"Romania\", 1895.531397, 6.95], [\"Senegal\", 459.4571593, 0.41]], function(d) {return d[0];});\n",
        "    \n",
        "    circles.enter()\n",
        "           .insert(\"circle\")\n",
        "           .attr(\"cx\", function(d){return vc.data.xRange(d[1]);})\n",
        "           .attr(\"cy\", function(d){return vc.data.yRange(d[2]);})\n",
        "           .attr(\"r\", function(d){return 6;})\n",
        "           .attr(\"fill-opacity\", function(d){return 0.5;})\n",
        "           .style(\"fill\", \"red\")\n",
        "           .on(\"mouseover\", function(d) { return vc.data.update_countryname(d[0]) ;})\n",
        "           .on(\"mouseout\", function(d) { return vc.data.update_countryname(\"\") ;}) ;\n",
        "\n",
        "    circles.transition()\n",
        "           .duration(1000)\n",
        "           .attr(\"cx\", function (d) { return vc.data.xRange(d[1]); })\n",
        "           .attr(\"cy\", function (d) { return vc.data.yRange(d[2]); })\n",
        "           .attr(\"r\", function (d) { return 6; })\n",
        "           .style(\"fill\", \"blue\");\n",
        "    \n",
        "    circles.exit ()\n",
        "           .transition().duration(1000)\n",
        "           .attr(\"r\", 0)\n",
        "           .remove();\n",
        "\n",
        "    vis.selectAll(\"#year\")\n",
        "       .data([1990])\n",
        "       .transition()\n",
        "       .text(function(d){return d});\n",
        "\n",
        "    "
       ],
       "output_type": "display_data"
      },
      {
       "javascript": [
        "\n",
        "    var vc = IPython.vis_utils.name_to_viscell[\"vis\"];\n",
        "    var vis = d3.select(\"#vis svg\");\n",
        "    var circles = vis.selectAll(\"g#datapoints\")\n",
        "                 .selectAll(\"circle\")\n",
        "                 .data([[\"Austria\", 20158.39403, 7.62], [\"Vanuatu\", 1248.684475, 0.41], [\"Philippines\", 857.3453584, 0.75], [\"Turkmenistan\", 888.1710794, 7.29], [\"Mozambique\", 173.7353919, 0.08], [\"Bulgaria\", 1490.893196, 5.99], [\"Mongolia\", 400.3344856, 4.79], [\"Venezuela\", 5366.577735, 5.22], [\"Oman\", 7352.925721, 6.32], [\"Singapore\", 15664.30337, 15.53], [\"Papua New Guinea\", 675.6198112, 0.51], [\"\\\"Yemen\", 435.2638349, 0.78], [\"Croatia\", 3919.89256, 3.77], [\"Madagascar\", 258.6150688, 0.09], [\"Indonesia\", 696.1592092, 1.1], [\"Fiji\", 1866.297215, 0.98], [\"Peru\", 1620.560669, 0.91], [\"Burkina Faso\", 182.5423377, 0.07], [\"Turkey\", 3407.227959, 2.6], [\"France\", 19028.45837, 6.94], [\"Djibouti\", 1066.981204, 1.08], [\"Japan\", 34628.62186, 9.72], [\"Morocco\", 1159.175843, 1.01], [\"Rwanda\", 268.5750102, 0.09], [\"United Arab Emirates\", 23057.35209, 29.81], [\"Norway\", 29126.48339, 6.92], [\"Gabon\", 4471.966188, 2.9], [\"Malawi\", 127.6787943, 0.07], [\"Thailand\", 1600.308666, 2.24], [\"Israel\", 15823.39171, 8.41], [\"Albania\", 643.9187325, 0.72], [\"Jamaica\", 3330.939118, 3.4], [\"Comoros\", 407.0782276, 0.17], [\"Palau\", 6580.207861, 7.14], [\"Uganda\", 184.7417066, 0.05], [\"Denmark\", 24753.58299, 10.47], [\"Ghana\", 225.377306, 0.25], [\"Moldova\", 534.8498962, 4.71], [\"Uruguay\", 6015.585003, 1.64], [\"Mali\", 199.2986825, 0.05], [\"Mauritius\", 2805.183444, 1.56], [\"Cape Verde\", 853.0693865, 0.28], [\"Honduras\", 1083.139686, 0.61], [\"Netherlands\", 19354.32232, 11.24], [\"Finland\", 17903.41635, 9.75], [\"Paraguay\", 1405.050738, 0.58], [\"Sierra Leone\", 206.2383001, 0.11], [\"Bolivia\", 888.3196713, 0.96], [\"Mauritania\", 403.9224097, 1.39], [\"Syria\", 1068.813115, 3.36], [\"Benin\", 298.6732028, 0.18], [\"Niger\", 171.4621734, 0.13], [\"Vietnam\", 250.6033959, 0.32], [\"Germany\", 20566.24512, 11.54], [\"Brunei\", 19115.06154, 21.22], [\"El Salvador\", 1697.753264, 0.65], [\"Burundi\", 155.0476494, 0.05], [\"Greece\", 9972.717576, 7.31], [\"Greenland\", 15354.55447, 8.7], [\"New Zealand\", 10817.74315, 7.23], [\"Azerbaijan\", 932.2568554, 5.96], [\"Saint Lucia\", 3888.29502, 1.44], [\"Switzerland\", 32417.27746, 6.19], [\"Guinea\", 331.7526509, 0.15], [\"China\", 475.9310091, 2.27], [\"Nepal\", 186.2921446, 0.07], [\"Argentina\", 6877.862402, 3.58], [\"Guyana\", 672.7876685, 1.41], [\"Luxembourg\", 34980.41643, 30.12], [\"Belgium\", 19303.18542, 11.35], [\"Algeria\", 1757.413153, 3.13], [\"Czech Rep.\", 4712.693491, 12.7], [\"Tajikistan\", 270.0036102, 3.8], [\"Suriname\", 2043.193815, 5.24], [\"Namibia\", 1996.042318, 0.01], [\"Nicaragua\", 650.8000772, 0.62], [\"Angola\", 684.2032253, 0.51], [\"Brazil\", 3281.753355, 1.41], [\"Belarus\", 1255.818546, 9.56], [\"Liberia\", 119.4377934, 0.15], [\"Zambia\", 355.1313825, 0.29], [\"Hungary\", 3656.149951, 5.61], [\"Panama\", 3340.267513, 1.62], [\"Estonia\", 2811.098517, 16.36], [\"Russia\", 2106.223762, 13.98], [\"Slovak Republic\", 4133.631909, 8.36], [\"Seychelles\", 6072.95358, 2.2], [\"Botswana\", 2622.548477, 2.45], [\"Cote d'Ivoire\", 611.5105441, 0.36], [\"Chad\", 199.574091, 0.01], [\"Jordan\", 1660.043442, 3.17], [\"French Polynesia\", 14222.3316, 3.04], [\"Kiribati\", 625.9388403, 0.29], [\"Malaysia\", 2949.971763, 4.11], [\"Saudi Arabia\", 9707.54491, 16.92], [\"Guatemala\", 1500.518921, 0.71], [\"Haiti\", 477.5987319, 0.14], [\"Portugal\", 8974.517674, 5.24], [\"Iceland\", 24973.38872, 7.26], [\"Marshall Islands\", 2566.574826, 1.15], [\"Egypt\", 1147.90475, 1.37], [\"Costa Rica\", 3316.313768, 1.19], [\"Italy\", 16890.38315, 7.64], [\"Sudan\", 283.8792015, 0.17], [\"Grenada\", 2991.987067, 1.4], [\"Tanzania\", 264.0218689, 0.09], [\"\\\"Macao\", 12631.57869, 3.0], [\"Laos\", 236.0943491, 0.06], [\"Ukraine\", 1141.121045, 11.79], [\"Nigeria\", 368.0307741, 0.69], [\"Georgia\", 662.8804505, 2.86], [\"Dominica\", 3233.045285, 0.82], [\"Gambia\", 335.3687455, 0.19], [\"Armenia\", 419.9751209, 1.09], [\"Dominican Rep.\", 1935.217416, 1.52], [\"United States\", 28365.70324, 18.92], [\"Poland\", 2935.825768, 8.85], [\"Bhutan\", 518.4729199, 0.13], [\"Kyrgyzstan\", 358.924716, 2.46], [\"Bangladesh\", 265.2386213, 0.16], [\"Ecuador\", 1324.651928, 2.07], [\"India\", 326.6270958, 0.9], [\"Cyprus\", 11172.38239, 7.46], [\"Central African Rep.\", 246.0045105, 0.07], [\"Kazakhstan\", 1350.872287, 15.8], [\"Sri Lanka\", 611.8512277, 0.29], [\"Ethiopia\", 102.2859536, 0.06], [\"Zimbabwe\", 586.8636877, 1.69], [\"Saint Vincent and the Grenadines\", 2462.351162, 0.78], [\"Guinea-Bissau\", 183.570718, 0.25], [\"Barbados\", 7758.764685, 3.7], [\"Iran\", 1468.754727, 4.1], [\"Togo\", 248.0317378, 0.22], [\"Pakistan\", 500.7000789, 0.61], [\"Samoa\", 1079.240273, 0.74], [\"Belize\", 2913.254327, 1.77], [\"Equatorial Guinea\", 557.8075052, 0.32], [\"Malta\", 7258.372593, 7.29], [\"Swaziland\", 1183.585207, 0.27], [\"Chile\", 3584.93386, 2.6], [\"Aruba\", 18012.65308, 25.65], [\"South Africa\", 2929.028765, 8.13], [\"Kenya\", 423.5405222, 0.22], [\"\\\"Congo\", 1137.769847, 0.54], [\"Colombia\", 2285.214022, 1.81], [\"Spain\", 11673.50283, 6.14], [\"Solomon Islands\", 1226.145149, 0.45], [\"Tunisia\", 1614.514061, 1.76], [\"Canada\", 18826.65515, 16.39], [\"Sweden\", 22711.31412, 6.52], [\"Bahrain\", 10456.58642, 20.0], [\"Australia\", 16625.23128, 16.97], [\"Bermuda\", 44769.69128, 6.93], [\"Bahamas\", 14940.68595, 6.79], [\"Lebanon\", 4133.652691, 3.53], [\"Romania\", 1532.657841, 5.49], [\"Senegal\", 450.9252288, 0.42], [\"\\\"Korea\", 7473.60979, 6.14], [\"United Kingdom\", 19731.64901, 10.12], [\"Ireland\", 14455.22018, 8.93], [\"Mexico\", 5168.604438, 4.56], [\"Latvia\", 2348.670808, 5.09], [\"Lithuania\", 3224.218761, 5.99], [\"New Caledonia\", 13595.24236, 10.08], [\"\\\"Hong Kong\", 21161.4499, 5.02], [\"Tonga\", 1320.903188, 0.96], [\"Saint Kitts and Nevis\", 5479.446788, 1.8], [\"Uzbekistan\", 578.5541131, 5.27], [\"Cameroon\", 632.4030651, 0.3], [\"Slovenia\", 7168.348004, 6.18]], function(d) {return d[0];});\n",
        "    \n",
        "    circles.enter()\n",
        "           .insert(\"circle\")\n",
        "           .attr(\"cx\", function(d){return vc.data.xRange(d[1]);})\n",
        "           .attr(\"cy\", function(d){return vc.data.yRange(d[2]);})\n",
        "           .attr(\"r\", function(d){return 6;})\n",
        "           .attr(\"fill-opacity\", function(d){return 0.5;})\n",
        "           .style(\"fill\", \"red\")\n",
        "           .on(\"mouseover\", function(d) { return vc.data.update_countryname(d[0]) ;})\n",
        "           .on(\"mouseout\", function(d) { return vc.data.update_countryname(\"\") ;}) ;\n",
        "\n",
        "    circles.transition()\n",
        "           .duration(1000)\n",
        "           .attr(\"cx\", function (d) { return vc.data.xRange(d[1]); })\n",
        "           .attr(\"cy\", function (d) { return vc.data.yRange(d[2]); })\n",
        "           .attr(\"r\", function (d) { return 6; })\n",
        "           .style(\"fill\", \"blue\");\n",
        "    \n",
        "    circles.exit ()\n",
        "           .transition().duration(1000)\n",
        "           .attr(\"r\", 0)\n",
        "           .remove();\n",
        "\n",
        "    vis.selectAll(\"#year\")\n",
        "       .data([1992])\n",
        "       .transition()\n",
        "       .text(function(d){return d});\n",
        "\n",
        "    "
       ],
       "output_type": "display_data"
      },
      {
       "javascript": [
        "\n",
        "    var vc = IPython.vis_utils.name_to_viscell[\"vis\"];\n",
        "    var vis = d3.select(\"#vis svg\");\n",
        "    var circles = vis.selectAll(\"g#datapoints\")\n",
        "                 .selectAll(\"circle\")\n",
        "                 .data([[\"Moldova\", 366.6345757, 2.71], [\"Mali\", 189.202705, 0.05], [\"Madagascar\", 248.2178346, 0.1], [\"Malta\", 7863.632941, 7.32], [\"\\\"Macedonia\", 1640.822887, 5.39], [\"Swaziland\", 1212.382451, 0.49], [\"Honduras\", 1078.21553, 0.62], [\"Latvia\", 2355.689476, 4.3], [\"Chile\", 3912.570498, 2.95], [\"Burkina Faso\", 180.9826866, 0.07], [\"Slovenia\", 7794.987566, 5.43], [\"Bermuda\", 46166.09201, 7.92], [\"Kenya\", 409.4695518, 0.25], [\"Uzbekistan\", 513.632001, 4.94], [\"\\\"Congo\", 1094.570601, 0.62], [\"Colombia\", 2385.682607, 1.9], [\"Spain\", 11760.03312, 6.09], [\"Benin\", 300.2321698, 0.23], [\"Romania\", 1621.718444, 5.14], [\"Germany\", 20714.17248, 11.14], [\"Solomon Islands\", 1314.410479, 0.4], [\"Malawi\", 123.5582832, 0.07], [\"Israel\", 16947.43991, 9.09], [\"Bosnia and Herzegovina\", 375.996886, 1.1], [\"Greece\", 9835.845568, 7.53], [\"Comoros\", 380.7655443, 0.16], [\"United Arab Emirates\", 22081.85079, 35.66], [\"China\", 599.8049768, 2.52], [\"\\\"Korea\", 8247.875425, 7.17], [\"Guyana\", 783.8724547, 1.79], [\"Ireland\", 15603.88339, 9.31], [\"Cape Verde\", 931.4142823, 0.29], [\"Indonesia\", 779.108442, 1.17], [\"Czech Rep.\", 4811.901508, 11.57], [\"Sierra Leone\", 208.649708, 0.14], [\"Rwanda\", 142.3698523, 0.1], [\"Tajikistan\", 172.242479, 0.9], [\"Niger\", 169.3779797, 0.12], [\"Namibia\", 1997.740662, 0.02], [\"Nicaragua\", 638.3132706, 0.6], [\"Angola\", 498.7451035, 0.42], [\"Albania\", 786.2523727, 0.57], [\"Mongolia\", 396.16658, 3.34], [\"New Zealand\", 11832.21303, 7.22], [\"Azerbaijan\", 559.3831564, 5.6], [\"Oman\", 7587.959306, 7.42], [\"Papua New Guinea\", 802.7424769, 0.52], [\"\\\"Yemen\", 444.9701225, 0.68], [\"Argentina\", 7505.384092, 3.54], [\"Ghana\", 230.5841493, 0.29], [\"Mauritius\", 2981.411173, 1.45], [\"Belarus\", 1023.510248, 6.91], [\"Jordan\", 1676.305198, 3.34], [\"Peru\", 1845.268403, 1.0], [\"Australia\", 17586.02632, 17.16], [\"Netherlands\", 19911.55057, 11.22], [\"Finland\", 18202.98158, 11.66], [\"Paraguay\", 1443.170258, 0.74], [\"Japan\", 34890.15667, 10.01], [\"Bolivia\", 925.6897113, 1.23], [\"Morocco\", 1225.850177, 1.1], [\"Cameroon\", 564.9760868, 0.29], [\"United Kingdom\", 20929.73472, 9.68], [\"Marshall Islands\", 2639.525508, 1.35], [\"El Salvador\", 1876.888622, 0.81], [\"Italy\", 17086.45637, 7.21], [\"Burundi\", 135.6888065, 0.06], [\"Zambia\", 327.7638852, 0.27], [\"Jamaica\", 3639.523045, 3.54], [\"Greenland\", 15391.37131, 9.1], [\"Laos\", 256.4909935, 0.06], [\"Uganda\", 199.3333899, 0.04], [\"Panama\", 3477.373799, 1.85], [\"Switzerland\", 32185.4257, 5.83], [\"Russia\", 1685.849782, 10.91], [\"Nepal\", 199.1929367, 0.08], [\"Denmark\", 25922.42153, 11.86], [\"Botswana\", 2623.847934, 2.46], [\"Cote d'Ivoire\", 574.5345665, 0.39], [\"Dominican Rep.\", 2042.726049, 1.67], [\"Belgium\", 19596.69785, 11.33], [\"Chad\", 174.2040175, 0.01], [\"Saudi Arabia\", 9296.89217, 16.25], [\"Guatemala\", 1548.570087, 0.76], [\"Haiti\", 382.1132882, 0.05], [\"India\", 351.8665129, 0.95], [\"Mauritania\", 393.0574838, 1.37], [\"Syria\", 1145.934955, 3.48], [\"Cyprus\", 11392.03464, 8.0], [\"Kazakhstan\", 1094.947091, 12.33], [\"Brunei\", 18718.9516, 18.68], [\"Costa Rica\", 3554.378774, 1.59], [\"Saint Vincent and the Grenadines\", 2389.106241, 1.1], [\"Brazil\", 3509.451936, 1.5], [\"Iran\", 1394.955512, 4.87], [\"Samoa\", 1076.062221, 0.67], [\"Tanzania\", 254.0672773, 0.09], [\"Equatorial Guinea\", 580.7247868, 0.31], [\"Nigeria\", 358.0737455, 0.47], [\"Guinea\", 334.2939314, 0.17], [\"Seychelles\", 6201.512969, 2.45], [\"Eritrea\", 185.7415807, 0.05], [\"Luxembourg\", 36832.87994, 25.36], [\"Aruba\", 17792.07655, 26.35], [\"Poland\", 3190.971331, 8.77], [\"Djibouti\", 957.0971939, 1.07], [\"Kyrgyzstan\", 242.811973, 1.36], [\"Bangladesh\", 277.2810562, 0.16], [\"South Africa\", 2933.724854, 8.71], [\"New Caledonia\", 13242.92427, 9.44], [\"Suriname\", 1905.064945, 5.27], [\"Sudan\", 284.444861, 0.15], [\"Lebanon\", 4447.824929, 3.87], [\"Thailand\", 1844.381539, 2.72], [\"Liberia\", 66.10010888, 0.16], [\"Ethiopia\", 111.7574582, 0.05], [\"Hungary\", 3751.619895, 5.54], [\"Ukraine\", 757.6393636, 8.28], [\"Cambodia\", 218.1362591, 0.05], [\"Estonia\", 2730.906735, 13.77], [\"Slovak Republic\", 4195.453446, 7.3], [\"Algeria\", 1631.862416, 3.14], [\"Georgia\", 435.272968, 1.19], [\"Vanuatu\", 1294.731362, 0.39], [\"Mexico\", 5309.082967, 4.32], [\"Lithuania\", 2465.228981, 4.72], [\"United States\", 29550.48152, 19.83], [\"French Polynesia\", 13799.7217, 2.56], [\"Kiribati\", 661.2171066, 0.28], [\"Vietnam\", 283.7125596, 0.36], [\"Malaysia\", 3365.659173, 4.9], [\"Portugal\", 8844.886722, 4.83], [\"Central African Rep.\", 245.520728, 0.07], [\"Iceland\", 25731.59456, 7.55], [\"Sri Lanka\", 676.0019824, 0.3], [\"Sweden\", 22825.13254, 6.39], [\"Zimbabwe\", 620.6509263, 1.7], [\"Mozambique\", 187.1928271, 0.07], [\"Bulgaria\", 1514.144703, 6.49], [\"Saint Lucia\", 3888.026847, 1.81], [\"Grenada\", 2926.474094, 1.82], [\"Belize\", 2924.636576, 1.77], [\"Venezuela\", 5029.950337, 6.33], [\"\\\"Macao\", 14437.66507, 3.09], [\"Singapore\", 18451.32129, 19.07], [\"Senegal\", 432.2045613, 0.44], [\"Croatia\", 3669.193727, 3.91], [\"Dominica\", 3311.526722, 0.96], [\"Fiji\", 1950.010433, 1.08], [\"Gambia\", 320.59574, 0.19], [\"Armenia\", 423.2563248, 0.95], [\"\\\"Hong Kong\", 23206.46071, 5.92], [\"Tonga\", 1421.468329, 1.13], [\"Saint Kitts and Nevis\", 6202.198746, 2.2], [\"France\", 19121.89589, 6.38], [\"Bhutan\", 578.6308506, 0.12], [\"Turkey\", 3376.545165, 2.68], [\"Ecuador\", 1335.151564, 1.25], [\"Uruguay\", 6530.064823, 1.27], [\"Norway\", 31086.3413, 6.74], [\"Tunisia\", 1639.452703, 1.8], [\"Canada\", 19781.71291, 15.53], [\"Gabon\", 4526.434865, 3.37], [\"Austria\", 20300.18866, 7.15], [\"Bahrain\", 11056.23033, 27.32], [\"Philippines\", 873.6247776, 0.8], [\"Turkmenistan\", 626.6031005, 8.33], [\"Bahamas\", 14871.31538, 6.33], [\"Guinea-Bissau\", 183.2759816, 0.25], [\"Barbados\", 8178.238202, 2.8], [\"Egypt\", 1181.906653, 1.38], [\"Togo\", 231.1905027, 0.22], [\"Pakistan\", 502.6925098, 0.68], [\"Palau\", 5905.510331, 6.61]], function(d) {return d[0];});\n",
        "    \n",
        "    circles.enter()\n",
        "           .insert(\"circle\")\n",
        "           .attr(\"cx\", function(d){return vc.data.xRange(d[1]);})\n",
        "           .attr(\"cy\", function(d){return vc.data.yRange(d[2]);})\n",
        "           .attr(\"r\", function(d){return 6;})\n",
        "           .attr(\"fill-opacity\", function(d){return 0.5;})\n",
        "           .style(\"fill\", \"red\")\n",
        "           .on(\"mouseover\", function(d) { return vc.data.update_countryname(d[0]) ;})\n",
        "           .on(\"mouseout\", function(d) { return vc.data.update_countryname(\"\") ;}) ;\n",
        "\n",
        "    circles.transition()\n",
        "           .duration(1000)\n",
        "           .attr(\"cx\", function (d) { return vc.data.xRange(d[1]); })\n",
        "           .attr(\"cy\", function (d) { return vc.data.yRange(d[2]); })\n",
        "           .attr(\"r\", function (d) { return 6; })\n",
        "           .style(\"fill\", \"blue\");\n",
        "    \n",
        "    circles.exit ()\n",
        "           .transition().duration(1000)\n",
        "           .attr(\"r\", 0)\n",
        "           .remove();\n",
        "\n",
        "    vis.selectAll(\"#year\")\n",
        "       .data([1994])\n",
        "       .transition()\n",
        "       .text(function(d){return d});\n",
        "\n",
        "    "
       ],
       "output_type": "display_data"
      },
      {
       "javascript": [
        "\n",
        "    var vc = IPython.vis_utils.name_to_viscell[\"vis\"];\n",
        "    var vis = d3.select(\"#vis svg\");\n",
        "    var circles = vis.selectAll(\"g#datapoints\")\n",
        "                 .selectAll(\"circle\")\n",
        "                 .data([[\"Spain\", 12318.96207, 6.35], [\"Tunisia\", 1743.73988, 1.84], [\"Canada\", 20276.4512, 15.6], [\"Malawi\", 148.6356341, 0.07], [\"Bahrain\", 11329.81465, 26.65], [\"Vanuatu\", 1278.107429, 0.48], [\"Bahamas\", 15607.75669, 6.21], [\"Israel\", 18113.311, 10.04], [\"Bosnia and Herzegovina\", 898.8621585, 1.5], [\"Comoros\", 373.3139986, 0.16], [\"Norway\", 33694.4552, 7.57], [\"\\\"Korea\", 9548.013259, 8.36], [\"Moldova\", 344.2271044, 2.59], [\"Ireland\", 18160.06247, 9.9], [\"Mali\", 199.6402256, 0.05], [\"Cape Verde\", 996.97458, 0.36], [\"\\\"Macedonia\", 1578.211268, 5.55], [\"Honduras\", 1108.3498, 0.69], [\"Latvia\", 2477.310734, 3.78], [\"Gabon\", 4647.070958, 3.42], [\"Sierra Leone\", 202.3715964, 0.14], [\"Uzbekistan\", 498.761383, 4.44], [\"Benin\", 310.5843588, 0.21], [\"Germany\", 21212.54748, 11.24], [\"Maldives\", 1809.489447, 1.2], [\"Australia\", 18624.34029, 18.08], [\"Greece\", 10129.47113, 7.89], [\"Mongolia\", 426.6712393, 3.27], [\"New Zealand\", 12372.29558, 7.76], [\"Azerbaijan\", 489.1025825, 4.12], [\"Oman\", 7792.400024, 6.9], [\"Vietnam\", 327.8211316, 0.47], [\"China\", 716.2483364, 2.79], [\"Papua New Guinea\", 792.5449303, 0.49], [\"\\\"Yemen\", 465.2445854, 0.76], [\"Argentina\", 7497.732214, 3.61], [\"Guyana\", 885.2381723, 2.05], [\"Indonesia\", 883.1493996, 1.25], [\"Peru\", 1982.885066, 1.0], [\"Belgium\", 20221.04081, 11.91], [\"Czech Rep.\", 5314.087253, 12.02], [\"Japan\", 36318.45245, 10.27], [\"Morocco\", 1247.152237, 1.11], [\"Rwanda\", 212.6652078, 0.11], [\"Tajikistan\", 122.1356185, 0.96], [\"Namibia\", 2043.628408, 1.1], [\"Nicaragua\", 688.7843005, 0.65], [\"Angola\", 577.9711353, 1.09], [\"Solomon Islands\", 1365.858664, 0.39], [\"Albania\", 992.7905513, 0.59], [\"Zambia\", 321.8217317, 0.2], [\"Jamaica\", 3646.808236, 4.08], [\"Uganda\", 227.6446493, 0.05], [\"Panama\", 3493.109926, 1.82], [\"Russia\", 1564.115268, 10.4], [\"Denmark\", 27176.7005, 12.89], [\"Ghana\", 238.0584272, 0.32], [\"Botswana\", 2752.035142, 2.08], [\"Cote d'Ivoire\", 622.0216119, 0.58], [\"Mauritius\", 3222.201384, 1.71], [\"Belarus\", 948.9599152, 6.17], [\"Jordan\", 1706.167718, 3.25], [\"Netherlands\", 21045.52935, 12.05], [\"Finland\", 19479.11751, 11.96], [\"Paraguay\", 1459.54008, 0.75], [\"Saudi Arabia\", 9160.01832, 12.53], [\"Guatemala\", 1598.161873, 0.7], [\"Bolivia\", 967.3768001, 1.16], [\"Haiti\", 420.395363, 0.16], [\"Mauritania\", 432.692155, 1.26], [\"Syria\", 1203.234704, 3.47], [\"Cameroon\", 582.0098005, 0.33], [\"Costa Rica\", 3545.728957, 1.38], [\"El Salvador\", 1985.50847, 0.86], [\"Italy\", 17756.26752, 7.47], [\"Burundi\", 112.6426561, 0.05], [\"Tanzania\", 259.5389572, 0.12], [\"Greenland\", 16091.93216, 9.24], [\"Laos\", 278.9331111, 0.11], [\"Nigeria\", 364.300583, 0.39], [\"Switzerland\", 32133.57151, 5.57], [\"Guinea\", 345.6429944, 0.16], [\"Nepal\", 206.5174215, 0.11], [\"Palau\", 6878.671991, 6.74], [\"United Arab Emirates\", 22597.21531, 19.64], [\"Eritrea\", 203.950081, 0.09], [\"Dominican Rep.\", 2227.173436, 2.23], [\"Luxembourg\", 36892.80877, 20.3], [\"Poland\", 3620.374908, 9.36], [\"Djibouti\", 842.6407811, 1.05], [\"Algeria\", 1699.926992, 3.38], [\"Kyrgyzstan\", 239.7331522, 1.26], [\"Bangladesh\", 292.6637557, 0.2], [\"Uruguay\", 6708.322883, 1.68], [\"India\", 392.9176869, 1.06], [\"Antigua and Barbuda\", 8203.688815, 5.03], [\"Cyprus\", 11898.07953, 8.04], [\"Kazakhstan\", 1043.733143, 8.96], [\"Suriname\", 1897.999257, 5.1], [\"Saint Vincent and the Grenadines\", 2446.328567, 1.21], [\"Brazil\", 3631.73658, 1.81], [\"Iran\", 1485.855218, 4.59], [\"Liberia\", 66.09632798, 0.17], [\"Samoa\", 1205.818516, 0.73], [\"Equatorial Guinea\", 801.5392079, 0.32], [\"Hungary\", 3870.528237, 6.08], [\"Cambodia\", 231.6164263, 0.14], [\"Estonia\", 3065.559667, 13.44], [\"Marshall Islands\", 2238.02159, 1.31], [\"Slovak Republic\", 4773.484374, 7.75], [\"Seychelles\", 6242.293166, 2.55], [\"Romania\", 1817.33372, 5.65], [\"Kuwait\", 18232.82109, 29.51], [\"Chad\", 169.2248052, 0.01], [\"Aruba\", 18548.09374, 26.99], [\"Thailand\", 2096.440366, 3.4], [\"French Polynesia\", 13397.43969, 2.41], [\"Kiribati\", 684.5375932, 0.44], [\"Fiji\", 2048.358355, 1.17], [\"Malaysia\", 3864.727784, 6.25], [\"Portugal\", 9503.278312, 5.03], [\"Swaziland\", 1236.210179, 0.33], [\"Iceland\", 26594.40261, 8.22], [\"Sweden\", 23908.96187, 6.81], [\"Egypt\", 1250.350906, 1.58], [\"Sudan\", 303.1814605, 0.14], [\"Lebanon\", 4738.24119, 4.08], [\"Bermuda\", 49061.42109, 7.83], [\"Saint Lucia\", 4107.616355, 2.22], [\"Grenada\", 3080.468122, 1.95], [\"\\\"Macao\", 15144.83196, 3.1], [\"Ukraine\", 608.8159886, 7.82], [\"Senegal\", 439.9345291, 0.4], [\"Georgia\", 513.0813183, 0.82], [\"United Kingdom\", 22072.63517, 9.91], [\"Dominica\", 3478.601645, 1.0], [\"Mexico\", 5063.812558, 4.08], [\"Gambia\", 306.5644692, 0.18], [\"Armenia\", 496.8774537, 0.85], [\"Lithuania\", 2704.621251, 4.29], [\"New Caledonia\", 13385.23159, 9.33], [\"\\\"Hong Kong\", 24123.30923, 5.08], [\"United States\", 30703.72763, 19.75], [\"Tonga\", 1473.647872, 1.14], [\"Saint Kitts and Nevis\", 6903.249249, 2.6], [\"Brunei\", 19089.71357, 18.31], [\"Bhutan\", 655.4224716, 0.17], [\"Ecuador\", 1342.030157, 2.07], [\"Central African Rep.\", 240.1508579, 0.06], [\"Sri Lanka\", 727.148159, 0.38], [\"Ethiopia\", 125.4513032, 0.06], [\"Austria\", 21183.04362, 7.57], [\"South Africa\", 3019.966213, 8.48], [\"Zimbabwe\", 662.2796588, 1.41], [\"Philippines\", 926.6108491, 0.89], [\"Turkmenistan\", 521.0861301, 7.49], [\"Mozambique\", 193.7211641, 0.06], [\"Bulgaria\", 1424.392095, 6.76], [\"Guinea-Bissau\", 203.4143702, 0.25], [\"Barbados\", 8523.170955, 3.16], [\"Togo\", 255.6885047, 0.25], [\"Pakistan\", 526.7089478, 0.71], [\"Belize\", 2837.592929, 1.38], [\"Venezuela\", 5005.250067, 5.73], [\"Niger\", 168.0380234, 0.12], [\"Singapore\", 20035.65121, 15.06], [\"Croatia\", 4292.17091, 4.27], [\"Madagascar\", 242.5228453, 0.1], [\"Malta\", 8544.100379, 8.31], [\"Chile\", 4504.61941, 3.52], [\"Burkina Faso\", 200.9560376, 0.07], [\"France\", 19607.38592, 7.01], [\"Slovenia\", 8358.745283, 7.44], [\"Kenya\", 420.1092219, 0.34], [\"\\\"Congo\", 1027.074097, 0.59], [\"Turkey\", 3778.976962, 3.1], [\"Colombia\", 2470.537958, 1.64]], function(d) {return d[0];});\n",
        "    \n",
        "    circles.enter()\n",
        "           .insert(\"circle\")\n",
        "           .attr(\"cx\", function(d){return vc.data.xRange(d[1]);})\n",
        "           .attr(\"cy\", function(d){return vc.data.yRange(d[2]);})\n",
        "           .attr(\"r\", function(d){return 6;})\n",
        "           .attr(\"fill-opacity\", function(d){return 0.5;})\n",
        "           .style(\"fill\", \"red\")\n",
        "           .on(\"mouseover\", function(d) { return vc.data.update_countryname(d[0]) ;})\n",
        "           .on(\"mouseout\", function(d) { return vc.data.update_countryname(\"\") ;}) ;\n",
        "\n",
        "    circles.transition()\n",
        "           .duration(1000)\n",
        "           .attr(\"cx\", function (d) { return vc.data.xRange(d[1]); })\n",
        "           .attr(\"cy\", function (d) { return vc.data.yRange(d[2]); })\n",
        "           .attr(\"r\", function (d) { return 6; })\n",
        "           .style(\"fill\", \"blue\");\n",
        "    \n",
        "    circles.exit ()\n",
        "           .transition().duration(1000)\n",
        "           .attr(\"r\", 0)\n",
        "           .remove();\n",
        "\n",
        "    vis.selectAll(\"#year\")\n",
        "       .data([1996])\n",
        "       .transition()\n",
        "       .text(function(d){return d});\n",
        "\n",
        "    "
       ],
       "output_type": "display_data"
      },
      {
       "javascript": [
        "\n",
        "    var vc = IPython.vis_utils.name_to_viscell[\"vis\"];\n",
        "    var vis = d3.select(\"#vis svg\");\n",
        "    var circles = vis.selectAll(\"g#datapoints\")\n",
        "                 .selectAll(\"circle\")\n",
        "                 .data([[\"Guyana\", 926.6515286, 2.21], [\"Dominica\", 3725.617376, 1.06], [\"Cape Verde\", 1084.952873, 0.39], [\"Gambia\", 309.1046661, 0.18], [\"Angola\", 633.6369689, 0.73], [\"Aruba\", 20358.72074, 24.66], [\"Poland\", 4064.997411, 8.4], [\"Sierra Leone\", 164.5097648, 0.13], [\"Bangladesh\", 312.3997396, 0.19], [\"Mauritania\", 403.9777144, 0.44], [\"Tajikistan\", 127.254207, 0.88], [\"Ecuador\", 1382.136756, 1.87], [\"Tunisia\", 1876.204548, 1.93], [\"Nicaragua\", 715.5056679, 0.73], [\"Brazil\", 3644.601112, 1.84], [\"Australia\", 19789.18357, 18.65], [\"Barbados\", 9552.283779, 4.2], [\"Algeria\", 1752.263467, 3.63], [\"Azerbaijan\", 558.4274126, 4.1], [\"Eritrea\", 213.2685012, 0.14], [\"Malta\", 9146.372655, 5.56], [\"Latvia\", 2903.606504, 3.27], [\"Bermuda\", 53200.47216, 7.46], [\"Kenya\", 413.1934512, 0.35], [\"\\\"Congo\", 1027.800538, 0.84], [\"Spain\", 13285.51143, 6.9], [\"Cameroon\", 612.0481121, 0.22], [\"Suriname\", 1982.385954, 5.1], [\"Maldives\", 2110.491391, 1.18], [\"Mozambique\", 224.3217828, 0.07], [\"Liberia\", 148.8391663, 0.16], [\"Bulgaria\", 1415.177891, 6.31], [\"Laos\", 295.248758, 0.17], [\"Ukraine\", 589.8821355, 6.3], [\"Russia\", 1510.542696, 9.62], [\"Slovak Republic\", 5250.692133, 7.85], [\"Croatia\", 4673.478277, 4.78], [\"United Kingdom\", 23495.48147, 9.43], [\"Botswana\", 3206.546664, 2.44], [\"Cote d'Ivoire\", 649.2763608, 0.46], [\"Dominican Rep.\", 2489.165357, 2.3], [\"\\\"Hong Kong\", 25049.87198, 4.75], [\"France\", 20602.66084, 6.98], [\"Philippines\", 928.8957962, 0.99], [\"Uruguay\", 7280.731414, 1.73], [\"Malaysia\", 3653.83235, 5.46], [\"Saudi Arabia\", 9191.492808, 9.49], [\"Guatemala\", 1673.091422, 0.87], [\"India\", 419.3959242, 1.1], [\"Rwanda\", 219.3650187, 0.09], [\"Cyprus\", 12457.91965, 8.87], [\"Portugal\", 10305.64207, 5.69], [\"Kazakhstan\", 1076.31023, 8.2], [\"Costa Rica\", 3859.384271, 1.48], [\"Gabon\", 4824.51217, 1.52], [\"Turkmenistan\", 479.455172, 5.99], [\"Albania\", 1014.637688, 0.51], [\"Equatorial Guinea\", 1569.775931, 0.33], [\"\\\"Macao\", 14640.1568, 3.6], [\"Belize\", 2837.231872, 1.58], [\"Palau\", 6830.652953, 6.48], [\"Mongolia\", 450.2155067, 3.05], [\"Oman\", 8141.232958, 7.05], [\"Papua New Guinea\", 694.235234, 0.61], [\"Moldova\", 357.6311254, 2.17], [\"Armenia\", 562.0491271, 1.12], [\"Honduras\", 1146.197853, 0.77], [\"Djibouti\", 782.6837251, 0.97], [\"Bhutan\", 702.100482, 0.2], [\"Kyrgyzstan\", 261.2407103, 1.27], [\"Netherlands\", 22544.03487, 11.39], [\"Kiribati\", 793.9189748, 0.38], [\"Paraguay\", 1447.377118, 0.85], [\"Turkey\", 4021.552708, 3.24], [\"Japan\", 35947.34544, 9.93], [\"Kuwait\", 18097.17306, 34.54], [\"Benin\", 324.8651028, 0.19], [\"Canada\", 21580.31716, 15.63], [\"Germany\", 21997.51382, 10.86], [\"Ethiopia\", 118.0994156, 0.08], [\"Bahrain\", 11677.95068, 30.13], [\"El Salvador\", 2114.139302, 0.99], [\"Burundi\", 114.462116, 0.05], [\"Bahamas\", 17344.28593, 6.3], [\"Guinea-Bissau\", 149.1118984, 0.19], [\"Lebanon\", 4657.663432, 4.6], [\"Togo\", 266.2991527, 0.26], [\"Pakistan\", 520.0268824, 0.7], [\"Bosnia and Herzegovina\", 1326.39915, 4.37], [\"Greenland\", 17533.68875, 9.47], [\"Thailand\", 1826.913936, 3.07], [\"\\\"Macedonia\", 1603.00921, 5.36], [\"Swaziland\", 1256.852168, 1.13], [\"Switzerland\", 33495.56706, 5.83], [\"China\", 827.3523172, 2.56], [\"Denmark\", 28441.05692, 10.39], [\"Iraq\", 915.9666299, 3.38], [\"Saint Lucia\", 4549.174909, 2.02], [\"Antigua and Barbuda\", 8531.280229, 5.1], [\"Mexico\", 5512.59258, 4.11], [\"Lithuania\", 3148.498561, 4.42], [\"Chile\", 4822.805994, 3.89], [\"Belgium\", 21187.32859, 11.87], [\"Czech Rep.\", 5245.431413, 11.56], [\"Uzbekistan\", 528.4640553, 4.92], [\"Solomon Islands\", 1296.073613, 0.37], [\"Colombia\", 2481.092339, 1.72], [\"Vietnam\", 364.1039816, 0.62], [\"Syria\", 1242.095397, 4.05], [\"Sweden\", 25406.21645, 6.17], [\"South Africa\", 2974.682343, 8.59], [\"Namibia\", 2095.271002, 1.1], [\"Estonia\", 3734.337012, 12.62], [\"Venezuela\", 5132.015852, 6.99], [\"Brunei\", 17792.34873, 18.62], [\"Slovenia\", 9120.157313, 7.55], [\"New Zealand\", 12375.58054, 7.64], [\"Singapore\", 20009.70081, 15.85], [\"Romania\", 1632.285106, 4.6], [\"Senegal\", 455.2719382, 0.35], [\"\\\"Korea\", 10491.08008, 9.43], [\"Guinea\", 362.0911714, 0.15], [\"Seychelles\", 7342.877917, 5.61], [\"United Arab Emirates\", 22358.17016, 43.13], [\"Argentina\", 8210.796265, 3.76], [\"Ireland\", 21509.42791, 10.49], [\"Indonesia\", 781.1792544, 1.0], [\"Fiji\", 1994.053639, 0.9], [\"New Caledonia\", 12701.14903, 9.23], [\"Jordan\", 1708.133111, 3.1], [\"Tonga\", 1473.373007, 1.11], [\"Saint Kitts and Nevis\", 7516.716206, 2.63], [\"Luxembourg\", 40593.80256, 17.25], [\"Belarus\", 1156.297823, 5.74], [\"Norway\", 36044.55845, 7.8], [\"Marshall Islands\", 2080.780391, 1.35], [\"Austria\", 22361.95189, 7.78], [\"Egypt\", 1321.528101, 1.81], [\"Vanuatu\", 1349.168282, 0.46], [\"Italy\", 18326.67174, 7.67], [\"Sudan\", 332.3473123, 0.14], [\"Samoa\", 1218.673585, 0.73], [\"Zambia\", 308.0886108, 0.24], [\"Hungary\", 4262.626557, 5.82], [\"\\\"Yemen\", 496.878667, 0.98], [\"Panama\", 3835.526057, 2.13], [\"Cambodia\", 245.0365599, 0.19], [\"Ghana\", 247.0476932, 0.34], [\"Georgia\", 600.228772, 1.02], [\"United States\", 32671.26813, 19.86], [\"Mali\", 217.6575167, 0.05], [\"Mauritius\", 3529.939775, 1.89], [\"Madagascar\", 245.8378441, 0.12], [\"Peru\", 2035.319492, 1.11], [\"Chad\", 179.2708796, 0.01], [\"Burkina Faso\", 216.8396717, 0.07], [\"Finland\", 21649.4845, 11.08], [\"Uganda\", 236.1612015, 0.06], [\"French Polynesia\", 13984.01867, 2.38], [\"Bolivia\", 1022.119343, 1.32], [\"Morocco\", 1276.574143, 1.1], [\"Haiti\", 424.4350152, 0.18], [\"Central African Rep.\", 252.3683978, 0.07], [\"Niger\", 178.0393266, 0.11], [\"Iceland\", 29230.39849, 7.67], [\"Sri Lanka\", 798.5081314, 0.41], [\"Malawi\", 150.3976569, 0.07], [\"Zimbabwe\", 680.4521641, 1.31], [\"Saint Vincent and the Grenadines\", 2918.371474, 1.44], [\"Israel\", 18521.62859, 11.13], [\"Iran\", 1527.982196, 4.93], [\"Greece\", 10724.87126, 8.29], [\"Jamaica\", 3456.523829, 3.8], [\"Comoros\", 375.5243217, 0.13], [\"Grenada\", 3421.016698, 2.13], [\"Tanzania\", 264.6584136, 0.08], [\"Nigeria\", 362.9365683, 0.37], [\"Nepal\", 212.7074458, 0.1]], function(d) {return d[0];});\n",
        "    \n",
        "    circles.enter()\n",
        "           .insert(\"circle\")\n",
        "           .attr(\"cx\", function(d){return vc.data.xRange(d[1]);})\n",
        "           .attr(\"cy\", function(d){return vc.data.yRange(d[2]);})\n",
        "           .attr(\"r\", function(d){return 6;})\n",
        "           .attr(\"fill-opacity\", function(d){return 0.5;})\n",
        "           .style(\"fill\", \"red\")\n",
        "           .on(\"mouseover\", function(d) { return vc.data.update_countryname(d[0]) ;})\n",
        "           .on(\"mouseout\", function(d) { return vc.data.update_countryname(\"\") ;}) ;\n",
        "\n",
        "    circles.transition()\n",
        "           .duration(1000)\n",
        "           .attr(\"cx\", function (d) { return vc.data.xRange(d[1]); })\n",
        "           .attr(\"cy\", function (d) { return vc.data.yRange(d[2]); })\n",
        "           .attr(\"r\", function (d) { return 6; })\n",
        "           .style(\"fill\", \"blue\");\n",
        "    \n",
        "    circles.exit ()\n",
        "           .transition().duration(1000)\n",
        "           .attr(\"r\", 0)\n",
        "           .remove();\n",
        "\n",
        "    vis.selectAll(\"#year\")\n",
        "       .data([1998])\n",
        "       .transition()\n",
        "       .text(function(d){return d});\n",
        "\n",
        "    "
       ],
       "output_type": "display_data"
      },
      {
       "javascript": [
        "\n",
        "    var vc = IPython.vis_utils.name_to_viscell[\"vis\"];\n",
        "    var vis = d3.select(\"#vis svg\");\n",
        "    var circles = vis.selectAll(\"g#datapoints\")\n",
        "                 .selectAll(\"circle\")\n",
        "                 .data([[\"Norway\", 37472.37103, 8.63], [\"Algeria\", 1796.038877, 3.84], [\"United Arab Emirates\", 21800.57058, 53.5], [\"United Kingdom\", 25089.44638, 9.21], [\"Mauritius\", 3861.038542, 2.35], [\"Latvia\", 3302.305407, 2.57], [\"Honduras\", 1140.539787, 0.79], [\"Greece\", 11500.64754, 8.73], [\"\\\"Yemen\", 512.1246441, 0.82], [\"Saint Kitts and Nevis\", 7365.848957, 2.64], [\"Swaziland\", 1379.672111, 1.07], [\"\\\"Macedonia\", 1712.354324, 5.85], [\"Bosnia and Herzegovina\", 1445.07598, 5.63], [\"Thailand\", 1968.428282, 3.26], [\"Panama\", 3938.083253, 2.0], [\"Costa Rica\", 4056.728322, 1.48], [\"Burkina Faso\", 223.6134711, 0.07], [\"Eritrea\", 173.2413718, 0.14], [\"Moldova\", 354.0013762, 1.49], [\"Germany\", 23114.23326, 10.06], [\"Finland\", 23530.12389, 10.11], [\"Benin\", 338.5983794, 0.24], [\"Tanzania\", 273.813436, 0.08], [\"Qatar\", 28792.80175, 46.65], [\"Guatemala\", 1717.663164, 0.93], [\"Luxembourg\", 46456.62444, 18.77], [\"Solomon Islands\", 1047.064131, 0.35], [\"Gambia\", 323.3154084, 0.2], [\"Antigua and Barbuda\", 8610.652402, 5.19], [\"Botswana\", 3586.061249, 2.66], [\"Bangladesh\", 334.5732446, 0.21], [\"Italy\", 19269.02218, 7.76], [\"Cyprus\", 13424.18589, 9.03], [\"New Caledonia\", 12579.59484, 11.39], [\"Saint Vincent and the Grenadines\", 3143.187821, 1.37], [\"Saint Lucia\", 4535.538895, 2.11], [\"Palau\", 6266.035862, 6.25], [\"Cape Verde\", 1210.526508, 0.47], [\"Malaysia\", 4029.874088, 5.81], [\"Oman\", 8270.757174, 8.71], [\"Malawi\", 147.3622692, 0.09], [\"Syria\", 1170.495888, 3.88], [\"Romania\", 1650.966288, 3.91], [\"Belize\", 3330.954622, 2.78], [\"Dominican Rep.\", 2717.680793, 2.4], [\"Cote d'Ivoire\", 602.7844084, 0.44], [\"Jordan\", 1764.229892, 3.1], [\"Chad\", 164.8537348, 0.02], [\"Croatia\", 4823.21085, 4.59], [\"Tunisia\", 2033.071277, 2.08], [\"Nepal\", 224.881593, 0.13], [\"France\", 21914.07186, 6.18], [\"Laos\", 321.1294605, 0.19], [\"Chile\", 4877.875065, 3.94], [\"Bahrain\", 12262.37499, 31.15], [\"Faeroe Islands\", 23169.92602, 14.49], [\"Egypt\", 1422.732572, 2.0], [\"Sri Lanka\", 872.665518, 0.53], [\"Switzerland\", 34787.10405, 5.38], [\"Kuwait\", 17222.83629, 36.03], [\"Bolivia\", 1009.677001, 1.05], [\"Venezuela\", 4818.70818, 6.16], [\"Kiribati\", 794.692929, 0.36], [\"Suriname\", 1909.753636, 4.95], [\"Sweden\", 27688.89257, 5.57], [\"Guinea\", 371.2462004, 0.15], [\"Mozambique\", 232.8155088, 0.08], [\"Ethiopia\", 124.8504995, 0.09], [\"Sudan\", 354.2903591, 0.16], [\"Papua New Guinea\", 653.6007978, 0.55], [\"Haiti\", 423.7462116, 0.19], [\"Cameroon\", 635.0299878, 0.23], [\"Tajikistan\", 139.4079866, 0.66], [\"Netherlands\", 24179.85582, 10.62], [\"Sierra Leone\", 150.3902792, 0.13], [\"Albania\", 1201.819751, 0.87], [\"Bhutan\", 762.344754, 0.2], [\"Azerbaijan\", 655.1027308, 3.94], [\"French Polynesia\", 14610.83454, 2.61], [\"South Africa\", 3019.946548, 8.37], [\"India\", 452.9693998, 1.18], [\"Argentina\", 7693.923442, 3.76], [\"Zimbabwe\", 594.0593446, 1.26], [\"Slovenia\", 9998.994451, 7.18], [\"Rwanda\", 218.0152739, 0.09], [\"Liberia\", 198.5889571, 0.16], [\"Georgia\", 644.3866296, 0.95], [\"Cambodia\", 286.3703637, 0.18], [\"Poland\", 4454.08022, 7.79], [\"Iran\", 1584.120419, 5.17], [\"Comoros\", 373.6633902, 0.15], [\"Samoa\", 1312.030102, 0.78], [\"Uganda\", 253.4803925, 0.07], [\"Equatorial Guinea\", 2371.461001, 0.57], [\"Grenada\", 4244.518811, 2.3], [\"Barbados\", 10168.04705, 4.34], [\"Philippines\", 977.1290384, 0.99], [\"Bulgaria\", 1563.199914, 5.51], [\"Seychelles\", 7578.851053, 7.12], [\"Australia\", 21151.29985, 17.17], [\"Uzbekistan\", 558.2302023, 4.8], [\"Belarus\", 1273.049124, 5.71], [\"Belgium\", 22623.27831, 11.44], [\"Israel\", 19836.09816, 10.73], [\"Singapore\", 23018.65935, 12.97], [\"Gabon\", 4108.803224, 0.98], [\"Brazil\", 3701.471956, 1.88], [\"Spain\", 14421.94074, 7.4], [\"Djibouti\", 755.5651438, 0.94], [\"Denmark\", 29992.9406, 8.79], [\"Nigeria\", 368.3332826, 0.69], [\"Mongolia\", 455.8812955, 2.89], [\"Dominica\", 3801.792641, 1.44], [\"Greenland\", 19004.00345, 9.44], [\"Angola\", 639.3199239, 0.91], [\"Guinea-Bissau\", 165.2566381, 0.2], [\"Maldives\", 2293.266226, 1.65], [\"Jamaica\", 3479.056754, 3.94], [\"\\\"Congo\", 1004.933, 0.28], [\"\\\"Hong Kong\", 23713.64893, 6.48], [\"Czech Rep.\", 5521.189426, 11.41], [\"Kyrgyzstan\", 278.6588723, 0.96], [\"Iraq\", 1029.813836, 3.29], [\"Ukraine\", 635.7089682, 6.22], [\"Colombia\", 2364.753357, 1.46], [\"Japan\", 36789.21969, 9.95], [\"Lebanon\", 4575.57528, 4.29], [\"Lithuania\", 3267.355382, 3.34], [\"Malta\", 9980.807221, 5.52], [\"Zambia\", 309.3178881, 0.18], [\"Pakistan\", 535.5762961, 0.73], [\"Hungary\", 4689.608437, 5.52], [\"Togo\", 253.2851725, 0.28], [\"Vanuatu\", 1289.035435, 0.43], [\"El Salvador\", 2209.158531, 0.94], [\"Burundi\", 109.547939, 0.05], [\"Estonia\", 4144.382928, 11.59], [\"Austria\", 23865.45762, 7.61], [\"Saudi Arabia\", 9128.112788, 12.86], [\"Canada\", 23559.50369, 17.18], [\"Uruguay\", 6914.362582, 1.6], [\"Madagascar\", 253.8450596, 0.15], [\"Peru\", 2049.302351, 1.17], [\"Paraguay\", 1321.673896, 0.66], [\"Bahamas\", 18136.4267, 6.19], [\"Ecuador\", 1294.982558, 1.71], [\"Armenia\", 621.4828107, 1.14], [\"Fiji\", 2100.723035, 1.04], [\"Niger\", 163.0276152, 0.08], [\"Kenya\", 403.6584537, 0.35], [\"Mauritania\", 415.236651, 0.45], [\"Marshall Islands\", 2097.406012, 1.45], [\"Nicaragua\", 771.6906847, 0.78], [\"Portugal\", 11016.22134, 6.13], [\"Senegal\", 473.8365264, 0.38], [\"Ireland\", 25383.85586, 11.15], [\"Turkey\", 4020.618636, 3.4], [\"Turkmenistan\", 645.2329528, 7.89], [\"\\\"Macao\", 13288.75072, 3.58], [\"Tonga\", 1571.226163, 1.18], [\"Vietnam\", 401.5245271, 0.68], [\"Namibia\", 2142.822297, 0.93], [\"Russia\", 1775.141291, 9.84], [\"Aruba\", 20502.10353, 32.48], [\"Indonesia\", 803.8816779, 1.19], [\"\\\"Korea\", 10546.81042, 8.75], [\"New Zealand\", 13192.95911, 8.15], [\"Guyana\", 942.3595952, 2.09], [\"Iceland\", 30951.20315, 7.7], [\"Libya\", 6340.109115, 9.73], [\"Brunei\", 17996.02825, 19.4], [\"Ghana\", 254.8728073, 0.32], [\"Kazakhstan\", 1229.003105, 8.5], [\"Central African Rep.\", 256.1353378, 0.07], [\"United States\", 34605.84324, 20.34], [\"Morocco\", 1270.333706, 1.13], [\"Mexico\", 5934.981748, 3.84], [\"Bermuda\", 56459.1599, 7.86], [\"China\", 949.1823289, 2.7], [\"Slovak Republic\", 5326.059737, 6.55], [\"Mali\", 230.2085094, 0.05]], function(d) {return d[0];});\n",
        "    \n",
        "    circles.enter()\n",
        "           .insert(\"circle\")\n",
        "           .attr(\"cx\", function(d){return vc.data.xRange(d[1]);})\n",
        "           .attr(\"cy\", function(d){return vc.data.yRange(d[2]);})\n",
        "           .attr(\"r\", function(d){return 6;})\n",
        "           .attr(\"fill-opacity\", function(d){return 0.5;})\n",
        "           .style(\"fill\", \"red\")\n",
        "           .on(\"mouseover\", function(d) { return vc.data.update_countryname(d[0]) ;})\n",
        "           .on(\"mouseout\", function(d) { return vc.data.update_countryname(\"\") ;}) ;\n",
        "\n",
        "    circles.transition()\n",
        "           .duration(1000)\n",
        "           .attr(\"cx\", function (d) { return vc.data.xRange(d[1]); })\n",
        "           .attr(\"cy\", function (d) { return vc.data.yRange(d[2]); })\n",
        "           .attr(\"r\", function (d) { return 6; })\n",
        "           .style(\"fill\", \"blue\");\n",
        "    \n",
        "    circles.exit ()\n",
        "           .transition().duration(1000)\n",
        "           .attr(\"r\", 0)\n",
        "           .remove();\n",
        "\n",
        "    vis.selectAll(\"#year\")\n",
        "       .data([2000])\n",
        "       .transition()\n",
        "       .text(function(d){return d});\n",
        "\n",
        "    "
       ],
       "output_type": "display_data"
      },
      {
       "javascript": [
        "\n",
        "    var vc = IPython.vis_utils.name_to_viscell[\"vis\"];\n",
        "    var vis = d3.select(\"#vis svg\");\n",
        "    var circles = vis.selectAll(\"g#datapoints\")\n",
        "                 .selectAll(\"circle\")\n",
        "                 .data([[\"Guinea\", 381.6700098, 0.15], [\"\\\"Korea\", 11710.57788, 9.55], [\"New Zealand\", 14012.10346, 8.15], [\"Brunei\", 18390.84276, 17.53], [\"Morocco\", 1377.771345, 1.23], [\"Tajikistan\", 163.9519424, 0.69], [\"Moldova\", 406.739089, 1.53], [\"Germany\", 23316.33125, 10.02], [\"Finland\", 24431.64731, 11.8], [\"Benin\", 347.8345967, 0.29], [\"Slovak Republic\", 5774.947944, 7.0], [\"Algeria\", 1873.574615, 3.85], [\"United Arab Emirates\", 20512.83936, 39.19], [\"Iceland\", 31426.92804, 7.54], [\"Togo\", 248.7926154, 0.25], [\"Libya\", 5748.824001, 9.39], [\"\\\"Yemen\", 527.4971813, 0.9], [\"Saint Kitts and Nevis\", 7199.624051, 2.93], [\"Turkey\", 3911.164943, 3.11], [\"Italy\", 19636.46465, 7.79], [\"Cyprus\", 13925.4614, 9.16], [\"Swaziland\", 1391.273523, 1.0], [\"Saint Vincent and the Grenadines\", 3284.99213, 1.61], [\"Sudan\", 379.9374722, 0.22], [\"Bosnia and Herzegovina\", 1553.920319, 5.31], [\"Thailand\", 2071.917094, 3.67], [\"Panama\", 3900.299396, 1.95], [\"Venezuela\", 4377.382134, 6.86], [\"Belize\", 3460.965726, 2.85], [\"Dominican Rep.\", 2836.629201, 2.49], [\"Costa Rica\", 4045.055318, 1.65], [\"Burkina Faso\", 234.389157, 0.06], [\"Eritrea\", 179.2953498, 0.14], [\"Gabon\", 4004.773988, 1.15], [\"Jordan\", 1870.859069, 3.18], [\"Croatia\", 5264.070525, 5.0], [\"Tanzania\", 296.1274203, 0.1], [\"Nepal\", 225.5190769, 0.1], [\"Qatar\", 28720.72957, 36.5], [\"Guatemala\", 1738.594078, 0.98], [\"Luxembourg\", 48485.13307, 20.9], [\"France\", 22270.61245, 6.35], [\"Laos\", 347.1520515, 0.22], [\"Bahrain\", 12900.55581, 25.63], [\"Gambia\", 309.6455522, 0.22], [\"India\", 479.1229492, 1.2], [\"Sri Lanka\", 883.4571769, 0.56], [\"Switzerland\", 34856.39827, 5.54], [\"Botswana\", 3789.693027, 2.75], [\"Bangladesh\", 355.0815376, 0.25], [\"Bolivia\", 1010.375775, 0.86], [\"Cape Verde\", 1268.844752, 0.6], [\"Malaysia\", 4097.229575, 6.21], [\"Oman\", 8817.235834, 11.21], [\"Malawi\", 126.1494383, 0.09], [\"Syria\", 1212.008374, 3.88], [\"Romania\", 1887.895744, 4.01], [\"Burundi\", 111.6986748, 0.03], [\"Cameroon\", 658.7110246, 0.21], [\"Chad\", 185.7589399, 0.02], [\"Netherlands\", 24323.01727, 10.86], [\"Kuwait\", 16759.79807, 30.3], [\"Niger\", 168.1713473, 0.08], [\"Albania\", 1319.486177, 1.08], [\"Chile\", 5034.714169, 3.37], [\"South Africa\", 3127.808549, 7.83], [\"Rwanda\", 244.7039002, 0.09], [\"Georgia\", 730.1593129, 0.72], [\"Kiribati\", 802.0432535, 0.27], [\"Suriname\", 2034.578605, 5.19], [\"Sweden\", 28479.8813, 6.39], [\"Iran\", 1710.171709, 5.46], [\"Samoa\", 1453.584334, 0.8], [\"Ethiopia\", 130.218859, 0.07], [\"Equatorial Guinea\", 4328.602862, 8.82], [\"Egypt\", 1451.674562, 1.91], [\"Papua New Guinea\", 618.7977516, 0.68], [\"Haiti\", 403.9530793, 0.22], [\"Bulgaria\", 1741.794998, 5.68], [\"Seychelles\", 7266.462762, 6.78], [\"Uzbekistan\", 590.058588, 4.92], [\"Sierra Leone\", 210.9468956, 0.15], [\"Portugal\", 11168.02399, 6.44], [\"Bhutan\", 835.4036648, 0.21], [\"Timor-Leste\", 327.2351743, 0.17], [\"Belarus\", 1411.756736, 5.79], [\"Azerbaijan\", 784.2533612, 3.84], [\"Spain\", 14961.8212, 7.88], [\"Belgium\", 22965.45132, 10.61], [\"\\\"Congo\", 1076.99375, 0.27], [\"Argentina\", 6425.130369, 3.47], [\"Bermuda\", 59732.75538, 8.25], [\"Singapore\", 22570.5724, 12.18], [\"Liberia\", 195.7961119, 0.17], [\"Brazil\", 3743.30099, 1.86], [\"Greenland\", 18922.4082, 9.56], [\"Cambodia\", 318.6684061, 0.22], [\"Angola\", 710.9225831, 1.13], [\"Poland\", 4599.552583, 7.69], [\"Comoros\", 385.4986383, 0.13], [\"Maldives\", 2453.04793, 2.15], [\"Uganda\", 265.6304505, 0.07], [\"Grenada\", 4148.361809, 2.42], [\"Barbados\", 9761.015224, 4.46], [\"Philippines\", 998.6795875, 0.94], [\"Antigua and Barbuda\", 8697.29215, 5.38], [\"Czech Rep.\", 5802.772186, 11.08], [\"Iraq\", 843.2752783, 3.85], [\"Ukraine\", 745.0390011, 6.49], [\"Lebanon\", 4757.615993, 4.36], [\"Lithuania\", 3759.490327, 3.52], [\"Israel\", 18853.45054, 11.13], [\"United Kingdom\", 26053.56134, 9.0], [\"Vanuatu\", 1106.634554, 0.43], [\"El Salvador\", 2280.123013, 0.95], [\"Canada\", 24214.9286, 16.36], [\"Uruguay\", 5929.541334, 1.37], [\"Djibouti\", 756.672333, 0.89], [\"Denmark\", 30136.64122, 9.04], [\"Paraguay\", 1294.842868, 0.66], [\"Nigeria\", 367.3365755, 0.82], [\"Dominica\", 3524.64314, 1.46], [\"Guinea-Bissau\", 146.5499676, 0.2], [\"Bahamas\", 17957.13414, 7.06], [\"Jamaica\", 3521.834792, 3.87], [\"Fiji\", 2181.435832, 1.07], [\"\\\"Hong Kong\", 25313.42447, 5.79], [\"Marshall Islands\", 2179.061008, 1.53], [\"Nicaragua\", 777.9970164, 0.78], [\"Kyrgyzstan\", 288.8741423, 1.0], [\"Colombia\", 2396.543329, 1.36], [\"Japan\", 36786.98943, 9.96], [\"Malta\", 9925.001359, 5.48], [\"Zambia\", 317.9239552, 0.19], [\"Tunisia\", 2120.055216, 2.15], [\"Pakistan\", 537.260112, 0.73], [\"Vietnam\", 447.5384452, 0.88], [\"Hungary\", 5122.9563, 5.58], [\"Saint Lucia\", 4349.500213, 2.04], [\"Namibia\", 2182.782903, 1.19], [\"Estonia\", 4848.134597, 11.74], [\"Austria\", 24167.45301, 8.0], [\"Saudi Arabia\", 8796.941804, 13.2], [\"Aruba\", 18946.08094, 32.48], [\"Madagascar\", 221.7391402, 0.14], [\"Peru\", 2095.498786, 1.04], [\"Mozambique\", 268.620546, 0.09], [\"Indonesia\", 847.6277753, 1.35], [\"Guyana\", 970.3856469, 2.04], [\"Zimbabwe\", 549.8366666, 1.07], [\"Ghana\", 264.2029641, 0.36], [\"Kazakhstan\", 1534.166558, 10.08], [\"Ecuador\", 1386.683472, 1.9], [\"Central African Rep.\", 245.8434121, 0.06], [\"Mongolia\", 479.0680283, 3.1], [\"United States\", 34737.52971, 19.79], [\"Slovenia\", 10665.71954, 7.28], [\"Mexico\", 5852.989939, 3.8], [\"Armenia\", 774.7966739, 1.0], [\"Kenya\", 399.864471, 0.25], [\"Mauritania\", 408.5033702, 0.5], [\"Australia\", 21804.77408, 17.2], [\"China\", 1105.957529, 2.89], [\"Senegal\", 473.4061852, 0.42], [\"Mali\", 256.8680623, 0.05], [\"Ireland\", 27662.26255, 11.49], [\"Norway\", 38390.43811, 8.25], [\"Turkmenistan\", 874.1685728, 8.76], [\"Solomon Islands\", 888.0480312, 0.35], [\"\\\"Macao\", 13998.92212, 3.89], [\"Tonga\", 1618.822807, 1.07], [\"Mauritius\", 3966.162596, 2.48], [\"Palau\", 5865.612552, 5.67], [\"Latvia\", 3854.105474, 2.8], [\"Honduras\", 1166.962335, 0.89], [\"Russia\", 1967.518602, 9.86], [\"Cote d'Ivoire\", 567.9591855, 0.45], [\"Greece\", 12316.47615, 8.78], [\"\\\"Macedonia\", 1696.717843, 5.93]], function(d) {return d[0];});\n",
        "    \n",
        "    circles.enter()\n",
        "           .insert(\"circle\")\n",
        "           .attr(\"cx\", function(d){return vc.data.xRange(d[1]);})\n",
        "           .attr(\"cy\", function(d){return vc.data.yRange(d[2]);})\n",
        "           .attr(\"r\", function(d){return 6;})\n",
        "           .attr(\"fill-opacity\", function(d){return 0.5;})\n",
        "           .style(\"fill\", \"red\")\n",
        "           .on(\"mouseover\", function(d) { return vc.data.update_countryname(d[0]) ;})\n",
        "           .on(\"mouseout\", function(d) { return vc.data.update_countryname(\"\") ;}) ;\n",
        "\n",
        "    circles.transition()\n",
        "           .duration(1000)\n",
        "           .attr(\"cx\", function (d) { return vc.data.xRange(d[1]); })\n",
        "           .attr(\"cy\", function (d) { return vc.data.yRange(d[2]); })\n",
        "           .attr(\"r\", function (d) { return 6; })\n",
        "           .style(\"fill\", \"blue\");\n",
        "    \n",
        "    circles.exit ()\n",
        "           .transition().duration(1000)\n",
        "           .attr(\"r\", 0)\n",
        "           .remove();\n",
        "\n",
        "    vis.selectAll(\"#year\")\n",
        "       .data([2002])\n",
        "       .transition()\n",
        "       .text(function(d){return d});\n",
        "\n",
        "    "
       ],
       "output_type": "display_data"
      },
      {
       "javascript": [
        "\n",
        "    var vc = IPython.vis_utils.name_to_viscell[\"vis\"];\n",
        "    var vis = d3.select(\"#vis svg\");\n",
        "    var circles = vis.selectAll(\"g#datapoints\")\n",
        "                 .selectAll(\"circle\")\n",
        "                 .data([[\"Guatemala\", 1749.253817, 0.98], [\"Turkey\", 4383.870698, 3.29], [\"\\\"Macao\", 16930.04083, 4.22], [\"Tunisia\", 2337.121518, 2.25], [\"Vietnam\", 503.2681524, 1.19], [\"Botswana\", 4188.50442, 2.68], [\"Bangladesh\", 384.1919403, 0.26], [\"Italy\", 19585.10021, 8.09], [\"Cyprus\", 14198.61987, 9.44], [\"Indonesia\", 908.7585848, 1.49], [\"Saint Vincent and the Grenadines\", 3585.815522, 1.66], [\"Guinea\", 396.5215152, 0.14], [\"\\\"Korea\", 12764.26987, 9.95], [\"Mongolia\", 552.2363372, 3.11], [\"Saint Lucia\", 4674.916594, 2.21], [\"Palau\", 6122.07364, 5.86], [\"Cape Verde\", 1294.299342, 0.64], [\"Iceland\", 34177.62817, 7.57], [\"Libya\", 6509.296649, 9.43], [\"Brunei\", 18258.99611, 16.63], [\"Malawi\", 133.9538838, 0.09], [\"Ghana\", 280.3566639, 0.31], [\"Central African Rep.\", 221.5321403, 0.06], [\"United States\", 36253.35272, 19.79], [\"Dominican Rep.\", 2780.582458, 2.24], [\"Morocco\", 1499.460282, 1.25], [\"Jordan\", 2015.048627, 3.43], [\"Slovak Republic\", 6351.367181, 6.86], [\"France\", 22707.01302, 6.49], [\"Algeria\", 2045.024625, 3.76], [\"Laos\", 379.5234673, 0.23], [\"United Arab Emirates\", 22990.92471, 52.33], [\"Mauritius\", 4265.679685, 2.62], [\"Latvia\", 4538.902448, 3.06], [\"Zimbabwe\", 474.8951119, 0.88], [\"\\\"Yemen\", 533.1247955, 0.89], [\"Swaziland\", 1463.280933, 0.91], [\"\\\"Macedonia\", 1750.63104, 5.56], [\"Sweden\", 29993.91377, 6.05], [\"Australia\", 22849.17933, 17.11], [\"Senegal\", 507.642389, 0.46], [\"Thailand\", 2304.836716, 4.21], [\"Mozambique\", 291.3530774, 0.1], [\"Haiti\", 378.3528859, 0.22], [\"Burundi\", 109.2773541, 0.02], [\"Eritrea\", 162.9505779, 0.17], [\"Cameroon\", 678.3865293, 0.23], [\"Tajikistan\", 195.406235, 0.77], [\"Finland\", 25657.54724, 12.98], [\"Sierra Leone\", 228.4597751, 0.18], [\"Azerbaijan\", 945.4805647, 4.24], [\"Luxembourg\", 50135.12097, 23.92], [\"South Africa\", 3301.876324, 9.34], [\"Argentina\", 7486.145319, 3.99], [\"Gambia\", 332.7532736, 0.21], [\"Slovenia\", 11421.08677, 7.42], [\"Poland\", 5039.105026, 8.0], [\"Iran\", 1866.85946, 6.22], [\"Comoros\", 377.7955458, 0.13], [\"Samoa\", 1590.059281, 0.87], [\"Malaysia\", 4458.562382, 7.41], [\"Oman\", 8838.804138, 10.7], [\"Equatorial Guinea\", 6438.629062, 8.38], [\"Syria\", 1228.042344, 3.67], [\"Belize\", 3714.673388, 2.89], [\"Philippines\", 1073.281948, 0.89], [\"Bulgaria\", 1972.545569, 6.02], [\"Chad\", 265.2412607, 0.04], [\"Nepal\", 235.1524533, 0.1], [\"Timor-Leste\", 311.0176177, 0.17], [\"Chile\", 5428.723852, 3.69], [\"Bahrain\", 13958.98935, 26.63], [\"Israel\", 19389.69258, 10.88], [\"Sri Lanka\", 959.4656605, 0.6], [\"Singapore\", 25650.92132, 11.7], [\"Switzerland\", 35162.24508, 5.43], [\"Djibouti\", 782.0954544, 0.98], [\"Nigeria\", 426.9993492, 0.78], [\"Venezuela\", 4610.489039, 5.43], [\"Bolivia\", 1039.377727, 1.04], [\"Kiribati\", 828.5473065, 0.25], [\"Suriname\", 2267.59774, 5.23], [\"Angola\", 767.4111492, 0.79], [\"Ethiopia\", 137.3616785, 0.08], [\"Sudan\", 411.045056, 0.26], [\"Papua New Guinea\", 617.4236555, 0.83], [\"Togo\", 250.1085793, 0.27], [\"Cote d'Ivoire\", 546.0566087, 0.45], [\"\\\"Hong Kong\", 26489.27695, 5.99], [\"Antigua and Barbuda\", 9529.720627, 5.96], [\"Czech Rep.\", 6274.548962, 11.31], [\"Kyrgyzstan\", 324.4369788, 1.13], [\"Netherlands\", 24746.90089, 10.99], [\"Albania\", 1466.309431, 1.43], [\"Bhutan\", 917.6540252, 0.17], [\"Lebanon\", 5109.74755, 4.47], [\"Lithuania\", 4492.779825, 3.69], [\"Spain\", 15414.96497, 8.53], [\"Zambia\", 338.7725224, 0.21], [\"\\\"Congo\", 1080.71477, 0.32], [\"Romania\", 2164.635162, 4.14], [\"Vanuatu\", 1140.545477, 0.43], [\"Rwanda\", 250.2122546, 0.09], [\"Austria\", 24702.67799, 8.5], [\"Saudi Arabia\", 9543.292377, 13.41], [\"Uruguay\", 6788.562477, 1.71], [\"Madagascar\", 242.151167, 0.16], [\"Solomon Islands\", 941.8718794, 0.34], [\"Liberia\", 130.8284072, 0.22], [\"Georgia\", 879.3518603, 0.84], [\"Cambodia\", 369.5080733, 0.26], [\"Uganda\", 283.1176352, 0.07], [\"Egypt\", 1501.174334, 2.02], [\"Grenada\", 4184.456891, 2.42], [\"Fiji\", 2291.188689, 2.18], [\"Marshall Islands\", 2292.401961, 1.52], [\"Nicaragua\", 818.497666, 0.8], [\"Seychelles\", 6740.379744, 9.57], [\"Uzbekistan\", 647.0123356, 4.48], [\"Turkmenistan\", 1164.423389, 8.15], [\"Belarus\", 1701.450828, 6.32], [\"Bahamas\", 17057.24011, 6.7], [\"Tonga\", 1689.2193, 1.23], [\"Belgium\", 23679.03843, 10.95], [\"Croatia\", 5761.13578, 5.24], [\"Namibia\", 2460.240189, 1.29], [\"Russia\", 2285.784316, 10.42], [\"Brazil\", 3899.464311, 1.85], [\"Kuwait\", 20570.34126, 36.03], [\"Denmark\", 30792.77989, 9.37], [\"Dominica\", 3806.785168, 1.53], [\"Greenland\", 19248.01507, 9.69], [\"New Zealand\", 14650.01139, 7.69], [\"Guyana\", 987.3031273, 1.89], [\"Niger\", 162.5588529, 0.08], [\"Guinea-Bissau\", 141.6713049, 0.2], [\"Maldives\", 2836.002654, 2.22], [\"Kazakhstan\", 1818.956877, 11.37], [\"Jamaica\", 3721.299463, 3.88], [\"India\", 546.0289323, 1.28], [\"Mexico\", 6046.298937, 3.89], [\"Bermuda\", 63116.16121, 8.47], [\"Iraq\", 689.5692745, 3.28], [\"Ukraine\", 928.1552911, 6.95], [\"Colombia\", 2543.076154, 1.27], [\"China\", 1323.225877, 3.94], [\"Mali\", 268.8035644, 0.05], [\"Japan\", 38235.98372, 10.3], [\"Norway\", 39804.80893, 10.86], [\"Mauritania\", 429.5598276, 0.54], [\"Malta\", 9782.827889, 6.54], [\"Pakistan\", 576.3310021, 0.82], [\"Hungary\", 5622.860438, 5.77], [\"Honduras\", 1244.961888, 1.06], [\"El Salvador\", 2359.459417, 0.94], [\"Estonia\", 5631.544837, 13.97], [\"Greece\", 13551.72926, 9.13], [\"Saint Kitts and Nevis\", 7740.18737, 3.21], [\"Canada\", 24936.82598, 17.04], [\"Peru\", 2228.336854, 1.2], [\"Paraguay\", 1346.53247, 0.66], [\"Bosnia and Herzegovina\", 1712.06846, 5.56], [\"Panama\", 4215.537147, 1.86], [\"Ecuador\", 1515.711878, 2.25], [\"Gabon\", 3992.708489, 1.17], [\"Costa Rica\", 4322.879039, 1.8], [\"Burkina Faso\", 247.9958486, 0.06], [\"Armenia\", 975.6122753, 1.22], [\"United Kingdom\", 27272.66288, 9.21], [\"Kenya\", 410.6336637, 0.32], [\"Moldova\", 468.1842329, 1.73], [\"Germany\", 23544.28455, 9.97], [\"Benin\", 348.2322303, 0.32], [\"Tanzania\", 316.3582852, 0.12], [\"Portugal\", 11102.88289, 6.01], [\"Ireland\", 29254.20137, 11.07], [\"Qatar\", 30847.78566, 44.02]], function(d) {return d[0];});\n",
        "    \n",
        "    circles.enter()\n",
        "           .insert(\"circle\")\n",
        "           .attr(\"cx\", function(d){return vc.data.xRange(d[1]);})\n",
        "           .attr(\"cy\", function(d){return vc.data.yRange(d[2]);})\n",
        "           .attr(\"r\", function(d){return 6;})\n",
        "           .attr(\"fill-opacity\", function(d){return 0.5;})\n",
        "           .style(\"fill\", \"red\")\n",
        "           .on(\"mouseover\", function(d) { return vc.data.update_countryname(d[0]) ;})\n",
        "           .on(\"mouseout\", function(d) { return vc.data.update_countryname(\"\") ;}) ;\n",
        "\n",
        "    circles.transition()\n",
        "           .duration(1000)\n",
        "           .attr(\"cx\", function (d) { return vc.data.xRange(d[1]); })\n",
        "           .attr(\"cy\", function (d) { return vc.data.yRange(d[2]); })\n",
        "           .attr(\"r\", function (d) { return 6; })\n",
        "           .style(\"fill\", \"blue\");\n",
        "    \n",
        "    circles.exit ()\n",
        "           .transition().duration(1000)\n",
        "           .attr(\"r\", 0)\n",
        "           .remove();\n",
        "\n",
        "    vis.selectAll(\"#year\")\n",
        "       .data([2004])\n",
        "       .transition()\n",
        "       .text(function(d){return d});\n",
        "\n",
        "    "
       ],
       "output_type": "display_data"
      },
      {
       "javascript": [
        "\n",
        "    var vc = IPython.vis_utils.name_to_viscell[\"vis\"];\n",
        "    var vis = d3.select(\"#vis svg\");\n",
        "    var circles = vis.selectAll(\"g#datapoints\")\n",
        "                 .selectAll(\"circle\")\n",
        "                 .data([[\"Saint Vincent and the Grenadines\", 4060.429098, 1.68], [\"Bosnia and Herzegovina\", 1909.266882, 6.1], [\"Panama\", 4736.956264, 2.01], [\"Ghana\", 302.3836792, 0.41], [\"Ecuador\", 1633.267247, 2.31], [\"Central African Rep.\", 227.0544081, 0.06], [\"Romania\", 2444.048428, 4.42], [\"United States\", 37674.24245, 19.27], [\"Dominican Rep.\", 3264.717606, 2.22], [\"Costa Rica\", 4821.378859, 1.93], [\"Burkina Faso\", 259.9906612, 0.06], [\"Armenia\", 1255.185395, 1.47], [\"Kenya\", 438.713272, 0.35], [\"Jordan\", 2248.405333, 3.51], [\"Mauritania\", 480.4142924, 0.52], [\"Croatia\", 6286.747284, 5.27], [\"Tanzania\", 342.9879547, 0.14], [\"Qatar\", 29251.10834, 52.17], [\"Ireland\", 31410.22984, 10.78], [\"Guatemala\", 1811.17432, 0.96], [\"France\", 23321.30812, 6.29], [\"Laos\", 425.9535987, 0.22], [\"\\\"Macao\", 22032.09119, 5.14], [\"Palau\", 6575.96304, 5.7], [\"Mauritius\", 4418.89281, 3.1], [\"Latvia\", 5695.361455, 3.28], [\"Botswana\", 4394.906392, 2.91], [\"Bangladesh\", 420.8331757, 0.28], [\"\\\"Macedonia\", 1890.503279, 5.49], [\"\\\"Korea\", 13801.82716, 9.75], [\"Mongolia\", 627.1217208, 3.33], [\"Saint Lucia\", 5009.99383, 2.26], [\"Cape Verde\", 1490.030023, 0.73], [\"Mozambique\", 326.4484125, 0.1], [\"Brunei\", 18391.93849, 15.58], [\"Malawi\", 140.5422118, 0.08], [\"Morocco\", 1624.274291, 1.36], [\"Cote d'Ivoire\", 533.0977111, 0.39], [\"Cameroon\", 684.0735102, 0.21], [\"Tajikistan\", 217.2430888, 0.87], [\"Finland\", 27465.67527, 12.75], [\"Niger\", 171.5948071, 0.07], [\"Slovak Republic\", 7338.569455, 6.89], [\"Algeria\", 2127.536644, 4.03], [\"United Arab Emirates\", 25287.20298, 53.62], [\"South Africa\", 3569.867907, 9.38], [\"India\", 637.0760776, 1.38], [\"\\\"Yemen\", 552.4382541, 0.97], [\"Swaziland\", 1509.1671, 0.89], [\"Sweden\", 31984.07531, 5.64], [\"Iran\", 2008.424418, 6.8], [\"Samoa\", 1691.383634, 0.89], [\"Thailand\", 2488.230336, 4.22], [\"Equatorial Guinea\", 6778.591463, 8.07], [\"Belize\", 3753.078598, 2.84], [\"Haiti\", 381.4174061, 0.22], [\"Gabon\", 4004.146469, 1.44], [\"Eritrea\", 153.9299822, 0.12], [\"Bulgaria\", 2260.951427, 6.51], [\"Nepal\", 241.7016069, 0.11], [\"Sierra Leone\", 245.4991821, 0.17], [\"Timor-Leste\", 287.6830821, 0.17], [\"Portugal\", 11268.76017, 5.66], [\"Azerbaijan\", 1573.642156, 4.4], [\"Luxembourg\", 54405.82676, 23.84], [\"Burundi\", 109.1826428, 0.02], [\"Kuwait\", 22645.64934, 35.81], [\"Bahrain\", 15368.76883, 30.48], [\"Argentina\", 8699.009376, 4.35], [\"Solomon Islands\", 1009.030016, 0.33], [\"Gambia\", 351.4035217, 0.2], [\"Sri Lanka\", 1074.11925, 0.59], [\"Singapore\", 28233.75827, 12.51], [\"Switzerland\", 36792.21981, 5.56], [\"Bermuda\", 69636.14897, 8.59], [\"Bolivia\", 1145.488803, 1.27], [\"Angola\", 1036.180765, 0.87], [\"Poland\", 5552.488426, 8.26], [\"Comoros\", 381.9935128, 0.13], [\"Oman\", 9459.79069, 13.34], [\"Syria\", 1274.144567, 3.63], [\"Sudan\", 466.1621718, 0.26], [\"Philippines\", 1143.16396, 0.76], [\"Czech Rep.\", 7088.159819, 11.22], [\"Chad\", 292.8487066, 0.04], [\"Netherlands\", 26003.12767, 10.22], [\"Albania\", 1612.298447, 1.2], [\"Lebanon\", 5067.728682, 3.96], [\"Lithuania\", 5287.136551, 3.96], [\"Chile\", 5869.650622, 3.73], [\"Israel\", 20710.62996, 11.09], [\"Vanuatu\", 1237.234379, 0.44], [\"Rwanda\", 275.3217819, 0.09], [\"United Kingdom\", 28281.26649, 9.38], [\"Uruguay\", 7545.560152, 2.0], [\"Georgia\", 1079.932098, 1.18], [\"Djibouti\", 810.6337551, 1.0], [\"Nigeria\", 455.666514, 0.74], [\"Kiribati\", 832.6213372, 0.28], [\"Suriname\", 2417.893287, 5.55], [\"Ethiopia\", 161.6474292, 0.08], [\"Egypt\", 1614.332261, 2.11], [\"Papua New Guinea\", 624.6435508, 0.81], [\"Fiji\", 2360.327203, 1.78], [\"\\\"Hong Kong\", 30394.72055, 5.96], [\"Marshall Islands\", 2264.522836, 1.52], [\"Nicaragua\", 863.4146903, 0.78], [\"Kyrgyzstan\", 327.2747078, 1.07], [\"Seychelles\", 7650.467007, 9.13], [\"Australia\", 23526.7708, 18.36], [\"Bhutan\", 993.6221123, 0.17], [\"Belarus\", 2067.609425, 6.69], [\"Zambia\", 361.2537493, 0.21], [\"Belgium\", 24538.23442, 10.33], [\"\\\"Congo\", 1149.704345, 0.45], [\"Namibia\", 2599.298406, 1.38], [\"Austria\", 25928.561, 8.77], [\"Saudi Arabia\", 9886.930754, 14.12], [\"Madagascar\", 251.7066199, 0.15], [\"Liberia\", 137.9665158, 0.26], [\"Brazil\", 4086.823232, 1.87], [\"Malaysia\", 4792.173377, 7.7], [\"Greenland\", 20190.60427, 10.02], [\"Cambodia\", 448.9031605, 0.29], [\"Venezuela\", 5424.779381, 6.67], [\"Guyana\", 1015.48049, 1.96], [\"Maldives\", 3132.833003, 2.42], [\"Kazakhstan\", 2166.321179, 12.7], [\"Uganda\", 312.4483693, 0.1], [\"Grenada\", 4569.666557, 2.7], [\"Mexico\", 6403.95159, 4.06], [\"Slovenia\", 12559.14746, 7.55], [\"Ukraine\", 1037.312259, 6.83], [\"China\", 1611.71434, 4.66], [\"Senegal\", 521.5978063, 0.36], [\"Mali\", 286.2360943, 0.05], [\"Norway\", 41211.11372, 8.72], [\"Turkmenistan\", 1425.05974, 8.75], [\"Honduras\", 1352.786333, 0.98], [\"Russia\", 2644.151263, 10.95], [\"El Salvador\", 2515.48239, 0.95], [\"Greece\", 14458.24913, 9.02], [\"Uzbekistan\", 725.4126726, 4.24], [\"Canada\", 25921.8208, 16.46], [\"Denmark\", 32384.17677, 9.9], [\"Paraguay\", 1391.71719, 0.61], [\"Dominica\", 4084.998118, 1.7], [\"New Zealand\", 15004.47619, 7.48], [\"Guinea-Bissau\", 140.708808, 0.19], [\"Bahamas\", 17990.51086, 7.04], [\"Antigua and Barbuda\", 10943.10486, 6.15], [\"Jamaica\", 3825.26341, 4.41], [\"Tonga\", 1665.434341, 1.15], [\"Guinea\", 402.0886425, 0.14], [\"Moldova\", 530.0942646, 1.75], [\"Germany\", 24470.03405, 9.77], [\"Benin\", 349.2742461, 0.4], [\"Colombia\", 2789.078537, 1.45], [\"Japan\", 39771.95293, 10.15], [\"Spain\", 16057.35402, 8.72], [\"Turkey\", 4950.278199, 3.83], [\"Malta\", 10308.93156, 6.37], [\"Tunisia\", 2518.017524, 2.27], [\"Pakistan\", 629.526857, 0.86], [\"Vietnam\", 575.8839299, 1.26], [\"Hungary\", 6097.420956, 5.78], [\"Iceland\", 36884.17483, 7.4], [\"Estonia\", 6803.691211, 13.23], [\"Togo\", 250.0733947, 0.22], [\"Libya\", 7272.088553, 9.4], [\"Saint Kitts and Nevis\", 8355.167442, 3.47], [\"Italy\", 19853.4483, 8.16], [\"Cyprus\", 14718.4868, 9.93], [\"Peru\", 2502.04308, 1.37], [\"Indonesia\", 988.1686287, 1.51]], function(d) {return d[0];});\n",
        "    \n",
        "    circles.enter()\n",
        "           .insert(\"circle\")\n",
        "           .attr(\"cx\", function(d){return vc.data.xRange(d[1]);})\n",
        "           .attr(\"cy\", function(d){return vc.data.yRange(d[2]);})\n",
        "           .attr(\"r\", function(d){return 6;})\n",
        "           .attr(\"fill-opacity\", function(d){return 0.5;})\n",
        "           .style(\"fill\", \"red\")\n",
        "           .on(\"mouseover\", function(d) { return vc.data.update_countryname(d[0]) ;})\n",
        "           .on(\"mouseout\", function(d) { return vc.data.update_countryname(\"\") ;}) ;\n",
        "\n",
        "    circles.transition()\n",
        "           .duration(1000)\n",
        "           .attr(\"cx\", function (d) { return vc.data.xRange(d[1]); })\n",
        "           .attr(\"cy\", function (d) { return vc.data.yRange(d[2]); })\n",
        "           .attr(\"r\", function (d) { return 6; })\n",
        "           .style(\"fill\", \"blue\");\n",
        "    \n",
        "    circles.exit ()\n",
        "           .transition().duration(1000)\n",
        "           .attr(\"r\", 0)\n",
        "           .remove();\n",
        "\n",
        "    vis.selectAll(\"#year\")\n",
        "       .data([2006])\n",
        "       .transition()\n",
        "       .text(function(d){return d});\n",
        "\n",
        "    "
       ],
       "output_type": "display_data"
      },
      {
       "javascript": [
        "\n",
        "    var vc = IPython.vis_utils.name_to_viscell[\"vis\"];\n",
        "    var vis = d3.select(\"#vis svg\");\n",
        "    var circles = vis.selectAll(\"g#datapoints\")\n",
        "                 .selectAll(\"circle\")\n",
        "                 .data([[\"Tunisia\", 2743.855868, 2.414126984], [\"Philippines\", 1225.365463, 0.904761905], [\"Laos\", 474.9209888, 0.22], [\"Cameroon\", 702.8518479, 0.28], [\"Chile\", 6211.702917, 4.072201835], [\"Bahrain\", 16967.80233, 32.53945946], [\"Zambia\", 387.3125704, 0.168], [\"Hungary\", 6228.13329, 5.556258065], [\"Vietnam\", 647.1984828, 1.866666667], [\"El Salvador\", 2676.493585, 0.884482759], [\"United Kingdom\", 28955.36048, 8.918688525], [\"Bolivia\", 1173.237398, 1.47483871], [\"Paraguay\", 1515.568814, 0.61], [\"Suriname\", 2622.85561, 5.423863636], [\"Sweden\", 32257.65815, 5.525675676], [\"Ethiopia\", 189.8014514, 0.08], [\"Ecuador\", 1746.203571, 2.011935484], [\"Saint Lucia\", 4977.546018, 2.373], [\"Kenya\", 453.2221221, 0.35], [\"Tajikistan\", 244.9629511, 1.131], [\"Marshall Islands\", 2239.518797, 1.555348837], [\"Sierra Leone\", 261.4381576, 0.198333333], [\"Bhutan\", 1247.043128, 0.29], [\"Azerbaijan\", 2131.228669, 5.133333333], [\"Turkmenistan\", 1700.195905, 9.287909836], [\"South Africa\", 3763.819259, 9.875859031], [\"Namibia\", 2713.867419, 1.852105263], [\"Venezuela\", 5964.45369, 7.103116883], [\"Liberia\", 147.9138981, 0.173333333], [\"Guinea\", 410.1892847, 0.14], [\"Fiji\", 2180.909831, 1.430980392], [\"Bosnia and Herzegovina\", 2155.161458, 6.962626263], [\"New Zealand\", 14995.43334, 7.242], [\"Mongolia\", 735.3384125, 3.7629], [\"Comoros\", 369.5639239, 0.13], [\"Iceland\", 37375.04865, 7.07029703], [\"Uganda\", 348.0900302, 0.15], [\"Equatorial Guinea\", 8692.030885, 7.758115942], [\"Central African Rep.\", 231.6884373, 0.06], [\"China\", 1964.714929, 5.048333333], [\"Israel\", 21869.22868, 11.0056654], [\"Solomon Islands\", 1136.202433, 0.33], [\"Latvia\", 6034.258159, 3.316043956], [\"Honduras\", 1436.932804, 1.12], [\"Singapore\", 27990.65613, 7.991337793], [\"Portugal\", 11433.49088, 5.362105263], [\"Brazil\", 4447.612255, 2.053333333], [\"Djibouti\", 847.0760332, 1.0625], [\"Senegal\", 536.0482629, 0.36], [\"Guinea-Bissau\", 142.7257586, 0.19], [\"Thailand\", 2640.289617, 4.22], [\"Panama\", 5580.009482, 1.939473684], [\"Jamaica\", 3795.133498, 4.41], [\"Gabon\", 4167.590912, 1.933714286], [\"Moldova\", 587.8033615, 1.702702703], [\"Kyrgyzstan\", 375.8693572, 1.228518519], [\"Ukraine\", 1155.846418, 6.83], [\"Germany\", 25472.79209, 9.479442379], [\"Colombia\", 2986.221487, 1.564473684], [\"Benin\", 360.307483, 0.4], [\"Tanzania\", 372.9558617, 0.14], [\"Turkey\", 5098.74337, 4.062121212], [\"Lebanon\", 5814.485789, 4.44], [\"Luxembourg\", 54843.62355, 21.6265449], [\"Lithuania\", 5996.264645, 4.269913043], [\"Pakistan\", 650.1373519, 0.934782609], [\"Vanuatu\", 1338.61191, 0.806666667], [\"Estonia\", 7048.030008, 14.30686047], [\"Austria\", 27017.46224, 8.180420168], [\"Saudi Arabia\", 10250.43478, 15.29394919], [\"Gambia\", 374.2851015, 0.233333333], [\"Canada\", 26200.11699, 15.99381264], [\"Uruguay\", 8788.036832, 2.518518519], [\"Madagascar\", 271.9099033, 0.15], [\"Bangladesh\", 462.1229976, 0.28], [\"Peru\", 2921.324109, 1.531176471], [\"Italy\", 19657.25118, 7.706666667], [\"Saint Vincent and the Grenadines\", 4313.184188, 1.68], [\"Palau\", 6570.890175, 5.823465704], [\"Syria\", 1329.845013, 3.552765957], [\"Armenia\", 1519.925876, 1.846923077], [\"Nicaragua\", 905.129729, 0.78], [\"Jordan\", 2476.157691, 3.40255102], [\"Croatia\", 6796.341031, 5.344225352], [\"Ireland\", 31100.44097, 10.5056], [\"Niger\", 179.5709864, 0.07], [\"\\\"Macao\", 30556.04402, 4.606966292], [\"France\", 23605.14644, 6.142], [\"Burundi\", 111.3118096, 0.02], [\"Tonga\", 1665.625725, 1.15], [\"Russia\", 3030.088937, 11.32758621], [\"Sri Lanka\", 1199.086925, 0.59], [\"Switzerland\", 37871.61468, 5.303947368], [\"Indonesia\", 1087.460559, 1.761666667], [\"Guyana\", 1103.794554, 1.996296296], [\"Libya\", 7684.609899, 9.786831276], [\"Ghana\", 328.8878012, 0.372727273], [\"Uzbekistan\", 839.572714, 4.491525424], [\"Kazakhstan\", 2377.654739, 15.44795322], [\"Mozambique\", 357.0207955, 0.1], [\"United States\", 37867.10518, 18.69762376], [\"Sudan\", 532.1248665, 0.2925], [\"Morocco\", 1718.136821, 1.42974359], [\"Papua New Guinea\", 675.7607583, 0.3645], [\"Mexico\", 6591.482344, 4.311504425], [\"Haiti\", 386.936262, 0.256666667], [\"Slovak Republic\", 8591.425872, 6.645177665], [\"Netherlands\", 27306.59531, 10.55086331], [\"Mali\", 294.673831, 0.05], [\"Albania\", 1799.164349, 1.167567568], [\"Norway\", 42429.93479, 9.666356589], [\"Algeria\", 2189.998224, 4.03], [\"Spain\", 16306.38596, 8.043105023], [\"Slovenia\", 13784.23447, 7.925791855], [\"Mauritius\", 4813.497756, 3.175609756], [\"\\\"Congo\", 1156.470614, 0.436363636], [\"Belize\", 3690.934492, 2.84], [\"Argentina\", 9893.811398, 4.706557377], [\"Rwanda\", 313.1986439, 0.09], [\"Greece\", 15360.77443, 9.057740586], [\"\\\"Yemen\", 555.9888115, 1.028076923], [\"Saint Kitts and Nevis\", 9249.309466, 3.550076923], [\"Georgia\", 1268.309901, 1.145294118], [\"Swaziland\", 1557.010334, 0.964166667], [\"\\\"Macedonia\", 2075.824291, 5.481506849], [\"Cambodia\", 510.8105407, 0.32625], [\"Poland\", 6221.676718, 8.18754386], [\"Samoa\", 1739.014215, 0.89], [\"Costa Rica\", 5187.186301, 2.013913043], [\"Burkina Faso\", 262.728966, 0.06], [\"Egypt\", 1785.827986, 2.272307692], [\"Togo\", 245.1179985, 0.264], [\"Eritrea\", 149.5337637, 0.08], [\"Bulgaria\", 2569.990562, 6.809310345], [\"Finland\", 28626.7255, 10.84868421], [\"Seychelles\", 8208.320615, 8.306803279], [\"Australia\", 24334.68891, 19.02228457], [\"Guatemala\", 1906.048755, 0.886153846], [\"Timor-Leste\", 328.664058, 0.17], [\"Belarus\", 2484.773203, 6.844682081], [\"\\\"Korea\", 15157.63985, 10.23639405], [\"Kiribati\", 825.6008914, 0.28], [\"Belgium\", 25103.22442, 10.03273381], [\"Romania\", 2844.641672, 4.145891473], [\"Botswana\", 4497.116864, 3.089076923], [\"Cyprus\", 15509.50081, 10.68167331], [\"Denmark\", 32207.88843, 8.340659341], [\"Nigeria\", 490.5650087, 0.74], [\"Dominica\", 4359.278072, 2.002222222], [\"Angola\", 1337.606868, 0.894166667], [\"Cape Verde\", 1575.773369, 0.73], [\"Malaysia\", 5151.299812, 8.60106383], [\"Grenada\", 4802.262066, 2.7], [\"Malawi\", 158.3701703, 0.08], [\"Maldives\", 3417.511569, 2.4805], [\"India\", 717.5105318, 1.533333333], [\"Dominican Rep.\", 3623.037956, 2.22], [\"Cote d'Ivoire\", 529.5362703, 0.351], [\"Chad\", 277.084215, 0.04], [\"\\\"Hong Kong\", 34040.73959, 5.804868421], [\"Antigua and Barbuda\", 12047.31813, 6.283695652], [\"Czech Rep.\", 7593.30977, 10.60238532], [\"Nepal\", 253.5528785, 0.11], [\"Japan\", 40455.1262, 9.957765152]], function(d) {return d[0];});\n",
        "    \n",
        "    circles.enter()\n",
        "           .insert(\"circle\")\n",
        "           .attr(\"cx\", function(d){return vc.data.xRange(d[1]);})\n",
        "           .attr(\"cy\", function(d){return vc.data.yRange(d[2]);})\n",
        "           .attr(\"r\", function(d){return 6;})\n",
        "           .attr(\"fill-opacity\", function(d){return 0.5;})\n",
        "           .style(\"fill\", \"red\")\n",
        "           .on(\"mouseover\", function(d) { return vc.data.update_countryname(d[0]) ;})\n",
        "           .on(\"mouseout\", function(d) { return vc.data.update_countryname(\"\") ;}) ;\n",
        "\n",
        "    circles.transition()\n",
        "           .duration(1000)\n",
        "           .attr(\"cx\", function (d) { return vc.data.xRange(d[1]); })\n",
        "           .attr(\"cy\", function (d) { return vc.data.yRange(d[2]); })\n",
        "           .attr(\"r\", function (d) { return 6; })\n",
        "           .style(\"fill\", \"blue\");\n",
        "    \n",
        "    circles.exit ()\n",
        "           .transition().duration(1000)\n",
        "           .attr(\"r\", 0)\n",
        "           .remove();\n",
        "\n",
        "    vis.selectAll(\"#year\")\n",
        "       .data([2008])\n",
        "       .transition()\n",
        "       .text(function(d){return d});\n",
        "\n",
        "    "
       ],
       "output_type": "display_data"
      }
     ],
     "prompt_number": 12
    },
    {
     "cell_type": "markdown",
     "metadata": {},
     "source": [
      "We can call the python function from the javascript from the browser too.\n",
      "\n",
      "The cell below create a number of buttons so one can update the graph by clicking the buttons using the javascript function `IPython.notebook.kernel.execute()`. The function allows one to execute a python function from the javascript. This is acutally how ipython notebook works. When you excute a cell in the ipython notebook, a `IPython.notebook.kernel.execute` is called and the python code is passed to the ipython kernel through websocker + zeromq. \n",
      "\n",
      "The current 0.13-dev branch dose not process any `IPython.notebook.kernel.execute()` call that is not initiated from a \"code cell\". Thus, I have to modify `the notebook.js` and `codecell.js` (https://github.com/cschin/ipython/commit/3a34d3b0c4d42bb1ef7b42660b12d429936cb287) to let the notebook frontend to excute the call directly without using a \"code cell\"."
     ]
    },
    {
     "cell_type": "code",
     "collapsed": false,
     "input": [
      "for y in range(1965,2006,5):\n",
      "    y = str(y)\n",
      "    display_javascript(\"\"\"$(\"div#vis\").append(\"<button id='%s'>%s</button>\") \"\"\" % (y, y), raw=True)\n",
      "    display_javascript(\"\"\"var vc = IPython.vis_utils.name_to_viscell[\"vis\"];\n",
      "$(\"button#%s\")[0].onclick= \n",
      "function () {vc.execute_py('show_data_for_year(\"%s\")');};\"\"\" % (y,y), raw=True)"
     ],
     "language": "python",
     "metadata": {},
     "outputs": [
      {
       "javascript": [
        "$(\"div#vis\").append(\"<button id='1965'>1965</button>\") "
       ],
       "output_type": "display_data"
      },
      {
       "javascript": [
        "var vc = IPython.vis_utils.name_to_viscell[\"vis\"];\n",
        "$(\"button#1965\")[0].onclick= \n",
        "function () {vc.execute_py('show_data_for_year(\"1965\")');};"
       ],
       "output_type": "display_data"
      },
      {
       "javascript": [
        "$(\"div#vis\").append(\"<button id='1970'>1970</button>\") "
       ],
       "output_type": "display_data"
      },
      {
       "javascript": [
        "var vc = IPython.vis_utils.name_to_viscell[\"vis\"];\n",
        "$(\"button#1970\")[0].onclick= \n",
        "function () {vc.execute_py('show_data_for_year(\"1970\")');};"
       ],
       "output_type": "display_data"
      },
      {
       "javascript": [
        "$(\"div#vis\").append(\"<button id='1975'>1975</button>\") "
       ],
       "output_type": "display_data"
      },
      {
       "javascript": [
        "var vc = IPython.vis_utils.name_to_viscell[\"vis\"];\n",
        "$(\"button#1975\")[0].onclick= \n",
        "function () {vc.execute_py('show_data_for_year(\"1975\")');};"
       ],
       "output_type": "display_data"
      },
      {
       "javascript": [
        "$(\"div#vis\").append(\"<button id='1980'>1980</button>\") "
       ],
       "output_type": "display_data"
      },
      {
       "javascript": [
        "var vc = IPython.vis_utils.name_to_viscell[\"vis\"];\n",
        "$(\"button#1980\")[0].onclick= \n",
        "function () {vc.execute_py('show_data_for_year(\"1980\")');};"
       ],
       "output_type": "display_data"
      },
      {
       "javascript": [
        "$(\"div#vis\").append(\"<button id='1985'>1985</button>\") "
       ],
       "output_type": "display_data"
      },
      {
       "javascript": [
        "var vc = IPython.vis_utils.name_to_viscell[\"vis\"];\n",
        "$(\"button#1985\")[0].onclick= \n",
        "function () {vc.execute_py('show_data_for_year(\"1985\")');};"
       ],
       "output_type": "display_data"
      },
      {
       "javascript": [
        "$(\"div#vis\").append(\"<button id='1990'>1990</button>\") "
       ],
       "output_type": "display_data"
      },
      {
       "javascript": [
        "var vc = IPython.vis_utils.name_to_viscell[\"vis\"];\n",
        "$(\"button#1990\")[0].onclick= \n",
        "function () {vc.execute_py('show_data_for_year(\"1990\")');};"
       ],
       "output_type": "display_data"
      },
      {
       "javascript": [
        "$(\"div#vis\").append(\"<button id='1995'>1995</button>\") "
       ],
       "output_type": "display_data"
      },
      {
       "javascript": [
        "var vc = IPython.vis_utils.name_to_viscell[\"vis\"];\n",
        "$(\"button#1995\")[0].onclick= \n",
        "function () {vc.execute_py('show_data_for_year(\"1995\")');};"
       ],
       "output_type": "display_data"
      },
      {
       "javascript": [
        "$(\"div#vis\").append(\"<button id='2000'>2000</button>\") "
       ],
       "output_type": "display_data"
      },
      {
       "javascript": [
        "var vc = IPython.vis_utils.name_to_viscell[\"vis\"];\n",
        "$(\"button#2000\")[0].onclick= \n",
        "function () {vc.execute_py('show_data_for_year(\"2000\")');};"
       ],
       "output_type": "display_data"
      },
      {
       "javascript": [
        "$(\"div#vis\").append(\"<button id='2005'>2005</button>\") "
       ],
       "output_type": "display_data"
      },
      {
       "javascript": [
        "var vc = IPython.vis_utils.name_to_viscell[\"vis\"];\n",
        "$(\"button#2005\")[0].onclick= \n",
        "function () {vc.execute_py('show_data_for_year(\"2005\")');};"
       ],
       "output_type": "display_data"
      }
     ],
     "prompt_number": 13
    },
    {
     "cell_type": "code",
     "collapsed": false,
     "input": [
      "display_javascript(\"\"\"var vc = IPython.vis_utils.name_to_viscell[\"vis\"];\n",
      "vc.execute_py('show_data_for_year(\"1990\")')\"\"\", raw=True)"
     ],
     "language": "python",
     "metadata": {},
     "outputs": [
      {
       "javascript": [
        "var vc = IPython.vis_utils.name_to_viscell[\"vis\"];\n",
        "vc.execute_py('show_data_for_year(\"1990\")')"
       ],
       "output_type": "display_data"
      }
     ],
     "prompt_number": 14
    },
    {
     "cell_type": "markdown",
     "metadata": {},
     "source": [
      "## More work to be done, the fun is just starting\n",
      "\n",
      "Andy Wilson has a nice more tightly intergration of d3.js and ipython notebook. See https://github.com/wilsaj/ipython/tree/d3plots \n",
      "\n",
      "\n",
      "## some other examples (mostly experimental, need various different setups.)\n",
      "https://github.com/cschin/IPython-Notebook---d3.js-mashup\n",
      "\n",
      "\n",
      "# Why? \n",
      "\n",
      "The whole exercise here is mostly on exploring the possibility to have really dynamic frontend for developing visulizations or demostrations.  The ipython notebook provides a really nice way to integrate web technologies with the powerful backend python processes.  This will make dynamic data exploratory work with python easier in the furture using mostly open-source software.  We can eventually integrate a lots of other cool web technologies (e.g. webGL, html5 video, canvas) together. \n",
      "\n",
      "# What's next\n",
      "\n",
      "In this example, I use bare-bone python functions / javascript functions for the work. I think the reasonable next step is to see what is the right kind of framework for mapping the javascript objects and python objects (e.g. something like https://github.com/mikedewar/d3py for ipython notebook or Andy Wilson's d3plots approach.)  Eventually, we may develope a standard set of widgets or integrate some concept of the \"Grammar of Graphics\" (http://www.amazon.com/Grammar-Graphics-Leland-Wilkinson/dp/0387987746) and ggplot2-like features (http://had.co.nz/ggplot2/) as python notebook libraries. \n",
      "\n",
      "--Jason Chin, Feb 26, 2012"
     ]
    },
    {
     "cell_type": "code",
     "collapsed": true,
     "input": [
      "# Here we show we can re-define the function and have the javascript calls the\n",
      "# the re-defined function immediately \n",
      "# The code below plots the circles using the sizes propotional to the log of the\n",
      "# population of each country\n",
      "# One you execute this cell, you can see the changes by click the buttons\n",
      "# in the display area\n",
      "\n",
      "import json\n",
      "\n",
      "def show_data_for_year(y):\n",
      "    data_to_show = []\n",
      "    for k in kdata:\n",
      "        if k[1] != y:\n",
      "            continue\n",
      "        d = kdata[k]\n",
      "        if d[0] == None: continue\n",
      "        if d[1] == None: continue\n",
      "        if d[2] == None:\n",
      "            pop = 1000\n",
      "        else:\n",
      "            pop = d[2]\n",
      "        data_to_show.append([k[0], d[0], d[1], pop])\n",
      "\n",
      "    js=\"\"\"\n",
      "    var vc = IPython.vis_utils.name_to_viscell[\"vis\"];\n",
      "    var vis = d3.select(\"#vis svg\");\n",
      "    var circles = vis.selectAll(\"g#datapoints\")\n",
      "                 .selectAll(\"circle\")\n",
      "                 .data(%s, function(d) {return d[0];});\n",
      "    \n",
      "    circles.enter()\n",
      "           .insert(\"circle\")\n",
      "           .attr(\"cx\", function(d){return vc.data.xRange(d[1]);})\n",
      "           .attr(\"cy\", function(d){return vc.data.yRange(d[2]);})\n",
      "           .attr(\"r\", function(d){return 0.7*Math.log(d[3])/Math.log(10);})\n",
      "           .attr(\"fill-opacity\", function(d){return 0.5;})\n",
      "           .style(\"fill\", \"red\")\n",
      "           .on(\"mouseover\", function(d) { return vc.data.update_countryname(d[0]) ;}) \n",
      "           .on(\"mouseout\", function(d) { return vc.data.update_countryname(\"\") ;});\n",
      "\n",
      "    circles.transition()\n",
      "           .duration(1000)\n",
      "           .attr(\"cx\", function (d) { return vc.data.xRange(d[1]); })\n",
      "           .attr(\"cy\", function (d) { return vc.data.yRange(d[2]); })\n",
      "           .attr(\"r\", function(d){return 0.7*Math.log(d[3])/Math.log(10);})\n",
      "           .style(\"fill\", \"blue\");\n",
      "    \n",
      "    circles.exit ()\n",
      "           .transition().duration(1000)\n",
      "           .attr(\"r\", 0)\n",
      "           .remove();\n",
      "\n",
      "    vis.selectAll(\"#year\")\n",
      "       .data([%s])\n",
      "       .transition()\n",
      "       .text(function(d){return d});\n",
      "\n",
      "    \"\"\" % (json.dumps(data_to_show), y)\n",
      "    \n",
      "    display_javascript(js, raw=True)"
     ],
     "language": "python",
     "metadata": {},
     "outputs": [],
     "prompt_number": 15
    },
    {
     "cell_type": "code",
     "collapsed": false,
     "input": [],
     "language": "python",
     "metadata": {},
     "outputs": [],
     "prompt_number": 15
    }
   ],
   "metadata": {}
  }
 ]
}