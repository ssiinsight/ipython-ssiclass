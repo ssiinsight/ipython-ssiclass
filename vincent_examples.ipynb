{
 "metadata": {
  "name": "",
  "signature": "sha256:69bc91d0b6287206ec1d14999c352446a76a1c137332c731a10366a9d36d655c"
 },
 "nbformat": 3,
 "nbformat_minor": 0,
 "worksheets": [
  {
   "cells": [
    {
     "cell_type": "markdown",
     "metadata": {},
     "source": [
      "#Basic Bar Chart"
     ]
    },
    {
     "cell_type": "code",
     "collapsed": false,
     "input": [
      "import pandas as pd\n",
      "import vincent\n",
      "import random\n",
      "vincent.core.initialize_notebook()\n",
      "\n",
      "list_data = [10, 20, 30, 20, 15, 30, 45]\n",
      "\n",
      "bar = vincent.Bar(list_data)\n",
      "\n",
      "bar.display()"
     ],
     "language": "python",
     "metadata": {},
     "outputs": [
      {
       "html": [
        "\n",
        "           <script>\n",
        "               \n",
        "                function vct_load_lib(url, callback){\n",
        "                      if(typeof d3 !== 'undefined' &&\n",
        "                         url === 'http://d3js.org/d3.v3.min.js'){\n",
        "                        callback()\n",
        "                      }\n",
        "                      var s = document.createElement('script');\n",
        "                      s.src = url;\n",
        "                      s.async = true;\n",
        "                      s.onreadystatechange = s.onload = callback;\n",
        "                      s.onerror = function(){\n",
        "                        console.warn(\"failed to load library \" + url);\n",
        "                        };\n",
        "                      document.getElementsByTagName(\"head\")[0].appendChild(s);\n",
        "                };\n",
        "                var vincent_event = new CustomEvent(\n",
        "                  \"vincent_libs_loaded\",\n",
        "                  {bubbles: true, cancelable: true}\n",
        "                );\n",
        "                \n",
        "               function load_all_libs(){\n",
        "                  console.log('Loading Vincent libs...')\n",
        "                  vct_load_lib('http://d3js.org/d3.v3.min.js', function(){\n",
        "                  vct_load_lib('http://d3js.org/d3.geo.projection.v0.min.js', function(){\n",
        "                  vct_load_lib('http://wrobstory.github.io/d3-cloud/d3.layout.cloud.js', function(){\n",
        "                  vct_load_lib('http://wrobstory.github.io/vega/vega.v1.3.3.js', function(){\n",
        "                  window.dispatchEvent(vincent_event);\n",
        "                  });\n",
        "                  });\n",
        "                  });\n",
        "                  });\n",
        "               };\n",
        "               if(typeof define === \"function\" && define.amd){\n",
        "                    if (window['d3'] === undefined ||\n",
        "                        window['topojson'] === undefined){\n",
        "                        require.config(\n",
        "                            {paths: {\n",
        "                              d3: 'http://d3js.org/d3.v3.min',\n",
        "                              topojson: 'http://d3js.org/topojson.v1.min'\n",
        "                              }\n",
        "                            }\n",
        "                          );\n",
        "                        require([\"d3\"], function(d3){\n",
        "                            console.log('Loading Vincent from require.js...')\n",
        "                            window.d3 = d3;\n",
        "                            require([\"topojson\"], function(topojson){\n",
        "                                window.topojson = topojson;\n",
        "                                load_all_libs();\n",
        "                            });\n",
        "                        });\n",
        "                    } else {\n",
        "                        load_all_libs();\n",
        "                    };\n",
        "               }else{\n",
        "                    console.log('Require.js not found, loading manually...')\n",
        "                    load_all_libs();\n",
        "               };\n",
        "\n",
        "           </script>"
       ],
       "metadata": {},
       "output_type": "display_data",
       "text": [
        "<IPython.core.display.HTML at 0x114147090>"
       ]
      },
      {
       "html": [
        "<div id=\"vis1e764a28d6354e84a6776b29a709bfb0\"></div>\n",
        "<script>\n",
        "   ( function() {\n",
        "     var _do_plot = function() {\n",
        "       if (typeof vg === 'undefined') {\n",
        "         window.addEventListener('vincent_libs_loaded', _do_plot)\n",
        "         return;\n",
        "       }\n",
        "       vg.parse.spec({\"axes\": [{\"scale\": \"x\", \"type\": \"x\"}, {\"scale\": \"y\", \"type\": \"y\"}], \"data\": [{\"name\": \"table\", \"values\": [{\"col\": \"data\", \"idx\": 0, \"val\": 10}, {\"col\": \"data\", \"idx\": 1, \"val\": 20}, {\"col\": \"data\", \"idx\": 2, \"val\": 30}, {\"col\": \"data\", \"idx\": 3, \"val\": 20}, {\"col\": \"data\", \"idx\": 4, \"val\": 15}, {\"col\": \"data\", \"idx\": 5, \"val\": 30}, {\"col\": \"data\", \"idx\": 6, \"val\": 45}]}, {\"name\": \"stats\", \"source\": \"table\", \"transform\": [{\"keys\": [\"data.idx\"], \"type\": \"facet\"}, {\"type\": \"stats\", \"value\": \"data.val\"}]}], \"height\": 500, \"legends\": [], \"marks\": [{\"from\": {\"data\": \"table\", \"transform\": [{\"keys\": [\"data.col\"], \"type\": \"facet\"}, {\"height\": \"data.val\", \"point\": \"data.idx\", \"type\": \"stack\"}]}, \"marks\": [{\"properties\": {\"enter\": {\"fill\": {\"field\": \"data.col\", \"scale\": \"color\"}, \"width\": {\"band\": true, \"offset\": -1, \"scale\": \"x\"}, \"x\": {\"field\": \"data.idx\", \"scale\": \"x\"}, \"y\": {\"field\": \"y\", \"scale\": \"y\"}, \"y2\": {\"field\": \"y2\", \"scale\": \"y\"}}}, \"type\": \"rect\"}], \"type\": \"group\"}], \"padding\": \"auto\", \"scales\": [{\"domain\": {\"data\": \"table\", \"field\": \"data.idx\"}, \"name\": \"x\", \"range\": \"width\", \"type\": \"ordinal\", \"zero\": false}, {\"domain\": {\"data\": \"stats\", \"field\": \"sum\"}, \"name\": \"y\", \"nice\": true, \"range\": \"height\"}, {\"domain\": {\"data\": \"table\", \"field\": \"data.col\"}, \"name\": \"color\", \"range\": \"category20\", \"type\": \"ordinal\"}], \"width\": 960}, function(chart) {\n",
        "         chart({el: \"#vis1e764a28d6354e84a6776b29a709bfb0\"}).update();\n",
        "       });\n",
        "     };\n",
        "     _do_plot();\n",
        "   })();\n",
        "</script>\n",
        "<style>.vega canvas {width: 100%;}</style>\n",
        "        "
       ],
       "metadata": {},
       "output_type": "display_data",
       "text": [
        "<IPython.core.display.HTML at 0x1140d5650>"
       ]
      }
     ],
     "prompt_number": 12
    },
    {
     "cell_type": "markdown",
     "metadata": {},
     "source": [
      "#Bar With Axis Labels"
     ]
    },
    {
     "cell_type": "code",
     "collapsed": false,
     "input": [
      "#Dicts of iterables\n",
      "#Generate a bunch of random data\n",
      "cat_1 = ['y1', 'y2', 'y3', 'y4']\n",
      "index_1 = range(0, 21, 1)\n",
      "multi_iter1 = {'index': index_1}\n",
      "for cat in cat_1:\n",
      "    multi_iter1[cat] = [random.randint(10, 100) for x in index_1]\n",
      "    \n",
      "cat_2 = ['y' + str(x) for x in range(0, 10, 1)]\n",
      "index_2 = range(1, 21, 1)\n",
      "multi_iter2 = {'index': index_2}\n",
      "for cat in cat_2:\n",
      "    multi_iter2[cat] = [random.randint(10, 100) for x in index_2]\n",
      "\n",
      "#The data for the next plot\n",
      "print 'Data: ', multi_iter1['y1']\n",
      "print\n",
      "bar = vincent.Bar(multi_iter1['y1'])\n",
      "bar.axis_titles(x='Index', y='Value')\n",
      "\n",
      "bar.display()"
     ],
     "language": "python",
     "metadata": {},
     "outputs": [
      {
       "output_type": "stream",
       "stream": "stdout",
       "text": [
        "Data:  [28, 38, 22, 34, 31, 60, 96, 12, 12, 31, 43, 16, 43, 37, 37, 14, 46, 81, 29, 86, 97]\n",
        "\n"
       ]
      },
      {
       "html": [
        "<div id=\"visfdcd9df800fd4dbe8c28831c14240a3f\"></div>\n",
        "<script>\n",
        "   ( function() {\n",
        "     var _do_plot = function() {\n",
        "       if (typeof vg === 'undefined') {\n",
        "         window.addEventListener('vincent_libs_loaded', _do_plot)\n",
        "         return;\n",
        "       }\n",
        "       vg.parse.spec({\"axes\": [{\"scale\": \"x\", \"title\": \"Index\", \"type\": \"x\"}, {\"scale\": \"y\", \"title\": \"Value\", \"type\": \"y\"}], \"data\": [{\"name\": \"table\", \"values\": [{\"col\": \"data\", \"idx\": 0, \"val\": 28}, {\"col\": \"data\", \"idx\": 1, \"val\": 38}, {\"col\": \"data\", \"idx\": 2, \"val\": 22}, {\"col\": \"data\", \"idx\": 3, \"val\": 34}, {\"col\": \"data\", \"idx\": 4, \"val\": 31}, {\"col\": \"data\", \"idx\": 5, \"val\": 60}, {\"col\": \"data\", \"idx\": 6, \"val\": 96}, {\"col\": \"data\", \"idx\": 7, \"val\": 12}, {\"col\": \"data\", \"idx\": 8, \"val\": 12}, {\"col\": \"data\", \"idx\": 9, \"val\": 31}, {\"col\": \"data\", \"idx\": 10, \"val\": 43}, {\"col\": \"data\", \"idx\": 11, \"val\": 16}, {\"col\": \"data\", \"idx\": 12, \"val\": 43}, {\"col\": \"data\", \"idx\": 13, \"val\": 37}, {\"col\": \"data\", \"idx\": 14, \"val\": 37}, {\"col\": \"data\", \"idx\": 15, \"val\": 14}, {\"col\": \"data\", \"idx\": 16, \"val\": 46}, {\"col\": \"data\", \"idx\": 17, \"val\": 81}, {\"col\": \"data\", \"idx\": 18, \"val\": 29}, {\"col\": \"data\", \"idx\": 19, \"val\": 86}, {\"col\": \"data\", \"idx\": 20, \"val\": 97}]}, {\"name\": \"stats\", \"source\": \"table\", \"transform\": [{\"keys\": [\"data.idx\"], \"type\": \"facet\"}, {\"type\": \"stats\", \"value\": \"data.val\"}]}], \"height\": 500, \"legends\": [], \"marks\": [{\"from\": {\"data\": \"table\", \"transform\": [{\"keys\": [\"data.col\"], \"type\": \"facet\"}, {\"height\": \"data.val\", \"point\": \"data.idx\", \"type\": \"stack\"}]}, \"marks\": [{\"properties\": {\"enter\": {\"fill\": {\"field\": \"data.col\", \"scale\": \"color\"}, \"width\": {\"band\": true, \"offset\": -1, \"scale\": \"x\"}, \"x\": {\"field\": \"data.idx\", \"scale\": \"x\"}, \"y\": {\"field\": \"y\", \"scale\": \"y\"}, \"y2\": {\"field\": \"y2\", \"scale\": \"y\"}}}, \"type\": \"rect\"}], \"type\": \"group\"}], \"padding\": \"auto\", \"scales\": [{\"domain\": {\"data\": \"table\", \"field\": \"data.idx\"}, \"name\": \"x\", \"range\": \"width\", \"type\": \"ordinal\", \"zero\": false}, {\"domain\": {\"data\": \"stats\", \"field\": \"sum\"}, \"name\": \"y\", \"nice\": true, \"range\": \"height\"}, {\"domain\": {\"data\": \"table\", \"field\": \"data.col\"}, \"name\": \"color\", \"range\": \"category20\", \"type\": \"ordinal\"}], \"width\": 960}, function(chart) {\n",
        "         chart({el: \"#visfdcd9df800fd4dbe8c28831c14240a3f\"}).update();\n",
        "       });\n",
        "     };\n",
        "     _do_plot();\n",
        "   })();\n",
        "</script>\n",
        "<style>.vega canvas {width: 100%;}</style>\n",
        "        "
       ],
       "metadata": {},
       "output_type": "display_data",
       "text": [
        "<IPython.core.display.HTML at 0x11405e990>"
       ]
      }
     ],
     "prompt_number": 20
    },
    {
     "cell_type": "markdown",
     "metadata": {},
     "source": [
      "#Rotate the Labels"
     ]
    },
    {
     "cell_type": "code",
     "collapsed": false,
     "input": [
      "from vincent import AxisProperties, PropertySet, ValueRef\n",
      "\n",
      "bar = vincent.Bar(multi_iter1['y1'])\n",
      "bar.axis_titles(x='Index', y='Value')\n",
      "\n",
      "#The data for the next plot\n",
      "print 'Data: ', multi_iter1['y1']\n",
      "print\n",
      "\n",
      "#rotate x axis labels\n",
      "ax = AxisProperties(\n",
      "         labels = PropertySet(angle=ValueRef(value=-45)))\n",
      "ay = AxisProperties(\n",
      "         labels = PropertySet(angle=ValueRef(value=-45)))\n",
      "\n",
      "bar.axes[0].properties = ax\n",
      "bar.axes[1].properties = ay\n",
      "\n",
      "bar.display()"
     ],
     "language": "python",
     "metadata": {},
     "outputs": [
      {
       "output_type": "stream",
       "stream": "stdout",
       "text": [
        "Data:  [28, 38, 22, 34, 31, 60, 96, 12, 12, 31, 43, 16, 43, 37, 37, 14, 46, 81, 29, 86, 97]\n",
        "\n"
       ]
      },
      {
       "html": [
        "<div id=\"vis3bc4d12c629449809a477742917ebac3\"></div>\n",
        "<script>\n",
        "   ( function() {\n",
        "     var _do_plot = function() {\n",
        "       if (typeof vg === 'undefined') {\n",
        "         window.addEventListener('vincent_libs_loaded', _do_plot)\n",
        "         return;\n",
        "       }\n",
        "       vg.parse.spec({\"axes\": [{\"properties\": {\"labels\": {\"angle\": {\"value\": -45}}}, \"scale\": \"x\", \"title\": \"Index\", \"type\": \"x\"}, {\"properties\": {\"labels\": {\"angle\": {\"value\": -45}}}, \"scale\": \"y\", \"title\": \"Value\", \"type\": \"y\"}], \"data\": [{\"name\": \"table\", \"values\": [{\"col\": \"data\", \"idx\": 0, \"val\": 28}, {\"col\": \"data\", \"idx\": 1, \"val\": 38}, {\"col\": \"data\", \"idx\": 2, \"val\": 22}, {\"col\": \"data\", \"idx\": 3, \"val\": 34}, {\"col\": \"data\", \"idx\": 4, \"val\": 31}, {\"col\": \"data\", \"idx\": 5, \"val\": 60}, {\"col\": \"data\", \"idx\": 6, \"val\": 96}, {\"col\": \"data\", \"idx\": 7, \"val\": 12}, {\"col\": \"data\", \"idx\": 8, \"val\": 12}, {\"col\": \"data\", \"idx\": 9, \"val\": 31}, {\"col\": \"data\", \"idx\": 10, \"val\": 43}, {\"col\": \"data\", \"idx\": 11, \"val\": 16}, {\"col\": \"data\", \"idx\": 12, \"val\": 43}, {\"col\": \"data\", \"idx\": 13, \"val\": 37}, {\"col\": \"data\", \"idx\": 14, \"val\": 37}, {\"col\": \"data\", \"idx\": 15, \"val\": 14}, {\"col\": \"data\", \"idx\": 16, \"val\": 46}, {\"col\": \"data\", \"idx\": 17, \"val\": 81}, {\"col\": \"data\", \"idx\": 18, \"val\": 29}, {\"col\": \"data\", \"idx\": 19, \"val\": 86}, {\"col\": \"data\", \"idx\": 20, \"val\": 97}]}, {\"name\": \"stats\", \"source\": \"table\", \"transform\": [{\"keys\": [\"data.idx\"], \"type\": \"facet\"}, {\"type\": \"stats\", \"value\": \"data.val\"}]}], \"height\": 500, \"legends\": [], \"marks\": [{\"from\": {\"data\": \"table\", \"transform\": [{\"keys\": [\"data.col\"], \"type\": \"facet\"}, {\"height\": \"data.val\", \"point\": \"data.idx\", \"type\": \"stack\"}]}, \"marks\": [{\"properties\": {\"enter\": {\"fill\": {\"field\": \"data.col\", \"scale\": \"color\"}, \"width\": {\"band\": true, \"offset\": -1, \"scale\": \"x\"}, \"x\": {\"field\": \"data.idx\", \"scale\": \"x\"}, \"y\": {\"field\": \"y\", \"scale\": \"y\"}, \"y2\": {\"field\": \"y2\", \"scale\": \"y\"}}}, \"type\": \"rect\"}], \"type\": \"group\"}], \"padding\": \"auto\", \"scales\": [{\"domain\": {\"data\": \"table\", \"field\": \"data.idx\"}, \"name\": \"x\", \"range\": \"width\", \"type\": \"ordinal\", \"zero\": false}, {\"domain\": {\"data\": \"stats\", \"field\": \"sum\"}, \"name\": \"y\", \"nice\": true, \"range\": \"height\"}, {\"domain\": {\"data\": \"table\", \"field\": \"data.col\"}, \"name\": \"color\", \"range\": \"category20\", \"type\": \"ordinal\"}], \"width\": 960}, function(chart) {\n",
        "         chart({el: \"#vis3bc4d12c629449809a477742917ebac3\"}).update();\n",
        "       });\n",
        "     };\n",
        "     _do_plot();\n",
        "   })();\n",
        "</script>\n",
        "<style>.vega canvas {width: 100%;}</style>\n",
        "        "
       ],
       "metadata": {},
       "output_type": "display_data",
       "text": [
        "<IPython.core.display.HTML at 0x114110c50>"
       ]
      }
     ],
     "prompt_number": 26
    }
   ],
   "metadata": {}
  }
 ]
}