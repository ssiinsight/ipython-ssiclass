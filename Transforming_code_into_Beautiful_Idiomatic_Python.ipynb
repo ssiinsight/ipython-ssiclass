{
 "metadata": {
  "name": "",
  "signature": "sha256:6f444c2ad20e7448acfeb3435dfa05e198495ba7bb70e40bc00b862d7c349a10"
 },
 "nbformat": 3,
 "nbformat_minor": 0,
 "worksheets": [
  {
   "cells": [
    {
     "cell_type": "markdown",
     "metadata": {},
     "source": [
      "# \uc5ec\uc790\ub9cc \ubcc0\uc2e0\ud558\ub0d0? \ud30c\uc774\uc36c\ub3c4 \ubcc0\uc2e0\ud574 \ubcf4\uc790!\n",
      "\n",
      "## \uc6d0\ubcf8\n",
      "\n",
      "- [Transforming code into Beautiful, Idiomatic Python by Raymond Hettinger](https://speakerdeck.com/pyconslides/transforming-code-into-beautiful-idiomatic-python-by-raymond-hettinger-1)\n",
      "- [Transforming Code into Beautiful, Idiomatic Python \ub3d9\uc601\uc0c1](https://www.youtube.com/watch?v=OSGv2VnC0go)\n",
      "\n",
      "## \uc774 \uae00 \uc77d\uc744\uc2dc \uc8fc\uc758\uc0ac\ud56d\n",
      "\n",
      "- \ubc1c \ubc88\uc5ed\uc774\uae30 \ub54c\ubb38\uc5d0 \uc8fc\uc758\ud574 \uc8fc\uc138\uc694..\n",
      "- \uc5ed\uc2dc \uc601\uc5b4\ubcf4\ub2e4\ub294 \ucf54\ub4dc\uac00 \uc775\uc219\ud560\ud14c\ub2c8 \uc758\uc5ed\uc774 \uc774\uc0c1\ud558\ub354\ub77c\ub3c4 \ucf54\ub4dc\ubcf4\uace0 \uc54c\uc544 \ubcf4\uc138\uc694.(\ubb54 \uc18c\ub9ac\ub0d0?!!)\n",
      "- \uc6d0\ubcf8 \ucc38\uace0\ud558\uba74\uc11c \ubcf4\uc138\uc694.\n",
      "\n",
      "## \ub124\uac00 \uc774\uac83\uc744 \ubcfc \ub54c \ub300\uc2e0\ud574\ub77c!(\uc758\uc5ed: \ub2c8\uac00 \uc774\uac70\ubcf4\uace0 \uc54c\uc544\ubcf4\uae30 \uc26c\uc6b8\uac70 \uac19\uc73c\uba74 \uace0\uccd0\uc11c \uc368\ubd10)\n",
      "\n",
      "- \uc804\ud1b5\uc801\uc73c\ub85c index\ub97c \uc870\uc791\ud574\uc11c \uc774\ub3d9\ud558\ub294 \uac83\uc744 \ud30c\uc774\uc36c core \ubc18\ubcf5\ubb38 \uad00\uc6a9\uad6c\ub85c \uace0\uccd0\ub77c! \n",
      "- \uace0\uae09\uc801\uc778 \uae30\uc220 for-else\ubb38\uacfc 2\uac00\uc9c0 \uc778\uc790\uc758 iter()\ub97c \ubc30\uc6cc\ub77c\n",
      "- \uc2f8\uc6b0\uace0\uc790 \ud558\ub294 \uc758\uc9c0\uc640 \uae68\ub057\ud558\uac8c \ud558\uace0\uc790 \ud558\ub294 \uc758\uc9c0, \ube60\ub974\uac8c, \uc774\uc0c1\uc801\uc778 \ud30c\uc774\uc36c \ucf54\ub4dc \uc791\uc131\ud558\ub294 \ubc95\uc744 \ud5a5\uc0c1 \uc2dc\ucf1c\ub77c"
     ]
    },
    {
     "cell_type": "markdown",
     "metadata": {},
     "source": [
      "## Looping over a range of numbers"
     ]
    },
    {
     "cell_type": "code",
     "collapsed": false,
     "input": [
      "def foolish_range():\n",
      "    for i in [0, 1, 2, 3, 4, 5]:\n",
      "        print i**2"
     ],
     "language": "python",
     "metadata": {},
     "outputs": [],
     "prompt_number": 1
    },
    {
     "cell_type": "code",
     "collapsed": false,
     "input": [
      "def middle_range(n=10000000):\n",
      "    for i in range(n):\n",
      "        pass\n",
      "#         print i**2"
     ],
     "language": "python",
     "metadata": {},
     "outputs": [],
     "prompt_number": 3
    },
    {
     "cell_type": "code",
     "collapsed": false,
     "input": [
      "def advanced_range(n=10000000):\n",
      "    for i in xrange(n):\n",
      "        pass\n",
      "#         print i**2"
     ],
     "language": "python",
     "metadata": {},
     "outputs": [],
     "prompt_number": 4
    },
    {
     "cell_type": "code",
     "collapsed": false,
     "input": [
      "foolish_range()"
     ],
     "language": "python",
     "metadata": {},
     "outputs": [
      {
       "output_type": "stream",
       "stream": "stdout",
       "text": [
        "0\n",
        "1\n",
        "4\n",
        "9\n",
        "16\n",
        "25\n"
       ]
      }
     ],
     "prompt_number": 5
    },
    {
     "cell_type": "code",
     "collapsed": false,
     "input": [
      "middle_range()"
     ],
     "language": "python",
     "metadata": {},
     "outputs": [],
     "prompt_number": 6
    },
    {
     "cell_type": "code",
     "collapsed": false,
     "input": [
      "advanced_range()"
     ],
     "language": "python",
     "metadata": {},
     "outputs": [],
     "prompt_number": 7
    },
    {
     "cell_type": "code",
     "collapsed": false,
     "input": [
      "%timeit foolish_range"
     ],
     "language": "python",
     "metadata": {},
     "outputs": [
      {
       "output_type": "stream",
       "stream": "stdout",
       "text": [
        "10000000 loops, best of 3: 28.8 ns per loop\n"
       ]
      }
     ],
     "prompt_number": 8
    },
    {
     "cell_type": "code",
     "collapsed": false,
     "input": [
      "%timeit middle_range"
     ],
     "language": "python",
     "metadata": {},
     "outputs": [
      {
       "output_type": "stream",
       "stream": "stdout",
       "text": [
        "10000000 loops, best of 3: 27.7 ns per loop\n"
       ]
      }
     ],
     "prompt_number": 9
    },
    {
     "cell_type": "code",
     "collapsed": false,
     "input": [
      "%timeit advanced_range"
     ],
     "language": "python",
     "metadata": {},
     "outputs": [
      {
       "output_type": "stream",
       "stream": "stdout",
       "text": [
        "10000000 loops, best of 3: 27.8 ns per loop\n"
       ]
      }
     ],
     "prompt_number": 10
    },
    {
     "cell_type": "code",
     "collapsed": false,
     "input": [
      "%timeit middle_range, 1000000000"
     ],
     "language": "python",
     "metadata": {},
     "outputs": [
      {
       "output_type": "stream",
       "stream": "stdout",
       "text": [
        "10000000 loops, best of 3: 58.8 ns per loop\n"
       ]
      }
     ],
     "prompt_number": 11
    },
    {
     "cell_type": "code",
     "collapsed": false,
     "input": [
      "%timeit advanced_range, 1000000000"
     ],
     "language": "python",
     "metadata": {},
     "outputs": [
      {
       "output_type": "stream",
       "stream": "stdout",
       "text": [
        "10000000 loops, best of 3: 58.6 ns per loop\n"
       ]
      }
     ],
     "prompt_number": 12
    },
    {
     "cell_type": "markdown",
     "metadata": {},
     "source": [
      "### \uc2dc\uac04\uc740 \ubcc4\ub85c \ucc28\uc774\uac00 \uc5c6\ub2e4. \ub2e4\ub9cc \uc608\uc058\uac8c \ubcf4\uc774\ub290\ub0d0?\uac00 \ucc28\uc774\ub098\uaca0\uc9c0.\n",
      "\n",
      "- \ub0b4\uac00 \uc54c\uae30\ub85c xrange\ub294 loop\ub97c \uc5c4\uccad\ub098\uac8c \ub9ce\uc774 \ub3cc\ub54c \uc2dc\uac04 \uc808\uc57d\ud560 \uc218 \uc788\ub2e4\uace0 \ud588\ub294\ub370 \uc774 \ud14c\uc2a4\ud2b8\uc5d0\uc11c\ub294 \ubcc4\ub85c \ucc28\uc774\uac00 \uc548\ub098\ub124?\n",
      "- \ub0b4\uac00 \uc2e4\ud5d8\uc744 \uc798\ubabb\ud55c\uac74\uac00? \uc774\uc5d0 \ub300\ud574\uc11c \uc54c\uace0 \uacc4\uc2e0\ubd84\uc740 \uc880 \uc54c\ub824\uc8fc\uc138\uc694."
     ]
    },
    {
     "cell_type": "markdown",
     "metadata": {},
     "source": [
      "## Looping over a collection\n",
      "\n",
      "### Index\ub97c \uc774\uc6a9\ud55c \ubc29\ubc95\uc740 C\ub97c \uc8fc\ub85c \uc0ac\uc6a9\ud558\uc2dc\ub294 \ubd84\ub4e4\uc774 \uc790\uc8fc \uc501\ub2c8\ub2e4.\n",
      "\n",
      "- C\uc5b8\uc5b4\ub294 \ubc30\uc5f4\uc758 index \uc870\uc815\ud574\uc11c \ud558\ub294\uac8c \uc775\uc219\ud558\ub2c8 Python\uc5d0\uc11c\ub3c4 \uc790\uc8fc \uc0ac\uc6a9\ud558\ub294 \uac83\uc744 \uc54c \uc218 \uc788\uc5b4\uc694.\n",
      "- \ub300\ucda9 \uc774\uac83\ub9cc \ubd10\ub3c4 'C\uc5b8\uc5b4 \uc37c\uad6c\ub098' \ub77c\ub294\uac78 \uc54c \uc218 \uc788\uc8e0."
     ]
    },
    {
     "cell_type": "code",
     "collapsed": false,
     "input": [
      "colors = ['red', 'green', 'blue', 'yellow']"
     ],
     "language": "python",
     "metadata": {},
     "outputs": [],
     "prompt_number": 13
    },
    {
     "cell_type": "code",
     "collapsed": false,
     "input": [
      "for i in range(len(colors)):\n",
      "    print colors[i]"
     ],
     "language": "python",
     "metadata": {},
     "outputs": [
      {
       "output_type": "stream",
       "stream": "stdout",
       "text": [
        "red\n",
        "green\n",
        "blue\n",
        "yellow\n"
       ]
      }
     ],
     "prompt_number": 13
    },
    {
     "cell_type": "code",
     "collapsed": false,
     "input": [
      "for color in colors:\n",
      "    print color"
     ],
     "language": "python",
     "metadata": {},
     "outputs": [
      {
       "output_type": "stream",
       "stream": "stdout",
       "text": [
        "red\n",
        "green\n",
        "blue\n",
        "yellow\n"
       ]
      }
     ],
     "prompt_number": 14
    },
    {
     "cell_type": "markdown",
     "metadata": {},
     "source": [
      "## Looping backwards\n",
      "## \ubc18\ub300\ub85c \ub8e8\ud504 \ub3cc \ub54c"
     ]
    },
    {
     "cell_type": "code",
     "collapsed": false,
     "input": [
      "for i in range(len(colors)-1, -1, -1):\n",
      "    print colors[i]"
     ],
     "language": "python",
     "metadata": {},
     "outputs": [
      {
       "output_type": "stream",
       "stream": "stdout",
       "text": [
        "yellow\n",
        "blue\n",
        "green\n",
        "red\n"
       ]
      }
     ],
     "prompt_number": 15
    },
    {
     "cell_type": "code",
     "collapsed": false,
     "input": [
      "for color in reversed(colors):\n",
      "    print color"
     ],
     "language": "python",
     "metadata": {},
     "outputs": [
      {
       "output_type": "stream",
       "stream": "stdout",
       "text": [
        "yellow\n",
        "blue\n",
        "green\n",
        "red\n"
       ]
      }
     ],
     "prompt_number": 16
    },
    {
     "cell_type": "markdown",
     "metadata": {},
     "source": [
      "## Looping over a collection and indicies\n",
      "\n",
      "- \uc800\ub3c4 \ub274\ube44\uc77c \ub54c\ub294 index \ubc29\ubc95\uc744 \uc0ac\uc6a9\ud588\ub294\ub370..\n",
      "- enumerate\uac00 \ud6e8\uc52c \ud3b8\ud558\ub354\uad70\uc694."
     ]
    },
    {
     "cell_type": "code",
     "collapsed": false,
     "input": [
      "for i in range(len(colors)):\n",
      "    print i, '-->', colors[i]"
     ],
     "language": "python",
     "metadata": {},
     "outputs": [
      {
       "output_type": "stream",
       "stream": "stdout",
       "text": [
        "0 --> red\n",
        "1 --> green\n",
        "2 --> blue\n",
        "3 --> yellow\n"
       ]
      }
     ],
     "prompt_number": 17
    },
    {
     "cell_type": "code",
     "collapsed": false,
     "input": [
      "for i, color in enumerate(colors):\n",
      "    print i, '-->', color"
     ],
     "language": "python",
     "metadata": {},
     "outputs": [
      {
       "output_type": "stream",
       "stream": "stdout",
       "text": [
        "0 --> red\n",
        "1 --> green\n",
        "2 --> blue\n",
        "3 --> yellow\n"
       ]
      }
     ],
     "prompt_number": 18
    },
    {
     "cell_type": "markdown",
     "metadata": {},
     "source": [
      "## Looping over two collections\n",
      "\n",
      "- [izip](https://docs.python.org/2/library/itertools.html#itertools.izip): itertools \ubaa8\ub4c8 import \ud574\uc57c \ub41c\ub2e4.."
     ]
    },
    {
     "cell_type": "code",
     "collapsed": false,
     "input": [
      "names = ['\uadfc\uc601', '\uc73c\ub9ac \ud30c\uc774\uc36c', '\ud30c\uc774\uc36c\uc744 \ud65c\uc6a9\ud55c \ub370\uc774\ud130\ubd84\uc11d \uc5c4\uccad \uc5b4\ub824\uc6cc!!']"
     ],
     "language": "python",
     "metadata": {},
     "outputs": [],
     "prompt_number": 14
    },
    {
     "cell_type": "code",
     "collapsed": false,
     "input": [
      "colors"
     ],
     "language": "python",
     "metadata": {},
     "outputs": [
      {
       "metadata": {},
       "output_type": "pyout",
       "prompt_number": 15,
       "text": [
        "['red', 'green', 'blue', 'yellow']"
       ]
      }
     ],
     "prompt_number": 15
    },
    {
     "cell_type": "code",
     "collapsed": false,
     "input": [
      "n = min(len(names), len(colors))"
     ],
     "language": "python",
     "metadata": {},
     "outputs": [],
     "prompt_number": 21
    },
    {
     "cell_type": "code",
     "collapsed": false,
     "input": [
      "# \ud55c\uae00\uc774\ub77c \uc778\ucf54\ub529 \ub54c\ubb38\uc5d0 \ucee4\uc9c0\ub124.\n",
      "len(names[0])"
     ],
     "language": "python",
     "metadata": {},
     "outputs": [
      {
       "metadata": {},
       "output_type": "pyout",
       "prompt_number": 22,
       "text": [
        "6"
       ]
      }
     ],
     "prompt_number": 22
    },
    {
     "cell_type": "code",
     "collapsed": false,
     "input": [
      "n"
     ],
     "language": "python",
     "metadata": {},
     "outputs": [
      {
       "metadata": {},
       "output_type": "pyout",
       "prompt_number": 23,
       "text": [
        "3"
       ]
      }
     ],
     "prompt_number": 23
    },
    {
     "cell_type": "code",
     "collapsed": false,
     "input": [
      "for i in range(n):\n",
      "    print names[i], '-->', colors[i]"
     ],
     "language": "python",
     "metadata": {},
     "outputs": [
      {
       "output_type": "stream",
       "stream": "stdout",
       "text": [
        "\uadfc\uc601 --> red\n",
        "\uc73c\ub9ac \ud30c\uc774\uc36c --> green\n",
        "\ud30c\uc774\uc36c\uc744 \ud65c\uc6a9\ud55c \ub370\uc774\ud130\ubd84\uc11d \uc5c4\uccad \uc5b4\ub824\uc6cc!! --> blue\n"
       ]
      }
     ],
     "prompt_number": 24
    },
    {
     "cell_type": "code",
     "collapsed": false,
     "input": [
      "zip(names, colors)"
     ],
     "language": "python",
     "metadata": {},
     "outputs": [
      {
       "metadata": {},
       "output_type": "pyout",
       "prompt_number": 19,
       "text": [
        "[('\\xea\\xb7\\xbc\\xec\\x98\\x81', 'red'),\n",
        " ('\\xec\\x9c\\xbc\\xeb\\xa6\\xac \\xed\\x8c\\x8c\\xec\\x9d\\xb4\\xec\\x8d\\xac', 'green'),\n",
        " ('\\xed\\x8c\\x8c\\xec\\x9d\\xb4\\xec\\x8d\\xac\\xec\\x9d\\x84 \\xed\\x99\\x9c\\xec\\x9a\\xa9\\xed\\x95\\x9c \\xeb\\x8d\\xb0\\xec\\x9d\\xb4\\xed\\x84\\xb0\\xeb\\xb6\\x84\\xec\\x84\\x9d \\xec\\x97\\x84\\xec\\xb2\\xad \\xec\\x96\\xb4\\xeb\\xa0\\xa4\\xec\\x9b\\x8c!!',\n",
        "  'blue')]"
       ]
      }
     ],
     "prompt_number": 19
    },
    {
     "cell_type": "code",
     "collapsed": false,
     "input": [
      "for name, color in zip(names, colors):\n",
      "    print name, '-->', color"
     ],
     "language": "python",
     "metadata": {},
     "outputs": [
      {
       "output_type": "stream",
       "stream": "stdout",
       "text": [
        "\uadfc\uc601 --> red\n",
        "\uc73c\ub9ac \ud30c\uc774\uc36c --> green\n",
        "\ud30c\uc774\uc36c\uc744 \ud65c\uc6a9\ud55c \ub370\uc774\ud130\ubd84\uc11d \uc5c4\uccad \uc5b4\ub824\uc6cc!! --> blue\n"
       ]
      }
     ],
     "prompt_number": 25
    },
    {
     "cell_type": "code",
     "collapsed": false,
     "input": [
      "izip(names, colors)"
     ],
     "language": "python",
     "metadata": {},
     "outputs": [
      {
       "metadata": {},
       "output_type": "pyout",
       "prompt_number": 22,
       "text": [
        "<itertools.izip at 0x1032a9ab8>"
       ]
      }
     ],
     "prompt_number": 22
    },
    {
     "cell_type": "code",
     "collapsed": false,
     "input": [
      "# iteration\uc73c\ub85c \ub9cc\ub4e4\uc5b4\uc918\uc11c \uba54\ubaa8\ub9ac \uc808\uc57d\n",
      "from itertools import izip\n",
      "for name, color in izip(names, colors):\n",
      "    print name, '-->', color"
     ],
     "language": "python",
     "metadata": {},
     "outputs": [
      {
       "output_type": "stream",
       "stream": "stdout",
       "text": [
        "\uadfc\uc601 --> red\n",
        "\uc73c\ub9ac \ud30c\uc774\uc36c --> green\n",
        "\ud30c\uc774\uc36c\uc744 \ud65c\uc6a9\ud55c \ub370\uc774\ud130\ubd84\uc11d \uc5c4\uccad \uc5b4\ub824\uc6cc!! --> blue\n"
       ]
      }
     ],
     "prompt_number": 21
    },
    {
     "cell_type": "markdown",
     "metadata": {},
     "source": [
      "## Looping in sorted order"
     ]
    },
    {
     "cell_type": "code",
     "collapsed": false,
     "input": [
      "colors"
     ],
     "language": "python",
     "metadata": {},
     "outputs": [
      {
       "metadata": {},
       "output_type": "pyout",
       "prompt_number": 27,
       "text": [
        "['red', 'green', 'blue', 'yellow']"
       ]
      }
     ],
     "prompt_number": 27
    },
    {
     "cell_type": "code",
     "collapsed": false,
     "input": [
      "for color in sorted(colors):\n",
      "    print color"
     ],
     "language": "python",
     "metadata": {},
     "outputs": [
      {
       "output_type": "stream",
       "stream": "stdout",
       "text": [
        "blue\n",
        "green\n",
        "red\n",
        "yellow\n"
       ]
      }
     ],
     "prompt_number": 28
    },
    {
     "cell_type": "code",
     "collapsed": false,
     "input": [
      "for color in sorted(colors, reverse=True):\n",
      "    print color"
     ],
     "language": "python",
     "metadata": {},
     "outputs": [
      {
       "output_type": "stream",
       "stream": "stdout",
       "text": [
        "yellow\n",
        "red\n",
        "green\n",
        "blue\n"
       ]
      }
     ],
     "prompt_number": 29
    },
    {
     "cell_type": "markdown",
     "metadata": {},
     "source": [
      "## Custom sort order\n",
      "\n",
      "- [Python Sorting](https://developers.google.com/edu/python/sorting): \uc5ec\uae30 \uc798 \uc815\ub9ac\ub418\uc5b4 \uc788\ub124\uc694. \ucc38\uace0\ud558\uc138\uc694.\n",
      "- [Using sorted() in Python [duplicate]](http://stackoverflow.com/questions/12791923/using-sorted-in-python): lambda \uc608\uc81c\n",
      "- key \uc778\uc790\uc5d0 \ubb58 \ub118\uae30\ub294\uc9c0 \ud655\uc778\ud574 \ubcf4\ub824\uace0 \ud588\ub354\ub2c8 \uc608\uc81c\uac00 \uc5c6\ub124.. \n",
      "- key=str.lower\n",
      "- key=len\n",
      "- key=lambda\ub3c4 \ub118\uae38 \uc218 \uc788\uc74c"
     ]
    },
    {
     "cell_type": "code",
     "collapsed": false,
     "input": [
      "colors"
     ],
     "language": "python",
     "metadata": {},
     "outputs": [
      {
       "metadata": {},
       "output_type": "pyout",
       "prompt_number": 30,
       "text": [
        "['red', 'green', 'blue', 'yellow']"
       ]
      }
     ],
     "prompt_number": 30
    },
    {
     "cell_type": "code",
     "collapsed": false,
     "input": [
      "def compare_length(c1, c2):\n",
      "    if len(c1) < len(c2):\n",
      "        return -1\n",
      "    if len(c1) > len(c2):\n",
      "        return 1\n",
      "    return 0"
     ],
     "language": "python",
     "metadata": {},
     "outputs": [],
     "prompt_number": 31
    },
    {
     "cell_type": "code",
     "collapsed": false,
     "input": [
      "print sorted(colors, cmp=compare_length)"
     ],
     "language": "python",
     "metadata": {},
     "outputs": [
      {
       "output_type": "stream",
       "stream": "stdout",
       "text": [
        "['red', 'blue', 'green', 'yellow']\n"
       ]
      }
     ],
     "prompt_number": 32
    },
    {
     "cell_type": "code",
     "collapsed": false,
     "input": [
      "print sorted(colors, key=len)"
     ],
     "language": "python",
     "metadata": {},
     "outputs": [
      {
       "output_type": "stream",
       "stream": "stdout",
       "text": [
        "['red', 'blue', 'green', 'yellow']\n"
       ]
      }
     ],
     "prompt_number": 33
    },
    {
     "cell_type": "code",
     "collapsed": false,
     "input": [
      "sorted?"
     ],
     "language": "python",
     "metadata": {},
     "outputs": [],
     "prompt_number": 34
    },
    {
     "cell_type": "markdown",
     "metadata": {},
     "source": [
      "    Type:        builtin_function_or_method\n",
      "    String form: <built-in function sorted>\n",
      "    Namespace:   Python builtin\n",
      "    Docstring:   sorted(iterable, cmp=None, key=None, reverse=False) --> new sorted list"
     ]
    },
    {
     "cell_type": "code",
     "collapsed": false,
     "input": [
      "student_tuples = [ ('john', 'A', 15), ('jane', 'B', 12), ('dave', 'B', 10), ]"
     ],
     "language": "python",
     "metadata": {},
     "outputs": [],
     "prompt_number": 35
    },
    {
     "cell_type": "code",
     "collapsed": false,
     "input": [
      "# \ub9ac\uc2a4\ud2b8 \uc0bd\uc785 \uc21c\uc11c\n",
      "print student_tuples"
     ],
     "language": "python",
     "metadata": {},
     "outputs": [
      {
       "output_type": "stream",
       "stream": "stdout",
       "text": [
        "[('john', 'A', 15), ('jane', 'B', 12), ('dave', 'B', 10)]\n"
       ]
      }
     ],
     "prompt_number": 36
    },
    {
     "cell_type": "code",
     "collapsed": false,
     "input": [
      "# student_tuples\uc758 2\ubc88\uc9f8\uc778 10, 12, 15 \uc21c\uc11c\n",
      "print sorted(student_tuples, key=lambda student: student[2])"
     ],
     "language": "python",
     "metadata": {},
     "outputs": [
      {
       "output_type": "stream",
       "stream": "stdout",
       "text": [
        "[('dave', 'B', 10), ('jane', 'B', 12), ('john', 'A', 15)]\n"
       ]
      }
     ],
     "prompt_number": 37
    },
    {
     "cell_type": "markdown",
     "metadata": {},
     "source": [
      "## Call a function until a sentinel value\n",
      "\n",
      "- [functions.partial](https://docs.python.org/2/library/functools.html): \uc774\ub7f0\uac8c \uc788\uc5c8\uad70. \ub098\ub3c4 \ubab0\ub790\ub124..\n"
     ]
    },
    {
     "cell_type": "code",
     "collapsed": false,
     "input": [
      "%%writefile test_txt.txt\n",
      "Python for data analysis is very difficult.\n",
      "I do not understand well."
     ],
     "language": "python",
     "metadata": {},
     "outputs": [
      {
       "output_type": "stream",
       "stream": "stdout",
       "text": [
        "Overwriting test_txt.txt\n"
       ]
      }
     ],
     "prompt_number": 38
    },
    {
     "cell_type": "code",
     "collapsed": false,
     "input": [
      "f = open('test_txt.txt')"
     ],
     "language": "python",
     "metadata": {},
     "outputs": [],
     "prompt_number": 39
    },
    {
     "cell_type": "code",
     "collapsed": false,
     "input": [
      "blocks = []\n",
      "while True:\n",
      "    # 32\uc790 \uae30\uc900\uc73c\ub85c \ud30c\uc77c\uc744 \uc77d\uc73c\uba70\n",
      "    block = f.read(32)\n",
      "    \n",
      "    # \ud30c\uc77c\uc758 \ub05d\uc5d0 \uc624\uba74 \ub8e8\ud504 \uc885\ub8cc\n",
      "    if block == '':\n",
      "        break\n",
      "        \n",
      "    # 32\uc790\ub294 blocks \ub9ac\uc2a4\ud2b8\uc5d0 \ucd94\uac00\ud55c\ub2e4.\n",
      "    blocks.append(block)"
     ],
     "language": "python",
     "metadata": {},
     "outputs": [],
     "prompt_number": 40
    },
    {
     "cell_type": "code",
     "collapsed": false,
     "input": [
      "blocks"
     ],
     "language": "python",
     "metadata": {},
     "outputs": [
      {
       "metadata": {},
       "output_type": "pyout",
       "prompt_number": 41,
       "text": [
        "['Python for data analysis is very',\n",
        " ' difficult.\\nI do not understand ',\n",
        " 'well.']"
       ]
      }
     ],
     "prompt_number": 41
    },
    {
     "cell_type": "code",
     "collapsed": false,
     "input": [
      "blocks = []"
     ],
     "language": "python",
     "metadata": {},
     "outputs": [],
     "prompt_number": 42
    },
    {
     "cell_type": "code",
     "collapsed": false,
     "input": [
      "f = open('test_txt.txt')"
     ],
     "language": "python",
     "metadata": {},
     "outputs": [],
     "prompt_number": 43
    },
    {
     "cell_type": "code",
     "collapsed": false,
     "input": [
      "from functools import partial\n",
      "# partial\ub85c f.read\ub85c 32\uc790\ub97c \uc77d\uace0 \ub05d\uc778\uac00? \ub05d\uc774 \uc544\ub2c8\uba74 \uacc4\uc18d loop\n",
      "# \uc544\ub2c8\uba74 block\uc73c\ub85c 32\uc790\ub97c \ub118\uae30\uace0 blocks\uc5d0 \ucd94\uac00\n",
      "# \uc74c? for\ubb38\uc744 while\ucc98\ub7fc \uc0ac\uc6a9\ud560 \uc218 \uc788\ub2e4\ub2c8!\n",
      "for block in iter(partial(f.read, 32), ''):\n",
      "    blocks.append(block)"
     ],
     "language": "python",
     "metadata": {},
     "outputs": [],
     "prompt_number": 44
    },
    {
     "cell_type": "code",
     "collapsed": false,
     "input": [
      "blocks"
     ],
     "language": "python",
     "metadata": {},
     "outputs": [
      {
       "metadata": {},
       "output_type": "pyout",
       "prompt_number": 45,
       "text": [
        "['Python for data analysis is very',\n",
        " ' difficult.\\nI do not understand ',\n",
        " 'well.']"
       ]
      }
     ],
     "prompt_number": 45
    },
    {
     "cell_type": "code",
     "collapsed": false,
     "input": [
      "partial?"
     ],
     "language": "python",
     "metadata": {},
     "outputs": [],
     "prompt_number": 46
    },
    {
     "cell_type": "markdown",
     "metadata": {},
     "source": [
      "    Type:        type\n",
      "    String form: <type 'functools.partial'>\n",
      "    File:        /Library/Frameworks/Python.framework/Versions/2.7/lib/python2.7/functools.py\n",
      "    Docstring:\n",
      "    partial(func, *args, **keywords) - new function with partial application\n",
      "    of the given arguments and keywords."
     ]
    },
    {
     "cell_type": "markdown",
     "metadata": {},
     "source": [
      "## Distinguishing multiple exit points in loops\n",
      "\n",
      "- \ud504\ub9ac\uc820\ud14c\uc774\uc158 \uc790\ub8cc\uc5d0\ub294 if value == tgt \ub77c\uace0 \uc368\uc838\uc788\ub294\ub370.. if value == target \uc778\ub4ef \uc2f6\ub2e4."
     ]
    },
    {
     "cell_type": "code",
     "collapsed": false,
     "input": [
      "def foolish_find(seq, target):\n",
      "    found = False\n",
      "    for i, value in enumerate(seq):\n",
      "        if value == target:\n",
      "            found = True\n",
      "            break\n",
      "    if not found:\n",
      "        return -1\n",
      "    return i"
     ],
     "language": "python",
     "metadata": {},
     "outputs": [],
     "prompt_number": 47
    },
    {
     "cell_type": "code",
     "collapsed": false,
     "input": [
      "def advanced_find(seq, target):\n",
      "    for i, value in enumerate(seq):\n",
      "        if value == target:\n",
      "            break\n",
      "    else:\n",
      "        return -1\n",
      "    return i"
     ],
     "language": "python",
     "metadata": {},
     "outputs": [],
     "prompt_number": 48
    },
    {
     "cell_type": "code",
     "collapsed": false,
     "input": [
      "seq = 'I love Python. Python is very easy'.split()"
     ],
     "language": "python",
     "metadata": {},
     "outputs": [],
     "prompt_number": 49
    },
    {
     "cell_type": "code",
     "collapsed": false,
     "input": [
      "seq"
     ],
     "language": "python",
     "metadata": {},
     "outputs": [
      {
       "metadata": {},
       "output_type": "pyout",
       "prompt_number": 50,
       "text": [
        "['I', 'love', 'Python.', 'Python', 'is', 'very', 'easy']"
       ]
      }
     ],
     "prompt_number": 50
    },
    {
     "cell_type": "code",
     "collapsed": false,
     "input": [
      "foolish_find(seq, 'easy')"
     ],
     "language": "python",
     "metadata": {},
     "outputs": [
      {
       "metadata": {},
       "output_type": "pyout",
       "prompt_number": 51,
       "text": [
        "6"
       ]
      }
     ],
     "prompt_number": 51
    },
    {
     "cell_type": "code",
     "collapsed": false,
     "input": [
      "advanced_find(seq, 'easy')"
     ],
     "language": "python",
     "metadata": {},
     "outputs": [
      {
       "metadata": {},
       "output_type": "pyout",
       "prompt_number": 52,
       "text": [
        "6"
       ]
      }
     ],
     "prompt_number": 52
    },
    {
     "cell_type": "markdown",
     "metadata": {},
     "source": [
      "### for-else\ubb38 \uc54c\uc544\ubcf4\uae30\n",
      "\n",
      "- [\ubc30\uc6cc\ubcf4\uc790 \ud30c\uc774\uc36c(Python) 3 - (11) loop\uc5d0\uc11c\uc758 break\uc640 continue \uadf8\ub9ac\uace0 else\uc808](http://devsw.tistory.com/22)\n",
      "- [Python \ud30c\uc774\uc36c \uae30\ubcf8\ub0b4\uc6a9 \uc815\ub9ac(4) - \uc81c\uc5b4\ubb38](http://felixblog.tistory.com/56): \uc5ec\uae30\uc5d0\uc11c \ud78c\ud2b8 \uc5bb\uc74c"
     ]
    },
    {
     "cell_type": "code",
     "collapsed": false,
     "input": [
      "# x\uac00 3\uc77c\ub54c break \ubb38\uc73c\ub85c \ube60\uc838 \ub098\uc624\uae30 \ub54c\ubb38\uc5d0 \ub05d!\n",
      "for x in range(0, 5):\n",
      "    print x\n",
      "    if x == 3:\n",
      "        break\n",
      "else:\n",
      "    print 'else'"
     ],
     "language": "python",
     "metadata": {},
     "outputs": [
      {
       "output_type": "stream",
       "stream": "stdout",
       "text": [
        "0\n",
        "1\n",
        "2\n",
        "3\n"
       ]
      }
     ],
     "prompt_number": 53
    },
    {
     "cell_type": "code",
     "collapsed": false,
     "input": [
      "# x\uac00 6\uc774 \ub420\ub9ac\uac00 \uc5c6\uc73c\ubbc0\ub85c break\ub85c for\ubb38\uc744 \ube60\uc838\ub098\uc62c \uc218 \uc5c6\ub2e4.\n",
      "# for\ubb38\uc774 \ub05d\ub098\uace0 else\ubb38\uc774 \uc2e4\ud589\uc774 \ub41c\ub2e4.\n",
      "for x in range(0, 5):\n",
      "    print x\n",
      "    if x == 6:\n",
      "        break\n",
      "else:\n",
      "    print 'else'"
     ],
     "language": "python",
     "metadata": {},
     "outputs": [
      {
       "output_type": "stream",
       "stream": "stdout",
       "text": [
        "0\n",
        "1\n",
        "2\n",
        "3\n",
        "4\n",
        "else\n"
       ]
      }
     ],
     "prompt_number": 54
    },
    {
     "cell_type": "code",
     "collapsed": false,
     "input": [
      "# \uc774\uac70\ub791 \ubb54 \ucc28\uc774\ub0d0??\n",
      "# else \uc5c6\uc774 \uc368\ub3c4 \ub418\ub294\ub370?!\n",
      "# \uc870\uae08 \ub354 \uc0dd\uac01\ud574\ubcf4\ub2c8 \n",
      "for x in range(0, 5):\n",
      "    print x\n",
      "    if x == 6:\n",
      "        break\n",
      "print 'else'"
     ],
     "language": "python",
     "metadata": {},
     "outputs": [
      {
       "output_type": "stream",
       "stream": "stdout",
       "text": [
        "0\n",
        "1\n",
        "2\n",
        "3\n",
        "4\n",
        "else\n"
       ]
      }
     ],
     "prompt_number": 55
    },
    {
     "cell_type": "code",
     "collapsed": false,
     "input": [
      "for x in range(0, 5):\n",
      "    print x\n",
      "    if x == 3:\n",
      "        break\n",
      "print 'else\ubb38 \uc548 \uc37c\uc744 \uacbd\uc6b0\ub294 break \ub418\ub4e0\uc9c0 \ub9d0\ub4e0\uc9c0 \uc0c1\uad00\uc5c6\uc774 \ubb34\uc870\uac74 \uc2e4\ud589'"
     ],
     "language": "python",
     "metadata": {},
     "outputs": [
      {
       "output_type": "stream",
       "stream": "stdout",
       "text": [
        "0\n",
        "1\n",
        "2\n",
        "3\n",
        "else\ubb38 \uc548 \uc37c\uc744 \uacbd\uc6b0\ub294 break \ub418\ub4e0\uc9c0 \ub9d0\ub4e0\uc9c0 \uc0c1\uad00\uc5c6\uc774 \ubb34\uc870\uac74 \uc2e4\ud589\n"
       ]
      }
     ],
     "prompt_number": 56
    },
    {
     "cell_type": "code",
     "collapsed": false,
     "input": [
      "for x in range(0, 5):\n",
      "    print x\n",
      "    if x == 3:\n",
      "        break\n",
      "else:\n",
      "    print 'else\ubb38\uc744 \uc37c\uc744 \uacbd\uc6b0\ub294 break \ub418\uba74 \uc2e4\ud589 \uc548\ub428'"
     ],
     "language": "python",
     "metadata": {},
     "outputs": [
      {
       "output_type": "stream",
       "stream": "stdout",
       "text": [
        "0\n",
        "1\n",
        "2\n",
        "3\n"
       ]
      }
     ],
     "prompt_number": 57
    },
    {
     "cell_type": "markdown",
     "metadata": {},
     "source": [
      "## Dictionary Skills\n",
      "\n",
      "- \uc0ac\uc804\ud615\uc744 \ub9c8\uc2a4\ud130\ud55c \uac83\uc740 \uae30\ubcf8\uc801\uc778 \ud30c\uc774\uc36c \uae30\uc220\n",
      "- \uc0ac\uc804\ud615\uc740 \uad00\uacc4\ub97c \ud45c\ud604\ud560 \ub54c, \ub9c1\ud06c\ud560 \ub54c, \uc140 \ub54c, \uadf8\ub8f9\ud560 \ub54c \uae30\ubcf8\uc774\ub2e4."
     ]
    },
    {
     "cell_type": "markdown",
     "metadata": {},
     "source": [
      "## Looping over dictionary keys\n",
      "\n",
      "- \uc775\uc219\ud574\uc9c0\uae30 \uc804\uae4c\uc9c0\ub294 \uc5b4\ub835\ub2e4.."
     ]
    },
    {
     "cell_type": "code",
     "collapsed": false,
     "input": [
      "d = {'niceguy': 'blue', 'python': 'green', 'geunyoung': 'red'}"
     ],
     "language": "python",
     "metadata": {},
     "outputs": [],
     "prompt_number": 58
    },
    {
     "cell_type": "code",
     "collapsed": false,
     "input": [
      "for k in d:\n",
      "    print k"
     ],
     "language": "python",
     "metadata": {},
     "outputs": [
      {
       "output_type": "stream",
       "stream": "stdout",
       "text": [
        "python\n",
        "geunyoung\n",
        "niceguy\n"
       ]
      }
     ],
     "prompt_number": 59
    },
    {
     "cell_type": "code",
     "collapsed": false,
     "input": [
      "for k in d.keys():\n",
      "    if k.startswith('n'):\n",
      "        del d[k]"
     ],
     "language": "python",
     "metadata": {},
     "outputs": [],
     "prompt_number": 60
    },
    {
     "cell_type": "code",
     "collapsed": false,
     "input": [
      "d"
     ],
     "language": "python",
     "metadata": {},
     "outputs": [
      {
       "metadata": {},
       "output_type": "pyout",
       "prompt_number": 61,
       "text": [
        "{'geunyoung': 'red', 'python': 'green'}"
       ]
      }
     ],
     "prompt_number": 61
    },
    {
     "cell_type": "code",
     "collapsed": false,
     "input": [
      "d = {'niceguy': 'blue', 'python': 'green', 'geunyoung': 'red'}"
     ],
     "language": "python",
     "metadata": {},
     "outputs": [],
     "prompt_number": 62
    },
    {
     "cell_type": "code",
     "collapsed": false,
     "input": [
      "# \ucc98\uc74c\uc5d0\ub294 \uc774\uac8c \ud6e8\uc52c \ub354 \uc5b4\ub824\uc6cc \ubcf4\uc778\ub2e4.\n",
      "# \uadf8\ub0e5 \uc800 \uc704\uc5d0 \uac83\uc744 \uc774\ub807\uac8c \ucd95\uc57d(?)\ud55c \uac83\uc774\ub77c\uace0 \uc0dd\uac01\ud558\uba74 \ub41c\ub2e4.\n",
      "# \uadfc\ub370 \ub098\ub3c4 \ucf54\ub4dc \uc9e4\ub54c\ub294 \uc704\uc758 \ubc29\ubc95\uc744 \uc0ac\uc6a9\ud574\uc11c \uc9dc\ub294\ub370..\n",
      "\n",
      "# for k in d\uc5d0\uc11c k\ub97c \uba3c\uc800 \ucd94\ucd9c\n",
      "# if not k.startswith('n')\n",
      "# k : d[k] \uc774\uac83\uc744 d\uc5d0 \ud560\ub2f9\n",
      "d = {k : d[k] for k in d if not k.startswith('n')}"
     ],
     "language": "python",
     "metadata": {},
     "outputs": [],
     "prompt_number": 63
    },
    {
     "cell_type": "code",
     "collapsed": false,
     "input": [
      "d"
     ],
     "language": "python",
     "metadata": {},
     "outputs": [
      {
       "metadata": {},
       "output_type": "pyout",
       "prompt_number": 64,
       "text": [
        "{'geunyoung': 'red', 'python': 'green'}"
       ]
      }
     ],
     "prompt_number": 64
    },
    {
     "cell_type": "code",
     "collapsed": false,
     "input": [
      "# key: value\n",
      "# geunyoung\uc774 key\uc774\uace0 d['geunyoung']\uc774 value(red)\n",
      "d2 = {'geunyoung': d['geunyoung']}"
     ],
     "language": "python",
     "metadata": {},
     "outputs": [],
     "prompt_number": 65
    },
    {
     "cell_type": "code",
     "collapsed": false,
     "input": [
      "d2"
     ],
     "language": "python",
     "metadata": {},
     "outputs": [
      {
       "metadata": {},
       "output_type": "pyout",
       "prompt_number": 66,
       "text": [
        "{'geunyoung': 'red'}"
       ]
      }
     ],
     "prompt_number": 66
    },
    {
     "cell_type": "markdown",
     "metadata": {},
     "source": [
      "## Looping over a dictionary keys and values"
     ]
    },
    {
     "cell_type": "code",
     "collapsed": false,
     "input": [
      "# \uc774\uac83\ub3c4 C \uc4f0\ub358 \uc0ac\ub78c\ub4e4\uc774 \ub9ce\uc774 \uc0ac\uc6a9\ud558\ub294 \ubc29\ubc95\n",
      "# \ubb3c\uc5b4\ubcf4\uba74 \ubc11\uc758 \ubc29\ubc95\ubcf4\ub2e4 \uc774\uac8c \ud6e8\uc52c \ud3b8\ud558\ub2e4\uace0 \ud55c\ub2e4.\n",
      "for k in d:\n",
      "    print k, '-->', d[k]"
     ],
     "language": "python",
     "metadata": {},
     "outputs": [
      {
       "output_type": "stream",
       "stream": "stdout",
       "text": [
        "python --> green\n",
        "geunyoung --> red\n"
       ]
      }
     ],
     "prompt_number": 67
    },
    {
     "cell_type": "code",
     "collapsed": false,
     "input": [
      "for k, v in d.items():\n",
      "    print k, '-->', v"
     ],
     "language": "python",
     "metadata": {},
     "outputs": [
      {
       "output_type": "stream",
       "stream": "stdout",
       "text": [
        "python --> green\n",
        "geunyoung --> red\n"
       ]
      }
     ],
     "prompt_number": 68
    },
    {
     "cell_type": "code",
     "collapsed": false,
     "input": [
      "for k, v in d.iteritems():\n",
      "    print k, '-->', v"
     ],
     "language": "python",
     "metadata": {},
     "outputs": [
      {
       "output_type": "stream",
       "stream": "stdout",
       "text": [
        "python --> green\n",
        "geunyoung --> red\n"
       ]
      }
     ],
     "prompt_number": 69
    },
    {
     "cell_type": "markdown",
     "metadata": {},
     "source": [
      "## Construct a dictionary from pairs"
     ]
    },
    {
     "cell_type": "code",
     "collapsed": false,
     "input": [
      "names"
     ],
     "language": "python",
     "metadata": {},
     "outputs": [
      {
       "metadata": {},
       "output_type": "pyout",
       "prompt_number": 70,
       "text": [
        "['\\xea\\xb7\\xbc\\xec\\x98\\x81',\n",
        " '\\xec\\x9c\\xbc\\xeb\\xa6\\xac \\xed\\x8c\\x8c\\xec\\x9d\\xb4\\xec\\x8d\\xac',\n",
        " '\\xed\\x8c\\x8c\\xec\\x9d\\xb4\\xec\\x8d\\xac\\xec\\x9d\\x84 \\xed\\x99\\x9c\\xec\\x9a\\xa9\\xed\\x95\\x9c \\xeb\\x8d\\xb0\\xec\\x9d\\xb4\\xed\\x84\\xb0\\xeb\\xb6\\x84\\xec\\x84\\x9d \\xec\\x97\\x84\\xec\\xb2\\xad \\xec\\x96\\xb4\\xeb\\xa0\\xa4\\xec\\x9b\\x8c!!']"
       ]
      }
     ],
     "prompt_number": 70
    },
    {
     "cell_type": "code",
     "collapsed": false,
     "input": [
      "colors = ['red', 'green', 'blue']"
     ],
     "language": "python",
     "metadata": {},
     "outputs": [],
     "prompt_number": 71
    },
    {
     "cell_type": "code",
     "collapsed": false,
     "input": [
      "d = dict(izip(names, colors))"
     ],
     "language": "python",
     "metadata": {},
     "outputs": [],
     "prompt_number": 72
    },
    {
     "cell_type": "code",
     "collapsed": false,
     "input": [
      "for k, v in d.items():\n",
      "    print k, v"
     ],
     "language": "python",
     "metadata": {},
     "outputs": [
      {
       "output_type": "stream",
       "stream": "stdout",
       "text": [
        "\uc73c\ub9ac \ud30c\uc774\uc36c green\n",
        "\uadfc\uc601 red\n",
        "\ud30c\uc774\uc36c\uc744 \ud65c\uc6a9\ud55c \ub370\uc774\ud130\ubd84\uc11d \uc5c4\uccad \uc5b4\ub824\uc6cc!! blue\n"
       ]
      }
     ],
     "prompt_number": 73
    },
    {
     "cell_type": "code",
     "collapsed": false,
     "input": [
      "enumerate(names)"
     ],
     "language": "python",
     "metadata": {},
     "outputs": [
      {
       "metadata": {},
       "output_type": "pyout",
       "prompt_number": 25,
       "text": [
        "<enumerate at 0x1032949b0>"
       ]
      }
     ],
     "prompt_number": 25
    },
    {
     "cell_type": "code",
     "collapsed": false,
     "input": [
      "# iterator \ud615\uc2dd\uc744 list\ub85c \ucd94\ucd9c\ud574 \ubcf4\uae30\n",
      "list(enumerate(names))"
     ],
     "language": "python",
     "metadata": {},
     "outputs": [
      {
       "metadata": {},
       "output_type": "pyout",
       "prompt_number": 24,
       "text": [
        "[(0, '\\xea\\xb7\\xbc\\xec\\x98\\x81'),\n",
        " (1, '\\xec\\x9c\\xbc\\xeb\\xa6\\xac \\xed\\x8c\\x8c\\xec\\x9d\\xb4\\xec\\x8d\\xac'),\n",
        " (2,\n",
        "  '\\xed\\x8c\\x8c\\xec\\x9d\\xb4\\xec\\x8d\\xac\\xec\\x9d\\x84 \\xed\\x99\\x9c\\xec\\x9a\\xa9\\xed\\x95\\x9c \\xeb\\x8d\\xb0\\xec\\x9d\\xb4\\xed\\x84\\xb0\\xeb\\xb6\\x84\\xec\\x84\\x9d \\xec\\x97\\x84\\xec\\xb2\\xad \\xec\\x96\\xb4\\xeb\\xa0\\xa4\\xec\\x9b\\x8c!!')]"
       ]
      }
     ],
     "prompt_number": 24
    },
    {
     "cell_type": "code",
     "collapsed": false,
     "input": [
      "d = dict(enumerate(names))"
     ],
     "language": "python",
     "metadata": {},
     "outputs": [],
     "prompt_number": 74
    },
    {
     "cell_type": "code",
     "collapsed": false,
     "input": [
      "for k, v in d.items():\n",
      "    print k, v"
     ],
     "language": "python",
     "metadata": {},
     "outputs": [
      {
       "output_type": "stream",
       "stream": "stdout",
       "text": [
        "0 \uadfc\uc601\n",
        "1 \uc73c\ub9ac \ud30c\uc774\uc36c\n",
        "2 \ud30c\uc774\uc36c\uc744 \ud65c\uc6a9\ud55c \ub370\uc774\ud130\ubd84\uc11d \uc5c4\uccad \uc5b4\ub824\uc6cc!!\n"
       ]
      }
     ],
     "prompt_number": 75
    },
    {
     "cell_type": "markdown",
     "metadata": {},
     "source": [
      "## Counting with dictionaries\n",
      "\n",
      "- [defaultdict](http://coreapython.hosting.paran.com/etc/Code%20Like%20a%20Pythonista%20Idiomatic%20Python.htm)"
     ]
    },
    {
     "cell_type": "code",
     "collapsed": false,
     "input": [
      "colors = ['red', 'green', 'red', 'blue', 'green', 'red']"
     ],
     "language": "python",
     "metadata": {},
     "outputs": [],
     "prompt_number": 76
    },
    {
     "cell_type": "code",
     "collapsed": false,
     "input": [
      "d = {}"
     ],
     "language": "python",
     "metadata": {},
     "outputs": [],
     "prompt_number": 77
    },
    {
     "cell_type": "code",
     "collapsed": false,
     "input": [
      "for color in colors:\n",
      "    if color not in d:\n",
      "        d[color] = 0\n",
      "    d[color] += 1"
     ],
     "language": "python",
     "metadata": {},
     "outputs": [],
     "prompt_number": 78
    },
    {
     "cell_type": "code",
     "collapsed": false,
     "input": [
      "d"
     ],
     "language": "python",
     "metadata": {},
     "outputs": [
      {
       "metadata": {},
       "output_type": "pyout",
       "prompt_number": 79,
       "text": [
        "{'blue': 1, 'green': 2, 'red': 3}"
       ]
      }
     ],
     "prompt_number": 79
    },
    {
     "cell_type": "code",
     "collapsed": false,
     "input": [
      "d = {}"
     ],
     "language": "python",
     "metadata": {},
     "outputs": [],
     "prompt_number": 80
    },
    {
     "cell_type": "code",
     "collapsed": false,
     "input": [
      "for color in colors:\n",
      "    d[color] = d.get(color, 0) + 1"
     ],
     "language": "python",
     "metadata": {},
     "outputs": [],
     "prompt_number": 81
    },
    {
     "cell_type": "code",
     "collapsed": false,
     "input": [
      "d"
     ],
     "language": "python",
     "metadata": {},
     "outputs": [
      {
       "metadata": {},
       "output_type": "pyout",
       "prompt_number": 82,
       "text": [
        "{'blue': 1, 'green': 2, 'red': 3}"
       ]
      }
     ],
     "prompt_number": 82
    },
    {
     "cell_type": "code",
     "collapsed": false,
     "input": [
      "# \uae30\ubcf8\uac12\uc774 0\uc778 \uc0ac\uc804\uc744 \uc5bb\ub294 \ubc29\ubc95\n",
      "from collections import defaultdict\n",
      "d = defaultdict(int)"
     ],
     "language": "python",
     "metadata": {},
     "outputs": [],
     "prompt_number": 83
    },
    {
     "cell_type": "code",
     "collapsed": false,
     "input": [
      "d"
     ],
     "language": "python",
     "metadata": {},
     "outputs": [
      {
       "metadata": {},
       "output_type": "pyout",
       "prompt_number": 84,
       "text": [
        "defaultdict(<type 'int'>, {})"
       ]
      }
     ],
     "prompt_number": 84
    },
    {
     "cell_type": "code",
     "collapsed": false,
     "input": [
      "for color in colors:\n",
      "    d[color] += 1"
     ],
     "language": "python",
     "metadata": {},
     "outputs": [],
     "prompt_number": 85
    },
    {
     "cell_type": "code",
     "collapsed": false,
     "input": [
      "d"
     ],
     "language": "python",
     "metadata": {},
     "outputs": [
      {
       "metadata": {},
       "output_type": "pyout",
       "prompt_number": 86,
       "text": [
        "defaultdict(<type 'int'>, {'blue': 1, 'green': 2, 'red': 3})"
       ]
      }
     ],
     "prompt_number": 86
    },
    {
     "cell_type": "code",
     "collapsed": false,
     "input": [
      "for k, v in d.items():\n",
      "    print k, v"
     ],
     "language": "python",
     "metadata": {},
     "outputs": [
      {
       "output_type": "stream",
       "stream": "stdout",
       "text": [
        "blue 1\n",
        "green 2\n",
        "red 3\n"
       ]
      }
     ],
     "prompt_number": 87
    },
    {
     "cell_type": "code",
     "collapsed": false,
     "input": [
      "type(d)"
     ],
     "language": "python",
     "metadata": {},
     "outputs": [
      {
       "metadata": {},
       "output_type": "pyout",
       "prompt_number": 88,
       "text": [
        "collections.defaultdict"
       ]
      }
     ],
     "prompt_number": 88
    },
    {
     "cell_type": "markdown",
     "metadata": {},
     "source": [
      "## Grouping with dictionaries -- Part I\n",
      "\n",
      "- \ub2e4\ub978\uac78 \uc548 \uc4f0\uace0 Logic\ub9cc \ub530\uc9c0\uc790\uba74 \uc774\uac8c \uc815\ud655\ud55c\ub370..\n",
      "- \ud30c\uc774\uc36c\uc5d0\uc11c\ub294 \uc880 \ub354 \ud3b8\ud558\uac8c \ud560 \uc218 \uc788\uac8c \uc9c0\uc6d0\ud574 \uc8fc\ub294\uad70."
     ]
    },
    {
     "cell_type": "code",
     "collapsed": false,
     "input": [
      "names = ['raymond', 'rachel', 'matthew', 'roger',\n",
      "         'betty', 'melissa', 'judith', 'charlie']"
     ],
     "language": "python",
     "metadata": {},
     "outputs": [],
     "prompt_number": 89
    },
    {
     "cell_type": "code",
     "collapsed": false,
     "input": [
      "d = {}"
     ],
     "language": "python",
     "metadata": {},
     "outputs": [],
     "prompt_number": 90
    },
    {
     "cell_type": "code",
     "collapsed": false,
     "input": [
      "for name in names:\n",
      "    key = len(name)\n",
      "    if key not in d:\n",
      "        d[key] = []\n",
      "    d[key].append(name)"
     ],
     "language": "python",
     "metadata": {},
     "outputs": [],
     "prompt_number": 91
    },
    {
     "cell_type": "code",
     "collapsed": false,
     "input": [
      "d"
     ],
     "language": "python",
     "metadata": {},
     "outputs": [
      {
       "metadata": {},
       "output_type": "pyout",
       "prompt_number": 92,
       "text": [
        "{5: ['roger', 'betty'],\n",
        " 6: ['rachel', 'judith'],\n",
        " 7: ['raymond', 'matthew', 'melissa', 'charlie']}"
       ]
      }
     ],
     "prompt_number": 92
    },
    {
     "cell_type": "markdown",
     "metadata": {},
     "source": [
      "## Grouping with dictionaries -- Part II"
     ]
    },
    {
     "cell_type": "code",
     "collapsed": false,
     "input": [
      "d = {}"
     ],
     "language": "python",
     "metadata": {},
     "outputs": [],
     "prompt_number": 93
    },
    {
     "cell_type": "code",
     "collapsed": false,
     "input": [
      "for name in names:\n",
      "    key = len(name)\n",
      "    d.setdefault(key, []).append(name)"
     ],
     "language": "python",
     "metadata": {},
     "outputs": [],
     "prompt_number": 94
    },
    {
     "cell_type": "code",
     "collapsed": false,
     "input": [
      "d"
     ],
     "language": "python",
     "metadata": {},
     "outputs": [
      {
       "metadata": {},
       "output_type": "pyout",
       "prompt_number": 95,
       "text": [
        "{5: ['roger', 'betty'],\n",
        " 6: ['rachel', 'judith'],\n",
        " 7: ['raymond', 'matthew', 'melissa', 'charlie']}"
       ]
      }
     ],
     "prompt_number": 95
    },
    {
     "cell_type": "code",
     "collapsed": false,
     "input": [
      "d = defaultdict(list)"
     ],
     "language": "python",
     "metadata": {},
     "outputs": [],
     "prompt_number": 96
    },
    {
     "cell_type": "code",
     "collapsed": false,
     "input": [
      "for name in names:\n",
      "    key = len(name)\n",
      "    d[key].append(name)"
     ],
     "language": "python",
     "metadata": {},
     "outputs": [],
     "prompt_number": 97
    },
    {
     "cell_type": "code",
     "collapsed": false,
     "input": [
      "d"
     ],
     "language": "python",
     "metadata": {},
     "outputs": [
      {
       "metadata": {},
       "output_type": "pyout",
       "prompt_number": 98,
       "text": [
        "defaultdict(<type 'list'>, {5: ['roger', 'betty'], 6: ['rachel', 'judith'], 7: ['raymond', 'matthew', 'melissa', 'charlie']})"
       ]
      }
     ],
     "prompt_number": 98
    },
    {
     "cell_type": "code",
     "collapsed": false,
     "input": [
      "type(d)"
     ],
     "language": "python",
     "metadata": {},
     "outputs": [
      {
       "metadata": {},
       "output_type": "pyout",
       "prompt_number": 99,
       "text": [
        "collections.defaultdict"
       ]
      }
     ],
     "prompt_number": 99
    },
    {
     "cell_type": "code",
     "collapsed": false,
     "input": [
      "type(d[0])"
     ],
     "language": "python",
     "metadata": {},
     "outputs": [
      {
       "metadata": {},
       "output_type": "pyout",
       "prompt_number": 100,
       "text": [
        "list"
       ]
      }
     ],
     "prompt_number": 100
    },
    {
     "cell_type": "markdown",
     "metadata": {},
     "source": [
      "## Is a dictionary popitem() atomic?"
     ]
    },
    {
     "cell_type": "code",
     "collapsed": false,
     "input": [
      "d = {'matthew': 'blue', 'rachel': 'green', 'raymond': 'red'}"
     ],
     "language": "python",
     "metadata": {},
     "outputs": [],
     "prompt_number": 101
    },
    {
     "cell_type": "code",
     "collapsed": false,
     "input": [
      "while d:\n",
      "    key, value = d.popitem()\n",
      "    print key, '-->', value"
     ],
     "language": "python",
     "metadata": {},
     "outputs": [
      {
       "output_type": "stream",
       "stream": "stdout",
       "text": [
        "matthew --> blue\n",
        "rachel --> green\n",
        "raymond --> red\n"
       ]
      }
     ],
     "prompt_number": 102
    },
    {
     "cell_type": "code",
     "collapsed": false,
     "input": [
      "d"
     ],
     "language": "python",
     "metadata": {},
     "outputs": [
      {
       "metadata": {},
       "output_type": "pyout",
       "prompt_number": 103,
       "text": [
        "{}"
       ]
      }
     ],
     "prompt_number": 103
    },
    {
     "cell_type": "markdown",
     "metadata": {},
     "source": [
      "## Linking dictionaries\n",
      "\n",
      "- [ChainMap](https://docs.python.org/3.5/library/collections.html#collections.ChainMap): Python 3.3 \ubd80\ud130 \uc9c0\uc6d0. \ub09c 2.7\uc774\ub77c Pass~"
     ]
    },
    {
     "cell_type": "code",
     "collapsed": false,
     "input": [
      "defaults = {'color': 'red', 'user': 'guest'}"
     ],
     "language": "python",
     "metadata": {},
     "outputs": [],
     "prompt_number": 104
    },
    {
     "cell_type": "code",
     "collapsed": false,
     "input": [
      "import argparse"
     ],
     "language": "python",
     "metadata": {},
     "outputs": [],
     "prompt_number": 105
    },
    {
     "cell_type": "code",
     "collapsed": false,
     "input": [
      "parser = argparse.ArgumentParser()"
     ],
     "language": "python",
     "metadata": {},
     "outputs": [],
     "prompt_number": 106
    },
    {
     "cell_type": "code",
     "collapsed": false,
     "input": [
      "parser.add_argument('-u', '--user')"
     ],
     "language": "python",
     "metadata": {},
     "outputs": [
      {
       "metadata": {},
       "output_type": "pyout",
       "prompt_number": 107,
       "text": [
        "_StoreAction(option_strings=['-u', '--user'], dest='user', nargs=None, const=None, default=None, type=None, choices=None, help=None, metavar=None)"
       ]
      }
     ],
     "prompt_number": 107
    },
    {
     "cell_type": "code",
     "collapsed": false,
     "input": [
      "parser.add_argument('-c', '--color')"
     ],
     "language": "python",
     "metadata": {},
     "outputs": [
      {
       "metadata": {},
       "output_type": "pyout",
       "prompt_number": 108,
       "text": [
        "_StoreAction(option_strings=['-c', '--color'], dest='color', nargs=None, const=None, default=None, type=None, choices=None, help=None, metavar=None)"
       ]
      }
     ],
     "prompt_number": 108
    },
    {
     "cell_type": "code",
     "collapsed": false,
     "input": [
      "namespace = parser.parse_args([])"
     ],
     "language": "python",
     "metadata": {},
     "outputs": [],
     "prompt_number": 109
    },
    {
     "cell_type": "code",
     "collapsed": false,
     "input": [
      "command_line_args = {k:v for k, v in vars(namespace).items() if v}"
     ],
     "language": "python",
     "metadata": {},
     "outputs": [],
     "prompt_number": 110
    },
    {
     "cell_type": "code",
     "collapsed": false,
     "input": [
      "command_line_args"
     ],
     "language": "python",
     "metadata": {},
     "outputs": [
      {
       "metadata": {},
       "output_type": "pyout",
       "prompt_number": 204,
       "text": [
        "{}"
       ]
      }
     ],
     "prompt_number": 204
    },
    {
     "cell_type": "code",
     "collapsed": false,
     "input": [
      "d = defaults.copy()"
     ],
     "language": "python",
     "metadata": {},
     "outputs": [],
     "prompt_number": 111
    },
    {
     "cell_type": "code",
     "collapsed": false,
     "input": [
      "d"
     ],
     "language": "python",
     "metadata": {},
     "outputs": [
      {
       "metadata": {},
       "output_type": "pyout",
       "prompt_number": 112,
       "text": [
        "{'color': 'red', 'user': 'guest'}"
       ]
      }
     ],
     "prompt_number": 112
    },
    {
     "cell_type": "code",
     "collapsed": false,
     "input": [
      "import os\n",
      "d.update(os.environ)"
     ],
     "language": "python",
     "metadata": {},
     "outputs": [],
     "prompt_number": 113
    },
    {
     "cell_type": "code",
     "collapsed": false,
     "input": [
      "# d"
     ],
     "language": "python",
     "metadata": {},
     "outputs": [],
     "prompt_number": 114
    },
    {
     "cell_type": "code",
     "collapsed": false,
     "input": [
      "d.update(command_line_args)"
     ],
     "language": "python",
     "metadata": {},
     "outputs": [],
     "prompt_number": 115
    },
    {
     "cell_type": "code",
     "collapsed": false,
     "input": [
      "# d"
     ],
     "language": "python",
     "metadata": {},
     "outputs": [],
     "prompt_number": 116
    },
    {
     "cell_type": "code",
     "collapsed": false,
     "input": [
      "# Python 3.3 \ubc84\uc804\ubd80\ud130 \uc9c0\uc6d0\uc774\ub124..\n",
      "# import collections.ChainMap\n",
      "# d = ChainMap(command_line_args, os.environ, defaults)"
     ],
     "language": "python",
     "metadata": {},
     "outputs": [],
     "prompt_number": 117
    },
    {
     "cell_type": "markdown",
     "metadata": {},
     "source": [
      "## Improving Clarity(\uba85\ub8cc\uc131 \ud5a5\uc0c1)\n",
      "\n",
      "- \uc704\uce58 \uc778\uc790\uc640 \uc704\uce58\ub294 \uc88b\ub2e4. \ubb54 \uc598\uae30?? index \uc4f0\ub77c\ub294 \uc598\uae30? \ub0b4\uac00 \uac1c\uc778\uc801\uc73c\ub85c \ud574\uc11d\ud560 \ub54c\ub294 \uc778\uc790\ub4e4\uc758 \uc704\uce58\uac00 \uc788\ub294\ub370 \uc778\uc790\ub97c \ub118\uae38\ub54c \uaf2d \uc778\uc790\ub4e4\uc758 \uc21c\uc11c\ub97c \uc9c0\ucf1c\uc11c \ub118\uaca8\ub77c. \ubb50 \uc774\ub7f0 \uc598\uae30 \uac19\uc74c\n",
      "- Keywords\uc640 Names\ub97c \uac19\uc774 \uc4f0\ub294\uac8c \ub354 \uc88b\ub2e4.\n",
      "- \ucc98\uc74c \ubc29\ubc95\uc740 \ucef4\ud4e8\ud130\uac00 \ud3b8\ub9ac\ud558\ub2e4\n",
      "- \ub450\ubc88\uc9f8 \ubc29\ubc95\uc740 \uc778\uac04\uc774 \uc5b4\ub5bb\uac8c \uc0dd\uac01\ud558\ub294\uc9c0 \uc0dd\uac01\ud574 \ubcfc \uc218 \uc788\ub2e4."
     ]
    },
    {
     "cell_type": "markdown",
     "metadata": {},
     "source": [
      "## Clarify function calls with keyword arguments"
     ]
    },
    {
     "cell_type": "code",
     "collapsed": false,
     "input": [
      "# twitter_search('@obama', False, 20, True)"
     ],
     "language": "python",
     "metadata": {},
     "outputs": [],
     "prompt_number": 118
    },
    {
     "cell_type": "code",
     "collapsed": false,
     "input": [
      "# \ud655\uc2e4\ud788 \uc55e\uc758 \uae00\uc790\ub294 obama\ub97c \ucc3e\ub294\ub2e4\ub294 \uac83\uc744 \uc54c\uaca0\uace0\n",
      "# \ub4a4\uc758 \uc778\uc790\uac00 \ubb34\uc5c7\uc778\uc9c0 \ubaa8\ub97c\ud150\ub370 keyword\ub97c \ubd99\uc5ec\uc8fc\ub2c8 \ucf54\ub4dc \uac00\ub3c5\uc131\uc774 \ub192\uc544\uc9c0\ub124\n",
      "# twitter_search('@obama', retweets=False, numtweets=20, popular=True)"
     ],
     "language": "python",
     "metadata": {},
     "outputs": [],
     "prompt_number": 119
    },
    {
     "cell_type": "code",
     "collapsed": false,
     "input": [
      "# doctest.testmod()"
     ],
     "language": "python",
     "metadata": {},
     "outputs": [],
     "prompt_number": 120
    },
    {
     "cell_type": "markdown",
     "metadata": {},
     "source": [
      "----"
     ]
    },
    {
     "cell_type": "code",
     "collapsed": false,
     "input": [
      "# doctest.testmod()"
     ],
     "language": "python",
     "metadata": {},
     "outputs": [],
     "prompt_number": 121
    },
    {
     "cell_type": "code",
     "collapsed": false,
     "input": [
      "# TestResults(failed=0, attempted=4)"
     ],
     "language": "python",
     "metadata": {},
     "outputs": [],
     "prompt_number": 122
    },
    {
     "cell_type": "markdown",
     "metadata": {},
     "source": [
      "----"
     ]
    },
    {
     "cell_type": "code",
     "collapsed": false,
     "input": [
      "# TestResults = namedtuple('TestResults', ['failed', 'attempted'])"
     ],
     "language": "python",
     "metadata": {},
     "outputs": [],
     "prompt_number": 123
    },
    {
     "cell_type": "markdown",
     "metadata": {},
     "source": [
      "## Unpacking sequences"
     ]
    },
    {
     "cell_type": "code",
     "collapsed": false,
     "input": [
      "p = 'Raymond', 'Heittinger', 0x30, 'python@example.com'"
     ],
     "language": "python",
     "metadata": {},
     "outputs": [],
     "prompt_number": 124
    },
    {
     "cell_type": "code",
     "collapsed": false,
     "input": [
      "p"
     ],
     "language": "python",
     "metadata": {},
     "outputs": [
      {
       "metadata": {},
       "output_type": "pyout",
       "prompt_number": 125,
       "text": [
        "('Raymond', 'Heittinger', 48, 'python@example.com')"
       ]
      }
     ],
     "prompt_number": 125
    },
    {
     "cell_type": "code",
     "collapsed": false,
     "input": [
      "type(p)"
     ],
     "language": "python",
     "metadata": {},
     "outputs": [
      {
       "metadata": {},
       "output_type": "pyout",
       "prompt_number": 126,
       "text": [
        "tuple"
       ]
      }
     ],
     "prompt_number": 126
    },
    {
     "cell_type": "code",
     "collapsed": false,
     "input": [
      "fname = p[0]\n",
      "lname = p[1]\n",
      "age = p[2]\n",
      "email = p[3]"
     ],
     "language": "python",
     "metadata": {},
     "outputs": [],
     "prompt_number": 127
    },
    {
     "cell_type": "code",
     "collapsed": false,
     "input": [
      "fname, lname, age, email"
     ],
     "language": "python",
     "metadata": {},
     "outputs": [
      {
       "metadata": {},
       "output_type": "pyout",
       "prompt_number": 128,
       "text": [
        "('Raymond', 'Heittinger', 48, 'python@example.com')"
       ]
      }
     ],
     "prompt_number": 128
    },
    {
     "cell_type": "code",
     "collapsed": false,
     "input": [
      "del fname, lname, age, email"
     ],
     "language": "python",
     "metadata": {},
     "outputs": [],
     "prompt_number": 129
    },
    {
     "cell_type": "code",
     "collapsed": false,
     "input": [
      "fname, lname, age, email = p"
     ],
     "language": "python",
     "metadata": {},
     "outputs": [],
     "prompt_number": 130
    },
    {
     "cell_type": "code",
     "collapsed": false,
     "input": [
      "fname, lname, age, email"
     ],
     "language": "python",
     "metadata": {},
     "outputs": [
      {
       "metadata": {},
       "output_type": "pyout",
       "prompt_number": 131,
       "text": [
        "('Raymond', 'Heittinger', 48, 'python@example.com')"
       ]
      }
     ],
     "prompt_number": 131
    },
    {
     "cell_type": "markdown",
     "metadata": {},
     "source": [
      "## Updating multiple state variables"
     ]
    },
    {
     "cell_type": "code",
     "collapsed": false,
     "input": [
      "def temp_fibonacci(n):\n",
      "    x = 0\n",
      "    y = 1\n",
      "    for i in range(n):\n",
      "        print x\n",
      "        t = y\n",
      "        y = x + y\n",
      "        x = t"
     ],
     "language": "python",
     "metadata": {},
     "outputs": [],
     "prompt_number": 132
    },
    {
     "cell_type": "code",
     "collapsed": false,
     "input": [
      "def unpack_fibonacci(n):\n",
      "    x, y = 0, 1\n",
      "    for i in range(n):\n",
      "        print x\n",
      "        # y\uac00 x\ub85c, x+y\uac00 y\ub85c\n",
      "        x, y = y, x+y"
     ],
     "language": "python",
     "metadata": {},
     "outputs": [],
     "prompt_number": 133
    },
    {
     "cell_type": "code",
     "collapsed": false,
     "input": [
      "temp_fibonacci(10)"
     ],
     "language": "python",
     "metadata": {},
     "outputs": [
      {
       "output_type": "stream",
       "stream": "stdout",
       "text": [
        "0\n",
        "1\n",
        "1\n",
        "2\n",
        "3\n",
        "5\n",
        "8\n",
        "13\n",
        "21\n",
        "34\n"
       ]
      }
     ],
     "prompt_number": 134
    },
    {
     "cell_type": "code",
     "collapsed": false,
     "input": [
      "unpack_fibonacci(10)"
     ],
     "language": "python",
     "metadata": {},
     "outputs": [
      {
       "output_type": "stream",
       "stream": "stdout",
       "text": [
        "0\n",
        "1\n",
        "1\n",
        "2\n",
        "3\n",
        "5\n",
        "8\n",
        "13\n",
        "21\n",
        "34\n"
       ]
      }
     ],
     "prompt_number": 135
    },
    {
     "cell_type": "markdown",
     "metadata": {},
     "source": [
      "## Tuple packing and unpacking\n",
      "\n",
      "- Don't under-estimate the advantages of updating state variables at the same time\n",
      "- It eliminates an entire class of erros due to out-of-order updates\n",
      "- \ub192\uc740 \ub808\ubca8\uc758 \uc0dd\uac01\uc744 \ud558\ub824\uba74: \"\ubd84\ub9ac\ud558\ub77c\"\n",
      "\n",
      "## simultaneous state updates\n",
      "\n",
      "- **'tmp \uc368\uc11c \uc0bd\uc9c8\ud558\uc9c0 \ub9d0\uace0 \ud55c \ubc88\uc5d0 \ud560\ub2f9\ud558\ub77c'**\uac00 \uc694\uc810"
     ]
    },
    {
     "cell_type": "markdown",
     "metadata": {},
     "source": [
      "```python\n",
      "tmp_x = x + dx * t\n",
      "tmp_y = y + dy * t\n",
      "tmp_dx = influence(m, x, y, dx, dy, partial='x')\n",
      "tmp_dy = influence(m, x, y, dx, dy, partial='y')\n",
      "x = tmp_x\n",
      "y = tmp_y\n",
      "dx = tmp_dx\n",
      "dy = tmp_dy\n",
      "```"
     ]
    },
    {
     "cell_type": "markdown",
     "metadata": {},
     "source": [
      "```python\n",
      "x, y, dx, dy = (x + dx * t,\n",
      "                y + dy * t,\n",
      "                influence(m, x, y, dx, dy, partial='x'),\n",
      "                influence(,m x, y, dx, dy, partial='y'))\n",
      "```"
     ]
    },
    {
     "cell_type": "markdown",
     "metadata": {},
     "source": [
      "## Efficiency\n",
      "\n",
      "- \ucd5c\uc801\ud654 \uae30\ubcf8 \ub8f0\n",
      "- \ud544\uc694\uc5c6\ub294 \uc774\ub3d9\uc740 \ud558\uc9c0\ub9c8\ub77c\n",
      "- \uc120\ud615 \ud589\ub3d9\uc744 \ub300\uc2e0\ud574\uc11c O(n\\*\\*2)\uc758 \uc2dc\uac04 \ubcf5\uc7a1\ub3c4 \ud589\ub3d9\uc740 \ud53c\ud558\ub77c. "
     ]
    },
    {
     "cell_type": "markdown",
     "metadata": {},
     "source": [
      "## Concatenating strings\n",
      "\n",
      "- [Efficient String Concatenation in Python](http://www.skymind.com/~ocrow/python_string/): \uad49\uc7a5\ud788 \uc88b\ub2e4. \uadf8\ub798\ud504\ub85c \uc774\uc058\uac8c \ud45c\ud604\ub418\uc5b4 \uc788\uc74c"
     ]
    },
    {
     "cell_type": "code",
     "collapsed": false,
     "input": [
      "names"
     ],
     "language": "python",
     "metadata": {},
     "outputs": [
      {
       "metadata": {},
       "output_type": "pyout",
       "prompt_number": 136,
       "text": [
        "['raymond',\n",
        " 'rachel',\n",
        " 'matthew',\n",
        " 'roger',\n",
        " 'betty',\n",
        " 'melissa',\n",
        " 'judith',\n",
        " 'charlie']"
       ]
      }
     ],
     "prompt_number": 136
    },
    {
     "cell_type": "code",
     "collapsed": false,
     "input": [
      "s = names[0]"
     ],
     "language": "python",
     "metadata": {},
     "outputs": [],
     "prompt_number": 137
    },
    {
     "cell_type": "code",
     "collapsed": false,
     "input": [
      "for name in names[1:]:\n",
      "    s += ', ' + name\n",
      "print s"
     ],
     "language": "python",
     "metadata": {},
     "outputs": [
      {
       "output_type": "stream",
       "stream": "stdout",
       "text": [
        "raymond, rachel, matthew, roger, betty, melissa, judith, charlie\n"
       ]
      }
     ],
     "prompt_number": 138
    },
    {
     "cell_type": "code",
     "collapsed": false,
     "input": [
      "# join\uc774 \uc815\ub9d0 \ud3b8\ud574\uc11c \uc704\uc758 \ubc29\ubc95\uc740 \ub3c4\uc800\ud788 \ubabb \uc4f0\uaca0\ub2e4..\n",
      "print ', '.join(names)"
     ],
     "language": "python",
     "metadata": {},
     "outputs": [
      {
       "output_type": "stream",
       "stream": "stdout",
       "text": [
        "raymond, rachel, matthew, roger, betty, melissa, judith, charlie\n"
       ]
      }
     ],
     "prompt_number": 139
    },
    {
     "cell_type": "markdown",
     "metadata": {},
     "source": [
      "## Updating sequences"
     ]
    },
    {
     "cell_type": "code",
     "collapsed": false,
     "input": [
      "names = ['raymond', 'rachel', 'matthew', 'roger',\n",
      "         'betty', 'melissa', 'judith', 'charlie']"
     ],
     "language": "python",
     "metadata": {},
     "outputs": [],
     "prompt_number": 140
    },
    {
     "cell_type": "code",
     "collapsed": false,
     "input": [
      "names"
     ],
     "language": "python",
     "metadata": {},
     "outputs": [
      {
       "metadata": {},
       "output_type": "pyout",
       "prompt_number": 141,
       "text": [
        "['raymond',\n",
        " 'rachel',\n",
        " 'matthew',\n",
        " 'roger',\n",
        " 'betty',\n",
        " 'melissa',\n",
        " 'judith',\n",
        " 'charlie']"
       ]
      }
     ],
     "prompt_number": 141
    },
    {
     "cell_type": "code",
     "collapsed": false,
     "input": [
      "del names[0]"
     ],
     "language": "python",
     "metadata": {},
     "outputs": [],
     "prompt_number": 142
    },
    {
     "cell_type": "code",
     "collapsed": false,
     "input": [
      "names"
     ],
     "language": "python",
     "metadata": {},
     "outputs": [
      {
       "metadata": {},
       "output_type": "pyout",
       "prompt_number": 143,
       "text": [
        "['rachel', 'matthew', 'roger', 'betty', 'melissa', 'judith', 'charlie']"
       ]
      }
     ],
     "prompt_number": 143
    },
    {
     "cell_type": "code",
     "collapsed": false,
     "input": [
      "names.pop(0)"
     ],
     "language": "python",
     "metadata": {},
     "outputs": [
      {
       "metadata": {},
       "output_type": "pyout",
       "prompt_number": 144,
       "text": [
        "'rachel'"
       ]
      }
     ],
     "prompt_number": 144
    },
    {
     "cell_type": "code",
     "collapsed": false,
     "input": [
      "names"
     ],
     "language": "python",
     "metadata": {},
     "outputs": [
      {
       "metadata": {},
       "output_type": "pyout",
       "prompt_number": 145,
       "text": [
        "['matthew', 'roger', 'betty', 'melissa', 'judith', 'charlie']"
       ]
      }
     ],
     "prompt_number": 145
    },
    {
     "cell_type": "code",
     "collapsed": false,
     "input": [
      "names.insert(0, 'mark')"
     ],
     "language": "python",
     "metadata": {},
     "outputs": [],
     "prompt_number": 146
    },
    {
     "cell_type": "code",
     "collapsed": false,
     "input": [
      "names"
     ],
     "language": "python",
     "metadata": {},
     "outputs": [
      {
       "metadata": {},
       "output_type": "pyout",
       "prompt_number": 147,
       "text": [
        "['mark', 'matthew', 'roger', 'betty', 'melissa', 'judith', 'charlie']"
       ]
      }
     ],
     "prompt_number": 147
    },
    {
     "cell_type": "code",
     "collapsed": false,
     "input": [
      "from collections import deque\n",
      "names = deque(['raymond', 'rachel', 'matthew', 'roger',\n",
      "         'betty', 'melissa', 'judith', 'charlie'])"
     ],
     "language": "python",
     "metadata": {},
     "outputs": [],
     "prompt_number": 148
    },
    {
     "cell_type": "code",
     "collapsed": false,
     "input": [
      "names"
     ],
     "language": "python",
     "metadata": {},
     "outputs": [
      {
       "metadata": {},
       "output_type": "pyout",
       "prompt_number": 149,
       "text": [
        "deque(['raymond', 'rachel', 'matthew', 'roger', 'betty', 'melissa', 'judith', 'charlie'])"
       ]
      }
     ],
     "prompt_number": 149
    },
    {
     "cell_type": "code",
     "collapsed": false,
     "input": [
      "type(names)"
     ],
     "language": "python",
     "metadata": {},
     "outputs": [
      {
       "metadata": {},
       "output_type": "pyout",
       "prompt_number": 150,
       "text": [
        "collections.deque"
       ]
      }
     ],
     "prompt_number": 150
    },
    {
     "cell_type": "code",
     "collapsed": false,
     "input": [
      "del names[0]"
     ],
     "language": "python",
     "metadata": {},
     "outputs": [],
     "prompt_number": 151
    },
    {
     "cell_type": "code",
     "collapsed": false,
     "input": [
      "names"
     ],
     "language": "python",
     "metadata": {},
     "outputs": [
      {
       "metadata": {},
       "output_type": "pyout",
       "prompt_number": 152,
       "text": [
        "deque(['rachel', 'matthew', 'roger', 'betty', 'melissa', 'judith', 'charlie'])"
       ]
      }
     ],
     "prompt_number": 152
    },
    {
     "cell_type": "code",
     "collapsed": false,
     "input": [
      "names.popleft()"
     ],
     "language": "python",
     "metadata": {},
     "outputs": [
      {
       "metadata": {},
       "output_type": "pyout",
       "prompt_number": 153,
       "text": [
        "'rachel'"
       ]
      }
     ],
     "prompt_number": 153
    },
    {
     "cell_type": "code",
     "collapsed": false,
     "input": [
      "names"
     ],
     "language": "python",
     "metadata": {},
     "outputs": [
      {
       "metadata": {},
       "output_type": "pyout",
       "prompt_number": 154,
       "text": [
        "deque(['matthew', 'roger', 'betty', 'melissa', 'judith', 'charlie'])"
       ]
      }
     ],
     "prompt_number": 154
    },
    {
     "cell_type": "code",
     "collapsed": false,
     "input": [
      "names.appendleft('mark')"
     ],
     "language": "python",
     "metadata": {},
     "outputs": [],
     "prompt_number": 155
    },
    {
     "cell_type": "code",
     "collapsed": false,
     "input": [
      "names"
     ],
     "language": "python",
     "metadata": {},
     "outputs": [
      {
       "metadata": {},
       "output_type": "pyout",
       "prompt_number": 156,
       "text": [
        "deque(['mark', 'matthew', 'roger', 'betty', 'melissa', 'judith', 'charlie'])"
       ]
      }
     ],
     "prompt_number": 156
    },
    {
     "cell_type": "code",
     "collapsed": false,
     "input": [
      "names.append('end')"
     ],
     "language": "python",
     "metadata": {},
     "outputs": [],
     "prompt_number": 157
    },
    {
     "cell_type": "code",
     "collapsed": false,
     "input": [
      "names"
     ],
     "language": "python",
     "metadata": {},
     "outputs": [
      {
       "metadata": {},
       "output_type": "pyout",
       "prompt_number": 158,
       "text": [
        "deque(['mark', 'matthew', 'roger', 'betty', 'melissa', 'judith', 'charlie', 'end'])"
       ]
      }
     ],
     "prompt_number": 158
    },
    {
     "cell_type": "markdown",
     "metadata": {},
     "source": [
      "### deque function"
     ]
    },
    {
     "cell_type": "markdown",
     "metadata": {},
     "source": [
      "    deque.append      deque.count       deque.maxlen      deque.popleft     deque.rotate      \n",
      "    deque.appendleft  deque.extend      deque.mro         deque.remove      \n",
      "    deque.clear       deque.extendleft  deque.pop         deque.reverse  "
     ]
    },
    {
     "cell_type": "markdown",
     "metadata": {},
     "source": [
      "## Decorators and Context Managers\n",
      "\n",
      "- \uad00\ub9ac\ud558\ub294 \ub85c\uc9c1\uc5d0\uc11c \ube44\uc988\ub2c8\uc2a4 \ub85c\uc9c1\uc744 \ubd84\ud560\ud558\ub294\uac8c \uc88b\ub2e4.\n",
      "- \uba85\ud655\ud558\uace0, \uc544\ub984\ub2f5\uac8c \ud558\ub824\uba74 code\ub97c \uc7ac\uad6c\uc131\ud558\uace0 code \uc7ac\uc0ac\uc6a9\uc0c1\uc744 \ud5a5\uc0c1 \uc2dc\ud0a8\ub2e4.\n",
      "- \uc88b\uc740 \uc774\ub984\uc740 \ud544\uc218\n",
      "- spiderman \ub8f0\uc744 \uae30\uc5b5\ud574\ub77c: \ud798\uc5d0\ub294 \ucc45\uc784\uc774 \ub530\ub978\ub2e4.\n",
      "\n",
      "## Using decorators to factor-out administrative logic\n",
      "\n",
      "- [\ubc88\uc5ed \ud30c\uc774\uc36c \ub370\ucf54\ub808\uc774\ud130 \uc774\ud574\ud558\uae30](http://codeflow.co.kr/question/731/%ED%8C%8C%EC%9D%B4%EC%8D%AC-%EB%8D%B0%EC%BD%94%EB%A0%88%EC%9D%B4%ED%84%B0-%EC%9D%B4%ED%95%B4%ED%95%98%EA%B8%B0/)\n",
      "- \uac1c\ub150\uc740 \uc54c\uaca0\ub294\ub370 \ub9cc\ub4e4\uae30\uac00 \uc5b4\ub824\uc6b4\ub4ef.."
     ]
    },
    {
     "cell_type": "code",
     "collapsed": false,
     "input": [
      "import urllib\n",
      "\n",
      "def web_lookup(url, saved={}):\n",
      "    if url in saved:\n",
      "        return saved[url]\n",
      "    page = urllib.urlopen(url).read()\n",
      "    saved[url] = page\n",
      "    return page"
     ],
     "language": "python",
     "metadata": {},
     "outputs": [],
     "prompt_number": 159
    },
    {
     "cell_type": "code",
     "collapsed": false,
     "input": [
      "from functools import wraps\n",
      "\n",
      "def cache(func):\n",
      "    saved = {}\n",
      "    @wraps(func)\n",
      "    def newfunc(*args):\n",
      "        if args in saved:\n",
      "            # Here is bug\n",
      "            return newfunc(*args)\n",
      "        result = func(*args)\n",
      "        saved[args] = result\n",
      "        return result\n",
      "    return newfunc"
     ],
     "language": "python",
     "metadata": {},
     "outputs": [],
     "prompt_number": 160
    },
    {
     "cell_type": "code",
     "collapsed": false,
     "input": [
      "from functools import wraps\n",
      "\n",
      "def cache2(func):\n",
      "    saved = {}\n",
      "    @wraps(func)\n",
      "    def newfunc(*args):\n",
      "        if args in saved:\n",
      "            return saved[args]\n",
      "        result = func(*args)\n",
      "        saved[args] = result\n",
      "        return result\n",
      "    return newfunc"
     ],
     "language": "python",
     "metadata": {},
     "outputs": [],
     "prompt_number": 161
    },
    {
     "cell_type": "code",
     "collapsed": false,
     "input": [
      "@cache\n",
      "def web_lookup2(url):\n",
      "    return urllib.urlopen(url).read()"
     ],
     "language": "python",
     "metadata": {},
     "outputs": [],
     "prompt_number": 162
    },
    {
     "cell_type": "code",
     "collapsed": false,
     "input": [
      "@cache2\n",
      "def web_lookup3(url):\n",
      "    return urllib.urlopen(url).read()"
     ],
     "language": "python",
     "metadata": {},
     "outputs": [],
     "prompt_number": 163
    },
    {
     "cell_type": "code",
     "collapsed": false,
     "input": [
      "url = 'http://naver.com'"
     ],
     "language": "python",
     "metadata": {},
     "outputs": [],
     "prompt_number": 164
    },
    {
     "cell_type": "code",
     "collapsed": false,
     "input": [
      "print web_lookup(url)[:100]"
     ],
     "language": "python",
     "metadata": {},
     "outputs": [
      {
       "output_type": "stream",
       "stream": "stdout",
       "text": [
        "<!doctype html>\n",
        "<html lang=\"ko\">\n",
        "<head>\n",
        "<meta charset=\"utf-8\">\n",
        "<meta http-equiv=\"Content-Script-Type\n"
       ]
      }
     ],
     "prompt_number": 165
    },
    {
     "cell_type": "code",
     "collapsed": false,
     "input": [
      "print web_lookup2(url)[:100]"
     ],
     "language": "python",
     "metadata": {},
     "outputs": [
      {
       "output_type": "stream",
       "stream": "stdout",
       "text": [
        "<!doctype html>\n",
        "<html lang=\"ko\">\n",
        "<head>\n",
        "<meta charset=\"utf-8\">\n",
        "<meta http-equiv=\"Content-Script-Type\n"
       ]
      }
     ],
     "prompt_number": 166
    },
    {
     "cell_type": "markdown",
     "metadata": {},
     "source": [
      "    ---------------------------------------------------------------------------\n",
      "    RuntimeError                              Traceback (most recent call last)\n",
      "    <ipython-input-361-27ac44ec7929> in <module>()\n",
      "    ----> 1 print web_lookup2(url)[:100]\n",
      "\n",
      "    <ipython-input-355-887374cafa10> in newfunc(*args)\n",
      "          6     def newfunc(*args):\n",
      "          7         if args in saved:\n",
      "    ----> 8             return newfunc(*args)\n",
      "          9         result = func(*args)\n",
      "         10         saved[args] = result\n",
      "\n",
      "    RuntimeError: maximum recursion depth exceeded in cmp"
     ]
    },
    {
     "cell_type": "markdown",
     "metadata": {},
     "source": [
      "- \uc9c0\uae08 \uc18c\uc2a4\uac00 \uc798\ubabb\ub41c\ub4ef.\n",
      "- 1\ubc88\uc9f8\ub294 \uc0c1\uad00\uc5c6\ub294\ub370 2\ubc88\uc9f8\ubd80\ud130 saved dictionary\uc5d0 \uc800\uc7a5\ub41c \uac83\uc744 \ubd88\ub7ec\uc640\uc57c \ub418\ub294\ub370..\n",
      "- \uacc4\uc18d \uc7ac\uadc0 \ud638\ucd9c\ub9cc \ud568."
     ]
    },
    {
     "cell_type": "code",
     "collapsed": false,
     "input": [
      "# Ok! \ubc84\uadf8 \ud574\uacb0!\n",
      "# \uadfc\ub370 saved\ub97c \uacc4\uc18d \uc800\uc7a5\ud558\uace0 \uc788\ub098\ubcf4\ub124..?\n",
      "print web_lookup3(url)[:100]"
     ],
     "language": "python",
     "metadata": {},
     "outputs": [
      {
       "output_type": "stream",
       "stream": "stdout",
       "text": [
        "<!doctype html>\n",
        "<html lang=\"ko\">\n",
        "<head>\n",
        "<meta charset=\"utf-8\">\n",
        "<meta http-equiv=\"Content-Script-Type\n"
       ]
      }
     ],
     "prompt_number": 167
    },
    {
     "cell_type": "markdown",
     "metadata": {},
     "source": [
      "## Factor-out temporary contexts\n",
      "\n",
      "- [getcontext](https://docs.python.org/2/library/decimal.html)"
     ]
    },
    {
     "cell_type": "code",
     "collapsed": false,
     "input": [
      "# context: \ud658\uacbd\uc124\uc815\n",
      "from decimal import getcontext\n",
      "old_context = getcontext().copy()"
     ],
     "language": "python",
     "metadata": {},
     "outputs": [],
     "prompt_number": 168
    },
    {
     "cell_type": "code",
     "collapsed": false,
     "input": [
      "old_context"
     ],
     "language": "python",
     "metadata": {},
     "outputs": [
      {
       "metadata": {},
       "output_type": "pyout",
       "prompt_number": 169,
       "text": [
        "Context(prec=28, rounding=ROUND_HALF_EVEN, Emin=-999999999, Emax=999999999, capitals=1, flags=[], traps=[Overflow, InvalidOperation, DivisionByZero])"
       ]
      }
     ],
     "prompt_number": 169
    },
    {
     "cell_type": "code",
     "collapsed": false,
     "input": [
      "getcontext?"
     ],
     "language": "python",
     "metadata": {},
     "outputs": [],
     "prompt_number": 170
    },
    {
     "cell_type": "markdown",
     "metadata": {},
     "source": [
      "    Returns this thread's context.\n",
      "\n",
      "    If this thread does not yet have a context, returns\n",
      "    a new context and sets this thread's context.\n",
      "    New contexts are copies of DefaultContext."
     ]
    },
    {
     "cell_type": "code",
     "collapsed": false,
     "input": [
      "getcontext().prec = 50"
     ],
     "language": "python",
     "metadata": {},
     "outputs": [],
     "prompt_number": 171
    },
    {
     "cell_type": "code",
     "collapsed": false,
     "input": [
      "from decimal import Decimal, setcontext\n",
      "print Decimal(355) / Decimal(113)"
     ],
     "language": "python",
     "metadata": {},
     "outputs": [
      {
       "output_type": "stream",
       "stream": "stdout",
       "text": [
        "3.1415929203539823008849557522123893805309734513274\n"
       ]
      }
     ],
     "prompt_number": 172
    },
    {
     "cell_type": "code",
     "collapsed": false,
     "input": [
      "setcontext(old_context)"
     ],
     "language": "python",
     "metadata": {},
     "outputs": [],
     "prompt_number": 173
    },
    {
     "cell_type": "code",
     "collapsed": false,
     "input": [
      "print Decimal(355) / Decimal(113)"
     ],
     "language": "python",
     "metadata": {},
     "outputs": [
      {
       "output_type": "stream",
       "stream": "stdout",
       "text": [
        "3.141592920353982300884955752\n"
       ]
      }
     ],
     "prompt_number": 174
    },
    {
     "cell_type": "markdown",
     "metadata": {},
     "source": [
      "### localcontext, Context \ud65c\uc6a9\n",
      "\n",
      "- with\ub85c localcontext \ubd88\ub7ec\uc624\ub294\ub370 \uc778\uc790\ub85c Context\ub97c \ub118\uae34\ub2e4.\n",
      "- Context\uc5d0\ub294 \ub610 prec\ub97c \uc778\uc790\ub85c \ub118\uae40"
     ]
    },
    {
     "cell_type": "code",
     "collapsed": false,
     "input": [
      "from decimal import localcontext, Context\n",
      "with localcontext(Context(prec=50)):\n",
      "    print Decimal(355) / Decimal(113)"
     ],
     "language": "python",
     "metadata": {},
     "outputs": [
      {
       "output_type": "stream",
       "stream": "stdout",
       "text": [
        "3.1415929203539823008849557522123893805309734513274\n"
       ]
      }
     ],
     "prompt_number": 175
    },
    {
     "cell_type": "code",
     "collapsed": false,
     "input": [
      "with localcontext():\n",
      "    print Decimal(355) / Decimal(113)"
     ],
     "language": "python",
     "metadata": {},
     "outputs": [
      {
       "output_type": "stream",
       "stream": "stdout",
       "text": [
        "3.141592920353982300884955752\n"
       ]
      }
     ],
     "prompt_number": 176
    },
    {
     "cell_type": "code",
     "collapsed": false,
     "input": [
      "print Decimal(355) / Decimal(113)"
     ],
     "language": "python",
     "metadata": {},
     "outputs": [
      {
       "output_type": "stream",
       "stream": "stdout",
       "text": [
        "3.141592920353982300884955752\n"
       ]
      }
     ],
     "prompt_number": 177
    },
    {
     "cell_type": "markdown",
     "metadata": {},
     "source": [
      "## How to open and close files\n",
      "\n",
      "- finally\ub85c \ub2eb\uc544\uc904 \ud544\uc694\uac00 \uc5c6\uc74c"
     ]
    },
    {
     "cell_type": "code",
     "collapsed": false,
     "input": [
      "%%writefile data.txt\n",
      "test data.txt\n",
      "Are you sure?"
     ],
     "language": "python",
     "metadata": {},
     "outputs": [
      {
       "output_type": "stream",
       "stream": "stdout",
       "text": [
        "Overwriting data.txt\n"
       ]
      }
     ],
     "prompt_number": 178
    },
    {
     "cell_type": "code",
     "collapsed": false,
     "input": [
      "f = open('data.txt')\n",
      "try:\n",
      "    data = f.read()\n",
      "finally:\n",
      "    f.close()"
     ],
     "language": "python",
     "metadata": {},
     "outputs": [],
     "prompt_number": 179
    },
    {
     "cell_type": "code",
     "collapsed": false,
     "input": [
      "data"
     ],
     "language": "python",
     "metadata": {},
     "outputs": [
      {
       "metadata": {},
       "output_type": "pyout",
       "prompt_number": 180,
       "text": [
        "'test data.txt\\nAre you sure?'"
       ]
      }
     ],
     "prompt_number": 180
    },
    {
     "cell_type": "code",
     "collapsed": false,
     "input": [
      "data = ''"
     ],
     "language": "python",
     "metadata": {},
     "outputs": [],
     "prompt_number": 181
    },
    {
     "cell_type": "code",
     "collapsed": false,
     "input": [
      "with open('data.txt') as f:\n",
      "    data = f.read()"
     ],
     "language": "python",
     "metadata": {},
     "outputs": [],
     "prompt_number": 182
    },
    {
     "cell_type": "code",
     "collapsed": false,
     "input": [
      "data"
     ],
     "language": "python",
     "metadata": {},
     "outputs": [
      {
       "metadata": {},
       "output_type": "pyout",
       "prompt_number": 183,
       "text": [
        "'test data.txt\\nAre you sure?'"
       ]
      }
     ],
     "prompt_number": 183
    },
    {
     "cell_type": "code",
     "collapsed": false,
     "input": [
      "with open('data2.txt') as f:\n",
      "    data = f.read()"
     ],
     "language": "python",
     "metadata": {},
     "outputs": [
      {
       "ename": "IOError",
       "evalue": "[Errno 2] No such file or directory: 'data2.txt'",
       "output_type": "pyerr",
       "traceback": [
        "\u001b[0;31m---------------------------------------------------------------------------\u001b[0m\n\u001b[0;31mIOError\u001b[0m                                   Traceback (most recent call last)",
        "\u001b[0;32m<ipython-input-184-adb48fd02705>\u001b[0m in \u001b[0;36m<module>\u001b[0;34m()\u001b[0m\n\u001b[0;32m----> 1\u001b[0;31m \u001b[0;32mwith\u001b[0m \u001b[0mopen\u001b[0m\u001b[0;34m(\u001b[0m\u001b[0;34m'data2.txt'\u001b[0m\u001b[0;34m)\u001b[0m \u001b[0;32mas\u001b[0m \u001b[0mf\u001b[0m\u001b[0;34m:\u001b[0m\u001b[0;34m\u001b[0m\u001b[0m\n\u001b[0m\u001b[1;32m      2\u001b[0m     \u001b[0mdata\u001b[0m \u001b[0;34m=\u001b[0m \u001b[0mf\u001b[0m\u001b[0;34m.\u001b[0m\u001b[0mread\u001b[0m\u001b[0;34m(\u001b[0m\u001b[0;34m)\u001b[0m\u001b[0;34m\u001b[0m\u001b[0m\n",
        "\u001b[0;31mIOError\u001b[0m: [Errno 2] No such file or directory: 'data2.txt'"
       ]
      }
     ],
     "prompt_number": 184
    },
    {
     "cell_type": "markdown",
     "metadata": {},
     "source": [
      "## How to use locks\n",
      "\n",
      "- finally\uc5d0\uc11c lock release\ub97c \ud574\uc8fc\uc9c0 \uc54a\uc544\ub3c4 \ub41c\ub2e4. \uc790\ub3d9\uc73c\ub85c \ud574\uc81c\ud574 \uc900\ub2e4."
     ]
    },
    {
     "cell_type": "code",
     "collapsed": false,
     "input": [
      "import threading\n",
      "# Make a lock\n",
      "lock = threading.Lock()"
     ],
     "language": "python",
     "metadata": {},
     "outputs": [],
     "prompt_number": 185
    },
    {
     "cell_type": "code",
     "collapsed": false,
     "input": [
      "# Old-way to use a lock\n",
      "lock.acquire()\n",
      "try:\n",
      "    print 'Critical section 1'\n",
      "    print 'Critical section 2'\n",
      "finally:\n",
      "    lock.release()"
     ],
     "language": "python",
     "metadata": {},
     "outputs": [
      {
       "output_type": "stream",
       "stream": "stdout",
       "text": [
        "Critical section 1\n",
        "Critical section 2\n"
       ]
      }
     ],
     "prompt_number": 186
    },
    {
     "cell_type": "code",
     "collapsed": false,
     "input": [
      "# New-way to use a lock\n",
      "with lock:\n",
      "    print 'Critical section 1'\n",
      "    print 'Critical section 2'"
     ],
     "language": "python",
     "metadata": {},
     "outputs": [
      {
       "output_type": "stream",
       "stream": "stdout",
       "text": [
        "Critical section 1\n",
        "Critical section 2\n"
       ]
      }
     ],
     "prompt_number": 187
    },
    {
     "cell_type": "markdown",
     "metadata": {},
     "source": [
      "## Factor-out temporary contexts\n",
      "\n",
      "- [Python gets a new ignored context manager](http://mmoya.org/blog/2013/03/17/python-gets-a-new-ignored-context-manager/): ignored \ub77c\ub294\uac8c python 3.4\uc5d0\uc11c \uc9c0\uc6d0\ub41c\ub2e4\uace0 \ud558\ub294\ub370..? \uc5b4\uca0c\ub4e0 \ud574\ub2f9 \ub9c1\ud06c\ubcf4\uace0 \uad6c\ud604\ud574 \ubd24\ub2e4.\n",
      "- \uc5c4\uccad \uac04\ud3b8\ud558\ub124!!\n",
      "- try, except \uc5d0\uc11c \ubc97\uc5b4\ub098\uc790\n",
      "- [How to ignore an exception \u2014 the elegant way](http://pythonadventures.wordpress.com/2013/09/07/how-to-ignore-an-exception-the-elegant-way/)\n",
      "\n",
      "### Python \uac1c\uc778 \ub77c\uc774\ube0c\ub7ec\ub9ac\n",
      "\n",
      "- \uc774\ub7f0\uac83\ub3c4 vimrc \ucc98\ub7fc \uac1c\uc778\uc804\uc6a9 \ub77c\uc774\ube0c\ub7ec\ub9ac \ub9cc\ub4e4\uc5b4\uc11c \uadf8\uacf3\uc5d0 \ub123\uc5b4\ub450\uba74 \ub450\uace0\ub450\uace0 \uc798 \uc4f0\uaca0\ub294\ub370..? contextlib\uc5d0 \ucd94\uac00\ud558\ub294 \uac83\ub3c4 \uc88b\uc740 \ubc29\ubc95\uc774\uc9c0\ub9cc \ucef4\ud4e8\ud130\uac00 \ubc14\ub00c\uba74 \uc4f8 \uc218\uac00 \uc5c6\uc796\uc544. \n",
      "- vimrc\ucc98\ub7fc \ub9cc\ub4e4\uc5b4\ub193\uace0 dropbox \ub4f1\uc73c\ub85c \uacf5\uc720\ud558\uba74 \ud3b8\ud560\ub4ef?"
     ]
    },
    {
     "cell_type": "code",
     "collapsed": false,
     "input": [
      "try:\n",
      "    os.remove('somefile.tmp')\n",
      "except OSError:\n",
      "    pass"
     ],
     "language": "python",
     "metadata": {},
     "outputs": [],
     "prompt_number": 188
    },
    {
     "cell_type": "code",
     "collapsed": false,
     "input": [
      "from contextlib import contextmanager"
     ],
     "language": "python",
     "metadata": {},
     "outputs": [],
     "prompt_number": 189
    },
    {
     "cell_type": "code",
     "collapsed": false,
     "input": [
      "@contextmanager\n",
      "def ignored(*exceptions):\n",
      "    try:\n",
      "        yield\n",
      "    except exceptions:\n",
      "        pass"
     ],
     "language": "python",
     "metadata": {},
     "outputs": [],
     "prompt_number": 190
    },
    {
     "cell_type": "code",
     "collapsed": false,
     "input": [
      "with ignored(OSError):\n",
      "    os.remove('somefile.tmp')"
     ],
     "language": "python",
     "metadata": {},
     "outputs": [],
     "prompt_number": 191
    },
    {
     "cell_type": "markdown",
     "metadata": {},
     "source": [
      "## Context manager: ignored()\n",
      "\n",
      "- \ud5d0!!! \ubc14\ub85c \ub4a4\uc5d0 \ub098\uc624\ub124. \uc5c6\uc5b4\uc11c \uc778\ud130\ub137 \uac80\uc0c9\ud574\ubd24\ub354\ub2c8.."
     ]
    },
    {
     "cell_type": "code",
     "collapsed": false,
     "input": [
      "@contextmanager\n",
      "def ignored(*exceptions):\n",
      "    try:\n",
      "        yield\n",
      "    except exceptions:\n",
      "        pass"
     ],
     "language": "python",
     "metadata": {},
     "outputs": [],
     "prompt_number": 192
    },
    {
     "cell_type": "markdown",
     "metadata": {},
     "source": [
      "## Factor-out temporary contexts\n",
      "\n",
      "- redirect_stdout \uc774\uac83\ub3c4 3.4\ubd80\ud130 \uc9c0\uc6d0\n",
      "- [Redirect stdout to a file in Python?](http://stackoverflow.com/questions/4675728/redirect-stdout-to-a-file-in-python)"
     ]
    },
    {
     "cell_type": "code",
     "collapsed": false,
     "input": [
      "import sys\n",
      "with open('help.txt', 'w') as f:\n",
      "    oldstdout = sys.stdout\n",
      "    sys.stdout = f\n",
      "    try:\n",
      "        help(pow)\n",
      "    finally:\n",
      "        sys.stdout = oldstdout"
     ],
     "language": "python",
     "metadata": {},
     "outputs": [],
     "prompt_number": 193
    },
    {
     "cell_type": "code",
     "collapsed": false,
     "input": [
      "help(pow)"
     ],
     "language": "python",
     "metadata": {},
     "outputs": [
      {
       "output_type": "stream",
       "stream": "stdout",
       "text": [
        "Help on built-in function pow in module __builtin__:\n",
        "\n",
        "pow(...)\n",
        "    pow(x, y[, z]) -> number\n",
        "    \n",
        "    With two arguments, equivalent to x**y.  With three arguments,\n",
        "    equivalent to (x**y) % z, but may be more efficient (e.g. for longs).\n",
        "\n"
       ]
      }
     ],
     "prompt_number": 194
    },
    {
     "cell_type": "code",
     "collapsed": false,
     "input": [
      "!cat help.txt"
     ],
     "language": "python",
     "metadata": {},
     "outputs": [
      {
       "output_type": "stream",
       "stream": "stdout",
       "text": [
        "Help on built-in function pow in module __builtin__:\r\n",
        "\r\n",
        "pow(...)\r\n",
        "    pow(x, y[, z]) -> number\r\n",
        "    \r\n",
        "    With two arguments, equivalent to x**y.  With three arguments,\r\n",
        "    equivalent to (x**y) % z, but may be more efficient (e.g. for longs).\r\n",
        "\r\n"
       ]
      }
     ],
     "prompt_number": 195
    },
    {
     "cell_type": "code",
     "collapsed": false,
     "input": [
      "from contextlib import redirect_stdout\n",
      "with open('help.txt', 'w') as f:\n",
      "    with redirect_stdout(f):\n",
      "        help(pow)"
     ],
     "language": "python",
     "metadata": {},
     "outputs": [
      {
       "ename": "ImportError",
       "evalue": "cannot import name redirect_stdout",
       "output_type": "pyerr",
       "traceback": [
        "\u001b[0;31m---------------------------------------------------------------------------\u001b[0m\n\u001b[0;31mImportError\u001b[0m                               Traceback (most recent call last)",
        "\u001b[0;32m<ipython-input-196-0af051e507b4>\u001b[0m in \u001b[0;36m<module>\u001b[0;34m()\u001b[0m\n\u001b[0;32m----> 1\u001b[0;31m \u001b[0;32mfrom\u001b[0m \u001b[0mcontextlib\u001b[0m \u001b[0;32mimport\u001b[0m \u001b[0mredirect_stdout\u001b[0m\u001b[0;34m\u001b[0m\u001b[0m\n\u001b[0m\u001b[1;32m      2\u001b[0m \u001b[0;32mwith\u001b[0m \u001b[0mopen\u001b[0m\u001b[0;34m(\u001b[0m\u001b[0;34m'help.txt'\u001b[0m\u001b[0;34m,\u001b[0m \u001b[0;34m'w'\u001b[0m\u001b[0;34m)\u001b[0m \u001b[0;32mas\u001b[0m \u001b[0mf\u001b[0m\u001b[0;34m:\u001b[0m\u001b[0;34m\u001b[0m\u001b[0m\n\u001b[1;32m      3\u001b[0m     \u001b[0;32mwith\u001b[0m \u001b[0mredirect_stdout\u001b[0m\u001b[0;34m(\u001b[0m\u001b[0mf\u001b[0m\u001b[0;34m)\u001b[0m\u001b[0;34m:\u001b[0m\u001b[0;34m\u001b[0m\u001b[0m\n\u001b[1;32m      4\u001b[0m         \u001b[0mhelp\u001b[0m\u001b[0;34m(\u001b[0m\u001b[0mpow\u001b[0m\u001b[0;34m)\u001b[0m\u001b[0;34m\u001b[0m\u001b[0m\n",
        "\u001b[0;31mImportError\u001b[0m: cannot import name redirect_stdout"
       ]
      }
     ],
     "prompt_number": 196
    },
    {
     "cell_type": "code",
     "collapsed": false,
     "input": [
      "import sys\n",
      "from contextlib import contextmanager\n",
      "\n",
      "@contextmanager\n",
      "def redirect_stdout(new_target):\n",
      "    old_target, sys.stdout = sys.stdout, new_target # replace sys.stdout\n",
      "    try:\n",
      "        yield new_target # run some code with the replaced stdout\n",
      "    finally:\n",
      "        sys.stdout = old_target # restore to the previous value"
     ],
     "language": "python",
     "metadata": {},
     "outputs": [],
     "prompt_number": 197
    },
    {
     "cell_type": "code",
     "collapsed": false,
     "input": [
      "with open('help.txt', 'w') as f:\n",
      "    with redirect_stdout(f):\n",
      "        help(sqrt)"
     ],
     "language": "python",
     "metadata": {},
     "outputs": [],
     "prompt_number": 198
    },
    {
     "cell_type": "code",
     "collapsed": false,
     "input": [
      "!cat help.txt"
     ],
     "language": "python",
     "metadata": {},
     "outputs": [
      {
       "output_type": "stream",
       "stream": "stdout",
       "text": [
        "Help on ufunc object:\r\n",
        "\r\n",
        "sqrt = class ufunc(__builtin__.object)\r\n",
        " |  Functions that operate element by element on whole arrays.\r\n",
        " |  \r\n",
        " |  To see the documentation for a specific ufunc, use np.info().  For\r\n",
        " |  example, np.info(np.sin).  Because ufuncs are written in C\r\n",
        " |  (for speed) and linked into Python with NumPy's ufunc facility,\r\n",
        " |  Python's help() function finds this page whenever help() is called\r\n",
        " |  on a ufunc.\r\n",
        " |  \r\n",
        " |  A detailed explanation of ufuncs can be found in the \"ufuncs.rst\"\r\n",
        " |  file in the NumPy reference guide.\r\n",
        " |  \r\n",
        " |  Unary ufuncs:\r\n",
        " |  =============\r\n",
        " |  \r\n",
        " |  op(X, out=None)\r\n",
        " |  Apply op to X elementwise\r\n",
        " |  \r\n",
        " |  Parameters\r\n",
        " |  ----------\r\n",
        " |  X : array_like\r\n",
        " |      Input array.\r\n",
        " |  out : array_like\r\n",
        " |      An array to store the output. Must be the same shape as `X`.\r\n",
        " |  \r\n",
        " |  Returns\r\n",
        " |  -------\r\n",
        " |  r : array_like\r\n",
        " |      `r` will have the same shape as `X`; if out is provided, `r`\r\n",
        " |      will be equal to out.\r\n",
        " |  \r\n",
        " |  Binary ufuncs:\r\n",
        " |  ==============\r\n",
        " |  \r",
        "\r\n",
        " |  op(X, Y, out=None)\r\n",
        " |  Apply `op` to `X` and `Y` elementwise. May \"broadcast\" to make\r\n",
        " |  the shapes of `X` and `Y` congruent.\r\n",
        " |  \r\n",
        " |  The broadcasting rules are:\r\n",
        " |  \r\n",
        " |  * Dimensions of length 1 may be prepended to either array.\r\n",
        " |  * Arrays may be repeated along dimensions of length 1.\r\n",
        " |  \r\n",
        " |  Parameters\r\n",
        " |  ----------\r\n",
        " |  X : array_like\r\n",
        " |      First input array.\r\n",
        " |  Y : array_like\r\n",
        " |      Second input array.\r\n",
        " |  out : array_like\r\n",
        " |      An array to store the output. Must be the same shape as the\r\n",
        " |      output would have.\r\n",
        " |  \r\n",
        " |  Returns\r\n",
        " |  -------\r\n",
        " |  r : array_like\r\n",
        " |      The return value; if out is provided, `r` will be equal to out.\r\n",
        " |  \r\n",
        " |  Methods defined here:\r\n",
        " |  \r\n",
        " |  __call__(...)\r\n",
        " |      x.__call__(...) <==> x(...)\r\n",
        " |  \r\n",
        " |  __repr__(...)\r\n",
        " |      x.__repr__() <==> repr(x)\r\n",
        " |  \r\n",
        " |  __str__(...)\r\n",
        " |      x.__str__() <==> str(x)\r\n",
        " |  \r\n",
        " |  accumulate(...)\r\n",
        " |      accumulate(array, axis=0, dtype=None, out=None)\r\n",
        " |      \r\n",
        " |      Accumulate the result of applying the operator to all elements.\r\n",
        " |      \r\n",
        " |      For a one-dimensional array, accumulate produces results equivalent to::\r\n",
        " |      \r\n",
        " |        r = np.empty(len(A))\r\n",
        " |        t = op.identity        # op = the ufunc being applied to A's  elements\r\n",
        " |        for i in range(len(A)):\r\n",
        " |            t = op(t, A[i])\r\n",
        " |            r[i] = t\r\n",
        " |        return r\r\n",
        " |      \r\n",
        " |      For example, add.accumulate() is equivalent to np.cumsum().\r\n",
        " |      \r\n",
        " |      For a multi-dimensional array, accumulate is applied along only one\r\n",
        " |      axis (axis zero by default; see Examples below) so repeated use is\r\n",
        " |      necessary if one wants to accumulate over multiple axes.\r\n",
        " |      \r\n",
        " |      Parameters\r\n",
        " |      ----------\r\n",
        " |      array : array_like\r\n",
        " |          The array to act on.\r\n",
        " |      axis : int, optional\r\n",
        " |          The axis along which to apply the accumulation; default is zero.\r\n",
        " |      dtype : data-type code, optional\r\n",
        " |          The data-type used to represent the intermediate results. Defaults\r\n",
        " |          to the data-type of the output array if such is provided, or the\r\n",
        " |          the data-type of the input array if no output array is provided.\r\n",
        " |      out : ndarray, optional\r\n",
        " |          A location into which the result is stored. If not provided a\r\n",
        " |          freshly-allocated array is returned.\r\n",
        " |      \r\n",
        " |      Returns\r\n",
        " |      -------\r\n",
        " |      r : ndarray\r\n",
        " |          The accumulated values. If `out` was supplied, `r` is a reference to\r\n",
        " |          `out`.\r\n",
        " |      \r\n",
        " |      Examples\r\n",
        " |      --------\r\n",
        " |      1-D array examples:\r\n",
        " |      \r\n",
        " |      >>> np.add.accumulate([2, 3, 5])\r\n",
        " |      array([ 2,  5, 10])\r\n",
        " |      >>> np.multiply.accumulate([2, 3, 5])\r\n",
        " |      array([ 2,  6, 30])\r\n",
        " |      \r\n",
        " |      2-D array examples:\r\n",
        " |      \r\n",
        " |      >>> I = np.eye(2)\r\n",
        " |      >>> I\r\n",
        " |      array([[ 1.,  0.],\r\n",
        " |             [ 0.,  1.]])\r\n",
        " |      \r\n",
        " |      Accumulate along axis 0 (rows), down columns:\r\n",
        " |      \r\n",
        " |      >>> np.add.accumulate(I, 0)\r\n",
        " |      array([[ 1.,  0.],\r\n",
        " |             [ 1.,  1.]])\r\n",
        " |      >>> np.add.accumulate(I) # no axis specified = axis zero\r\n",
        " |      array([[ 1.,  0.],\r\n",
        " |             [ 1.,  1.]])\r\n",
        " |      \r\n",
        " |      Accumulate along axis 1 (columns), through rows:\r\n",
        " |      \r\n",
        " |      >>> np.add.accumulate(I, 1)\r\n",
        " |      array([[ 1.,  1.],\r\n",
        " |             [ 0.,  1.]])\r\n",
        " |  \r\n",
        " |  at(...)\r\n",
        " |      at(a, indices, b=None)\r\n",
        " |      \r\n",
        " |      Performs unbuffered in place operation on operand 'a' for elements\r\n",
        " |      specified by 'indices'. For addition ufunc, this method is equivalent to\r\n",
        " |      `a[indices] += b`, except that results are accumulated for elements that\r\n",
        " |      are indexed more than once. For example, `a[[0,0]] += 1` will only\r\n",
        " |      increment the first element once because of buffering, whereas\r\n",
        " |      `add.at(a, [0,0], 1)` will increment the first element twice.\r\n",
        " |      \r\n",
        " |      Parameters\r\n",
        " |      ----------\r\n",
        " |      a : array_like\r\n",
        " |          The array to perform in place operation on.\r\n",
        " |      indices : array_like or tuple\r\n",
        " |          Array like index object or slice object for indexing into first\r\n",
        " |          operand. If first operand has multiple dimensions, indices can be a\r\n",
        " |          tuple of array like index objects or slice objects.\r\n",
        " |      b : array_like\r\n",
        " |          Second operand for ufuncs requiring two operands. Operand must be\r\n",
        " |          broadcastable over first operand after indexing or slicing.\r\n",
        " |      \r\n",
        " |      Examples\r\n",
        " |      --------\r\n",
        " |      Set items 0 and 1 to their negative values:\r\n",
        " |      \r\n",
        " |      >>> a = np.array([1, 2, 3, 4])\r\n",
        " |      >>> np.negative.at(a, [0, 1])\r\n",
        " |      >>> print(a)\r\n",
        " |      array([-1, -2, 3, 4])\r\n",
        " |      \r\n",
        " |      ::\r\n",
        " |      \r\n",
        " |      Increment items 0 and 1, and increment item 2 twice:\r\n",
        " |      \r\n",
        " |      >>> a = np.array([1, 2, 3, 4])\r\n",
        " |      >>> np.add.at(a, [0, 1, 2, 2], 1)\r\n",
        " |      >>> print(a)\r\n",
        " |      array([2, 3, 5, 4])\r\n",
        " |      \r\n",
        " |      ::\r\n",
        " |      \r\n",
        " |      Add items 0 and 1 in first array to second array,\r\n",
        " |      and store results in first array:\r\n",
        " |      \r\n",
        " |      >>> a = np.array([1, 2, 3, 4])\r\n",
        " |      >>> b = np.array([1, 2])\r\n",
        " |      >>> np.add.at(a, [0, 1], b)\r\n",
        " |      >>> print(a)\r\n",
        " |      array([2, 4, 3, 4])\r\n",
        " |  \r\n",
        " |  outer(...)\r\n",
        " |      outer(A, B)\r\n",
        " |      \r\n",
        " |      Apply the ufunc `op` to all pairs (a, b) with a in `A` and b in `B`.\r\n",
        " |      \r\n",
        " |      Let ``M = A.ndim``, ``N = B.ndim``. Then the result, `C`, of\r\n",
        " |      ``op.outer(A, B)`` is an array of dimension M + N such that:\r\n",
        " |      \r\n",
        " |      .. math:: C[i_0, ..., i_{M-1}, j_0, ..., j_{N-1}] =\r\n",
        " |         op(A[i_0, ..., i_{M-1}], B[j_0, ..., j_{N-1}])\r\n",
        " |      \r\n",
        " |      For `A` and `B` one-dimensional, this is equivalent to::\r\n",
        " |      \r\n",
        " |        r = empty(len(A),len(B))\r\n",
        " |        for i in range(len(A)):\r\n",
        " |            for j in range(len(B)):\r\n",
        " |                r[i,j] = op(A[i], B[j]) # op = ufunc in question\r\n",
        " |      \r\n",
        " |      Parameters\r\n",
        " |      ----------\r\n",
        " |      A : array_like\r\n",
        " |          First array\r\n",
        " |      B : array_like\r\n",
        " |          Second array\r\n",
        " |      \r\n",
        " |      Returns\r\n",
        " |      -------\r\n",
        " |      r : ndarray\r\n",
        " |          Output array\r\n",
        " |      \r\n",
        " |      See Also\r\n",
        " |      --------\r\n",
        " |      numpy.outer\r\n",
        " |      \r\n",
        " |      Examples\r\n",
        " |      --------\r\n",
        " |      >>> np.multiply.outer([1, 2, 3], [4, 5, 6])\r\n",
        " |      array([[ 4,  5,  6],\r\n",
        " |             [ 8, 10, 12],\r\n",
        " |             [12, 15, 18]])\r\n",
        " |      \r\n",
        " |      A multi-dimensional example:\r\n",
        " |      \r\n",
        " |      >>> A = np.array([[1, 2, 3], [4, 5, 6]])\r\n",
        " |      >>> A.shape\r\n",
        " |      (2, 3)\r\n",
        " |      >>> B = np.array([[1, 2, 3, 4]])\r\n",
        " |      >>> B.shape\r\n",
        " |      (1, 4)\r\n",
        " |      >>> C = np.multiply.outer(A, B)\r\n",
        " |      >>> C.shape; C\r\n",
        " |      (2, 3, 1, 4)\r\n",
        " |      array([[[[ 1,  2,  3,  4]],\r\n",
        " |              [[ 2,  4,  6,  8]],\r\n",
        " |              [[ 3,  6,  9, 12]]],\r\n",
        " |             [[[ 4,  8, 12, 16]],\r\n",
        " |              [[ 5, 10, 15, 20]],\r\n",
        " |              [[ 6, 12, 18, 24]]]])\r\n",
        " |  \r\n",
        " |  reduce(...)\r\n",
        " |      reduce(a, axis=0, dtype=None, out=None, keepdims=False)\r\n",
        " |      \r\n",
        " |      Reduces `a`'s dimension by one, by applying ufunc along one axis.\r\n",
        " |      \r\n",
        " |      Let :math:`a.shape = (N_0, ..., N_i, ..., N_{M-1})`.  Then\r\n",
        " |      :math:`ufunc.reduce(a, axis=i)[k_0, ..,k_{i-1}, k_{i+1}, .., k_{M-1}]` =\r\n",
        " |      the result of iterating `j` over :math:`range(N_i)`, cumulatively applying\r\n",
        " |      ufunc to each :math:`a[k_0, ..,k_{i-1}, j, k_{i+1}, .., k_{M-1}]`.\r\n",
        " |      For a one-dimensional array, reduce produces results equivalent to:\r\n",
        " |      ::\r\n",
        " |      \r\n",
        " |       r = op.identity # op = ufunc\r\n",
        " |       for i in range(len(A)):\r\n",
        " |         r = op(r, A[i])\r\n",
        " |       return r\r\n",
        " |      \r\n",
        " |      For example, add.reduce() is equivalent to sum().\r\n",
        " |      \r\n",
        " |      Parameters\r\n",
        " |      ----------\r\n",
        " |      a : array_like\r\n",
        " |          The array to act on.\r\n",
        " |      axis : None or int or tuple of ints, optional\r\n",
        " |          Axis or axes along which a reduction is performed.\r\n",
        " |          The default (`axis` = 0) is perform a reduction over the first\r\n",
        " |          dimension of the input array. `axis` may be negative, in\r\n",
        " |          which case it counts from the last to the first axis.\r\n",
        " |      \r\n",
        " |          .. versionadded:: 1.7.0\r\n",
        " |      \r\n",
        " |          If this is `None`, a reduction is performed over all the axes.\r\n",
        " |          If this is a tuple of ints, a reduction is performed on multiple\r\n",
        " |          axes, instead of a single axis or all the axes as before.\r\n",
        " |      \r\n",
        " |          For operations which are either not commutative or not associative,\r\n",
        " |          doing a reduction over multiple axes is not well-defined. The\r\n",
        " |          ufuncs do not currently raise an exception in this case, but will\r\n",
        " |          likely do so in the future.\r\n",
        " |      dtype : data-type code, optional\r\n",
        " |          The type used to represent the intermediate results. Defaults\r\n",
        " |          to the data-type of the output array if this is provided, or\r\n",
        " |          the data-type of the input array if no output array is provided.\r\n",
        " |      out : ndarray, optional\r\n",
        " |          A location into which the result is stored. If not provided, a\r\n",
        " |          freshly-allocated array is returned.\r\n",
        " |      keepdims : bool, optional\r\n",
        " |          If this is set to True, the axes which are reduced are left\r\n",
        " |          in the result as dimensions with size one. With this option,\r\n",
        " |          the result will broadcast correctly against the original `arr`.\r\n",
        " |      \r\n",
        " |      Returns\r\n",
        " |      -------\r\n",
        " |      r : ndarray\r\n",
        " |          The reduced array. If `out` was supplied, `r` is a reference to it.\r\n",
        " |      \r\n",
        " |      Examples\r\n",
        " |      --------\r\n",
        " |      >>> np.multiply.reduce([2,3,5])\r\n",
        " |      30\r\n",
        " |      \r\n",
        " |      A multi-dimensional array example:\r\n",
        " |      \r\n",
        " |      >>> X = np.arange(8).reshape((2,2,2))\r\n",
        " |      >>> X\r\n",
        " |      array([[[0, 1],\r\n",
        " |              [2, 3]],\r\n",
        " |             [[4, 5],\r\n",
        " |              [6, 7]]])\r\n",
        " |      >>> np.add.reduce(X, 0)\r\n",
        " |      array([[ 4,  6],\r\n",
        " |             [ 8, 10]])\r\n",
        " |      >>> np.add.reduce(X) # confirm: default axis value is 0\r\n",
        " |      array([[ 4,  6],\r\n",
        " |             [ 8, 10]])\r\n",
        " |      >>> np.add.reduce(X, 1)\r\n",
        " |      array([[ 2,  4],\r\n",
        " |             [10, 12]])\r\n",
        " |      >>> np.add.reduce(X, 2)\r\n",
        " |      array([[ 1,  5],\r\n",
        " |             [ 9, 13]])\r\n",
        " |  \r\n",
        " |  reduceat(...)\r\n",
        " |      reduceat(a, indices, axis=0, dtype=None, out=None)\r\n",
        " |      \r\n",
        " |      Performs a (local) reduce with specified slices over a single axis.\r\n",
        " |      \r\n",
        " |      For i in ``range(len(indices))``, `reduceat` computes\r\n",
        " |      ``ufunc.reduce(a[indices[i]:indices[i+1]])``, which becomes the i-th\r\n",
        " |      generalized \"row\" parallel to `axis` in the final result (i.e., in a\r\n",
        " |      2-D array, for example, if `axis = 0`, it becomes the i-th row, but if\r\n",
        " |      `axis = 1`, it becomes the i-th column).  There are two exceptions to this:\r\n",
        " |      \r\n",
        " |        * when ``i = len(indices) - 1`` (so for the last index),\r\n",
        " |          ``indices[i+1] = a.shape[axis]``.\r\n",
        " |        * if ``indices[i] >= indices[i + 1]``, the i-th generalized \"row\" is\r\n",
        " |          simply ``a[indices[i]]``.\r\n",
        " |      \r\n",
        " |      The shape of the output depends on the size of `indices`, and may be\r\n",
        " |      larger than `a` (this happens if ``len(indices) > a.shape[axis]``).\r\n",
        " |      \r\n",
        " |      Parameters\r\n",
        " |      ----------\r\n",
        " |      a : array_like\r\n",
        " |          The array to act on.\r\n",
        " |      indices : array_like\r\n",
        " |          Paired indices, comma separated (not colon), specifying slices to\r\n",
        " |          reduce.\r\n",
        " |      axis : int, optional\r\n",
        " |          The axis along which to apply the reduceat.\r\n",
        " |      dtype : data-type code, optional\r\n",
        " |          The type used to represent the intermediate results. Defaults\r\n",
        " |          to the data type of the output array if this is provided, or\r\n",
        " |          the data type of the input array if no output array is provided.\r\n",
        " |      out : ndarray, optional\r\n",
        " |          A location into which the result is stored. If not provided a\r\n",
        " |          freshly-allocated array is returned.\r\n",
        " |      \r\n",
        " |      Returns\r\n",
        " |      -------\r\n",
        " |      r : ndarray\r\n",
        " |          The reduced values. If `out` was supplied, `r` is a reference to\r\n",
        " |          `out`.\r\n",
        " |      \r\n",
        " |      Notes\r\n",
        " |      -----\r\n",
        " |      A descriptive example:\r\n",
        " |      \r\n",
        " |      If `a` is 1-D, the function `ufunc.accumulate(a)` is the same as\r\n",
        " |      ``ufunc.reduceat(a, indices)[::2]`` where `indices` is\r\n",
        " |      ``range(len(array) - 1)`` with a zero placed\r\n",
        " |      in every other element:\r\n",
        " |      ``indices = zeros(2 * len(a) - 1)``, ``indices[1::2] = range(1, len(a))``.\r\n",
        " |      \r\n",
        " |      Don't be fooled by this attribute's name: `reduceat(a)` is not\r\n",
        " |      necessarily smaller than `a`.\r\n",
        " |      \r\n",
        " |      Examples\r\n",
        " |      --------\r\n",
        " |      To take the running sum of four successive values:\r\n",
        " |      \r\n",
        " |      >>> np.add.reduceat(np.arange(8),[0,4, 1,5, 2,6, 3,7])[::2]\r\n",
        " |      array([ 6, 10, 14, 18])\r\n",
        " |      \r\n",
        " |      A 2-D example:\r\n",
        " |      \r\n",
        " |      >>> x = np.linspace(0, 15, 16).reshape(4,4)\r\n",
        " |      >>> x\r\n",
        " |      array([[  0.,   1.,   2.,   3.],\r\n",
        " |             [  4.,   5.,   6.,   7.],\r\n",
        " |             [  8.,   9.,  10.,  11.],\r\n",
        " |             [ 12.,  13.,  14.,  15.]])\r\n",
        " |      \r\n",
        " |      ::\r\n",
        " |      \r\n",
        " |       # reduce such that the result has the following five rows:\r\n",
        " |       # [row1 + row2 + row3]\r\n",
        " |       # [row4]\r\n",
        " |       # [row2]\r\n",
        " |       # [row3]\r\n",
        " |       # [row1 + row2 + row3 + row4]\r\n",
        " |      \r\n",
        " |      >>> np.add.reduceat(x, [0, 3, 1, 2, 0])\r\n",
        " |      array([[ 12.,  15.,  18.,  21.],\r\n",
        " |             [ 12.,  13.,  14.,  15.],\r\n",
        " |             [  4.,   5.,   6.,   7.],\r\n",
        " |             [  8.,   9.,  10.,  11.],\r\n",
        " |             [ 24.,  28.,  32.,  36.]])\r\n",
        " |      \r\n",
        " |      ::\r\n",
        " |      \r\n",
        " |       # reduce such that result has the following two columns:\r\n",
        " |       # [col1 * col2 * col3, col4]\r\n",
        " |      \r\n",
        " |      >>> np.multiply.reduceat(x, [0, 3], 1)\r\n",
        " |      array([[    0.,     3.],\r\n",
        " |             [  120.,     7.],\r\n",
        " |             [  720.,    11.],\r\n",
        " |             [ 2184.,    15.]])\r\n",
        " |  \r\n",
        " |  ----------------------------------------------------------------------\r\n",
        " |  Data descriptors defined here:\r\n",
        " |  \r\n",
        " |  identity\r\n",
        " |      The identity value.\r\n",
        " |      \r\n",
        " |      Data attribute containing the identity element for the ufunc, if it has one.\r\n",
        " |      If it does not, the attribute value is None.\r\n",
        " |      \r\n",
        " |      Examples\r\n",
        " |      --------\r\n",
        " |      >>> np.add.identity\r\n",
        " |      0\r\n",
        " |      >>> np.multiply.identity\r\n",
        " |      1\r\n",
        " |      >>> np.power.identity\r\n",
        " |      1\r\n",
        " |      >>> print np.exp.identity\r\n",
        " |      None\r\n",
        " |  \r\n",
        " |  nargs\r\n",
        " |      The number of arguments.\r\n",
        " |      \r\n",
        " |      Data attribute containing the number of arguments the ufunc takes, including\r\n",
        " |      optional ones.\r\n",
        " |      \r\n",
        " |      Notes\r\n",
        " |      -----\r\n",
        " |      Typically this value will be one more than what you might expect because all\r\n",
        " |      ufuncs take  the optional \"out\" argument.\r\n",
        " |      \r\n",
        " |      Examples\r\n",
        " |      --------\r\n",
        " |      >>> np.add.nargs\r\n",
        " |      3\r\n",
        " |      >>> np.multiply.nargs\r\n",
        " |      3\r\n",
        " |      >>> np.power.nargs\r\n",
        " |      3\r\n",
        " |      >>> np.exp.nargs\r\n",
        " |      2\r\n",
        " |  \r\n",
        " |  nin\r\n",
        " |      The number of inputs.\r\n",
        " |      \r\n",
        " |      Data attribute containing the number of arguments the ufunc treats as input.\r\n",
        " |      \r\n",
        " |      Examples\r\n",
        " |      --------\r\n",
        " |      >>> np.add.nin\r\n",
        " |      2\r\n",
        " |      >>> np.multiply.nin\r\n",
        " |      2\r\n",
        " |      >>> np.power.nin\r\n",
        " |      2\r\n",
        " |      >>> np.exp.nin\r\n",
        " |      1\r\n",
        " |  \r\n",
        " |  nout\r\n",
        " |      The number of outputs.\r\n",
        " |      \r\n",
        " |      Data attribute containing the number of arguments the ufunc treats as output.\r\n",
        " |      \r\n",
        " |      Notes\r\n",
        " |      -----\r\n",
        " |      Since all ufuncs can take output arguments, this will always be (at least) 1.\r\n",
        " |      \r\n",
        " |      Examples\r\n",
        " |      --------\r\n",
        " |      >>> np.add.nout\r\n",
        " |      1\r\n",
        " |      >>> np.multiply.nout\r\n",
        " |      1\r\n",
        " |      >>> np.power.nout\r\n",
        " |      1\r\n",
        " |      >>> np.exp.nout\r\n",
        " |      1\r\n",
        " |  \r\n",
        " |  ntypes\r\n",
        " |      The number of types.\r\n",
        " |      \r\n",
        " |      The number of numerical NumPy types - of which there are 18 total - on which\r\n",
        " |      the ufunc can operate.\r\n",
        " |      \r\n",
        " |      See Also\r\n",
        " |      --------\r\n",
        " |      numpy.ufunc.types\r\n",
        " |      \r\n",
        " |      Examples\r\n",
        " |      --------\r\n",
        " |      >>> np.add.ntypes\r\n",
        " |      18\r\n",
        " |      >>> np.multiply.ntypes\r\n",
        " |      18\r\n",
        " |      >>> np.power.ntypes\r\n",
        " |      17\r\n",
        " |      >>> np.exp.ntypes\r\n",
        " |      7\r\n",
        " |      >>> np.remainder.ntypes\r\n",
        " |      14\r\n",
        " |  \r\n",
        " |  signature\r\n",
        " |  \r\n",
        " |  types\r\n",
        " |      Returns a list with types grouped input->output.\r\n",
        " |      \r\n",
        " |      Data attribute listing the data-type \"Domain-Range\" groupings the ufunc can\r\n",
        " |      deliver. The data-types are given using the character codes.\r\n",
        " |      \r\n",
        " |      See Also\r\n",
        " |      --------\r\n",
        " |      numpy.ufunc.ntypes\r\n",
        " |      \r\n",
        " |      Examples\r\n",
        " |      --------\r\n",
        " |      >>> np.add.types\r\n",
        " |      ['??->?', 'bb->b', 'BB->B', 'hh->h', 'HH->H', 'ii->i', 'II->I', 'll->l',\r\n",
        " |      'LL->L', 'qq->q', 'QQ->Q', 'ff->f', 'dd->d', 'gg->g', 'FF->F', 'DD->D',\r\n",
        " |      'GG->G', 'OO->O']\r\n",
        " |      \r\n",
        " |      >>> np.multiply.types\r\n",
        " |      ['??->?', 'bb->b', 'BB->B', 'hh->h', 'HH->H', 'ii->i', 'II->I', 'll->l',\r\n",
        " |      'LL->L', 'qq->q', 'QQ->Q', 'ff->f', 'dd->d', 'gg->g', 'FF->F', 'DD->D',\r\n",
        " |      'GG->G', 'OO->O']\r\n",
        " |      \r\n",
        " |      >>> np.power.types\r\n",
        " |      ['bb->b', 'BB->B', 'hh->h', 'HH->H', 'ii->i', 'II->I', 'll->l', 'LL->L',\r\n",
        " |      'qq->q', 'QQ->Q', 'ff->f', 'dd->d', 'gg->g', 'FF->F', 'DD->D', 'GG->G',\r\n",
        " |      'OO->O']\r\n",
        " |      \r\n",
        " |      >>> np.exp.types\r\n",
        " |      ['f->f', 'd->d', 'g->g', 'F->F', 'D->D', 'G->G', 'O->O']\r\n",
        " |      \r\n",
        " |      >>> np.remainder.types\r\n",
        " |      ['bb->b', 'BB->B', 'hh->h', 'HH->H', 'ii->i', 'II->I', 'll->l', 'LL->L',\r\n",
        " |      'qq->q', 'QQ->Q', 'ff->f', 'dd->d', 'gg->g', 'OO->O']\r\n",
        "\r\n"
       ]
      }
     ],
     "prompt_number": 199
    },
    {
     "cell_type": "markdown",
     "metadata": {},
     "source": [
      "## Context manager: redirect_stdout()\n",
      "\n",
      "- \uc774\uac83\ub3c4 \ub4a4\uc5d0 \ub098\uc624\ub124.. \uadf8\ub798\ub3c4 \uac80\uc0c9\ud574\uc11c \ube68\ub9ac \ucc3e\uc544\ub0c8\ub2e4.\n",
      "\n",
      "## Concise Expressive One-Liners\n",
      "\n",
      "### 2\uac00\uc9c0 \uac08\ub4f1 \ub8f0:\n",
      "\n",
      "1. 1\uc904\uc5d0 \ub108\ubb34 \ub9ce\uc774 \ub123\uc9c0 \ub9c8\ub77c\n",
      "2. Don't break atoms of thought into subatomic particles\n",
      "\n",
      "## Raymond's rule:\n",
      "\n",
      "- 1\uac00\uc9c0 \ub17c\ub9ac\uc801\uc778 \ucf54\ub4dc \ub77c\uc778\uc740 1\ubb38\uc7a5 \uc548\uc5d0 English\ub85c \ub3d9\ub4f1\ud558\uac8c\n",
      "\n",
      "## List Comprehensions and Generator Expressions"
     ]
    },
    {
     "cell_type": "code",
     "collapsed": false,
     "input": [
      "result = []"
     ],
     "language": "python",
     "metadata": {},
     "outputs": [],
     "prompt_number": 200
    },
    {
     "cell_type": "code",
     "collapsed": false,
     "input": [
      "for i in range(10):\n",
      "    s = i ** 2\n",
      "    result.append(s)\n",
      "print sum(result)"
     ],
     "language": "python",
     "metadata": {},
     "outputs": [
      {
       "output_type": "stream",
       "stream": "stdout",
       "text": [
        "285\n"
       ]
      }
     ],
     "prompt_number": 201
    },
    {
     "cell_type": "code",
     "collapsed": false,
     "input": [
      "print sum([i**2 for i in xrange(10)])"
     ],
     "language": "python",
     "metadata": {},
     "outputs": [
      {
       "output_type": "stream",
       "stream": "stdout",
       "text": [
        "285\n"
       ]
      }
     ],
     "prompt_number": 202
    },
    {
     "cell_type": "code",
     "collapsed": false,
     "input": [
      "# []\uac00 \uc5c6\uc5b4\ub3c4 \ub418\ub124?!\n",
      "print sum(i**2 for i in xrange(10))"
     ],
     "language": "python",
     "metadata": {},
     "outputs": [
      {
       "output_type": "stream",
       "stream": "stdout",
       "text": [
        "285\n"
       ]
      }
     ],
     "prompt_number": 203
    },
    {
     "cell_type": "markdown",
     "metadata": {},
     "source": [
      "### \ud6c4\uae30\n",
      "\n",
      "- \ud6c4\uc544.. \uc774\uac70 \uae08\ubc29 \ub05d\ub0a0\uc904 \uc54c\uc558\ub294\ub370 \uc2dc\uac04\uc774 \uaf64 \uac78\ub838\ub2e4.\n",
      "- 2014.05.22 20:00 ~ 2014.05.23 04:00. \uc57d 8\uc2dc\uac04 \uac78\ub9bc\n",
      "- \ud55c 60%\ub294 \uc6d0\ub798 \uc54c\uace0 \uc788\uc5c8\ub294\ub370 \uc774\ub807\uac8c \uc815\ub9ac\ud558\uba74\uc11c \ubc30\uc6b0\ub2c8 \uc7ac\ubc0c\ub124.\n",
      "- \uc81c\uc77c \uc2dc\uac04\uc774 \uc624\ub798 \uac78\ub9b0\uac74 decorator \ubd80\ubd84. \uc800\ubc88\uc5d0\ub3c4 decorator \uacf5\ubd80\ud588\ub294\ub370 \ub610 \uae4c\uba39\uc5c8\ub2e4. \uc800\ubc88\uc5d0 \ucc38\uace0\ud588\ub358 \ubc88\uc5ed\uae00 \ub610 \ucc38\uace0\ud558\uba74\uc11c \ubd24\ub2e4. \uc774\uc81c\ub294 \uae54\ub054\ud558\uac8c \uc815\ub9ac\ud588\uc73c\ub2c8 \uc774\ud574\uac00 \uc798 \ub418\uaca0\uc9c0?!\n",
      "- \uc5ed\uc2dc \uacf5\uac1c\ud558\ub824\uace0 \ub9c8\uc74c \uba39\ub294\uac8c \ucc38 \uacf5\ubd80\uc778\ub4ef.. \ub300\ucda9\ub300\ucda9 \ud558\uc9c0 \uc54a\uac8c \ub418\ub2c8\uae4c!"
     ]
    }
   ],
   "metadata": {}
  }
 ]
}