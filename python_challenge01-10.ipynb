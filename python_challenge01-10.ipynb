{
 "metadata": {
  "name": ""
 },
 "nbformat": 3,
 "nbformat_minor": 0,
 "worksheets": [
  {
   "cells": [
    {
     "cell_type": "markdown",
     "metadata": {},
     "source": [
      "# [Python challenge 0](http://www.pythonchallenge.com/pc/def/274877906944)"
     ]
    },
    {
     "cell_type": "code",
     "collapsed": false,
     "input": [
      "# Do you know binary compute?\n",
      "2 ** 38"
     ],
     "language": "python",
     "metadata": {},
     "outputs": [
      {
       "metadata": {},
       "output_type": "pyout",
       "prompt_number": 34,
       "text": [
        "274877906944"
       ]
      }
     ],
     "prompt_number": 34
    },
    {
     "cell_type": "markdown",
     "metadata": {},
     "source": [
      "http://www.pythonchallenge.com/pc/def/274877906944.html"
     ]
    },
    {
     "cell_type": "markdown",
     "metadata": {},
     "source": [
      "# [Python challenge 1](http://www.pythonchallenge.com/pc/def/map.html)\n",
      "\n",
      "- K -> M\n",
      "- O -> Q\n",
      "- E -> G"
     ]
    },
    {
     "cell_type": "code",
     "collapsed": false,
     "input": [
      "encrypt = '''g fmnc wms bgblr rpylqjyrc gr zw fylb. rfyrq ufyr amknsrcpq ypc dmp. bmgle gr gl zw fylb gq glcddgagclr ylb rfyr'q ufw rfgq rcvr gq qm jmle. sqgle qrpgle.kyicrpylq() gq pcamkkclbcb. lmu ynnjw ml rfc spj.'''"
     ],
     "language": "python",
     "metadata": {
      "slideshow": {
       "slide_type": "-"
      }
     },
     "outputs": [],
     "prompt_number": 3
    },
    {
     "cell_type": "code",
     "collapsed": false,
     "input": [
      "ord('A') + 2, chr(ord('A') + 2)"
     ],
     "language": "python",
     "metadata": {},
     "outputs": [
      {
       "metadata": {},
       "output_type": "pyout",
       "prompt_number": 40,
       "text": [
        "(67, 'C')"
       ]
      }
     ],
     "prompt_number": 40
    },
    {
     "cell_type": "markdown",
     "metadata": {},
     "source": [
      "## \ub0b4\uac00 \uad6c\ud604\ud55c \uc18c\uc2a4\ucf54\ub4dc\n",
      "\n",
      "- \uad49\uc7a5\ud788 \uc9c0\uc800\ubd84\ud558\ub2e4.\n",
      "- \ud558\ub4dc \ucf54\ub529\ud55c \uc0c1\ud0dc\ub77c\uc11c \uc5b4\ub514 \ub0b4\ub193\uae30\uac00 \ubd80\ub044\ub7fd\ub124..\n",
      "- if, elif, else\ubb38\uc73c\ub85c \ub204\ub354\uae30 \ucf54\ub4dc\uac00 \ub428"
     ]
    },
    {
     "cell_type": "code",
     "collapsed": false,
     "input": [
      "import string\n",
      "\n",
      "result = []\n",
      "for char in encrypt:\n",
      "    if char in string.ascii_lowercase:\n",
      "        if char == 'y':\n",
      "            char = 'a'\n",
      "            result.append(char)\n",
      "        elif char == 'z':\n",
      "            char = 'b'\n",
      "            result.append(char)\n",
      "        else:\n",
      "            result.append( chr( ord(char) + 2) )\n",
      "    else:\n",
      "        result.append(char)\n",
      "print ''.join(result)"
     ],
     "language": "python",
     "metadata": {},
     "outputs": [
      {
       "output_type": "stream",
       "stream": "stdout",
       "text": [
        "i hope you didnt translate it by hand. thats what computers are for. doing it in by hand is inefficient and that's why this text is so long. using string.maketrans() is recommended. now apply on the url.\n"
       ]
      }
     ],
     "prompt_number": 81
    },
    {
     "cell_type": "markdown",
     "metadata": {},
     "source": [
      "## \uac01\uc885 \ubcc0\ud658 \uc5f0\uc0b0\uc790\uc5d0 \ub300\ud574"
     ]
    },
    {
     "cell_type": "code",
     "collapsed": false,
     "input": [
      "# ord(string) -> integer\n",
      "ord('A')"
     ],
     "language": "python",
     "metadata": {},
     "outputs": [
      {
       "metadata": {},
       "output_type": "pyout",
       "prompt_number": 71,
       "text": [
        "65"
       ]
      }
     ],
     "prompt_number": 71
    },
    {
     "cell_type": "code",
     "collapsed": false,
     "input": [
      "# chr(i) -> character\n",
      "chr(65)"
     ],
     "language": "python",
     "metadata": {},
     "outputs": [
      {
       "metadata": {},
       "output_type": "pyout",
       "prompt_number": 72,
       "text": [
        "'A'"
       ]
      }
     ],
     "prompt_number": 72
    },
    {
     "cell_type": "code",
     "collapsed": false,
     "input": [
      "# bin(number) -> string\n",
      "bin(65)"
     ],
     "language": "python",
     "metadata": {},
     "outputs": [
      {
       "metadata": {},
       "output_type": "pyout",
       "prompt_number": 73,
       "text": [
        "'0b1000001'"
       ]
      }
     ],
     "prompt_number": 73
    },
    {
     "cell_type": "code",
     "collapsed": false,
     "input": [
      "# hex(number) -> string\n",
      "hex(65)"
     ],
     "language": "python",
     "metadata": {},
     "outputs": [
      {
       "metadata": {},
       "output_type": "pyout",
       "prompt_number": 74,
       "text": [
        "'0x41'"
       ]
      }
     ],
     "prompt_number": 74
    },
    {
     "cell_type": "markdown",
     "metadata": {},
     "source": [
      "## \uac1c\uc120 \ubc84\uc8041"
     ]
    },
    {
     "cell_type": "code",
     "collapsed": false,
     "input": [
      "def trans(encrypt):\n",
      "    result = []\n",
      "    for char in encrypt:\n",
      "        if char in string.ascii_lowercase:\n",
      "            if char == 'y':\n",
      "                char = 'a'\n",
      "                result.append(char)\n",
      "            elif char == 'z':\n",
      "                char = 'b'\n",
      "                result.append(char)\n",
      "            else:\n",
      "                result.append( chr( ord(char) + 2) )\n",
      "        else:\n",
      "            result.append(char)\n",
      "    return ''.join(result)\n",
      "\n",
      "print trans(encrypt)\n",
      "print trans('map')"
     ],
     "language": "python",
     "metadata": {},
     "outputs": [
      {
       "output_type": "stream",
       "stream": "stdout",
       "text": [
        "i hope you didnt translate it by hand. thats what computers are for. doing it in by hand is inefficient and that's why this text is so long. using string.maketrans() is recommended. now apply on the url.\n",
        "ocr\n"
       ]
      }
     ],
     "prompt_number": 70
    },
    {
     "cell_type": "markdown",
     "metadata": {},
     "source": [
      "## Another Source1"
     ]
    },
    {
     "cell_type": "code",
     "collapsed": false,
     "input": [
      "import string\n",
      "\n",
      "original = \"g fmnc wms bgblr rpylqjyrc gr zw fylb. rfyrq ufyr amknsrcpq ypc \" \\\n",
      "    \"dmp. bmgle gr gl zw fylb gq glcddgagclr ylb rfyr'q ufw rfgq \" \\\n",
      "    \"rcvr gq qm jmle. sqgle qrpgle.kyicrpylq() gq pcamkkclbcb. lmu \" \\\n",
      "    \"ynnjw ml rfc spj.\"\n",
      "\n",
      "table = string.maketrans(\n",
      "    \"abcdefghijklmnopqrstuvwxyz\", \"cdefghijklmnopqrstuvwxyzab\"\n",
      ")\n",
      "\n",
      "print original.translate(table)\n",
      "\n",
      "# now apply on the url\n",
      "'map'.translate(table)"
     ],
     "language": "python",
     "metadata": {},
     "outputs": [
      {
       "output_type": "stream",
       "stream": "stdout",
       "text": [
        "i hope you didnt translate it by hand. thats what computers are for. doing it in by hand is inefficient and that's why this text is so long. using string.maketrans() is recommended. now apply on the url.\n"
       ]
      },
      {
       "metadata": {},
       "output_type": "pyout",
       "prompt_number": 50,
       "text": [
        "'ocr'"
       ]
      }
     ],
     "prompt_number": 50
    },
    {
     "cell_type": "markdown",
     "metadata": {},
     "source": [
      "## Another Source1 vs Another Source2\n",
      "\n",
      "- string.translate: string\uc744 \uae30\uc900\uc73c\ub85c \ud588\uc73c\uba74 \ubcc0\ud560 string, table\uc744 \ub118\uaca8\uc57c \ub418\uace0\n",
      "- original.translate: \uc774\ubbf8 string\uc778 original\uc774 \uc788\uae30 \ub54c\ubb38\uc5d0 table\ub9cc \ub118\uae30\uba74 \ub41c\ub2e4."
     ]
    },
    {
     "cell_type": "code",
     "collapsed": false,
     "input": [
      "# \uc774\uac74 \uc778\uc790\ub97c 1\uac1c\ub9cc \ub118\uaca8\ub3c4 \ub41c\ub2e4.\n",
      "# original\uc774 string \uc774\uae30 \ub54c\ubb38\n",
      "help(original.translate)"
     ],
     "language": "python",
     "metadata": {},
     "outputs": [
      {
       "output_type": "stream",
       "stream": "stdout",
       "text": [
        "Help on built-in function translate:\n",
        "\n",
        "translate(...)\n",
        "    S.translate(table [,deletechars]) -> string\n",
        "    \n",
        "    Return a copy of the string S, where all characters occurring\n",
        "    in the optional argument deletechars are removed, and the\n",
        "    remaining characters have been mapped through the given\n",
        "    translation table, which must be a string of length 256 or None.\n",
        "    If the table argument is None, no translation is applied and\n",
        "    the operation simply removes the characters in deletechars.\n",
        "\n"
       ]
      }
     ],
     "prompt_number": 75
    },
    {
     "cell_type": "code",
     "collapsed": false,
     "input": [
      "# \uc774\uac74 \uc778\uc790\ub97c 2\uac1c \ub118\uaca8\uc57c \ub418\ub294\ub370\n",
      "help(string.translate)"
     ],
     "language": "python",
     "metadata": {},
     "outputs": [
      {
       "output_type": "stream",
       "stream": "stdout",
       "text": [
        "Help on function translate in module string:\n",
        "\n",
        "translate(s, table, deletions='')\n",
        "    translate(s,table [,deletions]) -> string\n",
        "    \n",
        "    Return a copy of the string s, where all characters occurring\n",
        "    in the optional argument deletions are removed, and the\n",
        "    remaining characters have been mapped through the given\n",
        "    translation table, which must be a string of length 256.  The\n",
        "    deletions argument is not allowed for Unicode strings.\n",
        "\n"
       ]
      }
     ],
     "prompt_number": 76
    },
    {
     "cell_type": "markdown",
     "metadata": {},
     "source": [
      "## Another Source2"
     ]
    },
    {
     "cell_type": "code",
     "collapsed": false,
     "input": [
      "import string\n",
      " \n",
      "data_new = []\n",
      "i = 0\n",
      " \n",
      "# file_name = raw_input(\"Enter name of the data file: \")\n",
      "# file_open = open(file_name,'r')\n",
      "# file_data = file_open.read()\n",
      "\n",
      "encrypt = '''g fmnc wms bgblr rpylqjyrc gr zw fylb. rfyrq ufyr amknsrcpq ypc dmp. bmgle gr gl zw fylb gq glcddgagclr ylb rfyr'q ufw rfgq rcvr gq qm jmle. sqgle qrpgle.kyicrpylq() gq pcamkkclbcb. lmu ynnjw ml rfc spj.'''\n",
      " \n",
      "unenc = \"cdefghijklmnopqrstuvwxyzab\"\n",
      "enc = \"abcdefghijklmnopqrstuvwxyz\"\n",
      "data = string.maketrans(enc, unenc)\n",
      " \n",
      "print string.translate(encrypt, data)"
     ],
     "language": "python",
     "metadata": {},
     "outputs": [
      {
       "output_type": "stream",
       "stream": "stdout",
       "text": [
        "i hope you didnt translate it by hand. thats what computers are for. doing it in by hand is inefficient and that's why this text is so long. using string.maketrans() is recommended. now apply on the url.\n"
       ]
      }
     ],
     "prompt_number": 66
    },
    {
     "cell_type": "markdown",
     "metadata": {},
     "source": [
      "## maketrans source in string.py"
     ]
    },
    {
     "cell_type": "code",
     "collapsed": false,
     "input": [
      "help(map)"
     ],
     "language": "python",
     "metadata": {},
     "outputs": [
      {
       "output_type": "stream",
       "stream": "stdout",
       "text": [
        "Help on built-in function map in module __builtin__:\n",
        "\n",
        "map(...)\n",
        "    map(function, sequence[, sequence, ...]) -> list\n",
        "    \n",
        "    Return a list of the results of applying the function to the items of\n",
        "    the argument sequence(s).  If more than one sequence is given, the\n",
        "    function is called with an argument list consisting of the corresponding\n",
        "    item of each sequence, substituting None for missing values when not all\n",
        "    sequences have the same length.  If the function is None, return a list of\n",
        "    the items of the sequence (or a list of tuples if more than one sequence).\n",
        "\n"
       ]
      }
     ],
     "prompt_number": 77
    },
    {
     "cell_type": "code",
     "collapsed": false,
     "input": [
      "# Construct a translation string\n",
      "_idmapL = None\n",
      "\n",
      "def maketrans(fromstr, tostr):\n",
      "    \"\"\"maketrans(frm, to) -> string\n",
      "\n",
      "    Return a translation table (a string of 256 bytes long)\n",
      "    suitable for use in string.translate.  The strings frm and to\n",
      "    must be of the same length.\n",
      "\n",
      "    \"\"\"\n",
      "    # compare length from string and to string.\n",
      "    if len(fromstr) != len(tostr):\n",
      "        raise ValueError, \"maketrans arguments must have same length\"\n",
      "    global _idmapL\n",
      "    if not _idmapL:\n",
      "        _idmapL = list(_idmap)\n",
      "    L = _idmapL[:]\n",
      "    fromstr = map(ord, fromstr)\n",
      "    for i in range(len(fromstr)):\n",
      "        L[fromstr[i]] = tostr[i]\n",
      "    return ''.join(L)"
     ],
     "language": "python",
     "metadata": {},
     "outputs": [],
     "prompt_number": 59
    },
    {
     "cell_type": "code",
     "collapsed": false,
     "input": [
      "l = map(chr, xrange(256))\n",
      "_idmap = str('').join(l)"
     ],
     "language": "python",
     "metadata": {},
     "outputs": [],
     "prompt_number": 56
    },
    {
     "cell_type": "code",
     "collapsed": false,
     "input": [
      "l"
     ],
     "language": "python",
     "metadata": {},
     "outputs": [
      {
       "metadata": {},
       "output_type": "pyout",
       "prompt_number": 57,
       "text": [
        "['\\x00',\n",
        " '\\x01',\n",
        " '\\x02',\n",
        " '\\x03',\n",
        " '\\x04',\n",
        " '\\x05',\n",
        " '\\x06',\n",
        " '\\x07',\n",
        " '\\x08',\n",
        " '\\t',\n",
        " '\\n',\n",
        " '\\x0b',\n",
        " '\\x0c',\n",
        " '\\r',\n",
        " '\\x0e',\n",
        " '\\x0f',\n",
        " '\\x10',\n",
        " '\\x11',\n",
        " '\\x12',\n",
        " '\\x13',\n",
        " '\\x14',\n",
        " '\\x15',\n",
        " '\\x16',\n",
        " '\\x17',\n",
        " '\\x18',\n",
        " '\\x19',\n",
        " '\\x1a',\n",
        " '\\x1b',\n",
        " '\\x1c',\n",
        " '\\x1d',\n",
        " '\\x1e',\n",
        " '\\x1f',\n",
        " ' ',\n",
        " '!',\n",
        " '\"',\n",
        " '#',\n",
        " '$',\n",
        " '%',\n",
        " '&',\n",
        " \"'\",\n",
        " '(',\n",
        " ')',\n",
        " '*',\n",
        " '+',\n",
        " ',',\n",
        " '-',\n",
        " '.',\n",
        " '/',\n",
        " '0',\n",
        " '1',\n",
        " '2',\n",
        " '3',\n",
        " '4',\n",
        " '5',\n",
        " '6',\n",
        " '7',\n",
        " '8',\n",
        " '9',\n",
        " ':',\n",
        " ';',\n",
        " '<',\n",
        " '=',\n",
        " '>',\n",
        " '?',\n",
        " '@',\n",
        " 'A',\n",
        " 'B',\n",
        " 'C',\n",
        " 'D',\n",
        " 'E',\n",
        " 'F',\n",
        " 'G',\n",
        " 'H',\n",
        " 'I',\n",
        " 'J',\n",
        " 'K',\n",
        " 'L',\n",
        " 'M',\n",
        " 'N',\n",
        " 'O',\n",
        " 'P',\n",
        " 'Q',\n",
        " 'R',\n",
        " 'S',\n",
        " 'T',\n",
        " 'U',\n",
        " 'V',\n",
        " 'W',\n",
        " 'X',\n",
        " 'Y',\n",
        " 'Z',\n",
        " '[',\n",
        " '\\\\',\n",
        " ']',\n",
        " '^',\n",
        " '_',\n",
        " '`',\n",
        " 'a',\n",
        " 'b',\n",
        " 'c',\n",
        " 'd',\n",
        " 'e',\n",
        " 'f',\n",
        " 'g',\n",
        " 'h',\n",
        " 'i',\n",
        " 'j',\n",
        " 'k',\n",
        " 'l',\n",
        " 'm',\n",
        " 'n',\n",
        " 'o',\n",
        " 'p',\n",
        " 'q',\n",
        " 'r',\n",
        " 's',\n",
        " 't',\n",
        " 'u',\n",
        " 'v',\n",
        " 'w',\n",
        " 'x',\n",
        " 'y',\n",
        " 'z',\n",
        " '{',\n",
        " '|',\n",
        " '}',\n",
        " '~',\n",
        " '\\x7f',\n",
        " '\\x80',\n",
        " '\\x81',\n",
        " '\\x82',\n",
        " '\\x83',\n",
        " '\\x84',\n",
        " '\\x85',\n",
        " '\\x86',\n",
        " '\\x87',\n",
        " '\\x88',\n",
        " '\\x89',\n",
        " '\\x8a',\n",
        " '\\x8b',\n",
        " '\\x8c',\n",
        " '\\x8d',\n",
        " '\\x8e',\n",
        " '\\x8f',\n",
        " '\\x90',\n",
        " '\\x91',\n",
        " '\\x92',\n",
        " '\\x93',\n",
        " '\\x94',\n",
        " '\\x95',\n",
        " '\\x96',\n",
        " '\\x97',\n",
        " '\\x98',\n",
        " '\\x99',\n",
        " '\\x9a',\n",
        " '\\x9b',\n",
        " '\\x9c',\n",
        " '\\x9d',\n",
        " '\\x9e',\n",
        " '\\x9f',\n",
        " '\\xa0',\n",
        " '\\xa1',\n",
        " '\\xa2',\n",
        " '\\xa3',\n",
        " '\\xa4',\n",
        " '\\xa5',\n",
        " '\\xa6',\n",
        " '\\xa7',\n",
        " '\\xa8',\n",
        " '\\xa9',\n",
        " '\\xaa',\n",
        " '\\xab',\n",
        " '\\xac',\n",
        " '\\xad',\n",
        " '\\xae',\n",
        " '\\xaf',\n",
        " '\\xb0',\n",
        " '\\xb1',\n",
        " '\\xb2',\n",
        " '\\xb3',\n",
        " '\\xb4',\n",
        " '\\xb5',\n",
        " '\\xb6',\n",
        " '\\xb7',\n",
        " '\\xb8',\n",
        " '\\xb9',\n",
        " '\\xba',\n",
        " '\\xbb',\n",
        " '\\xbc',\n",
        " '\\xbd',\n",
        " '\\xbe',\n",
        " '\\xbf',\n",
        " '\\xc0',\n",
        " '\\xc1',\n",
        " '\\xc2',\n",
        " '\\xc3',\n",
        " '\\xc4',\n",
        " '\\xc5',\n",
        " '\\xc6',\n",
        " '\\xc7',\n",
        " '\\xc8',\n",
        " '\\xc9',\n",
        " '\\xca',\n",
        " '\\xcb',\n",
        " '\\xcc',\n",
        " '\\xcd',\n",
        " '\\xce',\n",
        " '\\xcf',\n",
        " '\\xd0',\n",
        " '\\xd1',\n",
        " '\\xd2',\n",
        " '\\xd3',\n",
        " '\\xd4',\n",
        " '\\xd5',\n",
        " '\\xd6',\n",
        " '\\xd7',\n",
        " '\\xd8',\n",
        " '\\xd9',\n",
        " '\\xda',\n",
        " '\\xdb',\n",
        " '\\xdc',\n",
        " '\\xdd',\n",
        " '\\xde',\n",
        " '\\xdf',\n",
        " '\\xe0',\n",
        " '\\xe1',\n",
        " '\\xe2',\n",
        " '\\xe3',\n",
        " '\\xe4',\n",
        " '\\xe5',\n",
        " '\\xe6',\n",
        " '\\xe7',\n",
        " '\\xe8',\n",
        " '\\xe9',\n",
        " '\\xea',\n",
        " '\\xeb',\n",
        " '\\xec',\n",
        " '\\xed',\n",
        " '\\xee',\n",
        " '\\xef',\n",
        " '\\xf0',\n",
        " '\\xf1',\n",
        " '\\xf2',\n",
        " '\\xf3',\n",
        " '\\xf4',\n",
        " '\\xf5',\n",
        " '\\xf6',\n",
        " '\\xf7',\n",
        " '\\xf8',\n",
        " '\\xf9',\n",
        " '\\xfa',\n",
        " '\\xfb',\n",
        " '\\xfc',\n",
        " '\\xfd',\n",
        " '\\xfe',\n",
        " '\\xff']"
       ]
      }
     ],
     "prompt_number": 57
    },
    {
     "cell_type": "code",
     "collapsed": false,
     "input": [
      "_idmap"
     ],
     "language": "python",
     "metadata": {},
     "outputs": [
      {
       "metadata": {},
       "output_type": "pyout",
       "prompt_number": 58,
       "text": [
        "'\\x00\\x01\\x02\\x03\\x04\\x05\\x06\\x07\\x08\\t\\n\\x0b\\x0c\\r\\x0e\\x0f\\x10\\x11\\x12\\x13\\x14\\x15\\x16\\x17\\x18\\x19\\x1a\\x1b\\x1c\\x1d\\x1e\\x1f !\"#$%&\\'()*+,-./0123456789:;<=>?@ABCDEFGHIJKLMNOPQRSTUVWXYZ[\\\\]^_`abcdefghijklmnopqrstuvwxyz{|}~\\x7f\\x80\\x81\\x82\\x83\\x84\\x85\\x86\\x87\\x88\\x89\\x8a\\x8b\\x8c\\x8d\\x8e\\x8f\\x90\\x91\\x92\\x93\\x94\\x95\\x96\\x97\\x98\\x99\\x9a\\x9b\\x9c\\x9d\\x9e\\x9f\\xa0\\xa1\\xa2\\xa3\\xa4\\xa5\\xa6\\xa7\\xa8\\xa9\\xaa\\xab\\xac\\xad\\xae\\xaf\\xb0\\xb1\\xb2\\xb3\\xb4\\xb5\\xb6\\xb7\\xb8\\xb9\\xba\\xbb\\xbc\\xbd\\xbe\\xbf\\xc0\\xc1\\xc2\\xc3\\xc4\\xc5\\xc6\\xc7\\xc8\\xc9\\xca\\xcb\\xcc\\xcd\\xce\\xcf\\xd0\\xd1\\xd2\\xd3\\xd4\\xd5\\xd6\\xd7\\xd8\\xd9\\xda\\xdb\\xdc\\xdd\\xde\\xdf\\xe0\\xe1\\xe2\\xe3\\xe4\\xe5\\xe6\\xe7\\xe8\\xe9\\xea\\xeb\\xec\\xed\\xee\\xef\\xf0\\xf1\\xf2\\xf3\\xf4\\xf5\\xf6\\xf7\\xf8\\xf9\\xfa\\xfb\\xfc\\xfd\\xfe\\xff'"
       ]
      }
     ],
     "prompt_number": 58
    },
    {
     "cell_type": "code",
     "collapsed": false,
     "input": [
      "_idmapL = list(_idmap)\n",
      "_idmapL"
     ],
     "language": "python",
     "metadata": {},
     "outputs": [
      {
       "metadata": {},
       "output_type": "pyout",
       "prompt_number": 60,
       "text": [
        "['\\x00',\n",
        " '\\x01',\n",
        " '\\x02',\n",
        " '\\x03',\n",
        " '\\x04',\n",
        " '\\x05',\n",
        " '\\x06',\n",
        " '\\x07',\n",
        " '\\x08',\n",
        " '\\t',\n",
        " '\\n',\n",
        " '\\x0b',\n",
        " '\\x0c',\n",
        " '\\r',\n",
        " '\\x0e',\n",
        " '\\x0f',\n",
        " '\\x10',\n",
        " '\\x11',\n",
        " '\\x12',\n",
        " '\\x13',\n",
        " '\\x14',\n",
        " '\\x15',\n",
        " '\\x16',\n",
        " '\\x17',\n",
        " '\\x18',\n",
        " '\\x19',\n",
        " '\\x1a',\n",
        " '\\x1b',\n",
        " '\\x1c',\n",
        " '\\x1d',\n",
        " '\\x1e',\n",
        " '\\x1f',\n",
        " ' ',\n",
        " '!',\n",
        " '\"',\n",
        " '#',\n",
        " '$',\n",
        " '%',\n",
        " '&',\n",
        " \"'\",\n",
        " '(',\n",
        " ')',\n",
        " '*',\n",
        " '+',\n",
        " ',',\n",
        " '-',\n",
        " '.',\n",
        " '/',\n",
        " '0',\n",
        " '1',\n",
        " '2',\n",
        " '3',\n",
        " '4',\n",
        " '5',\n",
        " '6',\n",
        " '7',\n",
        " '8',\n",
        " '9',\n",
        " ':',\n",
        " ';',\n",
        " '<',\n",
        " '=',\n",
        " '>',\n",
        " '?',\n",
        " '@',\n",
        " 'A',\n",
        " 'B',\n",
        " 'C',\n",
        " 'D',\n",
        " 'E',\n",
        " 'F',\n",
        " 'G',\n",
        " 'H',\n",
        " 'I',\n",
        " 'J',\n",
        " 'K',\n",
        " 'L',\n",
        " 'M',\n",
        " 'N',\n",
        " 'O',\n",
        " 'P',\n",
        " 'Q',\n",
        " 'R',\n",
        " 'S',\n",
        " 'T',\n",
        " 'U',\n",
        " 'V',\n",
        " 'W',\n",
        " 'X',\n",
        " 'Y',\n",
        " 'Z',\n",
        " '[',\n",
        " '\\\\',\n",
        " ']',\n",
        " '^',\n",
        " '_',\n",
        " '`',\n",
        " 'a',\n",
        " 'b',\n",
        " 'c',\n",
        " 'd',\n",
        " 'e',\n",
        " 'f',\n",
        " 'g',\n",
        " 'h',\n",
        " 'i',\n",
        " 'j',\n",
        " 'k',\n",
        " 'l',\n",
        " 'm',\n",
        " 'n',\n",
        " 'o',\n",
        " 'p',\n",
        " 'q',\n",
        " 'r',\n",
        " 's',\n",
        " 't',\n",
        " 'u',\n",
        " 'v',\n",
        " 'w',\n",
        " 'x',\n",
        " 'y',\n",
        " 'z',\n",
        " '{',\n",
        " '|',\n",
        " '}',\n",
        " '~',\n",
        " '\\x7f',\n",
        " '\\x80',\n",
        " '\\x81',\n",
        " '\\x82',\n",
        " '\\x83',\n",
        " '\\x84',\n",
        " '\\x85',\n",
        " '\\x86',\n",
        " '\\x87',\n",
        " '\\x88',\n",
        " '\\x89',\n",
        " '\\x8a',\n",
        " '\\x8b',\n",
        " '\\x8c',\n",
        " '\\x8d',\n",
        " '\\x8e',\n",
        " '\\x8f',\n",
        " '\\x90',\n",
        " '\\x91',\n",
        " '\\x92',\n",
        " '\\x93',\n",
        " '\\x94',\n",
        " '\\x95',\n",
        " '\\x96',\n",
        " '\\x97',\n",
        " '\\x98',\n",
        " '\\x99',\n",
        " '\\x9a',\n",
        " '\\x9b',\n",
        " '\\x9c',\n",
        " '\\x9d',\n",
        " '\\x9e',\n",
        " '\\x9f',\n",
        " '\\xa0',\n",
        " '\\xa1',\n",
        " '\\xa2',\n",
        " '\\xa3',\n",
        " '\\xa4',\n",
        " '\\xa5',\n",
        " '\\xa6',\n",
        " '\\xa7',\n",
        " '\\xa8',\n",
        " '\\xa9',\n",
        " '\\xaa',\n",
        " '\\xab',\n",
        " '\\xac',\n",
        " '\\xad',\n",
        " '\\xae',\n",
        " '\\xaf',\n",
        " '\\xb0',\n",
        " '\\xb1',\n",
        " '\\xb2',\n",
        " '\\xb3',\n",
        " '\\xb4',\n",
        " '\\xb5',\n",
        " '\\xb6',\n",
        " '\\xb7',\n",
        " '\\xb8',\n",
        " '\\xb9',\n",
        " '\\xba',\n",
        " '\\xbb',\n",
        " '\\xbc',\n",
        " '\\xbd',\n",
        " '\\xbe',\n",
        " '\\xbf',\n",
        " '\\xc0',\n",
        " '\\xc1',\n",
        " '\\xc2',\n",
        " '\\xc3',\n",
        " '\\xc4',\n",
        " '\\xc5',\n",
        " '\\xc6',\n",
        " '\\xc7',\n",
        " '\\xc8',\n",
        " '\\xc9',\n",
        " '\\xca',\n",
        " '\\xcb',\n",
        " '\\xcc',\n",
        " '\\xcd',\n",
        " '\\xce',\n",
        " '\\xcf',\n",
        " '\\xd0',\n",
        " '\\xd1',\n",
        " '\\xd2',\n",
        " '\\xd3',\n",
        " '\\xd4',\n",
        " '\\xd5',\n",
        " '\\xd6',\n",
        " '\\xd7',\n",
        " '\\xd8',\n",
        " '\\xd9',\n",
        " '\\xda',\n",
        " '\\xdb',\n",
        " '\\xdc',\n",
        " '\\xdd',\n",
        " '\\xde',\n",
        " '\\xdf',\n",
        " '\\xe0',\n",
        " '\\xe1',\n",
        " '\\xe2',\n",
        " '\\xe3',\n",
        " '\\xe4',\n",
        " '\\xe5',\n",
        " '\\xe6',\n",
        " '\\xe7',\n",
        " '\\xe8',\n",
        " '\\xe9',\n",
        " '\\xea',\n",
        " '\\xeb',\n",
        " '\\xec',\n",
        " '\\xed',\n",
        " '\\xee',\n",
        " '\\xef',\n",
        " '\\xf0',\n",
        " '\\xf1',\n",
        " '\\xf2',\n",
        " '\\xf3',\n",
        " '\\xf4',\n",
        " '\\xf5',\n",
        " '\\xf6',\n",
        " '\\xf7',\n",
        " '\\xf8',\n",
        " '\\xf9',\n",
        " '\\xfa',\n",
        " '\\xfb',\n",
        " '\\xfc',\n",
        " '\\xfd',\n",
        " '\\xfe',\n",
        " '\\xff']"
       ]
      }
     ],
     "prompt_number": 60
    },
    {
     "cell_type": "code",
     "collapsed": false,
     "input": [
      "L = _idmapL[:]"
     ],
     "language": "python",
     "metadata": {},
     "outputs": [],
     "prompt_number": 61
    },
    {
     "cell_type": "code",
     "collapsed": false,
     "input": [],
     "language": "python",
     "metadata": {},
     "outputs": []
    }
   ],
   "metadata": {}
  }
 ]
}