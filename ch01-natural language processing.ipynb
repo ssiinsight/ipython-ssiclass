{
 "metadata": {
  "name": "",
  "signature": "sha256:85d305f293971d485782041810373741953a5afd672e7725f55c78989cbd9562"
 },
 "nbformat": 3,
 "nbformat_minor": 0,
 "worksheets": [
  {
   "cells": [
    {
     "cell_type": "markdown",
     "metadata": {},
     "source": [
      "# Preface\n",
      "\n",
      "- Natural language\ub294 \uc778\uac04\ub4e4\uc774 \ucee4\ubba4\ub2c8\ucf00\uc774\uc158 \ud558\ub294\ub370 \uc8fc\ub85c \uc0ac\uc6a9\ub41c\ub2e4.\n",
      "- \uc790\uc5f0\uc5b4\ub97c \uc870\uc791\ud560 \uac83\uc774\ub2e4. \ud55c \uc608\ub85c, word frequencies\ub97c \uce74\uc6b4\ud305\ud574\uc11c \uc791\uc131 \uc2a4\ud0c0\uc77c\uc744 \ube44\uad50\ud560 \uac83\n",
      "- NLP \uae30\uc220\uc740 \ub113\uac8c \uc99d\uac00\ud558\ub294 \ucd94\uc138\n",
      "- phones and \uc190\ubc14\ub2e5 \ud06c\uae30\uc758 \ucef4\ud4e8\ud130\uac00 \uc190\uc73c\ub85c \uc4f4 \uae00\uc528\ub97c \uc608\uce21\ud55c\ub2e4.\n",
      "- \uc6f9 \uac80\uc0c9\uc5d4\uc9c4\uc740 \ube44\uc815\ud615\ud654\ub41c \ud14d\uc2a4\ud2b8\uc5d0 \uc811\uadfc \uad8c\ud55c\uc744 \uc900\ub2e4. \n",
      "- \uae30\uacc4 \ubc88\uc5ed\uc740 \uc911\uad6d\uc5b4\ub85c \uc4f0\uace0 \uc2a4\ud398\uc778\uc5b4\ub85c \uc77d\uac8c \ud55c\ub2e4.\n",
      "- \uc815\ubcf4\ub97c \uc800\uc7a5\ud558\uace0, \uc5b8\uc5b4 \ucc98\ub9ac\ub294 \ub2e4\uc591\ud55c \uc5b8\uc5b4 \uc0ac\ud68c\uc758 \uc911\uc2ec\uc5d0 \uc788\ub2e4.\n",
      "\n",
      "## \uccad\uc911\n",
      "\n",
      "- \uacfc\ud559, \uacbd\uc81c, \uc0ac\ud68c, \ubb38\ud654\uc801\uc778 \uc774\uc720\uc5d0 \uc911\uc694\ud558\ub2e4.\n",
      "\n",
      "## Emphasis\n",
      "\n",
      "- practical\n",
      "- \uc608\uc81c\ub85c \ubc30\uc6b8 \uc218 \uc788\ub2e4.\n",
      "- programming\n",
      "- principle\n",
      "- pragmatic\n",
      "- pleasurable\n",
      "\n",
      "## What you Will Learn\n",
      "\n",
      "- \uc5bc\ub9c8\ub098 \uac04\ud55c\ud310 \ud504\ub85c\uadf8\ub7a8\uc774 \uc5b8\uc5b4 \ub370\uc774\ud130\ub97c \uc870\uc791\ud558\uace0 \ubd84\uc11d\ud558\ub294\uc9c0 \ub3c4\uc6b8 \uac83\uc774\ub2e4. \uadf8\ub9ac\uace0 \ud504\ub85c\uadf8\ub7a8\uc744 \uc5b4\ub5bb\uac8c \uc791\uc131\ud558\ub294\uc9c0\ub3c4\n",
      "- NLP\uc758 \uc5b8\uc5b4\uac00 \uc124\uba85\uacfc \ubd84\uc11d\ud558\ub294\ub370 \uac1c\ub150\uc774 \uc5b4\ub5bb\uac8c \uc4f0\uc774\ub294\uc9c0?\n",
      "- \ub370\uc774\ud130 \uad6c\uc870\uc640 \uc54c\uace0\ub9ac\uc998\uc774 NLP\uc5d0\uc11c \uc5b4\ub5bb\uac8c \uc4f0\uc774\ub294\uc9c0?\n",
      "- \uae30\ubcf8 \ud3ec\ubc43\uc5d0 \ub370\uc774\ud130\uac00 \uc5b4\ub5bb\uac8c \uc800\uc7a5\ub418\ub294\uc9c0? \uc5b4\ub5bb\uac8c NLP \uae30\uc220\uc758 \uc131\ub2a5\uc744 \uce21\uc815\ud558\ub294\uc9c0?\n",
      "\n",
      "## Organization\n",
      "\n",
      "## NLTK\n",
      "\n",
      "Language processing task | NLTK modules | Functionality\n",
      "--- | --- | ---\n",
      "Accessing corpora | nltk.corpus | Standardized interfaces to corpora and lexicons\n",
      "String processing | nltk.tokenize, nltk.stem | Tokenizers, sentence tokenizers, stemmers\n",
      "Collocation discovery | nltk.collocations | t-test, chi-squared, point-wise mutual information\n",
      "Part-of-speech tagging | nltk.tag | n-gram, backoff, Brill, HMM, TnT\n",
      "Classification | nltk.classify, nltk.cluster | Decision tree, maximum entropy, naive Bayes, EM, k-means\n",
      "Chunking | nltk.chunk | Regular expression, n-gram, named entity\n",
      "Parsing | nltk.parse | Chart, feature-based, unification, probabilistic, dependency\n",
      "Semantic interpretation | nltk,sem, nltk.inference | Lambda calculus, first-order logic, model checking\n",
      "Evaluation metrics | nltk.metrics | Precision, recall, agreement coefficients\n",
      "Probability and estimation | nltk.probability | Frequency distributions, smoothed probability distributions\n",
      "Applications | nltk.app, nltk,chat | Graphical concordancer, parsers, WordNet browser, chatbots\n",
      "Linguistic fieldwork | nltk.toolbox | Manipulate data in SIT Toolbox format\n",
      "\n",
      "## Four primary goals\n",
      "\n",
      "- Simplicity\n",
      "- Consistency\n",
      "- Extensibility\n",
      "- Modularity"
     ]
    },
    {
     "cell_type": "markdown",
     "metadata": {},
     "source": [
      "# 1. Language Processing and Python\n",
      "\n",
      "## address the following questions\n",
      "\n",
      "1. What can we archieve by combining simpmle programming techniques with large quantities of text?\n",
      "2. How can we automatically extract key words and phrases that sum up the style and content of a text?\n",
      "3. What tools and techniques does the Python programming language provide for such work?\n",
      "4. What are some of the interesting challenges of natural language processing?\n",
      "\n",
      "\n",
      "## 1.1 Computing with Language: Texts and Words"
     ]
    },
    {
     "cell_type": "code",
     "collapsed": false,
     "input": [
      "import nltk"
     ],
     "language": "python",
     "metadata": {},
     "outputs": [],
     "prompt_number": 1
    },
    {
     "cell_type": "markdown",
     "metadata": {},
     "source": [
      "### Download \uc124\uce58\uc2dc \uae30\ubcf8 directory\ub85c \uc124\uc815\ud558\uc790\n",
      "\n",
      "- nltk.book import \\*\uc5d0\uc11c \uae30\ubcf8 \ub514\ub809\ud1a0\ub9ac\ub85c \uc124\uc815\ub418\uc9c0 \uc54a\uc73c\uba74 Error \ubc1c\uc0dd\n",
      "- \uc77c\ub2e8 \ucc45\uc744 \ub530\ub77c\ud560 \ub54c\ub294 \uc800\uc790\uc758 \ud658\uacbd\uacfc \ucd5c\ub300\ud55c \ube44\uc2b7\ud558\uac8c \ub9cc\ub4e4\uc5b4\uc57c \uc54c \uc218 \uc5c6\ub294 \uc624\ub958\ub97c \ucd5c\uc18c\ud654 \ud560 \uc218 \uc788\ub2e4. \ud658\uacbd\uc744 \ub611\uac19\uc774 \ub9cc\ub4dc\ub294\uac8c \uac00\uc7a5 \uba3c\uc800 \ud574\uc57c \ud560 \uc77c!"
     ]
    },
    {
     "cell_type": "code",
     "collapsed": false,
     "input": [
      "# nltk.download()"
     ],
     "language": "python",
     "metadata": {},
     "outputs": [],
     "prompt_number": 2
    },
    {
     "cell_type": "code",
     "collapsed": false,
     "input": [
      "!ls -l /Users/re4lfl0w/nltk_data/"
     ],
     "language": "python",
     "metadata": {},
     "outputs": [
      {
       "output_type": "stream",
       "stream": "stdout",
       "text": [
        "total 0\r\n",
        "drwxr-xr-x    4 re4lfl0w  staff   136 11 17 19:24 \u001b[34mchunkers\u001b[m\u001b[m\r\n",
        "drwxr-xr-x  130 re4lfl0w  staff  4420 11 17 19:24 \u001b[34mcorpora\u001b[m\u001b[m\r\n",
        "drwxr-xr-x   12 re4lfl0w  staff   408 11 17 19:25 \u001b[34mgrammars\u001b[m\u001b[m\r\n",
        "drwxr-xr-x    3 re4lfl0w  staff   102 11 17 19:25 \u001b[34mhelp\u001b[m\u001b[m\r\n",
        "drwxr-xr-x    4 re4lfl0w  staff   136 11 17 19:23 \u001b[34mmodels\u001b[m\u001b[m\r\n",
        "drwxr-xr-x    4 re4lfl0w  staff   136 11 17 19:24 \u001b[34mstemmers\u001b[m\u001b[m\r\n",
        "drwxr-xr-x    8 re4lfl0w  staff   272 11 17 19:24 \u001b[34mtaggers\u001b[m\u001b[m\r\n",
        "drwxr-xr-x    4 re4lfl0w  staff   136 11 17 19:25 \u001b[34mtokenizers\u001b[m\u001b[m\r\n"
       ]
      }
     ],
     "prompt_number": 3
    },
    {
     "cell_type": "code",
     "collapsed": false,
     "input": [
      "from nltk.book import *"
     ],
     "language": "python",
     "metadata": {},
     "outputs": [
      {
       "output_type": "stream",
       "stream": "stdout",
       "text": [
        "*** Introductory Examples for the NLTK Book ***\n",
        "Loading text1, ..., text9 and sent1, ..., sent9\n",
        "Type the name of the text or sentence to view it.\n",
        "Type: 'texts()' or 'sents()' to list the materials.\n",
        "text1:"
       ]
      },
      {
       "output_type": "stream",
       "stream": "stdout",
       "text": [
        " Moby Dick by Herman Melville 1851\n",
        "text2:"
       ]
      },
      {
       "output_type": "stream",
       "stream": "stdout",
       "text": [
        " Sense and Sensibility by Jane Austen 1811\n",
        "text3:"
       ]
      },
      {
       "output_type": "stream",
       "stream": "stdout",
       "text": [
        " The Book of Genesis\n",
        "text4:"
       ]
      },
      {
       "output_type": "stream",
       "stream": "stdout",
       "text": [
        " Inaugural Address Corpus\n",
        "text5:"
       ]
      },
      {
       "output_type": "stream",
       "stream": "stdout",
       "text": [
        " Chat Corpus\n",
        "text6: Monty Python and the Holy Grail\n",
        "text7:"
       ]
      },
      {
       "output_type": "stream",
       "stream": "stdout",
       "text": [
        " Wall Street Journal\n",
        "text8: Personals Corpus\n",
        "text9:"
       ]
      },
      {
       "output_type": "stream",
       "stream": "stdout",
       "text": [
        " The Man Who Was Thursday by G . K . Chesterton 1908\n"
       ]
      }
     ],
     "prompt_number": 4
    },
    {
     "cell_type": "code",
     "collapsed": false,
     "input": [
      "text1"
     ],
     "language": "python",
     "metadata": {},
     "outputs": [
      {
       "metadata": {},
       "output_type": "pyout",
       "prompt_number": 5,
       "text": [
        "<Text: Moby Dick by Herman Melville 1851>"
       ]
      }
     ],
     "prompt_number": 5
    },
    {
     "cell_type": "code",
     "collapsed": false,
     "input": [
      "text2"
     ],
     "language": "python",
     "metadata": {},
     "outputs": [
      {
       "metadata": {},
       "output_type": "pyout",
       "prompt_number": 6,
       "text": [
        "<Text: Sense and Sensibility by Jane Austen 1811>"
       ]
      }
     ],
     "prompt_number": 6
    },
    {
     "cell_type": "markdown",
     "metadata": {},
     "source": [
      "### Searching Text\n",
      "\n",
      "- concordance: ?"
     ]
    },
    {
     "cell_type": "code",
     "collapsed": false,
     "input": [
      "# \uc77c\uce58\ud558\ub294 \ub2e8\uc5b4\ub97c \ucd94\ucd9c. \ub300\uc18c\ubb38\uc790 \uad6c\ubcc4 \uc548\ud568\n",
      "help(text1.concordance)"
     ],
     "language": "python",
     "metadata": {},
     "outputs": [
      {
       "output_type": "stream",
       "stream": "stdout",
       "text": [
        "Help on method concordance in module nltk.text:\n",
        "\n",
        "concordance(self, word, width=79, lines=25) method of nltk.text.Text instance\n",
        "    Print a concordance for ``word`` with the specified context window.\n",
        "    Word matching is not case-sensitive.\n",
        "    :seealso: ``ConcordanceIndex``\n",
        "\n"
       ]
      }
     ],
     "prompt_number": 7
    },
    {
     "cell_type": "code",
     "collapsed": false,
     "input": [
      "text1.concordance('monstrous')"
     ],
     "language": "python",
     "metadata": {},
     "outputs": [
      {
       "output_type": "stream",
       "stream": "stdout",
       "text": [
        "Displaying 11 of 11 matches:\n",
        "ong the former , one was of a most monstrous size . ... This came towards us , \n",
        "ON OF THE PSALMS . \" Touching that monstrous bulk of the whale or ork we have r\n",
        "ll over with a heathenish array of monstrous clubs and spears . Some were thick\n",
        "d as you gazed , and wondered what monstrous cannibal and savage could ever hav\n",
        "that has survived the flood ; most monstrous and most mountainous ! That Himmal\n",
        "they might scout at Moby Dick as a monstrous fable , or still worse and more de\n",
        "th of Radney .'\" CHAPTER 55 Of the Monstrous Pictures of Whales . I shall ere l\n",
        "ing Scenes . In connexion with the monstrous pictures of whales , I am strongly\n",
        "ere to enter upon those still more monstrous stories of them which are to be fo\n",
        "ght have been rummaged out of this monstrous cabinet there is no telling . But \n",
        "of Whale - Bones ; for Whales of a monstrous size are oftentimes cast up dead u\n"
       ]
      }
     ],
     "prompt_number": 8
    },
    {
     "cell_type": "code",
     "collapsed": false,
     "input": [
      "# monstrous\uac00 \uac00\uc6b4\ub370\uc5d0 \uc704\uce58\ud558\uace0 \uc55e \ub4a4\ub85c width\uc5d0 \ud574\ub2f9\ud558\ub294\ub9cc\ud07c \ubcf4\uc5ec\uc8fc\ub294\uad70\n",
      "# ipython notebook width\uac00 74\uac00 \ub531 \ub9de\ub124\n",
      "text1.concordance('monstrous', width=74)"
     ],
     "language": "python",
     "metadata": {},
     "outputs": [
      {
       "output_type": "stream",
       "stream": "stdout",
       "text": [
        "Displaying 11 of 11 matches:\n",
        " the former , one was of a most monstrous size . ... This came towards us\n",
        "OF THE PSALMS . \" Touching that monstrous bulk of the whale or ork we hav\n",
        "over with a heathenish array of monstrous clubs and spears . Some were th\n",
        "s you gazed , and wondered what monstrous cannibal and savage could ever \n",
        "t has survived the flood ; most monstrous and most mountainous ! That Him\n",
        "y might scout at Moby Dick as a monstrous fable , or still worse and more\n",
        "of Radney .'\" CHAPTER 55 Of the Monstrous Pictures of Whales . I shall er\n",
        " Scenes . In connexion with the monstrous pictures of whales , I am stron\n",
        " to enter upon those still more monstrous stories of them which are to be\n",
        " have been rummaged out of this monstrous cabinet there is no telling . B\n",
        "Whale - Bones ; for Whales of a monstrous size are oftentimes cast up dea\n"
       ]
      }
     ],
     "prompt_number": 9
    },
    {
     "cell_type": "code",
     "collapsed": false,
     "input": [
      "text1.concordance(\"survived\")"
     ],
     "language": "python",
     "metadata": {},
     "outputs": [
      {
       "output_type": "stream",
       "stream": "stdout",
       "text": [
        "Displaying 3 of 3 matches:\n",
        "e mightiest animated mass that has survived the flood ; most monstrous and mos\n",
        " or weeks as the case might be . I survived myself ; my death and burial were \n",
        "and bepatched the raiment that had survived nearly four years of cruising . St\n"
       ]
      }
     ],
     "prompt_number": 10
    },
    {
     "cell_type": "code",
     "collapsed": false,
     "input": [
      "text2.concordance('affection', width=74)"
     ],
     "language": "python",
     "metadata": {},
     "outputs": [
      {
       "output_type": "stream",
       "stream": "stdout",
       "text": [
        "Displaying 25 of 79 matches:\n",
        "owever , and , as a mark of his affection for the three girls , he left t\n",
        " It was very well known that no affection was ever supposed to exist betw\n",
        "ation of politeness or maternal affection on the side of the former , the\n",
        "he suspicion -- the hope of his affection for me may warrant , without im\n",
        "h forbade the indulgence of his affection . She knew that his mother neit\n",
        "she gave one with still greater affection . Though her late conversation \n",
        "n never hope to feel or inspire affection again , and if her home be unco\n",
        "f the sense , elegance , mutual affection , and domestic comfort of the f\n",
        "nd which recommended him to her affection beyond every thing else . His s\n",
        "n the parties might forward the affection of Mr . Willoughby , an equally\n",
        "e most pointed assurance of her affection . Elinor could not be surprised\n",
        "natural consequence of a strong affection in a young and ardent mind . Th\n",
        "inion . But by an appeal to her affection for her mother , by representin\n",
        "ery alteration of a place which affection had established as perfect with\n",
        "ill always have one claim of my affection , which no other can possibly s\n",
        "he evening declared at once his affection and happiness . \" Shall we see \n",
        "e he took leave of us with less affection than his usual behaviour has sh\n",
        "s .\" \" I want no proof of their affection ,\" said Elinor ; \" but of their\n",
        "hs , without telling her of his affection ;-- that they should part witho\n",
        "d be the natural result of your affection for her . She used to be all un\n",
        "tinguished Elinor by no mark of affection . Marianne saw and listened wit\n",
        "no inclination for expense , no affection for strangers , no profession ,\n",
        "l distinguished her by the same affection which once she had felt no doub\n",
        "of her confidence in Edward ' s affection , to the remembrance of every m\n",
        "s made ? Had he never owned his affection to yourself ?\" \" Oh , no ; but \n"
       ]
      }
     ],
     "prompt_number": 11
    },
    {
     "cell_type": "code",
     "collapsed": false,
     "input": [
      "text3"
     ],
     "language": "python",
     "metadata": {},
     "outputs": [
      {
       "metadata": {},
       "output_type": "pyout",
       "prompt_number": 12,
       "text": [
        "<Text: The Book of Genesis>"
       ]
      }
     ],
     "prompt_number": 12
    },
    {
     "cell_type": "code",
     "collapsed": false,
     "input": [
      "text3.concordance('lived')"
     ],
     "language": "python",
     "metadata": {},
     "outputs": [
      {
       "output_type": "stream",
       "stream": "stdout",
       "text": [
        "Displaying 25 of 38 matches:\n",
        "ay when they were created . And Adam lived an hundred and thirty years , and be\n",
        "ughters : And all the days that Adam lived were nine hundred and thirty yea and\n",
        "nd thirty yea and he died . And Seth lived an hundred and five years , and bega\n",
        "ve years , and begat Enos : And Seth lived after he begat Enos eight hundred an\n",
        "welve years : and he died . And Enos lived ninety years , and begat Cainan : An\n",
        " years , and begat Cainan : And Enos lived after he begat Cainan eight hundred \n",
        "ive years : and he died . And Cainan lived seventy years and begat Mahalaleel :\n",
        "rs and begat Mahalaleel : And Cainan lived after he begat Mahalaleel eight hund\n",
        "years : and he died . And Mahalaleel lived sixty and five years , and begat Jar\n",
        "s , and begat Jared : And Mahalaleel lived after he begat Jared eight hundred a\n",
        "and five yea and he died . And Jared lived an hundred sixty and two years , and\n",
        "o years , and he begat Eno And Jared lived after he begat Enoch eight hundred y\n",
        " and two yea and he died . And Enoch lived sixty and five years , and begat Met\n",
        " ; for God took him . And Methuselah lived an hundred eighty and seven years , \n",
        " , and begat Lamech . And Methuselah lived after he begat Lamech seven hundred \n",
        "nd nine yea and he died . And Lamech lived an hundred eighty and two years , an\n",
        "ch the LORD hath cursed . And Lamech lived after he begat Noah five hundred nin\n",
        "naan shall be his servant . And Noah lived after the flood three hundred and fi\n",
        "xad two years after the flo And Shem lived after he begat Arphaxad five hundred\n",
        "at sons and daughters . And Arphaxad lived five and thirty years , and begat Sa\n",
        "ars , and begat Salah : And Arphaxad lived after he begat Salah four hundred an\n",
        "begat sons and daughters . And Salah lived thirty years , and begat Eber : And \n",
        "y years , and begat Eber : And Salah lived after he begat Eber four hundred and\n",
        " begat sons and daughters . And Eber lived four and thirty years , and begat Pe\n",
        "y years , and begat Peleg : And Eber lived after he begat Peleg four hundred an\n"
       ]
      }
     ],
     "prompt_number": 13
    },
    {
     "cell_type": "markdown",
     "metadata": {},
     "source": [
      "### \uc7a1\uc0dd\uac01\n",
      "\n",
      "- \uc774\uac78\ub85c \ub0b4\uac00 \uc9c0\uae08\uae4c\uc9c0 \ubcf8 \uc601\ud654 \uc790\ub9c9\ub4e4 \ubaa8\uc544\ub193\uace0 \uadf8\ub798\ud504 \uadf8\ub824\ubcf4\uba74 \uc7ac\ubbf8\uc788\uaca0\ub294\ub370?\n",
      "- \uc624\uc624\uc624. \uc7ac\ubc0c\uaca0\ub2e4..!!\n",
      "- \uadf8\ub7fc \uc5bc\ub9c8\ub098 \ub9ce\uc740 \ub2e8\uc5b4\ub4e4\uc774 \ub098\uc624\ub294\uc9c0..?\n",
      "- \ub0b4\uac00 \uc8fc\ub85c \uc678\uc6cc\uc57c \ud560 \ub2e8\uc5b4\ub4e4\uc740 \ubb34\uc5c7\uc778\uc9c0?\n",
      "- Computer Science \ucc45\uc744 \uc704\uc8fc\ub85c\ub3c4 \ud560 \uc218 \uc788\ub2e4\ub294 \uc598\uae30\uc796\ub0d0..!\n",
      "- \ub0b4\uac00 \uc800\uc7a5\ud574 \ub193\uc740 bookmark \ub4e4 \uc704\uc8fc\ub85c \ud574\ubcfc \uc218\ub3c4 \uc788\uaca0\ub2e4.\n",
      "- \uc601\ud654\uc758 \uc790\ub9c9\ub3c4 \uc800\uc791\uad8c\uc774 \uc788\uc73c\ub824\ub098..? \uc5b4\uca0b\ub4e0 \uc774\ub7f0\uac83\ub4e4 \uac00\uc9c0\uace0 \uc601\uc5b4 \uacf5\ubd80\ud558\ub294\ub370 \uc5bc\ub9c8\ub098 \ub3c4\uc6c0\uc774 \ub9ce\uc774 \ub418\ub294\uc9c0 \uadf8\ub798\ud504\ub85c \ubcf4\uc5ec\uc904 \uc218 \uc788\uaca0\ub294\ub370..?"
     ]
    },
    {
     "cell_type": "code",
     "collapsed": false,
     "input": [
      "text4"
     ],
     "language": "python",
     "metadata": {},
     "outputs": [
      {
       "metadata": {},
       "output_type": "pyout",
       "prompt_number": 14,
       "text": [
        "<Text: Inaugural Address Corpus>"
       ]
      }
     ],
     "prompt_number": 14
    },
    {
     "cell_type": "code",
     "collapsed": false,
     "input": [
      "text4.concordance('nation')"
     ],
     "language": "python",
     "metadata": {},
     "outputs": [
      {
       "output_type": "stream",
       "stream": "stdout",
       "text": [
        "Displaying 25 of 302 matches:\n",
        " to the character of an independent nation seems to have been distinguished by\n",
        "f Heaven can never be expected on a nation that disregards the eternal rules o\n",
        "first , the representatives of this nation , then consisting of little more th\n",
        ", situation , and relations of this nation and country than any which had ever\n",
        ", prosperity , and happiness of the nation I have acquired an habitual attachm\n",
        "an be no spectacle presented by any nation more pleasing , more noble , majest\n",
        "party for its own ends , not of the nation for the national good . If that sol\n",
        "tures and the people throughout the nation . On this subject it might become m\n",
        "if a personal esteem for the French nation , formed in a residence of seven ye\n",
        "f our fellow - citizens by whatever nation , and if success can not be obtaine\n",
        "y , continue His blessing upon this nation and its Government and give it all \n",
        "powers so justly inspire . A rising nation , spread over a wide and fruitful l\n",
        "ing now decided by the voice of the nation , announced according to the rules \n",
        "ars witness to the fact that a just nation is trusted on its word when recours\n",
        "e union of opinion which gives to a nation the blessing of harmony and the ben\n",
        "uil suffrage of a free and virtuous nation , would under any circumstances hav\n",
        "d spirit and united councils of the nation will be safeguards to its honor and\n",
        "iction that the war with a powerful nation , which forms so prominent a featur\n",
        "out breaking down the spirit of the nation , destroying all confidence in itse\n",
        "ed on the military resources of the nation . These resources are amply suffici\n",
        "the war to an honorable issue . Our nation is in number more than half that of\n",
        "ndividually have been happy and the nation prosperous . Under this Constitutio\n",
        "rights , and is able to protect the nation against injustice from foreign powe\n",
        " great agricultural interest of the nation prospers under its protection . Loc\n",
        "ak our Union , and demolish us as a nation . Our distance from Europe and the \n"
       ]
      }
     ],
     "prompt_number": 15
    },
    {
     "cell_type": "code",
     "collapsed": false,
     "input": [
      "text4.concordance('terror')"
     ],
     "language": "python",
     "metadata": {},
     "outputs": [
      {
       "output_type": "stream",
       "stream": "stdout",
       "text": [
        "Displaying 8 of 8 matches:\n",
        "menaces , by fraud or violence , by terror , intrigue , or venality , the Gove\n",
        "ameless , unreasoning , unjustified terror which paralyzes needed efforts to c\n",
        "ublic seemed frozen by a fatalistic terror , we proved that this is not true .\n",
        " to alter that uncertain balance of terror that stays the hand of mankind ' s \n",
        "eans freeing all Americans from the terror of runaway living costs . All must \n",
        "still . They fuel the fanaticism of terror . And they torment the lives of mil\n",
        "d maintain a strong defense against terror and destruction . Our children will\n",
        "k to advance their aims by inducing terror and slaughtering innocents , we say\n"
       ]
      }
     ],
     "prompt_number": 16
    },
    {
     "cell_type": "code",
     "collapsed": false,
     "input": [
      "text4.concordance('god')"
     ],
     "language": "python",
     "metadata": {},
     "outputs": [
      {
       "output_type": "stream",
       "stream": "stdout",
       "text": [
        "Displaying 25 of 98 matches:\n",
        "eliance on the protection of Almighty God , I shall forthwith commence the duti\n",
        "humble , acknowledged dependence upon God and His overruling providence . We ha\n",
        "great office I must humbly invoke the God of our fathers for wisdom and firmnes\n",
        "d the same Bible and pray to the same God , and each invokes His aid against th\n",
        "hat any men should dare to ask a just God ' s assistance in wringing their brea\n",
        "offenses which , in the providence of God , must needs come , but which , havin\n",
        "butes which the believers in a living God always ascribe to Him ? Fondly do we \n",
        "war may speedily pass away . Yet , if God wills that it continue until all the \n",
        "r all , with firmness in the right as God gives us to see the right , let us st\n",
        "the prayers of the nation to Almighty God in behalf of this consummation . Fell\n",
        "r , they have \" followed the light as God gave them to see the light .\" They ar\n",
        "ess their fathers and their fathers ' God that the Union was preserved , that s\n",
        "the support and blessings of Almighty God . Fellow citizens , in the presence o\n",
        "ng the power and goodness of Almighty God , who presides over the destiny of na\n",
        "expect the favor and help of Almighty God -- that He will give to me wisdom , s\n",
        " suggestion to enterprise and labor . God has placed upon our head a diadem and\n",
        "urn than the pledge I now give before God and these witnesses of unreserved and\n",
        "han human life can escape the laws of God and nature . Manifestly nothing is mo\n",
        "and invoking the guidance of Almighty God . Our faith teaches that there is no \n",
        "re is no safer reliance than upon the God of our fathers , who has so singularl\n",
        "e the direction and favor of Almighty God . I should shrink from the duties thi\n",
        " devolve upon it , and in the fear of God will \" take occasion by the hand and \n",
        " citizens and the aid of the Almighty God in the discharge of my responsible du\n",
        "our heartstrings like some air out of God ' s own presence , where justice and \n",
        " forward - looking men , to my side . God helping me , I will not fail them , i\n"
       ]
      }
     ],
     "prompt_number": 17
    },
    {
     "cell_type": "code",
     "collapsed": false,
     "input": [
      "text5"
     ],
     "language": "python",
     "metadata": {},
     "outputs": [
      {
       "metadata": {},
       "output_type": "pyout",
       "prompt_number": 18,
       "text": [
        "<Text: Chat Corpus>"
       ]
      }
     ],
     "prompt_number": 18
    },
    {
     "cell_type": "code",
     "collapsed": false,
     "input": [
      "text5.concordance('im')"
     ],
     "language": "python",
     "metadata": {},
     "outputs": [
      {
       "output_type": "stream",
       "stream": "stdout",
       "text": [
        "Displaying 25 of 149 matches:\n",
        "                                      im left with this gay name :P PART hey e\n",
        "what did you but on e-bay i feel like im in the wrong room yeee haw U30 im con\n",
        "ike im in the wrong room yeee haw U30 im considering changing my nickname to \"\n",
        " the hell outta my freaking PM box .. Im with my fiance !!!!!!!!!!!!!!!! answe\n",
        "m impressed . PART hiya room lmao !!! im doin alright thanks omg Finger .. Dee\n",
        "th lol JOIN so read it . thanks U7 .. Im happy to have my fiance here !! forwa\n",
        "i didnt me phone you . . . sheesh now im that phone perv guy lets hope not U12\n",
        "to spain ? i need to go this summer . im a HUGE phone perv ok seriously who wa\n",
        "an ... . ACTION video tapes . hey U20 Im blind now . ACTION has left the room \n",
        "T u got that right , i dont do shit , im the supervisor Hello U165 . hey U165 \n",
        " him in the \" untouchable \" list U115 im good U6 lmao U7 how r u U128 hehe how\n",
        "can I ask where ya all are from ..... im here in kentucky as I said ... too wi\n",
        "ic but had to resize and stuff U37 no im an equal oppertunity hater LOL Hi , U\n",
        "he cover weeeeeeeee thanks U19 ! PART im out in cal now U3 looking at some new\n",
        " :) hi U58 lol wb U29 hi U29 U13 .... im down to time now PART Hello U24 , wel\n",
        ", I 'd never kick you outta my box hi im good thanks U16 yerself ?? PART inter\n",
        "ke wth . . who are you even ty U34 yw Im glad he 's back . awwww U16 i like ps\n",
        " ha U23 !!! wow ... are you the U39 ? Im talkin about all yer typin . . It 's \n",
        "... you ??? Apparently , I 'm not U41 im good U23 dear . How are you U23 ~wink\n",
        "~ U35 ... I love that 5 am phone call im good ... me and eric r back together \n",
        " , I am happy . You know i LuverZ YOU im the same busy busy oh ok then U1 nm l\n",
        "))) . ACTION stretches . ty U19 Ugh , Im so sore ! Repeatedly , with a big sti\n",
        "'m a size queen U41 Why U45 ? naw U23 im cheating on you with Jayse hes hawt t\n",
        "oeer is sum1 gonna ghet fuked up ? :) im always hungry yeah U45 .. i believe i\n",
        "without first asking permission . U35 im sorry U35 i tried to refrain me too U\n"
       ]
      }
     ],
     "prompt_number": 19
    },
    {
     "cell_type": "code",
     "collapsed": false,
     "input": [
      "text5.concordance('ur')"
     ],
     "language": "python",
     "metadata": {},
     "outputs": [
      {
       "output_type": "stream",
       "stream": "stdout",
       "text": [
        "Displaying 21 of 21 matches:\n",
        "k up PART no i dont want daughters !! ur annoying . ACTION Now Playing - Cradl\n",
        "ooo U92 !!!!!! . ACTION U1370 watches ur nad with a stick . ca u U23 ewwww lol\n",
        "er lip . Meep . ACTION is resisting . ur female right lol U115 beeeeehave Reme\n",
        " geeshh ... two kids fighting ! whats ur major i probably sucks in summer too \n",
        "II Men scorpions rock ... lol what is ur job me too U11 hehe went to manhattan\n",
        "e no one i like to say if u have done ur time then that is that U42 Ok U37 , i\n",
        "hat a ride JOIN ty ty cheers babes .. ur the first to follow up with the pseud\n",
        " charger \\ty LoL yeah ;-) well i hope ur doing ok .. i 'm dojn fine babe . . g\n",
        " gonna rock up soojn and rob u of all ur ' candy ' :) as long as you are happy\n",
        "genital warts ? LoL moped U28 ?.. ohh ur a real man i had a moped once yup heh\n",
        "b-day is in 5 days =( PART LOL U35 no ur nawt yup your gay lmao U37 dang come \n",
        " people talk to me anymore oh because ur gay . PART PART . ACTION = U58 . Man \n",
        " om hi U73 heya U7 ! h shit i get all ur money now fawker ok girl lol JOIN ed \n",
        "hat tired huh U66 ? lol U75 ... bring ur pillow get comfy U70 yep , off to bed\n",
        "talked to hi sean . ACTION whispers : ur a douche . who PART . ACTION whispers\n",
        "ew england usa ? U7 .. it adds wax to ur clothes .. u think cottons breathe ?.\n",
        "ver knew what flavor to get specially ur towels lol U31 < whistles > U34 U39 I\n",
        "cks out U7 s pic JOIN PART U41 Hi U41 ur gettin pretty savvy there U39 ahhh ..\n",
        "om ? brb U30 a week .. heck a day and ur problem there , U30 ??? Hi U34 hartfo\n",
        " JOIN U57 Whats really good room JOIN ur telllin me hey any uk girls her ? JOI\n",
        "JOIN PART JOIN JOIN yea guitar rocker ur kool u lil guitar rocker PART whats e\n"
       ]
      }
     ],
     "prompt_number": 20
    },
    {
     "cell_type": "code",
     "collapsed": false,
     "input": [
      "text5.concordance('lol')"
     ],
     "language": "python",
     "metadata": {},
     "outputs": [
      {
       "output_type": "stream",
       "stream": "stdout",
       "text": [
        "Displaying 25 of 822 matches:\n",
        "ast PART 24 / m boo . 26 / m and sexy lol U115 boo . JOIN PART he drew a girl w\n",
        "ope he didnt draw a penis PART ewwwww lol & a head between her legs JOIN JOIN s\n",
        "a bowl i got a blunt an a bong ...... lol JOIN well , glad it worked out my cha\n",
        "e \" PART Hi U121 in ny . ACTION would lol @ U121 . . . but appearently she does\n",
        "30 make sure u buy a nice ring for U6 lol U7 Hi U115 . ACTION isnt falling for \n",
        " didnt ya hear !!!! PART JOIN geeshhh lol U6 PART hes deaf ppl here dont get it\n",
        "es nobody here i wanna misbeahve with lol JOIN so read it . thanks U7 .. Im hap\n",
        "ies want to chat can i talk to him !! lol U121 !!! forwards too lol JOIN ALL PE\n",
        "k to him !! lol U121 !!! forwards too lol JOIN ALL PErvs ... redirect to U121 '\n",
        " loves ME the most i love myself JOIN lol U44 how do u know that what ? jerkett\n",
        "ng wrong ... i can see it in his eyes lol U20 = fiance Jerketts lmao wtf yah I \n",
        "cooler by the minute what 'd I miss ? lol noo there too much work ! why not ?? \n",
        " that mean I want you ? U6 hello room lol U83 and this .. has been the grammar \n",
        " the rule he 's in PM land now though lol ah ok i wont bug em then someone wann\n",
        "flight to hell :) lmao bbl maybe PART LOL lol U7 it was me , U83 hahah U83 ! 80\n",
        "ht to hell :) lmao bbl maybe PART LOL lol U7 it was me , U83 hahah U83 ! 808265\n",
        "082653953 K-Fed got his ass kicked .. Lol . ACTION laughs . i got a first class\n",
        " . i got a first class ticket to hell lol U7 JOIN any texas girls in here ? any\n",
        " . whats up U155 i was only kidding . lol he 's a douchebag . Poor U121 i 'm bo\n",
        " ??? sits with U30 Cum to my shower . lol U121 . ACTION U1370 watches his nads \n",
        " ur nad with a stick . ca u U23 ewwww lol *sniffs* ewwwwww PART U115 ! owww spl\n",
        "ACTION is resisting . ur female right lol U115 beeeeehave Remember the LAst tim\n",
        "pm's me . charge that is 1.99 / min . lol @ innocent hahah lol .... yeah LOLOLO\n",
        " is 1.99 / min . lol @ innocent hahah lol .... yeah LOLOLOLLL U12 thats not nic\n",
        "s . lmao no U115 Check my record . :) Lol lick em U7 U23 how old r u lol Way to\n"
       ]
      }
     ],
     "prompt_number": 21
    },
    {
     "cell_type": "code",
     "collapsed": false,
     "input": [
      "help(text1.similar)"
     ],
     "language": "python",
     "metadata": {},
     "outputs": [
      {
       "output_type": "stream",
       "stream": "stdout",
       "text": [
        "Help on method similar in module nltk.text:\n",
        "\n",
        "similar(self, word, num=20) method of nltk.text.Text instance\n",
        "    Distributional similarity: find other words which appear in the\n",
        "    same contexts as the specified word; list most similar words first.\n",
        "    \n",
        "    :param word: The word used to seed the similarity search\n",
        "    :type word: str\n",
        "    :param num: The number of words to generate (default=20)\n",
        "    :type num: int\n",
        "    :seealso: ContextIndex.similar_words()\n",
        "\n"
       ]
      }
     ],
     "prompt_number": 22
    },
    {
     "cell_type": "code",
     "collapsed": false,
     "input": [
      "text1.similar('monstrous')"
     ],
     "language": "python",
     "metadata": {},
     "outputs": [
      {
       "output_type": "stream",
       "stream": "stdout",
       "text": [
        "imperial subtly impalpable pitiable curious abundant perilous\n",
        "trustworthy untoward singular lamentable few determined maddens\n",
        "horrible tyrannical lazy mystifying christian exasperate\n"
       ]
      }
     ],
     "prompt_number": 23
    },
    {
     "cell_type": "code",
     "collapsed": false,
     "input": [
      "text2.similar('monstrous')"
     ],
     "language": "python",
     "metadata": {},
     "outputs": [
      {
       "output_type": "stream",
       "stream": "stdout",
       "text": [
        "very exceedingly so heartily a great good amazingly as sweet\n",
        "remarkably extremely vast\n"
       ]
      }
     ],
     "prompt_number": 24
    },
    {
     "cell_type": "code",
     "collapsed": false,
     "input": [
      "help(text2.common_contexts)"
     ],
     "language": "python",
     "metadata": {},
     "outputs": [
      {
       "output_type": "stream",
       "stream": "stdout",
       "text": [
        "Help on method common_contexts in module nltk.text:\n",
        "\n",
        "common_contexts(self, words, num=20) method of nltk.text.Text instance\n",
        "    Find contexts where the specified words appear; list\n",
        "    most frequent common contexts first.\n",
        "    \n",
        "    :param word: The word used to seed the similarity search\n",
        "    :type word: str\n",
        "    :param num: The number of words to generate (default=20)\n",
        "    :type num: int\n",
        "    :seealso: ContextIndex.common_contexts()\n",
        "\n"
       ]
      }
     ],
     "prompt_number": 25
    },
    {
     "cell_type": "code",
     "collapsed": false,
     "input": [
      "text2.common_contexts(['monstrous', 'very'])"
     ],
     "language": "python",
     "metadata": {},
     "outputs": [
      {
       "output_type": "stream",
       "stream": "stdout",
       "text": [
        "a_pretty is_pretty a_lucky am_glad be_glad\n"
       ]
      }
     ],
     "prompt_number": 26
    },
    {
     "cell_type": "code",
     "collapsed": false,
     "input": [
      "text4"
     ],
     "language": "python",
     "metadata": {},
     "outputs": [
      {
       "metadata": {},
       "output_type": "pyout",
       "prompt_number": 27,
       "text": [
        "<Text: Inaugural Address Corpus>"
       ]
      }
     ],
     "prompt_number": 27
    },
    {
     "cell_type": "code",
     "collapsed": false,
     "input": [
      "help(text4.dispersion_plot)"
     ],
     "language": "python",
     "metadata": {},
     "outputs": [
      {
       "output_type": "stream",
       "stream": "stdout",
       "text": [
        "Help on method dispersion_plot in module nltk.text:\n",
        "\n",
        "dispersion_plot(self, words) method of nltk.text.Text instance\n",
        "    Produce a plot showing the distribution of the words through the text.\n",
        "    Requires pylab to be installed.\n",
        "    \n",
        "    :param words: The words to be plotted\n",
        "    :type word: str\n",
        "    :seealso: nltk.draw.dispersion_plot()\n",
        "\n"
       ]
      }
     ],
     "prompt_number": 28
    },
    {
     "cell_type": "code",
     "collapsed": false,
     "input": [
      "text4.dispersion_plot(['citizens', 'democracy', 'freedom', \n",
      "                       'duties', 'America'])"
     ],
     "language": "python",
     "metadata": {},
     "outputs": [
      {
       "metadata": {},
       "output_type": "display_data",
       "png": "[encoded data removed]",
       "text": [
        "<matplotlib.figure.Figure at 0x10cbf4890>"
       ]
      }
     ],
     "prompt_number": 29
    },
    {
     "cell_type": "code",
     "collapsed": false,
     "input": [
      "text4.dispersion_plot(['liberty', 'constitution'])"
     ],
     "language": "python",
     "metadata": {},
     "outputs": [
      {
       "metadata": {},
       "output_type": "display_data",
       "png": "[encoded data removed]",
       "text": [
        "<matplotlib.figure.Figure at 0x1192ccc10>"
       ]
      }
     ],
     "prompt_number": 30
    },
    {
     "cell_type": "code",
     "collapsed": false,
     "input": [
      "# The generate() method is not available in NLTK 3.0 but will be \n",
      "# reinstated in a subsequent version.\n",
      "# text3.generate()"
     ],
     "language": "python",
     "metadata": {},
     "outputs": [],
     "prompt_number": 33
    },
    {
     "cell_type": "markdown",
     "metadata": {},
     "source": [
      "### Counting Vocabulary"
     ]
    },
    {
     "cell_type": "code",
     "collapsed": false,
     "input": [
      "len(text3)"
     ],
     "language": "python",
     "metadata": {},
     "outputs": [
      {
       "metadata": {},
       "output_type": "pyout",
       "prompt_number": 34,
       "text": [
        "44764"
       ]
      }
     ],
     "prompt_number": 34
    },
    {
     "cell_type": "markdown",
     "metadata": {},
     "source": [
      "- token: \ubb38\uc790\ub4e4\uc758 \uc21c\uc11c\ub97c \uc704\ud55c \uae30\uc220\uc801\uc778 \uc774\ub984\n",
      "- set"
     ]
    },
    {
     "cell_type": "code",
     "collapsed": false,
     "input": [
      "dir(text3)"
     ],
     "language": "python",
     "metadata": {},
     "outputs": [
      {
       "metadata": {},
       "output_type": "pyout",
       "prompt_number": 40,
       "text": [
        "['_CONTEXT_RE',\n",
        " '_COPY_TOKENS',\n",
        " '__class__',\n",
        " '__delattr__',\n",
        " '__dict__',\n",
        " '__doc__',\n",
        " '__format__',\n",
        " '__getattribute__',\n",
        " '__getitem__',\n",
        " '__hash__',\n",
        " '__init__',\n",
        " '__len__',\n",
        " '__module__',\n",
        " '__new__',\n",
        " '__reduce__',\n",
        " '__reduce_ex__',\n",
        " '__repr__',\n",
        " '__setattr__',\n",
        " '__sizeof__',\n",
        " '__str__',\n",
        " '__subclasshook__',\n",
        " '__unicode__',\n",
        " '__weakref__',\n",
        " '_concordance_index',\n",
        " '_context',\n",
        " 'collocations',\n",
        " 'common_contexts',\n",
        " 'concordance',\n",
        " 'count',\n",
        " 'dispersion_plot',\n",
        " 'findall',\n",
        " 'index',\n",
        " 'name',\n",
        " 'plot',\n",
        " 'readability',\n",
        " 'similar',\n",
        " 'tokens',\n",
        " 'unicode_repr',\n",
        " 'vocab']"
       ]
      }
     ],
     "prompt_number": 40
    },
    {
     "cell_type": "code",
     "collapsed": false,
     "input": [
      "len(set(text3))"
     ],
     "language": "python",
     "metadata": {},
     "outputs": [
      {
       "metadata": {},
       "output_type": "pyout",
       "prompt_number": 37,
       "text": [
        "2789"
       ]
      }
     ],
     "prompt_number": 37
    },
    {
     "cell_type": "code",
     "collapsed": false,
     "input": [
      "sorted(set(text3))[::100]"
     ],
     "language": "python",
     "metadata": {},
     "outputs": [
      {
       "metadata": {},
       "output_type": "pyout",
       "prompt_number": 41,
       "text": [
        "[u'!',\n",
        " u'Benjamin',\n",
        " u'Ephrath',\n",
        " u'Huppim',\n",
        " u'Machpelah',\n",
        " u'Phut',\n",
        " u'Tell',\n",
        " u'afraid',\n",
        " u'beari',\n",
        " u'bring',\n",
        " u'colours',\n",
        " u'declare',\n",
        " u'ear',\n",
        " u'fed',\n",
        " u'fruitful',\n",
        " u'hanged',\n",
        " u'images',\n",
        " u'laws',\n",
        " u'men',\n",
        " u'nostrils',\n",
        " u'pitch',\n",
        " u'rebuked',\n",
        " u'sat',\n",
        " u'silver',\n",
        " u'still',\n",
        " u'thirteen',\n",
        " u'us',\n",
        " u'whom']"
       ]
      }
     ],
     "prompt_number": 41
    },
    {
     "cell_type": "code",
     "collapsed": false,
     "input": [
      "from __future__ import division\n",
      "len(text3) / len(set(text3))\n",
      "# 44764 / 2789"
     ],
     "language": "python",
     "metadata": {},
     "outputs": [
      {
       "metadata": {},
       "output_type": "pyout",
       "prompt_number": 42,
       "text": [
        "16.050197203298673"
       ]
      }
     ],
     "prompt_number": 42
    },
    {
     "cell_type": "code",
     "collapsed": false,
     "input": [
      "text3.count('smote')"
     ],
     "language": "python",
     "metadata": {},
     "outputs": [
      {
       "metadata": {},
       "output_type": "pyout",
       "prompt_number": 43,
       "text": [
        "5"
       ]
      }
     ],
     "prompt_number": 43
    },
    {
     "cell_type": "code",
     "collapsed": false,
     "input": [
      "100 * text4.count('a') / len(text4)"
     ],
     "language": "python",
     "metadata": {},
     "outputs": [
      {
       "metadata": {},
       "output_type": "pyout",
       "prompt_number": 44,
       "text": [
        "1.4643016433938312"
       ]
      }
     ],
     "prompt_number": 44
    },
    {
     "cell_type": "markdown",
     "metadata": {},
     "source": [
      "#### Your Turn\n",
      "\n",
      "- How many times does the word lol appear in text5?\n",
      "- How much is this as a precentage of the total number of words in this text?"
     ]
    },
    {
     "cell_type": "code",
     "collapsed": false,
     "input": [
      "100 * text5.count('lol') / len(text5)"
     ],
     "language": "python",
     "metadata": {},
     "outputs": [
      {
       "metadata": {},
       "output_type": "pyout",
       "prompt_number": 45,
       "text": [
        "1.5640968673628082"
       ]
      }
     ],
     "prompt_number": 45
    },
    {
     "cell_type": "code",
     "collapsed": false,
     "input": [
      "def lexical_diversity(text):\n",
      "    '''\n",
      "    \ubaa8\ub4e0 \ub2e8\uc5b4\uc218 / \uc720\uc77c\ud55c \ub2e8\uc5b4\uc218\n",
      "    '''\n",
      "    return len(text) / len(set(text))\n",
      "\n",
      "def percentage(count, total):\n",
      "    return 100 * count / total"
     ],
     "language": "python",
     "metadata": {},
     "outputs": [],
     "prompt_number": 46
    },
    {
     "cell_type": "code",
     "collapsed": false,
     "input": [
      "lexical_diversity(text3)"
     ],
     "language": "python",
     "metadata": {},
     "outputs": [
      {
       "metadata": {},
       "output_type": "pyout",
       "prompt_number": 47,
       "text": [
        "16.050197203298673"
       ]
      }
     ],
     "prompt_number": 47
    },
    {
     "cell_type": "code",
     "collapsed": false,
     "input": [
      "lexical_diversity(text5)"
     ],
     "language": "python",
     "metadata": {},
     "outputs": [
      {
       "metadata": {},
       "output_type": "pyout",
       "prompt_number": 48,
       "text": [
        "7.420046158918563"
       ]
      }
     ],
     "prompt_number": 48
    },
    {
     "cell_type": "code",
     "collapsed": false,
     "input": [
      "percentage(4, 5)"
     ],
     "language": "python",
     "metadata": {},
     "outputs": [
      {
       "metadata": {},
       "output_type": "pyout",
       "prompt_number": 49,
       "text": [
        "80.0"
       ]
      }
     ],
     "prompt_number": 49
    },
    {
     "cell_type": "code",
     "collapsed": false,
     "input": [
      "percentage(text4.count('a'), len(text4))"
     ],
     "language": "python",
     "metadata": {},
     "outputs": [
      {
       "metadata": {},
       "output_type": "pyout",
       "prompt_number": 50,
       "text": [
        "1.4643016433938312"
       ]
      }
     ],
     "prompt_number": 50
    },
    {
     "cell_type": "markdown",
     "metadata": {},
     "source": [
      "### 1.2 A Closer Look at Python: Text as Lists of Words\n",
      "\n",
      "#### Lists\n",
      "\n"
     ]
    },
    {
     "cell_type": "code",
     "collapsed": false,
     "input": [
      "sent1 = ['Call', 'me', 'Ishmael', '.']"
     ],
     "language": "python",
     "metadata": {},
     "outputs": [],
     "prompt_number": 55
    },
    {
     "cell_type": "code",
     "collapsed": false,
     "input": [
      "sent1"
     ],
     "language": "python",
     "metadata": {},
     "outputs": [
      {
       "metadata": {},
       "output_type": "pyout",
       "prompt_number": 56,
       "text": [
        "['Call', 'me', 'Ishmael', '.']"
       ]
      }
     ],
     "prompt_number": 56
    },
    {
     "cell_type": "code",
     "collapsed": false,
     "input": [
      "len(sent1)"
     ],
     "language": "python",
     "metadata": {},
     "outputs": [
      {
       "metadata": {},
       "output_type": "pyout",
       "prompt_number": 58,
       "text": [
        "4"
       ]
      }
     ],
     "prompt_number": 58
    },
    {
     "cell_type": "code",
     "collapsed": false,
     "input": [
      "lexical_diversity(sent1)"
     ],
     "language": "python",
     "metadata": {},
     "outputs": [
      {
       "metadata": {},
       "output_type": "pyout",
       "prompt_number": 59,
       "text": [
        "1.0"
       ]
      }
     ],
     "prompt_number": 59
    },
    {
     "cell_type": "code",
     "collapsed": false,
     "input": [
      "# 4 / 4\n",
      "# \uc804\uccb4 \ub2e8\uc5b4\uc218\uc640 \uc720\uc77c\ud55c \ub2e8\uc5b4\uc218\uac00 \ub611\uac19\ub2e4.\n",
      "# \uadf8\ub7ec\ubbc0\ub85c lexical diversity(\uc5b8\uc5b4\uc801 \ub2e4\uc591\uc131)\uc740 \ub611\uac19\ub2e4.\n",
      "len(sent1) / len(set(sent1))"
     ],
     "language": "python",
     "metadata": {},
     "outputs": [
      {
       "metadata": {},
       "output_type": "pyout",
       "prompt_number": 60,
       "text": [
        "1.0"
       ]
      }
     ],
     "prompt_number": 60
    },
    {
     "cell_type": "code",
     "collapsed": false,
     "input": [
      "sent2"
     ],
     "language": "python",
     "metadata": {},
     "outputs": [
      {
       "metadata": {},
       "output_type": "pyout",
       "prompt_number": 61,
       "text": [
        "['The',\n",
        " 'family',\n",
        " 'of',\n",
        " 'Dashwood',\n",
        " 'had',\n",
        " 'long',\n",
        " 'been',\n",
        " 'settled',\n",
        " 'in',\n",
        " 'Sussex',\n",
        " '.']"
       ]
      }
     ],
     "prompt_number": 61
    },
    {
     "cell_type": "code",
     "collapsed": false,
     "input": [
      "sent3"
     ],
     "language": "python",
     "metadata": {},
     "outputs": [
      {
       "metadata": {},
       "output_type": "pyout",
       "prompt_number": 62,
       "text": [
        "['In',\n",
        " 'the',\n",
        " 'beginning',\n",
        " 'God',\n",
        " 'created',\n",
        " 'the',\n",
        " 'heaven',\n",
        " 'and',\n",
        " 'the',\n",
        " 'earth',\n",
        " '.']"
       ]
      }
     ],
     "prompt_number": 62
    },
    {
     "cell_type": "markdown",
     "metadata": {},
     "source": [
      "#### Your Turn"
     ]
    },
    {
     "cell_type": "code",
     "collapsed": false,
     "input": [
      "ex1 = ['Monty', 'Python', 'and', 'the', 'Holy', 'Grail']"
     ],
     "language": "python",
     "metadata": {},
     "outputs": [],
     "prompt_number": 63
    },
    {
     "cell_type": "code",
     "collapsed": false,
     "input": [
      "sorted(ex1)"
     ],
     "language": "python",
     "metadata": {},
     "outputs": [
      {
       "metadata": {},
       "output_type": "pyout",
       "prompt_number": 64,
       "text": [
        "['Grail', 'Holy', 'Monty', 'Python', 'and', 'the']"
       ]
      }
     ],
     "prompt_number": 64
    },
    {
     "cell_type": "code",
     "collapsed": false,
     "input": [
      "len(ex1)"
     ],
     "language": "python",
     "metadata": {},
     "outputs": [
      {
       "metadata": {},
       "output_type": "pyout",
       "prompt_number": 67,
       "text": [
        "6"
       ]
      }
     ],
     "prompt_number": 67
    },
    {
     "cell_type": "code",
     "collapsed": false,
     "input": [
      "len(set(ex1))"
     ],
     "language": "python",
     "metadata": {},
     "outputs": [
      {
       "metadata": {},
       "output_type": "pyout",
       "prompt_number": 65,
       "text": [
        "6"
       ]
      }
     ],
     "prompt_number": 65
    },
    {
     "cell_type": "code",
     "collapsed": false,
     "input": [
      "ex1.count('the')"
     ],
     "language": "python",
     "metadata": {},
     "outputs": [
      {
       "metadata": {},
       "output_type": "pyout",
       "prompt_number": 66,
       "text": [
        "1"
       ]
      }
     ],
     "prompt_number": 66
    },
    {
     "cell_type": "code",
     "collapsed": false,
     "input": [
      "['Month', 'Python'] + ['and', 'the', 'Holy', 'Grail']"
     ],
     "language": "python",
     "metadata": {},
     "outputs": [
      {
       "metadata": {},
       "output_type": "pyout",
       "prompt_number": 68,
       "text": [
        "['Month', 'Python', 'and', 'the', 'Holy', 'Grail']"
       ]
      }
     ],
     "prompt_number": 68
    },
    {
     "cell_type": "code",
     "collapsed": false,
     "input": [
      "sent4 + sent1"
     ],
     "language": "python",
     "metadata": {},
     "outputs": [
      {
       "metadata": {},
       "output_type": "pyout",
       "prompt_number": 69,
       "text": [
        "['Fellow',\n",
        " '-',\n",
        " 'Citizens',\n",
        " 'of',\n",
        " 'the',\n",
        " 'Senate',\n",
        " 'and',\n",
        " 'of',\n",
        " 'the',\n",
        " 'House',\n",
        " 'of',\n",
        " 'Representatives',\n",
        " ':',\n",
        " 'Call',\n",
        " 'me',\n",
        " 'Ishmael',\n",
        " '.']"
       ]
      }
     ],
     "prompt_number": 69
    },
    {
     "cell_type": "code",
     "collapsed": false,
     "input": [
      "sent1.append('Some')"
     ],
     "language": "python",
     "metadata": {},
     "outputs": [],
     "prompt_number": 70
    },
    {
     "cell_type": "code",
     "collapsed": false,
     "input": [
      "sent1"
     ],
     "language": "python",
     "metadata": {},
     "outputs": [
      {
       "metadata": {},
       "output_type": "pyout",
       "prompt_number": 72,
       "text": [
        "['Call', 'me', 'Ishmael', '.', 'Some']"
       ]
      }
     ],
     "prompt_number": 72
    },
    {
     "cell_type": "markdown",
     "metadata": {},
     "source": [
      "### Indexing Lists"
     ]
    },
    {
     "cell_type": "code",
     "collapsed": false,
     "input": [
      "text4[173]"
     ],
     "language": "python",
     "metadata": {},
     "outputs": [
      {
       "metadata": {},
       "output_type": "pyout",
       "prompt_number": 73,
       "text": [
        "u'awaken'"
       ]
      }
     ],
     "prompt_number": 73
    },
    {
     "cell_type": "code",
     "collapsed": false,
     "input": [
      "text4.index('awaken')"
     ],
     "language": "python",
     "metadata": {},
     "outputs": [
      {
       "metadata": {},
       "output_type": "pyout",
       "prompt_number": 94,
       "text": [
        "173"
       ]
      }
     ],
     "prompt_number": 94
    },
    {
     "cell_type": "code",
     "collapsed": false,
     "input": [
      "text4"
     ],
     "language": "python",
     "metadata": {},
     "outputs": [
      {
       "metadata": {},
       "output_type": "pyout",
       "prompt_number": 74,
       "text": [
        "<Text: Inaugural Address Corpus>"
       ]
      }
     ],
     "prompt_number": 74
    },
    {
     "cell_type": "code",
     "collapsed": false,
     "input": [
      "text4.collocations"
     ],
     "language": "python",
     "metadata": {},
     "outputs": [
      {
       "metadata": {},
       "output_type": "pyout",
       "prompt_number": 77,
       "text": [
        "<bound method Text.collocations of <Text: Inaugural Address Corpus>>"
       ]
      }
     ],
     "prompt_number": 77
    },
    {
     "cell_type": "code",
     "collapsed": false,
     "input": [
      "text4.common_contexts('of')"
     ],
     "language": "python",
     "metadata": {},
     "outputs": [
      {
       "output_type": "stream",
       "stream": "stdout",
       "text": [
        "(u'The following word(s) were not found:', u'o f')\n"
       ]
      }
     ],
     "prompt_number": 84
    },
    {
     "cell_type": "code",
     "collapsed": false,
     "input": [
      "text4.readability"
     ],
     "language": "python",
     "metadata": {},
     "outputs": [
      {
       "metadata": {},
       "output_type": "pyout",
       "prompt_number": 87,
       "text": [
        "<bound method Text.readability of <Text: Inaugural Address Corpus>>"
       ]
      }
     ],
     "prompt_number": 87
    },
    {
     "cell_type": "code",
     "collapsed": false,
     "input": [
      "text4.vocab()"
     ],
     "language": "python",
     "metadata": {},
     "outputs": [
      {
       "metadata": {},
       "output_type": "pyout",
       "prompt_number": 91,
       "text": [
        "FreqDist({u'the': 9281, u'of': 6970, u',': 6840, u'and': 4991, u'.': 4676, u'to': 4311, u'in': 2527, u'a': 2134, u'our': 1905, u'that': 1688, ...})"
       ]
      }
     ],
     "prompt_number": 91
    },
    {
     "cell_type": "code",
     "collapsed": false,
     "input": [
      "len(text4)"
     ],
     "language": "python",
     "metadata": {},
     "outputs": [
      {
       "metadata": {},
       "output_type": "pyout",
       "prompt_number": 95,
       "text": [
        "145735"
       ]
      }
     ],
     "prompt_number": 95
    },
    {
     "cell_type": "code",
     "collapsed": false,
     "input": [
      "text5[16715:16735]"
     ],
     "language": "python",
     "metadata": {},
     "outputs": [
      {
       "metadata": {},
       "output_type": "pyout",
       "prompt_number": 96,
       "text": [
        "[u'U86',\n",
        " u'thats',\n",
        " u'why',\n",
        " u'something',\n",
        " u'like',\n",
        " u'gamefly',\n",
        " u'is',\n",
        " u'so',\n",
        " u'good',\n",
        " u'because',\n",
        " u'you',\n",
        " u'can',\n",
        " u'actually',\n",
        " u'play',\n",
        " u'a',\n",
        " u'full',\n",
        " u'game',\n",
        " u'without',\n",
        " u'buying',\n",
        " u'it']"
       ]
      }
     ],
     "prompt_number": 96
    },
    {
     "cell_type": "code",
     "collapsed": false,
     "input": [
      "text6[1600:1625]"
     ],
     "language": "python",
     "metadata": {},
     "outputs": [
      {
       "metadata": {},
       "output_type": "pyout",
       "prompt_number": 97,
       "text": [
        "[u'We',\n",
        " u\"'\",\n",
        " u're',\n",
        " u'an',\n",
        " u'anarcho',\n",
        " u'-',\n",
        " u'syndicalist',\n",
        " u'commune',\n",
        " u'.',\n",
        " u'We',\n",
        " u'take',\n",
        " u'it',\n",
        " u'in',\n",
        " u'turns',\n",
        " u'to',\n",
        " u'act',\n",
        " u'as',\n",
        " u'a',\n",
        " u'sort',\n",
        " u'of',\n",
        " u'executive',\n",
        " u'officer',\n",
        " u'for',\n",
        " u'the',\n",
        " u'week']"
       ]
      }
     ],
     "prompt_number": 97
    },
    {
     "cell_type": "code",
     "collapsed": false,
     "input": [
      "sent = ['word1', 'word2', 'word3', 'word4', 'word5',\n",
      "        'word6', 'word7', 'word8', 'word9', 'word10']"
     ],
     "language": "python",
     "metadata": {},
     "outputs": [],
     "prompt_number": 100
    },
    {
     "cell_type": "code",
     "collapsed": false,
     "input": [
      "sent[0]"
     ],
     "language": "python",
     "metadata": {},
     "outputs": [
      {
       "metadata": {},
       "output_type": "pyout",
       "prompt_number": 101,
       "text": [
        "'word1'"
       ]
      }
     ],
     "prompt_number": 101
    },
    {
     "cell_type": "code",
     "collapsed": false,
     "input": [
      "sent[9]"
     ],
     "language": "python",
     "metadata": {},
     "outputs": [
      {
       "metadata": {},
       "output_type": "pyout",
       "prompt_number": 102,
       "text": [
        "'word10'"
       ]
      }
     ],
     "prompt_number": 102
    },
    {
     "cell_type": "code",
     "collapsed": false,
     "input": [
      "sent[10]"
     ],
     "language": "python",
     "metadata": {},
     "outputs": [
      {
       "ename": "IndexError",
       "evalue": "list index out of range",
       "output_type": "pyerr",
       "traceback": [
        "\u001b[0;31m---------------------------------------------------------------------------\u001b[0m\n\u001b[0;31mIndexError\u001b[0m                                Traceback (most recent call last)",
        "\u001b[0;32m<ipython-input-103-146a2a32f068>\u001b[0m in \u001b[0;36m<module>\u001b[0;34m()\u001b[0m\n\u001b[0;32m----> 1\u001b[0;31m \u001b[0msent\u001b[0m\u001b[0;34m[\u001b[0m\u001b[0;36m10\u001b[0m\u001b[0;34m]\u001b[0m\u001b[0;34m\u001b[0m\u001b[0m\n\u001b[0m",
        "\u001b[0;31mIndexError\u001b[0m: list index out of range"
       ]
      }
     ],
     "prompt_number": 103
    },
    {
     "cell_type": "code",
     "collapsed": false,
     "input": [
      "sent[5:8]"
     ],
     "language": "python",
     "metadata": {},
     "outputs": [
      {
       "metadata": {},
       "output_type": "pyout",
       "prompt_number": 104,
       "text": [
        "['word6', 'word7', 'word8']"
       ]
      }
     ],
     "prompt_number": 104
    },
    {
     "cell_type": "code",
     "collapsed": false,
     "input": [
      "sent[5]"
     ],
     "language": "python",
     "metadata": {},
     "outputs": [
      {
       "metadata": {},
       "output_type": "pyout",
       "prompt_number": 105,
       "text": [
        "'word6'"
       ]
      }
     ],
     "prompt_number": 105
    },
    {
     "cell_type": "code",
     "collapsed": false,
     "input": [
      "sent[6]"
     ],
     "language": "python",
     "metadata": {},
     "outputs": [
      {
       "metadata": {},
       "output_type": "pyout",
       "prompt_number": 106,
       "text": [
        "'word7'"
       ]
      }
     ],
     "prompt_number": 106
    },
    {
     "cell_type": "code",
     "collapsed": false,
     "input": [
      "sent[7]"
     ],
     "language": "python",
     "metadata": {},
     "outputs": [
      {
       "metadata": {},
       "output_type": "pyout",
       "prompt_number": 107,
       "text": [
        "'word8'"
       ]
      }
     ],
     "prompt_number": 107
    },
    {
     "cell_type": "code",
     "collapsed": false,
     "input": [
      "sent[:3]"
     ],
     "language": "python",
     "metadata": {},
     "outputs": [
      {
       "metadata": {},
       "output_type": "pyout",
       "prompt_number": 108,
       "text": [
        "['word1', 'word2', 'word3']"
       ]
      }
     ],
     "prompt_number": 108
    },
    {
     "cell_type": "code",
     "collapsed": false,
     "input": [
      "text2[141525:]"
     ],
     "language": "python",
     "metadata": {},
     "outputs": [
      {
       "metadata": {},
       "output_type": "pyout",
       "prompt_number": 109,
       "text": [
        "[u'among',\n",
        " u'the',\n",
        " u'merits',\n",
        " u'and',\n",
        " u'the',\n",
        " u'happiness',\n",
        " u'of',\n",
        " u'Elinor',\n",
        " u'and',\n",
        " u'Marianne',\n",
        " u',',\n",
        " u'let',\n",
        " u'it',\n",
        " u'not',\n",
        " u'be',\n",
        " u'ranked',\n",
        " u'as',\n",
        " u'the',\n",
        " u'least',\n",
        " u'considerable',\n",
        " u',',\n",
        " u'that',\n",
        " u'though',\n",
        " u'sisters',\n",
        " u',',\n",
        " u'and',\n",
        " u'living',\n",
        " u'almost',\n",
        " u'within',\n",
        " u'sight',\n",
        " u'of',\n",
        " u'each',\n",
        " u'other',\n",
        " u',',\n",
        " u'they',\n",
        " u'could',\n",
        " u'live',\n",
        " u'without',\n",
        " u'disagreement',\n",
        " u'between',\n",
        " u'themselves',\n",
        " u',',\n",
        " u'or',\n",
        " u'producing',\n",
        " u'coolness',\n",
        " u'between',\n",
        " u'their',\n",
        " u'husbands',\n",
        " u'.',\n",
        " u'THE',\n",
        " u'END']"
       ]
      }
     ],
     "prompt_number": 109
    },
    {
     "cell_type": "code",
     "collapsed": false,
     "input": [
      "sent[0] = 'First'\n",
      "sent[9] = 'Last'"
     ],
     "language": "python",
     "metadata": {},
     "outputs": [],
     "prompt_number": 110
    },
    {
     "cell_type": "code",
     "collapsed": false,
     "input": [
      "len(sent)"
     ],
     "language": "python",
     "metadata": {},
     "outputs": [
      {
       "metadata": {},
       "output_type": "pyout",
       "prompt_number": 111,
       "text": [
        "10"
       ]
      }
     ],
     "prompt_number": 111
    },
    {
     "cell_type": "code",
     "collapsed": false,
     "input": [
      "sent"
     ],
     "language": "python",
     "metadata": {},
     "outputs": [
      {
       "metadata": {},
       "output_type": "pyout",
       "prompt_number": 113,
       "text": [
        "['First',\n",
        " 'word2',\n",
        " 'word3',\n",
        " 'word4',\n",
        " 'word5',\n",
        " 'word6',\n",
        " 'word7',\n",
        " 'word8',\n",
        " 'word9',\n",
        " 'Last']"
       ]
      }
     ],
     "prompt_number": 113
    },
    {
     "cell_type": "code",
     "collapsed": false,
     "input": [
      "sent[1:9] = ['Second', 'Third']"
     ],
     "language": "python",
     "metadata": {},
     "outputs": [],
     "prompt_number": 114
    },
    {
     "cell_type": "code",
     "collapsed": false,
     "input": [
      "sent"
     ],
     "language": "python",
     "metadata": {},
     "outputs": [
      {
       "metadata": {},
       "output_type": "pyout",
       "prompt_number": 115,
       "text": [
        "['First', 'Second', 'Third', 'Last']"
       ]
      }
     ],
     "prompt_number": 115
    },
    {
     "cell_type": "markdown",
     "metadata": {},
     "source": [
      "#### Your Turn\n"
     ]
    },
    {
     "cell_type": "markdown",
     "metadata": {},
     "source": [
      "### Variables"
     ]
    },
    {
     "cell_type": "code",
     "collapsed": false,
     "input": [
      "sent1 = ['Call', 'me', 'Ishmael', '.']"
     ],
     "language": "python",
     "metadata": {},
     "outputs": [],
     "prompt_number": 116
    },
    {
     "cell_type": "code",
     "collapsed": false,
     "input": [
      "my_sent = ['Bravely', 'bold', 'Sir', 'Robin', ',', 'rode',\n",
      "           'forth', 'from', 'Camelot', '.']"
     ],
     "language": "python",
     "metadata": {},
     "outputs": [],
     "prompt_number": 117
    },
    {
     "cell_type": "code",
     "collapsed": false,
     "input": [
      "noun_phrase = my_sent[1:4]\n",
      "noun_phrase"
     ],
     "language": "python",
     "metadata": {},
     "outputs": [
      {
       "metadata": {},
       "output_type": "pyout",
       "prompt_number": 118,
       "text": [
        "['bold', 'Sir', 'Robin']"
       ]
      }
     ],
     "prompt_number": 118
    },
    {
     "cell_type": "code",
     "collapsed": false,
     "input": [
      "wOrDs = sorted(noun_phrase)\n",
      "wOrDs"
     ],
     "language": "python",
     "metadata": {},
     "outputs": [
      {
       "metadata": {},
       "output_type": "pyout",
       "prompt_number": 119,
       "text": [
        "['Robin', 'Sir', 'bold']"
       ]
      }
     ],
     "prompt_number": 119
    },
    {
     "cell_type": "code",
     "collapsed": false,
     "input": [
      "not = 'Camelot'"
     ],
     "language": "python",
     "metadata": {},
     "outputs": [
      {
       "ename": "SyntaxError",
       "evalue": "invalid syntax (<ipython-input-120-d12e7e70e097>, line 1)",
       "output_type": "pyerr",
       "traceback": [
        "\u001b[0;36m  File \u001b[0;32m\"<ipython-input-120-d12e7e70e097>\"\u001b[0;36m, line \u001b[0;32m1\u001b[0m\n\u001b[0;31m    not = 'Camelot'\u001b[0m\n\u001b[0m        ^\u001b[0m\n\u001b[0;31mSyntaxError\u001b[0m\u001b[0;31m:\u001b[0m invalid syntax\n"
       ]
      }
     ],
     "prompt_number": 120
    },
    {
     "cell_type": "code",
     "collapsed": false,
     "input": [
      "vocab = set(text1)"
     ],
     "language": "python",
     "metadata": {},
     "outputs": [],
     "prompt_number": 130
    },
    {
     "cell_type": "code",
     "collapsed": false,
     "input": [
      "vocab_size = len(vocab)\n",
      "vocab_size"
     ],
     "language": "python",
     "metadata": {},
     "outputs": [
      {
       "metadata": {},
       "output_type": "pyout",
       "prompt_number": 131,
       "text": [
        "19317"
       ]
      }
     ],
     "prompt_number": 131
    },
    {
     "cell_type": "markdown",
     "metadata": {},
     "source": [
      "### Strings"
     ]
    },
    {
     "cell_type": "code",
     "collapsed": false,
     "input": [
      "name = 'Monty'"
     ],
     "language": "python",
     "metadata": {},
     "outputs": [],
     "prompt_number": 132
    },
    {
     "cell_type": "code",
     "collapsed": false,
     "input": [
      "name[0]"
     ],
     "language": "python",
     "metadata": {},
     "outputs": [
      {
       "metadata": {},
       "output_type": "pyout",
       "prompt_number": 133,
       "text": [
        "'M'"
       ]
      }
     ],
     "prompt_number": 133
    },
    {
     "cell_type": "code",
     "collapsed": false,
     "input": [
      "name[:4]"
     ],
     "language": "python",
     "metadata": {},
     "outputs": [
      {
       "metadata": {},
       "output_type": "pyout",
       "prompt_number": 134,
       "text": [
        "'Mont'"
       ]
      }
     ],
     "prompt_number": 134
    },
    {
     "cell_type": "code",
     "collapsed": false,
     "input": [
      "name * 2"
     ],
     "language": "python",
     "metadata": {},
     "outputs": [
      {
       "metadata": {},
       "output_type": "pyout",
       "prompt_number": 135,
       "text": [
        "'MontyMonty'"
       ]
      }
     ],
     "prompt_number": 135
    },
    {
     "cell_type": "code",
     "collapsed": false,
     "input": [
      "name + '!'"
     ],
     "language": "python",
     "metadata": {},
     "outputs": [
      {
       "metadata": {},
       "output_type": "pyout",
       "prompt_number": 136,
       "text": [
        "'Monty!'"
       ]
      }
     ],
     "prompt_number": 136
    },
    {
     "cell_type": "code",
     "collapsed": false,
     "input": [
      "' '.join(['Monty', 'Python'])"
     ],
     "language": "python",
     "metadata": {},
     "outputs": [
      {
       "metadata": {},
       "output_type": "pyout",
       "prompt_number": 137,
       "text": [
        "'Monty Python'"
       ]
      }
     ],
     "prompt_number": 137
    },
    {
     "cell_type": "code",
     "collapsed": false,
     "input": [
      "'Monty Python'.split()"
     ],
     "language": "python",
     "metadata": {},
     "outputs": [
      {
       "metadata": {},
       "output_type": "pyout",
       "prompt_number": 138,
       "text": [
        "['Monty', 'Python']"
       ]
      }
     ],
     "prompt_number": 138
    },
    {
     "cell_type": "markdown",
     "metadata": {},
     "source": [
      "## 1.3 Computing with Language: Simple Statistics"
     ]
    },
    {
     "cell_type": "code",
     "collapsed": false,
     "input": [
      "saying = ['After', 'all', 'is', 'said', 'and', 'done',\n",
      "          'more', 'is', 'said', 'than', 'done']"
     ],
     "language": "python",
     "metadata": {},
     "outputs": [],
     "prompt_number": 143
    },
    {
     "cell_type": "code",
     "collapsed": false,
     "input": [
      "tokens = set(saying)\n",
      "tokens"
     ],
     "language": "python",
     "metadata": {},
     "outputs": [
      {
       "metadata": {},
       "output_type": "pyout",
       "prompt_number": 144,
       "text": [
        "{'After', 'all', 'and', 'done', 'is', 'more', 'said', 'than'}"
       ]
      }
     ],
     "prompt_number": 144
    },
    {
     "cell_type": "code",
     "collapsed": false,
     "input": [
      "tokens = sorted(tokens)\n",
      "tokens"
     ],
     "language": "python",
     "metadata": {},
     "outputs": [
      {
       "metadata": {},
       "output_type": "pyout",
       "prompt_number": 145,
       "text": [
        "['After', 'all', 'and', 'done', 'is', 'more', 'said', 'than']"
       ]
      }
     ],
     "prompt_number": 145
    },
    {
     "cell_type": "code",
     "collapsed": false,
     "input": [
      "tokens[-2:]"
     ],
     "language": "python",
     "metadata": {},
     "outputs": [
      {
       "metadata": {},
       "output_type": "pyout",
       "prompt_number": 147,
       "text": [
        "['said', 'than']"
       ]
      }
     ],
     "prompt_number": 147
    },
    {
     "cell_type": "markdown",
     "metadata": {},
     "source": [
      "### Frequency Distributions"
     ]
    },
    {
     "cell_type": "code",
     "collapsed": false,
     "input": [
      "fdist1 = FreqDist(text1)\n",
      "fdist1"
     ],
     "language": "python",
     "metadata": {},
     "outputs": [
      {
       "metadata": {},
       "output_type": "pyout",
       "prompt_number": 148,
       "text": [
        "FreqDist({u',': 18713, u'the': 13721, u'.': 6862, u'of': 6536, u'and': 6024, u'a': 4569, u'to': 4542, u';': 4072, u'in': 3916, u'that': 2982, ...})"
       ]
      }
     ],
     "prompt_number": 148
    },
    {
     "cell_type": "code",
     "collapsed": false,
     "input": [
      "len(fdist1)"
     ],
     "language": "python",
     "metadata": {},
     "outputs": [
      {
       "metadata": {},
       "output_type": "pyout",
       "prompt_number": 151,
       "text": [
        "19317"
       ]
      }
     ],
     "prompt_number": 151
    },
    {
     "cell_type": "code",
     "collapsed": false,
     "input": [
      "# \uc81c\ub300\ub85c \uc548\ub418\ub294\ub370..?\n",
      "# sort\uac00 \uc548\ub418\uc5b4 \uc788\ub294\ub4ef\n",
      "vocabulary1 = fdist1.keys()\n",
      "vocabulary1[:50]"
     ],
     "language": "python",
     "metadata": {},
     "outputs": [
      {
       "metadata": {},
       "output_type": "pyout",
       "prompt_number": 170,
       "text": [
        "[u'funereal',\n",
        " u'unscientific',\n",
        " u'divinely',\n",
        " u'foul',\n",
        " u'four',\n",
        " u'gag',\n",
        " u'prefix',\n",
        " u'woods',\n",
        " u'clotted',\n",
        " u'Duck',\n",
        " u'hanging',\n",
        " u'plaudits',\n",
        " u'woody',\n",
        " u'Until',\n",
        " u'marching',\n",
        " u'disobeying',\n",
        " u'canes',\n",
        " u'granting',\n",
        " u'advantage',\n",
        " u'Westers',\n",
        " u'insertion',\n",
        " u'DRYDEN',\n",
        " u'formless',\n",
        " u'Untried',\n",
        " u'superficially',\n",
        " u'Western',\n",
        " u'portentous',\n",
        " u'beacon',\n",
        " u'meadows',\n",
        " u'sinking',\n",
        " u'Ding',\n",
        " u'Spurn',\n",
        " u'treasuries',\n",
        " u'churned',\n",
        " u'oceans',\n",
        " u'powders',\n",
        " u'tinkerings',\n",
        " u'tantalizing',\n",
        " u'yellow',\n",
        " u'bolting',\n",
        " u'uncertain',\n",
        " u'stabbed',\n",
        " u'bringing',\n",
        " u'elevations',\n",
        " u'ferreting',\n",
        " u'believers',\n",
        " u'wooded',\n",
        " u'songster',\n",
        " u'uttering',\n",
        " u'scholar']"
       ]
      }
     ],
     "prompt_number": 170
    },
    {
     "cell_type": "code",
     "collapsed": false,
     "input": [
      "# \uc774\uac8c \uc81c\ub300\ub85c \ub418\ub294\uac83 \uac19\ub2e4\n",
      "fdist1.most_common(50)"
     ],
     "language": "python",
     "metadata": {},
     "outputs": [
      {
       "metadata": {},
       "output_type": "pyout",
       "prompt_number": 173,
       "text": [
        "[(u',', 18713),\n",
        " (u'the', 13721),\n",
        " (u'.', 6862),\n",
        " (u'of', 6536),\n",
        " (u'and', 6024),\n",
        " (u'a', 4569),\n",
        " (u'to', 4542),\n",
        " (u';', 4072),\n",
        " (u'in', 3916),\n",
        " (u'that', 2982),\n",
        " (u\"'\", 2684),\n",
        " (u'-', 2552),\n",
        " (u'his', 2459),\n",
        " (u'it', 2209),\n",
        " (u'I', 2124),\n",
        " (u's', 1739),\n",
        " (u'is', 1695),\n",
        " (u'he', 1661),\n",
        " (u'with', 1659),\n",
        " (u'was', 1632),\n",
        " (u'as', 1620),\n",
        " (u'\"', 1478),\n",
        " (u'all', 1462),\n",
        " (u'for', 1414),\n",
        " (u'this', 1280),\n",
        " (u'!', 1269),\n",
        " (u'at', 1231),\n",
        " (u'by', 1137),\n",
        " (u'but', 1113),\n",
        " (u'not', 1103),\n",
        " (u'--', 1070),\n",
        " (u'him', 1058),\n",
        " (u'from', 1052),\n",
        " (u'be', 1030),\n",
        " (u'on', 1005),\n",
        " (u'so', 918),\n",
        " (u'whale', 906),\n",
        " (u'one', 889),\n",
        " (u'you', 841),\n",
        " (u'had', 767),\n",
        " (u'have', 760),\n",
        " (u'there', 715),\n",
        " (u'But', 705),\n",
        " (u'or', 697),\n",
        " (u'were', 680),\n",
        " (u'now', 646),\n",
        " (u'which', 640),\n",
        " (u'?', 637),\n",
        " (u'me', 627),\n",
        " (u'like', 624)]"
       ]
      }
     ],
     "prompt_number": 173
    },
    {
     "cell_type": "code",
     "collapsed": false,
     "input": [
      "[key for key, value in fdist1.most_common(50)]"
     ],
     "language": "python",
     "metadata": {},
     "outputs": [
      {
       "metadata": {},
       "output_type": "pyout",
       "prompt_number": 178,
       "text": [
        "[u',',\n",
        " u'the',\n",
        " u'.',\n",
        " u'of',\n",
        " u'and',\n",
        " u'a',\n",
        " u'to',\n",
        " u';',\n",
        " u'in',\n",
        " u'that',\n",
        " u\"'\",\n",
        " u'-',\n",
        " u'his',\n",
        " u'it',\n",
        " u'I',\n",
        " u's',\n",
        " u'is',\n",
        " u'he',\n",
        " u'with',\n",
        " u'was',\n",
        " u'as',\n",
        " u'\"',\n",
        " u'all',\n",
        " u'for',\n",
        " u'this',\n",
        " u'!',\n",
        " u'at',\n",
        " u'by',\n",
        " u'but',\n",
        " u'not',\n",
        " u'--',\n",
        " u'him',\n",
        " u'from',\n",
        " u'be',\n",
        " u'on',\n",
        " u'so',\n",
        " u'whale',\n",
        " u'one',\n",
        " u'you',\n",
        " u'had',\n",
        " u'have',\n",
        " u'there',\n",
        " u'But',\n",
        " u'or',\n",
        " u'were',\n",
        " u'now',\n",
        " u'which',\n",
        " u'?',\n",
        " u'me',\n",
        " u'like']"
       ]
      }
     ],
     "prompt_number": 178
    },
    {
     "cell_type": "code",
     "collapsed": false,
     "input": [
      "fdist1['whale']"
     ],
     "language": "python",
     "metadata": {},
     "outputs": [
      {
       "metadata": {},
       "output_type": "pyout",
       "prompt_number": 150,
       "text": [
        "906"
       ]
      }
     ],
     "prompt_number": 150
    },
    {
     "cell_type": "code",
     "collapsed": false,
     "input": [
      "',' in vocabulary1"
     ],
     "language": "python",
     "metadata": {},
     "outputs": [
      {
       "metadata": {},
       "output_type": "pyout",
       "prompt_number": 163,
       "text": [
        "True"
       ]
      }
     ],
     "prompt_number": 163
    },
    {
     "cell_type": "code",
     "collapsed": false,
     "input": [
      "fdist2 = FreqDist(text2)\n",
      "fdist2"
     ],
     "language": "python",
     "metadata": {},
     "outputs": [
      {
       "metadata": {},
       "output_type": "pyout",
       "prompt_number": 166,
       "text": [
        "FreqDist({u',': 9397, u'to': 4063, u'.': 3975, u'the': 3861, u'of': 3565, u'and': 3350, u'her': 2436, u'a': 2043, u'I': 2004, u'in': 1904, ...})"
       ]
      }
     ],
     "prompt_number": 166
    },
    {
     "cell_type": "code",
     "collapsed": false,
     "input": [
      "len(fdist2)"
     ],
     "language": "python",
     "metadata": {},
     "outputs": [
      {
       "metadata": {},
       "output_type": "pyout",
       "prompt_number": 167,
       "text": [
        "6833"
       ]
      }
     ],
     "prompt_number": 167
    },
    {
     "cell_type": "code",
     "collapsed": false,
     "input": [
      "[key for key, value in fdist2.most_common(50)]"
     ],
     "language": "python",
     "metadata": {},
     "outputs": [
      {
       "metadata": {},
       "output_type": "pyout",
       "prompt_number": 179,
       "text": [
        "[u',',\n",
        " u'to',\n",
        " u'.',\n",
        " u'the',\n",
        " u'of',\n",
        " u'and',\n",
        " u'her',\n",
        " u'a',\n",
        " u'I',\n",
        " u'in',\n",
        " u'was',\n",
        " u'it',\n",
        " u'\"',\n",
        " u';',\n",
        " u'she',\n",
        " u'be',\n",
        " u'that',\n",
        " u'for',\n",
        " u'not',\n",
        " u'as',\n",
        " u'you',\n",
        " u'with',\n",
        " u'had',\n",
        " u'his',\n",
        " u'he',\n",
        " u\"'\",\n",
        " u'have',\n",
        " u'at',\n",
        " u'by',\n",
        " u'is',\n",
        " u'.\"',\n",
        " u's',\n",
        " u'Elinor',\n",
        " u'on',\n",
        " u'all',\n",
        " u'him',\n",
        " u'so',\n",
        " u'but',\n",
        " u'which',\n",
        " u'could',\n",
        " u'Marianne',\n",
        " u'my',\n",
        " u'Mrs',\n",
        " u'from',\n",
        " u'would',\n",
        " u'very',\n",
        " u'no',\n",
        " u'their',\n",
        " u'them',\n",
        " u'--']"
       ]
      }
     ],
     "prompt_number": 179
    },
    {
     "cell_type": "code",
     "collapsed": false,
     "input": [
      "# 50\uac1c\ub97c \ub204\uc801 \uacc4\uc0b0\n",
      "fdist1.plot(50, cumulative=True)"
     ],
     "language": "python",
     "metadata": {},
     "outputs": [
      {
       "metadata": {},
       "output_type": "display_data",
       "png": "[encoded data removed]",
       "text": [
        "<matplotlib.figure.Figure at 0x1192fb610>"
       ]
      }
     ],
     "prompt_number": 180
    },
    {
     "cell_type": "code",
     "collapsed": false,
     "input": [
      "# 50\uac1c \uac01\uc790 \uacc4\uc0b0\n",
      "fdist1.plot(50)"
     ],
     "language": "python",
     "metadata": {},
     "outputs": [
      {
       "metadata": {},
       "output_type": "display_data",
       "png": "[encoded data removed]",
       "text": [
        "<matplotlib.figure.Figure at 0x11ad9ce50>"
       ]
      }
     ],
     "prompt_number": 182
    },
    {
     "cell_type": "code",
     "collapsed": false,
     "input": [
      "fdist1.plot(10, cumulative=True)"
     ],
     "language": "python",
     "metadata": {},
     "outputs": [
      {
       "metadata": {},
       "output_type": "display_data",
       "png": "[encoded data removed]",
       "text": [
        "<matplotlib.figure.Figure at 0x11ae4b750>"
       ]
      }
     ],
     "prompt_number": 183
    },
    {
     "cell_type": "code",
     "collapsed": false,
     "input": [
      "fdist1.plot(10)"
     ],
     "language": "python",
     "metadata": {},
     "outputs": [
      {
       "metadata": {},
       "output_type": "display_data",
       "png": "[encoded data removed]",
       "text": [
        "<matplotlib.figure.Figure at 0x11ae1fad0>"
       ]
      }
     ],
     "prompt_number": 184
    },
    {
     "cell_type": "code",
     "collapsed": false,
     "input": [
      "help(fdist1.hapaxes)"
     ],
     "language": "python",
     "metadata": {},
     "outputs": [
      {
       "output_type": "stream",
       "stream": "stdout",
       "text": [
        "Help on method hapaxes in module nltk.probability:\n",
        "\n",
        "hapaxes(self) method of nltk.probability.FreqDist instance\n",
        "    Return a list of all samples that occur once (hapax legomena)\n",
        "    \n",
        "    :rtype: list\n",
        "\n"
       ]
      }
     ],
     "prompt_number": 189
    },
    {
     "cell_type": "code",
     "collapsed": false,
     "input": [
      "# words occur once only\n",
      "list(fdist1.hapaxes())[::200]"
     ],
     "language": "python",
     "metadata": {},
     "outputs": [
      {
       "metadata": {},
       "output_type": "pyout",
       "prompt_number": 192,
       "text": [
        "[u'funereal',\n",
        " u'Socratic',\n",
        " u'voyaged',\n",
        " u'crescent',\n",
        " u'LETTER',\n",
        " u'Perry',\n",
        " u'breathest',\n",
        " u'FILING',\n",
        " u'fitfully',\n",
        " u'LEATHER',\n",
        " u'scrolls',\n",
        " u'Phidias',\n",
        " u'sheaf',\n",
        " u'gratitude',\n",
        " u'creative',\n",
        " u'truthfully',\n",
        " u'oxygenated',\n",
        " u'SAID',\n",
        " u'approved',\n",
        " u'parade',\n",
        " u'CRUISING',\n",
        " u'CHACE',\n",
        " u'cradle',\n",
        " u'wary',\n",
        " u'preparatives',\n",
        " u'jealousy',\n",
        " u'genera',\n",
        " u'lethargy',\n",
        " u'corals',\n",
        " u'Dish',\n",
        " u'barreller',\n",
        " u'WHALEBONE',\n",
        " u'rearward',\n",
        " u'Posted',\n",
        " u'inquired',\n",
        " u'lobtailing',\n",
        " u'Europa',\n",
        " u'irascible',\n",
        " u'rifled',\n",
        " u'hazards',\n",
        " u'strutting',\n",
        " u'DISSECTION',\n",
        " u'whizzings',\n",
        " u'flour',\n",
        " u'narrower',\n",
        " u'Shooting']"
       ]
      }
     ],
     "prompt_number": 192
    },
    {
     "cell_type": "code",
     "collapsed": false,
     "input": [
      "len(fdist1.hapaxes())"
     ],
     "language": "python",
     "metadata": {},
     "outputs": [
      {
       "metadata": {},
       "output_type": "pyout",
       "prompt_number": 190,
       "text": [
        "9002"
       ]
      }
     ],
     "prompt_number": 190
    },
    {
     "cell_type": "markdown",
     "metadata": {},
     "source": [
      "### Fine-Grained Selection of Words"
     ]
    },
    {
     "cell_type": "code",
     "collapsed": false,
     "input": [
      "V = set(text1)"
     ],
     "language": "python",
     "metadata": {},
     "outputs": [],
     "prompt_number": 185
    },
    {
     "cell_type": "code",
     "collapsed": false,
     "input": [
      "type(text1)"
     ],
     "language": "python",
     "metadata": {},
     "outputs": [
      {
       "metadata": {},
       "output_type": "pyout",
       "prompt_number": 186,
       "text": [
        "nltk.text.Text"
       ]
      }
     ],
     "prompt_number": 186
    },
    {
     "cell_type": "code",
     "collapsed": false,
     "input": [
      "long_words = [w for w in V if len(w) > 15]\n",
      "sorted(long_words)"
     ],
     "language": "python",
     "metadata": {},
     "outputs": [
      {
       "metadata": {},
       "output_type": "pyout",
       "prompt_number": 187,
       "text": [
        "[u'CIRCUMNAVIGATION',\n",
        " u'Physiognomically',\n",
        " u'apprehensiveness',\n",
        " u'cannibalistically',\n",
        " u'characteristically',\n",
        " u'circumnavigating',\n",
        " u'circumnavigation',\n",
        " u'circumnavigations',\n",
        " u'comprehensiveness',\n",
        " u'hermaphroditical',\n",
        " u'indiscriminately',\n",
        " u'indispensableness',\n",
        " u'irresistibleness',\n",
        " u'physiognomically',\n",
        " u'preternaturalness',\n",
        " u'responsibilities',\n",
        " u'simultaneousness',\n",
        " u'subterraneousness',\n",
        " u'supernaturalness',\n",
        " u'superstitiousness',\n",
        " u'uncomfortableness',\n",
        " u'uncompromisedness',\n",
        " u'undiscriminating',\n",
        " u'uninterpenetratingly']"
       ]
      }
     ],
     "prompt_number": 187
    },
    {
     "cell_type": "code",
     "collapsed": false,
     "input": [
      "fdist5 = FreqDist(text5)\n",
      "fdist5"
     ],
     "language": "python",
     "metadata": {},
     "outputs": [
      {
       "metadata": {},
       "output_type": "pyout",
       "prompt_number": 198,
       "text": [
        "FreqDist({u'.': 1268, u'JOIN': 1021, u'PART': 1016, u'?': 737, u'lol': 704, u'to': 658, u'i': 648, u'the': 646, u'you': 635, u',': 596, ...})"
       ]
      }
     ],
     "prompt_number": 198
    },
    {
     "cell_type": "code",
     "collapsed": false,
     "input": [
      "# \uae38\uc774\uac00 7\ucd08\uacfc && \ube48\ub3c4\uac00 7 \ucd08\uacfc\n",
      "sorted([w for w in set(text5) if len(w) > 7 and fdist5[w] > 7])"
     ],
     "language": "python",
     "metadata": {},
     "outputs": [
      {
       "metadata": {},
       "output_type": "pyout",
       "prompt_number": 194,
       "text": [
        "[u'#14-19teens',\n",
        " u'#talkcity_adults',\n",
        " u'((((((((((',\n",
        " u'........',\n",
        " u'Question',\n",
        " u'actually',\n",
        " u'anything',\n",
        " u'computer',\n",
        " u'cute.-ass',\n",
        " u'everyone',\n",
        " u'football',\n",
        " u'innocent',\n",
        " u'listening',\n",
        " u'remember',\n",
        " u'seriously',\n",
        " u'something',\n",
        " u'together',\n",
        " u'tomorrow',\n",
        " u'watching']"
       ]
      }
     ],
     "prompt_number": 194
    },
    {
     "cell_type": "code",
     "collapsed": false,
     "input": [
      "sorted([w for w in set(text5) if len(w) > 7])[:30]"
     ],
     "language": "python",
     "metadata": {},
     "outputs": [
      {
       "metadata": {},
       "output_type": "pyout",
       "prompt_number": 318,
       "text": [
        "[u'!!!!!!!!',\n",
        " u'!!!!!!!!!',\n",
        " u'!!!!!!!!!!',\n",
        " u'!!!!!!!!!!!',\n",
        " u'!!!!!!!!!!!!!',\n",
        " u'!!!!!!!!!!!!!!!!',\n",
        " u'!!!!!!!!!!!!!!!!!!!!!!',\n",
        " u'!!!!!!!!!!!!!!!!!!!!!!!',\n",
        " u'!!!!!!!!!!!!!!!!!!!!!!!!!!!',\n",
        " u'!!!!!!!!!!!!!!!!!!!!!!!!!!!!',\n",
        " u'!!!!!!!!!!!!!!!!!!!!!!!!!!!!!!!!!!!!!!!!!!!!!!!!!!!!!!',\n",
        " u'!!!!....',\n",
        " u'#14-19teens',\n",
        " u'#40sPlus',\n",
        " u'#prideIsland',\n",
        " u'#prideisland',\n",
        " u'#talkcity-20s',\n",
        " u'#talkcity_adults',\n",
        " u'( o Y o )',\n",
        " u'((((((((',\n",
        " u'(((((((((',\n",
        " u'((((((((((',\n",
        " u'(((((((((((',\n",
        " u'((((((((((((',\n",
        " u'(((((((((((((',\n",
        " u'((((((((((((((',\n",
        " u'(((((((((((((((',\n",
        " u'(((((((((((((((((',\n",
        " u'((((((((((((((((((',\n",
        " u'((((((((((((((((((((']"
       ]
      }
     ],
     "prompt_number": 318
    },
    {
     "cell_type": "code",
     "collapsed": false,
     "input": [
      "# fdist5[w]\ub97c \ud558\uac8c\ub418\uba74 '!'\uc758 \ube48\ub3c4\ub97c \ub098\ud0c0\ub0b4\ub294 \uac12\uc774 \ub098\uc628\ub2e4.\n",
      "# 7\ubc88 \ucd08\uacfc\n",
      "sorted([w for w in set(text5) if fdist5[w] > 7])[:30]"
     ],
     "language": "python",
     "metadata": {},
     "outputs": [
      {
       "metadata": {},
       "output_type": "pyout",
       "prompt_number": 317,
       "text": [
        "[u'!',\n",
        " u'!!',\n",
        " u'!!!',\n",
        " u'!!!!',\n",
        " u'!!!!!',\n",
        " u'!.',\n",
        " u'\"',\n",
        " u'#14-19teens',\n",
        " u'#talkcity_adults',\n",
        " u'&',\n",
        " u\"'\",\n",
        " u\"'d\",\n",
        " u\"'ll\",\n",
        " u\"'m\",\n",
        " u\"'re\",\n",
        " u\"'s\",\n",
        " u\"'ve\",\n",
        " u'(',\n",
        " u'(((((',\n",
        " u'((((((((((',\n",
        " u')',\n",
        " u')))))',\n",
        " u'*',\n",
        " u'+',\n",
        " u',',\n",
        " u',,',\n",
        " u',,,',\n",
        " u'-',\n",
        " u'--',\n",
        " u'.']"
       ]
      }
     ],
     "prompt_number": 317
    },
    {
     "cell_type": "code",
     "collapsed": false,
     "input": [
      "fdist5['!']"
     ],
     "language": "python",
     "metadata": {},
     "outputs": [
      {
       "metadata": {},
       "output_type": "pyout",
       "prompt_number": 203,
       "text": [
        "342"
       ]
      }
     ],
     "prompt_number": 203
    },
    {
     "cell_type": "code",
     "collapsed": false,
     "input": [
      "len(text5)"
     ],
     "language": "python",
     "metadata": {},
     "outputs": [
      {
       "metadata": {},
       "output_type": "pyout",
       "prompt_number": 196,
       "text": [
        "45010"
       ]
      }
     ],
     "prompt_number": 196
    },
    {
     "cell_type": "markdown",
     "metadata": {},
     "source": [
      "#### Frequency Distribution\n",
      "\n",
      "```python\n",
      "fdist5 = FreqDist(text5)\n",
      "len(fdist5)\n",
      "len(set(text5)\n",
      "```\n",
      "\n",
      "- \uac19\uc744 \uc218 \ubc16\uc5d0 \uc5c6\ub2e4.\n",
      "- text5\uc758 \uac00\uc7a5 \uc790\uc8fc \ub098\ud0c0\ub098\ub294 \ub2e8\uc5b4\uc758 \uac1c\uc218\ub97c \uc138\uc5b4 fdist5\ub85c \ub9cc\ub4e4\uc5c8\uc73c\ub2c8\n",
      "- set(text5)\ub97c \ud558\uac8c \ub418\uba74 \ub2e8\uc5b4\uc758 \uac1c\uc218\uac00 \ubaa8\ub450 \uc0ac\ub77c\uc9c0\uae30 \ub54c\ubb38\uc5d0 \ubd84\ud3ec\uac19\uc740 \uac83\uc744 \ud655\uc778\ud560 \ub54c\ub294 FreqDist\uac00 \ub098\uc740\uac83 \uac19\ub2e4."
     ]
    },
    {
     "cell_type": "code",
     "collapsed": false,
     "input": [
      "len(fdist5)"
     ],
     "language": "python",
     "metadata": {},
     "outputs": [
      {
       "metadata": {},
       "output_type": "pyout",
       "prompt_number": 195,
       "text": [
        "6066"
       ]
      }
     ],
     "prompt_number": 195
    },
    {
     "cell_type": "code",
     "collapsed": false,
     "input": [
      "len(set(text5))"
     ],
     "language": "python",
     "metadata": {},
     "outputs": [
      {
       "metadata": {},
       "output_type": "pyout",
       "prompt_number": 199,
       "text": [
        "6066"
       ]
      }
     ],
     "prompt_number": 199
    },
    {
     "cell_type": "markdown",
     "metadata": {},
     "source": [
      "### Collocations and Bigrams\n",
      "\n",
      "- collocation(\uc5f0\uacb0): \uc21c\uc11c\uc788\ub294 \ub2e8\uc5b4\ub4e4\uc774 \uc790\uc8fc \ud568\uaed8 \ubc1c\uc0dd\ud558\ub294\uc9c0?\n",
      "- bigrams: \uc5f0\uacb0\ub41c \uacf3\uc5d0\uc11c \ud578\ub4e4\uc744 \uc5bb\uac8c \ub410\uc744 \ub54c, \ub2e8\uc5b4\uc30d\uc758 \ubaa9\ub85d\uc5d0\uc11c \ucd94\ucd9c\ud558\uba74\uc11c \uc2dc\uc791\ud55c\ub2e4. To get a hanle on collocations, we start off by extracting from a text a list of word pairs, also known as bigrams.\n",
      "- ngram\n",
      "  - [Hakawati Security Lab  :: \\[\uae30\uacc4 \ud559\uc2b5\\] N-\uadf8\ub7a8\uc744 \uc774\uc6a9\ud55c \ud14d\uc2a4\ud2b8 \ub9c8\uc774\ub2dd](http://hidka.tistory.com/251): \ud14d\uc2a4\ud2b8, \ubc14\uc774\ub108\ub9ac \ub4f1 \uc804\uccb4 \ubb38\uc790\uc5f4\uc744 N \uac12 \ub9cc\ud07c \uc11c\ube0c\uc2a4\ud2b8\ub9c1(Sub-String)\uc73c\ub85c \ub098\ub204\uc5b4 \ud1b5\uacc4\ud559\uc801\uc73c\ub85c \uc0ac\uc6a9\ud55c \ubc29\ubc95\uc744 \uc758\ubbf8\n",
      "  - [\uae30\ud68d\uc790 \ubcf8\uc778\ub9cc\ud07c \uc7a1\ub2e4\ud55c \ube14\ub85c\uadf8 : <\ub9cc\ub4e4\uba74\uc11c \ubc30\uc6b0\ub294 \uae30\uacc4 \ud559\uc2b5> - 1. N-gram : \ub367\uae00 > <\ub9cc\ub4e4\uba74\uc11c \ubc30\uc6b0\ub294 \uae30\uacc4 \ud559\uc2b5> - 1. N-gram : \ud2b8\ub799\ubc31 > <\ub9cc\ub4e4\uba74\uc11c \ubc30\uc6b0\ub294 \uae30\uacc4 \ud559\uc2b5> - 1. N-gram](http://greentec.egloos.com/viewer/2795831)\n",
      "\n",
      "\n",
      "#### \uc624\ub298\uc758 \uc8fc\uc81c : N-gram\n",
      "- N-gram\uc774\ub780 \uac04\ub2e8\ud558\uac8c \ub9d0\ud574\uc11c \uc785\ub825\ud55c \ubb38\uc790\uc5f4\uc744 N\uac1c\uc758 \uae30\uc900 \ub2e8\uc704\ub85c \uc808\ub2e8\ud558\ub294 \ubc29\ubc95\uc774\ub2e4. \uc608\ub97c \ub4e4\uc5b4 \"Here is a dog\" \ub77c\ub294 \ubb38\uc7a5\uc744 **\ubb38\uc790 \uc808\ub2e8 \ub2e8\uc704\uc758 3-gram**\uc73c\ub85c \ub9cc\ub4e0\ub2e4\uba74, \n",
      "- \"Her\", \"ere\", \"re_\", \"e_i\", \"_is\", \"is_\", \"s_a\", \"_a_\", \"a_d\", \"_do\", \"dog\" \ub85c \ub9cc\ub4e4 \uc218 \uc788\ub2e4. \n",
      "- \uac19\uc740 \uc791\uc5c5\uc744 **\ub2e8\uc5b4 \ub2e8\uc704\uc758 2-gram**\uc73c\ub85c \ub9cc\ub4e0\ub2e4\uba74, \"Here is\", \"is a\", \"a dog\" \uac00 \ub41c\ub2e4."
     ]
    },
    {
     "cell_type": "code",
     "collapsed": false,
     "input": [
      "help(bigrams)"
     ],
     "language": "python",
     "metadata": {},
     "outputs": [
      {
       "output_type": "stream",
       "stream": "stdout",
       "text": [
        "Help on function bigrams in module nltk.util:\n",
        "\n",
        "bigrams(sequence, **kwargs)\n",
        "    Return the bigrams generated from a sequence of items, as an iterator.\n",
        "    For example:\n",
        "    \n",
        "        >>> from nltk.util import bigrams\n",
        "        >>> list(bigrams([1,2,3,4,5]))\n",
        "        [(1, 2), (2, 3), (3, 4), (4, 5)]\n",
        "    \n",
        "    Use bigrams for a list version of this function.\n",
        "    \n",
        "    :param sequence: the source data to be converted into bigrams\n",
        "    :type sequence: sequence or iter\n",
        "    :rtype: iter(tuple)\n",
        "\n"
       ]
      }
     ],
     "prompt_number": 206
    },
    {
     "cell_type": "code",
     "collapsed": false,
     "input": [
      "bigrams(['more', 'is', 'said', 'than', 'done'])"
     ],
     "language": "python",
     "metadata": {},
     "outputs": [
      {
       "metadata": {},
       "output_type": "pyout",
       "prompt_number": 212,
       "text": [
        "<generator object bigrams at 0x10c3eac80>"
       ]
      }
     ],
     "prompt_number": 212
    },
    {
     "cell_type": "code",
     "collapsed": false,
     "input": [
      "list(bigrams(['more', 'is', 'said', 'than', 'done']))"
     ],
     "language": "python",
     "metadata": {},
     "outputs": [
      {
       "metadata": {},
       "output_type": "pyout",
       "prompt_number": 213,
       "text": [
        "[('more', 'is'), ('is', 'said'), ('said', 'than'), ('than', 'done')]"
       ]
      }
     ],
     "prompt_number": 213
    },
    {
     "cell_type": "code",
     "collapsed": false,
     "input": [
      "text4.collocations()"
     ],
     "language": "python",
     "metadata": {},
     "outputs": [
      {
       "output_type": "stream",
       "stream": "stdout",
       "text": [
        "United States; fellow citizens; four years; years ago; Federal\n",
        "Government; General Government; American people; Vice President; Old\n",
        "World; Almighty God; Fellow citizens; Chief Magistrate; Chief Justice;\n",
        "God bless; every citizen; Indian tribes; public debt; one another;\n",
        "foreign nations; political parties\n"
       ]
      }
     ],
     "prompt_number": 215
    },
    {
     "cell_type": "code",
     "collapsed": false,
     "input": [
      "text8.collocations()"
     ],
     "language": "python",
     "metadata": {},
     "outputs": [
      {
       "output_type": "stream",
       "stream": "stdout",
       "text": [
        "would like; medium build; social drinker; quiet nights; non smoker;\n",
        "long term; age open; Would like; easy going; financially secure; fun\n",
        "times; similar interests; Age open; weekends away; poss rship; well\n",
        "presented; never married; single mum; permanent relationship; slim\n",
        "build\n"
       ]
      }
     ],
     "prompt_number": 216
    },
    {
     "cell_type": "markdown",
     "metadata": {},
     "source": [
      "### Counting Other Things"
     ]
    },
    {
     "cell_type": "code",
     "collapsed": false,
     "input": [
      "[len(w) for w in text1][:30]"
     ],
     "language": "python",
     "metadata": {},
     "outputs": [
      {
       "metadata": {},
       "output_type": "pyout",
       "prompt_number": 316,
       "text": [
        "[1,\n",
        " 4,\n",
        " 4,\n",
        " 2,\n",
        " 6,\n",
        " 8,\n",
        " 4,\n",
        " 1,\n",
        " 9,\n",
        " 1,\n",
        " 1,\n",
        " 8,\n",
        " 2,\n",
        " 1,\n",
        " 4,\n",
        " 11,\n",
        " 5,\n",
        " 2,\n",
        " 1,\n",
        " 7,\n",
        " 6,\n",
        " 1,\n",
        " 3,\n",
        " 4,\n",
        " 5,\n",
        " 2,\n",
        " 10,\n",
        " 2,\n",
        " 4,\n",
        " 1]"
       ]
      }
     ],
     "prompt_number": 316
    },
    {
     "cell_type": "code",
     "collapsed": false,
     "input": [
      "fdist = FreqDist([len(w) for w in text1])\n",
      "fdist"
     ],
     "language": "python",
     "metadata": {},
     "outputs": [
      {
       "metadata": {},
       "output_type": "pyout",
       "prompt_number": 219,
       "text": [
        "FreqDist({3: 50223, 1: 47933, 4: 42345, 2: 38513, 5: 26597, 6: 17111, 7: 14399, 8: 9966, 9: 6428, 10: 3528, ...})"
       ]
      }
     ],
     "prompt_number": 219
    },
    {
     "cell_type": "code",
     "collapsed": false,
     "input": [
      "fdist.keys()"
     ],
     "language": "python",
     "metadata": {},
     "outputs": [
      {
       "metadata": {},
       "output_type": "pyout",
       "prompt_number": 220,
       "text": [
        "[1, 2, 3, 4, 5, 6, 7, 8, 9, 10, 11, 12, 13, 14, 15, 16, 17, 18, 20]"
       ]
      }
     ],
     "prompt_number": 220
    },
    {
     "cell_type": "code",
     "collapsed": false,
     "input": [
      "fdist[15]"
     ],
     "language": "python",
     "metadata": {},
     "outputs": [
      {
       "metadata": {},
       "output_type": "pyout",
       "prompt_number": 224,
       "text": [
        "70"
       ]
      }
     ],
     "prompt_number": 224
    },
    {
     "cell_type": "code",
     "collapsed": false,
     "input": [
      "fdist.items()"
     ],
     "language": "python",
     "metadata": {},
     "outputs": [
      {
       "metadata": {},
       "output_type": "pyout",
       "prompt_number": 225,
       "text": [
        "[(1, 47933),\n",
        " (2, 38513),\n",
        " (3, 50223),\n",
        " (4, 42345),\n",
        " (5, 26597),\n",
        " (6, 17111),\n",
        " (7, 14399),\n",
        " (8, 9966),\n",
        " (9, 6428),\n",
        " (10, 3528),\n",
        " (11, 1873),\n",
        " (12, 1053),\n",
        " (13, 567),\n",
        " (14, 177),\n",
        " (15, 70),\n",
        " (16, 22),\n",
        " (17, 12),\n",
        " (18, 1),\n",
        " (20, 1)]"
       ]
      }
     ],
     "prompt_number": 225
    },
    {
     "cell_type": "code",
     "collapsed": false,
     "input": [
      "fdist[3]"
     ],
     "language": "python",
     "metadata": {},
     "outputs": [
      {
       "metadata": {},
       "output_type": "pyout",
       "prompt_number": 226,
       "text": [
        "50223"
       ]
      }
     ],
     "prompt_number": 226
    },
    {
     "cell_type": "code",
     "collapsed": false,
     "input": [
      "help(fdist.freq)"
     ],
     "language": "python",
     "metadata": {},
     "outputs": [
      {
       "output_type": "stream",
       "stream": "stdout",
       "text": [
        "Help on method freq in module nltk.probability:\n",
        "\n",
        "freq(self, sample) method of nltk.probability.FreqDist instance\n",
        "    Return the frequency of a given sample.  The frequency of a\n",
        "    sample is defined as the count of that sample divided by the\n",
        "    total number of sample outcomes that have been recorded by\n",
        "    this FreqDist.  The count of a sample is defined as the\n",
        "    number of times that sample outcome was recorded by this\n",
        "    FreqDist.  Frequencies are always real numbers in the range\n",
        "    [0, 1].\n",
        "    \n",
        "    :param sample: the sample whose frequency\n",
        "           should be returned.\n",
        "    :type sample: any\n",
        "    :rtype: float\n",
        "\n"
       ]
      }
     ],
     "prompt_number": 229
    },
    {
     "cell_type": "code",
     "collapsed": false,
     "input": [
      "result = 0\n",
      "for key, value in fdist.items():\n",
      "    result += value\n",
      "result"
     ],
     "language": "python",
     "metadata": {},
     "outputs": [
      {
       "metadata": {},
       "output_type": "pyout",
       "prompt_number": 231,
       "text": [
        "260819"
       ]
      }
     ],
     "prompt_number": 231
    },
    {
     "cell_type": "code",
     "collapsed": false,
     "input": [
      "fdist[3] / result"
     ],
     "language": "python",
     "metadata": {},
     "outputs": [
      {
       "metadata": {},
       "output_type": "pyout",
       "prompt_number": 232,
       "text": [
        "0.19255882431878046"
       ]
      }
     ],
     "prompt_number": 232
    },
    {
     "cell_type": "code",
     "collapsed": false,
     "input": [
      "# \ud2b9\uc815\ud55c \uac12 / \ucd1d \uc22b\uc790\n",
      "fdist.freq(3)"
     ],
     "language": "python",
     "metadata": {},
     "outputs": [
      {
       "metadata": {},
       "output_type": "pyout",
       "prompt_number": 227,
       "text": [
        "0.19255882431878046"
       ]
      }
     ],
     "prompt_number": 227
    },
    {
     "cell_type": "code",
     "collapsed": false,
     "input": [
      "1 / result"
     ],
     "language": "python",
     "metadata": {},
     "outputs": [
      {
       "metadata": {},
       "output_type": "pyout",
       "prompt_number": 233,
       "text": [
        "3.834076505162584e-06"
       ]
      }
     ],
     "prompt_number": 233
    },
    {
     "cell_type": "code",
     "collapsed": false,
     "input": [
      "fdist.freq(20)"
     ],
     "language": "python",
     "metadata": {},
     "outputs": [
      {
       "metadata": {},
       "output_type": "pyout",
       "prompt_number": 228,
       "text": [
        "3.834076505162584e-06"
       ]
      }
     ],
     "prompt_number": 228
    },
    {
     "cell_type": "markdown",
     "metadata": {},
     "source": [
      "- 3\uae00\uc790\ub85c \uc774\ub8e8\uc5b4\uc9c4 \ub2e8\uc5b4\uac00 \uc804\uccb4 \ucc45\uc758 20%(50000\uac1c)\ub2e4."
     ]
    },
    {
     "cell_type": "markdown",
     "metadata": {},
     "source": [
      "#### Functions defined for NLTK's frequency distributions\n",
      "\n",
      "Example | Description\n",
      "--- | ---\n",
      "fdist = FreqDist(samples) | Create a frequency distribution containing the given samples\n",
      "fdist.inc(sample) | Increment the count for this sample\n",
      "fdist['monstrous'] | Count of the number of times a given sample occurred\n",
      "fdist.freq('monstrous') | Frequency of a given sample\n",
      "fdist.N() | Total number of samples\n",
      "fdist.keys() | The samples sorted in order of decreasing frequency\n",
      "for sample in fdist: | Iterate over the samples, in order of decreasing frequency\n",
      "fdist.max() | Sample with the greatest count\n",
      "fdist.tabulate() | Tabulate the frequency distribution\n",
      "fdist.plot() | Graphical plot of the frequency distribution\n",
      "fdist.plot(cumulative=True) | Cumulative plot of the frequency distribution\n",
      "fdist1 < fdist2 | Test if samples in fdist1 occur less frequently than in fdist2"
     ]
    },
    {
     "cell_type": "code",
     "collapsed": false,
     "input": [
      "fdist2['monstrous']"
     ],
     "language": "python",
     "metadata": {},
     "outputs": [
      {
       "metadata": {},
       "output_type": "pyout",
       "prompt_number": 236,
       "text": [
        "11"
       ]
      }
     ],
     "prompt_number": 236
    },
    {
     "cell_type": "code",
     "collapsed": false,
     "input": [
      "fdist2.freq('monstrous')"
     ],
     "language": "python",
     "metadata": {},
     "outputs": [
      {
       "metadata": {},
       "output_type": "pyout",
       "prompt_number": 235,
       "text": [
        "7.769678476577951e-05"
       ]
      }
     ],
     "prompt_number": 235
    },
    {
     "cell_type": "code",
     "collapsed": false,
     "input": [
      "fdist2.N()"
     ],
     "language": "python",
     "metadata": {},
     "outputs": [
      {
       "metadata": {},
       "output_type": "pyout",
       "prompt_number": 237,
       "text": [
        "141576"
       ]
      }
     ],
     "prompt_number": 237
    },
    {
     "cell_type": "code",
     "collapsed": false,
     "input": [
      "fdist2['monstrous'] / fdist2.N()"
     ],
     "language": "python",
     "metadata": {},
     "outputs": [
      {
       "metadata": {},
       "output_type": "pyout",
       "prompt_number": 238,
       "text": [
        "7.769678476577951e-05"
       ]
      }
     ],
     "prompt_number": 238
    },
    {
     "cell_type": "code",
     "collapsed": false,
     "input": [
      "fdist2.keys()[::200]"
     ],
     "language": "python",
     "metadata": {},
     "outputs": [
      {
       "metadata": {},
       "output_type": "pyout",
       "prompt_number": 242,
       "text": [
        "[u'succour',\n",
        " u'mouth',\n",
        " u'guineas',\n",
        " u'future',\n",
        " u'rage',\n",
        " u'owners',\n",
        " u'continue',\n",
        " u'billiard',\n",
        " u'sister',\n",
        " u'recovering',\n",
        " u'congratulate',\n",
        " u'spacious',\n",
        " u'offence',\n",
        " u'systems',\n",
        " u'useful',\n",
        " u'farm',\n",
        " u'addition',\n",
        " u'plea',\n",
        " u'weary',\n",
        " u'disgusting',\n",
        " u'trace',\n",
        " u'Though',\n",
        " u'connect',\n",
        " u'bid',\n",
        " u'flattering',\n",
        " u'Dorsetshire',\n",
        " u'diminished',\n",
        " u'beef',\n",
        " u'entertain',\n",
        " u'duty',\n",
        " u'tea',\n",
        " u'unsuited',\n",
        " u'disinherited',\n",
        " u'unaccountably',\n",
        " u'whether']"
       ]
      }
     ],
     "prompt_number": 242
    },
    {
     "cell_type": "code",
     "collapsed": false,
     "input": [
      "for i, sample in enumerate(fdist2):\n",
      "    if i > 10:\n",
      "        break\n",
      "    print(sample)"
     ],
     "language": "python",
     "metadata": {},
     "outputs": [
      {
       "output_type": "stream",
       "stream": "stdout",
       "text": [
        "succour\n",
        "four\n",
        "woods\n",
        "hanging\n",
        "woody\n",
        "conjure\n",
        "looking\n",
        "eligible\n",
        "scold\n",
        "unsuitableness\n",
        "meadows\n"
       ]
      }
     ],
     "prompt_number": 243
    },
    {
     "cell_type": "code",
     "collapsed": false,
     "input": [
      "fdist2.max()"
     ],
     "language": "python",
     "metadata": {},
     "outputs": [
      {
       "metadata": {},
       "output_type": "pyout",
       "prompt_number": 245,
       "text": [
        "u','"
       ]
      }
     ],
     "prompt_number": 245
    },
    {
     "cell_type": "code",
     "collapsed": false,
     "input": [
      "fdist2"
     ],
     "language": "python",
     "metadata": {},
     "outputs": [
      {
       "metadata": {},
       "output_type": "pyout",
       "prompt_number": 246,
       "text": [
        "FreqDist({u',': 9397, u'to': 4063, u'.': 3975, u'the': 3861, u'of': 3565, u'and': 3350, u'her': 2436, u'a': 2043, u'I': 2004, u'in': 1904, ...})"
       ]
      }
     ],
     "prompt_number": 246
    },
    {
     "cell_type": "code",
     "collapsed": false,
     "input": [
      "#   ,   to    .  the   of  and  her    a    I   in  was   it    \"    \n",
      "# fdist2.tabulate()"
     ],
     "language": "python",
     "metadata": {},
     "outputs": [],
     "prompt_number": 251
    },
    {
     "cell_type": "code",
     "collapsed": false,
     "input": [
      "fdist2.plot()"
     ],
     "language": "python",
     "metadata": {},
     "outputs": [
      {
       "metadata": {},
       "output_type": "display_data",
       "png": "[encoded data removed]",
       "text": [
        "<matplotlib.figure.Figure at 0x1192e8a50>"
       ]
      }
     ],
     "prompt_number": 252
    },
    {
     "cell_type": "code",
     "collapsed": false,
     "input": [
      "fdist2.plot(cumulative=True)"
     ],
     "language": "python",
     "metadata": {},
     "outputs": [
      {
       "metadata": {},
       "output_type": "display_data",
       "png": "[encoded data removed]",
       "text": [
        "<matplotlib.figure.Figure at 0x10b9bbd90>"
       ]
      }
     ],
     "prompt_number": 253
    },
    {
     "cell_type": "code",
     "collapsed": false,
     "input": [
      "fdist.plot()"
     ],
     "language": "python",
     "metadata": {},
     "outputs": [
      {
       "metadata": {},
       "output_type": "display_data",
       "png": "[encoded data removed]",
       "text": [
        "<matplotlib.figure.Figure at 0x1192e8110>"
       ]
      }
     ],
     "prompt_number": 254
    },
    {
     "cell_type": "code",
     "collapsed": false,
     "input": [
      "fdist.plot(cumulative=True)"
     ],
     "language": "python",
     "metadata": {},
     "outputs": [
      {
       "metadata": {},
       "output_type": "display_data",
       "png": "[encoded data removed]",
       "text": [
        "<matplotlib.figure.Figure at 0x11d5bffd0>"
       ]
      }
     ],
     "prompt_number": 255
    },
    {
     "cell_type": "code",
     "collapsed": false,
     "input": [
      "fdist < fdist2"
     ],
     "language": "python",
     "metadata": {},
     "outputs": [
      {
       "metadata": {},
       "output_type": "pyout",
       "prompt_number": 256,
       "text": [
        "False"
       ]
      }
     ],
     "prompt_number": 256
    },
    {
     "cell_type": "code",
     "collapsed": false,
     "input": [
      "fdist > fdist2"
     ],
     "language": "python",
     "metadata": {},
     "outputs": [
      {
       "metadata": {},
       "output_type": "pyout",
       "prompt_number": 257,
       "text": [
        "True"
       ]
      }
     ],
     "prompt_number": 257
    },
    {
     "cell_type": "code",
     "collapsed": false,
     "input": [
      "fdist"
     ],
     "language": "python",
     "metadata": {},
     "outputs": [
      {
       "metadata": {},
       "output_type": "pyout",
       "prompt_number": 258,
       "text": [
        "FreqDist({3: 50223, 1: 47933, 4: 42345, 2: 38513, 5: 26597, 6: 17111, 7: 14399, 8: 9966, 9: 6428, 10: 3528, ...})"
       ]
      }
     ],
     "prompt_number": 258
    },
    {
     "cell_type": "code",
     "collapsed": false,
     "input": [
      "fdist2"
     ],
     "language": "python",
     "metadata": {},
     "outputs": [
      {
       "metadata": {},
       "output_type": "pyout",
       "prompt_number": 259,
       "text": [
        "FreqDist({u',': 9397, u'to': 4063, u'.': 3975, u'the': 3861, u'of': 3565, u'and': 3350, u'her': 2436, u'a': 2043, u'I': 2004, u'in': 1904, ...})"
       ]
      }
     ],
     "prompt_number": 259
    },
    {
     "cell_type": "code",
     "collapsed": false,
     "input": [
      "fdist5"
     ],
     "language": "python",
     "metadata": {},
     "outputs": [
      {
       "metadata": {},
       "output_type": "pyout",
       "prompt_number": 261,
       "text": [
        "FreqDist({u'.': 1268, u'JOIN': 1021, u'PART': 1016, u'?': 737, u'lol': 704, u'to': 658, u'i': 648, u'the': 646, u'you': 635, u',': 596, ...})"
       ]
      }
     ],
     "prompt_number": 261
    },
    {
     "cell_type": "code",
     "collapsed": false,
     "input": [
      "fdist > fdist5"
     ],
     "language": "python",
     "metadata": {},
     "outputs": [
      {
       "metadata": {},
       "output_type": "pyout",
       "prompt_number": 262,
       "text": [
        "True"
       ]
      }
     ],
     "prompt_number": 262
    },
    {
     "cell_type": "code",
     "collapsed": false,
     "input": [
      "fdist2 > fdist5"
     ],
     "language": "python",
     "metadata": {},
     "outputs": [
      {
       "metadata": {},
       "output_type": "pyout",
       "prompt_number": 263,
       "text": [
        "True"
       ]
      }
     ],
     "prompt_number": 263
    },
    {
     "cell_type": "code",
     "collapsed": false,
     "input": [
      "fdist.N()"
     ],
     "language": "python",
     "metadata": {},
     "outputs": [
      {
       "metadata": {},
       "output_type": "pyout",
       "prompt_number": 264,
       "text": [
        "260819"
       ]
      }
     ],
     "prompt_number": 264
    },
    {
     "cell_type": "code",
     "collapsed": false,
     "input": [
      "fdist2.N()"
     ],
     "language": "python",
     "metadata": {},
     "outputs": [
      {
       "metadata": {},
       "output_type": "pyout",
       "prompt_number": 265,
       "text": [
        "141576"
       ]
      }
     ],
     "prompt_number": 265
    },
    {
     "cell_type": "code",
     "collapsed": false,
     "input": [
      "fdist5.N()"
     ],
     "language": "python",
     "metadata": {},
     "outputs": [
      {
       "metadata": {},
       "output_type": "pyout",
       "prompt_number": 266,
       "text": [
        "45010"
       ]
      }
     ],
     "prompt_number": 266
    },
    {
     "cell_type": "markdown",
     "metadata": {},
     "source": [
      "## 1.4 Back to Python: Making Decisions and Taking Control\n",
      "\n",
      "- control\n",
      "  - \ud655\uc2e4\ud55c \uc870\uac74\ub4e4\uc744 \ub9cc\ub0ac\uc744 \ub54c \ud310\ub2e8\uc744 \ud558\uace0, \uba85\ub839\uc5b4\ub4e4\uc744 \uc2e4\ud589\ud55c\ub2e4. \n",
      "  - \ub8e8\ud504 \uc548\uc5d0\uc11c \uc870\uac74\ub4e4\uc774 \ub9cc\uc871\ud560 \ub54c\n",
      "\n",
      "### Conditionals\n",
      "\n",
      "- relational operators\n",
      "\n",
      "Operator | Relationship\n",
      "--- | ---\n",
      "< | Less than\n",
      "<= | Less than or equal to\n",
      "== | Equal to(note this is two \"=\" signs, not one)\n",
      "!= | Not equal to\n",
      "\\> | Greater than\n",
      "\\>= | Greater than or equal to"
     ]
    },
    {
     "cell_type": "code",
     "collapsed": false,
     "input": [
      "sent7"
     ],
     "language": "python",
     "metadata": {},
     "outputs": [
      {
       "metadata": {},
       "output_type": "pyout",
       "prompt_number": 267,
       "text": [
        "['Pierre',\n",
        " 'Vinken',\n",
        " ',',\n",
        " '61',\n",
        " 'years',\n",
        " 'old',\n",
        " ',',\n",
        " 'will',\n",
        " 'join',\n",
        " 'the',\n",
        " 'board',\n",
        " 'as',\n",
        " 'a',\n",
        " 'nonexecutive',\n",
        " 'director',\n",
        " 'Nov.',\n",
        " '29',\n",
        " '.']"
       ]
      }
     ],
     "prompt_number": 267
    },
    {
     "cell_type": "code",
     "collapsed": false,
     "input": [
      "[w for w in sent7 if len(w) < 4]"
     ],
     "language": "python",
     "metadata": {},
     "outputs": [
      {
       "metadata": {},
       "output_type": "pyout",
       "prompt_number": 268,
       "text": [
        "[',', '61', 'old', ',', 'the', 'as', 'a', '29', '.']"
       ]
      }
     ],
     "prompt_number": 268
    },
    {
     "cell_type": "code",
     "collapsed": false,
     "input": [
      "[w for w in sent7 if len(w) <= 4]"
     ],
     "language": "python",
     "metadata": {},
     "outputs": [
      {
       "metadata": {},
       "output_type": "pyout",
       "prompt_number": 269,
       "text": [
        "[',', '61', 'old', ',', 'will', 'join', 'the', 'as', 'a', 'Nov.', '29', '.']"
       ]
      }
     ],
     "prompt_number": 269
    },
    {
     "cell_type": "code",
     "collapsed": false,
     "input": [
      "[w for w in sent7 if len(w) == 4]"
     ],
     "language": "python",
     "metadata": {},
     "outputs": [
      {
       "metadata": {},
       "output_type": "pyout",
       "prompt_number": 271,
       "text": [
        "['will', 'join', 'Nov.']"
       ]
      }
     ],
     "prompt_number": 271
    },
    {
     "cell_type": "code",
     "collapsed": false,
     "input": [
      "[w for w in sent7 if len(w) != 4]"
     ],
     "language": "python",
     "metadata": {},
     "outputs": [
      {
       "metadata": {},
       "output_type": "pyout",
       "prompt_number": 272,
       "text": [
        "['Pierre',\n",
        " 'Vinken',\n",
        " ',',\n",
        " '61',\n",
        " 'years',\n",
        " 'old',\n",
        " ',',\n",
        " 'the',\n",
        " 'board',\n",
        " 'as',\n",
        " 'a',\n",
        " 'nonexecutive',\n",
        " 'director',\n",
        " '29',\n",
        " '.']"
       ]
      }
     ],
     "prompt_number": 272
    },
    {
     "cell_type": "markdown",
     "metadata": {},
     "source": [
      "#### Table 1-4. Some word comparison operators\n",
      "\n",
      "- \ub2e4 \uc544\ub294 \ub0b4\uc6a9\uc774\ub124..\n",
      "\n",
      "Function | Meaning\n",
      "--- | ---\n",
      "s.startswith(t) | Test if s starts with t\n",
      "s.endswith(t) | Test if s ends with t\n",
      "t in s | Test if t is contained inside s\n",
      "s.islower() | Test if all cased characters in s are lowercase\n",
      "s.isupper() | Test if all cased characters in s are uppercase\n",
      "s.isalpha() | Test if all characters in s are alphabetic\n",
      "s.isalnum() | Test if all characters in s are alphanumeric\n",
      "s.isdigit() | Test if all characters in s are digits\n",
      "s.istitle() | Test if s is titlecased(all words in s have initial capitals)"
     ]
    },
    {
     "cell_type": "code",
     "collapsed": false,
     "input": [
      "sorted([w for w in set(text1) if w.endswith('ableness')])"
     ],
     "language": "python",
     "metadata": {},
     "outputs": [
      {
       "metadata": {},
       "output_type": "pyout",
       "prompt_number": 273,
       "text": [
        "[u'comfortableness',\n",
        " u'honourableness',\n",
        " u'immutableness',\n",
        " u'indispensableness',\n",
        " u'indomitableness',\n",
        " u'intolerableness',\n",
        " u'palpableness',\n",
        " u'reasonableness',\n",
        " u'uncomfortableness']"
       ]
      }
     ],
     "prompt_number": 273
    },
    {
     "cell_type": "code",
     "collapsed": false,
     "input": [
      "sorted([term for term in set(text4) if 'gnt' in term])"
     ],
     "language": "python",
     "metadata": {},
     "outputs": [
      {
       "metadata": {},
       "output_type": "pyout",
       "prompt_number": 274,
       "text": [
        "[u'Sovereignty', u'sovereignties', u'sovereignty']"
       ]
      }
     ],
     "prompt_number": 274
    },
    {
     "cell_type": "code",
     "collapsed": false,
     "input": [
      "sorted([item for item in set(text6) if item.istitle()])[::50]"
     ],
     "language": "python",
     "metadata": {},
     "outputs": [
      {
       "metadata": {},
       "output_type": "pyout",
       "prompt_number": 277,
       "text": [
        "[u'A',\n",
        " u'Attila',\n",
        " u'Chickennn',\n",
        " u'Explain',\n",
        " u'Hey',\n",
        " u'Like',\n",
        " u'Ooh',\n",
        " u'Run',\n",
        " u'Thpppppt',\n",
        " u'Who']"
       ]
      }
     ],
     "prompt_number": 277
    },
    {
     "cell_type": "code",
     "collapsed": false,
     "input": [
      "sorted([item for item in set(sent7) if item.isdigit()])"
     ],
     "language": "python",
     "metadata": {},
     "outputs": [
      {
       "metadata": {},
       "output_type": "pyout",
       "prompt_number": 278,
       "text": [
        "['29', '61']"
       ]
      }
     ],
     "prompt_number": 278
    },
    {
     "cell_type": "markdown",
     "metadata": {},
     "source": [
      "#### Your Turn"
     ]
    },
    {
     "cell_type": "code",
     "collapsed": false,
     "input": [
      "sorted([w for w in set(text7) if '-' in w and 'index' in w])"
     ],
     "language": "python",
     "metadata": {},
     "outputs": [
      {
       "metadata": {},
       "output_type": "pyout",
       "prompt_number": 279,
       "text": [
        "[u'Stock-index',\n",
        " u'index-arbitrage',\n",
        " u'index-fund',\n",
        " u'index-options',\n",
        " u'index-related',\n",
        " u'stock-index']"
       ]
      }
     ],
     "prompt_number": 279
    },
    {
     "cell_type": "code",
     "collapsed": false,
     "input": [
      "sorted([wd for wd in set(text3) if wd.istitle() and len(wd) > 10])"
     ],
     "language": "python",
     "metadata": {},
     "outputs": [
      {
       "metadata": {},
       "output_type": "pyout",
       "prompt_number": 280,
       "text": [
        "[u'Abelmizraim',\n",
        " u'Allonbachuth',\n",
        " u'Beerlahairoi',\n",
        " u'Canaanitish',\n",
        " u'Chedorlaomer',\n",
        " u'Girgashites',\n",
        " u'Hazarmaveth',\n",
        " u'Hazezontamar',\n",
        " u'Ishmeelites',\n",
        " u'Jegarsahadutha',\n",
        " u'Jehovahjireh',\n",
        " u'Kirjatharba',\n",
        " u'Melchizedek',\n",
        " u'Mesopotamia',\n",
        " u'Peradventure',\n",
        " u'Philistines',\n",
        " u'Zaphnathpaaneah']"
       ]
      }
     ],
     "prompt_number": 280
    },
    {
     "cell_type": "code",
     "collapsed": false,
     "input": [
      "sorted([w for w in set(sent7) if not w.islower()])"
     ],
     "language": "python",
     "metadata": {},
     "outputs": [
      {
       "metadata": {},
       "output_type": "pyout",
       "prompt_number": 281,
       "text": [
        "[',', '.', '29', '61', 'Nov.', 'Pierre', 'Vinken']"
       ]
      }
     ],
     "prompt_number": 281
    },
    {
     "cell_type": "code",
     "collapsed": false,
     "input": [
      "sorted([t for t in set(text2) if 'cie' in t or 'cei' in t])"
     ],
     "language": "python",
     "metadata": {},
     "outputs": [
      {
       "metadata": {},
       "output_type": "pyout",
       "prompt_number": 282,
       "text": [
        "[u'ancient',\n",
        " u'ceiling',\n",
        " u'conceit',\n",
        " u'conceited',\n",
        " u'conceive',\n",
        " u'conscience',\n",
        " u'conscientious',\n",
        " u'conscientiously',\n",
        " u'deceitful',\n",
        " u'deceive',\n",
        " u'deceived',\n",
        " u'deceiving',\n",
        " u'deficiencies',\n",
        " u'deficiency',\n",
        " u'deficient',\n",
        " u'delicacies',\n",
        " u'excellencies',\n",
        " u'fancied',\n",
        " u'insufficiency',\n",
        " u'insufficient',\n",
        " u'legacies',\n",
        " u'perceive',\n",
        " u'perceived',\n",
        " u'perceiving',\n",
        " u'prescience',\n",
        " u'prophecies',\n",
        " u'receipt',\n",
        " u'receive',\n",
        " u'received',\n",
        " u'receiving',\n",
        " u'society',\n",
        " u'species',\n",
        " u'sufficient',\n",
        " u'sufficiently',\n",
        " u'undeceive',\n",
        " u'undeceiving']"
       ]
      }
     ],
     "prompt_number": 282
    },
    {
     "cell_type": "markdown",
     "metadata": {},
     "source": [
      "### Operating on Every Element"
     ]
    },
    {
     "cell_type": "code",
     "collapsed": false,
     "input": [
      "[len(w) for w in text1][::10000]"
     ],
     "language": "python",
     "metadata": {},
     "outputs": [
      {
       "metadata": {},
       "output_type": "pyout",
       "prompt_number": 287,
       "text": [
        "[1,\n",
        " 1,\n",
        " 3,\n",
        " 4,\n",
        " 5,\n",
        " 1,\n",
        " 2,\n",
        " 6,\n",
        " 1,\n",
        " 2,\n",
        " 3,\n",
        " 2,\n",
        " 3,\n",
        " 3,\n",
        " 9,\n",
        " 4,\n",
        " 1,\n",
        " 1,\n",
        " 1,\n",
        " 3,\n",
        " 3,\n",
        " 2,\n",
        " 1,\n",
        " 5,\n",
        " 5,\n",
        " 4,\n",
        " 1]"
       ]
      }
     ],
     "prompt_number": 287
    },
    {
     "cell_type": "code",
     "collapsed": false,
     "input": [
      "[w.upper() for w in text1][::10000]"
     ],
     "language": "python",
     "metadata": {},
     "outputs": [
      {
       "metadata": {},
       "output_type": "pyout",
       "prompt_number": 289,
       "text": [
        "[u'[',\n",
        " u'.',\n",
        " u'SKY',\n",
        " u'SAME',\n",
        " u'AFTER',\n",
        " u'.',\n",
        " u'AT',\n",
        " u'MAKING',\n",
        " u'!',\n",
        " u'OF',\n",
        " u'FOR',\n",
        " u'AT',\n",
        " u'THE',\n",
        " u'THE',\n",
        " u'COMPLETED',\n",
        " u'WENT',\n",
        " u'?',\n",
        " u',',\n",
        " u',',\n",
        " u'AND',\n",
        " u'HAS',\n",
        " u'BY',\n",
        " u'A',\n",
        " u'BLIND',\n",
        " u'HOURS',\n",
        " u'THEM',\n",
        " u';']"
       ]
      }
     ],
     "prompt_number": 289
    },
    {
     "cell_type": "code",
     "collapsed": false,
     "input": [
      "len(text1)"
     ],
     "language": "python",
     "metadata": {},
     "outputs": [
      {
       "metadata": {},
       "output_type": "pyout",
       "prompt_number": 291,
       "text": [
        "260819"
       ]
      }
     ],
     "prompt_number": 291
    },
    {
     "cell_type": "code",
     "collapsed": false,
     "input": [
      "len(set(text1))"
     ],
     "language": "python",
     "metadata": {},
     "outputs": [
      {
       "metadata": {},
       "output_type": "pyout",
       "prompt_number": 290,
       "text": [
        "19317"
       ]
      }
     ],
     "prompt_number": 290
    },
    {
     "cell_type": "code",
     "collapsed": false,
     "input": [
      "len(set([word.lower() for word in text1]))"
     ],
     "language": "python",
     "metadata": {},
     "outputs": [
      {
       "metadata": {},
       "output_type": "pyout",
       "prompt_number": 293,
       "text": [
        "17231"
       ]
      }
     ],
     "prompt_number": 293
    },
    {
     "cell_type": "code",
     "collapsed": false,
     "input": [
      "len(set([word.lower() for word in text1 if word.isalpha()]))"
     ],
     "language": "python",
     "metadata": {},
     "outputs": [
      {
       "metadata": {},
       "output_type": "pyout",
       "prompt_number": 294,
       "text": [
        "16948"
       ]
      }
     ],
     "prompt_number": 294
    },
    {
     "cell_type": "markdown",
     "metadata": {},
     "source": [
      "### Nested Code Blocks"
     ]
    },
    {
     "cell_type": "code",
     "collapsed": false,
     "input": [
      "word = 'cat'"
     ],
     "language": "python",
     "metadata": {},
     "outputs": [],
     "prompt_number": 295
    },
    {
     "cell_type": "code",
     "collapsed": false,
     "input": [
      "if len(word) < 5:\n",
      "    print 'word length is less than 5'"
     ],
     "language": "python",
     "metadata": {},
     "outputs": [
      {
       "output_type": "stream",
       "stream": "stdout",
       "text": [
        "word length is less than 5\n"
       ]
      }
     ],
     "prompt_number": 296
    },
    {
     "cell_type": "code",
     "collapsed": false,
     "input": [
      "if len(word) >= 5:\n",
      "    print 'word length is greater than or equal to 5'"
     ],
     "language": "python",
     "metadata": {},
     "outputs": [],
     "prompt_number": 297
    },
    {
     "cell_type": "code",
     "collapsed": false,
     "input": [
      "for word in ['Call', 'me', 'Ishmael', '.']:\n",
      "    print word"
     ],
     "language": "python",
     "metadata": {},
     "outputs": [
      {
       "output_type": "stream",
       "stream": "stdout",
       "text": [
        "Call\n",
        "me\n",
        "Ishmael\n",
        ".\n"
       ]
      }
     ],
     "prompt_number": 298
    },
    {
     "cell_type": "markdown",
     "metadata": {},
     "source": [
      "### Looping with Conditions"
     ]
    },
    {
     "cell_type": "code",
     "collapsed": false,
     "input": [
      "sent1 = ['Call', 'me', 'Ishmael', '.']"
     ],
     "language": "python",
     "metadata": {},
     "outputs": [],
     "prompt_number": 299
    },
    {
     "cell_type": "code",
     "collapsed": false,
     "input": [
      "for xyzzy in sent1:\n",
      "    if xyzzy.endswith('l'):\n",
      "        print xyzzy"
     ],
     "language": "python",
     "metadata": {},
     "outputs": [
      {
       "output_type": "stream",
       "stream": "stdout",
       "text": [
        "Call\n",
        "Ishmael\n"
       ]
      }
     ],
     "prompt_number": 301
    },
    {
     "cell_type": "code",
     "collapsed": false,
     "input": [
      "for token in sent1:\n",
      "    if token.islower():\n",
      "        print token, 'is a lowercase word'\n",
      "    elif token.istitle():\n",
      "        print token, 'is a titlecase word'\n",
      "    else:\n",
      "        print token, 'is puntuation'"
     ],
     "language": "python",
     "metadata": {},
     "outputs": [
      {
       "output_type": "stream",
       "stream": "stdout",
       "text": [
        "Call is a titlecase word\n",
        "me is a lowercase word\n",
        "Ishmael is a titlecase word\n",
        ". is puntuation\n"
       ]
      }
     ],
     "prompt_number": 302
    },
    {
     "cell_type": "code",
     "collapsed": false,
     "input": [
      "tricky = sorted([w for w in set(text2) if 'cie' in w or 'cei' in w])"
     ],
     "language": "python",
     "metadata": {},
     "outputs": [],
     "prompt_number": 303
    },
    {
     "cell_type": "code",
     "collapsed": false,
     "input": [
      "for word in tricky:\n",
      "    print word,"
     ],
     "language": "python",
     "metadata": {},
     "outputs": [
      {
       "output_type": "stream",
       "stream": "stdout",
       "text": [
        "ancient ceiling conceit conceited conceive conscience conscientious conscientiously deceitful deceive deceived deceiving deficiencies deficiency deficient delicacies excellencies fancied insufficiency insufficient legacies perceive perceived perceiving prescience prophecies receipt receive received receiving society species sufficient sufficiently undeceive undeceiving\n"
       ]
      }
     ],
     "prompt_number": 304
    },
    {
     "cell_type": "markdown",
     "metadata": {},
     "source": [
      "## 1.5 Automatic Natural Language Understanding"
     ]
    },
    {
     "cell_type": "markdown",
     "metadata": {},
     "source": [
      "### Word Sense Disambiguation\n",
      "\n",
      "#### (2)\n",
      "\n",
      "- a. serve: help with food or drink, hold an office; put ball into play\n",
      "- b. dish: plate; course of a meal; communications device\n",
      "\n",
      "\n",
      "- *he served the dish*, you can detect that both serve and dish are being used with their food meanings.\n",
      "- \uc5b4\ub5a4 \ub2e8\uc5b4 \ub73b\uc744 \uc368\uc57c \ub418\ub0d0?\n",
      "\n",
      "#### (3)\n",
      "\n",
      "- a. The lost children were found by the *searchers*(agentive)\n",
      "- b. The lost children were found by the *mountain*(locative)\n",
      "- c. The lost children were found by the *afternoon*(temporal)\n",
      "\n",
      "\n",
      "- \ud2b9\uc815 \uc790\ub9ac\uc5d0 \ub2e8\uc5b4\uac00 \uc4f0\uc774\ub354\ub77c\ub3c4 \ub3d9\uc791\uc744 \ub098\ud0c0\ub0b4\ub294\uac70\ub0d0? \uc7a5\uc18c\ub97c \ub098\ud0c0\ub0b4\ub290\ub0d0? \uc2dc\uac04\uc744 \ub098\ud0c0\ub0b4\ub290\ub0d0? \ub4f1 \uc5ec\ub7ec\uac00\uc9c0\ub97c \ub098\ud0c0\ub0bc \uc218 \uc788\ub2e4."
     ]
    },
    {
     "cell_type": "markdown",
     "metadata": {},
     "source": [
      "### Pronoun Resolution\n",
      "\n",
      "#### (4)\n",
      "\n",
      "- a. The thieves stole the paintings. They were subsequently *sold*.\n",
      "- b. The thieves stole the paintings. They were subsequently *caught*.\n",
      "- c. The thieves stole the paintings. They were subsequently *found*.\n",
      "\n",
      "\n",
      "- antecedent: \uc120\ud589\ud558\ub294\n",
      "- Pronoun: \ub300\uba85\uc0ac\n",
      "- resolution: \uacb0\uc758\uc548\n",
      "- \ub3c4\ub451\ub4e4\uc774\ub0d0? \uadf8\ub9bc\ub4e4\uc774\ub0d0? \ud310\ub2e8\uc774 \uc548\ub41c\ub2e4\ub294 \uac70\uc9c0.\n",
      "- anaphora resolution: \ub300\uc6a9 \uacb0\uc758\uc548?, pronoun or noun \uc774\ub0d0?\n",
      "- semantic role labeling: \uc758\ubbf8 \uae30\ubc18 \ub77c\ubca8\ub9c1, \uba85\uc0ac\ub97c \uad00\ub828\uc788\ub294 \ub3d9\uc0ac\ub85c \ubd84\ud574"
     ]
    },
    {
     "cell_type": "markdown",
     "metadata": {},
     "source": [
      "### Generating Language Output\n",
      "\n",
      "- Question answering\n",
      "- machine translation\n",
      "\n",
      "\n",
      "#### (5)\n",
      "\n",
      "- a. Text: ... The thives stole the painting. They were subsequently sold \u22ef\n",
      "- Human: Who or what was sold?\n",
      "- Machine: The paintings.\n",
      "\n",
      "\n",
      "- \uc0ac\ub78c\uacfc \uae30\uacc4\uac00 \uc774\ud574\ud558\ub294\uac8c \ub2e4\ub974\ub2e4.\n",
      "\n",
      "\n",
      "#### (6)\n",
      "\n",
      "- a. The thieves stole the paintings. They were subsequently found.\n",
      "- b. Les voleurs ont vol\u00e9 les peintures. Ils ont \u00e9t\u00e9 trouv\u00e9s plus tard. (the thieves)\n",
      "- c. Les voleurs ont vol\u00e9 les peintures. Elles ont \u00e9t\u00e9 trouv\u00e9es plus tard. (the paintings)\n",
      "\n",
      "\n",
      "- \uc815\ud655\ud55c \ubc88\uc5ed\uc744 \ud558\uae30 \uc704\ud574\uc11c\ub294 \uc815\ud655\ud558\uac8c \uc774\ud574\ub41c \ub300\uba85\uc0ac\uc5d0 \uc758\ud574 \uacb0\uc815\ub41c\ub2e4."
     ]
    },
    {
     "cell_type": "markdown",
     "metadata": {},
     "source": [
      "### Machine Translation\n",
      "\n",
      "- "
     ]
    },
    {
     "cell_type": "code",
     "collapsed": false,
     "input": [
      "babelize_shell()"
     ],
     "language": "python",
     "metadata": {},
     "outputs": [
      {
       "output_type": "stream",
       "stream": "stdout",
       "text": [
        "Babelfish online translation service is no longer available.\n"
       ]
      }
     ],
     "prompt_number": 305
    },
    {
     "cell_type": "markdown",
     "metadata": {},
     "source": [
      "- Machine translations is difficult.\n",
      "- \uc65c\ub0d0\ud558\uba74 \uc8fc\uc5b4\uc9c4 \ub2e8\uc5b4\uac00 \uc5ec\ub7ec\uac00\uc9c0\ub85c \ubc88\uc5ed\ub420 \uac00\ub2a5\uc131\uc774 \uc788\uace0(\uadf8\ub73b\uc5d0 \uc758\uc9c0\ud55c\ub2e4) \ubc18\ub4dc\uc2dc \ubb38\ubc95\uc744 \uc9c0\ucf1c\uc11c \ud0c0\uac9f \uc5b8\uc5b4\ub85c \ubcc0\ud654\ub418\ub2c8\uae4c\n",
      "- text alignment: pair up the sentence"
     ]
    },
    {
     "cell_type": "markdown",
     "metadata": {},
     "source": [
      "### Spoken Dialogue Systems\n",
      "\n",
      "- Turing Test: the chief measure of intelligence has been a liguistic one\n",
      "- [\ud29c\ub9c1 \ud14c\uc2a4\ud2b8 - \uc704\ud0a4\ubc31\uacfc, \uc6b0\ub9ac \ubaa8\ub450\uc758 \ubc31\uacfc\uc0ac\uc804](http://ko.wikipedia.org/wiki/\ud29c\ub9c1_\ud14c\uc2a4\ud2b8)\n",
      "- [Turing test - Wikipedia, the free encyclopedia](http://en.wikipedia.org/wiki/Turing_test)"
     ]
    },
    {
     "cell_type": "markdown",
     "metadata": {},
     "source": [
      "- S: How may I help you?\n",
      "- U: When is Saving Private Ryan playing?\n",
      "- S: For what theater?\n",
      "- U: The Paramount theater.\n",
      "- S: Saving Private Ryan is not playing at the Paramount theater, but it's playing at the Madison theater at 3:00, 5:30, 8:00, and 10:30."
     ]
    },
    {
     "cell_type": "markdown",
     "metadata": {},
     "source": [
      "#### Simple pipeline architecture for a spoken dialogue system\n",
      "\n",
      "![Simple pipeline architecture for a spoken dialogue system](images/dialogue_system_structure.png)\n",
      "\n",
      "- Speech analysis: \ub300\uc0ac \ubd84\uc11d\n",
      "- Morphological and lexical analysis: \ud615\ud0dc\ud559 \ubc0f \uc5b4\ud718\ud559 \ubd84\uc11d\n",
      "- Parsing: \uc5b4\uad6c\uc758 \ubd84\ud574\n",
      "- Contextual reasoning: \ubb38\ub9e5 \ucd94\ub860\n",
      "- Application reasoning and execution: \uc560\ud50c\ub9ac\ucf00\uc774\uc158 \ucd94\ub860\uacfc \uc2e4\ud589\n",
      "- Utterance planinng: \ud45c\ud604\ud568\uc758 \uacc4\ud68d??\n",
      "- Syntatic realization: \uad6c\ubb38\ub860 \uae68\ub2ec\uc74c?\n",
      "- Morphological realization: \ud615\ud0dc\ud559 \uae68\ub2ec\uc74c\n",
      "- Speech synthesis: \ub300\uc0ac \ud569\uc131\n",
      "\n",
      "\n",
      "1. Phonology: \uc74c\uc6b4\ub860\n",
      "2. Morphology: \ud615\ud0dc\ud559\n",
      "3. Syntax: \ubb38\ubc95\n",
      "4. Semantics: \uc758\ubbf8\ub860\n",
      "5. Reasoning: \ucd94\ub9ac(\ub3c4\uba54\uc778 \uc9c0\uc2dd)"
     ]
    },
    {
     "cell_type": "markdown",
     "metadata": {},
     "source": [
      "### Textual Entailment(\uc6d0\ubb38 \uc0c1\uc18d\uc778??)\n",
      "\n",
      "- Recognizing Textual Entailment\n",
      "- http://nlp.kookmin.ac.kr/sighlt/3.TextualInference_ChoiSP.pdf"
     ]
    },
    {
     "cell_type": "markdown",
     "metadata": {},
     "source": [
      "### Limitations of NLP\n",
      "\n",
      "- \uc81c\ud55c\uc801\uc774\uc9c0\ub9cc \ub354 \ub178\ub825\ud574\uc57c \ud55c\ub2e4? \ubb50 \uc774\ub73b\uc778\ub4ef.."
     ]
    },
    {
     "cell_type": "markdown",
     "metadata": {},
     "source": [
      "## 1.6 Summary\n",
      "\n",
      "- Texts are represented in Python using lists: ['Monty', 'Python']. We can use indexing, slicing, and the len() function on lists.\n",
      "- A word \"token\" is particular appearance of a given word in a text; a word \"type\" is the unique form of the word as a particular sequence of letters. We count word tokens using len(text) and word types using len(set(text)).\n",
      "- We obtain the vocabulary of a text t using sorted(set(t)).\n",
      "- We operate on each item of a text using [f(x) for x in text].\n",
      "- To derive the vocabulary, collapsing case distinctions and ignoring punctuation, we can write set([w.lower() for w in text if w.isalpha()]).\n",
      "- We process each word in a text using a for statement, such as for w in t: or for word in text:. This must be followed by the colon character and an indented block of code, to be executed each time through the loop.\n",
      "- We test a condition using an if statement: if len(word) < 5:. This must be followed by the colon character and an indented block of code, to be executed only if the condition is true.\n",
      "- A frequency distribution is a collection of items along with their frequency counts(e.g., the words of a text and their frequency of appearance).\n",
      "- A function is a block of code that has been assigned a name and can be reused. Functions are defined using the def keyword, as in def mult(x, y); x and y are parameters of the function, and act as placeholders for actual data values.\n",
      "- A function is called by specifying its name followed by one or more arguments inside parentheses, like this: mult(3, 4), e.g., len(text1)."
     ]
    },
    {
     "cell_type": "markdown",
     "metadata": {},
     "source": [
      "### 1.7 Further Reading"
     ]
    }
   ],
   "metadata": {}
  }
 ]
}