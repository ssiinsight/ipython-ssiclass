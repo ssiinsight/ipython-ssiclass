{
 "metadata": {
  "name": "",
  "signature": "sha256:4cc368fc4eec47aaf2a3355e2b4356ae9afd0e5c2dfaf5be270103415db2c9b8"
 },
 "nbformat": 3,
 "nbformat_minor": 0,
 "worksheets": [
  {
   "cells": [
    {
     "cell_type": "markdown",
     "metadata": {},
     "source": [
      "# 2. Accessing Text Corpora and Lexical Resources\n",
      "\n",
      "### \uc81c\ubaa9\ubd80\ud130 \uc774\ud574 \uc548\ub428\n",
      "\n",
      "- \ud14d\uc2a4\ud2b8 \ub9d0\ubb49\uce58\uc5d0 \uc811\uadfc\ud558\ub294 \uac83\uacfc \uc5b8\uc5b4\uc801 \uc790\uc6d0\ub4e4??\n",
      "- \uc774\uac8c \ubb54 \uadc0\uc2e0 \uc2e0\ub098\ub77d \uae4c\uba39\ub294 \uc18c\ub9ac\ub0d0..\n",
      "\n",
      "\n",
      "- \ubb38\uc5b4 \ub9d0\ubb49\uce58: \uc628\uac16 \ucc45\ub4e4\uc744 \ubaa8\uc544\ub193\uc740\uac83\n",
      "- \uad6c\uc5b4 \ub9d0\ubb49\uce58: \ud2b8\uc704\ud130 \uac19\uc740 \uac83\ub4e4\n",
      "- Lexical Resources: \ub9d0\ubb49\uce58 \uc548\uc5d0 \ub4e4\uc5b4\uc788\ub294 \uc5b4\ud718 \uc790\uc6d0\n",
      "- \uc9d1\ud569, \uc6d0\uc18c \uac1c\ub150\uc73c\ub85c \uc774\ud574\ud558\uba74 \ub428\n",
      "\n",
      "\n",
      "- NLP\uc5d0\uc11c \ubcf4\ud1b5 \uc2e4\uc81c\uc801\uc778 \uc791\uc5c5\uc740 \uc5b8\uc5b4\uc801 \ub370\uc774\ud130\ub098 \ub9d0\ubb49\uce58\ub4e4\uc774 \ub9ce\uc740 \uacf3\uc5d0\uc11c \uc0ac\uc6a9\ub41c\ub2e4.\n",
      "\n",
      "\n",
      "### The goal of this chapter\n",
      "\n",
      "1. What are some useful text corpora and lexical resources, and how can we access them with Python?\n",
      "  - \ubb34\uc5c7\uc774 \uc720\uc6a9\ud55c text \ub9d0\ubb49\uce58\uc774\uace0 \uc5b8\uc5b4\uc801 \uc790\uc6d0\uc778\uc9c0? \uc5b4\ub5bb\uac8c \ud558\uba74 \uadf8\uac83\ub4e4\uc5d0 \ud30c\uc774\uc36c\uc73c\ub85c \uc811\uadfc\ud560 \uc218 \uc788\ub294\uc9c0?\n",
      "2. Which Python constructs are most helpful for this work?\n",
      "  - \uc5b4\ub5a4 \ud30c\uc774\uc36c \uad6c\uc870\uac00 \uc774 \uc77c\uc5d0 \ub3c4\uc6c0\uc774 \ub418\ub294\uac00?\n",
      "3. How do we avoid repeating ourselves when writing Python code?\n",
      "  - \uc6b0\ub9ac\uac00 \ud30c\uc774\uc36c \ucf54\ub4dc\ub97c \uc791\uc131\ud560 \ub54c \uc5b4\ub5bb\uac8c \ubc18\ubcf5\ub418\ub294 \uac83\ub4e4\uc744 \ud53c\ud560 \uac83\uc778\uac00?"
     ]
    },
    {
     "cell_type": "markdown",
     "metadata": {},
     "source": [
      "#### \uc6a9\uc5b4 \uc815\ub9ac\n",
      "\n",
      "- \ucf54\ud37c\uc2a4: \ubc1c\ud654\ub41c(\uad6c\uc5b4, \ubb38\uc5b4) \uc5b8\uc5b4 \uc790\ub8cc\uc758 \uc9d1\ud569\uccb4\n",
      "  1. \uc5b4\ub5a4 \uc5b8\uc5b4 \uc5f0\uad6c\uc758 \ubaa9\uc801\uc5d0 \ubd80\ud569\n",
      "  2. \uade0\ud615\uc131\uacfc \ub300\ud45c\uc131\uc744 \uac00\uc9d0\n",
      "    - \uade0\ud615: 2\uac1c\uac00 \uace0\ub974\uac8c \uc788\uc5b4\uc57c \ud55c\ub2e4. \ud3b8\uc758\uc0c1 \ubaa8\uc558\uae30 \ub54c\ubb38\n",
      "    - \ub300\ud45c\uc131: \uadf8 \uc9d1\ub2e8\uc758 \ub300\ud45c\ub77c\ub294 \uac83\n",
      "  3. \uc804\uc0b0\ud654\ub41c \uc790\ub8cc\n",
      "- \ucf54\ud37c\uc2a4 \uc5b8\uc5b4\ud559: \ucf54\ud37c\uc2a4(\ub9d0\ubb49\uce58)\ub97c \uae30\ubc18\uc73c\ub85c \uc218\ud589\ud558\ub294 \uc5b8\uc5b4 \uc5f0\uad6c\ub97c \ub9d0\ud55c\ub2e4.\n",
      "- \uad11\uc758\uc758 \ucf54\ud37c\uc2a4 \uc5b8\uc5b4\ud559\uc740 \uc5b4\ud718 \uc790\ub8cc\ub97c \ud3ec\ud568\ud55c \ubaa8\ub4e0 \uc885\ub958\uc758 \uc5b8\uc5b4 \uc790\uc6d0(language resources)\uc758 \uad6c\ucd95\uacfc \ucc98\ub9ac, \uc774\uc6a9\uacfc \uad00\ub828\ub41c \uc774\ub860\uc5b8\uc5b4\ud559 \ubc0f \uc804\uc0b0\uc5b8\uc5b4\ud559 \uad00\uc810\uc758 \ubaa8\ub4e0 \uc5f0\uad6c\ub97c \uac00\ub9ac\ud0b4\n",
      "\n",
      "#### \uad81\uae08\ud55c \uc810\n",
      "\n",
      "- \ud604\uc7ac \uc790\uc5f0\uc5b4 \ucc98\ub9ac\uac00 \uc5b4\ub5a4 \ud750\ub984\uc73c\ub85c \uac00\uace0 \uc788\ub294\uc9c0?\n",
      "- \uc790\uc5f0\uc5b4 \ucc98\ub9ac\uc5d0\uc11c \ub098\uc624\ub294 \uc6a9\uc5b4\ub4e4\uc740 \ubb34\uc5c7\uc778\uc9c0?\n",
      "- \uad00\uc2ec\uc744 \uac00\uc9c0\uace0 \ubd10\uc57c\ud558\ub294 \uac83\ub4e4\uc740 \ubb34\uc5c7\uc778\uc9c0?\n",
      "\n",
      "\n",
      "- \ub9d0\ubb49\uce58 \uc4f8 \ub54c?\n",
      "  - \ud55c\uad6d\uc5b4 \uac00\ub974\uce58\ub824\uba74 \ub9ce\uc774 \uc4f0\uc774\ub294\uac83 \uac00\ub974\uce58\ub294\uac8c \ub0ab\ub2e4\n",
      "  - AI\ub97c \ub9cc\ub4dc\ub294\ub370 \ub9d0\ubb49\uce58\ub97c \ub123\ub294\ub2e4. \ub9d0\ud558\ub3c4\ub85d \ud574\uc57c\uaca0\ub2e4.\n",
      "  - \uad6c\uae00 \ub9d0\ubb49\uce58\ub3c4 Brown \uac00\uc838\uc654\ub2e4\uace0 \ucd94\uc815\ud55c\ub2e4"
     ]
    },
    {
     "cell_type": "markdown",
     "metadata": {},
     "source": [
      "## 2.1 Accessing Text Corpora"
     ]
    },
    {
     "cell_type": "markdown",
     "metadata": {},
     "source": [
      "### Gutenberg Corpus\n",
      "\n",
      "- http://www.gutenberg.org"
     ]
    },
    {
     "cell_type": "code",
     "collapsed": false,
     "input": [
      "import nltk"
     ],
     "language": "python",
     "metadata": {},
     "outputs": [],
     "prompt_number": 1
    },
    {
     "cell_type": "code",
     "collapsed": false,
     "input": [
      "help(nltk.corpus.gutenberg.fileids)"
     ],
     "language": "python",
     "metadata": {},
     "outputs": [
      {
       "output_type": "stream",
       "stream": "stdout",
       "text": [
        "Help on method fileids in module nltk.corpus.reader.api:\n",
        "\n",
        "fileids(self) method of nltk.corpus.reader.plaintext.PlaintextCorpusReader instance\n",
        "    Return a list of file identifiers for the fileids that make up\n",
        "    this corpus.\n",
        "\n"
       ]
      }
     ],
     "prompt_number": 4
    },
    {
     "cell_type": "code",
     "collapsed": false,
     "input": [
      "nltk.corpus.gutenberg.fileids()"
     ],
     "language": "python",
     "metadata": {},
     "outputs": [
      {
       "metadata": {},
       "output_type": "pyout",
       "prompt_number": 3,
       "text": [
        "[u'austen-emma.txt',\n",
        " u'austen-persuasion.txt',\n",
        " u'austen-sense.txt',\n",
        " u'bible-kjv.txt',\n",
        " u'blake-poems.txt',\n",
        " u'bryant-stories.txt',\n",
        " u'burgess-busterbrown.txt',\n",
        " u'carroll-alice.txt',\n",
        " u'chesterton-ball.txt',\n",
        " u'chesterton-brown.txt',\n",
        " u'chesterton-thursday.txt',\n",
        " u'edgeworth-parents.txt',\n",
        " u'melville-moby_dick.txt',\n",
        " u'milton-paradise.txt',\n",
        " u'shakespeare-caesar.txt',\n",
        " u'shakespeare-hamlet.txt',\n",
        " u'shakespeare-macbeth.txt',\n",
        " u'whitman-leaves.txt']"
       ]
      }
     ],
     "prompt_number": 3
    },
    {
     "cell_type": "code",
     "collapsed": false,
     "input": [
      "emma = nltk.corpus.gutenberg.words('austen-emma.txt')\n",
      "emma"
     ],
     "language": "python",
     "metadata": {},
     "outputs": [
      {
       "metadata": {},
       "output_type": "pyout",
       "prompt_number": 6,
       "text": [
        "[u'[', u'Emma', u'by', u'Jane', u'Austen', u'1816', ...]"
       ]
      }
     ],
     "prompt_number": 6
    },
    {
     "cell_type": "code",
     "collapsed": false,
     "input": [
      "len(emma)"
     ],
     "language": "python",
     "metadata": {},
     "outputs": [
      {
       "metadata": {},
       "output_type": "pyout",
       "prompt_number": 7,
       "text": [
        "192427"
       ]
      }
     ],
     "prompt_number": 7
    },
    {
     "cell_type": "code",
     "collapsed": false,
     "input": [
      "nltk.Text??"
     ],
     "language": "python",
     "metadata": {},
     "outputs": [],
     "prompt_number": 685
    },
    {
     "cell_type": "code",
     "collapsed": false,
     "input": [
      "help(nltk.Text)"
     ],
     "language": "python",
     "metadata": {},
     "outputs": [
      {
       "output_type": "stream",
       "stream": "stdout",
       "text": [
        "Help on class Text in module nltk.text:\n",
        "\n",
        "class Text(__builtin__.object)\n",
        " |  A wrapper around a sequence of simple (string) tokens, which is\n",
        " |  intended to support initial exploration of texts (via the\n",
        " |  interactive console).  Its methods perform a variety of analyses\n",
        " |  on the text's contexts (e.g., counting, concordancing, collocation\n",
        " |  discovery), and display the results.  If you wish to write a\n",
        " |  program which makes use of these analyses, then you should bypass\n",
        " |  the ``Text`` class, and use the appropriate analysis function or\n",
        " |  class directly instead.\n",
        " |  \n",
        " |  A ``Text`` is typically initialized from a given document or\n",
        " |  corpus.  E.g.:\n",
        " |  \n",
        " |  >>> import nltk.corpus\n",
        " |  >>> from nltk.text import Text\n",
        " |  >>> moby = Text(nltk.corpus.gutenberg.words('melville-moby_dick.txt'))\n",
        " |  \n",
        " |  Methods defined here:\n",
        " |  \n",
        " |  __getitem__(self, i)\n",
        " |  \n",
        " |  __init__(self, tokens, name=None)\n",
        " |      Create a Text object.\n",
        " |      \n",
        " |      :param tokens: The source text.\n",
        " |      :type tokens: sequence of str\n",
        " |  \n",
        " |  __len__(self)\n",
        " |  \n",
        " |  __repr__(self)\n",
        " |  \n",
        " |  __str__(self)\n",
        " |  \n",
        " |  __unicode__ = __str__(self)\n",
        " |  \n",
        " |  collocations(self, num=20, window_size=2)\n",
        " |      Print collocations derived from the text, ignoring stopwords.\n",
        " |      \n",
        " |      :seealso: find_collocations\n",
        " |      :param num: The maximum number of collocations to print.\n",
        " |      :type num: int\n",
        " |      :param window_size: The number of tokens spanned by a collocation (default=2)\n",
        " |      :type window_size: int\n",
        " |  \n",
        " |  common_contexts(self, words, num=20)\n",
        " |      Find contexts where the specified words appear; list\n",
        " |      most frequent common contexts first.\n",
        " |      \n",
        " |      :param word: The word used to seed the similarity search\n",
        " |      :type word: str\n",
        " |      :param num: The number of words to generate (default=20)\n",
        " |      :type num: int\n",
        " |      :seealso: ContextIndex.common_contexts()\n",
        " |  \n",
        " |  concordance(self, word, width=79, lines=25)\n",
        " |      Print a concordance for ``word`` with the specified context window.\n",
        " |      Word matching is not case-sensitive.\n",
        " |      :seealso: ``ConcordanceIndex``\n",
        " |  \n",
        " |  count(self, word)\n",
        " |      Count the number of times this word appears in the text.\n",
        " |  \n",
        " |  dispersion_plot(self, words)\n",
        " |      Produce a plot showing the distribution of the words through the text.\n",
        " |      Requires pylab to be installed.\n",
        " |      \n",
        " |      :param words: The words to be plotted\n",
        " |      :type word: str\n",
        " |      :seealso: nltk.draw.dispersion_plot()\n",
        " |  \n",
        " |  findall(self, regexp)\n",
        " |      Find instances of the regular expression in the text.\n",
        " |      The text is a list of tokens, and a regexp pattern to match\n",
        " |      a single token must be surrounded by angle brackets.  E.g.\n",
        " |      \n",
        " |      >>> print('hack'); from nltk.book import text1, text5, text9\n",
        " |      hack...\n",
        " |      >>> text5.findall(\"<.*><.*><bro>\")\n",
        " |      you rule bro; telling you bro; u twizted bro\n",
        " |      >>> text1.findall(\"<a>(<.*>)<man>\")\n",
        " |      monied; nervous; dangerous; white; white; white; pious; queer; good;\n",
        " |      mature; white; Cape; great; wise; wise; butterless; white; fiendish;\n",
        " |      pale; furious; better; certain; complete; dismasted; younger; brave;\n",
        " |      brave; brave; brave\n",
        " |      >>> text9.findall(\"<th.*>{3,}\")\n",
        " |      thread through those; the thought that; that the thing; the thing\n",
        " |      that; that that thing; through these than through; them that the;\n",
        " |      through the thick; them that they; thought that the\n",
        " |      \n",
        " |      :param regexp: A regular expression\n",
        " |      :type regexp: str\n",
        " |  \n",
        " |  index(self, word)\n",
        " |      Find the index of the first occurrence of the word in the text.\n",
        " |  \n",
        " |  plot(self, *args)\n",
        " |      See documentation for FreqDist.plot()\n",
        " |      :seealso: nltk.prob.FreqDist.plot()\n",
        " |  \n",
        " |  readability(self, method)\n",
        " |  \n",
        " |  similar(self, word, num=20)\n",
        " |      Distributional similarity: find other words which appear in the\n",
        " |      same contexts as the specified word; list most similar words first.\n",
        " |      \n",
        " |      :param word: The word used to seed the similarity search\n",
        " |      :type word: str\n",
        " |      :param num: The number of words to generate (default=20)\n",
        " |      :type num: int\n",
        " |      :seealso: ContextIndex.similar_words()\n",
        " |  \n",
        " |  unicode_repr = __repr__(self)\n",
        " |  \n",
        " |  vocab(self)\n",
        " |      :seealso: nltk.prob.FreqDist\n",
        " |  \n",
        " |  ----------------------------------------------------------------------\n",
        " |  Data descriptors defined here:\n",
        " |  \n",
        " |  __dict__\n",
        " |      dictionary for instance variables (if defined)\n",
        " |  \n",
        " |  __weakref__\n",
        " |      list of weak references to the object (if defined)\n",
        "\n"
       ]
      }
     ],
     "prompt_number": 8
    },
    {
     "cell_type": "code",
     "collapsed": false,
     "input": [
      "emma = nltk.Text(nltk.corpus.gutenberg.words('austen-emma.txt'))\n",
      "emma.concordance('surprize')"
     ],
     "language": "python",
     "metadata": {},
     "outputs": [
      {
       "output_type": "stream",
       "stream": "stdout",
       "text": [
        "Displaying 25 of 37 matches:\n",
        "er father , was sometimes taken by surprize at his being still able to pity ` \n",
        "hem do the other any good .\" \" You surprize me ! Emma must do Harriet good : a\n",
        "Knightley actually looked red with surprize and displeasure , as he stood up ,\n",
        "r . Elton , and found to his great surprize , that Mr . Elton was actually on \n",
        "d aid .\" Emma saw Mrs . Weston ' s surprize , and felt that it must be great ,\n",
        "father was quite taken up with the surprize of so sudden a journey , and his f\n",
        "y , in all the favouring warmth of surprize and conjecture . She was , moreove\n",
        "he appeared , to have her share of surprize , introduction , and pleasure . Th\n",
        "ir plans ; and it was an agreeable surprize to her , therefore , to perceive t\n",
        "talking aunt had taken me quite by surprize , it must have been the death of m\n",
        "f all the dialogue which ensued of surprize , and inquiry , and congratulation\n",
        " the present . They might chuse to surprize her .\" Mrs . Cole had many to agre\n",
        "the mode of it , the mystery , the surprize , is more like a young woman ' s s\n",
        " to her song took her agreeably by surprize -- a second , slightly but correct\n",
        "\" \" Oh ! no -- there is nothing to surprize one at all .-- A pretty fortune ; \n",
        "t to be considered . Emma ' s only surprize was that Jane Fairfax should accep\n",
        "of your admiration may take you by surprize some day or other .\" Mr . Knightle\n",
        "ation for her will ever take me by surprize .-- I never had a thought of her i\n",
        " expected by the best judges , for surprize -- but there was great joy . Mr . \n",
        " sound of at first , without great surprize . \" So unreasonably early !\" she w\n",
        "d Frank Churchill , with a look of surprize and displeasure .-- \" That is easy\n",
        "; and Emma could imagine with what surprize and mortification she must be retu\n",
        "tled that Jane should go . Quite a surprize to me ! I had not the least idea !\n",
        " . It is impossible to express our surprize . He came to speak to his father o\n",
        "g engaged !\" Emma even jumped with surprize ;-- and , horror - struck , exclai\n"
       ]
      }
     ],
     "prompt_number": 687
    },
    {
     "cell_type": "code",
     "collapsed": false,
     "input": [
      "from nltk.corpus import gutenberg"
     ],
     "language": "python",
     "metadata": {},
     "outputs": [],
     "prompt_number": 10
    },
    {
     "cell_type": "code",
     "collapsed": false,
     "input": [
      "gutenberg.fileids()"
     ],
     "language": "python",
     "metadata": {},
     "outputs": [
      {
       "metadata": {},
       "output_type": "pyout",
       "prompt_number": 11,
       "text": [
        "[u'austen-emma.txt',\n",
        " u'austen-persuasion.txt',\n",
        " u'austen-sense.txt',\n",
        " u'bible-kjv.txt',\n",
        " u'blake-poems.txt',\n",
        " u'bryant-stories.txt',\n",
        " u'burgess-busterbrown.txt',\n",
        " u'carroll-alice.txt',\n",
        " u'chesterton-ball.txt',\n",
        " u'chesterton-brown.txt',\n",
        " u'chesterton-thursday.txt',\n",
        " u'edgeworth-parents.txt',\n",
        " u'melville-moby_dick.txt',\n",
        " u'milton-paradise.txt',\n",
        " u'shakespeare-caesar.txt',\n",
        " u'shakespeare-hamlet.txt',\n",
        " u'shakespeare-macbeth.txt',\n",
        " u'whitman-leaves.txt']"
       ]
      }
     ],
     "prompt_number": 11
    },
    {
     "cell_type": "code",
     "collapsed": false,
     "input": [
      "emma = gutenberg.words('austen-emma.txt')"
     ],
     "language": "python",
     "metadata": {},
     "outputs": [],
     "prompt_number": 12
    },
    {
     "cell_type": "markdown",
     "metadata": {},
     "source": [
      "#### for\ubb38 \ud574\uc11d\n",
      "\n",
      "- num_chars: \ubaa8\ub4e0 \ubb38\uc790\n",
      "- num_words: \ubaa8\ub4e0 \ub2e8\uc5b4\n",
      "- num_sents: \ubaa8\ub4e0 \ubb38\uc7a5\uc774\ub098 \ub9d0\ud22c??\n",
      "- num_vocab: \ubaa8\ub4e0 \ub2e8\uc5b4\ub4e4 \uc911\uc5d0\uc11c \uc720\uc77c\ud55c \ub2e8\uc5b4\n",
      "\n",
      "\n",
      "- \ubaa8\ub4e0 \ubb38\uc790 / \ubaa8\ub4e0 \ub2e8\uc5b4, \ubaa8\ub4e0 \ub2e8\uc5b4 / \ubaa8\ub4e0 \ubb38\uc7a5\uc774\ub098 \ub9ac\uc2a4\ud2b8?\n",
      "- \ubaa8\ub4e0 \ub2e8\uc5b4 / \ubaa8\ub4e0 \uc720\uc77c\ud55c \ub2e8\uc5b4, fileid\n",
      "- \ubc11\uc5d0 \uc124\uba85\uc774 \ub098\uc640\uc788\ub124\n",
      "- average word length\n",
      "- average sentence length\n",
      "- \ud3c9\uade0\uc801\uc73c\ub85c \uac01 \ub2e8\uc5b4\ub4e4\uc774 \ud14d\uc2a4\ud2b8 \uc548\uc5d0\uc11c \uc5bc\ub9c8\ub098 \ub098\ud0c0\ub098\ub294\uc9c0?(\uc5b8\uc5b4\uc801 \ub2e4\uc591\uc131 \uc810\uc218)\n",
      "\n",
      "> Note: \uc774\uac78 \uc54c\uc544\uc11c \ubb58 \ud558\uaca0\ub2e4\ub294 \uac74\uac00? \ubaa9\uc801\uc774 \uc788\uc744\ud150\ub370 \ubaa9\uc801\uc774 \uc774\ud574\uac00 \uc548\ub418\uace0 \uc788\uc74c. \n",
      "- \uc5b8\uc5b4\ub4e4\uc5d0 \uc5b4\ub5a4 \ud2b9\uc9d5\uc774 \uc788\ub294\uc9c0? \n",
      "- \uacf5\ud3ec \uc601\ud654\uc5d0\uc11c \ub9ce\uc774 \ub098\uc624\ub294 \ub300\uc0ac\ub97c \uac00\uc9c0\uace0 \uc5b4\ub5a4 \uc601\ud654\uac00 \uacf5\ud3ec \uc601\ud654\uc778\uc9c0 \ucd94\uc815\ud574 \ubcfc \uc218 \uc788\uc74c"
     ]
    },
    {
     "cell_type": "code",
     "collapsed": false,
     "input": [
      "for fileid in gutenberg.fileids():\n",
      "    num_chars = len(gutenberg.raw(fileid))\n",
      "    num_words = len(gutenberg.words(fileid))\n",
      "    num_sents = len(gutenberg.sents(fileid))\n",
      "    num_vocab = len(set([w.lower() for w in gutenberg.words(fileid)]))\n",
      "    print int(num_chars/num_words), int(num_words/num_sents), \\\n",
      "    int(num_words/num_vocab), fileid"
     ],
     "language": "python",
     "metadata": {},
     "outputs": [
      {
       "output_type": "stream",
       "stream": "stdout",
       "text": [
        "4 24 26 austen-emma.txt\n",
        "4"
       ]
      },
      {
       "output_type": "stream",
       "stream": "stdout",
       "text": [
        " 26 16 austen-persuasion.txt\n",
        "4"
       ]
      },
      {
       "output_type": "stream",
       "stream": "stdout",
       "text": [
        " 28 22 austen-sense.txt\n",
        "4"
       ]
      },
      {
       "output_type": "stream",
       "stream": "stdout",
       "text": [
        " 33 79 bible-kjv.txt\n",
        "4"
       ]
      },
      {
       "output_type": "stream",
       "stream": "stdout",
       "text": [
        " 19 5 blake-poems.txt\n",
        "4"
       ]
      },
      {
       "output_type": "stream",
       "stream": "stdout",
       "text": [
        " 19 14 bryant-stories.txt\n",
        "4"
       ]
      },
      {
       "output_type": "stream",
       "stream": "stdout",
       "text": [
        " 17 12 burgess-busterbrown.txt\n",
        "4"
       ]
      },
      {
       "output_type": "stream",
       "stream": "stdout",
       "text": [
        " 20 12 carroll-alice.txt\n",
        "4"
       ]
      },
      {
       "output_type": "stream",
       "stream": "stdout",
       "text": [
        " 20 11 chesterton-ball.txt\n",
        "4"
       ]
      },
      {
       "output_type": "stream",
       "stream": "stdout",
       "text": [
        " 22 11 chesterton-brown.txt\n",
        "4"
       ]
      },
      {
       "output_type": "stream",
       "stream": "stdout",
       "text": [
        " 18 10 chesterton-thursday.txt\n",
        "4"
       ]
      },
      {
       "output_type": "stream",
       "stream": "stdout",
       "text": [
        " 20 24 edgeworth-parents.txt\n",
        "4"
       ]
      },
      {
       "output_type": "stream",
       "stream": "stdout",
       "text": [
        " 25 15 melville-moby_dick.txt\n",
        "4"
       ]
      },
      {
       "output_type": "stream",
       "stream": "stdout",
       "text": [
        " 52 10 milton-paradise.txt\n",
        "4"
       ]
      },
      {
       "output_type": "stream",
       "stream": "stdout",
       "text": [
        " 11 8 shakespeare-caesar.txt\n",
        "4"
       ]
      },
      {
       "output_type": "stream",
       "stream": "stdout",
       "text": [
        " 12 7 shakespeare-hamlet.txt\n",
        "4"
       ]
      },
      {
       "output_type": "stream",
       "stream": "stdout",
       "text": [
        " 12 6 shakespeare-macbeth.txt\n",
        "4"
       ]
      },
      {
       "output_type": "stream",
       "stream": "stdout",
       "text": [
        " 36 12 whitman-leaves.txt\n"
       ]
      }
     ],
     "prompt_number": 16
    },
    {
     "cell_type": "code",
     "collapsed": false,
     "input": [
      "help(gutenberg.raw)"
     ],
     "language": "python",
     "metadata": {},
     "outputs": [
      {
       "output_type": "stream",
       "stream": "stdout",
       "text": [
        "Help on method raw in module nltk.corpus.reader.plaintext:\n",
        "\n",
        "raw(self, fileids=None) method of nltk.corpus.reader.plaintext.PlaintextCorpusReader instance\n",
        "    :return: the given file(s) as a single string.\n",
        "    :rtype: str\n",
        "\n"
       ]
      }
     ],
     "prompt_number": 23
    },
    {
     "cell_type": "code",
     "collapsed": false,
     "input": [
      "len(gutenberg.raw('austen-emma.txt'))"
     ],
     "language": "python",
     "metadata": {},
     "outputs": [
      {
       "metadata": {},
       "output_type": "pyout",
       "prompt_number": 18,
       "text": [
        "887071"
       ]
      }
     ],
     "prompt_number": 18
    },
    {
     "cell_type": "code",
     "collapsed": false,
     "input": [
      "help(gutenberg.words)"
     ],
     "language": "python",
     "metadata": {},
     "outputs": [
      {
       "output_type": "stream",
       "stream": "stdout",
       "text": [
        "Help on method words in module nltk.corpus.reader.plaintext:\n",
        "\n",
        "words(self, fileids=None) method of nltk.corpus.reader.plaintext.PlaintextCorpusReader instance\n",
        "    :return: the given file(s) as a list of words\n",
        "        and punctuation symbols.\n",
        "    :rtype: list(str)\n",
        "\n"
       ]
      }
     ],
     "prompt_number": 24
    },
    {
     "cell_type": "code",
     "collapsed": false,
     "input": [
      "gutenberg.words('austen-emma.txt')"
     ],
     "language": "python",
     "metadata": {},
     "outputs": [
      {
       "metadata": {},
       "output_type": "pyout",
       "prompt_number": 19,
       "text": [
        "[u'[', u'Emma', u'by', u'Jane', u'Austen', u'1816', ...]"
       ]
      }
     ],
     "prompt_number": 19
    },
    {
     "cell_type": "code",
     "collapsed": false,
     "input": [
      "num_words2 = len(gutenberg.words('austen-emma.txt'))\n",
      "num_words2"
     ],
     "language": "python",
     "metadata": {},
     "outputs": [
      {
       "metadata": {},
       "output_type": "pyout",
       "prompt_number": 35,
       "text": [
        "192427"
       ]
      }
     ],
     "prompt_number": 35
    },
    {
     "cell_type": "code",
     "collapsed": false,
     "input": [
      "num_vocab2 = len(set([w.lower() for w in \n",
      "                      gutenberg.words('austen-emma.txt')]))\n",
      "num_vocab2"
     ],
     "language": "python",
     "metadata": {},
     "outputs": [
      {
       "metadata": {},
       "output_type": "pyout",
       "prompt_number": 40,
       "text": [
        "7344"
       ]
      }
     ],
     "prompt_number": 40
    },
    {
     "cell_type": "code",
     "collapsed": false,
     "input": [
      "# \ubaa8\ub4e0 \ub2e8\uc5b4\ub4e4\uc774 \uc720\uc77c\ud55c \ub2e8\uc5b4 \uc911\uc5d0\uc11c \uc5bc\ub9c8\ub098 \ub9ce\uc774 \ub098\uc624\ub294\uc9c0?\n",
      "num_words2 / num_vocab2"
     ],
     "language": "python",
     "metadata": {},
     "outputs": [
      {
       "metadata": {},
       "output_type": "pyout",
       "prompt_number": 41,
       "text": [
        "26"
       ]
      }
     ],
     "prompt_number": 41
    },
    {
     "cell_type": "code",
     "collapsed": false,
     "input": [
      "# sentence: \ubb38\uc7a5\n",
      "# utterance: \ub9d0\ud22c\n",
      "help(gutenberg.sents)"
     ],
     "language": "python",
     "metadata": {},
     "outputs": [
      {
       "output_type": "stream",
       "stream": "stdout",
       "text": [
        "Help on method sents in module nltk.corpus.reader.plaintext:\n",
        "\n",
        "sents(self, fileids=None) method of nltk.corpus.reader.plaintext.PlaintextCorpusReader instance\n",
        "    :return: the given file(s) as a list of\n",
        "        sentences or utterances, each encoded as a list of word\n",
        "        strings.\n",
        "    :rtype: list(list(str))\n",
        "\n"
       ]
      }
     ],
     "prompt_number": 25
    },
    {
     "cell_type": "code",
     "collapsed": false,
     "input": [
      "gutenberg.sents('austen-emma.txt')"
     ],
     "language": "python",
     "metadata": {},
     "outputs": [
      {
       "metadata": {},
       "output_type": "pyout",
       "prompt_number": 22,
       "text": [
        "[[u'[', u'Emma', u'by', u'Jane', u'Austen', u'1816', u']'], [u'VOLUME', u'I'], ...]"
       ]
      }
     ],
     "prompt_number": 22
    },
    {
     "cell_type": "code",
     "collapsed": false,
     "input": [
      "len(gutenberg.sents('austen-emma.txt'))"
     ],
     "language": "python",
     "metadata": {},
     "outputs": [
      {
       "metadata": {},
       "output_type": "pyout",
       "prompt_number": 21,
       "text": [
        "7752"
       ]
      }
     ],
     "prompt_number": 21
    },
    {
     "cell_type": "markdown",
     "metadata": {},
     "source": [
      "- average word length: really 3, not 4, since the num_chars variable counts space characters"
     ]
    },
    {
     "cell_type": "markdown",
     "metadata": {},
     "source": [
      "- sents(): divides the text up into its sentences, where each sentence is a list of words"
     ]
    },
    {
     "cell_type": "code",
     "collapsed": false,
     "input": [
      "# how many letters occur in the text\n",
      "len(gutenberg.raw('blake-poems.txt'))"
     ],
     "language": "python",
     "metadata": {},
     "outputs": [
      {
       "metadata": {},
       "output_type": "pyout",
       "prompt_number": 67,
       "text": [
        "38153"
       ]
      }
     ],
     "prompt_number": 67
    },
    {
     "cell_type": "code",
     "collapsed": false,
     "input": [
      "macbeth_sentences = gutenberg.sents('shakespeare-macbeth.txt')\n",
      "macbeth_sentences"
     ],
     "language": "python",
     "metadata": {},
     "outputs": [
      {
       "metadata": {},
       "output_type": "pyout",
       "prompt_number": 43,
       "text": [
        "[[u'[', u'The', u'Tragedie', u'of', u'Macbeth', u'by', u'William', u'Shakespeare', u'1603', u']'], [u'Actus', u'Primus', u'.'], ...]"
       ]
      }
     ],
     "prompt_number": 43
    },
    {
     "cell_type": "code",
     "collapsed": false,
     "input": [
      "len(macbeth_sentences)"
     ],
     "language": "python",
     "metadata": {},
     "outputs": [
      {
       "metadata": {},
       "output_type": "pyout",
       "prompt_number": 44,
       "text": [
        "1907"
       ]
      }
     ],
     "prompt_number": 44
    },
    {
     "cell_type": "code",
     "collapsed": false,
     "input": [
      "macbeth_sentences[1037]"
     ],
     "language": "python",
     "metadata": {},
     "outputs": [
      {
       "metadata": {},
       "output_type": "pyout",
       "prompt_number": 45,
       "text": [
        "[u'Good',\n",
        " u'night',\n",
        " u',',\n",
        " u'and',\n",
        " u'better',\n",
        " u'health',\n",
        " u'Attend',\n",
        " u'his',\n",
        " u'Maiesty']"
       ]
      }
     ],
     "prompt_number": 45
    },
    {
     "cell_type": "code",
     "collapsed": false,
     "input": [
      "' '.join(macbeth_sentences[1036])"
     ],
     "language": "python",
     "metadata": {},
     "outputs": [
      {
       "metadata": {},
       "output_type": "pyout",
       "prompt_number": 689,
       "text": [
        "u'Len .'"
       ]
      }
     ],
     "prompt_number": 689
    },
    {
     "cell_type": "code",
     "collapsed": false,
     "input": [
      "' '.join(macbeth_sentences[1037])"
     ],
     "language": "python",
     "metadata": {},
     "outputs": [
      {
       "metadata": {},
       "output_type": "pyout",
       "prompt_number": 688,
       "text": [
        "u'Good night , and better health Attend his Maiesty'"
       ]
      }
     ],
     "prompt_number": 688
    },
    {
     "cell_type": "code",
     "collapsed": false,
     "input": [
      "' '.join(macbeth_sentences[1038])"
     ],
     "language": "python",
     "metadata": {},
     "outputs": [
      {
       "metadata": {},
       "output_type": "pyout",
       "prompt_number": 690,
       "text": [
        "u'La .'"
       ]
      }
     ],
     "prompt_number": 690
    },
    {
     "cell_type": "code",
     "collapsed": false,
     "input": [
      "longest_len = max([len(s) for s in macbeth_sentences])\n",
      "longest_len"
     ],
     "language": "python",
     "metadata": {},
     "outputs": [
      {
       "metadata": {},
       "output_type": "pyout",
       "prompt_number": 47,
       "text": [
        "158"
       ]
      }
     ],
     "prompt_number": 47
    },
    {
     "cell_type": "code",
     "collapsed": false,
     "input": [
      "[s for s in macbeth_sentences if len(s) == longest_len][0][:20]"
     ],
     "language": "python",
     "metadata": {},
     "outputs": [
      {
       "metadata": {},
       "output_type": "pyout",
       "prompt_number": 62,
       "text": [
        "[u'Doubtfull',\n",
        " u'it',\n",
        " u'stood',\n",
        " u',',\n",
        " u'As',\n",
        " u'two',\n",
        " u'spent',\n",
        " u'Swimmers',\n",
        " u',',\n",
        " u'that',\n",
        " u'doe',\n",
        " u'cling',\n",
        " u'together',\n",
        " u',',\n",
        " u'And',\n",
        " u'choake',\n",
        " u'their',\n",
        " u'Art',\n",
        " u':',\n",
        " u'The']"
       ]
      }
     ],
     "prompt_number": 62
    },
    {
     "cell_type": "code",
     "collapsed": false,
     "input": [
      "' '.join([s for s in macbeth_sentences if len(s) == longest_len][0])"
     ],
     "language": "python",
     "metadata": {},
     "outputs": [
      {
       "metadata": {},
       "output_type": "pyout",
       "prompt_number": 66,
       "text": [
        "u\"Doubtfull it stood , As two spent Swimmers , that doe cling together , And choake their Art : The mercilesse Macdonwald ( Worthie to be a Rebell , for to that The multiplying Villanies of Nature Doe swarme vpon him ) from the Westerne Isles Of Kernes and Gallowgrosses is supply ' d , And Fortune on his damned Quarry smiling , Shew ' d like a Rebells Whore : but all ' s too weake : For braue Macbeth ( well hee deserues that Name ) Disdayning Fortune , with his brandisht Steele , Which smoak ' d with bloody execution ( Like Valours Minion ) caru ' d out his passage , Till hee fac ' d the Slaue : Which neu ' r shooke hands , nor bad farwell to him , Till he vnseam ' d him from the Naue toth ' Chops , And fix ' d his Head vpon our Battlements\""
       ]
      }
     ],
     "prompt_number": 66
    },
    {
     "cell_type": "markdown",
     "metadata": {},
     "source": [
      "- \ub300\ubd80\ubd84\uc758 NLTK corpus reader\ub294 \ub2e4\uc591\ud55c \uc811\uadfc \ubc29\ubc95\uc744 words(), raw(), sents() \uac19\uc774 \ud3ec\ud568\ud558\uace0 \uc788\ub2e4."
     ]
    },
    {
     "cell_type": "markdown",
     "metadata": {},
     "source": [
      "### Web and Chat Text\n",
      "\n",
      "- Gutenberg contains thousands of books: \ucd9c\ud310\ub41c \ubb38\ud559\uc744 \ub300\ud45c\ud55c\ub2e4.\n",
      "- \uc774\uac83\uc740 \uc911\uc694\ud558\ub2e4. \ud615\uc2dd\uc801\uc778 \uc5b8\uc5b4 \uc694\uc18c\uac00 \uc801\ub2e4."
     ]
    },
    {
     "cell_type": "code",
     "collapsed": false,
     "input": [
      "from nltk.corpus import webtext"
     ],
     "language": "python",
     "metadata": {},
     "outputs": [],
     "prompt_number": 68
    },
    {
     "cell_type": "code",
     "collapsed": false,
     "input": [
      "help(webtext)"
     ],
     "language": "python",
     "metadata": {},
     "outputs": [
      {
       "output_type": "stream",
       "stream": "stdout",
       "text": [
        "Help on LazyCorpusLoader in module nltk.corpus.util object:\n",
        "\n",
        "webtext = class PlaintextCorpusReader(nltk.corpus.reader.api.CorpusReader)\n",
        " |  Reader for corpora that consist of plaintext documents.  Paragraphs\n",
        " |  are assumed to be split using blank lines.  Sentences and words can\n",
        " |  be tokenized using the default tokenizers, or by custom tokenizers\n",
        " |  specificed as parameters to the constructor.\n",
        " |  \n",
        " |  This corpus reader can be customized (e.g., to skip preface\n",
        " |  sections of specific document formats) by creating a subclass and\n",
        " |  overriding the ``CorpusView`` class variable.\n",
        " |  \n",
        " |  Method resolution order:\n",
        " |      PlaintextCorpusReader\n",
        " |      nltk.corpus.reader.api.CorpusReader\n",
        " |      __builtin__.object\n",
        " |  \n",
        " |  Methods defined here:\n",
        " |  \n",
        " |  __init__(self, root, fileids, word_tokenizer=WordPunctTokenizer(pattern=u'\\\\w+|[^\\\\w\\\\s]+', gaps=False, discard_empty=True, flags=56), sent_tokenizer=<nltk.tokenize.punkt.PunktSentenceTokenizer object>, para_block_reader=<function read_blankline_block>, encoding='utf8')\n",
        " |      Construct a new plaintext corpus reader for a set of documents\n",
        " |      located at the given root directory.  Example usage:\n",
        " |      \n",
        " |          >>> root = '/usr/local/share/nltk_data/corpora/webtext/'\n",
        " |          >>> reader = PlaintextCorpusReader(root, '.*\\.txt') # doctest: +SKIP\n",
        " |      \n",
        " |      :param root: The root directory for this corpus.\n",
        " |      :param fileids: A list or regexp specifying the fileids in this corpus.\n",
        " |      :param word_tokenizer: Tokenizer for breaking sentences or\n",
        " |          paragraphs into words.\n",
        " |      :param sent_tokenizer: Tokenizer for breaking paragraphs\n",
        " |          into words.\n",
        " |      :param para_block_reader: The block reader used to divide the\n",
        " |          corpus into paragraph blocks.\n",
        " |  \n",
        " |  paras(self, fileids=None)\n",
        " |      :return: the given file(s) as a list of\n",
        " |          paragraphs, each encoded as a list of sentences, which are\n",
        " |          in turn encoded as lists of word strings.\n",
        " |      :rtype: list(list(list(str)))\n",
        " |  \n",
        " |  raw(self, fileids=None)\n",
        " |      :return: the given file(s) as a single string.\n",
        " |      :rtype: str\n",
        " |  \n",
        " |  sents(self, fileids=None)\n",
        " |      :return: the given file(s) as a list of\n",
        " |          sentences or utterances, each encoded as a list of word\n",
        " |          strings.\n",
        " |      :rtype: list(list(str))\n",
        " |  \n",
        " |  words(self, fileids=None)\n",
        " |      :return: the given file(s) as a list of words\n",
        " |          and punctuation symbols.\n",
        " |      :rtype: list(str)\n",
        " |  \n",
        " |  ----------------------------------------------------------------------\n",
        " |  Data and other attributes defined here:\n",
        " |  \n",
        " |  CorpusView = <class 'nltk.corpus.reader.util.StreamBackedCorpusView'>\n",
        " |      A 'view' of a corpus file, which acts like a sequence of tokens:\n",
        " |      it can be accessed by index, iterated over, etc.  However, the\n",
        " |      tokens are only constructed as-needed -- the entire corpus is\n",
        " |      never stored in memory at once.\n",
        " |      \n",
        " |      The constructor to ``StreamBackedCorpusView`` takes two arguments:\n",
        " |      a corpus fileid (specified as a string or as a ``PathPointer``);\n",
        " |      and a block reader.  A \"block reader\" is a function that reads\n",
        " |      zero or more tokens from a stream, and returns them as a list.  A\n",
        " |      very simple example of a block reader is:\n",
        " |      \n",
        " |          >>> def simple_block_reader(stream):\n",
        " |          ...     return stream.readline().split()\n",
        " |      \n",
        " |      This simple block reader reads a single line at a time, and\n",
        " |      returns a single token (consisting of a string) for each\n",
        " |      whitespace-separated substring on the line.\n",
        " |      \n",
        " |      When deciding how to define the block reader for a given\n",
        " |      corpus, careful consideration should be given to the size of\n",
        " |      blocks handled by the block reader.  Smaller block sizes will\n",
        " |      increase the memory requirements of the corpus view's internal\n",
        " |      data structures (by 2 integers per block).  On the other hand,\n",
        " |      larger block sizes may decrease performance for random access to\n",
        " |      the corpus.  (But note that larger block sizes will *not*\n",
        " |      decrease performance for iteration.)\n",
        " |      \n",
        " |      Internally, ``CorpusView`` maintains a partial mapping from token\n",
        " |      index to file position, with one entry per block.  When a token\n",
        " |      with a given index *i* is requested, the ``CorpusView`` constructs\n",
        " |      it as follows:\n",
        " |      \n",
        " |        1. First, it searches the toknum/filepos mapping for the token\n",
        " |           index closest to (but less than or equal to) *i*.\n",
        " |      \n",
        " |        2. Then, starting at the file position corresponding to that\n",
        " |           index, it reads one block at a time using the block reader\n",
        " |           until it reaches the requested token.\n",
        " |      \n",
        " |      The toknum/filepos mapping is created lazily: it is initially\n",
        " |      empty, but every time a new block is read, the block's\n",
        " |      initial token is added to the mapping.  (Thus, the toknum/filepos\n",
        " |      map has one entry per block.)\n",
        " |      \n",
        " |      In order to increase efficiency for random access patterns that\n",
        " |      have high degrees of locality, the corpus view may cache one or\n",
        " |      more blocks.\n",
        " |      \n",
        " |      :note: Each ``CorpusView`` object internally maintains an open file\n",
        " |          object for its underlying corpus file.  This file should be\n",
        " |          automatically closed when the ``CorpusView`` is garbage collected,\n",
        " |          but if you wish to close it manually, use the ``close()``\n",
        " |          method.  If you access a ``CorpusView``'s items after it has been\n",
        " |          closed, the file object will be automatically re-opened.\n",
        " |      \n",
        " |      :warning: If the contents of the file are modified during the\n",
        " |          lifetime of the ``CorpusView``, then the ``CorpusView``'s behavior\n",
        " |          is undefined.\n",
        " |      \n",
        " |      :warning: If a unicode encoding is specified when constructing a\n",
        " |          ``CorpusView``, then the block reader may only call\n",
        " |          ``stream.seek()`` with offsets that have been returned by\n",
        " |          ``stream.tell()``; in particular, calling ``stream.seek()`` with\n",
        " |          relative offsets, or with offsets based on string lengths, may\n",
        " |          lead to incorrect behavior.\n",
        " |      \n",
        " |      :ivar _block_reader: The function used to read\n",
        " |          a single block from the underlying file stream.\n",
        " |      :ivar _toknum: A list containing the token index of each block\n",
        " |          that has been processed.  In particular, ``_toknum[i]`` is the\n",
        " |          token index of the first token in block ``i``.  Together\n",
        " |          with ``_filepos``, this forms a partial mapping between token\n",
        " |          indices and file positions.\n",
        " |      :ivar _filepos: A list containing the file position of each block\n",
        " |          that has been processed.  In particular, ``_toknum[i]`` is the\n",
        " |          file position of the first character in block ``i``.  Together\n",
        " |          with ``_toknum``, this forms a partial mapping between token\n",
        " |          indices and file positions.\n",
        " |      :ivar _stream: The stream used to access the underlying corpus file.\n",
        " |      :ivar _len: The total number of tokens in the corpus, if known;\n",
        " |          or None, if the number of tokens is not yet known.\n",
        " |      :ivar _eofpos: The character position of the last character in the\n",
        " |          file.  This is calculated when the corpus view is initialized,\n",
        " |          and is used to decide when the end of file has been reached.\n",
        " |      :ivar _cache: A cache of the most recently read block.  It\n",
        " |         is encoded as a tuple (start_toknum, end_toknum, tokens), where\n",
        " |         start_toknum is the token index of the first token in the block;\n",
        " |         end_toknum is the token index of the first token not in the\n",
        " |         block; and tokens is a list of the tokens in the block.\n",
        " |  \n",
        " |  ----------------------------------------------------------------------\n",
        " |  Methods inherited from nltk.corpus.reader.api.CorpusReader:\n",
        " |  \n",
        " |  __repr__(self)\n",
        " |  \n",
        " |  __str__(self)\n",
        " |      x.__str__() <==> str(x)\n",
        " |  \n",
        " |  __unicode__ = __str__(...)\n",
        " |      x.__str__() <==> str(x)\n",
        " |  \n",
        " |  abspath(self, fileid)\n",
        " |      Return the absolute path for the given file.\n",
        " |      \n",
        " |      :type file: str\n",
        " |      :param file: The file identifier for the file whose path\n",
        " |          should be returned.\n",
        " |      :rtype: PathPointer\n",
        " |  \n",
        " |  abspaths(self, fileids=None, include_encoding=False, include_fileid=False)\n",
        " |      Return a list of the absolute paths for all fileids in this corpus;\n",
        " |      or for the given list of fileids, if specified.\n",
        " |      \n",
        " |      :type fileids: None or str or list\n",
        " |      :param fileids: Specifies the set of fileids for which paths should\n",
        " |          be returned.  Can be None, for all fileids; a list of\n",
        " |          file identifiers, for a specified set of fileids; or a single\n",
        " |          file identifier, for a single file.  Note that the return\n",
        " |          value is always a list of paths, even if ``fileids`` is a\n",
        " |          single file identifier.\n",
        " |      \n",
        " |      :param include_encoding: If true, then return a list of\n",
        " |          ``(path_pointer, encoding)`` tuples.\n",
        " |      \n",
        " |      :rtype: list(PathPointer)\n",
        " |  \n",
        " |  encoding(self, file)\n",
        " |      Return the unicode encoding for the given corpus file, if known.\n",
        " |      If the encoding is unknown, or if the given file should be\n",
        " |      processed using byte strings (str), then return None.\n",
        " |  \n",
        " |  ensure_loaded(self)\n",
        " |      Load this corpus (if it has not already been loaded).  This is\n",
        " |      used by LazyCorpusLoader as a simple method that can be used to\n",
        " |      make sure a corpus is loaded -- e.g., in case a user wants to\n",
        " |      do help(some_corpus).\n",
        " |  \n",
        " |  fileids(self)\n",
        " |      Return a list of file identifiers for the fileids that make up\n",
        " |      this corpus.\n",
        " |  \n",
        " |  open(self, file)\n",
        " |      Return an open stream that can be used to read the given file.\n",
        " |      If the file's encoding is not None, then the stream will\n",
        " |      automatically decode the file's contents into unicode.\n",
        " |      \n",
        " |      :param file: The file identifier of the file to read.\n",
        " |  \n",
        " |  readme(self)\n",
        " |      Return the contents of the corpus README file, if it exists.\n",
        " |  \n",
        " |  unicode_repr = __repr__(self)\n",
        " |  \n",
        " |  ----------------------------------------------------------------------\n",
        " |  Data descriptors inherited from nltk.corpus.reader.api.CorpusReader:\n",
        " |  \n",
        " |  __dict__\n",
        " |      dictionary for instance variables (if defined)\n",
        " |  \n",
        " |  __weakref__\n",
        " |      list of weak references to the object (if defined)\n",
        " |  \n",
        " |  root\n",
        " |      The directory where this corpus is stored.\n",
        " |      \n",
        " |      :type: PathPointer\n",
        "\n"
       ]
      }
     ],
     "prompt_number": 69
    },
    {
     "cell_type": "code",
     "collapsed": false,
     "input": [
      "for fileid in webtext.fileids():\n",
      "    print fileid, webtext.raw(fileid)[:65], '...'"
     ],
     "language": "python",
     "metadata": {},
     "outputs": [
      {
       "output_type": "stream",
       "stream": "stdout",
       "text": [
        "firefox.txt Cookie Manager: \"Don't allow sites that set removed cookies to se ...\n",
        "grail.txt SCENE 1: [wind] [clop clop clop] \n",
        "KING ARTHUR: Whoa there!  [clop ...\n",
        "overheard.txt White guy: So, do you have any plans for this evening?\n",
        "Asian girl ...\n",
        "pirates.txt PIRATES OF THE CARRIBEAN: DEAD MAN'S CHEST, by Ted Elliott & Terr ...\n",
        "singles.txt 25 SEXY MALE, seeks attrac older single lady, for discreet encoun ...\n",
        "wine.txt Lovely delicate, fragrant Rhone wine. Polished leather and strawb ...\n"
       ]
      }
     ],
     "prompt_number": 73
    },
    {
     "cell_type": "code",
     "collapsed": false,
     "input": [
      "webtext.fileids()"
     ],
     "language": "python",
     "metadata": {},
     "outputs": [
      {
       "metadata": {},
       "output_type": "pyout",
       "prompt_number": 74,
       "text": [
        "[u'firefox.txt',\n",
        " u'grail.txt',\n",
        " u'overheard.txt',\n",
        " u'pirates.txt',\n",
        " u'singles.txt',\n",
        " u'wine.txt']"
       ]
      }
     ],
     "prompt_number": 74
    },
    {
     "cell_type": "code",
     "collapsed": false,
     "input": [
      "from nltk.corpus import nps_chat"
     ],
     "language": "python",
     "metadata": {},
     "outputs": [],
     "prompt_number": 75
    },
    {
     "cell_type": "code",
     "collapsed": false,
     "input": [
      "# 706 posts\n",
      "# 10/19\n",
      "# 20s\n",
      "chatroom = nps_chat.posts('10-19-20s_706posts.xml')"
     ],
     "language": "python",
     "metadata": {},
     "outputs": [],
     "prompt_number": 84
    },
    {
     "cell_type": "code",
     "collapsed": false,
     "input": [
      "chatroom[123]"
     ],
     "language": "python",
     "metadata": {},
     "outputs": [
      {
       "metadata": {},
       "output_type": "pyout",
       "prompt_number": 77,
       "text": [
        "[u'i',\n",
        " u'do',\n",
        " u\"n't\",\n",
        " u'want',\n",
        " u'hot',\n",
        " u'pics',\n",
        " u'of',\n",
        " u'a',\n",
        " u'female',\n",
        " u',',\n",
        " u'I',\n",
        " u'can',\n",
        " u'look',\n",
        " u'in',\n",
        " u'a',\n",
        " u'mirror',\n",
        " u'.']"
       ]
      }
     ],
     "prompt_number": 77
    },
    {
     "cell_type": "markdown",
     "metadata": {},
     "source": [
      "### Brown Corpus\n",
      "\n",
      "- http://icame.uib.no/brown/bcm-los.html\n",
      "- [Brown Corpus - Wikipedia, the free encyclopedia](http://en.wikipedia.org/wiki/Brown_Corpus)\n",
      "- \uc7a5\ub974\uc5d0 \uc758\ud574 \uad6c\ubd84\ub418\uc5c8\ub2e4. news, editorial \ub4f1\ub4f1\n",
      "- Brown\uc740 \uc5b4\ub5a4 \uacf3\uc774\ub0d0?\n",
      "- \uc5b4\ub5a4 \uacf3\uc774\uae38\ub798 \ub9d0\ubb49\uce58\ub97c \ub9cc\ub4e4\uc5c8\uc9c0?\n",
      "- \uc774\ub7f0\uac8c \ud3ec\uc778\ud2b8\uc778\ub4ef... \ub85c\uc774\ud130 \ud1b5\uc2e0\uc5d0\uc11c \ub9cc\ub4e4\uc5c8\uc73c\uba74 \uc790\uc2e0\ub4e4\uc758 \ub274\uc2a4 \ub54c\ubb38\uc5d0 \ub9cc\ub4e4\uc5c8\uaca0\uc9c0?"
     ]
    },
    {
     "cell_type": "code",
     "collapsed": false,
     "input": [
      "from nltk.corpus import brown"
     ],
     "language": "python",
     "metadata": {},
     "outputs": [],
     "prompt_number": 85
    },
    {
     "cell_type": "code",
     "collapsed": false,
     "input": [
      "brown.categories()"
     ],
     "language": "python",
     "metadata": {},
     "outputs": [
      {
       "metadata": {},
       "output_type": "pyout",
       "prompt_number": 86,
       "text": [
        "[u'adventure',\n",
        " u'belles_lettres',\n",
        " u'editorial',\n",
        " u'fiction',\n",
        " u'government',\n",
        " u'hobbies',\n",
        " u'humor',\n",
        " u'learned',\n",
        " u'lore',\n",
        " u'mystery',\n",
        " u'news',\n",
        " u'religion',\n",
        " u'reviews',\n",
        " u'romance',\n",
        " u'science_fiction']"
       ]
      }
     ],
     "prompt_number": 86
    },
    {
     "cell_type": "code",
     "collapsed": false,
     "input": [
      "brown.words(categories='news')"
     ],
     "language": "python",
     "metadata": {},
     "outputs": [
      {
       "metadata": {},
       "output_type": "pyout",
       "prompt_number": 87,
       "text": [
        "[u'The', u'Fulton', u'County', u'Grand', u'Jury', ...]"
       ]
      }
     ],
     "prompt_number": 87
    },
    {
     "cell_type": "code",
     "collapsed": false,
     "input": [
      "len(brown.words(categories='news'))"
     ],
     "language": "python",
     "metadata": {},
     "outputs": [
      {
       "metadata": {},
       "output_type": "pyout",
       "prompt_number": 88,
       "text": [
        "100554"
       ]
      }
     ],
     "prompt_number": 88
    },
    {
     "cell_type": "code",
     "collapsed": false,
     "input": [
      "brown.sents(categories='news')"
     ],
     "language": "python",
     "metadata": {},
     "outputs": [
      {
       "metadata": {},
       "output_type": "pyout",
       "prompt_number": 90,
       "text": [
        "[[u'The', u'Fulton', u'County', u'Grand', u'Jury', u'said', u'Friday', u'an', u'investigation', u'of', u\"Atlanta's\", u'recent', u'primary', u'election', u'produced', u'``', u'no', u'evidence', u\"''\", u'that', u'any', u'irregularities', u'took', u'place', u'.'], [u'The', u'jury', u'further', u'said', u'in', u'term-end', u'presentments', u'that', u'the', u'City', u'Executive', u'Committee', u',', u'which', u'had', u'over-all', u'charge', u'of', u'the', u'election', u',', u'``', u'deserves', u'the', u'praise', u'and', u'thanks', u'of', u'the', u'City', u'of', u'Atlanta', u\"''\", u'for', u'the', u'manner', u'in', u'which', u'the', u'election', u'was', u'conducted', u'.'], ...]"
       ]
      }
     ],
     "prompt_number": 90
    },
    {
     "cell_type": "code",
     "collapsed": false,
     "input": [
      "len(brown.sents(categories='news'))"
     ],
     "language": "python",
     "metadata": {},
     "outputs": [
      {
       "metadata": {},
       "output_type": "pyout",
       "prompt_number": 91,
       "text": [
        "4623"
       ]
      }
     ],
     "prompt_number": 91
    },
    {
     "cell_type": "code",
     "collapsed": false,
     "input": [
      "' '.join(brown.sents(categories='news')[0])"
     ],
     "language": "python",
     "metadata": {},
     "outputs": [
      {
       "metadata": {},
       "output_type": "pyout",
       "prompt_number": 93,
       "text": [
        "u\"The Fulton County Grand Jury said Friday an investigation of Atlanta's recent primary election produced `` no evidence '' that any irregularities took place .\""
       ]
      }
     ],
     "prompt_number": 93
    },
    {
     "cell_type": "code",
     "collapsed": false,
     "input": [
      "brown.sents(categories=['news', 'editorial', 'reviews'])"
     ],
     "language": "python",
     "metadata": {},
     "outputs": [
      {
       "metadata": {},
       "output_type": "pyout",
       "prompt_number": 89,
       "text": [
        "[[u'The', u'Fulton', u'County', u'Grand', u'Jury', u'said', u'Friday', u'an', u'investigation', u'of', u\"Atlanta's\", u'recent', u'primary', u'election', u'produced', u'``', u'no', u'evidence', u\"''\", u'that', u'any', u'irregularities', u'took', u'place', u'.'], [u'The', u'jury', u'further', u'said', u'in', u'term-end', u'presentments', u'that', u'the', u'City', u'Executive', u'Committee', u',', u'which', u'had', u'over-all', u'charge', u'of', u'the', u'election', u',', u'``', u'deserves', u'the', u'praise', u'and', u'thanks', u'of', u'the', u'City', u'of', u'Atlanta', u\"''\", u'for', u'the', u'manner', u'in', u'which', u'the', u'election', u'was', u'conducted', u'.'], ...]"
       ]
      }
     ],
     "prompt_number": 89
    },
    {
     "cell_type": "code",
     "collapsed": false,
     "input": [
      "len(brown.sents(categories=['news', 'editorial', 'reviews']))"
     ],
     "language": "python",
     "metadata": {},
     "outputs": [
      {
       "metadata": {},
       "output_type": "pyout",
       "prompt_number": 94,
       "text": [
        "9371"
       ]
      }
     ],
     "prompt_number": 94
    },
    {
     "cell_type": "code",
     "collapsed": false,
     "input": [
      "from nltk.corpus import brown"
     ],
     "language": "python",
     "metadata": {},
     "outputs": [],
     "prompt_number": 99
    },
    {
     "cell_type": "code",
     "collapsed": false,
     "input": [
      "news_text = brown.words(categories='news')\n",
      "news_text"
     ],
     "language": "python",
     "metadata": {},
     "outputs": [
      {
       "metadata": {},
       "output_type": "pyout",
       "prompt_number": 100,
       "text": [
        "[u'The', u'Fulton', u'County', u'Grand', u'Jury', ...]"
       ]
      }
     ],
     "prompt_number": 100
    },
    {
     "cell_type": "code",
     "collapsed": false,
     "input": [
      "len(news_text)"
     ],
     "language": "python",
     "metadata": {},
     "outputs": [
      {
       "metadata": {},
       "output_type": "pyout",
       "prompt_number": 101,
       "text": [
        "100554"
       ]
      }
     ],
     "prompt_number": 101
    },
    {
     "cell_type": "code",
     "collapsed": false,
     "input": [
      "fdist = nltk.FreqDist([w.lower() for w in news_text])\n",
      "fdist"
     ],
     "language": "python",
     "metadata": {},
     "outputs": [
      {
       "metadata": {},
       "output_type": "pyout",
       "prompt_number": 103,
       "text": [
        "FreqDist({u'the': 6386, u',': 5188, u'.': 4030, u'of': 2861, u'and': 2186, u'to': 2144, u'a': 2130, u'in': 2020, u'for': 969, u'that': 829, ...})"
       ]
      }
     ],
     "prompt_number": 103
    },
    {
     "cell_type": "code",
     "collapsed": false,
     "input": [
      "modals = ['can', 'could', 'may', 'might', 'must', 'will']"
     ],
     "language": "python",
     "metadata": {},
     "outputs": [],
     "prompt_number": 104
    },
    {
     "cell_type": "code",
     "collapsed": false,
     "input": [
      "for m in modals:\n",
      "    print m + ':', fdist[m],"
     ],
     "language": "python",
     "metadata": {},
     "outputs": [
      {
       "output_type": "stream",
       "stream": "stdout",
       "text": [
        "can: 94 could: 87 may: 93 might: 38 must: 53 will: 389\n"
       ]
      }
     ],
     "prompt_number": 107
    },
    {
     "cell_type": "markdown",
     "metadata": {},
     "source": [
      "#### Your Turn\n",
      "\n",
      "- Choose a different section of the Brown Corpus, and adapt the preceding example to count a selection of wh words, such as **what, when, where, who and why**."
     ]
    },
    {
     "cell_type": "code",
     "collapsed": false,
     "input": [
      "other_text = brown.words(categories=['news', 'humor', 'fiction'])\n",
      "other_text"
     ],
     "language": "python",
     "metadata": {},
     "outputs": [
      {
       "metadata": {},
       "output_type": "pyout",
       "prompt_number": 108,
       "text": [
        "[u'The', u'Fulton', u'County', u'Grand', u'Jury', ...]"
       ]
      }
     ],
     "prompt_number": 108
    },
    {
     "cell_type": "code",
     "collapsed": false,
     "input": [
      "wh_words = ['what', 'when', 'where', 'who', 'why']"
     ],
     "language": "python",
     "metadata": {},
     "outputs": [],
     "prompt_number": 112
    },
    {
     "cell_type": "code",
     "collapsed": false,
     "input": [
      "fdist2 = nltk.FreqDist([w.lower() for w in other_text if 'wh' in w])\n",
      "fdist2"
     ],
     "language": "python",
     "metadata": {},
     "outputs": [
      {
       "metadata": {},
       "output_type": "pyout",
       "prompt_number": 143,
       "text": [
        "FreqDist({u'which': 429, u'who': 419, u'when': 313, u'what': 240, u'where': 149, u'while': 102, u'white': 61, u'whole': 43, u'whose': 41, u'why': 36, ...})"
       ]
      }
     ],
     "prompt_number": 143
    },
    {
     "cell_type": "markdown",
     "metadata": {},
     "source": [
      "### \uc815\uaddc\ud45c\ud604\uc2dd\uc744 \uc0ac\uc6a9\ud560 \uc218 \ubc16\uc5d0 \uc5c6\ub294 \uc774\uc720\n",
      "\n",
      "- \uc815\uaddc\ud45c\ud604\uc2dd\uc744 \uc0ac\uc6a9\ud558\uc9c0 \uc54a\uc73c\uba74 \ub2e4\ub978 \uac83\ub4e4\uc774 \ub9c9 \ub355\uc9c0\ub355\uc9c0 \ub2ec\ub77c\ubd99\ub294\ub2e4."
     ]
    },
    {
     "cell_type": "code",
     "collapsed": false,
     "input": [
      "import re"
     ],
     "language": "python",
     "metadata": {},
     "outputs": [],
     "prompt_number": 163
    },
    {
     "cell_type": "code",
     "collapsed": false,
     "input": [
      "# pat = re.search('^' + '' + '$')"
     ],
     "language": "python",
     "metadata": {},
     "outputs": [],
     "prompt_number": 171
    },
    {
     "cell_type": "code",
     "collapsed": false,
     "input": [
      "fdist3 = nltk.FreqDist([word.lower() for word in other_text \n",
      "                                    for wh_word in wh_words \n",
      "                                    if re.search('^'+wh_word.lower()+'$', \n",
      "                                                 word.lower())])\n",
      "fdist3"
     ],
     "language": "python",
     "metadata": {},
     "outputs": [
      {
       "metadata": {},
       "output_type": "pyout",
       "prompt_number": 176,
       "text": [
        "FreqDist({u'who': 429, u'when': 423, u'what': 327, u'where': 164, u'why': 69})"
       ]
      }
     ],
     "prompt_number": 176
    },
    {
     "cell_type": "code",
     "collapsed": false,
     "input": [
      "fdist3.N()"
     ],
     "language": "python",
     "metadata": {},
     "outputs": [
      {
       "metadata": {},
       "output_type": "pyout",
       "prompt_number": 177,
       "text": [
        "1412"
       ]
      }
     ],
     "prompt_number": 177
    },
    {
     "cell_type": "markdown",
     "metadata": {},
     "source": [
      "### \uc815\uaddc\ud45c\ud604\uc2dd\uc744 \uc0ac\uc6a9\ud558\uc9c0 \uc54a\uace0 in\uc744 \uc0ac\uc6a9\ud55c \uacbd\uc6b0\n",
      "\n",
      "- some**what**, **when**ever \ub4f1\uacfc \uac19\uc774 \ub2e4\ub978 \uac83\ub4e4\ub3c4 \ucd9c\ub825\uc774 \ub41c\ub2e4."
     ]
    },
    {
     "cell_type": "code",
     "collapsed": false,
     "input": [
      "fdist3 = nltk.FreqDist([word.lower() for word in other_text \n",
      "                        for wh_word in wh_words \n",
      "                        if wh_word.lower() in word.lower()])\n",
      "fdist3"
     ],
     "language": "python",
     "metadata": {},
     "outputs": [
      {
       "metadata": {},
       "output_type": "pyout",
       "prompt_number": 692,
       "text": [
        "FreqDist({u'who': 429, u'when': 423, u'what': 327, u'where': 164, u'why': 69, u'whole': 44, u'whose': 41, u'whom': 20, u'somewhat': 12, u'whenever': 12, ...})"
       ]
      }
     ],
     "prompt_number": 692
    },
    {
     "cell_type": "code",
     "collapsed": false,
     "input": [
      "fdist3.N()"
     ],
     "language": "python",
     "metadata": {},
     "outputs": [
      {
       "metadata": {},
       "output_type": "pyout",
       "prompt_number": 694,
       "text": [
        "1619"
       ]
      }
     ],
     "prompt_number": 694
    },
    {
     "cell_type": "code",
     "collapsed": false,
     "input": [
      "other_text"
     ],
     "language": "python",
     "metadata": {},
     "outputs": [
      {
       "metadata": {},
       "output_type": "pyout",
       "prompt_number": 122,
       "text": [
        "[u'The', u'Fulton', u'County', u'Grand', u'Jury', ...]"
       ]
      }
     ],
     "prompt_number": 122
    },
    {
     "cell_type": "code",
     "collapsed": false,
     "input": [
      "len(other_text)"
     ],
     "language": "python",
     "metadata": {},
     "outputs": [
      {
       "metadata": {},
       "output_type": "pyout",
       "prompt_number": 123,
       "text": [
        "190737"
       ]
      }
     ],
     "prompt_number": 123
    },
    {
     "cell_type": "code",
     "collapsed": false,
     "input": [
      "# list comprehension \uc6d0\ub798 \ubc84\uc804\n",
      "lst = []\n",
      "for word in other_text:\n",
      "    for wh_word in wh_words:\n",
      "        if wh_word.lower() in word.lower():\n",
      "            lst.append(word)\n",
      "        \n",
      "len(lst)"
     ],
     "language": "python",
     "metadata": {},
     "outputs": [
      {
       "metadata": {},
       "output_type": "pyout",
       "prompt_number": 155,
       "text": [
        "1619"
       ]
      }
     ],
     "prompt_number": 155
    },
    {
     "cell_type": "code",
     "collapsed": false,
     "input": [
      "# genre \uc548\uc5d0 word\n",
      "# 'news', 'can'\n",
      "# 'hobbies', 'can'\n",
      "cfd = nltk.ConditionalFreqDist((genre, word)\n",
      "                               for genre in brown.categories()\n",
      "                               for word in brown.words(categories=genre))\n",
      "cfd"
     ],
     "language": "python",
     "metadata": {},
     "outputs": [
      {
       "metadata": {},
       "output_type": "pyout",
       "prompt_number": 186,
       "text": [
        "<ConditionalFreqDist with 15 conditions>"
       ]
      }
     ],
     "prompt_number": 186
    },
    {
     "cell_type": "code",
     "collapsed": false,
     "input": [
      "len(cfd)"
     ],
     "language": "python",
     "metadata": {},
     "outputs": [
      {
       "metadata": {},
       "output_type": "pyout",
       "prompt_number": 190,
       "text": [
        "15"
       ]
      }
     ],
     "prompt_number": 190
    },
    {
     "cell_type": "code",
     "collapsed": false,
     "input": [
      "type(cfd)"
     ],
     "language": "python",
     "metadata": {},
     "outputs": [
      {
       "metadata": {},
       "output_type": "pyout",
       "prompt_number": 193,
       "text": [
        "nltk.probability.ConditionalFreqDist"
       ]
      }
     ],
     "prompt_number": 193
    },
    {
     "cell_type": "code",
     "collapsed": false,
     "input": [
      "cfd2 = nltk.ConditionalFreqDist()\n",
      "len(cfd2)"
     ],
     "language": "python",
     "metadata": {},
     "outputs": []
    },
    {
     "cell_type": "code",
     "collapsed": false,
     "input": [
      "genres = ['news', 'religion', 'hobbies', 'science_fiction', 'romance', \n",
      "          'humor']"
     ],
     "language": "python",
     "metadata": {},
     "outputs": [],
     "prompt_number": 187
    },
    {
     "cell_type": "code",
     "collapsed": false,
     "input": [
      "modals = ['can', 'could', 'may', 'might', 'must', 'will']"
     ],
     "language": "python",
     "metadata": {},
     "outputs": [],
     "prompt_number": 188
    },
    {
     "cell_type": "code",
     "collapsed": false,
     "input": [
      "cfd.tabulate(conditions=genres, samples=modals)"
     ],
     "language": "python",
     "metadata": {},
     "outputs": [
      {
       "output_type": "stream",
       "stream": "stdout",
       "text": [
        "                 can could  may might must will \n",
        "           news   93   86   66   38   50  389 \n",
        "       religion   82   59   78   12   54   71 \n",
        "        hobbies  268   58  131   22   83  264 \n",
        "science_fiction   16   49    4   12    8   16 \n",
        "        romance   74  193   11   51   45   43 \n",
        "          humor   16   30    8    8    9   13 \n"
       ]
      }
     ],
     "prompt_number": 189
    },
    {
     "cell_type": "markdown",
     "metadata": {},
     "source": [
      "- news: will\uc774 \uac00\uc7a5 \ub9ce\uc774 \uc4f0\uc784\n",
      "- romance: could\uac00 \uac00\uc7a5 \ub9ce\uc774 \uc4f0\uc784\n",
      "- word counts\uac00 \uc7a5\ub974\ub97c \uad6c\ubcc4\ud558\ub294 \uac83\uc740 Chapter6\uc5d0\uc11c \ub2e4\uc2dc \ud55c \ubc88 \uc5b8\uae09\ud560 \uac83\uc774\ub2e4."
     ]
    },
    {
     "cell_type": "markdown",
     "metadata": {},
     "source": [
      "### Reuters Corpus(\ub85c\uc774\ud130 \ub9d0\ubb49\uce58)\n",
      "\n",
      "- 10, 788 news documents, 1.3 million words\n",
      "- \ubb38\uc11c\ub4e4\uc740 90\uac1c\uc758 \ud1a0\ud53d\uc73c\ub85c \ubd84\ub958\ub428\n",
      "- 2\uac1c\uc758 \uadf8\ub8f9\uc73c\ub85c \ub098\ub268 \"training\", \"test\"\n",
      "- test/14826\n",
      "- training and testing \uc54c\uace0\ub9ac\uc998\uc744 \uc0ac\uc6a9\ud574\uc11c \uc790\ub3d9\uc73c\ub85c \ubb38\uc11c\uc758 topic\uc744 \ucc3e\uc744 \uac83. Chapter6\uc5d0\uc11c"
     ]
    },
    {
     "cell_type": "code",
     "collapsed": false,
     "input": [
      "from nltk.corpus import reuters"
     ],
     "language": "python",
     "metadata": {},
     "outputs": [],
     "prompt_number": 208
    },
    {
     "cell_type": "code",
     "collapsed": false,
     "input": [
      "len(reuters.fileids())"
     ],
     "language": "python",
     "metadata": {},
     "outputs": [
      {
       "metadata": {},
       "output_type": "pyout",
       "prompt_number": 213,
       "text": [
        "10788"
       ]
      }
     ],
     "prompt_number": 213
    },
    {
     "cell_type": "code",
     "collapsed": false,
     "input": [
      "reuters.fileids()[::500]"
     ],
     "language": "python",
     "metadata": {},
     "outputs": [
      {
       "metadata": {},
       "output_type": "pyout",
       "prompt_number": 212,
       "text": [
        "['test/14826',\n",
        " 'test/15737',\n",
        " 'test/16592',\n",
        " 'test/18061',\n",
        " 'test/19440',\n",
        " 'test/20605',\n",
        " 'test/21541',\n",
        " 'training/10751',\n",
        " 'training/11515',\n",
        " 'training/12283',\n",
        " 'training/13203',\n",
        " 'training/1715',\n",
        " 'training/2562',\n",
        " 'training/334',\n",
        " 'training/41',\n",
        " 'training/4894',\n",
        " 'training/5635',\n",
        " 'training/6457',\n",
        " 'training/7196',\n",
        " 'training/7984',\n",
        " 'training/8760',\n",
        " 'training/9549']"
       ]
      }
     ],
     "prompt_number": 212
    },
    {
     "cell_type": "code",
     "collapsed": false,
     "input": [
      "reuters.categories()"
     ],
     "language": "python",
     "metadata": {},
     "outputs": [
      {
       "metadata": {},
       "output_type": "pyout",
       "prompt_number": 214,
       "text": [
        "[u'acq',\n",
        " u'alum',\n",
        " u'barley',\n",
        " u'bop',\n",
        " u'carcass',\n",
        " u'castor-oil',\n",
        " u'cocoa',\n",
        " u'coconut',\n",
        " u'coconut-oil',\n",
        " u'coffee',\n",
        " u'copper',\n",
        " u'copra-cake',\n",
        " u'corn',\n",
        " u'cotton',\n",
        " u'cotton-oil',\n",
        " u'cpi',\n",
        " u'cpu',\n",
        " u'crude',\n",
        " u'dfl',\n",
        " u'dlr',\n",
        " u'dmk',\n",
        " u'earn',\n",
        " u'fuel',\n",
        " u'gas',\n",
        " u'gnp',\n",
        " u'gold',\n",
        " u'grain',\n",
        " u'groundnut',\n",
        " u'groundnut-oil',\n",
        " u'heat',\n",
        " u'hog',\n",
        " u'housing',\n",
        " u'income',\n",
        " u'instal-debt',\n",
        " u'interest',\n",
        " u'ipi',\n",
        " u'iron-steel',\n",
        " u'jet',\n",
        " u'jobs',\n",
        " u'l-cattle',\n",
        " u'lead',\n",
        " u'lei',\n",
        " u'lin-oil',\n",
        " u'livestock',\n",
        " u'lumber',\n",
        " u'meal-feed',\n",
        " u'money-fx',\n",
        " u'money-supply',\n",
        " u'naphtha',\n",
        " u'nat-gas',\n",
        " u'nickel',\n",
        " u'nkr',\n",
        " u'nzdlr',\n",
        " u'oat',\n",
        " u'oilseed',\n",
        " u'orange',\n",
        " u'palladium',\n",
        " u'palm-oil',\n",
        " u'palmkernel',\n",
        " u'pet-chem',\n",
        " u'platinum',\n",
        " u'potato',\n",
        " u'propane',\n",
        " u'rand',\n",
        " u'rape-oil',\n",
        " u'rapeseed',\n",
        " u'reserves',\n",
        " u'retail',\n",
        " u'rice',\n",
        " u'rubber',\n",
        " u'rye',\n",
        " u'ship',\n",
        " u'silver',\n",
        " u'sorghum',\n",
        " u'soy-meal',\n",
        " u'soy-oil',\n",
        " u'soybean',\n",
        " u'strategic-metal',\n",
        " u'sugar',\n",
        " u'sun-meal',\n",
        " u'sun-oil',\n",
        " u'sunseed',\n",
        " u'tea',\n",
        " u'tin',\n",
        " u'trade',\n",
        " u'veg-oil',\n",
        " u'wheat',\n",
        " u'wpi',\n",
        " u'yen',\n",
        " u'zinc']"
       ]
      }
     ],
     "prompt_number": 214
    },
    {
     "cell_type": "code",
     "collapsed": false,
     "input": [
      "len(reuters.categories())"
     ],
     "language": "python",
     "metadata": {},
     "outputs": [
      {
       "metadata": {},
       "output_type": "pyout",
       "prompt_number": 215,
       "text": [
        "90"
       ]
      }
     ],
     "prompt_number": 215
    },
    {
     "cell_type": "markdown",
     "metadata": {},
     "source": [
      "- Reuters Corpus\uc758 \uce74\ud14c\uace0\ub9ac\ub4e4\uc740 \uac01\uac01\uc744 overlap \ud55c\ub2e4.\n",
      "- \uc65c\ub0d0\ud558\uba74 \ub274\uc2a4 \uc774\uc57c\uae30\ub294 \uc790\uc8fc \ub2e4\uc591\ud55c \uc8fc\uc81c\ub97c \ub36e\ub294\ub2e4.\n"
     ]
    },
    {
     "cell_type": "code",
     "collapsed": false,
     "input": [
      "reuters.categories('training/9865')"
     ],
     "language": "python",
     "metadata": {},
     "outputs": [
      {
       "metadata": {},
       "output_type": "pyout",
       "prompt_number": 216,
       "text": [
        "[u'barley', u'corn', u'grain', u'wheat']"
       ]
      }
     ],
     "prompt_number": 216
    },
    {
     "cell_type": "code",
     "collapsed": false,
     "input": [
      "reuters.categories(['training/9865', 'training/9880'])"
     ],
     "language": "python",
     "metadata": {},
     "outputs": [
      {
       "metadata": {},
       "output_type": "pyout",
       "prompt_number": 217,
       "text": [
        "[u'barley', u'corn', u'grain', u'money-fx', u'wheat']"
       ]
      }
     ],
     "prompt_number": 217
    },
    {
     "cell_type": "code",
     "collapsed": false,
     "input": [
      "reuters.fileids('barley')"
     ],
     "language": "python",
     "metadata": {},
     "outputs": [
      {
       "metadata": {},
       "output_type": "pyout",
       "prompt_number": 218,
       "text": [
        "[u'test/15618',\n",
        " u'test/15649',\n",
        " u'test/15676',\n",
        " u'test/15728',\n",
        " u'test/15871',\n",
        " u'test/15875',\n",
        " u'test/15952',\n",
        " u'test/17767',\n",
        " u'test/17769',\n",
        " u'test/18024',\n",
        " u'test/18263',\n",
        " u'test/18908',\n",
        " u'test/19275',\n",
        " u'test/19668',\n",
        " u'training/10175',\n",
        " u'training/1067',\n",
        " u'training/11208',\n",
        " u'training/11316',\n",
        " u'training/11885',\n",
        " u'training/12428',\n",
        " u'training/13099',\n",
        " u'training/13744',\n",
        " u'training/13795',\n",
        " u'training/13852',\n",
        " u'training/13856',\n",
        " u'training/1652',\n",
        " u'training/1970',\n",
        " u'training/2044',\n",
        " u'training/2171',\n",
        " u'training/2172',\n",
        " u'training/2191',\n",
        " u'training/2217',\n",
        " u'training/2232',\n",
        " u'training/3132',\n",
        " u'training/3324',\n",
        " u'training/395',\n",
        " u'training/4280',\n",
        " u'training/4296',\n",
        " u'training/5',\n",
        " u'training/501',\n",
        " u'training/5467',\n",
        " u'training/5610',\n",
        " u'training/5640',\n",
        " u'training/6626',\n",
        " u'training/7205',\n",
        " u'training/7579',\n",
        " u'training/8213',\n",
        " u'training/8257',\n",
        " u'training/8759',\n",
        " u'training/9865',\n",
        " u'training/9958']"
       ]
      }
     ],
     "prompt_number": 218
    },
    {
     "cell_type": "code",
     "collapsed": false,
     "input": [
      "reuters.fileids(['barley', 'corn'])[::30]"
     ],
     "language": "python",
     "metadata": {},
     "outputs": [
      {
       "metadata": {},
       "output_type": "pyout",
       "prompt_number": 220,
       "text": [
        "[u'test/14832',\n",
        " u'test/16071',\n",
        " u'test/20723',\n",
        " u'training/11739',\n",
        " u'training/13852',\n",
        " u'training/2749',\n",
        " u'training/4296',\n",
        " u'training/6221',\n",
        " u'training/8166']"
       ]
      }
     ],
     "prompt_number": 220
    },
    {
     "cell_type": "markdown",
     "metadata": {},
     "source": [
      "- words\ub098 sentences\ub97c \ud2b9\uc815\ud560 \uc218 \uc788\ub2e4. \uc6b0\ub9ac\ub294 fiels\uc774\ub098 categories\uc5d0\uc11c \uc6d0\ud55c\ub2e4.\n",
      "- \uba3c\uc800 \uac01\uac01\uc758 texts\uc5d0\uc11c \uba87\uac1c \uc548\ub418\ub294 words\uc740 titles\uc774\ub2e4. \ub300\ubb38\uc790\ub85c \uc800\uc7a5\ub41c\ub2e4."
     ]
    },
    {
     "cell_type": "code",
     "collapsed": false,
     "input": [
      "reuters.words('training/9865')[:14]"
     ],
     "language": "python",
     "metadata": {},
     "outputs": [
      {
       "metadata": {},
       "output_type": "pyout",
       "prompt_number": 221,
       "text": [
        "[u'FRENCH',\n",
        " u'FREE',\n",
        " u'MARKET',\n",
        " u'CEREAL',\n",
        " u'EXPORT',\n",
        " u'BIDS',\n",
        " u'DETAILED',\n",
        " u'French',\n",
        " u'operators',\n",
        " u'have',\n",
        " u'requested',\n",
        " u'licences',\n",
        " u'to',\n",
        " u'export']"
       ]
      }
     ],
     "prompt_number": 221
    },
    {
     "cell_type": "code",
     "collapsed": false,
     "input": [
      "len(reuters.words('training/9865'))"
     ],
     "language": "python",
     "metadata": {},
     "outputs": [
      {
       "metadata": {},
       "output_type": "pyout",
       "prompt_number": 222,
       "text": [
        "114"
       ]
      }
     ],
     "prompt_number": 222
    },
    {
     "cell_type": "code",
     "collapsed": false,
     "input": [
      "reuters.words(['training/9865', 'training/9880'])"
     ],
     "language": "python",
     "metadata": {},
     "outputs": [
      {
       "metadata": {},
       "output_type": "pyout",
       "prompt_number": 223,
       "text": [
        "[u'FRENCH', u'FREE', u'MARKET', u'CEREAL', u'EXPORT', ...]"
       ]
      }
     ],
     "prompt_number": 223
    },
    {
     "cell_type": "code",
     "collapsed": false,
     "input": [
      "len(reuters.words(['training/9865', 'training/9880']))"
     ],
     "language": "python",
     "metadata": {},
     "outputs": [
      {
       "metadata": {},
       "output_type": "pyout",
       "prompt_number": 224,
       "text": [
        "173"
       ]
      }
     ],
     "prompt_number": 224
    },
    {
     "cell_type": "code",
     "collapsed": false,
     "input": [
      "reuters.words(categories='barley')"
     ],
     "language": "python",
     "metadata": {},
     "outputs": [
      {
       "metadata": {},
       "output_type": "pyout",
       "prompt_number": 225,
       "text": [
        "[u'FRENCH', u'FREE', u'MARKET', u'CEREAL', u'EXPORT', ...]"
       ]
      }
     ],
     "prompt_number": 225
    },
    {
     "cell_type": "code",
     "collapsed": false,
     "input": [
      "len(reuters.words(categories='barley'))"
     ],
     "language": "python",
     "metadata": {},
     "outputs": [
      {
       "metadata": {},
       "output_type": "pyout",
       "prompt_number": 226,
       "text": [
        "13919"
       ]
      }
     ],
     "prompt_number": 226
    },
    {
     "cell_type": "code",
     "collapsed": false,
     "input": [
      "reuters.words(categories=['barley', 'corn'])"
     ],
     "language": "python",
     "metadata": {},
     "outputs": [
      {
       "metadata": {},
       "output_type": "pyout",
       "prompt_number": 227,
       "text": [
        "[u'THAI', u'TRADE', u'DEFICIT', u'WIDENS', u'IN', ...]"
       ]
      }
     ],
     "prompt_number": 227
    },
    {
     "cell_type": "code",
     "collapsed": false,
     "input": [
      "len(reuters.words(categories=['barley', 'corn']))"
     ],
     "language": "python",
     "metadata": {},
     "outputs": [
      {
       "metadata": {},
       "output_type": "pyout",
       "prompt_number": 228,
       "text": [
        "64419"
       ]
      }
     ],
     "prompt_number": 228
    },
    {
     "cell_type": "markdown",
     "metadata": {},
     "source": [
      "### Inaugural Address Corpus(\ucde8\uc784\uc5f0\uc124 \ub9d0\ubb49\uce58)\n",
      "\n",
      "- word offset"
     ]
    },
    {
     "cell_type": "code",
     "collapsed": false,
     "input": [
      "from nltk.corpus import inaugural"
     ],
     "language": "python",
     "metadata": {},
     "outputs": [],
     "prompt_number": 229
    },
    {
     "cell_type": "code",
     "collapsed": false,
     "input": [
      "inaugural.fileids()"
     ],
     "language": "python",
     "metadata": {},
     "outputs": [
      {
       "metadata": {},
       "output_type": "pyout",
       "prompt_number": 230,
       "text": [
        "[u'1789-Washington.txt',\n",
        " u'1793-Washington.txt',\n",
        " u'1797-Adams.txt',\n",
        " u'1801-Jefferson.txt',\n",
        " u'1805-Jefferson.txt',\n",
        " u'1809-Madison.txt',\n",
        " u'1813-Madison.txt',\n",
        " u'1817-Monroe.txt',\n",
        " u'1821-Monroe.txt',\n",
        " u'1825-Adams.txt',\n",
        " u'1829-Jackson.txt',\n",
        " u'1833-Jackson.txt',\n",
        " u'1837-VanBuren.txt',\n",
        " u'1841-Harrison.txt',\n",
        " u'1845-Polk.txt',\n",
        " u'1849-Taylor.txt',\n",
        " u'1853-Pierce.txt',\n",
        " u'1857-Buchanan.txt',\n",
        " u'1861-Lincoln.txt',\n",
        " u'1865-Lincoln.txt',\n",
        " u'1869-Grant.txt',\n",
        " u'1873-Grant.txt',\n",
        " u'1877-Hayes.txt',\n",
        " u'1881-Garfield.txt',\n",
        " u'1885-Cleveland.txt',\n",
        " u'1889-Harrison.txt',\n",
        " u'1893-Cleveland.txt',\n",
        " u'1897-McKinley.txt',\n",
        " u'1901-McKinley.txt',\n",
        " u'1905-Roosevelt.txt',\n",
        " u'1909-Taft.txt',\n",
        " u'1913-Wilson.txt',\n",
        " u'1917-Wilson.txt',\n",
        " u'1921-Harding.txt',\n",
        " u'1925-Coolidge.txt',\n",
        " u'1929-Hoover.txt',\n",
        " u'1933-Roosevelt.txt',\n",
        " u'1937-Roosevelt.txt',\n",
        " u'1941-Roosevelt.txt',\n",
        " u'1945-Roosevelt.txt',\n",
        " u'1949-Truman.txt',\n",
        " u'1953-Eisenhower.txt',\n",
        " u'1957-Eisenhower.txt',\n",
        " u'1961-Kennedy.txt',\n",
        " u'1965-Johnson.txt',\n",
        " u'1969-Nixon.txt',\n",
        " u'1973-Nixon.txt',\n",
        " u'1977-Carter.txt',\n",
        " u'1981-Reagan.txt',\n",
        " u'1985-Reagan.txt',\n",
        " u'1989-Bush.txt',\n",
        " u'1993-Clinton.txt',\n",
        " u'1997-Clinton.txt',\n",
        " u'2001-Bush.txt',\n",
        " u'2005-Bush.txt',\n",
        " u'2009-Obama.txt']"
       ]
      }
     ],
     "prompt_number": 230
    },
    {
     "cell_type": "code",
     "collapsed": false,
     "input": [
      "[fileid[:4] for fileid in inaugural.fileids()]"
     ],
     "language": "python",
     "metadata": {},
     "outputs": [
      {
       "metadata": {},
       "output_type": "pyout",
       "prompt_number": 231,
       "text": [
        "[u'1789',\n",
        " u'1793',\n",
        " u'1797',\n",
        " u'1801',\n",
        " u'1805',\n",
        " u'1809',\n",
        " u'1813',\n",
        " u'1817',\n",
        " u'1821',\n",
        " u'1825',\n",
        " u'1829',\n",
        " u'1833',\n",
        " u'1837',\n",
        " u'1841',\n",
        " u'1845',\n",
        " u'1849',\n",
        " u'1853',\n",
        " u'1857',\n",
        " u'1861',\n",
        " u'1865',\n",
        " u'1869',\n",
        " u'1873',\n",
        " u'1877',\n",
        " u'1881',\n",
        " u'1885',\n",
        " u'1889',\n",
        " u'1893',\n",
        " u'1897',\n",
        " u'1901',\n",
        " u'1905',\n",
        " u'1909',\n",
        " u'1913',\n",
        " u'1917',\n",
        " u'1921',\n",
        " u'1925',\n",
        " u'1929',\n",
        " u'1933',\n",
        " u'1937',\n",
        " u'1941',\n",
        " u'1945',\n",
        " u'1949',\n",
        " u'1953',\n",
        " u'1957',\n",
        " u'1961',\n",
        " u'1965',\n",
        " u'1969',\n",
        " u'1973',\n",
        " u'1977',\n",
        " u'1981',\n",
        " u'1985',\n",
        " u'1989',\n",
        " u'1993',\n",
        " u'1997',\n",
        " u'2001',\n",
        " u'2005',\n",
        " u'2009']"
       ]
      }
     ],
     "prompt_number": 231
    },
    {
     "cell_type": "code",
     "collapsed": false,
     "input": [
      "# \ub2e4\ub978 \ubc29\ubc95, \uc704\uc758 \ubc29\ubc95\uc774 \ub354 \uc26c\uc6cc\ubcf4\uc784\n",
      "[fileid.split('-')[0] for fileid in inaugural.fileids()]"
     ],
     "language": "python",
     "metadata": {},
     "outputs": [
      {
       "metadata": {},
       "output_type": "pyout",
       "prompt_number": 232,
       "text": [
        "[u'1789',\n",
        " u'1793',\n",
        " u'1797',\n",
        " u'1801',\n",
        " u'1805',\n",
        " u'1809',\n",
        " u'1813',\n",
        " u'1817',\n",
        " u'1821',\n",
        " u'1825',\n",
        " u'1829',\n",
        " u'1833',\n",
        " u'1837',\n",
        " u'1841',\n",
        " u'1845',\n",
        " u'1849',\n",
        " u'1853',\n",
        " u'1857',\n",
        " u'1861',\n",
        " u'1865',\n",
        " u'1869',\n",
        " u'1873',\n",
        " u'1877',\n",
        " u'1881',\n",
        " u'1885',\n",
        " u'1889',\n",
        " u'1893',\n",
        " u'1897',\n",
        " u'1901',\n",
        " u'1905',\n",
        " u'1909',\n",
        " u'1913',\n",
        " u'1917',\n",
        " u'1921',\n",
        " u'1925',\n",
        " u'1929',\n",
        " u'1933',\n",
        " u'1937',\n",
        " u'1941',\n",
        " u'1945',\n",
        " u'1949',\n",
        " u'1953',\n",
        " u'1957',\n",
        " u'1961',\n",
        " u'1965',\n",
        " u'1969',\n",
        " u'1973',\n",
        " u'1977',\n",
        " u'1981',\n",
        " u'1985',\n",
        " u'1989',\n",
        " u'1993',\n",
        " u'1997',\n",
        " u'2001',\n",
        " u'2005',\n",
        " u'2009']"
       ]
      }
     ],
     "prompt_number": 232
    },
    {
     "cell_type": "markdown",
     "metadata": {},
     "source": [
      "> Note: file[:4] -> fileid[:4] \uc624\ud0c0\uc784"
     ]
    },
    {
     "cell_type": "code",
     "collapsed": false,
     "input": [
      "cfd = nltk.ConditionalFreqDist((target, fileid[:4])\n",
      "                               for fileid in inaugural.fileids()\n",
      "                               for w in inaugural.words(fileid)\n",
      "                               for target in ['america', 'citizen']\n",
      "                               if w.lower().startswith(target))\n",
      "len(cfd)"
     ],
     "language": "python",
     "metadata": {},
     "outputs": [
      {
       "metadata": {},
       "output_type": "pyout",
       "prompt_number": 235,
       "text": [
        "2"
       ]
      }
     ],
     "prompt_number": 235
    },
    {
     "cell_type": "markdown",
     "metadata": {},
     "source": [
      "#### Plot of a conditional frequency distribution\n",
      "\n",
      "- All words in the Inaugural Address Corpus that begin with america or citizen are counted;\n",
      "- separate counts are kept for each address;\n",
      "- these are plotted so that trends in usage over time can be observed;\n",
      "- counts are not normalized for document length."
     ]
    },
    {
     "cell_type": "code",
     "collapsed": false,
     "input": [
      "cfd.plot()"
     ],
     "language": "python",
     "metadata": {},
     "outputs": [
      {
       "metadata": {},
       "output_type": "display_data",
       "png": "[encoded data removed]",
       "text": [
        "<matplotlib.figure.Figure at 0x118fa7290>"
       ]
      }
     ],
     "prompt_number": 236
    },
    {
     "cell_type": "markdown",
     "metadata": {},
     "source": [
      "### Annotated Text Corpora\n",
      "\n",
      "- [\ub9d0\ubb49\uce58 \uc8fc\uc11d - \uc704\ud0a4\ubc31\uacfc, \uc6b0\ub9ac \ubaa8\ub450\uc758 \ubc31\uacfc\uc0ac\uc804](http://ko.wikipedia.org/wiki/\ub9d0\ubb49\uce58_\uc8fc\uc11d)\n",
      "- \ub9d0\ubb49\uce58 \uc8fc\uc11d(corpus annotation)\uc740 \ub9d0\ubb49\uce58\uc758 \ud65c\uc6a9\ub3c4\ub97c \uadf9\ub300\ud654\ud558\uae30 \uc704\ud574 \ub9d0\ubb49\uce58\uc758 \ubcf8\ubb38\uc5d0 \ud2b9\ubcc4\ud55c \ud45c\uc2dc\ub97c \ud558\ub294(tagging) \uc791\uc5c5\uc774\ub2e4. \ub2e4\ub974\uac8c \ud45c\ud604\ud558\uba74 \uc6d0\uc2dc \ub9d0\ubb49\uce58\uc5d0 \uc5b8\uc5b4\ud559\uc801 \uc815\ubcf4\ub97c \ubd80\uc5ec\ud558\uc5ec \uc8fc\uc11d \ub9d0\ubb49\uce58\ub85c \ub9cc\ub4dc\ub294 \uc791\uc5c5\uc774\ub77c\uace0\ub3c4 \ud560 \uc218 \uc788\ub2e4.\n",
      "- \ub9ce\uc740 \ud14d\uc2a4\ud2b8 \ub9d0\ubb49\uce58\ub4e4\uc740 \uc5b8\uc5b4\uc801 \uc8fc\uc11d\ub4e4, \ub9d0\ud558\uae30\uc758 \ubd80\ubd84 \ud0dc\uadf8 \ud45c\ud604\ub4e4, \ub3c5\ub9bd\uccb4\ub77c\uace0 \ubd88\ub9ac\uc5b4\uc9c0\ub294 \uac83\ub4e4, \uad6c\ubb38\ub860 \uad6c\uc870, \uc758\ubbf8\ub860 \uc5ed\ud560 \ub4f1\uc744 \ud3ec\ud568\ud55c\ub2e4.\n",
      "- NLTK\ub294 \uc774\uac83\ub4e4\uc758 \ub9d0\ubb49\uce58\uc5d0 \ub2e4\uc591\ud55c \uc811\uadfc \ubc29\ubc95\uc744 \ud3b8\ud558\uac8c \uc81c\uacf5\ud55c\ub2e4.\n",
      "- \ub370\uc774\ud130 \ud328\ud0a4\uc9c0\ub294 \ub9d0\ubb49\uce58\ub97c \ud3ec\ud568\ud558\uace0 \uc788\ub2e4. \uadf8\ub9ac\uace0 \ub9d0\ubb49\uce58 \uc0d8\ud50c\ub4e4, \uae30\uc220\uc801\uc778 \uac83\uacfc \uc5f0\uad6c\uc6a9\uc73c\ub85c \uc0ac\uc6a9\ud558\uae30 \uc704\ud574 \uc790\uc720\ub86d\uac8c \ub2e4\uc6b4\ub85c\ub4dc \uac00\ub2a5\ud558\ub2e4\n",
      "- http://www.nltk.org/data \uc5d0\uc11c \uc790\uc138\ud55c \uac83\ub4e4\uc740 \ubcfc \uc218 \uc788\ub2e4.\n",
      "- \uac1c\ubc1c\uc790\ubd84\ub4e4\uc740 \uc774\ud574\ud558\uae30 \uc27d\uac8c **xml \ud615\uc2dd**\uc774\ub77c\uace0 \uc0dd\uac01\ud558\uc2dc\uba74 \ub429\ub2c8\ub2e4.\n",
      "\n",
      "#### Table 2-2 Some of the corpora and corpus samples distributed with NLTK\n",
      "\n",
      "Corpus | Compiler | Contents\n",
      "--- | --- | ---\n",
      "Brown Corpus | Francis, Kucra | 15 genres, 1.15M words, tagged, categorized\n",
      "CESS Treebanks | CLiC-UB | 1M words, tagged and parsed(Catalan, Spanish)\n",
      "\u22ef | \u22ef | \u22ef"
     ]
    },
    {
     "cell_type": "markdown",
     "metadata": {},
     "source": [
      "### Corpora in Other Languages\n",
      "\n",
      "- NLTK\ub294 \ub9d0\ubb49\uce58\uc640 \ud568\uaed8 \ub9ce\uc740 \uc5b8\uc5b4\ub4e4\uc744 \uc704\ud574 \ub9cc\ub4e4\uc5b4\uc84c\ub2e4?\n",
      "- \ub9ce\uc740 \ucf00\uc774\uc2a4\uc5d0\ub3c4 \ubd88\uad6c\ud558\uace0 \ud30c\uc774\uc36c\uc5d0\uc11c \ubb38\uc790 \uc778\ucf54\ub529 \uc870\uc791\ud558\ub294 \ubc95\uc744 \ubc30\uc6b8 \ud544\uc694\uac00 \uc788\ub2e4. \uadf8\ub9ac\uace0 \uadf8\uac83\ub4e4\uc744 \uc0ac\uc6a9\ud558\uc790"
     ]
    },
    {
     "cell_type": "code",
     "collapsed": false,
     "input": [
      "help(nltk.corpus.cess_esp)"
     ],
     "language": "python",
     "metadata": {},
     "outputs": [
      {
       "output_type": "stream",
       "stream": "stdout",
       "text": [
        "Help on BracketParseCorpusReader in module nltk.corpus.reader.bracket_parse object:\n",
        "\n",
        "class BracketParseCorpusReader(nltk.corpus.reader.api.SyntaxCorpusReader)\n",
        " |  Reader for corpora that consist of parenthesis-delineated parse\n",
        " |  trees.\n",
        " |  \n",
        " |  Method resolution order:\n",
        " |      BracketParseCorpusReader\n",
        " |      nltk.corpus.reader.api.SyntaxCorpusReader\n",
        " |      nltk.corpus.reader.api.CorpusReader\n",
        " |      __builtin__.object\n",
        " |  \n",
        " |  Methods defined here:\n",
        " |  \n",
        " |  __init__(self, root, fileids, comment_char=None, detect_blocks='unindented_paren', encoding='utf8', tagset=None)\n",
        " |      :param root: The root directory for this corpus.\n",
        " |      :param fileids: A list or regexp specifying the fileids in this corpus.\n",
        " |      :param comment_char: The character which can appear at the start of\n",
        " |          a line to indicate that the rest of the line is a comment.\n",
        " |      :param detect_blocks: The method that is used to find blocks\n",
        " |        in the corpus; can be 'unindented_paren' (every unindented\n",
        " |        parenthesis starts a new parse) or 'sexpr' (brackets are\n",
        " |        matched).\n",
        " |      :param tagset: The name of the tagset used by this corpus, to be used\n",
        " |            for normalizing or converting the POS tags returned by the\n",
        " |            tagged_...() methods.\n",
        " |  \n",
        " |  ----------------------------------------------------------------------\n",
        " |  Methods inherited from nltk.corpus.reader.api.SyntaxCorpusReader:\n",
        " |  \n",
        " |  parsed_sents(self, fileids=None)\n",
        " |  \n",
        " |  raw(self, fileids=None)\n",
        " |  \n",
        " |  sents(self, fileids=None)\n",
        " |  \n",
        " |  tagged_sents(self, fileids=None, tagset=None)\n",
        " |  \n",
        " |  tagged_words(self, fileids=None, tagset=None)\n",
        " |  \n",
        " |  words(self, fileids=None)\n",
        " |  \n",
        " |  ----------------------------------------------------------------------\n",
        " |  Methods inherited from nltk.corpus.reader.api.CorpusReader:\n",
        " |  \n",
        " |  __repr__(self)\n",
        " |  \n",
        " |  __str__(self)\n",
        " |      x.__str__() <==> str(x)\n",
        " |  \n",
        " |  __unicode__ = __str__(...)\n",
        " |      x.__str__() <==> str(x)\n",
        " |  \n",
        " |  abspath(self, fileid)\n",
        " |      Return the absolute path for the given file.\n",
        " |      \n",
        " |      :type file: str\n",
        " |      :param file: The file identifier for the file whose path\n",
        " |          should be returned.\n",
        " |      :rtype: PathPointer\n",
        " |  \n",
        " |  abspaths(self, fileids=None, include_encoding=False, include_fileid=False)\n",
        " |      Return a list of the absolute paths for all fileids in this corpus;\n",
        " |      or for the given list of fileids, if specified.\n",
        " |      \n",
        " |      :type fileids: None or str or list\n",
        " |      :param fileids: Specifies the set of fileids for which paths should\n",
        " |          be returned.  Can be None, for all fileids; a list of\n",
        " |          file identifiers, for a specified set of fileids; or a single\n",
        " |          file identifier, for a single file.  Note that the return\n",
        " |          value is always a list of paths, even if ``fileids`` is a\n",
        " |          single file identifier.\n",
        " |      \n",
        " |      :param include_encoding: If true, then return a list of\n",
        " |          ``(path_pointer, encoding)`` tuples.\n",
        " |      \n",
        " |      :rtype: list(PathPointer)\n",
        " |  \n",
        " |  encoding(self, file)\n",
        " |      Return the unicode encoding for the given corpus file, if known.\n",
        " |      If the encoding is unknown, or if the given file should be\n",
        " |      processed using byte strings (str), then return None.\n",
        " |  \n",
        " |  ensure_loaded(self)\n",
        " |      Load this corpus (if it has not already been loaded).  This is\n",
        " |      used by LazyCorpusLoader as a simple method that can be used to\n",
        " |      make sure a corpus is loaded -- e.g., in case a user wants to\n",
        " |      do help(some_corpus).\n",
        " |  \n",
        " |  fileids(self)\n",
        " |      Return a list of file identifiers for the fileids that make up\n",
        " |      this corpus.\n",
        " |  \n",
        " |  open(self, file)\n",
        " |      Return an open stream that can be used to read the given file.\n",
        " |      If the file's encoding is not None, then the stream will\n",
        " |      automatically decode the file's contents into unicode.\n",
        " |      \n",
        " |      :param file: The file identifier of the file to read.\n",
        " |  \n",
        " |  readme(self)\n",
        " |      Return the contents of the corpus README file, if it exists.\n",
        " |  \n",
        " |  unicode_repr = __repr__(self)\n",
        " |  \n",
        " |  ----------------------------------------------------------------------\n",
        " |  Data descriptors inherited from nltk.corpus.reader.api.CorpusReader:\n",
        " |  \n",
        " |  __dict__\n",
        " |      dictionary for instance variables (if defined)\n",
        " |  \n",
        " |  __weakref__\n",
        " |      list of weak references to the object (if defined)\n",
        " |  \n",
        " |  root\n",
        " |      The directory where this corpus is stored.\n",
        " |      \n",
        " |      :type: PathPointer\n",
        "\n"
       ]
      }
     ],
     "prompt_number": 240
    },
    {
     "cell_type": "code",
     "collapsed": false,
     "input": [
      "# \ub2e4\ub978 \ub9d0\ubb49\uce58\ub124\n",
      "nltk.corpus.cess_esp.words()"
     ],
     "language": "python",
     "metadata": {},
     "outputs": [
      {
       "metadata": {},
       "output_type": "pyout",
       "prompt_number": 237,
       "text": [
        "[u'El', u'grupo', u'estatal', ...]"
       ]
      }
     ],
     "prompt_number": 237
    },
    {
     "cell_type": "code",
     "collapsed": false,
     "input": [
      "len(nltk.corpus.cess_esp.words())"
     ],
     "language": "python",
     "metadata": {},
     "outputs": [
      {
       "metadata": {},
       "output_type": "pyout",
       "prompt_number": 238,
       "text": [
        "192685"
       ]
      }
     ],
     "prompt_number": 238
    },
    {
     "cell_type": "code",
     "collapsed": false,
     "input": [
      "# \ub2e4\ub978 \ub9d0\ubb49\uce58\n",
      "nltk.corpus.floresta.words()"
     ],
     "language": "python",
     "metadata": {},
     "outputs": [
      {
       "metadata": {},
       "output_type": "pyout",
       "prompt_number": 245,
       "text": [
        "[u'Um', u'revivalismo', u'refrescante', u'O', ...]"
       ]
      }
     ],
     "prompt_number": 245
    },
    {
     "cell_type": "code",
     "collapsed": false,
     "input": [
      "len(nltk.corpus.floresta.words())"
     ],
     "language": "python",
     "metadata": {},
     "outputs": [
      {
       "metadata": {},
       "output_type": "pyout",
       "prompt_number": 247,
       "text": [
        "211852"
       ]
      }
     ],
     "prompt_number": 247
    },
    {
     "cell_type": "code",
     "collapsed": false,
     "input": [
      "nltk.corpus.indian.words('hindi.pos')"
     ],
     "language": "python",
     "metadata": {},
     "outputs": [
      {
       "metadata": {},
       "output_type": "pyout",
       "prompt_number": 248,
       "text": [
        "[u'\\u092a\\u0942\\u0930\\u094d\\u0923', u'\\u092a\\u094d\\u0930\\u0924\\u093f\\u092c\\u0902\\u0927', ...]"
       ]
      }
     ],
     "prompt_number": 248
    },
    {
     "cell_type": "code",
     "collapsed": false,
     "input": [
      "len(nltk.corpus.indian.words('hindi.pos'))"
     ],
     "language": "python",
     "metadata": {},
     "outputs": [
      {
       "metadata": {},
       "output_type": "pyout",
       "prompt_number": 249,
       "text": [
        "9408"
       ]
      }
     ],
     "prompt_number": 249
    },
    {
     "cell_type": "code",
     "collapsed": false,
     "input": [
      "nltk.corpus.udhr.fileids()[::50]"
     ],
     "language": "python",
     "metadata": {},
     "outputs": [
      {
       "metadata": {},
       "output_type": "pyout",
       "prompt_number": 251,
       "text": [
        "[u'Abkhaz-Cyrillic+Abkh',\n",
        " u'Chamorro-Latin1',\n",
        " u'HaitianCreole_Popular-Latin1',\n",
        " u'Kurdish-UTF8',\n",
        " u'Nzema-UTF8',\n",
        " u'Sinhala-UTF8',\n",
        " u'Wolof-Latin1']"
       ]
      }
     ],
     "prompt_number": 251
    },
    {
     "cell_type": "code",
     "collapsed": false,
     "input": [
      "nltk.corpus.udhr.words('Javanese-Latin1')[11:]"
     ],
     "language": "python",
     "metadata": {},
     "outputs": [
      {
       "metadata": {},
       "output_type": "pyout",
       "prompt_number": 252,
       "text": [
        "[u'Saben', u'umat', u'manungsa', u'lair', u'kanthi', ...]"
       ]
      }
     ],
     "prompt_number": 252
    },
    {
     "cell_type": "markdown",
     "metadata": {},
     "source": [
      "- udhr: Universal Declaration of Human Rights, 300\uac1c\uc758 \uc5b8\uc5b4\n",
      "- fileids: \uc774 \ub9d0\ubb49\uce58\ub97c \uc704\ud574 \ud30c\uc77c\uc5d0\uc11c \ubb38\uc790 \uc778\ucf54\ub529\uc774 \uc0ac\uc6a9\ub41c \uc815\ubcf4\ub97c \ud3ec\ud568\ud558\uace0 \uc788\ub2e4. UTF8 \uc774\ub098 Latin1 \uac19\uc740 \uac83\ub4e4\n",
      "- \uc870\uac74 \ube48\ub3c4 \ubd84\ud3ec\ub97c \uc120\ud0dd\ud55c \uc5b8\uc5b4\ub4e4\uc5d0\uc11c udhr \ub9d0\ubb49\uce58\uc5d0\uc11c \ub2e8\uc5b4\ub4e4\uc758 \uae38\uc774\uc5d0\uc11c \ub2e4\ub978\uc810\ub4e4\uc744 \uc870\uc0ac\ud558\uae30 \uc704\ud574 \ud3ec\ud568\ud558\uace0 \uc788\ub2e4."
     ]
    },
    {
     "cell_type": "code",
     "collapsed": false,
     "input": [
      "from nltk.corpus import udhr"
     ],
     "language": "python",
     "metadata": {},
     "outputs": [],
     "prompt_number": 253
    },
    {
     "cell_type": "code",
     "collapsed": false,
     "input": [
      "languages = ['Chickasaw', 'English', 'German_Deutsch',\n",
      "             'Greenlandic_Inuktikut', 'Hungarian_Magyar', 'Ibibio_Efik']"
     ],
     "language": "python",
     "metadata": {},
     "outputs": [],
     "prompt_number": 254
    },
    {
     "cell_type": "code",
     "collapsed": false,
     "input": [
      "# English\ub77c\ub294 \uc5b8\uc5b4\uc5d0\uc11c\n",
      "# udhr\uc774\ub77c\ub294 \uae30\uad00\uc5d0\uc11c \ub9cc\ub4e0 \uc5b8\uc5b4\ub97c \uac00\uc9c0\uace0\n",
      "# English, word\uae38\uc774\ub85c \ud45c\ud604\ud574 \uc900\ub2e4.\n",
      "# \uadf8\uac78 word\uae38\uc774\uc5d0 \ub530\ub77c \ub204\uc801\ud558\uc5ec \ubcf4\uc5ec\uc900\ub2e4.\n",
      "cfd = nltk.ConditionalFreqDist((lang, len(word))\n",
      "                               for lang in languages\n",
      "                               for word in udhr.words(lang + '-Latin1'))\n",
      "len(cfd)"
     ],
     "language": "python",
     "metadata": {},
     "outputs": [
      {
       "metadata": {},
       "output_type": "pyout",
       "prompt_number": 255,
       "text": [
        "6"
       ]
      }
     ],
     "prompt_number": 255
    },
    {
     "cell_type": "markdown",
     "metadata": {},
     "source": [
      "#### Figure 2-2. Cumulative word length distribution\n",
      "\n",
      "- Six translations of the Universal Declaration of Human Rights are processed\n",
      "- this graph shows that words having five or fewer letters account for about 80% of Ibibio text, 60% of German text, and 25% of Inuktitut text."
     ]
    },
    {
     "cell_type": "code",
     "collapsed": false,
     "input": [
      "# \uc870\uac74 \ube48\ub3c4 \ubd84\ud3ec?\n",
      "cfd.plot(cumulative=True)"
     ],
     "language": "python",
     "metadata": {},
     "outputs": [
      {
       "metadata": {},
       "output_type": "display_data",
       "png": "[encoded data removed]",
       "text": [
        "<matplotlib.figure.Figure at 0x11973e6d0>"
       ]
      }
     ],
     "prompt_number": 256
    },
    {
     "cell_type": "code",
     "collapsed": false,
     "input": [
      "cfd.plot(cumulative=False)"
     ],
     "language": "python",
     "metadata": {},
     "outputs": [
      {
       "metadata": {},
       "output_type": "display_data",
       "png": "[encoded data removed]",
       "text": [
        "<matplotlib.figure.Figure at 0x1190a34d0>"
       ]
      }
     ],
     "prompt_number": 257
    },
    {
     "cell_type": "markdown",
     "metadata": {},
     "source": [
      "#### Your Turn\n",
      "\n",
      "- Pick a language of interest in udhr.fileids() and define a variable raw_text = udhr.raw(Language-Latin1)"
     ]
    },
    {
     "cell_type": "code",
     "collapsed": false,
     "input": [
      "raw_text = udhr.raw(['Chickasaw-Latin1', 'English-Latin1'])\n",
      "nltk.FreqDist(raw_text).plot()"
     ],
     "language": "python",
     "metadata": {},
     "outputs": [
      {
       "metadata": {},
       "output_type": "display_data",
       "png": "[encoded data removed]",
       "text": [
        "<matplotlib.figure.Figure at 0x11a14bad0>"
       ]
      }
     ],
     "prompt_number": 276
    },
    {
     "cell_type": "code",
     "collapsed": false,
     "input": [
      "# nltk.FreqDist(raw_text).plot(cumulative=True)"
     ],
     "language": "python",
     "metadata": {},
     "outputs": [],
     "prompt_number": 281
    },
    {
     "cell_type": "code",
     "collapsed": false,
     "input": [
      "raw_text = udhr.raw(['Chickasaw-Latin1', 'English-Latin1', \n",
      "                     'German_Deutsch-Latin1'])\n",
      "nltk.FreqDist(raw_text).plot()"
     ],
     "language": "python",
     "metadata": {},
     "outputs": [
      {
       "metadata": {},
       "output_type": "display_data",
       "png": "[encoded data removed]",
       "text": [
        "<matplotlib.figure.Figure at 0x11a3d82d0>"
       ]
      }
     ],
     "prompt_number": 278
    },
    {
     "cell_type": "code",
     "collapsed": false,
     "input": [
      "# nltk.FreqDist(raw_text).plot(cumulative=True)"
     ],
     "language": "python",
     "metadata": {},
     "outputs": [],
     "prompt_number": 280
    },
    {
     "cell_type": "markdown",
     "metadata": {},
     "source": [
      "- \ubd88\ud589\ud558\uac8c\ub3c4 \ub9ce\uc740 \uc5b8\uc5b4\ub4e4\uc744 \uc704\ud574 \uc2e4\uc81c\uc801\uc778 \ub9d0\ubb49\uce58\ub4e4\uc774 \uc544\uc9c1\uae4c\uc9c0\ub294 \uc0ac\uc6a9\ud560 \uc218 \uc5c6\ub2e4.\n",
      "- \ubd88\ucda9\ubd84\ud55c \uc815\ubd80\ub098 \uc5b8\uc5b4 \uc790\uc6d0\ub4e4\uc744 \uc704\ud574 \uac1c\ubc1c\ud558\ub294 \uc0b0\uc5c5\uc801\uc778 \uc0b0\uc5c5\uc801\uc778 \uc9c0\uc6d0\uc774 \ubd80\uc871\ud558\ub2e4.\n",
      "- \uba87 \uc5b8\uc5b4\ub4e4\uc778 \ud655\uc2e4\ud55c \uc791\uc131 \uc2dc\uc2a4\ud15c\uc774 \uc5c6\ub2e4.\n",
      "- \uc5b4\ub5bb\uac8c \uc5b8\uc5b4\uc801 \uc790\uc6d0\ub4e4\uc744 \uad00\ub9ac\ud560\uc9c0 2.7 Section\uc744 \ubd10\ub77c"
     ]
    },
    {
     "cell_type": "markdown",
     "metadata": {},
     "source": [
      "### Text Corpus Structure\n",
      "\n",
      "- \ub2e4\uc591\ud55c \ub9d0\ubb49\uce58 \uad6c\uc870\ub97c \ubcf4\uc558\ub2e4. \uadf8\uac83\ub4e4\uc744 \uc694\uc57d\ud558\uba74 Figure 2-3 \uc774 \ub41c\ub2e4.\n",
      "\n",
      "![Common_structures_for_text_corpora](images/Common_structures_for_text_corpora.png)"
     ]
    },
    {
     "cell_type": "code",
     "collapsed": false,
     "input": [
      "# help(nltk.corpus.reader)"
     ],
     "language": "python",
     "metadata": {},
     "outputs": [],
     "prompt_number": 283
    },
    {
     "cell_type": "markdown",
     "metadata": {},
     "source": [
      "#### Table 2-3. Basic corpus functionality defined in NLTK\n",
      "\n",
      "Example | Description\n",
      "--- | ---\n",
      "fileids() | The files of the corpus\n",
      "fileids([categories]) | The files of the corpus corresponding to these categories\n",
      "categories() | The categories of the corpus\n",
      "categories([fileids]) | The categories of the corpus corresponding to these files\n",
      "raw() | The raw content of the corpus\n",
      "raw(fileids=[f1, f2, f3]) | The raw content of the specified files\n",
      "raw(categories=[c1, c2]) | The raw content of the specified categoreis\n",
      "words() | The words of the whole corpus\n",
      "words(fileids=[f1, f2, f3]) | The words of the specified fileids\n",
      "words(categories=[c1, c2]) | The words of the specified categoreis\n",
      "sents() | The sentences fo the specified categories\n",
      "sents(fileids=[f1, f2, f3]) | The sentences of the specified fileids\n",
      "sents(categories=[c1, c2]) | The sentences of the specified categories\n",
      "abspath(fileid) | The location of the given file on disk\n",
      "encoding(fileid) | The encoding of the file(if known)\n",
      "open(fileid) | Open a stream for reading the given corpus file\n",
      "root() | The path to the root of locally installed corpus\n",
      "readme() | The contents of the README file of the corpus"
     ]
    },
    {
     "cell_type": "code",
     "collapsed": false,
     "input": [
      "raw = gutenberg.raw('burgess-busterbrown.txt')"
     ],
     "language": "python",
     "metadata": {},
     "outputs": [],
     "prompt_number": 284
    },
    {
     "cell_type": "code",
     "collapsed": false,
     "input": [
      "raw[1:20]"
     ],
     "language": "python",
     "metadata": {},
     "outputs": [
      {
       "metadata": {},
       "output_type": "pyout",
       "prompt_number": 285,
       "text": [
        "u'The Adventures of B'"
       ]
      }
     ],
     "prompt_number": 285
    },
    {
     "cell_type": "code",
     "collapsed": false,
     "input": [
      "len(raw)"
     ],
     "language": "python",
     "metadata": {},
     "outputs": [
      {
       "metadata": {},
       "output_type": "pyout",
       "prompt_number": 287,
       "text": [
        "84663"
       ]
      }
     ],
     "prompt_number": 287
    },
    {
     "cell_type": "code",
     "collapsed": false,
     "input": [
      "words = gutenberg.words('burgess-busterbrown.txt')\n",
      "words[1:20]"
     ],
     "language": "python",
     "metadata": {},
     "outputs": [
      {
       "metadata": {},
       "output_type": "pyout",
       "prompt_number": 288,
       "text": [
        "[u'The',\n",
        " u'Adventures',\n",
        " u'of',\n",
        " u'Buster',\n",
        " u'Bear',\n",
        " u'by',\n",
        " u'Thornton',\n",
        " u'W',\n",
        " u'.',\n",
        " u'Burgess',\n",
        " u'1920',\n",
        " u']',\n",
        " u'I',\n",
        " u'BUSTER',\n",
        " u'BEAR',\n",
        " u'GOES',\n",
        " u'FISHING',\n",
        " u'Buster',\n",
        " u'Bear']"
       ]
      }
     ],
     "prompt_number": 288
    },
    {
     "cell_type": "code",
     "collapsed": false,
     "input": [
      "' '.join(words[1:20])"
     ],
     "language": "python",
     "metadata": {},
     "outputs": [
      {
       "metadata": {},
       "output_type": "pyout",
       "prompt_number": 289,
       "text": [
        "u'The Adventures of Buster Bear by Thornton W . Burgess 1920 ] I BUSTER BEAR GOES FISHING Buster Bear'"
       ]
      }
     ],
     "prompt_number": 289
    },
    {
     "cell_type": "code",
     "collapsed": false,
     "input": [
      "sents = gutenberg.sents('burgess-busterbrown.txt')\n",
      "sents[1:5]"
     ],
     "language": "python",
     "metadata": {},
     "outputs": [
      {
       "metadata": {},
       "output_type": "pyout",
       "prompt_number": 294,
       "text": [
        "[[u'I'],\n",
        " [u'BUSTER', u'BEAR', u'GOES', u'FISHING'],\n",
        " [u'Buster',\n",
        "  u'Bear',\n",
        "  u'yawned',\n",
        "  u'as',\n",
        "  u'he',\n",
        "  u'lay',\n",
        "  u'on',\n",
        "  u'his',\n",
        "  u'comfortable',\n",
        "  u'bed',\n",
        "  u'of',\n",
        "  u'leaves',\n",
        "  u'and',\n",
        "  u'watched',\n",
        "  u'the',\n",
        "  u'first',\n",
        "  u'early',\n",
        "  u'morning',\n",
        "  u'sunbeams',\n",
        "  u'creeping',\n",
        "  u'through',\n",
        "  u'the',\n",
        "  u'Green',\n",
        "  u'Forest',\n",
        "  u'to',\n",
        "  u'chase',\n",
        "  u'out',\n",
        "  u'the',\n",
        "  u'Black',\n",
        "  u'Shadows',\n",
        "  u'.'],\n",
        " [u'Once',\n",
        "  u'more',\n",
        "  u'he',\n",
        "  u'yawned',\n",
        "  u',',\n",
        "  u'and',\n",
        "  u'slowly',\n",
        "  u'got',\n",
        "  u'to',\n",
        "  u'his',\n",
        "  u'feet',\n",
        "  u'and',\n",
        "  u'shook',\n",
        "  u'himself',\n",
        "  u'.']]"
       ]
      }
     ],
     "prompt_number": 294
    },
    {
     "cell_type": "markdown",
     "metadata": {},
     "source": [
      "### Loading Your Own Corpus\n",
      "\n",
      "- \ub9cc\uc57d \ub108\ub9cc\uc758 \ud14d\uc2a4\ud2b8 \ud30c\uc77c \ubaa8\uc74c\uc774 \uc788\ub2e4\uba74 \uc774\ubbf8 \ub17c\uc758\ub41c \uba54\uc18c\ub4dc\ub85c \uc811\uadfc\ud560 \uc218 \uc788\ub2e4. \uadf8\uac83\ub4e4\uc744 \uc27d\uac8c \ub85c\ub4dc\ud560 \uc218 \uc788\uace0 NLTK's PlaintextCorpusReader\uac00 \ub3c4\uc640\uc904 \uac83\uc774\ub2e4.\n",
      "- "
     ]
    },
    {
     "cell_type": "code",
     "collapsed": false,
     "input": [
      "from nltk.corpus import PlaintextCorpusReader"
     ],
     "language": "python",
     "metadata": {},
     "outputs": [],
     "prompt_number": 295
    },
    {
     "cell_type": "code",
     "collapsed": false,
     "input": [
      "corpus_root = '/usr/share/dict'"
     ],
     "language": "python",
     "metadata": {},
     "outputs": [],
     "prompt_number": 296
    },
    {
     "cell_type": "code",
     "collapsed": false,
     "input": [
      "wordlists = PlaintextCorpusReader(corpus_root, '.*')"
     ],
     "language": "python",
     "metadata": {},
     "outputs": [],
     "prompt_number": 297
    },
    {
     "cell_type": "code",
     "collapsed": false,
     "input": [
      "wordlists.fileids()"
     ],
     "language": "python",
     "metadata": {},
     "outputs": [
      {
       "metadata": {},
       "output_type": "pyout",
       "prompt_number": 298,
       "text": [
        "['README', 'connectives', 'propernames', 'web2', 'web2a', 'words']"
       ]
      }
     ],
     "prompt_number": 298
    },
    {
     "cell_type": "code",
     "collapsed": false,
     "input": [
      "!ls /usr/share/dict"
     ],
     "language": "python",
     "metadata": {},
     "outputs": [
      {
       "output_type": "stream",
       "stream": "stdout",
       "text": [
        "README      connectives propernames web2        web2a       \u001b[35mwords\u001b[m\u001b[m\r\n"
       ]
      }
     ],
     "prompt_number": 300
    },
    {
     "cell_type": "code",
     "collapsed": false,
     "input": [
      "ws = wordlists.words('connectives')\n",
      "ws"
     ],
     "language": "python",
     "metadata": {},
     "outputs": [
      {
       "metadata": {},
       "output_type": "pyout",
       "prompt_number": 304,
       "text": [
        "[u'the', u'of', u'and', u'to', u'a', u'in', u'that', ...]"
       ]
      }
     ],
     "prompt_number": 304
    },
    {
     "cell_type": "code",
     "collapsed": false,
     "input": [
      "type(ws)"
     ],
     "language": "python",
     "metadata": {},
     "outputs": [
      {
       "metadata": {},
       "output_type": "pyout",
       "prompt_number": 305,
       "text": [
        "nltk.corpus.reader.util.StreamBackedCorpusView"
       ]
      }
     ],
     "prompt_number": 305
    },
    {
     "cell_type": "code",
     "collapsed": false,
     "input": [
      "len(wordlists.words('connectives'))"
     ],
     "language": "python",
     "metadata": {},
     "outputs": [
      {
       "metadata": {},
       "output_type": "pyout",
       "prompt_number": 302,
       "text": [
        "150"
       ]
      }
     ],
     "prompt_number": 302
    },
    {
     "cell_type": "markdown",
     "metadata": {},
     "source": [
      "#### Another example. copy of Penn Treebank"
     ]
    },
    {
     "cell_type": "code",
     "collapsed": false,
     "input": [
      "from nltk.corpus import BracketParseCorpusReader"
     ],
     "language": "python",
     "metadata": {},
     "outputs": [],
     "prompt_number": 306
    },
    {
     "cell_type": "code",
     "collapsed": false,
     "input": [
      "corpus_root = '/Users/re4lfl0w/nltk_data/corpora/treebank/parsed/'"
     ],
     "language": "python",
     "metadata": {},
     "outputs": [],
     "prompt_number": 309
    },
    {
     "cell_type": "code",
     "collapsed": false,
     "input": [
      "file_pattern = r'.*00[0-1][0-9]\\.prd'"
     ],
     "language": "python",
     "metadata": {},
     "outputs": [],
     "prompt_number": 319
    },
    {
     "cell_type": "code",
     "collapsed": false,
     "input": [
      "ptb = BracketParseCorpusReader(corpus_root, file_pattern)"
     ],
     "language": "python",
     "metadata": {},
     "outputs": [],
     "prompt_number": 320
    },
    {
     "cell_type": "code",
     "collapsed": false,
     "input": [
      "ptb.fileids()"
     ],
     "language": "python",
     "metadata": {},
     "outputs": [
      {
       "metadata": {},
       "output_type": "pyout",
       "prompt_number": 321,
       "text": [
        "['wsj_0001.prd',\n",
        " 'wsj_0002.prd',\n",
        " 'wsj_0003.prd',\n",
        " 'wsj_0004.prd',\n",
        " 'wsj_0005.prd',\n",
        " 'wsj_0006.prd',\n",
        " 'wsj_0007.prd',\n",
        " 'wsj_0008.prd',\n",
        " 'wsj_0009.prd',\n",
        " 'wsj_0010.prd',\n",
        " 'wsj_0011.prd',\n",
        " 'wsj_0012.prd',\n",
        " 'wsj_0013.prd',\n",
        " 'wsj_0014.prd',\n",
        " 'wsj_0015.prd',\n",
        " 'wsj_0016.prd',\n",
        " 'wsj_0017.prd',\n",
        " 'wsj_0018.prd',\n",
        " 'wsj_0019.prd']"
       ]
      }
     ],
     "prompt_number": 321
    },
    {
     "cell_type": "code",
     "collapsed": false,
     "input": [
      "len(ptb.sents())"
     ],
     "language": "python",
     "metadata": {},
     "outputs": [
      {
       "metadata": {},
       "output_type": "pyout",
       "prompt_number": 322,
       "text": [
        "211"
       ]
      }
     ],
     "prompt_number": 322
    },
    {
     "cell_type": "code",
     "collapsed": false,
     "input": [
      "ptb.sents(fileids='wsj_0005.prd')[1]"
     ],
     "language": "python",
     "metadata": {},
     "outputs": [
      {
       "metadata": {},
       "output_type": "pyout",
       "prompt_number": 328,
       "text": [
        "[u'He', u'formerly', u'who', u'*T*-11', u'resigned']"
       ]
      }
     ],
     "prompt_number": 328
    },
    {
     "cell_type": "markdown",
     "metadata": {},
     "source": [
      "## 2.2 Conditional Frequency Distributions\n",
      "\n",
      "- Section 1.3\uc5d0\uc11c \ube48\ub3c4 \ubd84\ud3ec\ub97c \uc18c\uac1c\ud55c\ub2e4\n",
      "- mylist\uc758 \ub2e8\uc5b4\ub4e4\uc774\ub098 \ub2e4\ub978 \uc544\uc774\ud15c\ub4e4\uc744 \ubd24\ub2e4. FreqDist(mylist)\uac00 \ub9ac\uc2a4\ud2b8\uc5d0 \uc788\ub294 \uac01 \uc544\uc774\ud15c\ub9c8\ub2e4 \ubc1c\uc0dd\ube48\ub3c4\ub97c \uacc4\uc0b0\ud588\ub2e4. \uc5ec\uae30\uc5d0 \uc544\uc774\ub514\uc5b4\ub97c \uc77c\ubc18\ud654\ud560 \uac83\uc774\ub2e4.\n",
      "- \ud14d\uc2a4\ud2b8 \ub9d0\ubb49\uce58\uac00 \ub2e4\uc591\ud55c \uce74\ud14c\uace0\ub9ac\ub85c \ub098\ub258\uc5b4\uc9c4\ub2e4.(\uc7a5\ub974, \ud1a0\ud53d, \uc791\uac00, \ub4f1)\n",
      "- \uac01 \uce74\ud14c\uace0\ub9ac\ub97c \uc704\ud574 \ub098\ub258\uc5b4\uc9c4 \ube48\ub3c4 \ubd84\ud3ec\ub97c \uc720\uc9c0\ud560 \uc218 \uc788\ub2e4.\n",
      "- conditional frequency distribution: \ube48\ub3c4 \ubd84\ud3ec\uc758 \ubaa8\uc74c. \uac01\uac01\uc740 \ub2e4\ub978 \uc870\uac74\ub4e4\uc5d0 \uc758\ud574.\n",
      "\n",
      "#### Counting_words_appearing_in_a_text_collection\n",
      "\n",
      "![Counting_words_appearing_in_a_text_collection](images/Counting_words_appearing_in_a_text_collection.png)"
     ]
    },
    {
     "cell_type": "markdown",
     "metadata": {},
     "source": [
      "### Conditions and Events\n",
      "\n",
      "- \ube48\ub3c4 \ubd84\ud3ec\ub294 \uad00\ucc30\ub41c \uc774\ubca4\ud2b8\ub97c \uc13c\ub2e4."
     ]
    },
    {
     "cell_type": "code",
     "collapsed": false,
     "input": [
      "text = ['The', 'Fulton', 'Country', 'Grand', 'Jury', 'said']"
     ],
     "language": "python",
     "metadata": {},
     "outputs": [],
     "prompt_number": 329
    },
    {
     "cell_type": "code",
     "collapsed": false,
     "input": [
      "# (condition, event)\n",
      "pairs = [('news', 'The'), ('news', 'Fulton'), ('news', 'Country')]"
     ],
     "language": "python",
     "metadata": {},
     "outputs": [],
     "prompt_number": 330
    },
    {
     "cell_type": "markdown",
     "metadata": {},
     "source": [
      "- Brown Corpus by genre: 15 conditions, 1,161, 192 events(one per word)"
     ]
    },
    {
     "cell_type": "markdown",
     "metadata": {},
     "source": [
      "### Counting Words by Genre\n",
      "\n",
      "- FreqDist(): \uac04\ub2e8\ud55c \ub9ac\uc2a4\ud2b8\ub97c input\uc73c\ub85c \ubc1b\uc74c\n",
      "- ConditionalFreqDist(): list \uc30d\uc744 \ubc1b\uc74c"
     ]
    },
    {
     "cell_type": "code",
     "collapsed": false,
     "input": [
      "from nltk.corpus import brown"
     ],
     "language": "python",
     "metadata": {},
     "outputs": [],
     "prompt_number": 331
    },
    {
     "cell_type": "code",
     "collapsed": false,
     "input": [
      "cfd = nltk.ConditionalFreqDist((genre, word)\n",
      "                               for genre in brown.categories()\n",
      "                               for word in brown.words(categories=genre))"
     ],
     "language": "python",
     "metadata": {},
     "outputs": [],
     "prompt_number": 332
    },
    {
     "cell_type": "code",
     "collapsed": false,
     "input": [
      "cfd.conditions()"
     ],
     "language": "python",
     "metadata": {},
     "outputs": [
      {
       "metadata": {},
       "output_type": "pyout",
       "prompt_number": 340,
       "text": [
        "[u'mystery',\n",
        " u'belles_lettres',\n",
        " u'humor',\n",
        " u'government',\n",
        " u'fiction',\n",
        " u'reviews',\n",
        " u'religion',\n",
        " u'romance',\n",
        " u'science_fiction',\n",
        " u'adventure',\n",
        " u'editorial',\n",
        " u'hobbies',\n",
        " u'lore',\n",
        " u'news',\n",
        " u'learned']"
       ]
      }
     ],
     "prompt_number": 340
    },
    {
     "cell_type": "code",
     "collapsed": false,
     "input": [
      "# cfd.plot()"
     ],
     "language": "python",
     "metadata": {},
     "outputs": [],
     "prompt_number": 342
    },
    {
     "cell_type": "code",
     "collapsed": false,
     "input": [
      "genre_word = [(genre, word)\n",
      "              for genre in ['news', 'romance']\n",
      "              for word in brown.words(categories=genre)]\n",
      "len(genre_word)"
     ],
     "language": "python",
     "metadata": {},
     "outputs": [
      {
       "metadata": {},
       "output_type": "pyout",
       "prompt_number": 336,
       "text": [
        "170576"
       ]
      }
     ],
     "prompt_number": 336
    },
    {
     "cell_type": "code",
     "collapsed": false,
     "input": [
      "genre_word[:4]"
     ],
     "language": "python",
     "metadata": {},
     "outputs": [
      {
       "metadata": {},
       "output_type": "pyout",
       "prompt_number": 338,
       "text": [
        "[('news', u'The'),\n",
        " ('news', u'Fulton'),\n",
        " ('news', u'County'),\n",
        " ('news', u'Grand')]"
       ]
      }
     ],
     "prompt_number": 338
    },
    {
     "cell_type": "code",
     "collapsed": false,
     "input": [
      "genre_word[-4:]"
     ],
     "language": "python",
     "metadata": {},
     "outputs": [
      {
       "metadata": {},
       "output_type": "pyout",
       "prompt_number": 339,
       "text": [
        "[('romance', u'afraid'),\n",
        " ('romance', u'not'),\n",
        " ('romance', u\"''\"),\n",
        " ('romance', u'.')]"
       ]
      }
     ],
     "prompt_number": 339
    },
    {
     "cell_type": "code",
     "collapsed": false,
     "input": [
      "cfd = nltk.ConditionalFreqDist(genre_word)\n",
      "cfd"
     ],
     "language": "python",
     "metadata": {},
     "outputs": [
      {
       "metadata": {},
       "output_type": "pyout",
       "prompt_number": 343,
       "text": [
        "<ConditionalFreqDist with 2 conditions>"
       ]
      }
     ],
     "prompt_number": 343
    },
    {
     "cell_type": "code",
     "collapsed": false,
     "input": [
      "cfd.conditions()"
     ],
     "language": "python",
     "metadata": {},
     "outputs": [
      {
       "metadata": {},
       "output_type": "pyout",
       "prompt_number": 344,
       "text": [
        "['romance', 'news']"
       ]
      }
     ],
     "prompt_number": 344
    },
    {
     "cell_type": "code",
     "collapsed": false,
     "input": [
      "cfd['news']"
     ],
     "language": "python",
     "metadata": {},
     "outputs": [
      {
       "metadata": {},
       "output_type": "pyout",
       "prompt_number": 345,
       "text": [
        "FreqDist({u'the': 5580, u',': 5188, u'.': 4030, u'of': 2849, u'and': 2146, u'to': 2116, u'a': 1993, u'in': 1893, u'for': 943, u'The': 806, ...})"
       ]
      }
     ],
     "prompt_number": 345
    },
    {
     "cell_type": "code",
     "collapsed": false,
     "input": [
      "cfd['romance']"
     ],
     "language": "python",
     "metadata": {},
     "outputs": [
      {
       "metadata": {},
       "output_type": "pyout",
       "prompt_number": 346,
       "text": [
        "FreqDist({u',': 3899, u'.': 3736, u'the': 2758, u'and': 1776, u'to': 1502, u'a': 1335, u'of': 1186, u'``': 1045, u\"''\": 1044, u'was': 993, ...})"
       ]
      }
     ],
     "prompt_number": 346
    },
    {
     "cell_type": "code",
     "collapsed": false,
     "input": [
      "# list(cfd['romance'])"
     ],
     "language": "python",
     "metadata": {},
     "outputs": [],
     "prompt_number": 348
    },
    {
     "cell_type": "code",
     "collapsed": false,
     "input": [
      "cfd['romance']['could']"
     ],
     "language": "python",
     "metadata": {},
     "outputs": [
      {
       "metadata": {},
       "output_type": "pyout",
       "prompt_number": 349,
       "text": [
        "193"
       ]
      }
     ],
     "prompt_number": 349
    },
    {
     "cell_type": "code",
     "collapsed": false,
     "input": [
      "cfd.plot()"
     ],
     "language": "python",
     "metadata": {},
     "outputs": [
      {
       "metadata": {},
       "output_type": "display_data",
       "png": "[encoded data removed]",
       "text": [
        "<matplotlib.figure.Figure at 0x12b77bf50>"
       ]
      }
     ],
     "prompt_number": 350
    },
    {
     "cell_type": "markdown",
     "metadata": {},
     "source": [
      "### Plotting and Tabulating Distributions\n",
      "\n",
      "- 2\uac1c\ub098 \uadf8\ubcf4\ub2e4 \ub9ce\uc740 \ube48\ub3c4 \ubd84\ud3ec\ub97c \uc870\ud569\ud560 \ub54c \ubd80\ubd84\n",
      "- \uc27d\uac8c \ucd08\uae30\ud654 \ud560 \uc218 \uc788\uace0 CondtionalFreqDist\uac00 \ud45c \uadf8\ub9ac\uae30\uc640 \uadf8\ub798\ud504 \uadf8\ub9ac\uae30\ub97c \ud560 \ub54c \uba87 \uac00\uc9c0 \uc720\uc6a9\ud55c \uba54\uc18c\ub4dc\ub97c \uc81c\uacf5\ud55c\ub2e4."
     ]
    },
    {
     "cell_type": "code",
     "collapsed": false,
     "input": [
      "from nltk.corpus import inaugural"
     ],
     "language": "python",
     "metadata": {},
     "outputs": [],
     "prompt_number": 351
    },
    {
     "cell_type": "code",
     "collapsed": false,
     "input": [
      "cfd = nltk.ConditionalFreqDist((target, fileid[:4])\n",
      "                               for fileid in inaugural.fileids()\n",
      "                               for w in inaugural.words(fileid)\n",
      "                               for target in ['america', 'citizen']\n",
      "                               if w.lower().startswith(target))\n",
      "\n",
      "cfd.plot()"
     ],
     "language": "python",
     "metadata": {},
     "outputs": [
      {
       "metadata": {},
       "output_type": "display_data",
       "png": "[encoded data removed]",
       "text": [
        "<matplotlib.figure.Figure at 0x12b739a90>"
       ]
      }
     ],
     "prompt_number": 355
    },
    {
     "cell_type": "code",
     "collapsed": false,
     "input": [
      "from nltk.corpus import udhr"
     ],
     "language": "python",
     "metadata": {},
     "outputs": [],
     "prompt_number": 356
    },
    {
     "cell_type": "code",
     "collapsed": false,
     "input": [
      "languages = ['Chickasaw', 'English', 'German_Deutsch',\n",
      "             'Greenlandic_Inuktikut', 'Hungarian_Magyar', 'Ibibio_Efik']"
     ],
     "language": "python",
     "metadata": {},
     "outputs": [],
     "prompt_number": 357
    },
    {
     "cell_type": "code",
     "collapsed": false,
     "input": [
      "cfd = nltk.ConditionalFreqDist((lang, len(word))\n",
      "                               for lang in languages\n",
      "                               for word in udhr.words(lang + '-Latin1'))\n",
      "cfd.plot()"
     ],
     "language": "python",
     "metadata": {},
     "outputs": [
      {
       "metadata": {},
       "output_type": "display_data",
       "png": "[encoded data removed]",
       "text": [
        "<matplotlib.figure.Figure at 0x1255b6210>"
       ]
      }
     ],
     "prompt_number": 358
    },
    {
     "cell_type": "code",
     "collapsed": false,
     "input": [
      "cfd.plot(cumulative=True)"
     ],
     "language": "python",
     "metadata": {},
     "outputs": [
      {
       "metadata": {},
       "output_type": "display_data",
       "png": "[encoded data removed]",
       "text": [
        "<matplotlib.figure.Figure at 0x125645950>"
       ]
      }
     ],
     "prompt_number": 359
    },
    {
     "cell_type": "code",
     "collapsed": false,
     "input": [
      "cfd.tabulate(conditions=['English', 'German_Deutsch'],\n",
      "             samples=range(10), cumulative=True)"
     ],
     "language": "python",
     "metadata": {},
     "outputs": [
      {
       "output_type": "stream",
       "stream": "stdout",
       "text": [
        "                  0    1    2    3    4    5    6    7    8    9 \n",
        "       English    0  185  525  883  997 1166 1283 1440 1558 1638 \n",
        "German_Deutsch    0  171  263  614  717  894 1013 1110 1213 1275 \n"
       ]
      }
     ],
     "prompt_number": 360
    },
    {
     "cell_type": "code",
     "collapsed": false,
     "input": [
      "# conditions\uac00 \ube60\uc9c0\ub2c8 \ubaa8\ub450 \ub098\uc624\ub124\n",
      "cfd.tabulate(samples=range(10), cumulative=True)"
     ],
     "language": "python",
     "metadata": {},
     "outputs": [
      {
       "output_type": "stream",
       "stream": "stdout",
       "text": [
        "                         0    1    2    3    4    5    6    7    8    9 \n",
        "            Chickasaw    0  411  510  551  619  710  799  876  946  995 \n",
        "              English    0  185  525  883  997 1166 1283 1440 1558 1638 \n",
        "       German_Deutsch    0  171  263  614  717  894 1013 1110 1213 1275 \n",
        "Greenlandic_Inuktikut    0  139  150  151  154  175  182  241  259  283 \n",
        "     Hungarian_Magyar    0  302  431  503  655  767  881  972 1081 1171 \n",
        "          Ibibio_Efik    0  228  440  915 1418 1705 1867 1974 2049 2074 \n"
       ]
      }
     ],
     "prompt_number": 361
    },
    {
     "cell_type": "markdown",
     "metadata": {},
     "source": [
      "#### Your Turn"
     ]
    },
    {
     "cell_type": "code",
     "collapsed": false,
     "input": [
      "from nltk.corpus import brown"
     ],
     "language": "python",
     "metadata": {},
     "outputs": [],
     "prompt_number": 362
    },
    {
     "cell_type": "code",
     "collapsed": false,
     "input": [
      "import calendar"
     ],
     "language": "python",
     "metadata": {},
     "outputs": [],
     "prompt_number": 363
    },
    {
     "cell_type": "code",
     "collapsed": false,
     "input": [
      "days = [day_name for day_name in calendar.day_name]\n",
      "days"
     ],
     "language": "python",
     "metadata": {},
     "outputs": [
      {
       "metadata": {},
       "output_type": "pyout",
       "prompt_number": 378,
       "text": [
        "['Monday', 'Tuesday', 'Wednesday', 'Thursday', 'Friday', 'Saturday', 'Sunday']"
       ]
      }
     ],
     "prompt_number": 378
    },
    {
     "cell_type": "code",
     "collapsed": false,
     "input": [
      "# days\uac00 \uc5b4\ub514\uc5d0 \uc815\uc758\ub418\uc5b4 \uc788\ub2e4\ub294 \uac70\ub0d0??\n",
      "# range(10)\uc740 \uc704\uc5d0\uc11c \ub418\ub294\ub370 \uc65c days\ub294 \uc548\ub418\uc9c0?\n",
      "cfd = nltk.ConditionalFreqDist((genre, word)\n",
      "                               for genre in brown.categories()\n",
      "                               for word in brown.words(categories=genre))\n",
      "\n",
      "cfd.tabulate(conditions=['news', 'romance'],\n",
      "             samples=days, cumulative=True)"
     ],
     "language": "python",
     "metadata": {},
     "outputs": [
      {
       "output_type": "stream",
       "stream": "stdout",
       "text": [
        "        Monday Tuesday Wednesday Thursday Friday Saturday Sunday \n",
        "   news   54   97  119  139  180  213  264 \n",
        "romance    2    5    8    9   12   16   21 \n"
       ]
      }
     ],
     "prompt_number": 385
    },
    {
     "cell_type": "code",
     "collapsed": false,
     "input": [
      "help(cfd.tabulate)"
     ],
     "language": "python",
     "metadata": {},
     "outputs": [
      {
       "output_type": "stream",
       "stream": "stdout",
       "text": [
        "Help on method tabulate in module nltk.probability:\n",
        "\n",
        "tabulate(self, *args, **kwargs) method of nltk.probability.ConditionalFreqDist instance\n",
        "    Tabulate the given samples from the conditional frequency distribution.\n",
        "    \n",
        "    :param samples: The samples to plot\n",
        "    :type samples: list\n",
        "    :param title: The title for the graph\n",
        "    :type title: str\n",
        "    :param conditions: The conditions to plot (default is all)\n",
        "    :type conditions: list\n",
        "\n"
       ]
      }
     ],
     "prompt_number": 394
    },
    {
     "cell_type": "markdown",
     "metadata": {},
     "source": [
      "#### samples\uc5d0 \uc5c9\ub6b1\ud55c \uac12\uc774 \ub4e4\uc5b4\uac00\uba74 \uc548\ub428"
     ]
    },
    {
     "cell_type": "code",
     "collapsed": false,
     "input": [
      "cfd = nltk.ConditionalFreqDist((genre, word)\n",
      "                               for genre in brown.categories()\n",
      "                               for word in brown.words(categories=genre))\n",
      "\n",
      "cfd.tabulate(conditions=['news', 'romance'],\n",
      "             samples=range(10), cumulative=True)"
     ],
     "language": "python",
     "metadata": {},
     "outputs": [
      {
       "output_type": "stream",
       "stream": "stdout",
       "text": [
        "           0    1    2    3    4    5    6    7    8    9 \n",
        "   news    0    0    0    0    0    0    0    0    0    0 \n",
        "romance    0    0    0    0    0    0    0    0    0    0 \n"
       ]
      }
     ],
     "prompt_number": 386
    },
    {
     "cell_type": "code",
     "collapsed": false,
     "input": [
      "cfd = nltk.ConditionalFreqDist((genre, word)\n",
      "                               for genre in brown.categories()\n",
      "                               for word in brown.words(categories=genre))\n",
      "\n",
      "cfd.tabulate(samples=range(10), cumulative=True)"
     ],
     "language": "python",
     "metadata": {},
     "outputs": [
      {
       "output_type": "stream",
       "stream": "stdout",
       "text": [
        "                   0    1    2    3    4    5    6    7    8    9 \n",
        "      adventure    0    0    0    0    0    0    0    0    0    0 \n",
        " belles_lettres    0    0    0    0    0    0    0    0    0    0 \n",
        "      editorial    0    0    0    0    0    0    0    0    0    0 \n",
        "        fiction    0    0    0    0    0    0    0    0    0    0 \n",
        "     government    0    0    0    0    0    0    0    0    0    0 \n",
        "        hobbies    0    0    0    0    0    0    0    0    0    0 \n",
        "          humor    0    0    0    0    0    0    0    0    0    0 \n",
        "        learned    0    0    0    0    0    0    0    0    0    0 \n",
        "           lore    0    0    0    0    0    0    0    0    0    0 \n",
        "        mystery    0    0    0    0    0    0    0    0    0    0 \n",
        "           news    0    0    0    0    0    0    0    0    0    0 \n",
        "       religion    0    0    0    0    0    0    0    0    0    0 \n",
        "        reviews    0    0    0    0    0    0    0    0    0    0 \n",
        "        romance    0    0    0    0    0    0    0    0    0    0 \n",
        "science_fiction    0    0    0    0    0    0    0    0    0    0 \n"
       ]
      }
     ],
     "prompt_number": 390
    },
    {
     "cell_type": "code",
     "collapsed": false,
     "input": [
      "cfd.keys()"
     ],
     "language": "python",
     "metadata": {},
     "outputs": [
      {
       "metadata": {},
       "output_type": "pyout",
       "prompt_number": 388,
       "text": [
        "[u'mystery',\n",
        " u'belles_lettres',\n",
        " u'humor',\n",
        " 0,\n",
        " u'government',\n",
        " u'fiction',\n",
        " u'reviews',\n",
        " u'religion',\n",
        " u'romance',\n",
        " u'science_fiction',\n",
        " u'adventure',\n",
        " u'editorial',\n",
        " u'hobbies',\n",
        " u'lore',\n",
        " u'news',\n",
        " u'learned']"
       ]
      }
     ],
     "prompt_number": 388
    },
    {
     "cell_type": "code",
     "collapsed": false,
     "input": [
      "cfd.values()[:10]"
     ],
     "language": "python",
     "metadata": {},
     "outputs": [
      {
       "metadata": {},
       "output_type": "pyout",
       "prompt_number": 389,
       "text": [
        "[FreqDist({u'.': 3326, u',': 2805, u'the': 2573, u'to': 1284, u'and': 1215, u'a': 1136, u'of': 903, u'was': 820, u'``': 740, u\"''\": 738, ...}),\n",
        " FreqDist({u'the': 9726, u',': 9166, u'.': 6397, u'of': 6289, u'and': 4282, u'to': 4084, u'a': 3308, u'in': 3089, u'that': 1896, u'is': 1799, ...}),\n",
        " FreqDist({u',': 1331, u'the': 930, u'.': 877, u'of': 515, u'and': 512, u'a': 505, u'to': 463, u'``': 343, u\"''\": 340, u'in': 334, ...}),\n",
        " FreqDist({}),\n",
        " FreqDist({u'the': 4143, u',': 3405, u'of': 3031, u'.': 2493, u'and': 1923, u'to': 1829, u'in': 1319, u'a': 867, u'for': 806, u'is': 649, ...}),\n",
        " FreqDist({u',': 3654, u'.': 3639, u'the': 3423, u'and': 1696, u'to': 1489, u'of': 1419, u'a': 1281, u'was': 1082, u'in': 916, u'he': 813, ...}),\n",
        " FreqDist({u',': 2318, u'the': 2048, u'.': 1549, u'of': 1299, u'and': 1103, u'a': 874, u'to': 706, u'in': 656, u'is': 513, u'``': 390, ...}),\n",
        " FreqDist({u'the': 2295, u',': 1913, u'of': 1494, u'.': 1382, u'and': 921, u'to': 882, u'in': 724, u'a': 655, u'is': 533, u'that': 475, ...}),\n",
        " FreqDist({u',': 3899, u'.': 3736, u'the': 2758, u'and': 1776, u'to': 1502, u'a': 1335, u'of': 1186, u'``': 1045, u\"''\": 1044, u'was': 993, ...}),\n",
        " FreqDist({u',': 791, u'.': 786, u'the': 652, u'of': 321, u'to': 305, u'and': 278, u\"''\": 235, u'``': 235, u'a': 222, u'was': 198, ...})]"
       ]
      }
     ],
     "prompt_number": 389
    },
    {
     "cell_type": "markdown",
     "metadata": {},
     "source": [
      "### Generating Random Text with Bigrams\n",
      "\n",
      "- bigrams\uc758 \ud14c\uc774\ube14\uc744 \ub9cc\ub4e4\uae30 \uc704\ud574\uc11c(word pairs) \uc870\uac74 \ube48\ub3c4 \ubd84\ud3ec\ub97c \uc0ac\uc6a9\ud560 \uc218 \uc788\ub2e4.\n",
      "- **bi-gram**: **N-gram\uc758 \ud55c \ud615\ud0dc**. bi\ub294 2\ub97c \ub73b\ud558\ubbc0\ub85c 2\uac1c\uc758 \ub2e8\uc5b4\ub97c \ubb36\ub294 \uac83\uc73c\ub85c \ud45c\ud604"
     ]
    },
    {
     "cell_type": "code",
     "collapsed": false,
     "input": [
      "sent = ['In', 'the', 'beginning', 'God', 'created', 'the', 'heaven',\n",
      "        'and', 'the', 'earth', '.']"
     ],
     "language": "python",
     "metadata": {},
     "outputs": [],
     "prompt_number": 398
    },
    {
     "cell_type": "code",
     "collapsed": false,
     "input": [
      "# generator \ud615\uc2dd\uc73c\ub85c \ubc14\ub010\ub4ef\n",
      "list(nltk.bigrams(sent))"
     ],
     "language": "python",
     "metadata": {},
     "outputs": [
      {
       "metadata": {},
       "output_type": "pyout",
       "prompt_number": 403,
       "text": [
        "[('In', 'the'),\n",
        " ('the', 'beginning'),\n",
        " ('beginning', 'God'),\n",
        " ('God', 'created'),\n",
        " ('created', 'the'),\n",
        " ('the', 'heaven'),\n",
        " ('heaven', 'and'),\n",
        " ('and', 'the'),\n",
        " ('the', 'earth'),\n",
        " ('earth', '.')]"
       ]
      }
     ],
     "prompt_number": 403
    },
    {
     "cell_type": "markdown",
     "metadata": {},
     "source": [
      "#### Example 2-1. Generating random text\n",
      "\n",
      "- This program obtains all bigrams from the text of the book of Genesis,\n",
      "- then constructs a conditional frequency distribution to record which words are most likely to follow a given word;\n",
      "- e.g., after the word living, the most likely word is creature;\n",
      "- the generate_model() function uses this data, and a seed word, to generate random text."
     ]
    },
    {
     "cell_type": "code",
     "collapsed": false,
     "input": [
      "def generate_model(cfdist, word, num=15):\n",
      "    for i in range(num):\n",
      "        print word,\n",
      "        word = cfdist[word].max()"
     ],
     "language": "python",
     "metadata": {},
     "outputs": [],
     "prompt_number": 404
    },
    {
     "cell_type": "code",
     "collapsed": false,
     "input": [
      "text = nltk.corpus.genesis.words('english-kjv.txt')\n",
      "text"
     ],
     "language": "python",
     "metadata": {},
     "outputs": [
      {
       "metadata": {},
       "output_type": "pyout",
       "prompt_number": 408,
       "text": [
        "[u'In', u'the', u'beginning', u'God', u'created', ...]"
       ]
      }
     ],
     "prompt_number": 408
    },
    {
     "cell_type": "code",
     "collapsed": false,
     "input": [
      "bigrams = nltk.bigrams(text)\n",
      "list(bigrams)[:10]"
     ],
     "language": "python",
     "metadata": {},
     "outputs": [
      {
       "metadata": {},
       "output_type": "pyout",
       "prompt_number": 427,
       "text": [
        "[(u'In', u'the'),\n",
        " (u'the', u'beginning'),\n",
        " (u'beginning', u'God'),\n",
        " (u'God', u'created'),\n",
        " (u'created', u'the'),\n",
        " (u'the', u'heaven'),\n",
        " (u'heaven', u'and'),\n",
        " (u'and', u'the'),\n",
        " (u'the', u'earth'),\n",
        " (u'earth', u'.')]"
       ]
      }
     ],
     "prompt_number": 427
    },
    {
     "cell_type": "code",
     "collapsed": false,
     "input": [
      "cfd = nltk.ConditionalFreqDist(bigrams)"
     ],
     "language": "python",
     "metadata": {},
     "outputs": [],
     "prompt_number": 410
    },
    {
     "cell_type": "code",
     "collapsed": false,
     "input": [
      "print cfd['living']"
     ],
     "language": "python",
     "metadata": {},
     "outputs": [
      {
       "output_type": "stream",
       "stream": "stdout",
       "text": [
        "<FreqDist with 6 samples and 16 outcomes>\n"
       ]
      }
     ],
     "prompt_number": 411
    },
    {
     "cell_type": "code",
     "collapsed": false,
     "input": [
      "generate_model(cfd, 'living')"
     ],
     "language": "python",
     "metadata": {},
     "outputs": [
      {
       "output_type": "stream",
       "stream": "stdout",
       "text": [
        "living creature that he said , and the land of the land of the land\n"
       ]
      }
     ],
     "prompt_number": 412
    },
    {
     "cell_type": "code",
     "collapsed": false,
     "input": [
      "generate_model(cfd, 'living', num=2)"
     ],
     "language": "python",
     "metadata": {},
     "outputs": [
      {
       "output_type": "stream",
       "stream": "stdout",
       "text": [
        "living creature\n"
       ]
      }
     ],
     "prompt_number": 415
    },
    {
     "cell_type": "code",
     "collapsed": false,
     "input": [
      "# living\uc774 \ub4e4\uc5b4\uac04 \uac83 \uc911\uc5d0\uc11c \uac00\uc7a5 \ub9ce\uc774 \uac19\uc774 \ub098\uc628\uac83\n",
      "cfd['living'].max()"
     ],
     "language": "python",
     "metadata": {},
     "outputs": [
      {
       "metadata": {},
       "output_type": "pyout",
       "prompt_number": 418,
       "text": [
        "u'creature'"
       ]
      }
     ],
     "prompt_number": 418
    },
    {
     "cell_type": "code",
     "collapsed": false,
     "input": [
      "cfd['creature'].max()"
     ],
     "language": "python",
     "metadata": {},
     "outputs": [
      {
       "metadata": {},
       "output_type": "pyout",
       "prompt_number": 419,
       "text": [
        "u'that'"
       ]
      }
     ],
     "prompt_number": 419
    },
    {
     "cell_type": "code",
     "collapsed": false,
     "input": [
      "cfd['living']"
     ],
     "language": "python",
     "metadata": {},
     "outputs": [
      {
       "metadata": {},
       "output_type": "pyout",
       "prompt_number": 421,
       "text": [
        "FreqDist({u'creature': 7, u'thing': 4, u'substance': 2, u',': 1, u'.': 1, u'soul': 1})"
       ]
      }
     ],
     "prompt_number": 421
    },
    {
     "cell_type": "code",
     "collapsed": false,
     "input": [
      "' '.join(cfd['living'])"
     ],
     "language": "python",
     "metadata": {},
     "outputs": [
      {
       "metadata": {},
       "output_type": "pyout",
       "prompt_number": 422,
       "text": [
        "u'substance , . thing soul creature'"
       ]
      }
     ],
     "prompt_number": 422
    },
    {
     "cell_type": "markdown",
     "metadata": {},
     "source": [
      "- Conditional frequency distributions are a useful data structure for many NLP tasks"
     ]
    },
    {
     "cell_type": "markdown",
     "metadata": {},
     "source": [
      "#### Table 2-4. NLTK's conditional frequency distributions\n",
      "\n",
      "Example | Description\n",
      "--- | ---\n",
      "cfdist = ConditionalFreqDist(pairs) | Create a conditional frequency distribution from a list of pairs\n",
      "cdist.conditions() | Alphabetically sorted list of conditions\n",
      "cdist[condition] | The frequency distribution for this condition\n",
      "cdist\\[condition\\]\\[sample\\] | Frequency for the given sample for this condition\n",
      "cfdist.tabulate() | Tabulate the conditional frequency distribution\n",
      "cfdist.tabulate(samples, conditions) | Tabulation limited to the specified samples and conditions\n",
      "cfdist.plot() | Graphical plot of the conditional frequency distribution\n",
      "cfdist.plot(samples, conditions) | Graphical plot limited to the specified samples and conditions\n",
      "cfdist1 < cfdist2 | Test if samples in cfdist1 occur less frequently than in cfdist2"
     ]
    },
    {
     "cell_type": "markdown",
     "metadata": {},
     "source": [
      "> Note: [\ub9d0\ubb49\uce58 \uc8fc\uc11d - \uc704\ud0a4\ubc31\uacfc, \uc6b0\ub9ac \ubaa8\ub450\uc758 \ubc31\uacfc\uc0ac\uc804](http://ko.wikipedia.org/wiki/\ub9d0\ubb49\uce58_\uc8fc\uc11d)\n"
     ]
    },
    {
     "cell_type": "markdown",
     "metadata": {},
     "source": [
      "## 2.3 More Python: Reusing Code\n",
      "\n",
      "- Code \uc7ac\uc0ac\uc6a9 2\uac00\uc9c0 \ubc29\ubc95\n",
      "  - text editors\n",
      "  - Python functions\n",
      "\n",
      "### Creating Programs with a Text Editor"
     ]
    },
    {
     "cell_type": "code",
     "collapsed": false,
     "input": [
      "print 'Monty Python'"
     ],
     "language": "python",
     "metadata": {},
     "outputs": [
      {
       "output_type": "stream",
       "stream": "stdout",
       "text": [
        "Monty Python\n"
       ]
      }
     ],
     "prompt_number": 428
    },
    {
     "cell_type": "code",
     "collapsed": false,
     "input": [
      "%%writefile ch02/monty.py\n",
      "print 'Monty Python'\n",
      "\n",
      "def hello():\n",
      "    print 'hello world'"
     ],
     "language": "python",
     "metadata": {},
     "outputs": [
      {
       "output_type": "stream",
       "stream": "stdout",
       "text": [
        "Overwriting ch02/monty.py\n"
       ]
      }
     ],
     "prompt_number": 433
    },
    {
     "cell_type": "code",
     "collapsed": false,
     "input": [
      "%run ch02/monty.py"
     ],
     "language": "python",
     "metadata": {},
     "outputs": [
      {
       "output_type": "stream",
       "stream": "stdout",
       "text": [
        "Monty Python\n"
       ]
      }
     ],
     "prompt_number": 431
    },
    {
     "cell_type": "code",
     "collapsed": false,
     "input": [
      "!touch ch02/__init__.py"
     ],
     "language": "python",
     "metadata": {},
     "outputs": [],
     "prompt_number": 435
    },
    {
     "cell_type": "code",
     "collapsed": false,
     "input": [
      "from ch02 import monty"
     ],
     "language": "python",
     "metadata": {},
     "outputs": [
      {
       "output_type": "stream",
       "stream": "stdout",
       "text": [
        "Monty Python\n"
       ]
      }
     ],
     "prompt_number": 436
    },
    {
     "cell_type": "code",
     "collapsed": false,
     "input": [
      "monty.hello()"
     ],
     "language": "python",
     "metadata": {},
     "outputs": [
      {
       "output_type": "stream",
       "stream": "stdout",
       "text": [
        "hello world\n"
       ]
      }
     ],
     "prompt_number": 437
    },
    {
     "cell_type": "markdown",
     "metadata": {},
     "source": [
      "### Functions\n",
      "\n",
      "- function\n",
      "- parameters\n",
      "- return value"
     ]
    },
    {
     "cell_type": "code",
     "collapsed": false,
     "input": [
      "from __future__ import division"
     ],
     "language": "python",
     "metadata": {},
     "outputs": [],
     "prompt_number": 438
    },
    {
     "cell_type": "code",
     "collapsed": false,
     "input": [
      "def lexical_diversity(text):\n",
      "    return len(text) / len(set(text))"
     ],
     "language": "python",
     "metadata": {},
     "outputs": [],
     "prompt_number": 439
    },
    {
     "cell_type": "code",
     "collapsed": false,
     "input": [
      "s = 'hello world hello'"
     ],
     "language": "python",
     "metadata": {},
     "outputs": [],
     "prompt_number": 440
    },
    {
     "cell_type": "code",
     "collapsed": false,
     "input": [
      "lexical_diversity(s)"
     ],
     "language": "python",
     "metadata": {},
     "outputs": [
      {
       "metadata": {},
       "output_type": "pyout",
       "prompt_number": 441,
       "text": [
        "2.125"
       ]
      }
     ],
     "prompt_number": 441
    },
    {
     "cell_type": "code",
     "collapsed": false,
     "input": [
      "len(s)"
     ],
     "language": "python",
     "metadata": {},
     "outputs": [
      {
       "metadata": {},
       "output_type": "pyout",
       "prompt_number": 444,
       "text": [
        "17"
       ]
      }
     ],
     "prompt_number": 444
    },
    {
     "cell_type": "code",
     "collapsed": false,
     "input": [
      "len(set(s))"
     ],
     "language": "python",
     "metadata": {},
     "outputs": [
      {
       "metadata": {},
       "output_type": "pyout",
       "prompt_number": 443,
       "text": [
        "8"
       ]
      }
     ],
     "prompt_number": 443
    },
    {
     "cell_type": "code",
     "collapsed": false,
     "input": [
      "len(s) / len(set(s))"
     ],
     "language": "python",
     "metadata": {},
     "outputs": [
      {
       "metadata": {},
       "output_type": "pyout",
       "prompt_number": 445,
       "text": [
        "2.125"
       ]
      }
     ],
     "prompt_number": 445
    },
    {
     "cell_type": "code",
     "collapsed": false,
     "input": [
      "def lexical_diversity(my_text_data):\n",
      "    word_count = len(my_text_data)\n",
      "    vocab_size = len(set(my_text_data))\n",
      "    diversity_score = word_count / vocab_size\n",
      "    return diversity_score"
     ],
     "language": "python",
     "metadata": {},
     "outputs": [],
     "prompt_number": 446
    },
    {
     "cell_type": "code",
     "collapsed": false,
     "input": [
      "lexical_diversity(s)"
     ],
     "language": "python",
     "metadata": {},
     "outputs": [
      {
       "metadata": {},
       "output_type": "pyout",
       "prompt_number": 447,
       "text": [
        "2.125"
       ]
      }
     ],
     "prompt_number": 447
    },
    {
     "cell_type": "markdown",
     "metadata": {},
     "source": [
      "- local variables"
     ]
    },
    {
     "cell_type": "markdown",
     "metadata": {},
     "source": [
      "#### Example 2-2 A Python function\n",
      "\n",
      "- This function tries to work out the plural form of any English noun"
     ]
    },
    {
     "cell_type": "code",
     "collapsed": false,
     "input": [
      "def plural(word):\n",
      "    if word.endswith('y'):\n",
      "        return word[:-1] + 'ies'\n",
      "    elif word[-1] in 'sx' or word[-2:] in ['sh', 'ch']:\n",
      "    # elif word[-1] in ['s', 'x']\uc640 \uac19\uc740 \ub73b\n",
      "    # in \ub4a4\ub294 iterable\uc774 \uc628\ub2e4. string\uc740 iterable \ud558\uae30 \ub54c\ubb38\uc5d0 2\ubc88 \ub3c8\ub2e4.\n",
      "    # elif word[-1] in 'sx' or word[-2:] in ['sh', 'ch']:\n",
      "        return word + 'es'\n",
      "    elif word.endswith('an'):\n",
      "        return word[:-2] + 'en'\n",
      "    else:\n",
      "        return word + 's'"
     ],
     "language": "python",
     "metadata": {},
     "outputs": [],
     "prompt_number": 448
    },
    {
     "cell_type": "code",
     "collapsed": false,
     "input": [
      "plural('fairy')"
     ],
     "language": "python",
     "metadata": {},
     "outputs": [
      {
       "metadata": {},
       "output_type": "pyout",
       "prompt_number": 449,
       "text": [
        "'fairies'"
       ]
      }
     ],
     "prompt_number": 449
    },
    {
     "cell_type": "code",
     "collapsed": false,
     "input": [
      "plural('woman')"
     ],
     "language": "python",
     "metadata": {},
     "outputs": [
      {
       "metadata": {},
       "output_type": "pyout",
       "prompt_number": 450,
       "text": [
        "'women'"
       ]
      }
     ],
     "prompt_number": 450
    },
    {
     "cell_type": "markdown",
     "metadata": {},
     "source": [
      "- methods"
     ]
    },
    {
     "cell_type": "markdown",
     "metadata": {},
     "source": [
      "### Modules\n",
      "\n",
      "- \ud55c \uacf3\uc5d0 \uc18c\uc2a4\ub97c \ubaa8\uc544 \ub458 \uc218 \uc788\uc73c\uba74 \ub610 \ub2e4\uc2dc \ubcf5\uc0ac\ub97c \ud558\uc9c0 \uc54a\uc544\ub3c4 \ub41c\ub2e4."
     ]
    },
    {
     "cell_type": "code",
     "collapsed": false,
     "input": [
      "!pwd"
     ],
     "language": "python",
     "metadata": {},
     "outputs": [
      {
       "output_type": "stream",
       "stream": "stdout",
       "text": [
        "/Users/re4lfl0w/Documents/ipython/books/Natural_Language_Processing_With_Python\r\n"
       ]
      }
     ],
     "prompt_number": 697
    },
    {
     "cell_type": "code",
     "collapsed": false,
     "input": [
      "!ls -l ch02"
     ],
     "language": "python",
     "metadata": {},
     "outputs": [
      {
       "output_type": "stream",
       "stream": "stdout",
       "text": [
        "total 40\r\n",
        "-rw-r--r--  1 re4lfl0w  staff    0 11 20 10:30 __init__.py\r\n",
        "-rw-r--r--  1 re4lfl0w  staff  103 11 20 10:30 __init__.pyc\r\n",
        "-rw-r--r--  1 re4lfl0w  staff   58 11 20 10:30 monty.py\r\n",
        "-rw-r--r--  1 re4lfl0w  staff  250 11 20 10:30 monty.pyc\r\n",
        "-rw-r--r--  1 re4lfl0w  staff  258 11 20 10:44 textproc.py\r\n",
        "-rw-r--r--  1 re4lfl0w  staff  439 11 20 10:44 textproc.pyc\r\n"
       ]
      }
     ],
     "prompt_number": 698
    },
    {
     "cell_type": "code",
     "collapsed": false,
     "input": [
      "%%writefile ch02/textproc.py\n",
      "def plural(word):\n",
      "    if word.endswith('y'):\n",
      "        return word[:-1] + 'ies'\n",
      "    # word[-1] in 'sx'\n",
      "    # \uac19\uc740 \uc758\ubbf8\n",
      "    elif word[-1] in ['s', 'x'] or word[-2:] in ['sh', 'ch']:\n",
      "        return word + 'es'\n",
      "    elif word.endswith('an'):\n",
      "        return word[:-2] + 'en'\n",
      "    else:\n",
      "        return word + 's'"
     ],
     "language": "python",
     "metadata": {},
     "outputs": [
      {
       "output_type": "stream",
       "stream": "stdout",
       "text": [
        "Writing ch02/textproc.py\n"
       ]
      }
     ],
     "prompt_number": 451
    },
    {
     "cell_type": "code",
     "collapsed": false,
     "input": [
      "s = \"0123456789\""
     ],
     "language": "python",
     "metadata": {},
     "outputs": [],
     "prompt_number": 704
    },
    {
     "cell_type": "code",
     "collapsed": false,
     "input": [
      "# 0 <= x < 3\n",
      "s[0:3]"
     ],
     "language": "python",
     "metadata": {},
     "outputs": [
      {
       "metadata": {},
       "output_type": "pyout",
       "prompt_number": 708,
       "text": [
        "'012'"
       ]
      }
     ],
     "prompt_number": 708
    },
    {
     "cell_type": "code",
     "collapsed": false,
     "input": [
      "s[:2]"
     ],
     "language": "python",
     "metadata": {},
     "outputs": [
      {
       "metadata": {},
       "output_type": "pyout",
       "prompt_number": 710,
       "text": [
        "'01'"
       ]
      }
     ],
     "prompt_number": 710
    },
    {
     "cell_type": "code",
     "collapsed": false,
     "input": [
      "s[-2:]"
     ],
     "language": "python",
     "metadata": {},
     "outputs": [
      {
       "metadata": {},
       "output_type": "pyout",
       "prompt_number": 709,
       "text": [
        "'89'"
       ]
      }
     ],
     "prompt_number": 709
    },
    {
     "cell_type": "code",
     "collapsed": false,
     "input": [
      "s[0]"
     ],
     "language": "python",
     "metadata": {},
     "outputs": [
      {
       "metadata": {},
       "output_type": "pyout",
       "prompt_number": 705,
       "text": [
        "'0'"
       ]
      }
     ],
     "prompt_number": 705
    },
    {
     "cell_type": "code",
     "collapsed": false,
     "input": [
      "s[2]"
     ],
     "language": "python",
     "metadata": {},
     "outputs": [
      {
       "metadata": {},
       "output_type": "pyout",
       "prompt_number": 706,
       "text": [
        "'2'"
       ]
      }
     ],
     "prompt_number": 706
    },
    {
     "cell_type": "code",
     "collapsed": false,
     "input": [
      "s[-1]"
     ],
     "language": "python",
     "metadata": {},
     "outputs": [
      {
       "metadata": {},
       "output_type": "pyout",
       "prompt_number": 707,
       "text": [
        "'9'"
       ]
      }
     ],
     "prompt_number": 707
    },
    {
     "cell_type": "code",
     "collapsed": false,
     "input": [
      "del plural"
     ],
     "language": "python",
     "metadata": {},
     "outputs": []
    },
    {
     "cell_type": "code",
     "collapsed": false,
     "input": [
      "from ch02.textproc import plural"
     ],
     "language": "python",
     "metadata": {},
     "outputs": [],
     "prompt_number": 455
    },
    {
     "cell_type": "code",
     "collapsed": false,
     "input": [
      "plural('wish')"
     ],
     "language": "python",
     "metadata": {},
     "outputs": [
      {
       "metadata": {},
       "output_type": "pyout",
       "prompt_number": 456,
       "text": [
        "'wishes'"
       ]
      }
     ],
     "prompt_number": 456
    },
    {
     "cell_type": "code",
     "collapsed": false,
     "input": [
      "# error: fan is fans\n",
      "plural('fan')"
     ],
     "language": "python",
     "metadata": {},
     "outputs": [
      {
       "metadata": {},
       "output_type": "pyout",
       "prompt_number": 457,
       "text": [
        "'fen'"
       ]
      }
     ],
     "prompt_number": 457
    },
    {
     "cell_type": "markdown",
     "metadata": {},
     "source": [
      "- module: A collection of variable and function definitions in a file\n",
      "  - ex) Brown Corpus\n",
      "- package: collection of related modules\n",
      "  - ex) corpa\n",
      "- library: NLTK itself is a set of packages"
     ]
    },
    {
     "cell_type": "markdown",
     "metadata": {},
     "source": [
      "> Caution: nltk.py \ub77c\uace0 \uc800\uc7a5\ud558\uc9c0 \ub9d0\uc790. import \uaddc\uce59\uc0c1 \uac19\uc740 \ub514\ub809\ud1a0\ub9ac\uc5d0 \uc788\ub294 py\ub97c \uba3c\uc800 \ubd88\ub7ec\uc624\uae30 \ub54c\ubb38\uc5d0 library \ud3f4\ub354\uc5d0 \ub4e4\uc5b4\uc788\ub294 nltk\uac00 \ubb34\uc2dc\ub41c\ub2e4."
     ]
    },
    {
     "cell_type": "markdown",
     "metadata": {},
     "source": [
      "## 2.4 Lexical Resources\n",
      "\n",
      "- lexicon or lexical resource: collection of words and/or phrases along with associated informatin, such as part-of-speech and sense definitions\n",
      "\n",
      "```python\n",
      "vocab = sorted(set(my_text))\n",
      "word_freq = FreqDist(my_text)\n",
      "```\n",
      "\n",
      "- vocab, word_freq: \uac04\ub2e8\ud55c \uc5b4\ud718 \uc790\uc6d0\n",
      "- lexical entries: \uc5b4\ud718 \ud45c\uc81c\uc5b4\n",
      "\n",
      "![lexicon_terminology](images/lexicon_terminology.png)\n",
      "\n",
      "- homonyms"
     ]
    },
    {
     "cell_type": "markdown",
     "metadata": {},
     "source": [
      "### Wordlist Corpora\n",
      "\n",
      "- NLTK\ub294 \uba87 \uac1c\uc758 \ub9d0\ubb49\uce58\ub97c \uac00\uc9c0\uace0 \uc788\ub294\ub370 wordlists\ubcf4\ub2e4 \ub354 \ub098\uc740\uac8c \uc5c6\ub2e4.\n",
      "- Words Corpus /usr/dict/words"
     ]
    },
    {
     "cell_type": "markdown",
     "metadata": {},
     "source": [
      "#### Example 2-3 Filtering a text\n",
      "\n",
      "- text\uc758 \ub2e8\uc5b4\ub97c \uacc4\uc0b0\ud55c\ub2e4.\n",
      "- \ubaa8\ub4e0 \uc544\uc774\ud15c\ub4e4\uc744 \uc9c0\uc6b4\ub2e4. \uc874\uc7ac\ud558\ub294 wordlist\uc5d0\uc11c \ubc1c\uc0dd\ud55c\ub2e4. \uc77c\ubc18\uc801\uc774\uc9c0 \uc54a\uac70\ub098 \uc624\ud0c0\ub09c \ub2e8\uc5b4\ub4e4\ub9cc \ub0a8\ub294\ub2e4."
     ]
    },
    {
     "cell_type": "code",
     "collapsed": false,
     "input": [
      "def unusual_words(text):\n",
      "    text_vocab = set(w.lower() for w in text if w.isalpha())\n",
      "    english_vocab = set(w.lower() for w in nltk.corpus.words.words())\n",
      "#     text_vocab - english_vocab\n",
      "    unusual = text_vocab.difference(english_vocab)\n",
      "    return sorted(unusual)"
     ],
     "language": "python",
     "metadata": {},
     "outputs": [],
     "prompt_number": 461
    },
    {
     "cell_type": "code",
     "collapsed": false,
     "input": [
      "len(nltk.corpus.words.words())"
     ],
     "language": "python",
     "metadata": {},
     "outputs": [
      {
       "metadata": {},
       "output_type": "pyout",
       "prompt_number": 467,
       "text": [
        "236736"
       ]
      }
     ],
     "prompt_number": 467
    },
    {
     "cell_type": "code",
     "collapsed": false,
     "input": [
      "nltk.corpus.words.words()[::10000]"
     ],
     "language": "python",
     "metadata": {},
     "outputs": [
      {
       "metadata": {},
       "output_type": "pyout",
       "prompt_number": 471,
       "text": [
        "[u'A',\n",
        " u'anticontagious',\n",
        " u'beefer',\n",
        " u'capivi',\n",
        " u'commenter',\n",
        " u'deflagrator',\n",
        " u'eimer',\n",
        " u'finable',\n",
        " u'grievedly',\n",
        " u'hypogee',\n",
        " u'Jezebelish',\n",
        " u'magicianship',\n",
        " u'mountainless',\n",
        " u'oenometer',\n",
        " u'pashm',\n",
        " u'polyaxon',\n",
        " u'pumpkinish',\n",
        " u'rimosely',\n",
        " u'sheetwriting',\n",
        " u'stockrider',\n",
        " u'tenontoplasty',\n",
        " u'typographically',\n",
        " u'unoffset',\n",
        " u'waer']"
       ]
      }
     ],
     "prompt_number": 471
    },
    {
     "cell_type": "code",
     "collapsed": false,
     "input": [
      "unusual_words(nltk.corpus.gutenberg.words('austen-sense.txt'))[::100]"
     ],
     "language": "python",
     "metadata": {},
     "outputs": [
      {
       "metadata": {},
       "output_type": "pyout",
       "prompt_number": 463,
       "text": [
        "[u'abbeyland',\n",
        " u'arranged',\n",
        " u'bringing',\n",
        " u'conjectured',\n",
        " u'departing',\n",
        " u'eloping',\n",
        " u'fears',\n",
        " u'heard',\n",
        " u'intimated',\n",
        " u'medicines',\n",
        " u'outgrown',\n",
        " u'pre',\n",
        " u'reflections',\n",
        " u'rumour',\n",
        " u'spirits',\n",
        " u'traced',\n",
        " u'youngest']"
       ]
      }
     ],
     "prompt_number": 463
    },
    {
     "cell_type": "code",
     "collapsed": false,
     "input": [
      "unusual_words(nltk.corpus.nps_chat.words())[::100]"
     ],
     "language": "python",
     "metadata": {},
     "outputs": [
      {
       "metadata": {},
       "output_type": "pyout",
       "prompt_number": 464,
       "text": [
        "[u'aaaaaaaaaaaaaaaaa',\n",
        " u'awesomee',\n",
        " u'booboo',\n",
        " u'cheking',\n",
        " u'ct',\n",
        " u'dreaded',\n",
        " u'fawker',\n",
        " u'geessh',\n",
        " u'hates',\n",
        " u'hows',\n",
        " u'jus',\n",
        " u'lolol',\n",
        " u'moans',\n",
        " u'normy',\n",
        " u'pasties',\n",
        " u'puhleaze',\n",
        " u'sayn',\n",
        " u'snickers',\n",
        " u'talks',\n",
        " u'url',\n",
        " u'whys']"
       ]
      }
     ],
     "prompt_number": 464
    },
    {
     "cell_type": "markdown",
     "metadata": {},
     "source": [
      "- stopwords: \uad49\uc7a5\ud788 \ub9ce\uc774 \ub098\ud0c0\ub098\ub294 \ub2e8\uc5b4\ub4e4, the, to, also\n",
      "  - \uac00\ub054 \uc774 \ubb38\uc11c\uc5d0\uc11c \ube7c\uace0 \uc2f6\uc744 \ub54c\uac00 \uc788\ub2e4\n",
      "  - \uadf8\ub9ac\uace0 \ub098\uba38\uc9c0 \uc791\uc5c5\uc744 \ud55c\ub2e4.\n",
      "  - \uc774\uac83\ub4e4\uc740 \ub108\ubb34 \ub9ce\uc774 \ub098\uc640\uc11c \ubb38\uc11c\uc5d0\uc11c \ud2b9\ubcc4\ud55c \uc758\ubbf8\uac00 \uc5c6\ub2e4.\n",
      "- \ubcf4\ud1b5 \uc801\uc740 \uc5b4\ud718 \ub0b4\uc6a9\uc744 \uac00\uc9c4\ub2e4. \uadf8\uac83\ub4e4\uc740 text fails\uc5d0\uc11c \ub2e4\ub978 \ud14d\uc2a4\ud2b8\uc5d0\uc11c \uad6c\ubcc4\ud558\uae30 \uc704\ud574 \uc874\uc7ac\ud55c\ub2e4.\n"
     ]
    },
    {
     "cell_type": "code",
     "collapsed": false,
     "input": [
      "from nltk.corpus import stopwords"
     ],
     "language": "python",
     "metadata": {},
     "outputs": [],
     "prompt_number": 472
    },
    {
     "cell_type": "code",
     "collapsed": false,
     "input": [
      "len(stopwords.words('english'))"
     ],
     "language": "python",
     "metadata": {},
     "outputs": [
      {
       "metadata": {},
       "output_type": "pyout",
       "prompt_number": 711,
       "text": [
        "127"
       ]
      }
     ],
     "prompt_number": 711
    },
    {
     "cell_type": "code",
     "collapsed": false,
     "input": [
      "stopwords.words('english')"
     ],
     "language": "python",
     "metadata": {},
     "outputs": [
      {
       "metadata": {},
       "output_type": "pyout",
       "prompt_number": 477,
       "text": [
        "[u'i',\n",
        " u'me',\n",
        " u'my',\n",
        " u'myself',\n",
        " u'we',\n",
        " u'our',\n",
        " u'ours',\n",
        " u'ourselves',\n",
        " u'you',\n",
        " u'your',\n",
        " u'yours',\n",
        " u'yourself',\n",
        " u'yourselves',\n",
        " u'he',\n",
        " u'him',\n",
        " u'his',\n",
        " u'himself',\n",
        " u'she',\n",
        " u'her',\n",
        " u'hers',\n",
        " u'herself',\n",
        " u'it',\n",
        " u'its',\n",
        " u'itself',\n",
        " u'they',\n",
        " u'them',\n",
        " u'their',\n",
        " u'theirs',\n",
        " u'themselves',\n",
        " u'what',\n",
        " u'which',\n",
        " u'who',\n",
        " u'whom',\n",
        " u'this',\n",
        " u'that',\n",
        " u'these',\n",
        " u'those',\n",
        " u'am',\n",
        " u'is',\n",
        " u'are',\n",
        " u'was',\n",
        " u'were',\n",
        " u'be',\n",
        " u'been',\n",
        " u'being',\n",
        " u'have',\n",
        " u'has',\n",
        " u'had',\n",
        " u'having',\n",
        " u'do',\n",
        " u'does',\n",
        " u'did',\n",
        " u'doing',\n",
        " u'a',\n",
        " u'an',\n",
        " u'the',\n",
        " u'and',\n",
        " u'but',\n",
        " u'if',\n",
        " u'or',\n",
        " u'because',\n",
        " u'as',\n",
        " u'until',\n",
        " u'while',\n",
        " u'of',\n",
        " u'at',\n",
        " u'by',\n",
        " u'for',\n",
        " u'with',\n",
        " u'about',\n",
        " u'against',\n",
        " u'between',\n",
        " u'into',\n",
        " u'through',\n",
        " u'during',\n",
        " u'before',\n",
        " u'after',\n",
        " u'above',\n",
        " u'below',\n",
        " u'to',\n",
        " u'from',\n",
        " u'up',\n",
        " u'down',\n",
        " u'in',\n",
        " u'out',\n",
        " u'on',\n",
        " u'off',\n",
        " u'over',\n",
        " u'under',\n",
        " u'again',\n",
        " u'further',\n",
        " u'then',\n",
        " u'once',\n",
        " u'here',\n",
        " u'there',\n",
        " u'when',\n",
        " u'where',\n",
        " u'why',\n",
        " u'how',\n",
        " u'all',\n",
        " u'any',\n",
        " u'both',\n",
        " u'each',\n",
        " u'few',\n",
        " u'more',\n",
        " u'most',\n",
        " u'other',\n",
        " u'some',\n",
        " u'such',\n",
        " u'no',\n",
        " u'nor',\n",
        " u'not',\n",
        " u'only',\n",
        " u'own',\n",
        " u'same',\n",
        " u'so',\n",
        " u'than',\n",
        " u'too',\n",
        " u'very',\n",
        " u's',\n",
        " u't',\n",
        " u'can',\n",
        " u'will',\n",
        " u'just',\n",
        " u'don',\n",
        " u'should',\n",
        " u'now']"
       ]
      }
     ],
     "prompt_number": 477
    },
    {
     "cell_type": "markdown",
     "metadata": {},
     "source": [
      "#### \ucf58\ud150\ud2b8\uc5d0\uc11c stopwords\ub97c \ube7c\uace0 \uc720\uc758\ubbf8\ud55c \uacb0\uacfc\ub9cc \ub098\uc628\uac83"
     ]
    },
    {
     "cell_type": "code",
     "collapsed": false,
     "input": [
      "def content_fraction(text):\n",
      "    stopwords = nltk.corpus.stopwords.words('english')\n",
      "    content = [w for w in text if w.lower() not in stopwords]\n",
      "    return len(content) / len(text)"
     ],
     "language": "python",
     "metadata": {},
     "outputs": [],
     "prompt_number": 478
    },
    {
     "cell_type": "code",
     "collapsed": false,
     "input": [
      "content_fraction(nltk.corpus.reuters.words())"
     ],
     "language": "python",
     "metadata": {},
     "outputs": [
      {
       "metadata": {},
       "output_type": "pyout",
       "prompt_number": 479,
       "text": [
        "0.7364374824583169"
       ]
      }
     ],
     "prompt_number": 479
    },
    {
     "cell_type": "markdown",
     "metadata": {},
     "source": [
      "- stopsrods\uc758 \ub3c4\uc6c0, \ud14d\uc2a4\ud2b8 3\uac1c\uc758 \ub2e8\uc5b4\ub4e4\uc5d0\uc11c \ud544\ud130\n",
      "- 2\uac1c\uc758 \ub2e4\ub978 \ub9d0\ubb49\uce58\ub97c \uacb0\ud569\ud55c\ub2e4.\n",
      "- \uc5b4\ud718\uc801 \uc790\uc6d0\uc740 \ud14d\uc2a4\ud2b8 \ub9d0\ubb49\uce58\uc758 \ucf58\ud150\ud2b8\ub97c \ud544\ud130\ud558\uae30 \uc704\ud574 \uc0ac\uc6a9\ub428."
     ]
    },
    {
     "cell_type": "markdown",
     "metadata": {},
     "source": [
      "- wordlist: word puzzles \ud478\ub294\ub370 \uc720\uc6a9\ud558\ub2e4."
     ]
    },
    {
     "cell_type": "code",
     "collapsed": false,
     "input": [
      "puzzle_letters = nltk.FreqDist('egivrvonl')\n",
      "puzzle_letters"
     ],
     "language": "python",
     "metadata": {},
     "outputs": [
      {
       "metadata": {},
       "output_type": "pyout",
       "prompt_number": 481,
       "text": [
        "FreqDist({'v': 2, 'e': 1, 'g': 1, 'i': 1, 'l': 1, 'o': 1, 'n': 1, 'r': 1})"
       ]
      }
     ],
     "prompt_number": 481
    },
    {
     "cell_type": "code",
     "collapsed": true,
     "input": [
      "# r\ub9cc \ub4e4\uc5b4\uc788\ub294 \ub2e8\uc5b4\ub4e4\ub9cc \ucd94\ucd9c\n",
      "obligatory = 'r'"
     ],
     "language": "python",
     "metadata": {},
     "outputs": [],
     "prompt_number": 482
    },
    {
     "cell_type": "code",
     "collapsed": false,
     "input": [
      "wordlist = nltk.corpus.words.words()\n",
      "len(wordlist)"
     ],
     "language": "python",
     "metadata": {},
     "outputs": [
      {
       "metadata": {},
       "output_type": "pyout",
       "prompt_number": 484,
       "text": [
        "236736"
       ]
      }
     ],
     "prompt_number": 484
    },
    {
     "cell_type": "code",
     "collapsed": false,
     "input": [
      "[w for w in wordlist if len(w) >= 6\n",
      "                        and obligatory in w\n",
      "                        # puzzle_letters\uc758 \ube48\ub3c4\ubcf4\ub2e4 \uc801\uac8c \ub098\uc640\uc57c \ud55c\ub2e4\n",
      "                        and nltk.FreqDist(w) <= puzzle_letters]"
     ],
     "language": "python",
     "metadata": {},
     "outputs": [
      {
       "metadata": {},
       "output_type": "pyout",
       "prompt_number": 485,
       "text": [
        "[u'glover',\n",
        " u'gorlin',\n",
        " u'govern',\n",
        " u'grovel',\n",
        " u'ignore',\n",
        " u'involver',\n",
        " u'lienor',\n",
        " u'linger',\n",
        " u'longer',\n",
        " u'lovering',\n",
        " u'noiler',\n",
        " u'overling',\n",
        " u'region',\n",
        " u'renvoi',\n",
        " u'revolving',\n",
        " u'ringle',\n",
        " u'roving',\n",
        " u'violer',\n",
        " u'virole']"
       ]
      }
     ],
     "prompt_number": 485
    },
    {
     "cell_type": "code",
     "collapsed": false,
     "input": [
      "len([w for w in wordlist if len(w) >= 6\n",
      "                        and obligatory in w])"
     ],
     "language": "python",
     "metadata": {},
     "outputs": [
      {
       "metadata": {},
       "output_type": "pyout",
       "prompt_number": 487,
       "text": [
        "124042"
       ]
      }
     ],
     "prompt_number": 487
    },
    {
     "cell_type": "code",
     "collapsed": false,
     "input": [
      "names = nltk.corpus.names\n",
      "names"
     ],
     "language": "python",
     "metadata": {},
     "outputs": [
      {
       "metadata": {},
       "output_type": "pyout",
       "prompt_number": 488,
       "text": [
        "<WordListCorpusReader in u'/Users/re4lfl0w/nltk_data/corpora/names'>"
       ]
      }
     ],
     "prompt_number": 488
    },
    {
     "cell_type": "code",
     "collapsed": false,
     "input": [
      "names.fileids()"
     ],
     "language": "python",
     "metadata": {},
     "outputs": [
      {
       "metadata": {},
       "output_type": "pyout",
       "prompt_number": 489,
       "text": [
        "[u'female.txt', u'male.txt']"
       ]
      }
     ],
     "prompt_number": 489
    },
    {
     "cell_type": "code",
     "collapsed": false,
     "input": [
      "male_names = names.words('male.txt')\n",
      "male_names[::100]"
     ],
     "language": "python",
     "metadata": {},
     "outputs": [
      {
       "metadata": {},
       "output_type": "pyout",
       "prompt_number": 492,
       "text": [
        "[u'Aamir',\n",
        " u'Alwin',\n",
        " u'Austin',\n",
        " u'Bernd',\n",
        " u'Carlin',\n",
        " u'Clinton',\n",
        " u'Dean',\n",
        " u'Easton',\n",
        " u'Ethelred',\n",
        " u'Friedrick',\n",
        " u'Giovanni',\n",
        " u'Harley',\n",
        " u'Howard',\n",
        " u'Jeb',\n",
        " u'Judith',\n",
        " u'Lawrence',\n",
        " u'Maddy',\n",
        " u'Meredeth',\n",
        " u'Nathan',\n",
        " u'Orrin',\n",
        " u'Pincas',\n",
        " u'Reginauld',\n",
        " u'Ronny',\n",
        " u'Sebastiano',\n",
        " u'Sloan',\n",
        " u'Tan',\n",
        " u'Tom',\n",
        " u'Vasily',\n",
        " u'Werner',\n",
        " u'Yance']"
       ]
      }
     ],
     "prompt_number": 492
    },
    {
     "cell_type": "code",
     "collapsed": false,
     "input": [
      "len(male_names)"
     ],
     "language": "python",
     "metadata": {},
     "outputs": [
      {
       "metadata": {},
       "output_type": "pyout",
       "prompt_number": 497,
       "text": [
        "2943"
       ]
      }
     ],
     "prompt_number": 497
    },
    {
     "cell_type": "code",
     "collapsed": false,
     "input": [
      "female_names = names.words('female.txt')\n",
      "female_names[::100]"
     ],
     "language": "python",
     "metadata": {},
     "outputs": [
      {
       "metadata": {},
       "output_type": "pyout",
       "prompt_number": 493,
       "text": [
        "[u'Abagael',\n",
        " u'Aleda',\n",
        " u'Ambrosia',\n",
        " u'Annetta',\n",
        " u'Aubrey',\n",
        " u'Benedetta',\n",
        " u'Blithe',\n",
        " u'Callie',\n",
        " u'Caron',\n",
        " u'Charlena',\n",
        " u'Claresta',\n",
        " u'Corina',\n",
        " u'Danita',\n",
        " u'Deloris',\n",
        " u'Dorcas',\n",
        " u'Eilis',\n",
        " u'Emili',\n",
        " u'Evania',\n",
        " u'Florance',\n",
        " u'Genevra',\n",
        " u'Gloriane',\n",
        " u'Harmonia',\n",
        " u'Ibby',\n",
        " u'Jacquenetta',\n",
        " u'Jennette',\n",
        " u'Jolyn',\n",
        " u'Kamilah',\n",
        " u'Kattie',\n",
        " u'Klara',\n",
        " u'Laurianne',\n",
        " u'Lilas',\n",
        " u'Lorita',\n",
        " u'Madeline',\n",
        " u'Margit',\n",
        " u'Marya',\n",
        " u'Melly',\n",
        " u'Mirilla',\n",
        " u'Nata',\n",
        " u'Nolie',\n",
        " u'Pammy',\n",
        " u'Pris',\n",
        " u'Retha',\n",
        " u'Rosana',\n",
        " u'Sara-Ann',\n",
        " u'Sheila-Kathryn',\n",
        " u'Stacey',\n",
        " u'Tammi',\n",
        " u'Tilly',\n",
        " u'Valeria',\n",
        " u'Waneta',\n",
        " u'Zuzana']"
       ]
      }
     ],
     "prompt_number": 493
    },
    {
     "cell_type": "code",
     "collapsed": false,
     "input": [
      "len(female_names)"
     ],
     "language": "python",
     "metadata": {},
     "outputs": [
      {
       "metadata": {},
       "output_type": "pyout",
       "prompt_number": 498,
       "text": [
        "5001"
       ]
      }
     ],
     "prompt_number": 498
    },
    {
     "cell_type": "code",
     "collapsed": false,
     "input": [
      "[w for w in male_names if w in female_names][::50]"
     ],
     "language": "python",
     "metadata": {},
     "outputs": [
      {
       "metadata": {},
       "output_type": "pyout",
       "prompt_number": 496,
       "text": [
        "[u'Abbey',\n",
        " u'Cammy',\n",
        " u'Devin',\n",
        " u'Hannibal',\n",
        " u'Lane',\n",
        " u'Muffin',\n",
        " u'Scotty',\n",
        " u'Van']"
       ]
      }
     ],
     "prompt_number": 496
    },
    {
     "cell_type": "markdown",
     "metadata": {},
     "source": [
      "#### Figure 2-7. Conditional frequency distribution\n",
      "\n",
      "- This plot shows the number of female and male names ending with each letter of the alphabet\n",
      "- most names ending with a, e, or i are female;\n",
      "- names ending in h and l are equally to be male or female;\n",
      "- names ending in k, o, r, s, and t are likely to be male."
     ]
    },
    {
     "cell_type": "code",
     "collapsed": false,
     "input": [
      "cfd = nltk.ConditionalFreqDist((fileid, name[-1])\n",
      "                                for fileid in names.fileids()\n",
      "                                for name in names.words(fileid))\n",
      "cfd.plot()"
     ],
     "language": "python",
     "metadata": {},
     "outputs": [
      {
       "metadata": {},
       "output_type": "display_data",
       "png": "[encoded data removed]",
       "text": [
        "<matplotlib.figure.Figure at 0x1320a8290>"
       ]
      }
     ],
     "prompt_number": 501
    },
    {
     "cell_type": "markdown",
     "metadata": {},
     "source": [
      "### A Prononcing Dictionary\n",
      "\n",
      "- \uc57d\uac04 \ubd80\uc790 \uc885\ub958\uc758 \uc5b4\ud718 \uc790\uc6d0\uc740 \ud14c\uc774\ube14\n",
      "- \ub2e8\uc5b4\uc640 \uc57d\uac04\uc758 \uc18d\uc131\ub4e4\uc744 \uac01 \ud589\uc5d0\uc11c \ud3ec\ud568\ud560 \ub54c\n",
      "- NLTK\ub294 CMU Pronouncing Dictionary\ub97c \ucd94\uac00\ud55c\ub2e4.\n",
      "- \uadf8\uac83\uc740 \uc0ac\uc6a9\ud558\uae30 \uc704\ud574 speech synthesizers\uc5d0(\ud569\uc131\uae30) \uc758\ud574 \ub514\uc790\uc778\ub418\uc5c8\ub2e4.\n",
      "- \uac01 \ub2e8\uc5b4\ub4e4\uc744 \uc704\ud574 \uc774 \uc5b4\ud718\ub4e4\uc740 \uc74c\uc131 \ucf54\ub4dc \ub9ac\uc2a4\ud2b8\ub97c \uc81c\uacf5\ud55c\ub2e4.\n",
      "- \uac01 \ub300\uc870\ub418\ub294 \uc0ac\uc6b4\ub4dc\ub85c \ub77c\ubca8\uc744 \uad6c\ubcc4\ud55c\ub2e4. \n",
      "- [Arpabet - Wikipedia, the free encyclopedia](http://en.wikipedia.org/wiki/Arpabet)\n"
     ]
    },
    {
     "cell_type": "code",
     "collapsed": false,
     "input": [
      "entries = nltk.corpus.cmudict.entries()"
     ],
     "language": "python",
     "metadata": {},
     "outputs": [],
     "prompt_number": 502
    },
    {
     "cell_type": "code",
     "collapsed": false,
     "input": [
      "len(entries)"
     ],
     "language": "python",
     "metadata": {},
     "outputs": [
      {
       "metadata": {},
       "output_type": "pyout",
       "prompt_number": 503,
       "text": [
        "133737"
       ]
      }
     ],
     "prompt_number": 503
    },
    {
     "cell_type": "code",
     "collapsed": false,
     "input": [
      "for entry in entries[39943:39951]:\n",
      "    print entry"
     ],
     "language": "python",
     "metadata": {},
     "outputs": [
      {
       "output_type": "stream",
       "stream": "stdout",
       "text": [
        "(u'explorer', [u'IH0', u'K', u'S', u'P', u'L', u'AO1', u'R', u'ER0'])\n",
        "(u'explorers', [u'IH0', u'K', u'S', u'P', u'L', u'AO1', u'R', u'ER0', u'Z'])\n",
        "(u'explores', [u'IH0', u'K', u'S', u'P', u'L', u'AO1', u'R', u'Z'])\n",
        "(u'exploring', [u'IH0', u'K', u'S', u'P', u'L', u'AO1', u'R', u'IH0', u'NG'])\n",
        "(u'explosion', [u'IH0', u'K', u'S', u'P', u'L', u'OW1', u'ZH', u'AH0', u'N'])\n",
        "(u'explosions', [u'IH0', u'K', u'S', u'P', u'L', u'OW1', u'ZH', u'AH0', u'N', u'Z'])\n",
        "(u'explosive', [u'IH0', u'K', u'S', u'P', u'L', u'OW1', u'S', u'IH0', u'V'])\n",
        "(u'explosively', [u'EH2', u'K', u'S', u'P', u'L', u'OW1', u'S', u'IH0', u'V', u'L', u'IY0'])\n"
       ]
      }
     ],
     "prompt_number": 504
    },
    {
     "cell_type": "markdown",
     "metadata": {},
     "source": [
      "- \uac01 \ub2e8\uc5b4\ub4e4\uc744 \uc704\ud574, \uc5b4\ud718\ub294 \ubaa8\ub4e0 \ubaa9\ub85d\uc758 \uc74c\uc131 \ucf54\ub4dc\ub97c \uc81c\uacf5\ud55c\ub2e4.\n",
      "- \uba85\ud655\ud55c \ub77c\ubca8 \ub300\uc870\ub418\ub294 \uc0ac\uc6b4\ub4dc\ub97c \uc704\ud574: phones\n",
      "- fire: 2 \ubc1c\uc74c: F AY1 R, F AY1 ERO\n",
      "- The symbols in the CMU Pronouncing Dictionary \n",
      "- http://en.wikipedia.org/wiki/Arpabet\n",
      "\n",
      "\n",
      "- \uac01 entry\ub294 2\ubd80\ubd84\uc73c\ub85c \uad6c\uc131\ub410\ub2e4. \n",
      "- \uac01 \uac1c\uc778\uc801\uc73c\ub85c for\ubb38\uc744 \uc704\ud574 \uc880 \ub354 \ubcf5\uc7a1\ud55c \ubc84\uc804\uc744 \uc0ac\uc6a9\ud574\uc11c \uc9c4\ud589\ud560 \uc218 \uc788\ub2e4.\n",
      "- \ub8e8\ud504\ub97c \ub3cc\uba74\uc11c \uccab \ubc88\uc9f8 \ubd80\ubd84\uc740 word, \ub450\ubc88\uc9f8 \ubd80\ubd84\uc740 pron"
     ]
    },
    {
     "cell_type": "code",
     "collapsed": false,
     "input": [
      "for word, pron in entries:\n",
      "    if len(pron) == 3:\n",
      "        # ph1, ph2, ph3\uac00 \ubb50\uc57c??\n",
      "        ph1, ph2, ph3 = pron\n",
      "        if ph1 == 'P' and ph3 == 'T':\n",
      "            print word, ph2"
     ],
     "language": "python",
     "metadata": {},
     "outputs": [
      {
       "output_type": "stream",
       "stream": "stdout",
       "text": [
        "pait EY1\n",
        "pat AE1\n",
        "pate EY1\n",
        "patt AE1\n",
        "peart ER1\n",
        "peat IY1\n",
        "peet IY1\n",
        "peete IY1\n",
        "pert ER1\n",
        "pet EH1\n",
        "pete IY1\n",
        "pett EH1\n",
        "piet IY1\n",
        "piette IY1\n",
        "pit IH1\n",
        "pitt IH1\n",
        "pot AA1\n",
        "pote OW1\n",
        "pott AA1\n",
        "pout AW1\n",
        "puett UW1\n",
        "purt ER1\n",
        "put UH1\n",
        "putt AH1\n"
       ]
      }
     ],
     "prompt_number": 507
    },
    {
     "cell_type": "markdown",
     "metadata": {},
     "source": [
      "- \ubcf4\uc5ec\uc8fc\ub294 \ud504\ub85c\uadf8\ub7a8\uc740 3 phone\ub85c \uad6c\uc131\ub418\uc5b4 \uc788\ub294 \uc5b4\ud718\uac00 \ubcf4\uc5ec\uc8fc\ub294 \uac83\uc744 \uc2a4\uce94\ud588\ub2e4."
     ]
    },
    {
     "cell_type": "code",
     "collapsed": false,
     "input": [
      "syllable = ['N', 'IHO', 'K', 'S']"
     ],
     "language": "python",
     "metadata": {},
     "outputs": [],
     "prompt_number": 508
    },
    {
     "cell_type": "code",
     "collapsed": false,
     "input": [
      "# Why? \uc548 \ub098\uc624\ub294\uac70\uc57c?\n",
      "[word for word, pron in entries if pron[-4:] == syllable]"
     ],
     "language": "python",
     "metadata": {},
     "outputs": [
      {
       "metadata": {},
       "output_type": "pyout",
       "prompt_number": 539,
       "text": [
        "[]"
       ]
      }
     ],
     "prompt_number": 539
    },
    {
     "cell_type": "code",
     "collapsed": false,
     "input": [
      "entries[10]"
     ],
     "language": "python",
     "metadata": {},
     "outputs": [
      {
       "metadata": {},
       "output_type": "pyout",
       "prompt_number": 515,
       "text": [
        "(u'aamodt', [u'AA1', u'M', u'AH0', u'T'])"
       ]
      }
     ],
     "prompt_number": 515
    },
    {
     "cell_type": "code",
     "collapsed": false,
     "input": [
      "entries[10][-1:]"
     ],
     "language": "python",
     "metadata": {},
     "outputs": [
      {
       "metadata": {},
       "output_type": "pyout",
       "prompt_number": 523,
       "text": [
        "([u'AA1', u'M', u'AH0', u'T'],)"
       ]
      }
     ],
     "prompt_number": 523
    },
    {
     "cell_type": "code",
     "collapsed": false,
     "input": [
      "entries[10][1][-2:]"
     ],
     "language": "python",
     "metadata": {},
     "outputs": [
      {
       "metadata": {},
       "output_type": "pyout",
       "prompt_number": 531,
       "text": [
        "[u'AH0', u'T']"
       ]
      }
     ],
     "prompt_number": 531
    },
    {
     "cell_type": "code",
     "collapsed": false,
     "input": [
      "entries[10][1][-2]"
     ],
     "language": "python",
     "metadata": {},
     "outputs": [
      {
       "metadata": {},
       "output_type": "pyout",
       "prompt_number": 532,
       "text": [
        "u'AH0'"
       ]
      }
     ],
     "prompt_number": 532
    },
    {
     "cell_type": "code",
     "collapsed": false,
     "input": [
      "entries[10][1][-2:] == 'AH0'"
     ],
     "language": "python",
     "metadata": {},
     "outputs": [
      {
       "metadata": {},
       "output_type": "pyout",
       "prompt_number": 534,
       "text": [
        "False"
       ]
      }
     ],
     "prompt_number": 534
    },
    {
     "cell_type": "code",
     "collapsed": false,
     "input": [
      "entries[10][1][-2] == 'AH0'"
     ],
     "language": "python",
     "metadata": {},
     "outputs": [
      {
       "metadata": {},
       "output_type": "pyout",
       "prompt_number": 533,
       "text": [
        "True"
       ]
      }
     ],
     "prompt_number": 533
    },
    {
     "cell_type": "code",
     "collapsed": false,
     "input": [
      "entries[10][-4:]"
     ],
     "language": "python",
     "metadata": {},
     "outputs": [
      {
       "metadata": {},
       "output_type": "pyout",
       "prompt_number": 516,
       "text": [
        "(u'aamodt', [u'AA1', u'M', u'AH0', u'T'])"
       ]
      }
     ],
     "prompt_number": 516
    },
    {
     "cell_type": "code",
     "collapsed": false,
     "input": [
      "[w for w, pron in entries if pron[-1] == 'M' and w[-1] == 'n']"
     ],
     "language": "python",
     "metadata": {},
     "outputs": [
      {
       "metadata": {},
       "output_type": "pyout",
       "prompt_number": 517,
       "text": [
        "[u'autumn', u'column', u'condemn', u'damn', u'goddamn', u'hymn', u'solemn']"
       ]
      }
     ],
     "prompt_number": 517
    },
    {
     "cell_type": "code",
     "collapsed": false,
     "input": [
      "sorted(set(w[:2] for w, pron in entries if pron[0] == 'N' and w[0] != 'n'))"
     ],
     "language": "python",
     "metadata": {},
     "outputs": [
      {
       "metadata": {},
       "output_type": "pyout",
       "prompt_number": 540,
       "text": [
        "[u'gn', u'kn', u'mn', u'pn']"
       ]
      }
     ],
     "prompt_number": 540
    },
    {
     "cell_type": "markdown",
     "metadata": {},
     "source": [
      "#### pron, phone??\n",
      "\n",
      "- \ubb34\uc2a8 \ub73b\uc774\ub0d0?\n",
      "- 0, 1, 0, 2, 0 \uc774\uac74 \ub610 \ubb34\uc2a8 \ub73b\uc774\uace0?\n",
      "- 1: primary stress\n",
      "- 2: secondary stress\n",
      "- 0: no stress\n",
      "- \uac15\uc138??"
     ]
    },
    {
     "cell_type": "code",
     "collapsed": false,
     "input": [
      "def stress(pron):\n",
      "    ''' input -> u'AO1', u'R', u'ER0', u'Z'\n",
      "    \uac01 A01, R, ER0 \ub9c8\ub2e4 \ub3cc\uc544\uac00\uba74\uc11c \uc774\uac8c \uc22b\uc790\uc778\uc9c0 \ud655\uc778\n",
      "    \uc22b\uc790\uc778 \uac83\ub9cc \ucd9c\ub825\n",
      "    '''\n",
      "    return [char for phone in pron for char in phone if char.isdigit()]"
     ],
     "language": "python",
     "metadata": {},
     "outputs": [],
     "prompt_number": 541
    },
    {
     "cell_type": "code",
     "collapsed": false,
     "input": [
      "len(entries)"
     ],
     "language": "python",
     "metadata": {},
     "outputs": [
      {
       "metadata": {},
       "output_type": "pyout",
       "prompt_number": 550,
       "text": [
        "133737"
       ]
      }
     ],
     "prompt_number": 550
    },
    {
     "cell_type": "code",
     "collapsed": false,
     "input": [
      "len([w for w, pron in entries if stress(pron) == ['0', '1', '0', '2', '0']])"
     ],
     "language": "python",
     "metadata": {},
     "outputs": [
      {
       "metadata": {},
       "output_type": "pyout",
       "prompt_number": 551,
       "text": [
        "589"
       ]
      }
     ],
     "prompt_number": 551
    },
    {
     "cell_type": "code",
     "collapsed": false,
     "input": [
      "[w for w, pron in entries if stress(pron) == ['0', '1', '0', '2', '0']][::50]"
     ],
     "language": "python",
     "metadata": {},
     "outputs": [
      {
       "metadata": {},
       "output_type": "pyout",
       "prompt_number": 546,
       "text": [
        "[u'abbreviated',\n",
        " u'antagonisms',\n",
        " u'collaborators',\n",
        " u'corroborating',\n",
        " u'discretionary',\n",
        " u'evacuated',\n",
        " u'extenuating',\n",
        " u'incinerated',\n",
        " u\"investigators'\",\n",
        " u'originated',\n",
        " u'reallocating',\n",
        " u'revelatory']"
       ]
      }
     ],
     "prompt_number": 546
    },
    {
     "cell_type": "code",
     "collapsed": false,
     "input": [
      "[w for w, pron in entries if stress(pron) == ['0', '2', '0', '1', '0']][::50]"
     ],
     "language": "python",
     "metadata": {},
     "outputs": [
      {
       "metadata": {},
       "output_type": "pyout",
       "prompt_number": 549,
       "text": [
        "[u'abbreviation',\n",
        " u'aristocratic',\n",
        " u'cooperations',\n",
        " u'edizione',\n",
        " u'extermination',\n",
        " u'instantiation',\n",
        " u'navratilova',\n",
        " u'repatriation']"
       ]
      }
     ],
     "prompt_number": 549
    },
    {
     "cell_type": "markdown",
     "metadata": {},
     "source": [
      "- stress(): list comprehension. \uc911\ubcf5 nested for loop. \ub9ce\uc740 \uacbd\ud5d8\uc744 \ud588\ub2e4.\n",
      "- p words consisting of three sounds\n",
      "- group them according to their first and last sounds"
     ]
    },
    {
     "cell_type": "code",
     "collapsed": false,
     "input": [
      "p3 = [(pron[0] + '-' + pron[2], word)\n",
      "      for (word, pron) in entries\n",
      "      if pron[0] == 'P' and len(pron) == 3]"
     ],
     "language": "python",
     "metadata": {},
     "outputs": [],
     "prompt_number": 553
    },
    {
     "cell_type": "code",
     "collapsed": false,
     "input": [
      "p3[::20]"
     ],
     "language": "python",
     "metadata": {},
     "outputs": [
      {
       "metadata": {},
       "output_type": "pyout",
       "prompt_number": 556,
       "text": [
        "[(u'P-P', u'paap'),\n",
        " (u'P-N', u'pain'),\n",
        " (u'P-P', u'pape'),\n",
        " (u'P-Z', u'pause'),\n",
        " (u'P-S', u'pearse'),\n",
        " (u'P-L', u'peil'),\n",
        " (u'P-S', u'perse'),\n",
        " (u'P-K', u'pick'),\n",
        " (u'P-L', u'pille'),\n",
        " (u'P-UW1', u'plew'),\n",
        " (u'P-L', u'pohl'),\n",
        " (u'P-P', u'pope'),\n",
        " (u'P-ER0', u'power'),\n",
        " (u'P-Z', u'p.s'),\n",
        " (u'P-S', u'pus')]"
       ]
      }
     ],
     "prompt_number": 556
    },
    {
     "cell_type": "code",
     "collapsed": false,
     "input": [
      "cfd = nltk.ConditionalFreqDist(p3)"
     ],
     "language": "python",
     "metadata": {},
     "outputs": [],
     "prompt_number": 557
    },
    {
     "cell_type": "code",
     "collapsed": false,
     "input": [
      "cfd.conditions()"
     ],
     "language": "python",
     "metadata": {},
     "outputs": [
      {
       "metadata": {},
       "output_type": "pyout",
       "prompt_number": 560,
       "text": [
        "[u'P-T',\n",
        " u'P-V',\n",
        " u'P-P',\n",
        " u'P-TH',\n",
        " u'P-R',\n",
        " u'P-S',\n",
        " u'P-Z',\n",
        " u'P-D',\n",
        " u'P-L',\n",
        " u'P-F',\n",
        " u'P-G',\n",
        " u'P-B',\n",
        " u'P-M',\n",
        " u'P-ER1',\n",
        " u'P-ER0',\n",
        " u'P-N',\n",
        " u'P-K',\n",
        " u'P-UW1',\n",
        " u'P-AY1',\n",
        " u'P-OW0',\n",
        " u'P-OW1',\n",
        " u'P-AH0',\n",
        " u'P-EY1',\n",
        " u'P-SH',\n",
        " u'P-OY1',\n",
        " u'P-NG',\n",
        " u'P-AW1',\n",
        " u'P-JH',\n",
        " u'P-IY1',\n",
        " u'P-CH',\n",
        " u'P-IY0',\n",
        " u'P-AA1']"
       ]
      }
     ],
     "prompt_number": 560
    },
    {
     "cell_type": "code",
     "collapsed": false,
     "input": [
      "for template in cfd.conditions():\n",
      "    if len(cfd[template]) > 10:\n",
      "        words = cfd[template].keys()\n",
      "        wordlist = ' '.join(words)\n",
      "        print template, wordlist[:66] + '...'"
     ],
     "language": "python",
     "metadata": {},
     "outputs": [
      {
       "output_type": "stream",
       "stream": "stdout",
       "text": [
        "P-T pot puett pit pete putt pat purt pet peart pott pett pait pert pot...\n",
        "P-P pap paap pipp paup pape pup pep poop pop pipe paape popp pip peep ...\n",
        "P-R paar poor par poore pear pare pour peer pore parr por pair porr pi...\n",
        "P-S pearse piece posts pasts peace perce pos pers pace puss pesce pass...\n",
        "P-Z pays p.s pao's pais paws p.'s pas pez paz pei's pose poise peas pa...\n",
        "P-L pil poehl pille pehl pol pall pohl pahl paul perl pale paille perl...\n",
        "P-N paine payne pon pain pin pawn pinn pun pine paign pen pyne pane pe...\n",
        "P-K pik peek pic pique paque polk perc poke perk pac pock poch purk pa...\n",
        "P-UW1 plew pshew plue peugh pew pru pugh peru prugh prue prew...\n",
        "P-CH perch puche poche peach petsche poach pietsch pautsch piche petsch...\n"
       ]
      }
     ],
     "prompt_number": 563
    },
    {
     "cell_type": "code",
     "collapsed": false,
     "input": [
      "prondict = nltk.corpus.cmudict.dict()"
     ],
     "language": "python",
     "metadata": {},
     "outputs": [],
     "prompt_number": 565
    },
    {
     "cell_type": "code",
     "collapsed": false,
     "input": [
      "len(prondict)"
     ],
     "language": "python",
     "metadata": {},
     "outputs": [
      {
       "metadata": {},
       "output_type": "pyout",
       "prompt_number": 566,
       "text": [
        "123455"
       ]
      }
     ],
     "prompt_number": 566
    },
    {
     "cell_type": "code",
     "collapsed": false,
     "input": [
      "prondict['fire']"
     ],
     "language": "python",
     "metadata": {},
     "outputs": [
      {
       "metadata": {},
       "output_type": "pyout",
       "prompt_number": 567,
       "text": [
        "[[u'F', u'AY1', u'ER0'], [u'F', u'AY1', u'R']]"
       ]
      }
     ],
     "prompt_number": 567
    },
    {
     "cell_type": "code",
     "collapsed": false,
     "input": [
      "# \uc5c6\ub294 \ub2e8\uc5b4\ub294 \ucd94\uac00\ud574 \uc904 \uc218 \uc788\ub2e4.\n",
      "prondict['blog']"
     ],
     "language": "python",
     "metadata": {},
     "outputs": [
      {
       "ename": "KeyError",
       "evalue": "'blog'",
       "output_type": "pyerr",
       "traceback": [
        "\u001b[0;31m---------------------------------------------------------------------------\u001b[0m\n\u001b[0;31mKeyError\u001b[0m                                  Traceback (most recent call last)",
        "\u001b[0;32m<ipython-input-717-2d704ac4e5ec>\u001b[0m in \u001b[0;36m<module>\u001b[0;34m()\u001b[0m\n\u001b[1;32m      1\u001b[0m \u001b[0;31m# \uc5c6\ub294 \ub2e8\uc5b4\ub294 \ucd94\uac00\ud574 \uc904 \uc218 \uc788\ub2e4.\u001b[0m\u001b[0;34m\u001b[0m\u001b[0;34m\u001b[0m\u001b[0m\n\u001b[0;32m----> 2\u001b[0;31m \u001b[0mprondict\u001b[0m\u001b[0;34m[\u001b[0m\u001b[0;34m'blog'\u001b[0m\u001b[0;34m]\u001b[0m\u001b[0;34m\u001b[0m\u001b[0m\n\u001b[0m",
        "\u001b[0;31mKeyError\u001b[0m: 'blog'"
       ]
      }
     ],
     "prompt_number": 717
    },
    {
     "cell_type": "code",
     "collapsed": false,
     "input": [
      "prondict['blog'] = [['B', 'L', 'AA1', 'G']]\n",
      "prondict['blog']"
     ],
     "language": "python",
     "metadata": {},
     "outputs": [
      {
       "metadata": {},
       "output_type": "pyout",
       "prompt_number": 569,
       "text": [
        "[['B', 'L', 'AA1', 'G']]"
       ]
      }
     ],
     "prompt_number": 569
    },
    {
     "cell_type": "code",
     "collapsed": false,
     "input": [
      "text = ['natural', 'language', 'processing']"
     ],
     "language": "python",
     "metadata": {},
     "outputs": [],
     "prompt_number": 570
    },
    {
     "cell_type": "markdown",
     "metadata": {},
     "source": [
      "- text\ub97c \uac00\uacf5\ud558\ub294 \uac83\uc758 \uc5b8\uc5b4\uc801 \uc790\uc6d0\uc744 \uc0ac\uc6a9\ud560 \uc218 \uc788\ub2e4. \uc57d\uac04\uc758 \uc5b8\uc5b4\uc801 \uc18d\uc131\uc744 \uac00\uc9c0\uace0 \ud544\ud130\ub9c1 \uac00\ub2a5(\ub9c8\uce58 \uba85\uc0ac\ub4e4\ucc98\ub7fc) \ub610\ub294 \ud14d\uc2a4\ud2b8\uc758 \ubaa8\ub4e0 \ub2e8\uc5b4\uc5d0 \ub9e4\ud551\n",
      "- \uc608\ub97c \ub4e4\uc5b4 text-to-speech function\uc740 \ubc1c\uc74c \uc0ac\uc804 \uc548\uc5d0\uc11c \uac01 \ub2e8\uc5b4\ub4e4\uc758 \ud14d\uc2a4\ud2b8\ub97c \ubcf8\ub2e4."
     ]
    },
    {
     "cell_type": "code",
     "collapsed": false,
     "input": [
      "[ph for w in text for ph in prondict[w][0]]"
     ],
     "language": "python",
     "metadata": {},
     "outputs": [
      {
       "metadata": {},
       "output_type": "pyout",
       "prompt_number": 571,
       "text": [
        "[u'N',\n",
        " u'AE1',\n",
        " u'CH',\n",
        " u'ER0',\n",
        " u'AH0',\n",
        " u'L',\n",
        " u'L',\n",
        " u'AE1',\n",
        " u'NG',\n",
        " u'G',\n",
        " u'W',\n",
        " u'AH0',\n",
        " u'JH',\n",
        " u'P',\n",
        " u'R',\n",
        " u'AA1',\n",
        " u'S',\n",
        " u'EH0',\n",
        " u'S',\n",
        " u'IH0',\n",
        " u'NG']"
       ]
      }
     ],
     "prompt_number": 571
    },
    {
     "cell_type": "markdown",
     "metadata": {},
     "source": [
      "### Comparative Wordlists\n",
      "\n",
      "- comparative wordlist: \ud45c\ub85c \uc815\ub9ac\ub41c \uc5b4\ud718\ub294 \ube44\uad50\uac00\ub2a5?\n",
      "- \uc5ec\ub7ec\uac00\uc9c0 \uc5b8\uc5b4\ub4e4\uc5d0\uc11c Swadesh wordlists: 200\uac1c\uc758 \uacf5\ud1b5 \ub2e8\uc5b4\ub4e4\uc758 \ub9ac\uc2a4\ud2b8\n",
      "- ISO 639 two-letter code"
     ]
    },
    {
     "cell_type": "code",
     "collapsed": false,
     "input": [
      "from nltk.corpus import swadesh"
     ],
     "language": "python",
     "metadata": {},
     "outputs": [],
     "prompt_number": 572
    },
    {
     "cell_type": "code",
     "collapsed": false,
     "input": [
      "swadesh.fileids()"
     ],
     "language": "python",
     "metadata": {},
     "outputs": [
      {
       "metadata": {},
       "output_type": "pyout",
       "prompt_number": 573,
       "text": [
        "[u'be',\n",
        " u'bg',\n",
        " u'bs',\n",
        " u'ca',\n",
        " u'cs',\n",
        " u'cu',\n",
        " u'de',\n",
        " u'en',\n",
        " u'es',\n",
        " u'fr',\n",
        " u'hr',\n",
        " u'it',\n",
        " u'la',\n",
        " u'mk',\n",
        " u'nl',\n",
        " u'pl',\n",
        " u'pt',\n",
        " u'ro',\n",
        " u'ru',\n",
        " u'sk',\n",
        " u'sl',\n",
        " u'sr',\n",
        " u'sw',\n",
        " u'uk']"
       ]
      }
     ],
     "prompt_number": 573
    },
    {
     "cell_type": "code",
     "collapsed": false,
     "input": [
      "len(swadesh.words('en'))"
     ],
     "language": "python",
     "metadata": {},
     "outputs": [
      {
       "metadata": {},
       "output_type": "pyout",
       "prompt_number": 712,
       "text": [
        "207"
       ]
      }
     ],
     "prompt_number": 712
    },
    {
     "cell_type": "code",
     "collapsed": false,
     "input": [
      "swadesh.words('en')[:30]"
     ],
     "language": "python",
     "metadata": {},
     "outputs": [
      {
       "metadata": {},
       "output_type": "pyout",
       "prompt_number": 575,
       "text": [
        "[u'I',\n",
        " u'you (singular), thou',\n",
        " u'he',\n",
        " u'we',\n",
        " u'you (plural)',\n",
        " u'they',\n",
        " u'this',\n",
        " u'that',\n",
        " u'here',\n",
        " u'there',\n",
        " u'who',\n",
        " u'what',\n",
        " u'where',\n",
        " u'when',\n",
        " u'how',\n",
        " u'not',\n",
        " u'all',\n",
        " u'many',\n",
        " u'some',\n",
        " u'few',\n",
        " u'other',\n",
        " u'one',\n",
        " u'two',\n",
        " u'three',\n",
        " u'four',\n",
        " u'five',\n",
        " u'big',\n",
        " u'long',\n",
        " u'wide',\n",
        " u'thick']"
       ]
      }
     ],
     "prompt_number": 575
    },
    {
     "cell_type": "markdown",
     "metadata": {},
     "source": [
      "- \ub2e4\uc591\ud55c \uc5b8\uc5b4\ub4e4\uc5d0\uc11c entries() \uba54\uc18c\ub4dc\ub97c \uc0ac\uc6a9\ud558\uba70 \ub2e8\uc5b4\ub4e4\uc758 \uc5b4\uc6d0\uc5d0 \uc811\uadfc \uac00\ub2a5. \uc5b8\uc5b4\ub4e4\uc758 \ubaa9\ub85d\uc744 \uc120\ud0dd\ud55c\ub2e4.\n",
      "- \uac04\ub2e8\ud55c \uc0ac\uc804\uc73c\ub85c \ubcc0\ud654\ud560 \uc218 \uc788\ub2e4."
     ]
    },
    {
     "cell_type": "code",
     "collapsed": false,
     "input": [
      "fr2en = swadesh.entries(['fr', 'en'])\n",
      "fr2en[:30]"
     ],
     "language": "python",
     "metadata": {},
     "outputs": [
      {
       "metadata": {},
       "output_type": "pyout",
       "prompt_number": 577,
       "text": [
        "[(u'je', u'I'),\n",
        " (u'tu, vous', u'you (singular), thou'),\n",
        " (u'il', u'he'),\n",
        " (u'nous', u'we'),\n",
        " (u'vous', u'you (plural)'),\n",
        " (u'ils, elles', u'they'),\n",
        " (u'ceci', u'this'),\n",
        " (u'cela', u'that'),\n",
        " (u'ici', u'here'),\n",
        " (u'l\\xe0', u'there'),\n",
        " (u'qui', u'who'),\n",
        " (u'quoi', u'what'),\n",
        " (u'o\\xf9', u'where'),\n",
        " (u'quand', u'when'),\n",
        " (u'comment', u'how'),\n",
        " (u'ne...pas', u'not'),\n",
        " (u'tout', u'all'),\n",
        " (u'plusieurs', u'many'),\n",
        " (u'quelques', u'some'),\n",
        " (u'peu', u'few'),\n",
        " (u'autre', u'other'),\n",
        " (u'un', u'one'),\n",
        " (u'deux', u'two'),\n",
        " (u'trois', u'three'),\n",
        " (u'quatre', u'four'),\n",
        " (u'cinq', u'five'),\n",
        " (u'grand', u'big'),\n",
        " (u'long', u'long'),\n",
        " (u'large', u'wide'),\n",
        " (u'\\xe9pais', u'thick')]"
       ]
      }
     ],
     "prompt_number": 577
    },
    {
     "cell_type": "code",
     "collapsed": false,
     "input": [
      "translate = dict(fr2en)"
     ],
     "language": "python",
     "metadata": {},
     "outputs": [],
     "prompt_number": 578
    },
    {
     "cell_type": "code",
     "collapsed": false,
     "input": [
      "translate['chien']"
     ],
     "language": "python",
     "metadata": {},
     "outputs": [
      {
       "metadata": {},
       "output_type": "pyout",
       "prompt_number": 579,
       "text": [
        "u'dog'"
       ]
      }
     ],
     "prompt_number": 579
    },
    {
     "cell_type": "code",
     "collapsed": false,
     "input": [
      "translate['jeter']"
     ],
     "language": "python",
     "metadata": {},
     "outputs": [
      {
       "metadata": {},
       "output_type": "pyout",
       "prompt_number": 580,
       "text": [
        "u'throw'"
       ]
      }
     ],
     "prompt_number": 580
    },
    {
     "cell_type": "markdown",
     "metadata": {},
     "source": [
      "- 2\uac1c \uc0ac\uc804\uc744 \ucd94\uac00\ud574 \ubcf4\uc790"
     ]
    },
    {
     "cell_type": "code",
     "collapsed": false,
     "input": [
      "de2en = swadesh.entries(['de', 'en'])"
     ],
     "language": "python",
     "metadata": {},
     "outputs": [],
     "prompt_number": 583
    },
    {
     "cell_type": "code",
     "collapsed": false,
     "input": [
      "es2en = swadesh.entries(['es', 'en'])"
     ],
     "language": "python",
     "metadata": {},
     "outputs": [],
     "prompt_number": 582
    },
    {
     "cell_type": "code",
     "collapsed": false,
     "input": [
      "translate.update(dict(de2en))"
     ],
     "language": "python",
     "metadata": {},
     "outputs": [],
     "prompt_number": 584
    },
    {
     "cell_type": "code",
     "collapsed": false,
     "input": [
      "translate.update(dict(es2en))"
     ],
     "language": "python",
     "metadata": {},
     "outputs": [],
     "prompt_number": 585
    },
    {
     "cell_type": "code",
     "collapsed": false,
     "input": [
      "translate['Hund']"
     ],
     "language": "python",
     "metadata": {},
     "outputs": [
      {
       "metadata": {},
       "output_type": "pyout",
       "prompt_number": 586,
       "text": [
        "u'dog'"
       ]
      }
     ],
     "prompt_number": 586
    },
    {
     "cell_type": "code",
     "collapsed": false,
     "input": [
      "translate['perro']"
     ],
     "language": "python",
     "metadata": {},
     "outputs": [
      {
       "metadata": {},
       "output_type": "pyout",
       "prompt_number": 588,
       "text": [
        "u'dog'"
       ]
      }
     ],
     "prompt_number": 588
    },
    {
     "cell_type": "markdown",
     "metadata": {},
     "source": [
      "- \ub2e4\uc591\ud55c Germanic\uacfc Romance \uc5b8\uc5b4\uc5d0\uc11c \ub2e8\uc5b4\ub4e4\uc744 \ube44\uad50\ud560 \uc218 \uc788\ub2e4."
     ]
    },
    {
     "cell_type": "code",
     "collapsed": false,
     "input": [
      "languages = ['en', 'de', 'nl', 'es', 'fr', 'pt', 'la']"
     ],
     "language": "python",
     "metadata": {},
     "outputs": [],
     "prompt_number": 589
    },
    {
     "cell_type": "code",
     "collapsed": false,
     "input": [
      "for i in [139, 140, 141, 142]:\n",
      "    print swadesh.entries(languages)[i]"
     ],
     "language": "python",
     "metadata": {},
     "outputs": [
      {
       "output_type": "stream",
       "stream": "stdout",
       "text": [
        "(u'say', u'sagen', u'zeggen', u'decir', u'dire', u'dizer', u'dicere')\n",
        "(u'sing', u'singen', u'zingen', u'cantar', u'chanter', u'cantar', u'canere')\n",
        "(u'play', u'spielen', u'spelen', u'jugar', u'jouer', u'jogar, brincar', u'ludere')\n",
        "(u'float', u'schweben', u'zweven', u'flotar', u'flotter', u'flutuar, boiar', u'fluctuare')\n"
       ]
      }
     ],
     "prompt_number": 590
    },
    {
     "cell_type": "markdown",
     "metadata": {},
     "source": [
      "- ['spielen'\uc758 \uac80\uc0c9\uacb0\uacfc : \ub124\uc774\ubc84 \uc0ac\uc804](http://dic.naver.com/search.nhn?query=spielen)"
     ]
    },
    {
     "cell_type": "markdown",
     "metadata": {},
     "source": [
      "### Shoebox and Toolbox Lexicons\n",
      "\n",
      "- sing most popular tool\uc5d0 \uc0ac\uc6a9\ub418\ub294 \uc5b8\uc5b4\uc801\uc5d0 \uc758\ud574 \uc870\uc791\ud558\ub294 \ub370\uc774\ud130\ub4e4\uc744 \uc704\ud55c \uac83\uc774 Toolbox\ub2e4.\n",
      "- http://www.sil.org/computing/toolbox\n",
      "- Toolbox\ub294 entries\uc758 \ubaa8\uc74c\uc73c\ub85c \uad6c\uc131\ub418\uc5b4 \uc788\ub2e4."
     ]
    },
    {
     "cell_type": "code",
     "collapsed": false,
     "input": [
      "from nltk.corpus import toolbox"
     ],
     "language": "python",
     "metadata": {},
     "outputs": [],
     "prompt_number": 591
    },
    {
     "cell_type": "code",
     "collapsed": false,
     "input": [
      "toolbox.entries('rotokas.dic')[:3]"
     ],
     "language": "python",
     "metadata": {},
     "outputs": [
      {
       "metadata": {},
       "output_type": "pyout",
       "prompt_number": 600,
       "text": [
        "[(u'kaa',\n",
        "  [(u'ps', u'V'),\n",
        "   (u'pt', u'A'),\n",
        "   (u'ge', u'gag'),\n",
        "   (u'tkp', u'nek i pas'),\n",
        "   (u'dcsv', u'true'),\n",
        "   (u'vx', u'1'),\n",
        "   (u'sc', u'???'),\n",
        "   (u'dt', u'29/Oct/2005'),\n",
        "   (u'ex', u'Apoka ira kaaroi aioa-ia reoreopaoro.'),\n",
        "   (u'xp', u'Kaikai i pas long nek bilong Apoka bikos em i kaikai na toktok.'),\n",
        "   (u'xe', u'Apoka is gagging from food while talking.')]),\n",
        " (u'kaa',\n",
        "  [(u'ps', u'V'),\n",
        "   (u'pt', u'B'),\n",
        "   (u'ge', u'strangle'),\n",
        "   (u'tkp', u'pasim nek'),\n",
        "   (u'arg', u'O'),\n",
        "   (u'vx', u'2'),\n",
        "   (u'dt', u'07/Oct/2006'),\n",
        "   (u'ex', u'Rera rauroro rera kaarevoi.'),\n",
        "   (u'xp', u'Em i holim pas em na nekim em.'),\n",
        "   (u'xe', u'He is holding him and strangling him.'),\n",
        "   (u'ex',\n",
        "    u'Iroiro-ia oirato okoearo kaaivoi uvare rirovira kaureoparoveira.'),\n",
        "   (u'xp',\n",
        "    u'Ol i pasim nek bilong man long rop bikos em i save bikhet tumas.'),\n",
        "   (u'xe',\n",
        "    u\"They strangled the man's neck with rope because he was very stubborn and arrogant.\"),\n",
        "   (u'ex',\n",
        "    u'Oirato okoearo kaaivoi iroiro-ia. Uva viapau uvuiparoi ra vovouparo uva kopiiroi.'),\n",
        "   (u'xp',\n",
        "    u'Ol i pasim nek bilong man long rop. Olsem na em i no pulim win olsem na em i dai.'),\n",
        "   (u'xe',\n",
        "    u\"They strangled the man's neck with a rope. And he couldn't breathe and he died.\")]),\n",
        " (u'kaa',\n",
        "  [(u'ps', u'N'),\n",
        "   (u'pt', u'MASC'),\n",
        "   (u'cl', u'isi'),\n",
        "   (u'ge', u'cooking banana'),\n",
        "   (u'tkp', u'banana bilong kukim'),\n",
        "   (u'pt', u'itoo'),\n",
        "   (u'sf', u'FLORA'),\n",
        "   (u'dt', u'12/Aug/2005'),\n",
        "   (u'ex', u'Taeavi iria kaa isi kovopaueva kaparapasia.'),\n",
        "   (u'xp', u'Taeavi i bin planim gaden banana bilong kukim tasol long paia.'),\n",
        "   (u'xe', u'Taeavi planted banana in order to cook it.')])]"
       ]
      }
     ],
     "prompt_number": 600
    },
    {
     "cell_type": "markdown",
     "metadata": {},
     "source": [
      "- \uc18d\uc131, \uac12 \uc9dd\uc73c\ub85c \uad6c\uc131\ub418\uc5b4\uc838 \uc788\ub2e4. \n",
      "- ('ps', 'V'): part-of-speech, verb\n",
      "- ('ge', 'gag'): gloss-into-English\n",
      "- \ud480\ub9b0 Toolbox\uc758 \uad6c\uc870 \ud30c\uc77c\uc740 \uc5b4\ub835\uac8c \ub9cc\ub4e0\ub2e4.\n",
      "- XML provides a powerful way to process this kind of corpus\n",
      "- we will return to this topic in Chapter 11\n",
      "- Rotokas\ub294 12\uc74c\uc18c \ubc1c\uba85\uc5d0 \uc788\uc5b4\uc11c\ub294 \uc800\uba85\uc778\uc0ac\ub2e4."
     ]
    },
    {
     "cell_type": "markdown",
     "metadata": {},
     "source": [
      "## 2.5 WordNet\n",
      "\n",
      "- WordNet: \uc758\ubbf8\uc0c1\uc73c\ub85c \uc601\uc5b4 \uc0ac\uc804\uc744 \uc9c0\ud5a5\ud55c\ub2e4.\n",
      "- NLTK\uc740 English WordNet 155,287 \ub2e8\uc5b4\ub4e4\uacfc 117,659 \ub3d9\uc758\uc5b4 \ubb36\uc74c\uc744 \ud3ec\ud568\ud55c\ub2e4\n",
      "- [\uc6cc\ub4dc\ub137 - \uc704\ud0a4\ubc31\uacfc, \uc6b0\ub9ac \ubaa8\ub450\uc758 \ubc31\uacfc\uc0ac\uc804](http://ko.wikipedia.org/wiki/%EC%9B%8C%EB%93%9C%EB%84%B7)\n",
      "\n",
      "![WordNet](http://cpl.cc.gatech.edu/projects/VisualSynset/apple.png)\n",
      "\n",
      "- synset\uc744 \ubd84\ub958\ud55c\ub2e4\n",
      "- \uac19\uc740 \uc560\ud50c\uc778\ub370 \uc560\ud50c\uc774 \uc911\ubcf5\ub418\ub2c8\uae4c \uadf8\uac78 \ubd84\ub958\ud574\uc11c \uc758\ubbf8\ub97c \ucc3e\uc544\ub0b8\ub2e4\n",
      "- class \uac1c\ub150\uc73c\ub85c \uc774\ud574\ud558\uba74 \ub41c\ub2e4\n",
      "\n",
      "### WordNet in wiki\n",
      "\n",
      "- \uc6cc\ub4dc\ub137\uc740 \uc601\uc5b4\uc758 \uc758\ubbf8 \uc5b4\ud718\ubaa9\ub85d\n",
      "- \uc6cc\ub4dc\ub137\uc740 \uc601\uc5b4 \ub2e8\uc5b4\ub97c 'synset' \uc774\ub77c\ub294 \uc720\uc758\uc5b4 \uc9d1\ub2e8\uc73c\ub85c \ubd84\ub958\ud558\uc5ec \uac04\ub7b5\ud558\uace0 \uc77c\ubc18\uc801\uc778 \uc815\uc758\ub97c \uc81c\uacf5\ud558\uace0, \uc774\ub7ec\ud55c \uc5b4\ud718\ubaa9\ub85d \uc0ac\uc774\uc758 \ub2e4\uc591\ud55c \uad00\uacc4\ub97c \uae30\ub85d\ud568\n",
      "- \ubaa9\uc801\uc740 2\uac00\uc9c0\n",
      "  - \uc0ac\uc804(\ub2e8\uc5b4\uc9d1)\uacfc \uc2dc\uc18c\ub7ec\uc2a4(\uc720\uc758\uc5b4, \ubc18\uc758\uc5b4 \uc0ac\uc804)\uc758 \ubc30\ud569\uc744 \ub9cc\ub4e4\uc5b4, \ubcf4\ub2e4 \uc9c1\uad00\uc801\uc73c\ub85c \uc0ac\uc6a9 \uac00\ub2a5\n",
      "  - \uc790\ub3d9\ud654\ub41c \ubcf8\ubb38 \ubd84\uc11d\uacfc \uc778\uacf5 \uc9c0\ub2a5 \uc751\uc6a9\uc744 \ub4b7\ubc1b\uce68\ud558\ub824\ub294 \uac83\n",
      "- \ub370\uc774\ud130\ubca0\uc774\uc2a4\uc640 \ud504\ub85c\uadf8\ub7a8 \ud234\uc740 BSD \ud615\ud0dc\uc758 \ub77c\uc774\uc120\uc2a4\ub85c \ubc30\ud3ec\ub418\uc5c8\uace0, \ub2e4\uc6b4\ub85c\ub4dc \ubc1b\uc544 \uc790\uc720\ub86d\uac8c \uc0ac\uc6a9 \uac00\ub2a5\n",
      "- \ub370\uc774\ud130\ubca0\uc774\uc2a4\ub294 \uc628\ub77c\uc778\uc73c\ub85c\ub3c4 \uac80\uc0c9 \uac00\ub2a5\n",
      "- \uc6cc\ub4dc\ub137\uc740 \uc2ec\ub9ac\ud559 \uad50\uc218\uc778 \uc870\uc9c0 A. \ubc00\ub7ec\uac00 \uc9c0\ub3c4\ud558\ub294 \ud504\ub9ac\uc2a4\ud134 \ub300\ud559\uc758 \uc778\uc9c0 \uacfc\ud559 \uc5f0\uad6c\uc18c\uc5d0 \uc758\ud574 \ub9cc\ub4e4\uc5b4\uc84c\uace0 \uc720\uc9c0\ub418\uace0 \uc788\uc74c\n",
      "- \uac1c\ubc1c\uc740 1985\ub144\uc5d0 \uc2dc\uc791\ub418\ub428\n",
      "- \uc218\ub144\uc5d0 \uac78\uccd0, \ud504\ub85c\uc81d\ud2b8\ub294 3\ubc31\ub9cc \ub2ec\ub7ec\uc758 \uae30\uae08\uc744 \ubaa8\uc558\ub294\ub370, \uc8fc\ub85c \uae30\uacc4 \ubc88\uc5ed\uc5d0 \uad00\uc2ec\uc774 \uc788\ub294 \uc815\ubd80 \uae30\uad00\uc5d0 \uc758\ud55c \uac83\n",
      "- \ucd5c\uadfc \uba87\ub144\uac04\uc740 \ud06c\ub9ac\uc2a4\ud2f0\uc548 \ud3a0\ubc14\uc6c0 \ubc15\uc0ac\uac00 \uc6cc\ub4dc\ub137\uc758 \uac1c\ubc1c\uc744 \uc0b4\ud53c\uace0 \uc788\uc74c\n",
      "\n",
      "#### \uc790\ub8cc \ub0b4\uc6a9\n",
      "\n",
      "- \uc6cc\ub4dc\ub137\uc740 \uba85\uc0ac, \ub3d9\uc0ac, \ud615\uc6a9\uc0ac, \ubd80\uc0ac\ub4e4\uc744 \uc11c\ub85c \uad6c\ubd84\ud558\ub294\ub370, \uc774\ub294 \uc774\ub4e4\uc774 \uc11c\ub85c \ub2e4\ub978 \ubb38\ubc95\uc801\uc778 \ubc95\uce59\uc744 \ub530\ub974\uae30 \ub54c\ubb38\n",
      "- \ubaa8\ub4e0 (synset: \ub3d9\uc758\uc5b4 \uc9d1\ud569)\uc740 \ub2e8\uc5b4\uc758 \ub3d9\uc758\uc5b4 \uc9d1\ud569 \ub610\ub294 \uc5f0\uc5b4 \uad00\uacc4\ub97c \ud3ec\ud568\ud55c\ub2e4('\uc5f0\uc5b4 \uad00\uacc4'\ub294 \ub2e8\uc5b4\ub4e4\uc774 \uc21c\uc11c\ub300\ub85c \ub193\uc5ec \ud2b9\uc815 \uc758\ubbf8\ub97c \ud615\uc131\ud558\ub294 \uac83\uc744 \uc758\ubbf8)\n",
      "- \uc11c\ub85c \ub2e4\ub978 \uc758\ubbf8\uc758 \ub2e8\uc5b4\ub294 \uc11c\ub85c \ub2e4\ub978 '\uc2e0\uc14b'\uc5d0 \ud3ec\ud568\ub428\n",
      "- '\uc2e0\uc14b'\uc758 \uc758\ubbf8\ub294 \uac04\ub7b5\ud558\uac8c \uc815\uc758\ud558\ub294 \uc8fc\uc11d(\uc815\uc758 \ub610\ub294 \uc608\ubb38)\uc73c\ub85c \ubcf4\ub2e4 \uba85\ud655\ud574 \uc9d0\n",
      "- \uc8fc\uc11d\uc774 \ubd99\uc740 \uc804\ud615\uc801\uc778 '\uc2e0\uc14b'\uc758 \uc608\ub294 \ub2e4\uc74c\uacfc \uac19\uc74c\n",
      "- "
     ]
    },
    {
     "cell_type": "markdown",
     "metadata": {},
     "source": [
      "### Senses and Synonyms\n",
      "\n",
      "- sense\n",
      "- synonym: \uc720\uc758\uc5b4\n",
      "\n",
      "#### (1)\n",
      "\n",
      "- a. Benz is credited with the invention of the motorcar.\n",
      "- b. Benz is credited with the invention of the automobile."
     ]
    },
    {
     "cell_type": "markdown",
     "metadata": {},
     "source": [
      "- motorcar, automobile: synonyms(\ub3d9\uc758\uc5b4)"
     ]
    },
    {
     "cell_type": "code",
     "collapsed": false,
     "input": [
      "from nltk.corpus import wordnet as wn"
     ],
     "language": "python",
     "metadata": {},
     "outputs": [],
     "prompt_number": 1
    },
    {
     "cell_type": "markdown",
     "metadata": {},
     "source": [
      "### Synset types:\n",
      "\n",
      "- n: **Noun**, \uba85\uc0ac, \uc81c\uc77c \uc911\uc694\n",
      "- v: **Verb**, \ub3d9\uc0ac\n",
      "- a: Adjective, \ud615\uc6a9\uc0ac \n",
      "- s: Adjective Satellite, \ubcf4\uc870 \ud615\uc6a9\uc0ac\n",
      "- r: Adverb, \ubd80\uc0ac"
     ]
    },
    {
     "cell_type": "code",
     "collapsed": false,
     "input": [
      "# car:\n",
      "# n: noun\n",
      "wn.synsets('motorcar')"
     ],
     "language": "python",
     "metadata": {},
     "outputs": [
      {
       "metadata": {},
       "output_type": "pyout",
       "prompt_number": 2,
       "text": [
        "[Synset('car.n.01')]"
       ]
      }
     ],
     "prompt_number": 2
    },
    {
     "cell_type": "code",
     "collapsed": false,
     "input": [
      "# lemma\uc640 \ubc1c\uc74c tag\uc758 \ubd80\ubd84\uc744 \uc904 \uacbd\uc6b0 synsets\uc744 \ubd88\ub7ec\uc628\ub2e4.\n",
      "# no pos\uc774 \uc815\uc758\ub418\uc5b4 \uc788\uc9c0 \uc54a\uc73c\uba74, \ubaa8\ub4e0 synsets\uc740 speech\uc758 \ubd80\ubd84\uc774 \ub85c\ub4dc\ub420 \uac83\uc774\ub2e4.\n",
      "# \uc5b8\uc5b4\uac00 \uc120\ud0dd\ub418\uba74, \ubaa8\ub4e0 synsets\uc740 \uadf8 \uc5b8\uc5b4\uc758 \uc5f0\uad00\ub41c lemma name\uc744 \ub3cc\ub824\uc900\ub2e4.\n",
      "help(wn.synsets)"
     ],
     "language": "python",
     "metadata": {},
     "outputs": [
      {
       "output_type": "stream",
       "stream": "stdout",
       "text": [
        "Help on method synsets in module nltk.corpus.reader.wordnet:\n",
        "\n",
        "synsets(self, lemma, pos=None, lang=u'en') method of nltk.corpus.reader.wordnet.WordNetCorpusReader instance\n",
        "    Load all synsets with a given lemma and part of speech tag.\n",
        "    If no pos is specified, all synsets for all parts of speech\n",
        "    will be loaded. \n",
        "    If lang is specified, all the synsets associated with the lemma name\n",
        "    of that language will be returned.\n",
        "\n"
       ]
      }
     ],
     "prompt_number": 4
    },
    {
     "cell_type": "markdown",
     "metadata": {},
     "source": [
      "- car.n.01: synset(synonym set). collection of synonymous words(or \"lemmas\") \ud45c\uc81c\uc5b4?"
     ]
    },
    {
     "cell_type": "code",
     "collapsed": false,
     "input": [
      "# lemma: \ub2e8\uc5b4\uc758 \uae30\ubcf8\ud615\n",
      "wn.synset('car.n.01').lemma_names()"
     ],
     "language": "python",
     "metadata": {},
     "outputs": [
      {
       "metadata": {},
       "output_type": "pyout",
       "prompt_number": 604,
       "text": [
        "[u'car', u'auto', u'automobile', u'machine', u'motorcar']"
       ]
      }
     ],
     "prompt_number": 604
    },
    {
     "cell_type": "code",
     "collapsed": false,
     "input": [
      "wn.synset('car.n.01').definition()"
     ],
     "language": "python",
     "metadata": {},
     "outputs": [
      {
       "metadata": {},
       "output_type": "pyout",
       "prompt_number": 606,
       "text": [
        "u'a motor vehicle with four wheels; usually propelled by an internal combustion engine'"
       ]
      }
     ],
     "prompt_number": 606
    },
    {
     "cell_type": "code",
     "collapsed": false,
     "input": [
      "wn.synset('car.n.01').examples()"
     ],
     "language": "python",
     "metadata": {},
     "outputs": [
      {
       "metadata": {},
       "output_type": "pyout",
       "prompt_number": 607,
       "text": [
        "[u'he needs a car to get to work']"
       ]
      }
     ],
     "prompt_number": 607
    },
    {
     "cell_type": "code",
     "collapsed": false,
     "input": [
      "# get all the lemmas for a given synset\n",
      "wn.synset('car.n.01').lemmas()"
     ],
     "language": "python",
     "metadata": {},
     "outputs": [
      {
       "metadata": {},
       "output_type": "pyout",
       "prompt_number": 608,
       "text": [
        "[Lemma('car.n.01.car'),\n",
        " Lemma('car.n.01.auto'),\n",
        " Lemma('car.n.01.automobile'),\n",
        " Lemma('car.n.01.machine'),\n",
        " Lemma('car.n.01.motorcar')]"
       ]
      }
     ],
     "prompt_number": 608
    },
    {
     "cell_type": "code",
     "collapsed": false,
     "input": [
      "# look up a particular lemma\n",
      "wn.lemma('car.n.01.automobile')"
     ],
     "language": "python",
     "metadata": {},
     "outputs": [
      {
       "metadata": {},
       "output_type": "pyout",
       "prompt_number": 609,
       "text": [
        "Lemma('car.n.01.automobile')"
       ]
      }
     ],
     "prompt_number": 609
    },
    {
     "cell_type": "code",
     "collapsed": false,
     "input": [
      "# get the synset corresponding to a lemma\n",
      "wn.lemma('car.n.01.automobile').synset()"
     ],
     "language": "python",
     "metadata": {},
     "outputs": [
      {
       "metadata": {},
       "output_type": "pyout",
       "prompt_number": 611,
       "text": [
        "Synset('car.n.01')"
       ]
      }
     ],
     "prompt_number": 611
    },
    {
     "cell_type": "code",
     "collapsed": false,
     "input": [
      "# get the \"name\" of a lemma\n",
      "wn.lemma('car.n.01.automobile').name()"
     ],
     "language": "python",
     "metadata": {},
     "outputs": [
      {
       "metadata": {},
       "output_type": "pyout",
       "prompt_number": 612,
       "text": [
        "u'automobile'"
       ]
      }
     ],
     "prompt_number": 612
    },
    {
     "cell_type": "markdown",
     "metadata": {},
     "source": [
      "- [\uc0ac\uc804\uc5d0\uc11c \"\ud45c\uc81c\uc5b4\"\ub294 ... - Daum \ud301](http://tip.daum.net/question/59201114)"
     ]
    },
    {
     "cell_type": "code",
     "collapsed": false,
     "input": [
      "wn.synsets('car')"
     ],
     "language": "python",
     "metadata": {},
     "outputs": [
      {
       "metadata": {},
       "output_type": "pyout",
       "prompt_number": 613,
       "text": [
        "[Synset('car.n.01'),\n",
        " Synset('car.n.02'),\n",
        " Synset('car.n.03'),\n",
        " Synset('car.n.04'),\n",
        " Synset('cable_car.n.01')]"
       ]
      }
     ],
     "prompt_number": 613
    },
    {
     "cell_type": "code",
     "collapsed": false,
     "input": [
      "for synset in wn.synsets('car'):\n",
      "    print synset.lemma_names()"
     ],
     "language": "python",
     "metadata": {},
     "outputs": [
      {
       "output_type": "stream",
       "stream": "stdout",
       "text": [
        "[u'car', u'auto', u'automobile', u'machine', u'motorcar']\n",
        "[u'car', u'railcar', u'railway_car', u'railroad_car']\n",
        "[u'car', u'gondola']\n",
        "[u'car', u'elevator_car']\n",
        "[u'cable_car', u'car']\n"
       ]
      }
     ],
     "prompt_number": 615
    },
    {
     "cell_type": "code",
     "collapsed": false,
     "input": [
      "wn.lemmas('car')"
     ],
     "language": "python",
     "metadata": {},
     "outputs": [
      {
       "metadata": {},
       "output_type": "pyout",
       "prompt_number": 616,
       "text": [
        "[Lemma('car.n.01.car'),\n",
        " Lemma('car.n.02.car'),\n",
        " Lemma('car.n.03.car'),\n",
        " Lemma('car.n.04.car'),\n",
        " Lemma('cable_car.n.01.car')]"
       ]
      }
     ],
     "prompt_number": 616
    },
    {
     "cell_type": "markdown",
     "metadata": {},
     "source": [
      "#### Your Turn\n",
      "\n",
      "- \ubaa8\ub4e0 word rkarkrdmf wjrdjfk??\n",
      "- WordNet\uacfc \ud568\uaed8 \uc774 \ub2e8\uc5b4\ub97c \ud0d0\uc0c9\ud558\uc790\n",
      "- same operations\uc774 \uc0ac\uc6a9\ub418\ub294 \uac83\uc774 \uc77c\ucc0d \ubcf4\uc778\ub2e4."
     ]
    },
    {
     "cell_type": "markdown",
     "metadata": {},
     "source": [
      "### The WordNet Hierarchy\n",
      "\n",
      "- WordNet synsets: \ucd94\uc0c1\uc801 \uac1c\ub150\uacfc \uc77c\uce58. \ud56d\uc0c1 \uc601\uc5b4\uc5d0\uc11c \uc0ac\uc6a9\ud558\ub294 \ub2e8\uc5b4\ub4e4\uacfc \uc77c\uce58\ud558\uc9c0 \uc54a\ub294\ub2e4.\n",
      "- \uadf8\uac83\ub4e4\uc758 \uac1c\ub150\uc740 \uacc4\uce35\uc801\uc73c\ub85c \uac19\uc774 \ub9c1\ud06c\ub410\ub2e4.\n",
      "- unique beginners\n",
      "![Fragment_of_WordNet](images/Fragment_of_WordNet.png)"
     ]
    },
    {
     "cell_type": "markdown",
     "metadata": {},
     "source": [
      "- Wordnet\ub294 \uac01 \uac1c\ub150\ub4e4\ub07c\ub9ac \uc27d\uac8c \uc774\ub3d9\ud560 \uc218 \uc788\uac8c \ub9cc\ub4e4\uc5b4\uc900\ub2e4.\n",
      "- hyponyms: \ud558\uc704\uc5b4"
     ]
    },
    {
     "cell_type": "code",
     "collapsed": false,
     "input": [
      "motorcar = wn.synset('car.n.01')"
     ],
     "language": "python",
     "metadata": {},
     "outputs": [],
     "prompt_number": 617
    },
    {
     "cell_type": "code",
     "collapsed": false,
     "input": [
      "types_of_motorcar = motorcar.hyponyms()"
     ],
     "language": "python",
     "metadata": {},
     "outputs": [],
     "prompt_number": 618
    },
    {
     "cell_type": "code",
     "collapsed": false,
     "input": [
      "types_of_motorcar[26]"
     ],
     "language": "python",
     "metadata": {},
     "outputs": [
      {
       "metadata": {},
       "output_type": "pyout",
       "prompt_number": 619,
       "text": [
        "Synset('stanley_steamer.n.01')"
       ]
      }
     ],
     "prompt_number": 619
    },
    {
     "cell_type": "code",
     "collapsed": false,
     "input": [
      "types_of_motorcar"
     ],
     "language": "python",
     "metadata": {},
     "outputs": [
      {
       "metadata": {},
       "output_type": "pyout",
       "prompt_number": 620,
       "text": [
        "[Synset('ambulance.n.01'),\n",
        " Synset('beach_wagon.n.01'),\n",
        " Synset('bus.n.04'),\n",
        " Synset('cab.n.03'),\n",
        " Synset('compact.n.03'),\n",
        " Synset('convertible.n.01'),\n",
        " Synset('coupe.n.01'),\n",
        " Synset('cruiser.n.01'),\n",
        " Synset('electric.n.01'),\n",
        " Synset('gas_guzzler.n.01'),\n",
        " Synset('hardtop.n.01'),\n",
        " Synset('hatchback.n.01'),\n",
        " Synset('horseless_carriage.n.01'),\n",
        " Synset('hot_rod.n.01'),\n",
        " Synset('jeep.n.01'),\n",
        " Synset('limousine.n.01'),\n",
        " Synset('loaner.n.02'),\n",
        " Synset('minicar.n.01'),\n",
        " Synset('minivan.n.01'),\n",
        " Synset('model_t.n.01'),\n",
        " Synset('pace_car.n.01'),\n",
        " Synset('racer.n.02'),\n",
        " Synset('roadster.n.01'),\n",
        " Synset('sedan.n.01'),\n",
        " Synset('sport_utility.n.01'),\n",
        " Synset('sports_car.n.01'),\n",
        " Synset('stanley_steamer.n.01'),\n",
        " Synset('stock_car.n.01'),\n",
        " Synset('subcompact.n.01'),\n",
        " Synset('touring_car.n.01'),\n",
        " Synset('used-car.n.01')]"
       ]
      }
     ],
     "prompt_number": 620
    },
    {
     "cell_type": "code",
     "collapsed": false,
     "input": [
      "sorted([lemma.name() \n",
      "        for synset in types_of_motorcar \n",
      "        for lemma in synset.lemmas()])"
     ],
     "language": "python",
     "metadata": {},
     "outputs": [
      {
       "metadata": {},
       "output_type": "pyout",
       "prompt_number": 621,
       "text": [
        "[u'Model_T',\n",
        " u'S.U.V.',\n",
        " u'SUV',\n",
        " u'Stanley_Steamer',\n",
        " u'ambulance',\n",
        " u'beach_waggon',\n",
        " u'beach_wagon',\n",
        " u'bus',\n",
        " u'cab',\n",
        " u'compact',\n",
        " u'compact_car',\n",
        " u'convertible',\n",
        " u'coupe',\n",
        " u'cruiser',\n",
        " u'electric',\n",
        " u'electric_automobile',\n",
        " u'electric_car',\n",
        " u'estate_car',\n",
        " u'gas_guzzler',\n",
        " u'hack',\n",
        " u'hardtop',\n",
        " u'hatchback',\n",
        " u'heap',\n",
        " u'horseless_carriage',\n",
        " u'hot-rod',\n",
        " u'hot_rod',\n",
        " u'jalopy',\n",
        " u'jeep',\n",
        " u'landrover',\n",
        " u'limo',\n",
        " u'limousine',\n",
        " u'loaner',\n",
        " u'minicar',\n",
        " u'minivan',\n",
        " u'pace_car',\n",
        " u'patrol_car',\n",
        " u'phaeton',\n",
        " u'police_car',\n",
        " u'police_cruiser',\n",
        " u'prowl_car',\n",
        " u'race_car',\n",
        " u'racer',\n",
        " u'racing_car',\n",
        " u'roadster',\n",
        " u'runabout',\n",
        " u'saloon',\n",
        " u'secondhand_car',\n",
        " u'sedan',\n",
        " u'sport_car',\n",
        " u'sport_utility',\n",
        " u'sport_utility_vehicle',\n",
        " u'sports_car',\n",
        " u'squad_car',\n",
        " u'station_waggon',\n",
        " u'station_wagon',\n",
        " u'stock_car',\n",
        " u'subcompact',\n",
        " u'subcompact_car',\n",
        " u'taxi',\n",
        " u'taxicab',\n",
        " u'tourer',\n",
        " u'touring_car',\n",
        " u'two-seater',\n",
        " u'used-car',\n",
        " u'waggon',\n",
        " u'wagon']"
       ]
      }
     ],
     "prompt_number": 621
    },
    {
     "cell_type": "markdown",
     "metadata": {},
     "source": [
      "- hypernyms: \uc0c1\uc704\uc5b4"
     ]
    },
    {
     "cell_type": "code",
     "collapsed": false,
     "input": [
      "motorcar.hypernyms()"
     ],
     "language": "python",
     "metadata": {},
     "outputs": [
      {
       "metadata": {},
       "output_type": "pyout",
       "prompt_number": 622,
       "text": [
        "[Synset('motor_vehicle.n.01')]"
       ]
      }
     ],
     "prompt_number": 622
    },
    {
     "cell_type": "code",
     "collapsed": false,
     "input": [
      "paths = motorcar.hypernym_paths()\n",
      "paths"
     ],
     "language": "python",
     "metadata": {},
     "outputs": [
      {
       "metadata": {},
       "output_type": "pyout",
       "prompt_number": 623,
       "text": [
        "[[Synset('entity.n.01'),\n",
        "  Synset('physical_entity.n.01'),\n",
        "  Synset('object.n.01'),\n",
        "  Synset('whole.n.02'),\n",
        "  Synset('artifact.n.01'),\n",
        "  Synset('instrumentality.n.03'),\n",
        "  Synset('container.n.01'),\n",
        "  Synset('wheeled_vehicle.n.01'),\n",
        "  Synset('self-propelled_vehicle.n.01'),\n",
        "  Synset('motor_vehicle.n.01'),\n",
        "  Synset('car.n.01')],\n",
        " [Synset('entity.n.01'),\n",
        "  Synset('physical_entity.n.01'),\n",
        "  Synset('object.n.01'),\n",
        "  Synset('whole.n.02'),\n",
        "  Synset('artifact.n.01'),\n",
        "  Synset('instrumentality.n.03'),\n",
        "  Synset('conveyance.n.03'),\n",
        "  Synset('vehicle.n.01'),\n",
        "  Synset('wheeled_vehicle.n.01'),\n",
        "  Synset('self-propelled_vehicle.n.01'),\n",
        "  Synset('motor_vehicle.n.01'),\n",
        "  Synset('car.n.01')]]"
       ]
      }
     ],
     "prompt_number": 623
    },
    {
     "cell_type": "code",
     "collapsed": false,
     "input": [
      "len(paths)"
     ],
     "language": "python",
     "metadata": {},
     "outputs": [
      {
       "metadata": {},
       "output_type": "pyout",
       "prompt_number": 624,
       "text": [
        "2"
       ]
      }
     ],
     "prompt_number": 624
    },
    {
     "cell_type": "code",
     "collapsed": false,
     "input": [
      "[synset.name() for synset in paths[0]]"
     ],
     "language": "python",
     "metadata": {},
     "outputs": [
      {
       "metadata": {},
       "output_type": "pyout",
       "prompt_number": 626,
       "text": [
        "[u'entity.n.01',\n",
        " u'physical_entity.n.01',\n",
        " u'object.n.01',\n",
        " u'whole.n.02',\n",
        " u'artifact.n.01',\n",
        " u'instrumentality.n.03',\n",
        " u'container.n.01',\n",
        " u'wheeled_vehicle.n.01',\n",
        " u'self-propelled_vehicle.n.01',\n",
        " u'motor_vehicle.n.01',\n",
        " u'car.n.01']"
       ]
      }
     ],
     "prompt_number": 626
    },
    {
     "cell_type": "code",
     "collapsed": false,
     "input": [
      "[synset.name() for synset in paths[1]]"
     ],
     "language": "python",
     "metadata": {},
     "outputs": [
      {
       "metadata": {},
       "output_type": "pyout",
       "prompt_number": 627,
       "text": [
        "[u'entity.n.01',\n",
        " u'physical_entity.n.01',\n",
        " u'object.n.01',\n",
        " u'whole.n.02',\n",
        " u'artifact.n.01',\n",
        " u'instrumentality.n.03',\n",
        " u'conveyance.n.03',\n",
        " u'vehicle.n.01',\n",
        " u'wheeled_vehicle.n.01',\n",
        " u'self-propelled_vehicle.n.01',\n",
        " u'motor_vehicle.n.01',\n",
        " u'car.n.01']"
       ]
      }
     ],
     "prompt_number": 627
    },
    {
     "cell_type": "code",
     "collapsed": false,
     "input": [
      "# Get the most general hypernyms(or root hypernyms)\n",
      "motorcar.root_hypernyms()"
     ],
     "language": "python",
     "metadata": {},
     "outputs": [
      {
       "metadata": {},
       "output_type": "pyout",
       "prompt_number": 628,
       "text": [
        "[Synset('entity.n.01')]"
       ]
      }
     ],
     "prompt_number": 628
    },
    {
     "cell_type": "markdown",
     "metadata": {},
     "source": [
      "#### Your Turn\n",
      "\n",
      "- nltk.app.wordnet()"
     ]
    },
    {
     "cell_type": "code",
     "collapsed": false,
     "input": [
      "nltk.app.wordnet()"
     ],
     "language": "python",
     "metadata": {},
     "outputs": [
      {
       "ename": "GetoptError",
       "evalue": "option -f not recognized",
       "output_type": "pyerr",
       "traceback": [
        "\u001b[0;31m---------------------------------------------------------------------------\u001b[0m\n\u001b[0;31mGetoptError\u001b[0m                               Traceback (most recent call last)",
        "\u001b[0;32m<ipython-input-629-67b650ab6039>\u001b[0m in \u001b[0;36m<module>\u001b[0;34m()\u001b[0m\n\u001b[0;32m----> 1\u001b[0;31m \u001b[0mnltk\u001b[0m\u001b[0;34m.\u001b[0m\u001b[0mapp\u001b[0m\u001b[0;34m.\u001b[0m\u001b[0mwordnet\u001b[0m\u001b[0;34m(\u001b[0m\u001b[0;34m)\u001b[0m\u001b[0;34m\u001b[0m\u001b[0m\n\u001b[0m",
        "\u001b[0;32m/Users/re4lfl0w/.virtualenvs/natural/lib/python2.7/site-packages/nltk/app/wordnet_app.pyc\u001b[0m in \u001b[0;36mapp\u001b[0;34m()\u001b[0m\n\u001b[1;32m    943\u001b[0m     \u001b[0;31m# Parse and interpret options.\u001b[0m\u001b[0;34m\u001b[0m\u001b[0;34m\u001b[0m\u001b[0m\n\u001b[1;32m    944\u001b[0m     (opts, _) = getopt.getopt(argv[1:], \"l:p:sh\",\n\u001b[0;32m--> 945\u001b[0;31m                               [\"logfile=\", \"port=\", \"server-mode\", \"help\"])\n\u001b[0m\u001b[1;32m    946\u001b[0m     \u001b[0mport\u001b[0m \u001b[0;34m=\u001b[0m \u001b[0;36m8000\u001b[0m\u001b[0;34m\u001b[0m\u001b[0m\n\u001b[1;32m    947\u001b[0m     \u001b[0mserver_mode\u001b[0m \u001b[0;34m=\u001b[0m \u001b[0mFalse\u001b[0m\u001b[0;34m\u001b[0m\u001b[0m\n",
        "\u001b[0;32m/System/Library/Frameworks/Python.framework/Versions/2.7/lib/python2.7/getopt.pyc\u001b[0m in \u001b[0;36mgetopt\u001b[0;34m(args, shortopts, longopts)\u001b[0m\n\u001b[1;32m     88\u001b[0m             \u001b[0mopts\u001b[0m\u001b[0;34m,\u001b[0m \u001b[0margs\u001b[0m \u001b[0;34m=\u001b[0m \u001b[0mdo_longs\u001b[0m\u001b[0;34m(\u001b[0m\u001b[0mopts\u001b[0m\u001b[0;34m,\u001b[0m \u001b[0margs\u001b[0m\u001b[0;34m[\u001b[0m\u001b[0;36m0\u001b[0m\u001b[0;34m]\u001b[0m\u001b[0;34m[\u001b[0m\u001b[0;36m2\u001b[0m\u001b[0;34m:\u001b[0m\u001b[0;34m]\u001b[0m\u001b[0;34m,\u001b[0m \u001b[0mlongopts\u001b[0m\u001b[0;34m,\u001b[0m \u001b[0margs\u001b[0m\u001b[0;34m[\u001b[0m\u001b[0;36m1\u001b[0m\u001b[0;34m:\u001b[0m\u001b[0;34m]\u001b[0m\u001b[0;34m)\u001b[0m\u001b[0;34m\u001b[0m\u001b[0m\n\u001b[1;32m     89\u001b[0m         \u001b[0;32melse\u001b[0m\u001b[0;34m:\u001b[0m\u001b[0;34m\u001b[0m\u001b[0m\n\u001b[0;32m---> 90\u001b[0;31m             \u001b[0mopts\u001b[0m\u001b[0;34m,\u001b[0m \u001b[0margs\u001b[0m \u001b[0;34m=\u001b[0m \u001b[0mdo_shorts\u001b[0m\u001b[0;34m(\u001b[0m\u001b[0mopts\u001b[0m\u001b[0;34m,\u001b[0m \u001b[0margs\u001b[0m\u001b[0;34m[\u001b[0m\u001b[0;36m0\u001b[0m\u001b[0;34m]\u001b[0m\u001b[0;34m[\u001b[0m\u001b[0;36m1\u001b[0m\u001b[0;34m:\u001b[0m\u001b[0;34m]\u001b[0m\u001b[0;34m,\u001b[0m \u001b[0mshortopts\u001b[0m\u001b[0;34m,\u001b[0m \u001b[0margs\u001b[0m\u001b[0;34m[\u001b[0m\u001b[0;36m1\u001b[0m\u001b[0;34m:\u001b[0m\u001b[0;34m]\u001b[0m\u001b[0;34m)\u001b[0m\u001b[0;34m\u001b[0m\u001b[0m\n\u001b[0m\u001b[1;32m     91\u001b[0m \u001b[0;34m\u001b[0m\u001b[0m\n\u001b[1;32m     92\u001b[0m     \u001b[0;32mreturn\u001b[0m \u001b[0mopts\u001b[0m\u001b[0;34m,\u001b[0m \u001b[0margs\u001b[0m\u001b[0;34m\u001b[0m\u001b[0m\n",
        "\u001b[0;32m/System/Library/Frameworks/Python.framework/Versions/2.7/lib/python2.7/getopt.pyc\u001b[0m in \u001b[0;36mdo_shorts\u001b[0;34m(opts, optstring, shortopts, args)\u001b[0m\n\u001b[1;32m    188\u001b[0m     \u001b[0;32mwhile\u001b[0m \u001b[0moptstring\u001b[0m \u001b[0;34m!=\u001b[0m \u001b[0;34m''\u001b[0m\u001b[0;34m:\u001b[0m\u001b[0;34m\u001b[0m\u001b[0m\n\u001b[1;32m    189\u001b[0m         \u001b[0mopt\u001b[0m\u001b[0;34m,\u001b[0m \u001b[0moptstring\u001b[0m \u001b[0;34m=\u001b[0m \u001b[0moptstring\u001b[0m\u001b[0;34m[\u001b[0m\u001b[0;36m0\u001b[0m\u001b[0;34m]\u001b[0m\u001b[0;34m,\u001b[0m \u001b[0moptstring\u001b[0m\u001b[0;34m[\u001b[0m\u001b[0;36m1\u001b[0m\u001b[0;34m:\u001b[0m\u001b[0;34m]\u001b[0m\u001b[0;34m\u001b[0m\u001b[0m\n\u001b[0;32m--> 190\u001b[0;31m         \u001b[0;32mif\u001b[0m \u001b[0mshort_has_arg\u001b[0m\u001b[0;34m(\u001b[0m\u001b[0mopt\u001b[0m\u001b[0;34m,\u001b[0m \u001b[0mshortopts\u001b[0m\u001b[0;34m)\u001b[0m\u001b[0;34m:\u001b[0m\u001b[0;34m\u001b[0m\u001b[0m\n\u001b[0m\u001b[1;32m    191\u001b[0m             \u001b[0;32mif\u001b[0m \u001b[0moptstring\u001b[0m \u001b[0;34m==\u001b[0m \u001b[0;34m''\u001b[0m\u001b[0;34m:\u001b[0m\u001b[0;34m\u001b[0m\u001b[0m\n\u001b[1;32m    192\u001b[0m                 \u001b[0;32mif\u001b[0m \u001b[0;32mnot\u001b[0m \u001b[0margs\u001b[0m\u001b[0;34m:\u001b[0m\u001b[0;34m\u001b[0m\u001b[0m\n",
        "\u001b[0;32m/System/Library/Frameworks/Python.framework/Versions/2.7/lib/python2.7/getopt.pyc\u001b[0m in \u001b[0;36mshort_has_arg\u001b[0;34m(opt, shortopts)\u001b[0m\n\u001b[1;32m    204\u001b[0m         \u001b[0;32mif\u001b[0m \u001b[0mopt\u001b[0m \u001b[0;34m==\u001b[0m \u001b[0mshortopts\u001b[0m\u001b[0;34m[\u001b[0m\u001b[0mi\u001b[0m\u001b[0;34m]\u001b[0m \u001b[0;34m!=\u001b[0m \u001b[0;34m':'\u001b[0m\u001b[0;34m:\u001b[0m\u001b[0;34m\u001b[0m\u001b[0m\n\u001b[1;32m    205\u001b[0m             \u001b[0;32mreturn\u001b[0m \u001b[0mshortopts\u001b[0m\u001b[0;34m.\u001b[0m\u001b[0mstartswith\u001b[0m\u001b[0;34m(\u001b[0m\u001b[0;34m':'\u001b[0m\u001b[0;34m,\u001b[0m \u001b[0mi\u001b[0m\u001b[0;34m+\u001b[0m\u001b[0;36m1\u001b[0m\u001b[0;34m)\u001b[0m\u001b[0;34m\u001b[0m\u001b[0m\n\u001b[0;32m--> 206\u001b[0;31m     \u001b[0;32mraise\u001b[0m \u001b[0mGetoptError\u001b[0m\u001b[0;34m(\u001b[0m\u001b[0;34m'option -%s not recognized'\u001b[0m \u001b[0;34m%\u001b[0m \u001b[0mopt\u001b[0m\u001b[0;34m,\u001b[0m \u001b[0mopt\u001b[0m\u001b[0;34m)\u001b[0m\u001b[0;34m\u001b[0m\u001b[0m\n\u001b[0m\u001b[1;32m    207\u001b[0m \u001b[0;34m\u001b[0m\u001b[0m\n\u001b[1;32m    208\u001b[0m \u001b[0;32mif\u001b[0m \u001b[0m__name__\u001b[0m \u001b[0;34m==\u001b[0m \u001b[0;34m'__main__'\u001b[0m\u001b[0;34m:\u001b[0m\u001b[0;34m\u001b[0m\u001b[0m\n",
        "\u001b[0;31mGetoptError\u001b[0m: option -f not recognized"
       ]
      }
     ],
     "prompt_number": 629
    },
    {
     "cell_type": "markdown",
     "metadata": {},
     "source": [
      "### More Lexical Relations\n",
      "\n",
      "- lexical relations: Hypernym(\uc0c1\uc704\uc5b4), hyponym(\ud558\uc758\uc5b4)\n",
      "- \ub2e4\ub978 \uac83\ub4e4\uacfc \uad00\uacc4\uac00 \uc788\uae30 \ub54c\ubb38\n",
      "- [meronyms](http://en.wikipedia.org/wiki/Meronymy): \ubd80\ubd84\uc5b4. Y\uac00 X\uc758 \ubd80\ubd84\uc774\uba74 Y\ub294 X\uc758 \ubd80\ubd84\uc5b4\n",
      "- [Holonymy](http://en.wikipedia.org/wiki/Holonymy): semantic relation, \uc804\uccb4\uc5b4, X\uac00 Y\uc758 \ubd80\ubd84\uc774\uba74 Y\ub294 X\uc758 \uc804\uccb4\uc5b4\n",
      "- substance_meronyms(): \ub098\ubb34\ub4e4\uc758 \ud3fc\uc5d0 \ub300\ud55c \ubaa8\uc74c. \uc232?"
     ]
    },
    {
     "cell_type": "code",
     "collapsed": false,
     "input": [
      "# burl: \ub9c8\ub514\n",
      "# crown: \uaf2d\ub300\uae30\n",
      "# limb: \ub098\ubb47\uac00\uc9c0\n",
      "# stump: \uadf8\ub8e8\ud130\uae30\n",
      "# trunk: \ub098\ubb34\uc758 \ubab8\ud1b5\n",
      "wn.synset('tree.n.01').part_meronyms()"
     ],
     "language": "python",
     "metadata": {},
     "outputs": [
      {
       "metadata": {},
       "output_type": "pyout",
       "prompt_number": 630,
       "text": [
        "[Synset('burl.n.02'),\n",
        " Synset('crown.n.07'),\n",
        " Synset('limb.n.02'),\n",
        " Synset('stump.n.01'),\n",
        " Synset('trunk.n.01')]"
       ]
      }
     ],
     "prompt_number": 630
    },
    {
     "cell_type": "code",
     "collapsed": false,
     "input": [
      "# heartwood: \uc2ec\uc7ac\n",
      "# sapwood: \ubcc0\uc7ac(\ub098\ubb34\uaecd\uc9c8 \ubc14\ub85c \uc548\ucabd, \ud1b5\ub098\ubb34\uc758 \uac89 \ubd80\ubd84\uc5d0 \ud574\ub2f9\ud558\ub294 \ud68c\uace0 \ubb34\ub978 \ubd80\ubd84)\n",
      "# substance: \ubb3c\n",
      "# \ubb3c\uc9c8\uc758 \ubd80\ubd84\uc5b4\n",
      "wn.synset('tree.n.01').substance_meronyms()"
     ],
     "language": "python",
     "metadata": {},
     "outputs": [
      {
       "metadata": {},
       "output_type": "pyout",
       "prompt_number": 631,
       "text": [
        "[Synset('heartwood.n.01'), Synset('sapwood.n.01')]"
       ]
      }
     ],
     "prompt_number": 631
    },
    {
     "cell_type": "code",
     "collapsed": false,
     "input": [
      "# \uc804\uccb4\uc5b4\uc5d0 \uc18d\ud574\uc788\ub294 \uac83\n",
      "wn.synset('tree.n.01').member_holonyms()"
     ],
     "language": "python",
     "metadata": {},
     "outputs": [
      {
       "metadata": {},
       "output_type": "pyout",
       "prompt_number": 632,
       "text": [
        "[Synset('forest.n.01')]"
       ]
      }
     ],
     "prompt_number": 632
    },
    {
     "cell_type": "code",
     "collapsed": false,
     "input": [
      "for synset in wn.synsets('mint', wn.NOUN):\n",
      "#     print synset.name() + ':', synset.definition()\n",
      "    print '{0}: {1}'.format(synset.name(), synset.definition())"
     ],
     "language": "python",
     "metadata": {},
     "outputs": [
      {
       "output_type": "stream",
       "stream": "stdout",
       "text": [
        "batch.n.02: (often followed by `of') a large number or amount or extent\n",
        "mint.n.02: any north temperate plant of the genus Mentha with aromatic leaves and small mauve flowers\n",
        "mint.n.03: any member of the mint family of plants\n",
        "mint.n.04: the leaves of a mint plant used fresh or candied\n",
        "mint.n.05: a candy that is flavored with a mint oil\n",
        "mint.n.06: a plant where money is coined by authority of the government\n"
       ]
      }
     ],
     "prompt_number": 636
    },
    {
     "cell_type": "code",
     "collapsed": false,
     "input": [
      "wn.synset('mint.n.04').part_holonyms()"
     ],
     "language": "python",
     "metadata": {},
     "outputs": [
      {
       "metadata": {},
       "output_type": "pyout",
       "prompt_number": 637,
       "text": [
        "[Synset('mint.n.02')]"
       ]
      }
     ],
     "prompt_number": 637
    },
    {
     "cell_type": "code",
     "collapsed": false,
     "input": [
      "wn.synset('mint.n.04').substance_holonyms()"
     ],
     "language": "python",
     "metadata": {},
     "outputs": [
      {
       "metadata": {},
       "output_type": "pyout",
       "prompt_number": 638,
       "text": [
        "[Synset('mint.n.05')]"
       ]
      }
     ],
     "prompt_number": 638
    },
    {
     "cell_type": "markdown",
     "metadata": {},
     "source": [
      "### \ub3d9\uc0ac(Verb)"
     ]
    },
    {
     "cell_type": "markdown",
     "metadata": {},
     "source": [
      "- entail: \uc218\ubc18\ud558\ub2e4"
     ]
    },
    {
     "cell_type": "code",
     "collapsed": false,
     "input": [
      "wn.synset('walk.v.01').entailments()"
     ],
     "language": "python",
     "metadata": {},
     "outputs": [
      {
       "metadata": {},
       "output_type": "pyout",
       "prompt_number": 642,
       "text": [
        "[Synset('step.v.01')]"
       ]
      }
     ],
     "prompt_number": 642
    },
    {
     "cell_type": "code",
     "collapsed": false,
     "input": [
      "wn.synset('eat.v.01').entailments()"
     ],
     "language": "python",
     "metadata": {},
     "outputs": [
      {
       "metadata": {},
       "output_type": "pyout",
       "prompt_number": 643,
       "text": [
        "[Synset('chew.v.01'), Synset('swallow.v.01')]"
       ]
      }
     ],
     "prompt_number": 643
    },
    {
     "cell_type": "code",
     "collapsed": false,
     "input": [
      "# tease: \ub180\ub9ac\ub2e4\n",
      "# arouse: \ubd88\ub7ec\uc77c\uc73c\ud0a4\ub2e4\n",
      "# disappoint: \uc2e4\ub9dd\uc2dc\ud0a4\ub2e4\n",
      "wn.synset('tease.v.03').entailments()"
     ],
     "language": "python",
     "metadata": {},
     "outputs": [
      {
       "metadata": {},
       "output_type": "pyout",
       "prompt_number": 644,
       "text": [
        "[Synset('arouse.v.07'), Synset('disappoint.v.01')]"
       ]
      }
     ],
     "prompt_number": 644
    },
    {
     "cell_type": "markdown",
     "metadata": {},
     "source": [
      "### \uba85\uc0ac antonymy: \ubc18\uc758\uc131"
     ]
    },
    {
     "cell_type": "code",
     "collapsed": false,
     "input": [
      "# \uacf5\uae09\uacfc \uc218\uc694\n",
      "wn.lemma('supply.n.02.supply').antonyms()"
     ],
     "language": "python",
     "metadata": {},
     "outputs": [
      {
       "metadata": {},
       "output_type": "pyout",
       "prompt_number": 645,
       "text": [
        "[Lemma('demand.n.02.demand')]"
       ]
      }
     ],
     "prompt_number": 645
    },
    {
     "cell_type": "code",
     "collapsed": false,
     "input": [
      "# \ub0a8\ub2e4\n",
      "wn.lemma('rush.v.01.rush').antonyms()"
     ],
     "language": "python",
     "metadata": {},
     "outputs": [
      {
       "metadata": {},
       "output_type": "pyout",
       "prompt_number": 646,
       "text": [
        "[Lemma('linger.v.04.linger')]"
       ]
      }
     ],
     "prompt_number": 646
    },
    {
     "cell_type": "code",
     "collapsed": false,
     "input": [
      "wn.lemma('horizontal.a.01.horizontal').antonyms()"
     ],
     "language": "python",
     "metadata": {},
     "outputs": [
      {
       "metadata": {},
       "output_type": "pyout",
       "prompt_number": 648,
       "text": [
        "[Lemma('inclined.a.02.inclined'), Lemma('vertical.a.01.vertical')]"
       ]
      }
     ],
     "prompt_number": 648
    },
    {
     "cell_type": "code",
     "collapsed": false,
     "input": [
      "# \ub0a0\uce74\ub85c\uc6b4, \ubd80\ub4dc\ub7ec\uc6b4\n",
      "wn.lemma('staccato.r.01.staccato').antonyms()"
     ],
     "language": "python",
     "metadata": {},
     "outputs": [
      {
       "metadata": {},
       "output_type": "pyout",
       "prompt_number": 649,
       "text": [
        "[Lemma('legato.r.01.legato')]"
       ]
      }
     ],
     "prompt_number": 649
    },
    {
     "cell_type": "markdown",
     "metadata": {},
     "source": [
      "#### dir\n",
      "\n",
      "- \uc5b4\ub5a4 \uba54\uc18c\ub4dc\uac00 \uc815\uc758\ub418\uc5b4 \uc788\ub294\uc9c0 \ud655\uc778"
     ]
    },
    {
     "cell_type": "code",
     "collapsed": false,
     "input": [
      "dir(wn.synset('harmony.n.02'))"
     ],
     "language": "python",
     "metadata": {},
     "outputs": [
      {
       "metadata": {},
       "output_type": "pyout",
       "prompt_number": 655,
       "text": [
        "['__class__',\n",
        " '__delattr__',\n",
        " '__dict__',\n",
        " '__doc__',\n",
        " '__eq__',\n",
        " '__format__',\n",
        " '__ge__',\n",
        " '__getattribute__',\n",
        " '__gt__',\n",
        " '__hash__',\n",
        " '__init__',\n",
        " '__le__',\n",
        " '__lt__',\n",
        " '__module__',\n",
        " '__ne__',\n",
        " '__new__',\n",
        " '__reduce__',\n",
        " '__reduce_ex__',\n",
        " '__repr__',\n",
        " '__setattr__',\n",
        " '__sizeof__',\n",
        " '__slots__',\n",
        " '__str__',\n",
        " '__subclasshook__',\n",
        " '__unicode__',\n",
        " '__weakref__',\n",
        " '_all_hypernyms',\n",
        " '_definition',\n",
        " '_examples',\n",
        " '_frame_ids',\n",
        " '_hypernyms',\n",
        " '_instance_hypernyms',\n",
        " '_iter_hypernym_lists',\n",
        " '_lemma_names',\n",
        " '_lemma_pointers',\n",
        " '_lemmas',\n",
        " '_lexname',\n",
        " '_max_depth',\n",
        " '_min_depth',\n",
        " '_name',\n",
        " '_needs_root',\n",
        " '_offset',\n",
        " '_pointers',\n",
        " '_pos',\n",
        " '_related',\n",
        " '_shortest_hypernym_paths',\n",
        " '_wordnet_corpus_reader',\n",
        " 'also_sees',\n",
        " 'attributes',\n",
        " 'causes',\n",
        " 'closure',\n",
        " 'common_hypernyms',\n",
        " 'definition',\n",
        " 'entailments',\n",
        " 'examples',\n",
        " 'frame_ids',\n",
        " 'hypernym_distances',\n",
        " 'hypernym_paths',\n",
        " 'hypernyms',\n",
        " 'hyponyms',\n",
        " 'instance_hypernyms',\n",
        " 'instance_hyponyms',\n",
        " 'jcn_similarity',\n",
        " 'lch_similarity',\n",
        " 'lemma_names',\n",
        " 'lemmas',\n",
        " 'lexname',\n",
        " 'lin_similarity',\n",
        " 'lowest_common_hypernyms',\n",
        " 'max_depth',\n",
        " 'member_holonyms',\n",
        " 'member_meronyms',\n",
        " 'min_depth',\n",
        " 'name',\n",
        " 'offset',\n",
        " 'part_holonyms',\n",
        " 'part_meronyms',\n",
        " 'path_similarity',\n",
        " 'pos',\n",
        " 'region_domains',\n",
        " 'res_similarity',\n",
        " 'root_hypernyms',\n",
        " 'shortest_path_distance',\n",
        " 'similar_tos',\n",
        " 'substance_holonyms',\n",
        " 'substance_meronyms',\n",
        " 'topic_domains',\n",
        " 'tree',\n",
        " 'unicode_repr',\n",
        " 'usage_domains',\n",
        " 'verb_groups',\n",
        " 'wup_similarity']"
       ]
      }
     ],
     "prompt_number": 655
    },
    {
     "cell_type": "markdown",
     "metadata": {},
     "source": [
      "### Semantic Similarity(\uc758\ubbf8\ub860\uc801 \uc720\uc0ac\uc131)\n",
      "\n",
      "- synsets\uc740 \ubcf5\uc7a1\ud55c \ub124\ud2b8\uc6cc\ud06c \uc5b4\ud718 \uad00\uacc4\uc5d0 \uc758\ud574 \ub9c1\ud06c\ub418\uc5b4 \uc788\ub2e4."
     ]
    },
    {
     "cell_type": "code",
     "collapsed": false,
     "input": [
      "right = wn.synset('right_whale.n.01')\n",
      "right"
     ],
     "language": "python",
     "metadata": {},
     "outputs": [
      {
       "metadata": {},
       "output_type": "pyout",
       "prompt_number": 657,
       "text": [
        "Synset('right_whale.n.01')"
       ]
      }
     ],
     "prompt_number": 657
    },
    {
     "cell_type": "code",
     "collapsed": false,
     "input": [
      "# \ud71c\uc8fd\ubc1c\uc774\ubb3c\ub3fc\uc9c0(\uc721\uc2dd\uc721\uc2dd \uace0\ub798)\n",
      "orca = wn.synset('orca.n.01')\n",
      "orca"
     ],
     "language": "python",
     "metadata": {},
     "outputs": [
      {
       "metadata": {},
       "output_type": "pyout",
       "prompt_number": 658,
       "text": [
        "Synset('killer_whale.n.01')"
       ]
      }
     ],
     "prompt_number": 658
    },
    {
     "cell_type": "code",
     "collapsed": false,
     "input": [
      "# \uac70\ubd81\uc774\n",
      "minke = wn.synset('minke_whale.n.01')\n",
      "minke"
     ],
     "language": "python",
     "metadata": {},
     "outputs": [
      {
       "metadata": {},
       "output_type": "pyout",
       "prompt_number": 664,
       "text": [
        "Synset('lesser_rorqual.n.01')"
       ]
      }
     ],
     "prompt_number": 664
    },
    {
     "cell_type": "code",
     "collapsed": false,
     "input": [
      "tortoise = wn.synset('tortoise.n.01')\n",
      "tortoise"
     ],
     "language": "python",
     "metadata": {},
     "outputs": [
      {
       "metadata": {},
       "output_type": "pyout",
       "prompt_number": 666,
       "text": [
        "Synset('tortoise.n.01')"
       ]
      }
     ],
     "prompt_number": 666
    },
    {
     "cell_type": "code",
     "collapsed": false,
     "input": [
      "novel = wn.synset('novel.n.01')\n",
      "novel"
     ],
     "language": "python",
     "metadata": {},
     "outputs": [
      {
       "metadata": {},
       "output_type": "pyout",
       "prompt_number": 660,
       "text": [
        "Synset('novel.n.01')"
       ]
      }
     ],
     "prompt_number": 660
    },
    {
     "cell_type": "code",
     "collapsed": false,
     "input": [
      "right.lowest_common_hypernyms(minke)"
     ],
     "language": "python",
     "metadata": {},
     "outputs": [
      {
       "metadata": {},
       "output_type": "pyout",
       "prompt_number": 669,
       "text": [
        "[Synset('baleen_whale.n.01')]"
       ]
      }
     ],
     "prompt_number": 669
    },
    {
     "cell_type": "code",
     "collapsed": false,
     "input": [
      "right.lowest_common_hypernyms(orca)"
     ],
     "language": "python",
     "metadata": {},
     "outputs": [
      {
       "metadata": {},
       "output_type": "pyout",
       "prompt_number": 662,
       "text": [
        "[Synset('whale.n.02')]"
       ]
      }
     ],
     "prompt_number": 662
    },
    {
     "cell_type": "code",
     "collapsed": false,
     "input": [
      "# \uac70\ubd81\uc774\n",
      "# \ucc99\ucd94 \ub3d9\ubb3c\n",
      "right.lowest_common_hypernyms(tortoise)"
     ],
     "language": "python",
     "metadata": {},
     "outputs": [
      {
       "metadata": {},
       "output_type": "pyout",
       "prompt_number": 667,
       "text": [
        "[Synset('vertebrate.n.01')]"
       ]
      }
     ],
     "prompt_number": 667
    },
    {
     "cell_type": "code",
     "collapsed": false,
     "input": [
      "right.lowest_common_hypernyms(novel)"
     ],
     "language": "python",
     "metadata": {},
     "outputs": [
      {
       "metadata": {},
       "output_type": "pyout",
       "prompt_number": 668,
       "text": [
        "[Synset('entity.n.01')]"
       ]
      }
     ],
     "prompt_number": 668
    },
    {
     "cell_type": "markdown",
     "metadata": {},
     "source": [
      "- baleen: very specific\n",
      "- vertebrate: \uad49\uc7a5\ud788 \uc77c\ubc18\uc801\n",
      "- entity: completely general"
     ]
    },
    {
     "cell_type": "markdown",
     "metadata": {},
     "source": [
      "- \uae4a\uc774\uac00 \ub0ae\uc73c\uba74 \uae08\ubc29 \ub05d\ub09c\ub2e4\n",
      "- \uace0\ub798\uc5d0 \ud558\uc704\uc5b4\uac00 \ub9ce\uc73c\uba74 \uae4a\uc774\uac00 \uae4a\uc5b4\uc9c4\ub2e4.\n",
      "- \uc720\uc758\uc5b4\uac74 \uc0c1\uc704\uc5b4\uac74 \uae4a\uc774\uac00 \uacc4\uc18d \ub098\uc628\ub2e4.\n",
      "- \ub2e4 \ub611\uac19\uc9c0 \uc54a\ub2e4\ub294\uac78 \uc54c\uc544\uc57c \ud558\ub2c8\uae4c"
     ]
    },
    {
     "cell_type": "code",
     "collapsed": false,
     "input": [
      "wn.synset('minke_whale.n.01').min_depth()"
     ],
     "language": "python",
     "metadata": {},
     "outputs": [
      {
       "metadata": {},
       "output_type": "pyout",
       "prompt_number": 675,
       "text": [
        "16"
       ]
      }
     ],
     "prompt_number": 675
    },
    {
     "cell_type": "code",
     "collapsed": false,
     "input": [
      "wn.synset('baleen_whale.n.01').min_depth()"
     ],
     "language": "python",
     "metadata": {},
     "outputs": [
      {
       "metadata": {},
       "output_type": "pyout",
       "prompt_number": 670,
       "text": [
        "14"
       ]
      }
     ],
     "prompt_number": 670
    },
    {
     "cell_type": "code",
     "collapsed": false,
     "input": [
      "wn.synset('whale.n.02').min_depth()"
     ],
     "language": "python",
     "metadata": {},
     "outputs": [
      {
       "metadata": {},
       "output_type": "pyout",
       "prompt_number": 671,
       "text": [
        "13"
       ]
      }
     ],
     "prompt_number": 671
    },
    {
     "cell_type": "code",
     "collapsed": false,
     "input": [
      "wn.synset('vertebrate.n.01').min_depth()"
     ],
     "language": "python",
     "metadata": {},
     "outputs": [
      {
       "metadata": {},
       "output_type": "pyout",
       "prompt_number": 673,
       "text": [
        "8"
       ]
      }
     ],
     "prompt_number": 673
    },
    {
     "cell_type": "code",
     "collapsed": false,
     "input": [
      "wn.synset('entity.n.01').min_depth()"
     ],
     "language": "python",
     "metadata": {},
     "outputs": [
      {
       "metadata": {},
       "output_type": "pyout",
       "prompt_number": 674,
       "text": [
        "0"
       ]
      }
     ],
     "prompt_number": 674
    },
    {
     "cell_type": "markdown",
     "metadata": {},
     "source": [
      "- Similarity measure\n",
      "- path_similarity: 0-1\uc5d0\uc11c \uc810\uc218\ub97c \ub9e4\uae34\ub2e4."
     ]
    },
    {
     "cell_type": "code",
     "collapsed": false,
     "input": [
      "right.path_similarity(minke)"
     ],
     "language": "python",
     "metadata": {},
     "outputs": [
      {
       "metadata": {},
       "output_type": "pyout",
       "prompt_number": 676,
       "text": [
        "0.25"
       ]
      }
     ],
     "prompt_number": 676
    },
    {
     "cell_type": "code",
     "collapsed": false,
     "input": [
      "right.path_similarity(orca)"
     ],
     "language": "python",
     "metadata": {},
     "outputs": [
      {
       "metadata": {},
       "output_type": "pyout",
       "prompt_number": 677,
       "text": [
        "0.16666666666666666"
       ]
      }
     ],
     "prompt_number": 677
    },
    {
     "cell_type": "code",
     "collapsed": false,
     "input": [
      "right.path_similarity(tortoise)"
     ],
     "language": "python",
     "metadata": {},
     "outputs": [
      {
       "metadata": {},
       "output_type": "pyout",
       "prompt_number": 678,
       "text": [
        "0.07692307692307693"
       ]
      }
     ],
     "prompt_number": 678
    },
    {
     "cell_type": "code",
     "collapsed": false,
     "input": [
      "right.path_similarity(novel)"
     ],
     "language": "python",
     "metadata": {},
     "outputs": [
      {
       "metadata": {},
       "output_type": "pyout",
       "prompt_number": 679,
       "text": [
        "0.043478260869565216"
       ]
      }
     ],
     "prompt_number": 679
    },
    {
     "cell_type": "markdown",
     "metadata": {},
     "source": [
      "#### Several other similarity measures are available"
     ]
    },
    {
     "cell_type": "code",
     "collapsed": false,
     "input": [
      "# help(wn)"
     ],
     "language": "python",
     "metadata": {},
     "outputs": [],
     "prompt_number": 681
    },
    {
     "cell_type": "code",
     "collapsed": false,
     "input": [
      "nltk.corpus.verbnet"
     ],
     "language": "python",
     "metadata": {},
     "outputs": [
      {
       "metadata": {},
       "output_type": "pyout",
       "prompt_number": 684,
       "text": [
        "<VerbnetCorpusReader in u'/Users/re4lfl0w/nltk_data/corpora/verbnet'>"
       ]
      }
     ],
     "prompt_number": 684
    },
    {
     "cell_type": "markdown",
     "metadata": {},
     "source": [
      "## 2.6 Summary\n",
      "\n",
      "- A text corpus is a large, structured collection of texts. NLTK comes with many corpora, e.g., the Brown Corpus, nltk.corpus.brown\n",
      "- Some text corpora are categorized e.g., by genre or topic; sometimes the categories of a corpus overlap each other.\n",
      "- A conditional frequency distribution is a collection of frequency distributions, each one for a different condition. They can be used for counting word frequencies, given a context or a genre.\n",
      "- Python programs more than a few lines long should be entered using a text editor, saved to a file with a.py extension, and accessed using an import statement\n",
      "- Python functions permit(\ud5c8\ub77d\ud558\ub2e4) you to associate a name with a particular block of code, and reuse that code as often as necessary.\n",
      "- Some functions, known as \"methods\", are associated with an object, and we give the object name followed by a period followed by the method name, like this: **x.funct(y)**, e.g., **word.isalpha()**\n",
      "- To find out about somre variable v, type help(v) in the Python interactive interpreter to read the help entry for this kind of object\n",
      "- WordNet is a semantically oriented dictionary of English, consisting of synonymsets--or synsets--and organized into a network\n",
      "- Some functions are not available by default, but must be accessed using Python's import statement."
     ]
    },
    {
     "cell_type": "markdown",
     "metadata": {},
     "source": [
      "## 2.7 Further Reading\n",
      "\n",
      "- Extra materials: http://www.nltk.org\n",
      "- Corpus HOWTO: http://www.nltk.org/howto\n",
      "- Linguistic Data Consortium(LDC)\n",
      "- European Language Resource Agency(ELRA)\n",
      "- OLAC Meta data: http://www.language-archives.org\n",
      "- Corpora List: http://gandalf.aksis.uib.no/corpora/sub.html\n",
      "- Ethnologue: http://www.ethnologue.com\n",
      "- \uc774\ubc88\uc7a5\uc5d0\uc11c Corpus Linguistics\ub97c \uac74\ub4dc\ub824\ubd24\ub2e4\n",
      "- WordNet: \uc2ec\ub9ac \uc5b8\uc5b4\ud559\uc5d0\uc11c \uc5f0\uad6c\ub418\uc5c8\ub2e4. http://globalwordnet.org"
     ]
    },
    {
     "cell_type": "markdown",
     "metadata": {},
     "source": [
      "## 2.8 Exercises\n",
      "\n",
      "- pass...\n",
      "- \uc544 \uc815\ub9d0 \uc5b4\ub835\ub2e4.\n",
      "- \ud30c\uc774\uc36c \ucf54\ub4dc\ub294 \uc774\ud574\uac00 \ub418\ub294\ub370\n",
      "- \uc790\uc5f0\uc5b4\uc5d0 \ub300\ud55c \uac1c\ub150\uc774 \uc5c6\uc5b4\uc11c \ubb34\uc2a8 \uc18c\ub9ac\uc778\uc9c0 \ubaa8\ub974\uaca0\ub2e4.\n",
      "- \uadf8\ub798\ub3c4 \ucf54\ub4dc\ub97c \ubcf4\ub2c8 \ub300\ucda9 \uc5b4\ub5a4 \uac1c\ub150\uc778\uc9c0\ub294 \uc870\uae08 \uc774\ud574\ub294 \ub41c\ub2e4.\n",
      "- \ub0b4\uac00 \ubc1c\ud45c\ud560 \uc8fc\uc81c\ub97c \uc774\ud574\ud558\ub824\uba74 \uc774\uc804 \uc7a5\ub3c4 \ubcfc \ud544\uc694\uac00 \uc788\ub2e4\uace0 \ud310\ub2e8\ud574 1\uc7a5\ub3c4 \ubd24\ub294\ub370 \uc2dc\uac04\uc774 \ub354 \ub9ce\uc774 \uc18c\ubaa8\ub410\ub2e4. \uadf8\ub807\uc9c0\ub9cc 1\uc7a5\uc5d0\uc11c \ud070 \uadf8\ub9bc\uc744 \uc7a1\uc544\uc11c \uad1c\ucc2e\uc558\ub2e4. \ubb3c\ub860 1\uc7a5\uc5d0\uc11c \ud30c\uc774\uc36c \ucf54\ub4dc \uc124\uba85\uc740 \ub098\uc5d0\uac8c\ub294 \uc548 \ub9de\uc544\uc11c \ube60\ub974\uac8c \ub118\uc5b4\uac14\ub2e4."
     ]
    }
   ],
   "metadata": {}
  }
 ]
}