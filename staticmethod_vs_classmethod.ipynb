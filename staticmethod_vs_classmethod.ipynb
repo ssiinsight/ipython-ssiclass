{
 "metadata": {
  "name": "",
  "signature": "sha256:824f560ddacb1b0288add8e38a718ce2879776cab4cdd8f2d7a9f9078c4941d4"
 },
 "nbformat": 3,
 "nbformat_minor": 0,
 "worksheets": [
  {
   "cells": [
    {
     "cell_type": "markdown",
     "metadata": {},
     "source": [
      "# Staticmethod vs Classmethod\n",
      "\n",
      "- \uad1c\ucc2e\uc740 library\ub4e4\uc744 \ubcf4\uba74 \ud56d\uc0c1 \uc774 \ub370\ucf54\ub808\uc774\ud130\ub4e4\uc774 \uc788\ub2e4.\n",
      "- \ubc14\uafd4\ub9d0\ud558\uc790\uba74 \uc774\ub7f0 \ub370\ucf54\ub808\uc774\ub4e4\uc744 \ubcfc \uc218 \uc5c6\ub2e4\uba74 \uad1c\ucc2e\uc740 library\uac00 \uc544\ub2c8\ub77c\ub294 \ub9d0\uacfc\ub3c4 \uc77c\uce58\ud558\ub824\ub098..?\n",
      "- \uc5b4\ub5a4 \ub73b\uc778\uc9c0 \ubab0\ub77c\uc11c \ud55c \ubc88 \uc815\ub9ac\ud574 \ubcf4\uac8c\ub410\ub2e4.\n",
      "- \uc5ec\ub7ec\uac00\uc9c0 \uc5d0\uc81c\ub4e4\uc744 \uc774\ud574\uac00 \ub420 \ub54c\uae4c\uc9c0 \ub3cc\ub824\ubcf4\uc790. \uc0ac\ub78c\ub4e4 \uac01\uc790 \uc774\ud574\ud55c\uac8c \ub2e4\ub974\uae30 \ub54c\ubb38\uc5d0 \uc124\uba85 \ubc29\uc2dd\ub3c4 \uc81c\uac01\uac01\n",
      "- \uacc4\uc18d \ud14c\uc2a4\ud2b8\ub97c \ud558\ub2e4\ubcf4\uba74 \uc5b8\uc820\uac00 '\uc544! \uc774\uac70\uad6c\ub098!!' \uc720\ub808\uce74\ub97c \uc678\uce58\ub294 \uc77c\uc774 \ubc1c\uc0dd\ud55c\ub2e4.\n",
      "- \uc774\uc81c \uc880 \uc774\ud574\uac00 \ub41c\uac83 \uac19\ub2e4. \uc774\ud574\ub420 \ub54c\uae4c\uc9c0 \ub2e4\ub978 \uc0ac\ub78c\uc758 \ube14\ub85c\uadf8\ub4e4\uc744 \ucc38\uc870\ud558\uba74\uc11c \uc5f0\uc2b5\ud574\ubcf4\uc790."
     ]
    },
    {
     "cell_type": "markdown",
     "metadata": {},
     "source": [
      "## [\uc9c0\ud6c8\ud604\uc11c : \\[Python\\] \ud074\ub798\uc2a4 \ub2e4\uc911\uc0c1\uc18d \ubc0f @classmethod : \ub367\uae00 > \\[Python\\] \ud074\ub798\uc2a4 \ub2e4\uc911\uc0c1\uc18d \ubc0f @classmethod : \ud2b8\ub799\ubc31 > \\[Python\\] \ud074\ub798\uc2a4 \ub2e4\uc911\uc0c1\uc18d \ubc0f @classmethod](http://mcchae.egloos.com/viewer/11031012)\n",
      "  - classmethod: \uc0c1\uc18d\ud55c \ud074\ub798\uc2a4\uc758 \ub0b4\uc6a9\uc5d0 \ub530\ub77c \uc791\uc5c5\uc744 \ud558\uace0 \uc2f6\uc744 \ub54c\n",
      "  - staticmethod: \uc544\ubb34\uac83\ub3c4 \uc5c6\uc774 class \ud568\uc218\ub9cc\uc744 \uc774\uc6a9\ud560 \ub54c"
     ]
    },
    {
     "cell_type": "code",
     "collapsed": false,
     "input": [
      "class A():\n",
      "    S_VAL = 1\n",
      "    def m(self, *args, **kwargs):\n",
      "        print('%s.m(%s,%s)' % (self.__class__.__name__, args, kwargs))\n",
      "        \n",
      "    def mA(self, *args, **kwargs):\n",
      "        print('%s.mA(%s,%s)' % (self.__class__.__name__, args, kwargs))\n",
      "        \n",
      "    @staticmethod\n",
      "    def s():\n",
      "        print('%s.c: S_VAL=%s' % (A.__name__, A.S_VAL))\n",
      "        \n",
      "    @classmethod\n",
      "    def c(cls):\n",
      "        print('%s.c: S_VAL=%s' % (cls.__name__, cls.S_VAL))\n",
      "        \n",
      "class B():\n",
      "    S_VAL = 2\n",
      "    def m(self, *args, **kwargs):\n",
      "        print('%s.m(%s,%s)' % (self.__class__.__name__, args, kwargs))\n",
      "        \n",
      "    def mB(self, *args, **kwargs):\n",
      "        print('%s.mB(%s,%s)' % (self.__class__.__name__, args, kwargs))\n",
      "        \n",
      "class C(A, B):\n",
      "    S_VAL = 3\n",
      "    def m(self, *args, **kwargs):\n",
      "        print('%s.m(%s,%s)' % (self.__class__.__name__, args, kwargs))"
     ],
     "language": "python",
     "metadata": {},
     "outputs": [],
     "prompt_number": 89
    },
    {
     "cell_type": "markdown",
     "metadata": {},
     "source": [
      "#### static method"
     ]
    },
    {
     "cell_type": "code",
     "collapsed": false,
     "input": [
      "A.s()"
     ],
     "language": "python",
     "metadata": {},
     "outputs": [
      {
       "output_type": "stream",
       "stream": "stdout",
       "text": [
        "A.c: S_VAL=1\n"
       ]
      }
     ],
     "prompt_number": 90
    },
    {
     "cell_type": "code",
     "collapsed": false,
     "input": [
      "C.s()"
     ],
     "language": "python",
     "metadata": {},
     "outputs": [
      {
       "output_type": "stream",
       "stream": "stdout",
       "text": [
        "A.c: S_VAL=1\n"
       ]
      }
     ],
     "prompt_number": 91
    },
    {
     "cell_type": "markdown",
     "metadata": {},
     "source": [
      "#### class method"
     ]
    },
    {
     "cell_type": "code",
     "collapsed": false,
     "input": [
      "A.c()"
     ],
     "language": "python",
     "metadata": {},
     "outputs": [
      {
       "output_type": "stream",
       "stream": "stdout",
       "text": [
        "A.c: S_VAL=1\n"
       ]
      }
     ],
     "prompt_number": 92
    },
    {
     "cell_type": "code",
     "collapsed": false,
     "input": [
      "C.c()"
     ],
     "language": "python",
     "metadata": {},
     "outputs": [
      {
       "output_type": "stream",
       "stream": "stdout",
       "text": [
        "C.c: S_VAL=3\n"
       ]
      }
     ],
     "prompt_number": 93
    },
    {
     "cell_type": "markdown",
     "metadata": {},
     "source": [
      "- \uc989 **\uc0c1\uc18d\ud55c \ud074\ub798\uc2a4 \ub0b4\uc6a9\uc5d0 \ub530\ub77c \uc791\uc5c5**\uc744 \ud558\uace0 \uc2f6\uc73c\uba74 **@classmethod**\ub97c \uc774\uc6a9\ud558\uace0, **\uc544\ubb34\uac83\ub3c4 \uc5c6\uc774 \ud074\ub798\uc2a4 \ud568\uc218\ub9cc**\uc744 \uc774\uc6a9\ud55c\ub2e4\uba74 **@staticmethod\ub97c \ud638\ucd9c**\ud558\ub294 \uac83\uc774\uc9c0\uc694."
     ]
    },
    {
     "cell_type": "markdown",
     "metadata": {},
     "source": [
      "## [ Python Decorators Overview - Python Central](http://www.pythoncentral.io/python-decorators-overview/)\n",
      "## [ Difference between @staticmethod and @classmethod in Python - Python Central](http://www.pythoncentral.io/difference-between-staticmethod-and-classmethod-in-python/)"
     ]
    },
    {
     "cell_type": "code",
     "collapsed": false,
     "input": [
      "def get_no_of_instances(cls_obj):\n",
      "    return cls_obj.no_inst\n",
      " \n",
      "class Kls(object):\n",
      "    no_inst = 0\n",
      " \n",
      "    def __init__(self):\n",
      "        Kls.no_inst = Kls.no_inst + 1\n",
      " \n",
      "ik1 = Kls()\n",
      "ik2 = Kls()\n",
      " \n",
      "print(get_no_of_instances(Kls))"
     ],
     "language": "python",
     "metadata": {},
     "outputs": [
      {
       "output_type": "stream",
       "stream": "stdout",
       "text": [
        "2\n"
       ]
      }
     ],
     "prompt_number": 94
    },
    {
     "cell_type": "code",
     "collapsed": false,
     "input": [
      "def iget_no_of_instance(ins_obj):\n",
      "    return ins_obj.__class__.no_inst\n",
      " \n",
      "class Kls(object):\n",
      "    no_inst = 0\n",
      " \n",
      "    def __init__(self):\n",
      "        Kls.no_inst = Kls.no_inst + 1\n",
      " \n",
      "ik1 = Kls()\n",
      "ik2 = Kls()\n",
      "print(iget_no_of_instance(ik1))"
     ],
     "language": "python",
     "metadata": {},
     "outputs": [
      {
       "output_type": "stream",
       "stream": "stdout",
       "text": [
        "2\n"
       ]
      }
     ],
     "prompt_number": 97
    },
    {
     "cell_type": "code",
     "collapsed": false,
     "input": [
      "class Kls(object):\n",
      "    no_inst = 0\n",
      " \n",
      "    def __init__(self):\n",
      "        Kls.no_inst = Kls.no_inst + 1\n",
      " \n",
      "    @classmethod\n",
      "    def get_no_of_instance(cls_obj):\n",
      "        return cls_obj.no_inst\n",
      " \n",
      "ik1 = Kls()\n",
      "ik2 = Kls()\n",
      " \n",
      "print(ik1.get_no_of_instance())\n",
      "print(Kls.get_no_of_instance())"
     ],
     "language": "python",
     "metadata": {},
     "outputs": [
      {
       "output_type": "stream",
       "stream": "stdout",
       "text": [
        "2\n",
        "2\n"
       ]
      }
     ],
     "prompt_number": 98
    },
    {
     "cell_type": "code",
     "collapsed": false,
     "input": [
      "IND = 'ON'\n",
      " \n",
      "def checkind():\n",
      "    return (IND == 'ON')\n",
      " \n",
      "class Kls(object):\n",
      "    def __init__(self,data):\n",
      "        self.data = data\n",
      " \n",
      "    def do_reset(self):\n",
      "        if checkind():\n",
      "            print('Reset done for:', self.data)\n",
      "\n",
      "    def set_db(self):\n",
      "        if checkind():\n",
      "            self.db = 'new db connection'\n",
      "            print('DB connection made for:',self.data)\n",
      " \n",
      "ik1 = Kls(12)\n",
      "ik1.do_reset()\n",
      "ik1.set_db()"
     ],
     "language": "python",
     "metadata": {},
     "outputs": [
      {
       "output_type": "stream",
       "stream": "stdout",
       "text": [
        "Reset done for: 12\n",
        "DB connection made for: 12\n"
       ]
      }
     ],
     "prompt_number": 100
    },
    {
     "cell_type": "code",
     "collapsed": false,
     "input": [
      "IND = 'ON'\n",
      " \n",
      "class Kls(object):\n",
      "    def __init__(self, data):\n",
      "        self.data = data\n",
      " \n",
      "    @staticmethod\n",
      "    def checkind():\n",
      "        return (IND == 'ON')\n",
      " \n",
      "    def do_reset(self):\n",
      "        if self.checkind():\n",
      "            print('Reset done for:', self.data)\n",
      " \n",
      "    def set_db(self):\n",
      "        if self.checkind():\n",
      "            self.db = 'New db connection'\n",
      "        print('DB connection made for: ', self.data)\n",
      " \n",
      "ik1 = Kls(12)\n",
      "ik1.do_reset()\n",
      "ik1.set_db()"
     ],
     "language": "python",
     "metadata": {},
     "outputs": [
      {
       "output_type": "stream",
       "stream": "stdout",
       "text": [
        "Reset done for: 12\n",
        "DB connection made for:  12\n"
       ]
      }
     ],
     "prompt_number": 101
    },
    {
     "cell_type": "code",
     "collapsed": false,
     "input": [
      "class Kls(object):\n",
      "    def __init__(self, data):\n",
      "        self.data = data\n",
      " \n",
      "    def printd(self):\n",
      "        print(self.data)\n",
      " \n",
      "    @staticmethod\n",
      "    def smethod(*arg):\n",
      "        print('Static:', arg)\n",
      " \n",
      "    @classmethod\n",
      "    def cmethod(*arg):\n",
      "        print('Class:', arg)"
     ],
     "language": "python",
     "metadata": {},
     "outputs": [],
     "prompt_number": 103
    },
    {
     "cell_type": "code",
     "collapsed": false,
     "input": [
      "ik = Kls(23)"
     ],
     "language": "python",
     "metadata": {},
     "outputs": [],
     "prompt_number": 104
    },
    {
     "cell_type": "code",
     "collapsed": false,
     "input": [
      "ik.printd()"
     ],
     "language": "python",
     "metadata": {},
     "outputs": [
      {
       "output_type": "stream",
       "stream": "stdout",
       "text": [
        "23\n"
       ]
      }
     ],
     "prompt_number": 105
    },
    {
     "cell_type": "code",
     "collapsed": false,
     "input": [
      "ik.smethod()"
     ],
     "language": "python",
     "metadata": {},
     "outputs": [
      {
       "output_type": "stream",
       "stream": "stdout",
       "text": [
        "Static: ()\n"
       ]
      }
     ],
     "prompt_number": 106
    },
    {
     "cell_type": "code",
     "collapsed": false,
     "input": [
      "ik.cmethod()"
     ],
     "language": "python",
     "metadata": {},
     "outputs": [
      {
       "output_type": "stream",
       "stream": "stdout",
       "text": [
        "Class: (<class '__main__.Kls'>,)\n"
       ]
      }
     ],
     "prompt_number": 107
    },
    {
     "cell_type": "code",
     "collapsed": false,
     "input": [
      "Kls.printd()"
     ],
     "language": "python",
     "metadata": {},
     "outputs": [
      {
       "ename": "TypeError",
       "evalue": "printd() missing 1 required positional argument: 'self'",
       "output_type": "pyerr",
       "traceback": [
        "\u001b[0;31m---------------------------------------------------------------------------\u001b[0m\n\u001b[0;31mTypeError\u001b[0m                                 Traceback (most recent call last)",
        "\u001b[0;32m<ipython-input-108-3a815b87a517>\u001b[0m in \u001b[0;36m<module>\u001b[0;34m()\u001b[0m\n\u001b[0;32m----> 1\u001b[0;31m \u001b[0mKls\u001b[0m\u001b[0;34m.\u001b[0m\u001b[0mprintd\u001b[0m\u001b[0;34m(\u001b[0m\u001b[0;34m)\u001b[0m\u001b[0;34m\u001b[0m\u001b[0m\n\u001b[0m",
        "\u001b[0;31mTypeError\u001b[0m: printd() missing 1 required positional argument: 'self'"
       ]
      }
     ],
     "prompt_number": 108
    },
    {
     "cell_type": "code",
     "collapsed": false,
     "input": [
      "Kls.smethod()"
     ],
     "language": "python",
     "metadata": {},
     "outputs": [
      {
       "output_type": "stream",
       "stream": "stdout",
       "text": [
        "Static: ()\n"
       ]
      }
     ],
     "prompt_number": 109
    },
    {
     "cell_type": "code",
     "collapsed": false,
     "input": [
      "Kls.cmethod()"
     ],
     "language": "python",
     "metadata": {},
     "outputs": [
      {
       "output_type": "stream",
       "stream": "stdout",
       "text": [
        "Class: (<class '__main__.Kls'>,)\n"
       ]
      }
     ],
     "prompt_number": 111
    },
    {
     "cell_type": "markdown",
     "metadata": {},
     "source": [
      "## [Python \uc815\uc801 \uba54\uc18c\ub4dc\uc640 \ud074\ub798\uc2a4 \uba54\uc18c\ub4dc \u00bb Apollo89.com](http://apollo89.com/wordpress/?p=2426)"
     ]
    },
    {
     "cell_type": "code",
     "collapsed": false,
     "input": [
      "class InstanceManager:\n",
      "    cnt = 0\n",
      "    \n",
      "    def __init__(self):\n",
      "        InstanceManager.cnt += 1\n",
      "        \n",
      "    def s_print_count():\n",
      "        print('instance count: ' + str(InstanceManager.cnt))\n",
      "    sprintcount = staticmethod(s_print_count)"
     ],
     "language": "python",
     "metadata": {},
     "outputs": [],
     "prompt_number": 141
    },
    {
     "cell_type": "code",
     "collapsed": false,
     "input": [
      "a = InstanceManager()"
     ],
     "language": "python",
     "metadata": {},
     "outputs": [],
     "prompt_number": 142
    },
    {
     "cell_type": "code",
     "collapsed": false,
     "input": [
      "InstanceManager.s_print_count()"
     ],
     "language": "python",
     "metadata": {},
     "outputs": [
      {
       "output_type": "stream",
       "stream": "stdout",
       "text": [
        "instance count: 1\n"
       ]
      }
     ],
     "prompt_number": 143
    },
    {
     "cell_type": "code",
     "collapsed": false,
     "input": [
      "a.s_print_count()"
     ],
     "language": "python",
     "metadata": {},
     "outputs": [
      {
       "ename": "TypeError",
       "evalue": "s_print_count() takes 0 positional arguments but 1 was given",
       "output_type": "pyerr",
       "traceback": [
        "\u001b[0;31m---------------------------------------------------------------------------\u001b[0m\n\u001b[0;31mTypeError\u001b[0m                                 Traceback (most recent call last)",
        "\u001b[0;32m<ipython-input-144-7bf01ecb219a>\u001b[0m in \u001b[0;36m<module>\u001b[0;34m()\u001b[0m\n\u001b[0;32m----> 1\u001b[0;31m \u001b[0ma\u001b[0m\u001b[0;34m.\u001b[0m\u001b[0ms_print_count\u001b[0m\u001b[0;34m(\u001b[0m\u001b[0;34m)\u001b[0m\u001b[0;34m\u001b[0m\u001b[0m\n\u001b[0m",
        "\u001b[0;31mTypeError\u001b[0m: s_print_count() takes 0 positional arguments but 1 was given"
       ]
      }
     ],
     "prompt_number": 144
    },
    {
     "cell_type": "code",
     "collapsed": false,
     "input": [
      "class InstanceManager:\n",
      "    cnt = 0\n",
      "    \n",
      "    def __init__(self):\n",
      "        InstanceManager.cnt += 1\n",
      "        \n",
      "    def s_print_count():\n",
      "        print('[staticmethod] instance count : ' + str(InstanceManager.cnt))\n",
      "    sprintcount = staticmethod(s_print_count)\n",
      "    \n",
      "    def c_print_count(cls):\n",
      "        print('[classmethod] instance count : ' + str(cls.cnt))\n",
      "    cprintcount = classmethod(c_print_count)"
     ],
     "language": "python",
     "metadata": {},
     "outputs": [],
     "prompt_number": 133
    },
    {
     "cell_type": "code",
     "collapsed": false,
     "input": [
      "a = InstanceManager()"
     ],
     "language": "python",
     "metadata": {},
     "outputs": [],
     "prompt_number": 134
    },
    {
     "cell_type": "code",
     "collapsed": false,
     "input": [
      "InstanceManager.sprintcount()"
     ],
     "language": "python",
     "metadata": {},
     "outputs": [
      {
       "output_type": "stream",
       "stream": "stdout",
       "text": [
        "[staticmethod] instance count : 1\n"
       ]
      }
     ],
     "prompt_number": 135
    },
    {
     "cell_type": "code",
     "collapsed": false,
     "input": [
      "a.cprintcount()"
     ],
     "language": "python",
     "metadata": {},
     "outputs": [
      {
       "output_type": "stream",
       "stream": "stdout",
       "text": [
        "[classmethod] instance count : 1\n"
       ]
      }
     ],
     "prompt_number": 136
    },
    {
     "cell_type": "code",
     "collapsed": false,
     "input": [
      "class InstanceManager:\n",
      "    cnt = 0\n",
      "    \n",
      "    def __init__(self):\n",
      "        InstanceManager.cnt += 1\n",
      "    \n",
      "    @staticmethod\n",
      "    def s_print_count():\n",
      "        print('[staticmethod] instance count : ' + str(InstanceManager.cnt))\n",
      "    \n",
      "    @classmethod\n",
      "    def c_print_count(cls):\n",
      "        print('[classmethod] instance count : ' + str(cls.cnt))"
     ],
     "language": "python",
     "metadata": {},
     "outputs": [],
     "prompt_number": 137
    },
    {
     "cell_type": "code",
     "collapsed": false,
     "input": [
      "a = InstanceManager()"
     ],
     "language": "python",
     "metadata": {},
     "outputs": [],
     "prompt_number": 138
    },
    {
     "cell_type": "code",
     "collapsed": false,
     "input": [
      "InstanceManager.s_print_count()"
     ],
     "language": "python",
     "metadata": {},
     "outputs": [
      {
       "output_type": "stream",
       "stream": "stdout",
       "text": [
        "[staticmethod] instance count : 1\n"
       ]
      }
     ],
     "prompt_number": 139
    },
    {
     "cell_type": "code",
     "collapsed": false,
     "input": [
      "a.c_print_count()"
     ],
     "language": "python",
     "metadata": {},
     "outputs": [
      {
       "output_type": "stream",
       "stream": "stdout",
       "text": [
        "[classmethod] instance count : 1\n"
       ]
      }
     ],
     "prompt_number": 140
    },
    {
     "cell_type": "markdown",
     "metadata": {},
     "source": [
      "## [decorator - What is the difference between @staticmethod and @classmethod in Python? - Stack Overflow](http://stackoverflow.com/questions/136097/what-is-the-difference-between-staticmethod-and-classmethod-in-python)"
     ]
    },
    {
     "cell_type": "code",
     "collapsed": false,
     "input": [
      "class A(object):\n",
      "    def foo(self, x):\n",
      "        print('executing foo({}, {})'.format(self, x))\n",
      "        \n",
      "    @classmethod\n",
      "    def class_foo(cls, x):\n",
      "        print('executing class_foo({}, {})'.format(cls, x))\n",
      "    \n",
      "    @staticmethod\n",
      "    def static_foo(x):\n",
      "        print('executing static_foo({})'.format(x))"
     ],
     "language": "python",
     "metadata": {},
     "outputs": [],
     "prompt_number": 79
    },
    {
     "cell_type": "code",
     "collapsed": false,
     "input": [
      "a = A()"
     ],
     "language": "python",
     "metadata": {},
     "outputs": [],
     "prompt_number": 80
    },
    {
     "cell_type": "code",
     "collapsed": false,
     "input": [
      "a.foo(1)"
     ],
     "language": "python",
     "metadata": {},
     "outputs": [
      {
       "output_type": "stream",
       "stream": "stdout",
       "text": [
        "executing foo(<__main__.A object at 0x10cd18748>, 1)\n"
       ]
      }
     ],
     "prompt_number": 81
    },
    {
     "cell_type": "code",
     "collapsed": false,
     "input": [
      "a.class_foo(1)"
     ],
     "language": "python",
     "metadata": {},
     "outputs": [
      {
       "output_type": "stream",
       "stream": "stdout",
       "text": [
        "executing class_foo(<class '__main__.A'>, 1)\n"
       ]
      }
     ],
     "prompt_number": 82
    },
    {
     "cell_type": "code",
     "collapsed": false,
     "input": [
      "# Class \uc790\uccb4\ub97c \ud638\ucd9c\ud560 \uc218\ub3c4 \uc788\uc74c\n",
      "A.class_foo(1)"
     ],
     "language": "python",
     "metadata": {},
     "outputs": [
      {
       "output_type": "stream",
       "stream": "stdout",
       "text": [
        "executing class_foo(<class '__main__.A'>, 1)\n"
       ]
      }
     ],
     "prompt_number": 83
    },
    {
     "cell_type": "code",
     "collapsed": false,
     "input": [
      "a.static_foo(1)"
     ],
     "language": "python",
     "metadata": {},
     "outputs": [
      {
       "output_type": "stream",
       "stream": "stdout",
       "text": [
        "executing static_foo(1)\n"
       ]
      }
     ],
     "prompt_number": 84
    },
    {
     "cell_type": "code",
     "collapsed": false,
     "input": [
      "A.static_foo('hi')"
     ],
     "language": "python",
     "metadata": {},
     "outputs": [
      {
       "output_type": "stream",
       "stream": "stdout",
       "text": [
        "executing static_foo(hi)\n"
       ]
      }
     ],
     "prompt_number": 85
    },
    {
     "cell_type": "code",
     "collapsed": false,
     "input": [
      "print(a.foo)"
     ],
     "language": "python",
     "metadata": {},
     "outputs": [
      {
       "output_type": "stream",
       "stream": "stdout",
       "text": [
        "<bound method A.foo of <__main__.A object at 0x10cd18748>>\n"
       ]
      }
     ],
     "prompt_number": 86
    },
    {
     "cell_type": "code",
     "collapsed": false,
     "input": [
      "print(a.class_foo)"
     ],
     "language": "python",
     "metadata": {},
     "outputs": [
      {
       "output_type": "stream",
       "stream": "stdout",
       "text": [
        "<bound method type.class_foo of <class '__main__.A'>>\n"
       ]
      }
     ],
     "prompt_number": 87
    },
    {
     "cell_type": "code",
     "collapsed": false,
     "input": [
      "print(a.static_foo)"
     ],
     "language": "python",
     "metadata": {},
     "outputs": [
      {
       "output_type": "stream",
       "stream": "stdout",
       "text": [
        "<function A.static_foo at 0x10cd1f598>\n"
       ]
      }
     ],
     "prompt_number": 88
    },
    {
     "cell_type": "markdown",
     "metadata": {},
     "source": [
      "- staticmethod: \ud074\ub798\uc2a4\uc640 \uc5f0\uad00\ub41c \ud568\uc218\ub97c \uc4f0\uae30 \uc704\ud574\uc11c. instance\uc5d0\uc11c \uc0ac\uc6a9 \ubd88\uac00\n",
      "- classmethod: \uce98\ub974\uc2a4\uc5d0 \ub530\ub77c \uacb0\uacfc\uac12\uc774 \ub2ec\ub77c\uc9d0. instance\uc5d0\uc11c \uc0ac\uc6a9 \uac00\ub2a5"
     ]
    },
    {
     "cell_type": "markdown",
     "metadata": {},
     "source": [
      "## [PythonEngine: \ud30c\uc774\uc36c \ud074\ub798\uc2a4 staticmethod vs classmethod](http://pyengine.blogspot.kr/2011/08/staticmethod-vs-classmethod.html)\n",
      "\n",
      "- staticmethod\ub294 C++\uc758 \uadf8\uac83\uacfc \ub3d9\uc77c\ud568\n",
      "- **class\ub294 \uadf8\ub0e5 \uc774\ub984\ub9cc \ube4c\ub824\uc900 \uac83**\uc774\uace0 **\uc77c\uc885\uc758 namespace\ub85c \ud568\uc218\ub97c \uad6c\ud604**\ud558\ub294 \uac83\n",
      "- instance\uc5d0\uc11c\ub294 \uc2e4\ud589\ub418\uc9c0 \uc54a\ub294\ub2e4.\n",
      "- \uc544\ub798\uc640 \uac19\uc774 \uc77c\uc885\uc758 utility task\ub4e4\uc744 \ud55c\ucabd\uc5d0 \ubab0\uc544\ub123\uace0 \uc4f8\ub370\ub098"
     ]
    },
    {
     "cell_type": "code",
     "collapsed": false,
     "input": [
      "class UTIL:\n",
      "    @staticmethod\n",
      "    def addtask(a, b):\n",
      "        return a+b"
     ],
     "language": "python",
     "metadata": {},
     "outputs": [],
     "prompt_number": 1
    },
    {
     "cell_type": "code",
     "collapsed": false,
     "input": [
      "x = UTIL.addtask(1, 4)\n",
      "x"
     ],
     "language": "python",
     "metadata": {},
     "outputs": [
      {
       "metadata": {},
       "output_type": "pyout",
       "prompt_number": 3,
       "text": [
        "5"
       ]
      }
     ],
     "prompt_number": 3
    },
    {
     "cell_type": "markdown",
     "metadata": {},
     "source": [
      "- \ub610\ub294 **init \uad6c\ubb38**\uc73c\ub85c \ub9ce\uc774 \uc0ac\uc6a9\ud568\n",
      "- init \uad6c\ubb38\uc774 \ubcf5\uc218\uac1c\ub85c \ub4e4\uc5b4\uac00\ub294 \uacbd\uc6b0, \uc77c\uc885\uc758 \ud3b8\ubc95\uc73c\ub85c \uc0dd\uc131\uc744 \ud574\uc11c \uc790\uae30\uc790\uc2e0\uc744 \ub9ac\ud134\ud568\n",
      "- \uc544\ub798\uac00 \uc88b\uc740 \uc608\uc81c"
     ]
    },
    {
     "cell_type": "code",
     "collapsed": false,
     "input": [
      "import time\n",
      "\n",
      "class Date(object):\n",
      "    def __init__(self, year, month, day):\n",
      "        self.year = year\n",
      "        self.month = month\n",
      "        self.day = day\n",
      "        \n",
      "    @staticmethod\n",
      "    def now():\n",
      "        t = time.localtime()\n",
      "        return Date(t.tm_year, t.tm_mon, t.tm_mday)"
     ],
     "language": "python",
     "metadata": {},
     "outputs": [],
     "prompt_number": 7
    },
    {
     "cell_type": "code",
     "collapsed": false,
     "input": [
      "#example\n",
      "a = Date(2011, 8, 14)\n",
      "a"
     ],
     "language": "python",
     "metadata": {},
     "outputs": [
      {
       "metadata": {},
       "output_type": "pyout",
       "prompt_number": 8,
       "text": [
        "<__main__.Date at 0x10daf1a90>"
       ]
      }
     ],
     "prompt_number": 8
    },
    {
     "cell_type": "code",
     "collapsed": false,
     "input": [
      "a.year"
     ],
     "language": "python",
     "metadata": {},
     "outputs": [
      {
       "metadata": {},
       "output_type": "pyout",
       "prompt_number": 19,
       "text": [
        "2011"
       ]
      }
     ],
     "prompt_number": 19
    },
    {
     "cell_type": "code",
     "collapsed": false,
     "input": [
      "a.month"
     ],
     "language": "python",
     "metadata": {},
     "outputs": [
      {
       "metadata": {},
       "output_type": "pyout",
       "prompt_number": 20,
       "text": [
        "8"
       ]
      }
     ],
     "prompt_number": 20
    },
    {
     "cell_type": "code",
     "collapsed": false,
     "input": [
      "a.day"
     ],
     "language": "python",
     "metadata": {},
     "outputs": [
      {
       "metadata": {},
       "output_type": "pyout",
       "prompt_number": 18,
       "text": [
        "14"
       ]
      }
     ],
     "prompt_number": 18
    },
    {
     "cell_type": "code",
     "collapsed": false,
     "input": [
      "b = Date.now()\n",
      "b"
     ],
     "language": "python",
     "metadata": {},
     "outputs": [
      {
       "metadata": {},
       "output_type": "pyout",
       "prompt_number": 11,
       "text": [
        "<__main__.Date at 0x10daf1d30>"
       ]
      }
     ],
     "prompt_number": 11
    },
    {
     "cell_type": "code",
     "collapsed": false,
     "input": [
      "b.year"
     ],
     "language": "python",
     "metadata": {},
     "outputs": [
      {
       "metadata": {},
       "output_type": "pyout",
       "prompt_number": 21,
       "text": [
        "2014"
       ]
      }
     ],
     "prompt_number": 21
    },
    {
     "cell_type": "code",
     "collapsed": false,
     "input": [
      "b.month"
     ],
     "language": "python",
     "metadata": {},
     "outputs": [
      {
       "metadata": {},
       "output_type": "pyout",
       "prompt_number": 22,
       "text": [
        "10"
       ]
      }
     ],
     "prompt_number": 22
    },
    {
     "cell_type": "code",
     "collapsed": false,
     "input": [
      "b.day"
     ],
     "language": "python",
     "metadata": {},
     "outputs": [
      {
       "metadata": {},
       "output_type": "pyout",
       "prompt_number": 13,
       "text": [
        "27"
       ]
      }
     ],
     "prompt_number": 13
    },
    {
     "cell_type": "markdown",
     "metadata": {},
     "source": [
      "- **classmethod**\ub294 \uc778\uc790\ub85c **\ud074\ub798\uc2a4 \uc790\uae30\uc790\uc2e0**\uc744 \ubc1b\uac8c \ub428. \uad00\uc2b5\uc801\uc73c\ub85c cls\ub77c\uace0 \ud45c\uae30\ub97c \ud568\n",
      "- \uadf8\ub798\uc11c **instance\uc5d0\uc11c \ud638\ucd9c**\uc744 \ud558\uba74, **class\uc744 \uc778\uc790\ub85c \ub118\uaca8\uc8fc\uac8c \ub428**"
     ]
    },
    {
     "cell_type": "code",
     "collapsed": false,
     "input": [
      "class Times(object):\n",
      "    factor = 1\n",
      "    \n",
      "    @classmethod\n",
      "    def mul(cls, x):\n",
      "        return cls.factor * x\n",
      "    \n",
      "class TwoTimes(Times):\n",
      "    factor = 2"
     ],
     "language": "python",
     "metadata": {},
     "outputs": [],
     "prompt_number": 23
    },
    {
     "cell_type": "code",
     "collapsed": false,
     "input": [
      "x = TwoTimes.mul(4)\n",
      "x"
     ],
     "language": "python",
     "metadata": {},
     "outputs": [
      {
       "metadata": {},
       "output_type": "pyout",
       "prompt_number": 25,
       "text": [
        "8"
       ]
      }
     ],
     "prompt_number": 25
    },
    {
     "cell_type": "code",
     "collapsed": false,
     "input": [
      "Times.factor"
     ],
     "language": "python",
     "metadata": {},
     "outputs": [
      {
       "metadata": {},
       "output_type": "pyout",
       "prompt_number": 27,
       "text": [
        "1"
       ]
      }
     ],
     "prompt_number": 27
    },
    {
     "cell_type": "code",
     "collapsed": false,
     "input": [
      "TwoTimes.factor"
     ],
     "language": "python",
     "metadata": {},
     "outputs": [
      {
       "metadata": {},
       "output_type": "pyout",
       "prompt_number": 28,
       "text": [
        "2"
       ]
      }
     ],
     "prompt_number": 28
    },
    {
     "cell_type": "markdown",
     "metadata": {},
     "source": [
      "- \uc774 \ub458\uc740 \ub370\ucf54\ub808\uc774\ud130\ub85c \uad6c\ud604\uc774 \ub418\uc5b4 \uc788\uc2b5\ub2c8\ub2e4."
     ]
    },
    {
     "cell_type": "markdown",
     "metadata": {},
     "source": [
      "## [\uac1c\ubc1c\uc790\uc758 \ud558\ub8e8 :: \ud30c\uc774\uc36c (Python) \uc815\uc801 \uba54\uc18c\ub4dc (Static Method) vs. \ud074\ub798\uc2a4 \uba54\uc18c\ub4dc (Class Method)](http://devday.tistory.com/2691)\n",
      "\n",
      "- \ud30c\uc774\uc36c\uc5d0\ub3c4 C++\ub098 \uc790\ubc14\uc758 \uc815\uc801 \uba54\uc18c\ub4dc\uc5d0 \ud574\ub2f9\ud558\ub294 \uc815\uc801 \uba54\uc18c\ub4dc\uac00 \uc874\uc7ac\ud558\uace0 \ub3d9\uc77c\ud55c \uc5ed\ud560\uc744 \ud568\n",
      "- \ud558\uc9c0\ub9cc \uc815\uc801 \uba54\uc18c\ub4dc\uc640 \uc720\uc0ac\ud55c \ud074\ub798\uc2a4 \uba54\uc18c\ub4dc\ub3c4 \uc874\uc7ac\ud568\n",
      "- \ucc28\uc774\ub294 \ud074\ub798\uc2a4 \uba54\uc18c\ub4dc\ub294 \uccab\ubc88\uc9f8 \uc778\uc790\ub85c \ud074\ub798\uc2a4 \uac1d\uccb4\uac00 \uc790\ub3d9\uc73c\ub85c \uc804\ub2ec\ub41c\ub2e4\ub294 \uac83\n",
      "- \uac1d\uccb4 \uba54\uc18c\ub4dc\uc5d0\uc11c \uccab\ubc88\uc9f8 \uc778\uc790\ub85c \uc778\uc2a4\ud134\uc2a4 \uac1d\uccb4\uac00 \uc790\ub3d9\uc73c\ub85c \uc804\ub2ec\ub418\ub294 \uac83\uacfc \uac19\uc74c\n",
      "- \ub0b4\ubd80\uc801\uc73c\ub85c Currying\ub41c \uac83\n",
      "- \ub2e4\uc74c\uc740 \uac1d\uccb4 \uba54\uc18c\ub4dc, \ud074\ub798\uc2a4 \uba54\uc18c\ub4dc, \uc815\uc801 \uba54\uc18c\ub4dc\ub97c \ud14c\uc2a4\ud2b8\ud558\ub294 \ucf54\ub4dc"
     ]
    },
    {
     "cell_type": "code",
     "collapsed": false,
     "input": [
      "class A(object):\n",
      "    def foo(self, x):\n",
      "        print(self, x)\n",
      "        \n",
      "    @classmethod\n",
      "    def class_foo(cls, x):\n",
      "        print(cls, x)\n",
      "        \n",
      "    @staticmethod\n",
      "    def static_foo(x):\n",
      "        print(x)"
     ],
     "language": "python",
     "metadata": {},
     "outputs": [],
     "prompt_number": 29
    },
    {
     "cell_type": "code",
     "collapsed": false,
     "input": [
      "a = A()"
     ],
     "language": "python",
     "metadata": {},
     "outputs": [],
     "prompt_number": 30
    },
    {
     "cell_type": "code",
     "collapsed": false,
     "input": [
      "print(a.foo)"
     ],
     "language": "python",
     "metadata": {},
     "outputs": [
      {
       "output_type": "stream",
       "stream": "stdout",
       "text": [
        "<bound method A.foo of <__main__.A object at 0x10daee6a0>>\n"
       ]
      }
     ],
     "prompt_number": 31
    },
    {
     "cell_type": "code",
     "collapsed": false,
     "input": [
      "a.foo(100)"
     ],
     "language": "python",
     "metadata": {},
     "outputs": [
      {
       "output_type": "stream",
       "stream": "stdout",
       "text": [
        "<__main__.A object at 0x10daee6a0> 100\n"
       ]
      }
     ],
     "prompt_number": 32
    },
    {
     "cell_type": "code",
     "collapsed": false,
     "input": [
      "print(A.class_foo)"
     ],
     "language": "python",
     "metadata": {},
     "outputs": [
      {
       "output_type": "stream",
       "stream": "stdout",
       "text": [
        "<bound method type.class_foo of <class '__main__.A'>>\n"
       ]
      }
     ],
     "prompt_number": 34
    },
    {
     "cell_type": "code",
     "collapsed": false,
     "input": [
      "A.class_foo(100)"
     ],
     "language": "python",
     "metadata": {},
     "outputs": [
      {
       "output_type": "stream",
       "stream": "stdout",
       "text": [
        "<class '__main__.A'> 100\n"
       ]
      }
     ],
     "prompt_number": 35
    },
    {
     "cell_type": "code",
     "collapsed": false,
     "input": [
      "print(A.static_foo)"
     ],
     "language": "python",
     "metadata": {},
     "outputs": [
      {
       "output_type": "stream",
       "stream": "stdout",
       "text": [
        "<function A.static_foo at 0x10dadae18>\n"
       ]
      }
     ],
     "prompt_number": 36
    },
    {
     "cell_type": "code",
     "collapsed": false,
     "input": [
      "A.static_foo(100)"
     ],
     "language": "python",
     "metadata": {},
     "outputs": [
      {
       "output_type": "stream",
       "stream": "stdout",
       "text": [
        "100\n"
       ]
      }
     ],
     "prompt_number": 37
    },
    {
     "cell_type": "markdown",
     "metadata": {},
     "source": [
      "- \uadf8\ub807\ub2e4\uba74 \uc804\ub2ec\ubc1b\uc740 \ud074\ub798\uc2a4 \uac1d\uccb4\ub97c \ud65c\uc6a9\ud560\ub9cc\ud55c Use Case\uac00 \ubb58\uae4c?\n",
      "- \ud55c \uc608\ub85c inheritable alternative constructor \uc0dd\uc131 \uc2dc\uc5d0 \uc0ac\uc6a9\ud55c\ub2e4\uace0 \ud568"
     ]
    },
    {
     "cell_type": "markdown",
     "metadata": {},
     "source": [
      "## [oop - Python @classmethod and @staticmethod for beginner? - Stack Overflow](http://stackoverflow.com/questions/12179271/python-classmethod-and-staticmethod-for-beginner)\n",
      "\n",
      "- \uad49\uc7a5\ud788 \uc798 \uc124\uba85\uc774 \ub418\uc5b4 \uc788\ub124.\n",
      "- \uc65c \ud568\uc218\ub97c \uc774\ub807\uac8c \ub9cc\ub4e4\uc5c8\ub294\uc9c0 ABC \uc21c\uc11c\ub85c \uc798 \ub098\ud0c0\ub098 \uc788\uc74c"
     ]
    },
    {
     "cell_type": "code",
     "collapsed": false,
     "input": [
      "class Date(object):\n",
      "    day = 0\n",
      "    month = 0\n",
      "    year = 0\n",
      "    \n",
      "    def __init__(self, day=0, month=0, year=0):\n",
      "        self.day = day\n",
      "        self.month = month\n",
      "        self.year = year"
     ],
     "language": "python",
     "metadata": {},
     "outputs": [],
     "prompt_number": 38
    },
    {
     "cell_type": "markdown",
     "metadata": {},
     "source": [
      "### Class Method"
     ]
    },
    {
     "cell_type": "code",
     "collapsed": false,
     "input": [
      "string_date = '11-09-2012'"
     ],
     "language": "python",
     "metadata": {},
     "outputs": [],
     "prompt_number": 39
    },
    {
     "cell_type": "code",
     "collapsed": false,
     "input": [
      "day, month, year = map(int, string_date.split('-'))"
     ],
     "language": "python",
     "metadata": {},
     "outputs": [],
     "prompt_number": 40
    },
    {
     "cell_type": "code",
     "collapsed": false,
     "input": [
      "date1 = Date(day, month, year)\n",
      "print(date1.day)\n",
      "print(date1.month)\n",
      "print(date1.year)"
     ],
     "language": "python",
     "metadata": {},
     "outputs": [
      {
       "output_type": "stream",
       "stream": "stdout",
       "text": [
        "11\n",
        "9\n",
        "2012\n"
       ]
      }
     ],
     "prompt_number": 44
    },
    {
     "cell_type": "code",
     "collapsed": false,
     "input": [
      "type(date1)"
     ],
     "language": "python",
     "metadata": {},
     "outputs": [
      {
       "metadata": {},
       "output_type": "pyout",
       "prompt_number": 53,
       "text": [
        "__main__.Date"
       ]
      }
     ],
     "prompt_number": 53
    },
    {
     "cell_type": "code",
     "collapsed": false,
     "input": [
      "class Date(object):\n",
      "    day = 0\n",
      "    month = 0\n",
      "    year = 0\n",
      "    \n",
      "    def __init__(self, day=0, month=0, year=0):\n",
      "        self.day = day\n",
      "        self.month = month\n",
      "        self.year = year\n",
      "        \n",
      "    @classmethod\n",
      "    def from_string(cls, date_as_string):\n",
      "        day, month, year = map(int, string_date.split('-'))\n",
      "        # cls\uac00 Date\uc774\ub2c8 __init__\ub85c date1\uc774\ub77c\ub294 instance\ub97c \ub9cc\ub4dc\ub294\uac70\ub124\n",
      "        date1 = cls(day, month, year)\n",
      "        print(type(date1))\n",
      "        return date1"
     ],
     "language": "python",
     "metadata": {},
     "outputs": [],
     "prompt_number": 54
    },
    {
     "cell_type": "code",
     "collapsed": false,
     "input": [
      "date2 = Date.from_string('11-09-2012')\n",
      "print(date2.day)\n",
      "print(date2.month)\n",
      "print(date2.year)"
     ],
     "language": "python",
     "metadata": {},
     "outputs": [
      {
       "output_type": "stream",
       "stream": "stdout",
       "text": [
        "<class '__main__.Date'>\n",
        "11\n",
        "9\n",
        "2012\n"
       ]
      }
     ],
     "prompt_number": 55
    },
    {
     "cell_type": "markdown",
     "metadata": {},
     "source": [
      "#### Date \ud074\ub798\uc2a4\uc758 classmethod \ud574\uc11d\n",
      "\n",
      "- day, month, year\ub85c \ub098\ub208\ub2e4. \uc65c\ub0d0\ud558\uba74 Date\ub77c\ub294 \ud074\ub798\uc2a4\uc5d0\uc11c instance\ub97c \ud560\ub2f9\ud558\uae30 \uc704\ud574\uc11c\ub294 \uc778\uc790 3\uac1c\uac00 \ud544\uc694\ud558\uae30 \ub54c\ubb38\uc5d0\n",
      "- cls\ub294 Date \ud074\ub798\uc2a4\ub2e4.\n",
      "- cls(day, month, year) == Date(day, month, year)\n",
      "- date1\uc740 Date\ud074\ub798\uc2a4\uc758 instance\n",
      "- \uadf8\uac78 \ub2e4\uc2dc \ub3cc\ub824\uc900\ub2e4.\n",
      "\n",
      "\n",
      "- from_string\uc5d0\uc11c \ucd94\ucd9c\ud558\uace0 \ub2e4\uc2dc init\uc744 \ud638\ucd9c\ud558\uae30 \uc704\ud55c \uc0ac\uc804 \uc791\uc5c5\uc73c\ub85c \uc0dd\uac01\ud558\uba74 \uc88b\uaca0\ub2e4."
     ]
    },
    {
     "cell_type": "code",
     "collapsed": false,
     "input": [
      "# map \ud568\uc218 test\n",
      "a, b = map(int, [5, 4])\n",
      "print(a)\n",
      "print(b)"
     ],
     "language": "python",
     "metadata": {},
     "outputs": [
      {
       "output_type": "stream",
       "stream": "stdout",
       "text": [
        "5\n",
        "4\n"
       ]
      }
     ],
     "prompt_number": 56
    },
    {
     "cell_type": "markdown",
     "metadata": {},
     "source": [
      "### Static Method"
     ]
    },
    {
     "cell_type": "code",
     "collapsed": false,
     "input": [
      "class Date(object):\n",
      "    day = 0\n",
      "    month = 0\n",
      "    year = 0\n",
      "    \n",
      "    def __init__(self, day=0, month=0, year=0):\n",
      "        self.day = day\n",
      "        self.month = month\n",
      "        self.year = year\n",
      "        \n",
      "    @classmethod\n",
      "    def from_string(cls, date_as_string):\n",
      "        day, month, year = map(int, string_date.split('-'))\n",
      "        # cls\uac00 Date\uc774\ub2c8 __init__\ub85c date1\uc774\ub77c\ub294 instance\ub97c \ub9cc\ub4dc\ub294\uac70\ub124\n",
      "        date1 = cls(day, month, year)\n",
      "        print(type(date1))\n",
      "        return date1\n",
      "    \n",
      "    @staticmethod\n",
      "    def is_date_valid(date_as_string):\n",
      "        day, month, year = map(int, date_as_string.split('-'))\n",
      "        return day <= 31 and month <=12 and year <= 3999"
     ],
     "language": "python",
     "metadata": {},
     "outputs": [],
     "prompt_number": 57
    },
    {
     "cell_type": "code",
     "collapsed": false,
     "input": [
      "Date.is_date_valid('11-09-2012')"
     ],
     "language": "python",
     "metadata": {},
     "outputs": [
      {
       "metadata": {},
       "output_type": "pyout",
       "prompt_number": 58,
       "text": [
        "True"
       ]
      }
     ],
     "prompt_number": 58
    },
    {
     "cell_type": "markdown",
     "metadata": {},
     "source": [
      "- Static Method\ub294 class\ub97c \uac74\ub4dc\ub9ac\uc9c0 \uc54a\ub294\ub2e4. \uadf8\ub0e5 \ud568\uc218\ub2e4. \ub2e8\uc9c0 \ud074\ub798\uc2a4 \uc548\uc5d0 \uc788\ub294 \ud568\uc218"
     ]
    }
   ],
   "metadata": {}
  }
 ]
}